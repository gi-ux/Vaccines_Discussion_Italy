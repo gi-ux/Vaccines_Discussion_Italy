{
 "cells": [
  {
   "cell_type": "code",
   "execution_count": 1,
   "metadata": {},
   "outputs": [],
   "source": [
    "import numpy as np\n",
    "import matplotlib.pyplot as plt\n",
    "import pandas as pd\n",
    "import seaborn as sns\n",
    "import time\n",
    "import re\n",
    "import networkx as nx\n",
    "from operator import itemgetter\n",
    "import warnings\n",
    "from tqdm.notebook import tqdm\n",
    "import glob\n",
    "warnings.filterwarnings('ignore')"
   ]
  },
  {
   "cell_type": "markdown",
   "metadata": {},
   "source": [
    "# Indice"
   ]
  },
  {
   "cell_type": "markdown",
   "metadata": {},
   "source": [
    "- [Load Data](#load)\n",
    "- [General info](#gi)\n",
    "- [URLs](#urls)\n",
    "- [Credibility](#cred)\n",
    "- [Coordinated account](#coord)"
   ]
  },
  {
   "cell_type": "markdown",
   "metadata": {},
   "source": [
    "### Functions"
   ]
  },
  {
   "cell_type": "code",
   "execution_count": 2,
   "metadata": {},
   "outputs": [],
   "source": [
    "def get_list_by_keyword(subject, keyword):\n",
    "    list_by_key = []\n",
    "    indices = [i for i, x in enumerate(subject.split()) if keyword in x]\n",
    "    if len(indices) == 0:\n",
    "        return None\n",
    "    list_by_key = [None] * len(indices)\n",
    "    for idx in range(len(indices)):\n",
    "        list_by_key[idx] = subject.split()[int(indices[idx]+1)].replace(\"'\", \"\").replace(\",\", \"\")\n",
    "    return list_by_key"
   ]
  },
  {
   "cell_type": "markdown",
   "metadata": {},
   "source": [
    "### Load data\n",
    "<a id=\"load\"/>"
   ]
  },
  {
   "cell_type": "code",
   "execution_count": 3,
   "metadata": {},
   "outputs": [
    {
     "data": {
      "text/plain": [
       "['C:/Users/gianl/Desktop/Gi/Supsi/MartaLauraGiada/Marta/Tweets\\\\2020-01.parquet',\n",
       " 'C:/Users/gianl/Desktop/Gi/Supsi/MartaLauraGiada/Marta/Tweets\\\\2020-02-1.parquet',\n",
       " 'C:/Users/gianl/Desktop/Gi/Supsi/MartaLauraGiada/Marta/Tweets\\\\2020-02-2.parquet',\n",
       " 'C:/Users/gianl/Desktop/Gi/Supsi/MartaLauraGiada/Marta/Tweets\\\\2020-03-1.parquet',\n",
       " 'C:/Users/gianl/Desktop/Gi/Supsi/MartaLauraGiada/Marta/Tweets\\\\2020-03-2.parquet',\n",
       " 'C:/Users/gianl/Desktop/Gi/Supsi/MartaLauraGiada/Marta/Tweets\\\\2020-04-1.parquet',\n",
       " 'C:/Users/gianl/Desktop/Gi/Supsi/MartaLauraGiada/Marta/Tweets\\\\2020-04-2.parquet',\n",
       " 'C:/Users/gianl/Desktop/Gi/Supsi/MartaLauraGiada/Marta/Tweets\\\\2020-05-1.parquet',\n",
       " 'C:/Users/gianl/Desktop/Gi/Supsi/MartaLauraGiada/Marta/Tweets\\\\2020-05-2.parquet',\n",
       " 'C:/Users/gianl/Desktop/Gi/Supsi/MartaLauraGiada/Marta/Tweets\\\\2020-05-3.parquet']"
      ]
     },
     "execution_count": 3,
     "metadata": {},
     "output_type": "execute_result"
    }
   ],
   "source": [
    "path = 'C:/Users/gianl/Desktop/Gi/Supsi/MartaLauraGiada/Marta/Tweets/'\n",
    "files = glob.glob(path + \"202*\")\n",
    "files"
   ]
  },
  {
   "cell_type": "code",
   "execution_count": 6,
   "metadata": {},
   "outputs": [
    {
     "data": {
      "application/vnd.jupyter.widget-view+json": {
       "model_id": "3bcabb39bfab4fbe95ae3ec0a4851344",
       "version_major": 2,
       "version_minor": 0
      },
      "text/plain": [
       "HBox(children=(HTML(value=''), FloatProgress(value=0.0, max=10.0), HTML(value='')))"
      ]
     },
     "metadata": {},
     "output_type": "display_data"
    },
    {
     "name": "stdout",
     "output_type": "stream",
     "text": [
      "\n"
     ]
    }
   ],
   "source": [
    "original = pd.DataFrame()\n",
    "count_o = 0\n",
    "reply = pd.DataFrame()\n",
    "count_r = 0\n",
    "retweet = pd.DataFrame()\n",
    "count_rt = 0\n",
    "quote = pd.DataFrame()\n",
    "count_q = 0\n",
    "for i in tqdm(files):\n",
    "    df = pd.read_parquet(i, engine=\"fastparquet\")\n",
    "    original = original.append(df[df[\"in_reply_to_screen_name\"].isna() & df[\"rt_created_at\"].isna() & df[\"quoted_status_id\"].isna()])\n",
    "    reply = reply.append(df[df[\"in_reply_to_user_id\"].notna() & df[\"quoted_status_id\"].isna()])\n",
    "    retweet = retweet.append(df[df[\"rt_created_at\"].notna()])\n",
    "    quote = quote.append(df[df[\"quoted_status_id\"].notna() & df[\"rt_created_at\"].isna()])\n",
    "    if len(original) >= int(5e6):\n",
    "        original.to_parquet(path + f\"original_{count_o}.parquet\", index=False)\n",
    "        original = pd.DataFrame()\n",
    "        count_o = count_o + 1\n",
    "    if len(reply) >= int(5e6):\n",
    "        reply.to_parquet(path + f\"reply_{count_r}.parquet\", index=False)\n",
    "        reply = pd.DataFrame()\n",
    "        count_r = count_r + 1\n",
    "    if len(retweet) >= int(5e6):\n",
    "        retweet.to_parquet(path + f\"retweet_{count_rt}.parquet\", index=False)\n",
    "        retweet = pd.DataFrame()\n",
    "        count_rt = count_rt + 1\n",
    "    if len(quote) >= int(5e6):\n",
    "        quote.to_parquet(path + f\"quote{count_q}.parquet\", index=False)\n",
    "        quote = pd.DataFrame()\n",
    "        count_q = count_q + 1\n",
    "original.to_parquet(path + f\"original_{count_o}.parquet\", index=False)\n",
    "reply.to_parquet(path + f\"reply_{count_r}.parquet\", index=False)\n",
    "retweet.to_parquet(path + f\"retweet_{count_rt}.parquet\", index=False)\n",
    "quote.to_parquet(path + f\"quote{count_q}.parquet\", index=False)        "
   ]
  },
  {
   "cell_type": "code",
   "execution_count": null,
   "metadata": {},
   "outputs": [],
   "source": [
    "original = 0\n",
    "retweet = 0\n",
    "quote = 0\n",
    "reply = 0\n",
    "media = pd.DataFrame()\n",
    "cont = 0\n",
    "for i in tqdm(files):\n",
    "    cont = cont + 1\n",
    "    df = pd.read_parquet(i, engine=\"fastparquet\")\n",
    "    media = media.append(df.loc[(df['urls'] != '[]') & \n",
    "                             (df['urls'] is not None) & \n",
    "                             (\"https://twitter.com/\" not in df['urls'])][[\"user_screen_name\",\n",
    "                                                                          \"created_at\", \"urls\"]])\n",
    "    print(len(media))\n",
    "    if cont == 5:\n",
    "        media.to_csv(f\"C:/Users/gianl/Desktop/Gi/Supsi/MartaLauraGiada/Marta/Tweets/urls_{cont}.csv\",\n",
    "            line_terminator=\"\\n\",\n",
    "            encoding=\"utf-8\", \n",
    "            index=False)\n",
    "        media = pd.DataFrame()"
   ]
  },
  {
   "cell_type": "code",
   "execution_count": null,
   "metadata": {},
   "outputs": [],
   "source": [
    "media.to_csv(f\"C:/Users/gianl/Desktop/Gi/Supsi/MartaLauraGiada/Marta/Tweets/urls_1.csv\",\n",
    "            line_terminator=\"\\n\",\n",
    "            encoding=\"utf-8\", \n",
    "            index=False)"
   ]
  },
  {
   "cell_type": "code",
   "execution_count": null,
   "metadata": {},
   "outputs": [],
   "source": [
    "media.info()"
   ]
  },
  {
   "cell_type": "markdown",
   "metadata": {},
   "source": [
    "### General Info\n",
    "<a id=\"gi\"/>"
   ]
  },
  {
   "cell_type": "code",
   "execution_count": null,
   "metadata": {},
   "outputs": [],
   "source": [
    "total = original + reply + retweet + quote\n",
    "print(f\"Number of total tweets: {total}\")\n",
    "print(f\"Number of original tweets: {original}\")\n",
    "print(f\"Number of reply: {reply}\")\n",
    "print(f\"Number of retweet: {retweet}\")\n",
    "print(f\"Number of quote: {quote}\")"
   ]
  },
  {
   "cell_type": "code",
   "execution_count": null,
   "metadata": {},
   "outputs": [],
   "source": [
    "fig = plt.figure(figsize=(10, 5))\n",
    "ax = fig.add_subplot(111)\n",
    "ax.bar(np.arange(4), np.asarray([original, retweet, reply, quote])*(100/total))\n",
    "ax.set_xticks(np.arange(4))\n",
    "ax.set_xticklabels(['tweets', 'retweets', 'replies', 'quotes'])\n",
    "ax.set_ylabel('%')\n",
    "ax.yaxis.grid(True)\n",
    "ax.set_ylim([0,100])\n",
    "ax.set_title('Distribution of Tweets')\n",
    "#plt.savefig('files/plots/tweets_division')\n",
    "plt.show()"
   ]
  },
  {
   "cell_type": "markdown",
   "metadata": {},
   "source": [
    "## Urls\n",
    "<a id=\"urls\"/>"
   ]
  },
  {
   "cell_type": "code",
   "execution_count": 4,
   "metadata": {},
   "outputs": [
    {
     "name": "stdout",
     "output_type": "stream",
     "text": [
      "Reading 1: ...\n",
      "Reading 2: ...\n",
      "Done!\n"
     ]
    }
   ],
   "source": [
    "path = \"C:/Users/gianl/Desktop/Gi/Supsi/MartaLauraGiada/Marta/Files/\"\n",
    "print(\"Reading 1: ...\")\n",
    "urls_0 = pd.read_csv(path + \"urls_0.csv\",lineterminator=\"\\n\",low_memory=False)\n",
    "print(\"Reading 2: ...\")\n",
    "urls_1 = pd.read_csv(path + \"urls_1.csv\",lineterminator=\"\\n\",low_memory=False)\n",
    "print(\"Done!\")"
   ]
  },
  {
   "cell_type": "code",
   "execution_count": 7,
   "metadata": {},
   "outputs": [],
   "source": [
    "urls = pd.concat([urls_0, urls_1])\n",
    "# urls[\"domains\"] = value"
   ]
  },
  {
   "cell_type": "code",
   "execution_count": 8,
   "metadata": {},
   "outputs": [
    {
     "data": {
      "application/vnd.jupyter.widget-view+json": {
       "model_id": "e8742bb2b88d4972ad1650c1572e48aa",
       "version_major": 2,
       "version_minor": 0
      },
      "text/plain": [
       "HBox(children=(HTML(value=''), FloatProgress(value=0.0, max=16044278.0), HTML(value='')))"
      ]
     },
     "metadata": {},
     "output_type": "display_data"
    },
    {
     "name": "stdout",
     "output_type": "stream",
     "text": [
      "\n"
     ]
    }
   ],
   "source": [
    "value = []\n",
    "for i in tqdm(urls[\"urls\"]):\n",
    "    try:\n",
    "        url_exp = i.split(\" \")\n",
    "        lst_inside = []\n",
    "        for exp in range(len(url_exp)):\n",
    "            if url_exp[exp] == \"'expanded_url':\":\n",
    "                lst_inside.append(url_exp[exp+1][1:-2])\n",
    "        value.append(lst_inside)\n",
    "    except:\n",
    "        value.append(\"[]\")"
   ]
  },
  {
   "cell_type": "code",
   "execution_count": 9,
   "metadata": {},
   "outputs": [],
   "source": [
    "def extract_domain_list(url_list):\n",
    "    domain_list = []\n",
    "    cont = 0\n",
    "    for url in tqdm(url_list):\n",
    "        cont = cont + 1\n",
    "        inside = []\n",
    "        if url == \"[]\":\n",
    "            domain_list.append(\"[]\")\n",
    "        else:\n",
    "            for i in url:\n",
    "                try:\n",
    "                    x = i.split(\"/\")[2]\n",
    "                except:\n",
    "                    x = \"[]\"\n",
    "                if \"www.\" in x:\n",
    "                    x = x[4:]\n",
    "                inside.append(x)\n",
    "            domain_list.append(inside)\n",
    "    return domain_list"
   ]
  },
  {
   "cell_type": "code",
   "execution_count": 10,
   "metadata": {},
   "outputs": [
    {
     "data": {
      "application/vnd.jupyter.widget-view+json": {
       "model_id": "bcf47f24e72e437bbbd065bbb62eada3",
       "version_major": 2,
       "version_minor": 0
      },
      "text/plain": [
       "HBox(children=(HTML(value=''), FloatProgress(value=0.0, max=16044278.0), HTML(value='')))"
      ]
     },
     "metadata": {},
     "output_type": "display_data"
    },
    {
     "name": "stdout",
     "output_type": "stream",
     "text": [
      "\n"
     ]
    }
   ],
   "source": [
    "x = extract_domain_list(value)"
   ]
  },
  {
   "cell_type": "code",
   "execution_count": 20,
   "metadata": {},
   "outputs": [
    {
     "data": {
      "application/vnd.jupyter.widget-view+json": {
       "model_id": "beb059b48f5e448ab8e2d7810e079526",
       "version_major": 2,
       "version_minor": 0
      },
      "text/plain": [
       "HBox(children=(HTML(value=''), FloatProgress(value=0.0, max=16044278.0), HTML(value='')))"
      ]
     },
     "metadata": {},
     "output_type": "display_data"
    },
    {
     "name": "stdout",
     "output_type": "stream",
     "text": [
      "\n"
     ]
    }
   ],
   "source": [
    "lst = []\n",
    "for i in tqdm(x):\n",
    "    lst.append(len(i))"
   ]
  },
  {
   "cell_type": "code",
   "execution_count": 21,
   "metadata": {},
   "outputs": [],
   "source": [
    "urls[\"domains\"] = x\n",
    "urls[\"number_of_url\"] = lst"
   ]
  },
  {
   "cell_type": "code",
   "execution_count": 24,
   "metadata": {},
   "outputs": [],
   "source": [
    "urls.to_csv(\"C:/Users/gianl/Desktop/Gi/Supsi/MartaLauraGiada/Marta/Files/urls_expanded.csv\", \n",
    "            index=False, line_terminator=\"\\n\", encoding=\"utf-8\")"
   ]
  },
  {
   "cell_type": "markdown",
   "metadata": {},
   "source": [
    "## Domain Credibility\n",
    "<a id=\"cred\"/>"
   ]
  },
  {
   "cell_type": "code",
   "execution_count": 3,
   "metadata": {},
   "outputs": [
    {
     "data": {
      "application/vnd.jupyter.widget-view+json": {
       "model_id": "72e141416bd0473ab5e5b7820f95f202",
       "version_major": 2,
       "version_minor": 0
      },
      "text/plain": [
       "HBox(children=(HTML(value=''), FloatProgress(value=1.0, bar_style='info', layout=Layout(width='20px'), max=1.0…"
      ]
     },
     "metadata": {},
     "output_type": "display_data"
    },
    {
     "name": "stdout",
     "output_type": "stream",
     "text": [
      "\n"
     ]
    }
   ],
   "source": [
    "lst_df = []\n",
    "for chunk in tqdm(pd.read_csv(\"C:/Users/gianl/Desktop/Gi/Supsi/MartaLauraGiada/Marta/Files/urls_expanded.csv\", \n",
    "                  lineterminator=\"\\n\", low_memory=False, encoding=\"utf-8\", chunksize=int(5e6))):\n",
    "    lst_df.append(chunk)"
   ]
  },
  {
   "cell_type": "code",
   "execution_count": 5,
   "metadata": {},
   "outputs": [],
   "source": [
    "path_cred = \"C:/Users/gianl/Desktop/Gi/Supsi/MartaLauraGiada/\""
   ]
  },
  {
   "cell_type": "code",
   "execution_count": 6,
   "metadata": {},
   "outputs": [],
   "source": [
    "wider_cred_sources_df = pd.read_csv(path_cred+'final_urls.csv')\n",
    "high_cred_df = wider_cred_sources_df[wider_cred_sources_df['credibility'] == 'high']\n",
    "high_cred_df.drop_duplicates(inplace=True)\n",
    "low_cred_df = wider_cred_sources_df[wider_cred_sources_df['credibility'] == 'low']\n",
    "low_cred_df.drop_duplicates(inplace=True)"
   ]
  },
  {
   "cell_type": "code",
   "execution_count": 7,
   "metadata": {},
   "outputs": [],
   "source": [
    "social_media_df = pd.read_excel(path_cred+'social_media_sources.xlsx')\n",
    "social_media_df.drop_duplicates(inplace=True)"
   ]
  },
  {
   "cell_type": "code",
   "execution_count": 10,
   "metadata": {},
   "outputs": [],
   "source": [
    "low_cred_df = low_cred_df.rename(columns={\"url\": \"LOW\"})\n",
    "high_cred_df = high_cred_df.rename(columns={\"url\": \"HIGH\"})"
   ]
  },
  {
   "cell_type": "code",
   "execution_count": 14,
   "metadata": {},
   "outputs": [
    {
     "name": "stdout",
     "output_type": "stream",
     "text": [
      "Iterazione 0\n"
     ]
    },
    {
     "data": {
      "application/vnd.jupyter.widget-view+json": {
       "model_id": "c024c81178904fcc88224c716bdc7717",
       "version_major": 2,
       "version_minor": 0
      },
      "text/plain": [
       "HBox(children=(HTML(value=''), FloatProgress(value=1.0, bar_style='info', layout=Layout(width='20px'), max=1.0…"
      ]
     },
     "metadata": {},
     "output_type": "display_data"
    },
    {
     "name": "stdout",
     "output_type": "stream",
     "text": [
      "\n",
      "Iterazione 1\n"
     ]
    },
    {
     "data": {
      "application/vnd.jupyter.widget-view+json": {
       "model_id": "9c48d917a9ab49bd8079ff32ae3edf97",
       "version_major": 2,
       "version_minor": 0
      },
      "text/plain": [
       "HBox(children=(HTML(value=''), FloatProgress(value=1.0, bar_style='info', layout=Layout(width='20px'), max=1.0…"
      ]
     },
     "metadata": {},
     "output_type": "display_data"
    },
    {
     "name": "stdout",
     "output_type": "stream",
     "text": [
      "\n",
      "Iterazione 2\n"
     ]
    },
    {
     "data": {
      "application/vnd.jupyter.widget-view+json": {
       "model_id": "056951a025214f2d9170a87c8138992b",
       "version_major": 2,
       "version_minor": 0
      },
      "text/plain": [
       "HBox(children=(HTML(value=''), FloatProgress(value=1.0, bar_style='info', layout=Layout(width='20px'), max=1.0…"
      ]
     },
     "metadata": {},
     "output_type": "display_data"
    },
    {
     "name": "stdout",
     "output_type": "stream",
     "text": [
      "\n",
      "Iterazione 3\n"
     ]
    },
    {
     "data": {
      "application/vnd.jupyter.widget-view+json": {
       "model_id": "daf3866d34684d50b725b5aa52b9fa25",
       "version_major": 2,
       "version_minor": 0
      },
      "text/plain": [
       "HBox(children=(HTML(value=''), FloatProgress(value=1.0, bar_style='info', layout=Layout(width='20px'), max=1.0…"
      ]
     },
     "metadata": {},
     "output_type": "display_data"
    },
    {
     "name": "stdout",
     "output_type": "stream",
     "text": [
      "\n"
     ]
    }
   ],
   "source": [
    "low = list(low_cred_df[\"LOW\"])\n",
    "high = list(high_cred_df[\"HIGH\"])\n",
    "social = list(social_media_df[\"SOCIAL-MEDIA\"])\n",
    "val = 0\n",
    "for tweets_with_urls in lst_df:\n",
    "    list_of_low = []\n",
    "    list_of_high = []\n",
    "    list_of_unkw = []\n",
    "    list_of_social = []\n",
    "    print(f\"Iterazione {val}\")\n",
    "    for row in tqdm(tweets_with_urls.itertuples()):\n",
    "        value_low = 0\n",
    "        value_high = 0\n",
    "        value_unk= 0\n",
    "        value_social = 0\n",
    "        for domain in row.domains:\n",
    "            if domain in low:\n",
    "                value_low = value_low + 1 \n",
    "            elif domain in high:\n",
    "                value_high = value_high + 1\n",
    "            elif domain in social:\n",
    "                value_social = value_social + 1\n",
    "            else:\n",
    "                value_unk = value_unk+ 1\n",
    "        list_of_low.append(value_low)\n",
    "        list_of_high.append(value_high)\n",
    "        list_of_unkw.append(value_unk)\n",
    "        list_of_social.append(value_social)\n",
    "    lst_df[val]['LOW'] = list_of_low\n",
    "    lst_df[val]['HIGH'] = list_of_high\n",
    "    lst_df[val]['UNKW'] = list_of_unkw\n",
    "    lst_df[val]['SOCIAL'] = list_of_social\n",
    "    val = val + 1\n"
   ]
  },
  {
   "cell_type": "code",
   "execution_count": null,
   "metadata": {},
   "outputs": [],
   "source": [
    "tweets_with_urls['LOW'] = list_of_low\n",
    "tweets_with_urls['HIGH'] = list_of_high\n",
    "tweets_with_urls['UNKW'] = list_of_unkw\n",
    "tweets_with_urls['SOCIAL'] = list_of_social"
   ]
  },
  {
   "cell_type": "code",
   "execution_count": null,
   "metadata": {},
   "outputs": [],
   "source": [
    "tweets_with_urls[tweets_with_urls['number_of_urls']>8][['number_of_urls','HIGH','LOW','UNKW','SOCIAL']]"
   ]
  },
  {
   "cell_type": "code",
   "execution_count": null,
   "metadata": {},
   "outputs": [],
   "source": [
    "# distribution of scores\n",
    "plt.hist(list(sum_of_urls_df_10['conspiracy_score']), bins=9, alpha=0.7)\n",
    "plt.xlabel('conspiracy_score')\n",
    "plt.ylabel('No. of users')\n",
    "plt.title('Distribution of conspiracy_score', weight='bold')\n",
    "#plt.savefig('plots/dist', bbox_inches='tight')\n",
    "plt.show()"
   ]
  },
  {
   "cell_type": "markdown",
   "metadata": {},
   "source": [
    "## Coordinated accounts\n",
    "<a id=\"coord\"/>"
   ]
  },
  {
   "cell_type": "code",
   "execution_count": null,
   "metadata": {},
   "outputs": [],
   "source": [
    "retweets['created_at'] = pd.to_datetime(retweets['created_at'], format='%a %b %d %H:%M:%S %z %Y')\n",
    "retweets['rt_created_at'] = pd.to_datetime(retweets['rt_created_at'], format='%a %b %d %H:%M:%S %z %Y')"
   ]
  },
  {
   "cell_type": "code",
   "execution_count": null,
   "metadata": {},
   "outputs": [],
   "source": [
    "retweets['seconds_retweet'] = (retweets['rt_created_at']-retweets['created_at']).astype('timedelta64[s]')"
   ]
  },
  {
   "cell_type": "code",
   "execution_count": null,
   "metadata": {},
   "outputs": [],
   "source": [
    "#to delete\n",
    "consecutive_retweets = retweets"
   ]
  },
  {
   "cell_type": "code",
   "execution_count": null,
   "metadata": {},
   "outputs": [],
   "source": [
    "#filter on retweet where rt_created_at-created_at<=10\n",
    "seconds = 10\n",
    "consecutive_retweets = retweets[retweets['seconds_retweet']<=seconds]"
   ]
  },
  {
   "cell_type": "code",
   "execution_count": null,
   "metadata": {},
   "outputs": [],
   "source": [
    "consecutive_retweets[['user_screen_name','rt_user_screen_name']].head(10)"
   ]
  },
  {
   "cell_type": "code",
   "execution_count": null,
   "metadata": {},
   "outputs": [],
   "source": [
    "retweets['rt_user_screen_name'] = retweets['rt_user_screen_name'].str.lower()"
   ]
  },
  {
   "cell_type": "code",
   "execution_count": null,
   "metadata": {},
   "outputs": [],
   "source": [
    "#count number of retweets of the same user made by the another user and maintain only where count>=2\n",
    "retweets_threshold = 2\n",
    "consecutive_retweets_count = consecutive_retweets.groupby(['user_screen_name','rt_user_screen_name']).size().reset_index(name='counts')\n",
    "consecutive_retweets_count = consecutive_retweets_count[consecutive_retweets_count['counts']>=retweets_threshold]\n",
    "consecutive_retweets_count.sort_values(by='counts', ascending=False)"
   ]
  },
  {
   "cell_type": "code",
   "execution_count": null,
   "metadata": {},
   "outputs": [],
   "source": [
    "consecutive_retweets_graph = nx.from_pandas_edgelist(consecutive_retweets_count,'user_screen_name','rt_user_screen_name', create_using=nx.DiGraph(), edge_attr='counts')\n",
    "print(nx.info(consecutive_retweets_graph))"
   ]
  },
  {
   "cell_type": "code",
   "execution_count": null,
   "metadata": {},
   "outputs": [],
   "source": [
    "isolated_nodes = list(nx.isolates(consecutive_retweets_graph))\n",
    "print('Isoleted nodes:',len(isolated_nodes))"
   ]
  },
  {
   "cell_type": "code",
   "execution_count": null,
   "metadata": {},
   "outputs": [],
   "source": [
    "nx.set_node_attributes(consecutive_retweets_graph, score_dict, \"c_score\")"
   ]
  },
  {
   "cell_type": "code",
   "execution_count": null,
   "metadata": {},
   "outputs": [],
   "source": [
    "consecutive_retweets_count['rt_user_screen_name'] = consecutive_retweets_count['rt_user_screen_name'].str.lower()"
   ]
  },
  {
   "cell_type": "code",
   "execution_count": null,
   "metadata": {},
   "outputs": [],
   "source": [
    "print('Strongly connected: ',nx.is_strongly_connected(consecutive_retweets_graph))"
   ]
  },
  {
   "cell_type": "code",
   "execution_count": null,
   "metadata": {},
   "outputs": [],
   "source": [
    "print('Number of connected components: ',nx.number_strongly_connected_components(consecutive_retweets_graph))\n",
    "print('Number of non connected components: ',len(nx.nodes(consecutive_retweets_graph))-nx.number_strongly_connected_components(consecutive_retweets_graph))"
   ]
  },
  {
   "cell_type": "code",
   "execution_count": null,
   "metadata": {},
   "outputs": [],
   "source": [
    "# Extract the giant connected component\n",
    "Gcc = sorted((consecutive_retweets_graph.subgraph(c) for c in nx.strongly_connected_components(consecutive_retweets_graph)), key = len,reverse=True)[0]\n",
    "print(\"Number of nodes in the Gcc graph: \")\n",
    "print(len(Gcc.nodes()))\n",
    "print(\"Number of edges in the Gcc graph: \")\n",
    "print(len(Gcc.edges()))"
   ]
  },
  {
   "cell_type": "code",
   "execution_count": null,
   "metadata": {},
   "outputs": [],
   "source": [
    "# # plot the scale free graph\n",
    "G = Gcc\n",
    "pos = nx.drawing.layout.circular_layout(G) # compute graph layout\n",
    "plt.figure(figsize=(10, 10)) \n",
    "plt.axis('off')\n",
    "nx.draw_networkx_nodes(G, pos, node_size=600,node_color=\"green\",alpha=0.3)\n",
    "nx.draw_networkx_edges(G, pos, alpha=1)\n",
    "nx.draw_networkx_labels(G,pos)\n",
    "plt.show(G)"
   ]
  },
  {
   "cell_type": "code",
   "execution_count": null,
   "metadata": {},
   "outputs": [],
   "source": [
    "self_retweet = consecutive_retweets_count[consecutive_retweets_count['user_screen_name']==consecutive_retweets_count['rt_user_screen_name']]\n",
    "self_retweet.sort_values(by='counts', ascending=False)"
   ]
  },
  {
   "cell_type": "code",
   "execution_count": null,
   "metadata": {},
   "outputs": [],
   "source": [
    "self_retweet_graph = nx.from_pandas_edgelist(self_retweet,'user_screen_name','rt_user_screen_name', create_using=nx.DiGraph(), edge_attr='counts')\n",
    "print(nx.info(self_retweet_graph))"
   ]
  },
  {
   "cell_type": "code",
   "execution_count": null,
   "metadata": {},
   "outputs": [],
   "source": [
    "consecutive_retweets_graph.remove_edges_from(nx.selfloop_edges(consecutive_retweets_graph))"
   ]
  },
  {
   "cell_type": "code",
   "execution_count": null,
   "metadata": {},
   "outputs": [],
   "source": [
    "k_core = nx.k_core(consecutive_retweets_graph, k=None, core_number=None)\n",
    "print(nx.info(k_core))"
   ]
  },
  {
   "cell_type": "markdown",
   "metadata": {},
   "source": [
    "#### Urls to tweets network"
   ]
  },
  {
   "cell_type": "code",
   "execution_count": null,
   "metadata": {},
   "outputs": [],
   "source": [
    "tweets_with_urls_twitter.head()"
   ]
  },
  {
   "cell_type": "code",
   "execution_count": null,
   "metadata": {},
   "outputs": [],
   "source": [
    "tweets_with_urls_twitter = tweets_with_urls_twitter[tweets_with_urls_twitter['twitter_username']!='i']\n",
    "tweets_with_urls_twitter.head()"
   ]
  },
  {
   "cell_type": "code",
   "execution_count": null,
   "metadata": {},
   "outputs": [],
   "source": [
    "tweets_with_urls_twitter['twitter_username'] = tweets_with_urls_twitter['twitter_username'].str.lower()"
   ]
  },
  {
   "cell_type": "code",
   "execution_count": null,
   "metadata": {},
   "outputs": [],
   "source": [
    "url_to_twitter_graph = nx.from_pandas_edgelist(tweets_with_urls_twitter, 'user_screen_name', 'twitter_username',create_using=nx.DiGraph())\n",
    "print(nx.info(url_to_twitter_graph))"
   ]
  },
  {
   "cell_type": "code",
   "execution_count": null,
   "metadata": {},
   "outputs": [],
   "source": [
    "degrees = [val for (node, val) in url_to_twitter_graph.degree()]\n",
    "\n",
    "print(f\"The maximum degree of the Graph is {np.max(degrees)}\")   \n",
    "print(f\"The minimum degree of the Graph is {np.min(degrees)}\")\n",
    "\n",
    "out_degrees = [val for (node, val) in url_to_twitter_graph.out_degree()]\n",
    "\n",
    "print(f\"The maximum out_degree of the Graph is {np.max(out_degrees)}\")   \n",
    "print(f\"The minimum out_degree of the Graph is {np.min(out_degrees)}\")\n",
    "\n",
    "in_degrees = [val for (node, val) in url_to_twitter_graph.in_degree()]\n",
    "\n",
    "print(f\"The maximum in_degree of the Graph is {np.max(in_degrees)}\")   \n",
    "print(f\"The minimum in_degree of the Graph is {np.min(in_degrees)}\")"
   ]
  },
  {
   "cell_type": "code",
   "execution_count": null,
   "metadata": {},
   "outputs": [],
   "source": [
    "url_to_twitter_indegree_list = list(url_to_twitter_graph.in_degree(url_to_twitter_graph.nodes()))\n",
    "df_indegree = pd.DataFrame(url_to_twitter_indegree_list, columns=['user_screen_name','url_to_twitter_in_degree'])\n",
    "users_info = users_info.merge(df_indegree, how='left',on='user_screen_name')"
   ]
  },
  {
   "cell_type": "code",
   "execution_count": null,
   "metadata": {},
   "outputs": [],
   "source": [
    "url_to_twitter_outdegree_list = list(url_to_twitter_graph.out_degree(url_to_twitter_graph.nodes()))\n",
    "df_outdegree = pd.DataFrame(url_to_twitter_outdegree_list, columns=['user_screen_name','url_to_twitter_out_degree'])\n",
    "users_info = users_info.merge(df_outdegree, how='left',on='user_screen_name')"
   ]
  },
  {
   "cell_type": "code",
   "execution_count": null,
   "metadata": {},
   "outputs": [],
   "source": [
    "tweets_with_hashtags['max_hashtags']=tweets_with_hashtags.groupby(['user_screen_name'])['number_of_hashtags'].transform(max)"
   ]
  },
  {
   "cell_type": "code",
   "execution_count": null,
   "metadata": {},
   "outputs": [],
   "source": [
    "hashtags_df = tweets_with_hashtags.drop_duplicates(['user_screen_name'])[['user_screen_name','max_hashtags']]"
   ]
  },
  {
   "cell_type": "code",
   "execution_count": null,
   "metadata": {},
   "outputs": [],
   "source": [
    "users_info = users_info.merge(hashtags_df, how='left',on='user_screen_name')"
   ]
  },
  {
   "cell_type": "code",
   "execution_count": null,
   "metadata": {},
   "outputs": [],
   "source": [
    "def get_set_of_hashtags_per_user(hashtag_list):\n",
    "    set_of_hashtags = list(set([item for sublist in hashtag_list for item in sublist]))\n",
    "    return set_of_hashtags"
   ]
  },
  {
   "cell_type": "code",
   "execution_count": null,
   "metadata": {},
   "outputs": [],
   "source": [
    "func = tweets_with_hashtags.groupby(\"user_screen_name\").apply(lambda x: get_set_of_hashtags_per_user(x.hashtag_list))\n",
    "users_info['set_hashtags'] = users_info['user_screen_name'].map(func)\n",
    "##"
   ]
  },
  {
   "cell_type": "code",
   "execution_count": null,
   "metadata": {},
   "outputs": [],
   "source": [
    "users_info.head()"
   ]
  },
  {
   "cell_type": "code",
   "execution_count": null,
   "metadata": {},
   "outputs": [],
   "source": [
    "users_many_hashtags = users_info[users_info['max_hashtags']>20]"
   ]
  },
  {
   "cell_type": "code",
   "execution_count": null,
   "metadata": {},
   "outputs": [],
   "source": [
    "hashtags_users_many_hashtags = users_many_hashtags['set_hashtags']\n",
    "list_hashtags_users_many_hashtags = [item for sublist in hashtags_users_many_hashtags for item in sublist]"
   ]
  },
  {
   "cell_type": "code",
   "execution_count": null,
   "metadata": {},
   "outputs": [],
   "source": [
    "from collections import Counter\n",
    "count_common_hashtags = Counter(list_hashtags_users_many_hashtags)\n",
    "count_common_hashtags_sort = dict(sorted(count_common_hashtags.items(), key=lambda item: item[1], reverse=True))"
   ]
  },
  {
   "cell_type": "code",
   "execution_count": null,
   "metadata": {},
   "outputs": [],
   "source": [
    "len(count_common_hashtags_sort)"
   ]
  },
  {
   "cell_type": "code",
   "execution_count": null,
   "metadata": {},
   "outputs": [],
   "source": [
    "plt.subplots(figsize=(15,10))\n",
    "plt.barh(list(count_common_hashtags_sort.keys())[:50], list(count_common_hashtags_sort.values())[:50], 2, color='g')"
   ]
  },
  {
   "cell_type": "code",
   "execution_count": null,
   "metadata": {},
   "outputs": [],
   "source": [
    "tweets_with_urls['max_urls']=tweets_with_urls.groupby(['user_screen_name'])['number_of_urls'].transform(max)\n",
    "urls_df = tweets_with_urls.drop_duplicates(['user_screen_name'])[['user_screen_name','max_urls']]\n",
    "users_info = users_info.merge(urls_df, how='left',on='user_screen_name')"
   ]
  },
  {
   "cell_type": "code",
   "execution_count": null,
   "metadata": {},
   "outputs": [],
   "source": [
    "users_info.info(null_counts=True)"
   ]
  },
  {
   "cell_type": "code",
   "execution_count": null,
   "metadata": {},
   "outputs": [],
   "source": [
    "corr = users_info.corr()\n",
    "corr"
   ]
  },
  {
   "cell_type": "code",
   "execution_count": null,
   "metadata": {},
   "outputs": [],
   "source": [
    "fig = plt.figure(figsize=(10,8))\n",
    "ax = fig.add_subplot(111)\n",
    "sns.heatmap(corr, annot=True, ax=ax)"
   ]
  },
  {
   "cell_type": "code",
   "execution_count": null,
   "metadata": {},
   "outputs": [],
   "source": [
    "users_info.sort_values(by='followers_count',ascending=False)[:20]"
   ]
  },
  {
   "cell_type": "code",
   "execution_count": null,
   "metadata": {},
   "outputs": [],
   "source": [
    "users_info_cosp_0 = users_info[users_info['conspiracy_score']==0]\n",
    "users_info_cosp_1 = users_info[users_info['conspiracy_score']>0]\n",
    "print('Number of users conspiracy_score==0: ',len(users_info_cosp_0[users_info_cosp_0['followers_count']<=30000]))\n",
    "print('Number of users conspiracy_score>0: ',len(users_info_cosp_1[users_info_cosp_1['followers_count']<=30000]))\n",
    "\n",
    "fig, axes = plt.subplots(nrows=1, ncols=2, figsize=(20, 7)) \n",
    "\n",
    "axes[0].hist(users_info_cosp_0[users_info_cosp_0['followers_count']<=30000]['followers_count'], bins=50)\n",
    "axes[1].hist(users_info_cosp_1[users_info_cosp_1['followers_count']<=30000]['followers_count'], bins=25)\n",
    "\n",
    "#axes[0].set_xlim(0,200000)\n",
    "#axes[1].set_xlim(0,40000)\n",
    "\n",
    "axes[0].set_xlabel('Followers')\n",
    "axes[1].set_xlabel('Followers')\n",
    "axes[0].set_ylabel('Count')\n",
    "axes[1].set_ylabel('Count')\n",
    "axes[0].set_title('followers conspiracy_score==0')\n",
    "axes[1].set_title('followers conspiracy_score>0')\n",
    "axes[0].set_xlim(0,30000)\n",
    "axes[1].set_xlim(0,30000)\n",
    "axes[0].set_ylim(0,150)\n",
    "axes[1].set_ylim(0,150)\n",
    "#plt.ylabel('F1score')\n",
    "#plt.ylim([0, 1])\n",
    "#plt.title('Low resolution dataset: F1-score lrt=1e-4')\n",
    "#plt.savefig(path_plot+'f1score_lrt=1e-4_all_classes', bbox_inches='tight')\n",
    "plt.show()"
   ]
  },
  {
   "cell_type": "code",
   "execution_count": null,
   "metadata": {},
   "outputs": [],
   "source": [
    "users_info_cosp_0 = users_info[users_info['conspiracy_score']==0]\n",
    "users_info_cosp_1 = users_info[users_info['conspiracy_score']>0]\n",
    "print(len(users_info_cosp_0[users_info_cosp_0['retweets_in_degree'].notna()]))\n",
    "print(len(users_info_cosp_1[users_info_cosp_1['retweets_in_degree'].notna()]))"
   ]
  },
  {
   "cell_type": "code",
   "execution_count": null,
   "metadata": {},
   "outputs": [],
   "source": [
    "print(len(users_info_cosp_0[users_info_cosp_0['retweets_in_degree']<=1000]))\n",
    "print(len(users_info_cosp_1[users_info_cosp_1['retweets_in_degree']<=1000]))"
   ]
  },
  {
   "cell_type": "code",
   "execution_count": null,
   "metadata": {},
   "outputs": [],
   "source": [
    "users_info_cosp_0 = users_info[users_info['conspiracy_score']==0]\n",
    "users_info_cosp_1 = users_info[users_info['conspiracy_score']>0]\n",
    "print('Number of users conspiracy_score==0: ',len(users_info_cosp_0[users_info_cosp_0['retweets_in_degree']<=1000]))\n",
    "print('Number of users conspiracy_score>0: ',len(users_info_cosp_1[users_info_cosp_1['retweets_in_degree']<=1000]))\n",
    "\n",
    "fig, axes = plt.subplots(nrows=1, ncols=2, figsize=(20, 7)) \n",
    "\n",
    "axes[0].hist(users_info_cosp_0[users_info_cosp_0['retweets_in_degree']<=1000]['retweets_in_degree'], bins=100)\n",
    "axes[1].hist(users_info_cosp_1[users_info_cosp_1['retweets_in_degree']<=1000]['retweets_in_degree'], bins=50)\n",
    "\n",
    "#axes[0].set_xlim(0,200000)\n",
    "#axes[1].set_xlim(0,40000)\n",
    "\n",
    "axes[0].set_xlabel('retweets_in_degree')\n",
    "axes[1].set_xlabel('retweets_in_degree')\n",
    "axes[0].set_ylabel('Count')\n",
    "axes[1].set_ylabel('Count')\n",
    "axes[0].set_title('retweets_in_degree conspiracy_score==0')\n",
    "axes[1].set_title('retweets_in_degree conspiracy_score>0')\n",
    "axes[0].set_xlim(0,1000)\n",
    "axes[1].set_xlim(0,1000)\n",
    "axes[0].set_ylim(0,600)\n",
    "axes[1].set_ylim(0,600)\n",
    "#plt.ylabel('F1score')\n",
    "#plt.ylim([0, 1])\n",
    "#plt.title('Low resolution dataset: F1-score lrt=1e-4')\n",
    "#plt.savefig(path_plot+'f1score_lrt=1e-4_all_classes', bbox_inches='tight')\n",
    "plt.show()"
   ]
  },
  {
   "cell_type": "code",
   "execution_count": null,
   "metadata": {},
   "outputs": [],
   "source": [
    "print(len(users_info_cosp_0[users_info_cosp_0['retweets_out_degree'].notna()]))\n",
    "print(len(users_info_cosp_1[users_info_cosp_1['retweets_out_degree'].notna()]))"
   ]
  },
  {
   "cell_type": "code",
   "execution_count": null,
   "metadata": {},
   "outputs": [],
   "source": [
    "print(len(users_info_cosp_0[users_info_cosp_0['retweets_out_degree']<=250]))\n",
    "print(len(users_info_cosp_1[users_info_cosp_1['retweets_out_degree']<=250]))"
   ]
  },
  {
   "cell_type": "code",
   "execution_count": null,
   "metadata": {},
   "outputs": [],
   "source": [
    "users_info_cosp_0 = users_info[users_info['conspiracy_score']==0]\n",
    "users_info_cosp_1 = users_info[users_info['conspiracy_score']>0]\n",
    "print('Number of users conspiracy_score==0: ',len(users_info_cosp_0[users_info_cosp_0['retweets_out_degree']<=250]))\n",
    "print('Number of users conspiracy_score>0.5: ',len(users_info_cosp_1[users_info_cosp_1['retweets_out_degree']<=250]))\n",
    "\n",
    "fig, axes = plt.subplots(nrows=1, ncols=2, figsize=(20, 7)) \n",
    "\n",
    "axes[0].hist(users_info_cosp_0[users_info_cosp_0['retweets_out_degree']<=250]['retweets_out_degree'], bins=100)\n",
    "axes[1].hist(users_info_cosp_1[users_info_cosp_1['retweets_out_degree']<=250]['retweets_out_degree'], bins=50)\n",
    "\n",
    "#axes[0].set_xlim(0,200000)\n",
    "#axes[1].set_xlim(0,40000)\n",
    "\n",
    "axes[0].set_xlabel('retweets_out_degree')\n",
    "axes[1].set_xlabel('retweets_out_degree')\n",
    "axes[0].set_ylabel('Count')\n",
    "axes[1].set_ylabel('Count')\n",
    "axes[0].set_title('retweets_out_degree conspiracy_score==0')\n",
    "axes[1].set_title('retweets_out_degree conspiracy_score>0')\n",
    "axes[0].set_xlim(0,250)\n",
    "axes[1].set_xlim(0,250)\n",
    "axes[0].set_ylim(0,250)\n",
    "axes[1].set_ylim(0,250)\n",
    "#plt.ylabel('F1score')\n",
    "#plt.ylim([0, 1])\n",
    "#plt.title('Low resolution dataset: F1-score lrt=1e-4')\n",
    "#plt.savefig(path_plot+'f1score_lrt=1e-4_all_classes', bbox_inches='tight')\n",
    "plt.show()"
   ]
  },
  {
   "cell_type": "code",
   "execution_count": null,
   "metadata": {},
   "outputs": [],
   "source": [
    "print(len(users_info_cosp_0[users_info_cosp_0['number_of_retweets'].notna()]))\n",
    "print(len(users_info_cosp_1[users_info_cosp_1['number_of_retweets'].notna()]))"
   ]
  },
  {
   "cell_type": "code",
   "execution_count": null,
   "metadata": {},
   "outputs": [],
   "source": [
    "print(len(users_info_cosp_0[users_info_cosp_0['number_of_retweets']<=500]))\n",
    "print(len(users_info_cosp_1[users_info_cosp_1['number_of_retweets']<=500]))"
   ]
  },
  {
   "cell_type": "code",
   "execution_count": null,
   "metadata": {},
   "outputs": [],
   "source": [
    "users_info_cosp_0 = users_info[users_info['conspiracy_score']==0]\n",
    "users_info_cosp_1 = users_info[users_info['conspiracy_score']>0]\n",
    "print('Number of users conspiracy_score==0: ',len(users_info_cosp_0[users_info_cosp_0['number_of_retweets']<=500]))\n",
    "print('Number of users conspiracy_score>0: ',len(users_info_cosp_1[users_info_cosp_1['number_of_retweets']<=500]))\n",
    "\n",
    "fig, axes = plt.subplots(nrows=1, ncols=2, figsize=(20, 7)) \n",
    "\n",
    "axes[0].hist(users_info_cosp_0[users_info_cosp_0['number_of_retweets']<=500]['number_of_retweets'], bins=100)\n",
    "axes[1].hist(users_info_cosp_1[users_info_cosp_1['number_of_retweets']<=500]['number_of_retweets'], bins=50)\n",
    "\n",
    "#axes[0].set_xlim(0,200000)\n",
    "#axes[1].set_xlim(0,40000)\n",
    "\n",
    "axes[0].set_xlabel('number_of_retweets')\n",
    "axes[1].set_xlabel('number_of_retweets')\n",
    "axes[0].set_ylabel('Count')\n",
    "axes[1].set_ylabel('Count')\n",
    "axes[0].set_title('number_of_retweets conspiracy_score==0')\n",
    "axes[1].set_title('number_of_retweets conspiracy_score>0')\n",
    "axes[0].set_xlim(0,500)\n",
    "axes[1].set_xlim(0,500)\n",
    "axes[0].set_ylim(0,125)\n",
    "axes[1].set_ylim(0,125)\n",
    "#plt.ylabel('F1score')\n",
    "#plt.ylim([0, 1])\n",
    "#plt.title('Low resolution dataset: F1-score lrt=1e-4')\n",
    "#plt.savefig(path_plot+'f1score_lrt=1e-4_all_classes', bbox_inches='tight')\n",
    "plt.show()"
   ]
  }
 ],
 "metadata": {
  "kernelspec": {
   "display_name": "Python 3",
   "language": "python",
   "name": "python3"
  },
  "language_info": {
   "codemirror_mode": {
    "name": "ipython",
    "version": 3
   },
   "file_extension": ".py",
   "mimetype": "text/x-python",
   "name": "python",
   "nbconvert_exporter": "python",
   "pygments_lexer": "ipython3",
   "version": "3.8.11"
  }
 },
 "nbformat": 4,
 "nbformat_minor": 2
}
