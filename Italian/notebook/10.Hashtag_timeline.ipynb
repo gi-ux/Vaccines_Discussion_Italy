{
 "cells": [
  {
   "cell_type": "code",
   "execution_count": 10,
   "metadata": {
    "collapsed": true,
    "pycharm": {
     "name": "#%%\n"
    }
   },
   "outputs": [],
   "source": [
    "import pandas as pd\n",
    "import sys\n",
    "from tqdm.notebook import tqdm\n",
    "\n",
    "path_utils = 'C:/Users/gianl/Desktop/Gi/Supsi/Vaccines_Discussion_Italy/tweet_utils'\n",
    "sys.path.append(path_utils)\n",
    "import utils\n",
    "path_data = 'C:/Users/gianl/Desktop/Gi/Supsi/Vaccines_Discussion_Italy/Italian/files/tweets/'"
   ]
  },
  {
   "cell_type": "code",
   "execution_count": 6,
   "outputs": [
    {
     "data": {
      "text/plain": "                    id               id_str                      created_at  \\\n0  1221739084449832960  1221739084449832960  Mon Jan 27 10:17:51 +0000 2020   \n1  1221737155380293640  1221737155380293640  Mon Jan 27 10:10:11 +0000 2020   \n2  1221730009989120001  1221730009989120001  Mon Jan 27 09:41:47 +0000 2020   \n3  1221737654909382662  1221737654909382662  Mon Jan 27 10:12:10 +0000 2020   \n4  1221728980203724801  1221728980203724801  Mon Jan 27 09:37:42 +0000 2020   \n\n              user_id user_screen_name  user_verified  \\\n0           241972508     planetpaul65          False   \n1          1179711277       Grace_1207          False   \n2           115121530  MarisaMinervini          False   \n3           589884969       LecceSette          False   \n4  908731428124397568         arual812          False   \n\n                  user_created_at  \\\n0  Sun Jan 23 16:31:07 +0000 2011   \n1  Thu Feb 14 16:37:35 +0000 2013   \n2  Wed Feb 17 17:40:09 +0000 2010   \n3  Fri May 25 08:09:46 +0000 2012   \n4  Fri Sep 15 16:37:10 +0000 2017   \n\n                                                text  \\\n0  La Memoria è l’unico vaccino contro l’indiffer...   \n1  Oggi sono arrivati loro, 3 femminucce e 1 masc...   \n2  L'indifferenza è più colpevole della violenza ...   \n3  Minaccia morbillo nel Salento, Asl: \"Vaccinars...   \n4  \"Coltivare la Memoria è ancora oggi un vaccino...   \n\n                                              source coordinates  ...  \\\n0  <a href=\"http://twitter.com/download/android\" ...        None  ...   \n1  <a href=\"https://mobile.twitter.com\" rel=\"nofo...        None  ...   \n2  <a href=\"http://twitter.com/download/android\" ...        None  ...   \n3  <a href=\"https://ifttt.com\" rel=\"nofollow\">IFT...        None  ...   \n4  <a href=\"http://twitter.com/download/android\" ...        None  ...   \n\n   quoted_user_created_at                                           hashtags  \\\n0                    None  [{'text': 'GiornatadellaMemoria2020', 'indices...   \n1                    None                                                 []   \n2                    None                                                 []   \n3                    None                                                 []   \n4                    None                                                 []   \n\n   symbols                                      user_mentions  \\\n0       []  [{'screen_name': 'isentinelli', 'name': '@isen...   \n1       []  [{'screen_name': 'LidaSezOlbia', 'name': 'Lida...   \n2       []  [{'screen_name': 'milio967', 'name': 'Εμιλιο ♌...   \n3       []                                                 []   \n4       []  [{'screen_name': 'Annalisa3073', 'name': 'Anna...   \n\n                                                urls polls  \\\n0                                                 []    []   \n1                                                 []    []   \n2                                                 []    []   \n3  [{'url': 'https://t.co/CY0qiQFk6s', 'expanded_...    []   \n4                                                 []    []   \n\n                                               media  user_tweets_count  \\\n0  [{'id': 1221708229090127872, 'id_str': '122170...                NaN   \n1                                                 []                NaN   \n2                                                 []                NaN   \n3                                                 []                NaN   \n4                                                 []                NaN   \n\n   user_friends_count  user_followers_count  \n0                 NaN                   NaN  \n1                 NaN                   NaN  \n2                 NaN                   NaN  \n3                 NaN                   NaN  \n4                 NaN                   NaN  \n\n[5 rows x 49 columns]",
      "text/html": "<div>\n<style scoped>\n    .dataframe tbody tr th:only-of-type {\n        vertical-align: middle;\n    }\n\n    .dataframe tbody tr th {\n        vertical-align: top;\n    }\n\n    .dataframe thead th {\n        text-align: right;\n    }\n</style>\n<table border=\"1\" class=\"dataframe\">\n  <thead>\n    <tr style=\"text-align: right;\">\n      <th></th>\n      <th>id</th>\n      <th>id_str</th>\n      <th>created_at</th>\n      <th>user_id</th>\n      <th>user_screen_name</th>\n      <th>user_verified</th>\n      <th>user_created_at</th>\n      <th>text</th>\n      <th>source</th>\n      <th>coordinates</th>\n      <th>...</th>\n      <th>quoted_user_created_at</th>\n      <th>hashtags</th>\n      <th>symbols</th>\n      <th>user_mentions</th>\n      <th>urls</th>\n      <th>polls</th>\n      <th>media</th>\n      <th>user_tweets_count</th>\n      <th>user_friends_count</th>\n      <th>user_followers_count</th>\n    </tr>\n  </thead>\n  <tbody>\n    <tr>\n      <th>0</th>\n      <td>1221739084449832960</td>\n      <td>1221739084449832960</td>\n      <td>Mon Jan 27 10:17:51 +0000 2020</td>\n      <td>241972508</td>\n      <td>planetpaul65</td>\n      <td>False</td>\n      <td>Sun Jan 23 16:31:07 +0000 2011</td>\n      <td>La Memoria è l’unico vaccino contro l’indiffer...</td>\n      <td>&lt;a href=\"http://twitter.com/download/android\" ...</td>\n      <td>None</td>\n      <td>...</td>\n      <td>None</td>\n      <td>[{'text': 'GiornatadellaMemoria2020', 'indices...</td>\n      <td>[]</td>\n      <td>[{'screen_name': 'isentinelli', 'name': '@isen...</td>\n      <td>[]</td>\n      <td>[]</td>\n      <td>[{'id': 1221708229090127872, 'id_str': '122170...</td>\n      <td>NaN</td>\n      <td>NaN</td>\n      <td>NaN</td>\n    </tr>\n    <tr>\n      <th>1</th>\n      <td>1221737155380293640</td>\n      <td>1221737155380293640</td>\n      <td>Mon Jan 27 10:10:11 +0000 2020</td>\n      <td>1179711277</td>\n      <td>Grace_1207</td>\n      <td>False</td>\n      <td>Thu Feb 14 16:37:35 +0000 2013</td>\n      <td>Oggi sono arrivati loro, 3 femminucce e 1 masc...</td>\n      <td>&lt;a href=\"https://mobile.twitter.com\" rel=\"nofo...</td>\n      <td>None</td>\n      <td>...</td>\n      <td>None</td>\n      <td>[]</td>\n      <td>[]</td>\n      <td>[{'screen_name': 'LidaSezOlbia', 'name': 'Lida...</td>\n      <td>[]</td>\n      <td>[]</td>\n      <td>[]</td>\n      <td>NaN</td>\n      <td>NaN</td>\n      <td>NaN</td>\n    </tr>\n    <tr>\n      <th>2</th>\n      <td>1221730009989120001</td>\n      <td>1221730009989120001</td>\n      <td>Mon Jan 27 09:41:47 +0000 2020</td>\n      <td>115121530</td>\n      <td>MarisaMinervini</td>\n      <td>False</td>\n      <td>Wed Feb 17 17:40:09 +0000 2010</td>\n      <td>L'indifferenza è più colpevole della violenza ...</td>\n      <td>&lt;a href=\"http://twitter.com/download/android\" ...</td>\n      <td>None</td>\n      <td>...</td>\n      <td>None</td>\n      <td>[]</td>\n      <td>[]</td>\n      <td>[{'screen_name': 'milio967', 'name': 'Εμιλιο ♌...</td>\n      <td>[]</td>\n      <td>[]</td>\n      <td>[]</td>\n      <td>NaN</td>\n      <td>NaN</td>\n      <td>NaN</td>\n    </tr>\n    <tr>\n      <th>3</th>\n      <td>1221737654909382662</td>\n      <td>1221737654909382662</td>\n      <td>Mon Jan 27 10:12:10 +0000 2020</td>\n      <td>589884969</td>\n      <td>LecceSette</td>\n      <td>False</td>\n      <td>Fri May 25 08:09:46 +0000 2012</td>\n      <td>Minaccia morbillo nel Salento, Asl: \"Vaccinars...</td>\n      <td>&lt;a href=\"https://ifttt.com\" rel=\"nofollow\"&gt;IFT...</td>\n      <td>None</td>\n      <td>...</td>\n      <td>None</td>\n      <td>[]</td>\n      <td>[]</td>\n      <td>[]</td>\n      <td>[{'url': 'https://t.co/CY0qiQFk6s', 'expanded_...</td>\n      <td>[]</td>\n      <td>[]</td>\n      <td>NaN</td>\n      <td>NaN</td>\n      <td>NaN</td>\n    </tr>\n    <tr>\n      <th>4</th>\n      <td>1221728980203724801</td>\n      <td>1221728980203724801</td>\n      <td>Mon Jan 27 09:37:42 +0000 2020</td>\n      <td>908731428124397568</td>\n      <td>arual812</td>\n      <td>False</td>\n      <td>Fri Sep 15 16:37:10 +0000 2017</td>\n      <td>\"Coltivare la Memoria è ancora oggi un vaccino...</td>\n      <td>&lt;a href=\"http://twitter.com/download/android\" ...</td>\n      <td>None</td>\n      <td>...</td>\n      <td>None</td>\n      <td>[]</td>\n      <td>[]</td>\n      <td>[{'screen_name': 'Annalisa3073', 'name': 'Anna...</td>\n      <td>[]</td>\n      <td>[]</td>\n      <td>[]</td>\n      <td>NaN</td>\n      <td>NaN</td>\n      <td>NaN</td>\n    </tr>\n  </tbody>\n</table>\n<p>5 rows × 49 columns</p>\n</div>"
     },
     "execution_count": 6,
     "metadata": {},
     "output_type": "execute_result"
    }
   ],
   "source": [
    "tweets = pd.read_parquet(path_data + \"tweets.parquet\", engine=\"fastparquet\")\n",
    "tweets.head()"
   ],
   "metadata": {
    "collapsed": false,
    "pycharm": {
     "name": "#%%\n"
    }
   }
  },
  {
   "cell_type": "code",
   "execution_count": 7,
   "outputs": [],
   "source": [
    "tweets = tweets[[\"created_at\",\"hashtags\",\"user_screen_name\",\"urls\"]]"
   ],
   "metadata": {
    "collapsed": false,
    "pycharm": {
     "name": "#%%\n"
    }
   }
  },
  {
   "cell_type": "code",
   "execution_count": 11,
   "outputs": [
    {
     "data": {
      "text/plain": "HBox(children=(HTML(value=''), FloatProgress(value=0.0, max=4053201.0), HTML(value='')))",
      "application/vnd.jupyter.widget-view+json": {
       "version_major": 2,
       "version_minor": 0,
       "model_id": "e5ea6068b27746e6a47122db90c0b398"
      }
     },
     "metadata": {},
     "output_type": "display_data"
    },
    {
     "name": "stdout",
     "output_type": "stream",
     "text": [
      "\n"
     ]
    }
   ],
   "source": [
    "lst_dates = []\n",
    "for i in tqdm(tweets[\"created_at\"]):\n",
    "    lst_dates.append(utils.process_datetime(i))\n",
    "tweets[\"created_at\"] = lst_dates\n",
    "del lst_dates"
   ],
   "metadata": {
    "collapsed": false,
    "pycharm": {
     "name": "#%%\n"
    }
   }
  },
  {
   "cell_type": "code",
   "execution_count": 12,
   "outputs": [
    {
     "data": {
      "text/plain": "HBox(children=(HTML(value=''), FloatProgress(value=0.0, max=4053201.0), HTML(value='')))",
      "application/vnd.jupyter.widget-view+json": {
       "version_major": 2,
       "version_minor": 0,
       "model_id": "1ab68bf81f5b4935b591b024811e333c"
      }
     },
     "metadata": {},
     "output_type": "display_data"
    },
    {
     "name": "stdout",
     "output_type": "stream",
     "text": [
      "\n"
     ]
    }
   ],
   "source": [
    "lst_hashtags = utils.hashtag_process_list(list(tweets[\"hashtags\"]))\n",
    "tweets[\"hashtags\"] = lst_hashtags\n",
    "del lst_hashtags"
   ],
   "metadata": {
    "collapsed": false,
    "pycharm": {
     "name": "#%%\n"
    }
   }
  },
  {
   "cell_type": "code",
   "execution_count": 16,
   "outputs": [
    {
     "data": {
      "text/plain": "HBox(children=(HTML(value=''), FloatProgress(value=1.0, bar_style='info', layout=Layout(width='20px'), max=1.0…",
      "application/vnd.jupyter.widget-view+json": {
       "version_major": 2,
       "version_minor": 0,
       "model_id": "1262f89ef8704eb2955ee44ecbb7416b"
      }
     },
     "metadata": {},
     "output_type": "display_data"
    },
    {
     "name": "stdout",
     "output_type": "stream",
     "text": [
      "\n"
     ]
    },
    {
     "data": {
      "text/plain": "vaccino                    164083\nvaccini                    130127\ncovid19                    113561\nastrazeneca                 69977\ncoronavirus                 60842\n                            ...  \ncoriglianodotranto              1\nattestatodivaccinazione         1\nricoveriplan                    1\nlaminavagantrvx                 1\nfloridia                        1\nLength: 66876, dtype: int64"
     },
     "execution_count": 16,
     "metadata": {},
     "output_type": "execute_result"
    }
   ],
   "source": [
    "hs_count = []\n",
    "for i in tqdm(tweets.itertuples()):\n",
    "    if i.hashtags != \"[]\":\n",
    "        for j in i.hashtags:\n",
    "            hs_count.append(j.lower())\n",
    "pd.Series(hs_count).value_counts().sort_values(ascending=False)"
   ],
   "metadata": {
    "collapsed": false,
    "pycharm": {
     "name": "#%%\n"
    }
   }
  },
  {
   "cell_type": "code",
   "execution_count": 21,
   "outputs": [
    {
     "name": "stdout",
     "output_type": "stream",
     "text": [
      "0.008455178578250445\n"
     ]
    }
   ],
   "source": [
    "hs_novax = [\"iosonosano\", \"vienegiututto\", \"dittaturasanitaria\", \"iononmivaccino\", \"nessunacorrelazione\", \"pfizerdown\", \"billgates\", \"iodisobbedisco\", \"nogreenpass\",\n",
    "            \"novaccinoainovax\", \"iononsonounacavia\", \"iononmivaccinerò\", \"iononmivaccinero\"]\n",
    "count = 0\n",
    "for i in hs_count:\n",
    "    if i in hs_novax:\n",
    "        count += 1\n",
    "print(count/len(hs_count))"
   ],
   "metadata": {
    "collapsed": false,
    "pycharm": {
     "name": "#%%\n"
    }
   }
  }
 ],
 "metadata": {
  "kernelspec": {
   "display_name": "Python 3",
   "language": "python",
   "name": "python3"
  },
  "language_info": {
   "codemirror_mode": {
    "name": "ipython",
    "version": 2
   },
   "file_extension": ".py",
   "mimetype": "text/x-python",
   "name": "python",
   "nbconvert_exporter": "python",
   "pygments_lexer": "ipython2",
   "version": "2.7.6"
  }
 },
 "nbformat": 4,
 "nbformat_minor": 0
}