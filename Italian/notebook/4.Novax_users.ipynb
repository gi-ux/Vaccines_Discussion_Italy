{
 "cells": [
  {
   "cell_type": "code",
   "execution_count": 1,
   "outputs": [],
   "source": [
    "import pandas as pd"
   ],
   "metadata": {
    "collapsed": false,
    "pycharm": {
     "name": "#%%\n"
    }
   }
  },
  {
   "cell_type": "code",
   "execution_count": 3,
   "outputs": [
    {
     "data": {
      "text/plain": "   available duration                                              title  \\\n0       True    10:30  Rivelazione shock tg com24, virus cinese nato ...   \n1       True     5:23  NEW YORK TIMES \" operatrice sanitaria in terap...   \n2       True    34:40  Un Gigantesco Muro Luminoso ai Margini dell'un...   \n\n                                         description   views  likes  comments  \\\n0                                                NaN   29313    114        18   \n1                                                NaN    7646    982       217   \n2  Cosa c'è ai margini della nostra galassia? C'è...  232793   3237       189   \n\n                   channel     pubblication_date  \n0         iLMeteo OFFICIAL  2020-01-25T15:46:06Z  \n1  Dario orgoglio Italiano  2020-12-17T08:31:12Z  \n2         IL LATO POSITIVO  2022-01-16T11:30:21Z  ",
      "text/html": "<div>\n<style scoped>\n    .dataframe tbody tr th:only-of-type {\n        vertical-align: middle;\n    }\n\n    .dataframe tbody tr th {\n        vertical-align: top;\n    }\n\n    .dataframe thead th {\n        text-align: right;\n    }\n</style>\n<table border=\"1\" class=\"dataframe\">\n  <thead>\n    <tr style=\"text-align: right;\">\n      <th></th>\n      <th>available</th>\n      <th>duration</th>\n      <th>title</th>\n      <th>description</th>\n      <th>views</th>\n      <th>likes</th>\n      <th>comments</th>\n      <th>channel</th>\n      <th>pubblication_date</th>\n    </tr>\n  </thead>\n  <tbody>\n    <tr>\n      <th>0</th>\n      <td>True</td>\n      <td>10:30</td>\n      <td>Rivelazione shock tg com24, virus cinese nato ...</td>\n      <td>NaN</td>\n      <td>29313</td>\n      <td>114</td>\n      <td>18</td>\n      <td>iLMeteo OFFICIAL</td>\n      <td>2020-01-25T15:46:06Z</td>\n    </tr>\n    <tr>\n      <th>1</th>\n      <td>True</td>\n      <td>5:23</td>\n      <td>NEW YORK TIMES \" operatrice sanitaria in terap...</td>\n      <td>NaN</td>\n      <td>7646</td>\n      <td>982</td>\n      <td>217</td>\n      <td>Dario orgoglio Italiano</td>\n      <td>2020-12-17T08:31:12Z</td>\n    </tr>\n    <tr>\n      <th>2</th>\n      <td>True</td>\n      <td>34:40</td>\n      <td>Un Gigantesco Muro Luminoso ai Margini dell'un...</td>\n      <td>Cosa c'è ai margini della nostra galassia? C'è...</td>\n      <td>232793</td>\n      <td>3237</td>\n      <td>189</td>\n      <td>IL LATO POSITIVO</td>\n      <td>2022-01-16T11:30:21Z</td>\n    </tr>\n  </tbody>\n</table>\n</div>"
     },
     "execution_count": 3,
     "metadata": {},
     "output_type": "execute_result"
    }
   ],
   "source": [
    "df = pd.read_csv(r\"../script_directory_output/youtube/prova_yt.csv\")\n",
    "df"
   ],
   "metadata": {
    "collapsed": false,
    "pycharm": {
     "name": "#%%\n"
    }
   }
  },
  {
   "cell_type": "code",
   "execution_count": 6,
   "id": "dfd48a84",
   "metadata": {
    "pycharm": {
     "name": "#%%\n"
    }
   },
   "outputs": [],
   "source": [
    "import importlib\n",
    "\n",
    "import pandas as pd\n",
    "import random\n",
    "import matplotlib.pyplot as plt\n",
    "import numpy as np\n",
    "from tqdm.notebook import tqdm\n",
    "import sys\n",
    "path_utils = 'C:/Users/gianl/Desktop/Gi/Supsi/Vaccines_Discussion_Italy/tweet_utils'\n",
    "sys.path.append(path_utils)\n",
    "import utils\n",
    "path_files = \"C:/Users/gianl/Desktop/Gi/Supsi/Vaccines_Discussion_Italy/Italian/Files/\""
   ]
  },
  {
   "cell_type": "markdown",
   "id": "f21017a1",
   "metadata": {
    "pycharm": {
     "name": "#%% md\n"
    }
   },
   "source": [
    "# Obtain new Data"
   ]
  },
  {
   "cell_type": "code",
   "execution_count": 5,
   "id": "7f15a884",
   "metadata": {
    "pycharm": {
     "name": "#%%\n"
    }
   },
   "outputs": [],
   "source": [
    "tweets = pd.read_parquet(path_files + \"Tweets/tweets.parquet\", engine=\"fastparquet\")"
   ]
  },
  {
   "cell_type": "code",
   "execution_count": 6,
   "id": "b5728d50",
   "metadata": {
    "pycharm": {
     "name": "#%%\n"
    }
   },
   "outputs": [],
   "source": [
    "# novax = pd.read_csv(path_files + \"bad.csv\", lineterminator=\"\\n\", low_memory=False, encoding=\"utf-8\")\n",
    "# novax = list(novax[\"screen_name\"])"
   ]
  },
  {
   "cell_type": "code",
   "execution_count": 7,
   "id": "3e3fbc02",
   "metadata": {
    "pycharm": {
     "name": "#%%\n"
    }
   },
   "outputs": [],
   "source": [
    "# novax_df = tweets[(tweets[\"user_screen_name\"].isin(novax)) | (tweets[\"rt_user_screen_name\"].isin(novax))]\n",
    "# del tweets"
   ]
  },
  {
   "cell_type": "code",
   "execution_count": 10,
   "id": "6401f13d",
   "metadata": {
    "pycharm": {
     "name": "#%%\n"
    }
   },
   "outputs": [],
   "source": [
    "# len(novax_df)"
   ]
  },
  {
   "cell_type": "code",
   "execution_count": 9,
   "id": "fab15b8d",
   "metadata": {
    "pycharm": {
     "name": "#%%\n"
    }
   },
   "outputs": [],
   "source": [
    "# novax_df.to_csv(path_files + \"Tweets/novax_df.csv\", line_terminator=\"\\n\", index=False, encoding=\"utf-8\")"
   ]
  },
  {
   "cell_type": "code",
   "execution_count": 11,
   "id": "7496930f",
   "metadata": {
    "pycharm": {
     "name": "#%%\n"
    }
   },
   "outputs": [],
   "source": [
    "# novax_df = pd.read_csv(path_files + \"Tweets/novax_df.csv\", lineterminator=\"\\n\", low_memory=False, encoding=\"utf-8\")"
   ]
  },
  {
   "cell_type": "code",
   "execution_count": 85,
   "id": "f145df62",
   "metadata": {
    "pycharm": {
     "name": "#%%\n"
    }
   },
   "outputs": [],
   "source": [
    "# np.mean(pd.Series(novax_df[\"user_screen_name\"]).value_counts())"
   ]
  },
  {
   "cell_type": "code",
   "execution_count": 86,
   "id": "48468c22",
   "metadata": {
    "pycharm": {
     "name": "#%%\n"
    }
   },
   "outputs": [],
   "source": [
    "# louvain = pd.read_csv(path_files + \"louvain.csv\")\n",
    "# louvain"
   ]
  },
  {
   "cell_type": "code",
   "execution_count": 87,
   "id": "fc6d3106",
   "metadata": {
    "pycharm": {
     "name": "#%%\n"
    }
   },
   "outputs": [],
   "source": [
    "# deg = pd.read_csv(path_files + \"degree.csv\")\n",
    "# deg"
   ]
  },
  {
   "cell_type": "code",
   "execution_count": 88,
   "id": "6159cadf",
   "metadata": {
    "pycharm": {
     "name": "#%%\n"
    }
   },
   "outputs": [],
   "source": [
    "# users_nt = deg.merge(louvain, left_on=\"user\", right_on=\"name\", how=\"left\")[[\"user\", \"community\", \"degree\"]]\n",
    "# np.mean(users_nt[users_nt[\"user\"].isin(list(set(novax_df[\"user_screen_name\"])))][\"degree\"])"
   ]
  },
  {
   "cell_type": "code",
   "execution_count": 89,
   "id": "ab5e139e",
   "metadata": {
    "pycharm": {
     "name": "#%%\n"
    }
   },
   "outputs": [],
   "source": [
    "# setA = set(users_nt[\"user\"])\n",
    "# setB = set(novax_df[\"user_screen_name\"])\n",
    "# filtered = setA.difference(setB)\n",
    "# filtered = list(filtered)\n",
    "# filtered_df = users_nt[(users_nt[\"degree\"]>=10) & (users_nt[\"user\"].isin(filtered)) & (users_nt[\"community\"]!=4)]"
   ]
  },
  {
   "cell_type": "code",
   "execution_count": 90,
   "id": "278cb7e1",
   "metadata": {
    "pycharm": {
     "name": "#%%\n"
    }
   },
   "outputs": [],
   "source": [
    "# names = random.choices(list(filtered_df[\"user\"]), k=100)"
   ]
  },
  {
   "cell_type": "code",
   "execution_count": 91,
   "id": "4caa4d1f",
   "metadata": {
    "pycharm": {
     "name": "#%%\n"
    }
   },
   "outputs": [],
   "source": [
    "# np.mean(filtered_df[filtered_df[\"user\"].isin(names)][\"degree\"])"
   ]
  },
  {
   "cell_type": "code",
   "execution_count": 92,
   "id": "ce455b74",
   "metadata": {
    "pycharm": {
     "name": "#%%\n"
    }
   },
   "outputs": [],
   "source": [
    "# filtered_df[filtered_df[\"user\"].isin(names)]"
   ]
  },
  {
   "cell_type": "code",
   "execution_count": 93,
   "id": "c7ff364e",
   "metadata": {
    "pycharm": {
     "name": "#%%\n"
    }
   },
   "outputs": [],
   "source": [
    "# tweets = pd.read_parquet(path_files + \"Tweets/tweets.parquet\", engine=\"fastparquet\")\n",
    "# users_df = tweets[(tweets[\"user_screen_name\"].isin(names)) | (tweets[\"rt_user_screen_name\"].isin(names))]\n",
    "# del tweets\n",
    "# len(users_df)"
   ]
  },
  {
   "cell_type": "code",
   "execution_count": 94,
   "id": "0425d262",
   "metadata": {
    "pycharm": {
     "name": "#%%\n"
    }
   },
   "outputs": [],
   "source": [
    "# users_df.to_csv(path_files + \"Tweets/users_df.csv\", line_terminator=\"\\n\", index=False, encoding=\"utf-8\")\n",
    "# users_df"
   ]
  },
  {
   "cell_type": "code",
   "execution_count": 104,
   "id": "a0b9b3bc",
   "metadata": {
    "pycharm": {
     "name": "#%%\n"
    }
   },
   "outputs": [],
   "source": [
    "# users_df = pd.read_csv(path_files + \"Tweets/users_df.csv\", lineterminator=\"\\n\", low_memory=False, encoding=\"utf-8\")\n",
    "# other = pd.read_csv(path_files + \"other_users.csv\", lineterminator=\"\\n\", low_memory=False, encoding=\"utf-8\")\n",
    "# other = list(other[\"name\"])"
   ]
  },
  {
   "cell_type": "markdown",
   "id": "439c0ac6",
   "metadata": {
    "pycharm": {
     "name": "#%% md\n"
    }
   },
   "source": [
    "# Read data"
   ]
  },
  {
   "cell_type": "code",
   "execution_count": 3,
   "id": "e8dc09a7",
   "metadata": {
    "pycharm": {
     "name": "#%%\n"
    }
   },
   "outputs": [],
   "source": [
    "novax = pd.read_csv(path_files + \"bad.csv\", lineterminator=\"\\n\", low_memory=False, encoding=\"utf-8\")\n",
    "novax = list(novax[\"screen_name\"])\n",
    "novax_df = pd.read_csv(path_files + \"Tweets/novax_df.csv\", lineterminator=\"\\n\", low_memory=False, encoding=\"utf-8\")\n",
    "novax_activities = novax_df[novax_df[\"user_screen_name\"].isin(novax)]\n",
    "users_df = pd.read_csv(path_files + \"Tweets/users_df.csv\", lineterminator=\"\\n\", low_memory=False, encoding=\"utf-8\")\n",
    "other = pd.read_csv(path_files + \"other_users.csv\", lineterminator=\"\\n\", low_memory=False, encoding=\"utf-8\")\n",
    "other = list(other[\"name\"])\n",
    "users_activities = users_df[users_df[\"user_screen_name\"].isin(other)]"
   ]
  },
  {
   "cell_type": "code",
   "execution_count": 4,
   "outputs": [
    {
     "data": {
      "text/plain": "351154"
     },
     "execution_count": 4,
     "metadata": {},
     "output_type": "execute_result"
    }
   ],
   "source": [
    "len(novax_df)"
   ],
   "metadata": {
    "collapsed": false,
    "pycharm": {
     "name": "#%%\n"
    }
   }
  },
  {
   "cell_type": "markdown",
   "id": "542b0502",
   "metadata": {
    "pycharm": {
     "name": "#%% md\n"
    }
   },
   "source": [
    "# Activities"
   ]
  },
  {
   "cell_type": "code",
   "execution_count": 5,
   "id": "5b627a3d",
   "metadata": {
    "pycharm": {
     "name": "#%%\n"
    }
   },
   "outputs": [
    {
     "data": {
      "text/plain": "<Figure size 720x504 with 1 Axes>",
      "image/png": "[encoded data removed]"
     },
     "metadata": {},
     "output_type": "display_data"
    }
   ],
   "source": [
    "x = utils.split(novax_activities)\n",
    "labels = list(x.keys())\n",
    "values = list(x.values())\n",
    "utils.print_pie_chart4(\"Novax activities\", labels, values)"
   ]
  },
  {
   "cell_type": "code",
   "execution_count": 6,
   "id": "b23b0fe3",
   "metadata": {
    "pycharm": {
     "name": "#%%\n"
    }
   },
   "outputs": [
    {
     "data": {
      "text/plain": "<Figure size 720x504 with 1 Axes>",
      "image/png": "[encoded data removed]"
     },
     "metadata": {},
     "output_type": "display_data"
    }
   ],
   "source": [
    "x = utils.split(users_activities)\n",
    "labels = list(x.keys())\n",
    "values = list(x.values())\n",
    "utils.print_pie_chart4(\"User activities\", labels, values)"
   ]
  },
  {
   "cell_type": "markdown",
   "id": "5f20f760",
   "metadata": {
    "pycharm": {
     "name": "#%% md\n"
    }
   },
   "source": [
    "# Hashtags"
   ]
  },
  {
   "cell_type": "code",
   "execution_count": 116,
   "id": "4e4dc369",
   "metadata": {
    "pycharm": {
     "name": "#%%\n"
    }
   },
   "outputs": [],
   "source": [
    "# import importlib\n",
    "# importlib.reload(utils)"
   ]
  },
  {
   "cell_type": "code",
   "execution_count": 3,
   "id": "4f8eff05",
   "metadata": {
    "pycharm": {
     "name": "#%%\n"
    }
   },
   "outputs": [
    {
     "data": {
      "application/vnd.jupyter.widget-view+json": {
       "model_id": "4f95f08831a54a21a54d2560445cee16",
       "version_major": 2,
       "version_minor": 0
      },
      "text/plain": [
       "HBox(children=(HTML(value=''), FloatProgress(value=0.0, max=83637.0), HTML(value='')))"
      ]
     },
     "metadata": {},
     "output_type": "display_data"
    },
    {
     "name": "stdout",
     "output_type": "stream",
     "text": [
      "\n"
     ]
    },
    {
     "data": {
      "image/png": "[encoded data removed]",
      "text/plain": [
       "<Figure size 432x288 with 1 Axes>"
      ]
     },
     "metadata": {
      "needs_background": "light"
     },
     "output_type": "display_data"
    }
   ],
   "source": [
    "val = pd.Series(utils.hashtag_extraction(novax_activities)).value_counts().sort_values(ascending=False)\n",
    "fig = plt.figure()\n",
    "ax = val[:15].plot(kind='barh', color='green')\n",
    "ax.set_title('Most HASHTAGS shared by NOVAX')\n",
    "ax.invert_yaxis()\n",
    "plt.show()"
   ]
  },
  {
   "cell_type": "code",
   "execution_count": 115,
   "id": "4848306f",
   "metadata": {
    "pycharm": {
     "name": "#%%\n"
    }
   },
   "outputs": [
    {
     "data": {
      "application/vnd.jupyter.widget-view+json": {
       "model_id": "d673b179fce440a49df5907a9ea121f8",
       "version_major": 2,
       "version_minor": 0
      },
      "text/plain": [
       "HBox(children=(HTML(value=''), FloatProgress(value=0.0, max=6884.0), HTML(value='')))"
      ]
     },
     "metadata": {},
     "output_type": "display_data"
    },
    {
     "name": "stdout",
     "output_type": "stream",
     "text": [
      "\n"
     ]
    },
    {
     "data": {
      "image/png": "[encoded data removed]",
      "text/plain": [
       "<Figure size 432x288 with 1 Axes>"
      ]
     },
     "metadata": {},
     "output_type": "display_data"
    }
   ],
   "source": [
    "val = pd.Series(utils.hashtag_extraction(users_activities)).value_counts().sort_values(ascending=False)\n",
    "fig = plt.figure()\n",
    "ax = val[:15].plot(kind='barh', color='lightgreen')\n",
    "ax.set_title('Most HASHTAGS shared by USERS')\n",
    "ax.invert_yaxis()\n",
    "plt.show()"
   ]
  },
  {
   "cell_type": "markdown",
   "id": "d76dd6d8",
   "metadata": {
    "pycharm": {
     "name": "#%% md\n"
    }
   },
   "source": [
    "# Urls"
   ]
  },
  {
   "cell_type": "code",
   "execution_count": 17,
   "id": "a0719de7",
   "metadata": {
    "pycharm": {
     "name": "#%%\n"
    }
   },
   "outputs": [
    {
     "data": {
      "application/vnd.jupyter.widget-view+json": {
       "model_id": "9c572205f75c4a71a596052664b4c62e",
       "version_major": 2,
       "version_minor": 0
      },
      "text/plain": [
       "HBox(children=(HTML(value=''), FloatProgress(value=0.0, max=83637.0), HTML(value='')))"
      ]
     },
     "metadata": {},
     "output_type": "display_data"
    },
    {
     "name": "stdout",
     "output_type": "stream",
     "text": [
      "\n"
     ]
    },
    {
     "data": {
      "image/png": "[encoded data removed]",
      "text/plain": [
       "<Figure size 1008x360 with 1 Axes>"
      ]
     },
     "metadata": {
      "needs_background": "light"
     },
     "output_type": "display_data"
    }
   ],
   "source": [
    "x = utils.extract_domain_list(novax_activities)\n",
    "novax_urls = []\n",
    "lst_not_plot = [\"twitter.com\", \"bit.ly\", \"ow.ly\"]\n",
    "cont = 0\n",
    "for i in x:\n",
    "    if i != []:\n",
    "        for j in i:\n",
    "            if (j not in lst_not_plot):\n",
    "                novax_urls.append(j)\n",
    "val = pd.Series(novax_urls).value_counts().sort_values(ascending=False)\n",
    "fig = plt.figure()\n",
    "ax = val[:15].plot(kind='barh', color='green')\n",
    "ax.set_title('Most URLS shared by Novax')\n",
    "ax.invert_yaxis()\n",
    "plt.show()"
   ]
  },
  {
   "cell_type": "code",
   "execution_count": 27,
   "id": "474e040e",
   "metadata": {
    "pycharm": {
     "name": "#%%\n"
    }
   },
   "outputs": [
    {
     "data": {
      "application/vnd.jupyter.widget-view+json": {
       "model_id": "2206855df1f8481aaf8cd2fde6ed59cb",
       "version_major": 2,
       "version_minor": 0
      },
      "text/plain": [
       "HBox(children=(HTML(value=''), FloatProgress(value=0.0, max=6884.0), HTML(value='')))"
      ]
     },
     "metadata": {},
     "output_type": "display_data"
    },
    {
     "name": "stdout",
     "output_type": "stream",
     "text": [
      "\n"
     ]
    },
    {
     "data": {
      "image/png": "[encoded data removed]",
      "text/plain": [
       "<Figure size 1008x360 with 1 Axes>"
      ]
     },
     "metadata": {
      "needs_background": "light"
     },
     "output_type": "display_data"
    }
   ],
   "source": [
    "x = utils.extract_domain_list(users_activities)\n",
    "users_urls = []\n",
    "lst_not_plot = [\"dlvr.it\", \"twitter.com\", \"tinyurl.com\", \"trib.al\", \"bit.ly\", \"ow.ly\"]\n",
    "cont = 0\n",
    "for i in x:\n",
    "    if i != []:\n",
    "        for j in i:\n",
    "            if j not in lst_not_plot:\n",
    "                users_urls.append(j)\n",
    "val = pd.Series(users_urls).value_counts().sort_values(ascending=False)\n",
    "fig = plt.figure()\n",
    "ax = val[:15].plot(kind='barh', color='lightgreen')\n",
    "ax.set_title('Most URLS shared by Users')\n",
    "ax.invert_yaxis()\n",
    "plt.show()"
   ]
  },
  {
   "cell_type": "markdown",
   "id": "74ed3b7d",
   "metadata": {
    "pycharm": {
     "name": "#%% md\n"
    }
   },
   "source": [
    "# YouTube"
   ]
  },
  {
   "cell_type": "code",
   "execution_count": 33,
   "id": "4096cdfc",
   "metadata": {
    "pycharm": {
     "name": "#%%\n"
    }
   },
   "outputs": [],
   "source": [
    "df_urls = novax_activities.loc[novax_activities['urls'] != '[]']\n",
    "df_urls = [x.split()[3].translate({ord(\"'\"): None}).replace(\",\",\"\") for x in df_urls[\"urls\"]]\n",
    "df_urls = [x if (\"https://youtu.be\" in x) or (\"https://www.youtube.com\" in x) else np.nan for x in df_urls]\n",
    "df_urls = list(pd.Series(df_urls).dropna())\n",
    "len(df_urls)\n",
    "df_yt_domains = pd.DataFrame(df_urls, columns=[\"URL\"])"
   ]
  },
  {
   "cell_type": "code",
   "execution_count": 34,
   "id": "fcd19fcf",
   "metadata": {
    "pycharm": {
     "name": "#%%\n"
    }
   },
   "outputs": [],
   "source": [
    "df_yt_domains.to_csv(r\"C:\\Users\\gianl\\Desktop\\Gi\\Supsi\\BachelorProject\\youtube_checker\\data\\novax_yt.csv\", line_terminator=\"\\n\", index=False, encoding=\"utf-8\")"
   ]
  },
  {
   "cell_type": "code",
   "execution_count": 35,
   "id": "faaaadf7",
   "metadata": {
    "pycharm": {
     "name": "#%%\n"
    }
   },
   "outputs": [],
   "source": [
    "############################ youtube"
   ]
  },
  {
   "cell_type": "markdown",
   "id": "a603e1ef",
   "metadata": {
    "pycharm": {
     "name": "#%% md\n"
    }
   },
   "source": [
    "# SAGE"
   ]
  },
  {
   "cell_type": "code",
   "execution_count": 11,
   "id": "681c5169",
   "metadata": {
    "pycharm": {
     "name": "#%%\n"
    }
   },
   "outputs": [
    {
     "data": {
      "text/html": [
       "<div>\n",
       "<style scoped>\n",
       "    .dataframe tbody tr th:only-of-type {\n",
       "        vertical-align: middle;\n",
       "    }\n",
       "\n",
       "    .dataframe tbody tr th {\n",
       "        vertical-align: top;\n",
       "    }\n",
       "\n",
       "    .dataframe thead th {\n",
       "        text-align: right;\n",
       "    }\n",
       "</style>\n",
       "<table border=\"1\" class=\"dataframe\">\n",
       "  <thead>\n",
       "    <tr style=\"text-align: right;\">\n",
       "      <th></th>\n",
       "      <th>source</th>\n",
       "      <th>word</th>\n",
       "      <th>sage</th>\n",
       "      <th>file_count</th>\n",
       "      <th>file_rate</th>\n",
       "      <th>base_count</th>\n",
       "      <th>base_rate</th>\n",
       "    </tr>\n",
       "  </thead>\n",
       "  <tbody>\n",
       "    <tr>\n",
       "      <th>0</th>\n",
       "      <td>C:\\Users\\gianl\\Desktop\\Gi\\Supsi\\BachelorProjec...</td>\n",
       "      <td>nessunacorrelazione</td>\n",
       "      <td>0.345397</td>\n",
       "      <td>539</td>\n",
       "      <td>0.021382</td>\n",
       "      <td>540</td>\n",
       "      <td>0.018473</td>\n",
       "    </tr>\n",
       "    <tr>\n",
       "      <th>1</th>\n",
       "      <td>C:\\Users\\gianl\\Desktop\\Gi\\Supsi\\BachelorProjec...</td>\n",
       "      <td>byoblu24</td>\n",
       "      <td>0.340607</td>\n",
       "      <td>282</td>\n",
       "      <td>0.011187</td>\n",
       "      <td>282</td>\n",
       "      <td>0.009647</td>\n",
       "    </tr>\n",
       "    <tr>\n",
       "      <th>2</th>\n",
       "      <td>C:\\Users\\gianl\\Desktop\\Gi\\Supsi\\BachelorProjec...</td>\n",
       "      <td>staseraitalia</td>\n",
       "      <td>0.319861</td>\n",
       "      <td>120</td>\n",
       "      <td>0.004760</td>\n",
       "      <td>120</td>\n",
       "      <td>0.004105</td>\n",
       "    </tr>\n",
       "    <tr>\n",
       "      <th>3</th>\n",
       "      <td>C:\\Users\\gianl\\Desktop\\Gi\\Supsi\\BachelorProjec...</td>\n",
       "      <td>vaccinoassassino</td>\n",
       "      <td>0.319539</td>\n",
       "      <td>119</td>\n",
       "      <td>0.004721</td>\n",
       "      <td>119</td>\n",
       "      <td>0.004071</td>\n",
       "    </tr>\n",
       "    <tr>\n",
       "      <th>4</th>\n",
       "      <td>C:\\Users\\gianl\\Desktop\\Gi\\Supsi\\BachelorProjec...</td>\n",
       "      <td>billgates</td>\n",
       "      <td>0.312654</td>\n",
       "      <td>148</td>\n",
       "      <td>0.005871</td>\n",
       "      <td>150</td>\n",
       "      <td>0.005131</td>\n",
       "    </tr>\n",
       "    <tr>\n",
       "      <th>5</th>\n",
       "      <td>C:\\Users\\gianl\\Desktop\\Gi\\Supsi\\BachelorProjec...</td>\n",
       "      <td>covid19vaccines</td>\n",
       "      <td>0.302561</td>\n",
       "      <td>84</td>\n",
       "      <td>0.003332</td>\n",
       "      <td>84</td>\n",
       "      <td>0.002874</td>\n",
       "    </tr>\n",
       "    <tr>\n",
       "      <th>6</th>\n",
       "      <td>C:\\Users\\gianl\\Desktop\\Gi\\Supsi\\BachelorProjec...</td>\n",
       "      <td>疫苗</td>\n",
       "      <td>0.295048</td>\n",
       "      <td>75</td>\n",
       "      <td>0.002975</td>\n",
       "      <td>75</td>\n",
       "      <td>0.002566</td>\n",
       "    </tr>\n",
       "    <tr>\n",
       "      <th>7</th>\n",
       "      <td>C:\\Users\\gianl\\Desktop\\Gi\\Supsi\\BachelorProjec...</td>\n",
       "      <td>dittaturasanitaria</td>\n",
       "      <td>0.294819</td>\n",
       "      <td>91</td>\n",
       "      <td>0.003610</td>\n",
       "      <td>92</td>\n",
       "      <td>0.003147</td>\n",
       "    </tr>\n",
       "    <tr>\n",
       "      <th>8</th>\n",
       "      <td>C:\\Users\\gianl\\Desktop\\Gi\\Supsi\\BachelorProjec...</td>\n",
       "      <td>vaccinationcovid</td>\n",
       "      <td>0.293060</td>\n",
       "      <td>73</td>\n",
       "      <td>0.002896</td>\n",
       "      <td>73</td>\n",
       "      <td>0.002497</td>\n",
       "    </tr>\n",
       "    <tr>\n",
       "      <th>9</th>\n",
       "      <td>C:\\Users\\gianl\\Desktop\\Gi\\Supsi\\BachelorProjec...</td>\n",
       "      <td>コロナワクチン</td>\n",
       "      <td>0.293060</td>\n",
       "      <td>73</td>\n",
       "      <td>0.002896</td>\n",
       "      <td>73</td>\n",
       "      <td>0.002497</td>\n",
       "    </tr>\n",
       "    <tr>\n",
       "      <th>10</th>\n",
       "      <td>C:\\Users\\gianl\\Desktop\\Gi\\Supsi\\BachelorProjec...</td>\n",
       "      <td>lockdown</td>\n",
       "      <td>0.289682</td>\n",
       "      <td>219</td>\n",
       "      <td>0.008688</td>\n",
       "      <td>229</td>\n",
       "      <td>0.007834</td>\n",
       "    </tr>\n",
       "    <tr>\n",
       "      <th>11</th>\n",
       "      <td>C:\\Users\\gianl\\Desktop\\Gi\\Supsi\\BachelorProjec...</td>\n",
       "      <td>covidvaccinesideeffects</td>\n",
       "      <td>0.288635</td>\n",
       "      <td>69</td>\n",
       "      <td>0.002737</td>\n",
       "      <td>69</td>\n",
       "      <td>0.002360</td>\n",
       "    </tr>\n",
       "    <tr>\n",
       "      <th>12</th>\n",
       "      <td>C:\\Users\\gianl\\Desktop\\Gi\\Supsi\\BachelorProjec...</td>\n",
       "      <td>lascienza</td>\n",
       "      <td>0.283477</td>\n",
       "      <td>65</td>\n",
       "      <td>0.002579</td>\n",
       "      <td>65</td>\n",
       "      <td>0.002224</td>\n",
       "    </tr>\n",
       "    <tr>\n",
       "      <th>13</th>\n",
       "      <td>C:\\Users\\gianl\\Desktop\\Gi\\Supsi\\BachelorProjec...</td>\n",
       "      <td>tso</td>\n",
       "      <td>0.277369</td>\n",
       "      <td>61</td>\n",
       "      <td>0.002420</td>\n",
       "      <td>61</td>\n",
       "      <td>0.002087</td>\n",
       "    </tr>\n",
       "    <tr>\n",
       "      <th>14</th>\n",
       "      <td>C:\\Users\\gianl\\Desktop\\Gi\\Supsi\\BachelorProjec...</td>\n",
       "      <td>ワクチン</td>\n",
       "      <td>0.277369</td>\n",
       "      <td>61</td>\n",
       "      <td>0.002420</td>\n",
       "      <td>61</td>\n",
       "      <td>0.002087</td>\n",
       "    </tr>\n",
       "    <tr>\n",
       "      <th>15</th>\n",
       "      <td>C:\\Users\\gianl\\Desktop\\Gi\\Supsi\\BachelorProjec...</td>\n",
       "      <td>attualità</td>\n",
       "      <td>2.477946</td>\n",
       "      <td>109</td>\n",
       "      <td>0.027087</td>\n",
       "      <td>109</td>\n",
       "      <td>0.003729</td>\n",
       "    </tr>\n",
       "    <tr>\n",
       "      <th>16</th>\n",
       "      <td>C:\\Users\\gianl\\Desktop\\Gi\\Supsi\\BachelorProjec...</td>\n",
       "      <td>trentino</td>\n",
       "      <td>2.450971</td>\n",
       "      <td>35</td>\n",
       "      <td>0.008698</td>\n",
       "      <td>35</td>\n",
       "      <td>0.001197</td>\n",
       "    </tr>\n",
       "    <tr>\n",
       "      <th>17</th>\n",
       "      <td>C:\\Users\\gianl\\Desktop\\Gi\\Supsi\\BachelorProjec...</td>\n",
       "      <td>covidcalabria</td>\n",
       "      <td>2.427172</td>\n",
       "      <td>22</td>\n",
       "      <td>0.005467</td>\n",
       "      <td>22</td>\n",
       "      <td>0.000753</td>\n",
       "    </tr>\n",
       "    <tr>\n",
       "      <th>18</th>\n",
       "      <td>C:\\Users\\gianl\\Desktop\\Gi\\Supsi\\BachelorProjec...</td>\n",
       "      <td>tg3</td>\n",
       "      <td>2.417177</td>\n",
       "      <td>19</td>\n",
       "      <td>0.004722</td>\n",
       "      <td>19</td>\n",
       "      <td>0.000650</td>\n",
       "    </tr>\n",
       "    <tr>\n",
       "      <th>19</th>\n",
       "      <td>C:\\Users\\gianl\\Desktop\\Gi\\Supsi\\BachelorProjec...</td>\n",
       "      <td>gallera</td>\n",
       "      <td>2.383584</td>\n",
       "      <td>13</td>\n",
       "      <td>0.003231</td>\n",
       "      <td>13</td>\n",
       "      <td>0.000445</td>\n",
       "    </tr>\n",
       "    <tr>\n",
       "      <th>20</th>\n",
       "      <td>C:\\Users\\gianl\\Desktop\\Gi\\Supsi\\BachelorProjec...</td>\n",
       "      <td>dalweb</td>\n",
       "      <td>2.374755</td>\n",
       "      <td>12</td>\n",
       "      <td>0.002982</td>\n",
       "      <td>12</td>\n",
       "      <td>0.000411</td>\n",
       "    </tr>\n",
       "    <tr>\n",
       "      <th>21</th>\n",
       "      <td>C:\\Users\\gianl\\Desktop\\Gi\\Supsi\\BachelorProjec...</td>\n",
       "      <td>reggiocalabria</td>\n",
       "      <td>2.374755</td>\n",
       "      <td>12</td>\n",
       "      <td>0.002982</td>\n",
       "      <td>12</td>\n",
       "      <td>0.000411</td>\n",
       "    </tr>\n",
       "    <tr>\n",
       "      <th>22</th>\n",
       "      <td>C:\\Users\\gianl\\Desktop\\Gi\\Supsi\\BachelorProjec...</td>\n",
       "      <td>iostoconmorra</td>\n",
       "      <td>2.351837</td>\n",
       "      <td>10</td>\n",
       "      <td>0.002485</td>\n",
       "      <td>10</td>\n",
       "      <td>0.000342</td>\n",
       "    </tr>\n",
       "    <tr>\n",
       "      <th>23</th>\n",
       "      <td>C:\\Users\\gianl\\Desktop\\Gi\\Supsi\\BachelorProjec...</td>\n",
       "      <td>moratti</td>\n",
       "      <td>2.324818</td>\n",
       "      <td>25</td>\n",
       "      <td>0.006213</td>\n",
       "      <td>28</td>\n",
       "      <td>0.000958</td>\n",
       "    </tr>\n",
       "    <tr>\n",
       "      <th>24</th>\n",
       "      <td>C:\\Users\\gianl\\Desktop\\Gi\\Supsi\\BachelorProjec...</td>\n",
       "      <td>regionelombardia</td>\n",
       "      <td>2.317501</td>\n",
       "      <td>8</td>\n",
       "      <td>0.001988</td>\n",
       "      <td>8</td>\n",
       "      <td>0.000274</td>\n",
       "    </tr>\n",
       "    <tr>\n",
       "      <th>25</th>\n",
       "      <td>C:\\Users\\gianl\\Desktop\\Gi\\Supsi\\BachelorProjec...</td>\n",
       "      <td>spirlì</td>\n",
       "      <td>2.317501</td>\n",
       "      <td>8</td>\n",
       "      <td>0.001988</td>\n",
       "      <td>8</td>\n",
       "      <td>0.000274</td>\n",
       "    </tr>\n",
       "    <tr>\n",
       "      <th>26</th>\n",
       "      <td>C:\\Users\\gianl\\Desktop\\Gi\\Supsi\\BachelorProjec...</td>\n",
       "      <td>calabria</td>\n",
       "      <td>2.301712</td>\n",
       "      <td>60</td>\n",
       "      <td>0.014911</td>\n",
       "      <td>71</td>\n",
       "      <td>0.002429</td>\n",
       "    </tr>\n",
       "    <tr>\n",
       "      <th>27</th>\n",
       "      <td>C:\\Users\\gianl\\Desktop\\Gi\\Supsi\\BachelorProjec...</td>\n",
       "      <td>codicepresenta</td>\n",
       "      <td>2.213959</td>\n",
       "      <td>5</td>\n",
       "      <td>0.001243</td>\n",
       "      <td>5</td>\n",
       "      <td>0.000171</td>\n",
       "    </tr>\n",
       "    <tr>\n",
       "      <th>28</th>\n",
       "      <td>C:\\Users\\gianl\\Desktop\\Gi\\Supsi\\BachelorProjec...</td>\n",
       "      <td>vaccinicalabria</td>\n",
       "      <td>2.213959</td>\n",
       "      <td>5</td>\n",
       "      <td>0.001243</td>\n",
       "      <td>5</td>\n",
       "      <td>0.000171</td>\n",
       "    </tr>\n",
       "    <tr>\n",
       "      <th>29</th>\n",
       "      <td>C:\\Users\\gianl\\Desktop\\Gi\\Supsi\\BachelorProjec...</td>\n",
       "      <td>cronaca</td>\n",
       "      <td>2.213959</td>\n",
       "      <td>5</td>\n",
       "      <td>0.001243</td>\n",
       "      <td>5</td>\n",
       "      <td>0.000171</td>\n",
       "    </tr>\n",
       "  </tbody>\n",
       "</table>\n",
       "</div>"
      ],
      "text/plain": [
       "                                               source  \\\n",
       "0   C:\\Users\\gianl\\Desktop\\Gi\\Supsi\\BachelorProjec...   \n",
       "1   C:\\Users\\gianl\\Desktop\\Gi\\Supsi\\BachelorProjec...   \n",
       "2   C:\\Users\\gianl\\Desktop\\Gi\\Supsi\\BachelorProjec...   \n",
       "3   C:\\Users\\gianl\\Desktop\\Gi\\Supsi\\BachelorProjec...   \n",
       "4   C:\\Users\\gianl\\Desktop\\Gi\\Supsi\\BachelorProjec...   \n",
       "5   C:\\Users\\gianl\\Desktop\\Gi\\Supsi\\BachelorProjec...   \n",
       "6   C:\\Users\\gianl\\Desktop\\Gi\\Supsi\\BachelorProjec...   \n",
       "7   C:\\Users\\gianl\\Desktop\\Gi\\Supsi\\BachelorProjec...   \n",
       "8   C:\\Users\\gianl\\Desktop\\Gi\\Supsi\\BachelorProjec...   \n",
       "9   C:\\Users\\gianl\\Desktop\\Gi\\Supsi\\BachelorProjec...   \n",
       "10  C:\\Users\\gianl\\Desktop\\Gi\\Supsi\\BachelorProjec...   \n",
       "11  C:\\Users\\gianl\\Desktop\\Gi\\Supsi\\BachelorProjec...   \n",
       "12  C:\\Users\\gianl\\Desktop\\Gi\\Supsi\\BachelorProjec...   \n",
       "13  C:\\Users\\gianl\\Desktop\\Gi\\Supsi\\BachelorProjec...   \n",
       "14  C:\\Users\\gianl\\Desktop\\Gi\\Supsi\\BachelorProjec...   \n",
       "15  C:\\Users\\gianl\\Desktop\\Gi\\Supsi\\BachelorProjec...   \n",
       "16  C:\\Users\\gianl\\Desktop\\Gi\\Supsi\\BachelorProjec...   \n",
       "17  C:\\Users\\gianl\\Desktop\\Gi\\Supsi\\BachelorProjec...   \n",
       "18  C:\\Users\\gianl\\Desktop\\Gi\\Supsi\\BachelorProjec...   \n",
       "19  C:\\Users\\gianl\\Desktop\\Gi\\Supsi\\BachelorProjec...   \n",
       "20  C:\\Users\\gianl\\Desktop\\Gi\\Supsi\\BachelorProjec...   \n",
       "21  C:\\Users\\gianl\\Desktop\\Gi\\Supsi\\BachelorProjec...   \n",
       "22  C:\\Users\\gianl\\Desktop\\Gi\\Supsi\\BachelorProjec...   \n",
       "23  C:\\Users\\gianl\\Desktop\\Gi\\Supsi\\BachelorProjec...   \n",
       "24  C:\\Users\\gianl\\Desktop\\Gi\\Supsi\\BachelorProjec...   \n",
       "25  C:\\Users\\gianl\\Desktop\\Gi\\Supsi\\BachelorProjec...   \n",
       "26  C:\\Users\\gianl\\Desktop\\Gi\\Supsi\\BachelorProjec...   \n",
       "27  C:\\Users\\gianl\\Desktop\\Gi\\Supsi\\BachelorProjec...   \n",
       "28  C:\\Users\\gianl\\Desktop\\Gi\\Supsi\\BachelorProjec...   \n",
       "29  C:\\Users\\gianl\\Desktop\\Gi\\Supsi\\BachelorProjec...   \n",
       "\n",
       "                       word      sage  file_count  file_rate  base_count  \\\n",
       "0       nessunacorrelazione  0.345397         539   0.021382         540   \n",
       "1                  byoblu24  0.340607         282   0.011187         282   \n",
       "2             staseraitalia  0.319861         120   0.004760         120   \n",
       "3          vaccinoassassino  0.319539         119   0.004721         119   \n",
       "4                 billgates  0.312654         148   0.005871         150   \n",
       "5           covid19vaccines  0.302561          84   0.003332          84   \n",
       "6                        疫苗  0.295048          75   0.002975          75   \n",
       "7        dittaturasanitaria  0.294819          91   0.003610          92   \n",
       "8          vaccinationcovid  0.293060          73   0.002896          73   \n",
       "9                   コロナワクチン  0.293060          73   0.002896          73   \n",
       "10                 lockdown  0.289682         219   0.008688         229   \n",
       "11  covidvaccinesideeffects  0.288635          69   0.002737          69   \n",
       "12                lascienza  0.283477          65   0.002579          65   \n",
       "13                      tso  0.277369          61   0.002420          61   \n",
       "14                     ワクチン  0.277369          61   0.002420          61   \n",
       "15                attualità  2.477946         109   0.027087         109   \n",
       "16                 trentino  2.450971          35   0.008698          35   \n",
       "17            covidcalabria  2.427172          22   0.005467          22   \n",
       "18                      tg3  2.417177          19   0.004722          19   \n",
       "19                  gallera  2.383584          13   0.003231          13   \n",
       "20                   dalweb  2.374755          12   0.002982          12   \n",
       "21           reggiocalabria  2.374755          12   0.002982          12   \n",
       "22            iostoconmorra  2.351837          10   0.002485          10   \n",
       "23                  moratti  2.324818          25   0.006213          28   \n",
       "24         regionelombardia  2.317501           8   0.001988           8   \n",
       "25                   spirlì  2.317501           8   0.001988           8   \n",
       "26                 calabria  2.301712          60   0.014911          71   \n",
       "27           codicepresenta  2.213959           5   0.001243           5   \n",
       "28          vaccinicalabria  2.213959           5   0.001243           5   \n",
       "29                  cronaca  2.213959           5   0.001243           5   \n",
       "\n",
       "    base_rate  \n",
       "0    0.018473  \n",
       "1    0.009647  \n",
       "2    0.004105  \n",
       "3    0.004071  \n",
       "4    0.005131  \n",
       "5    0.002874  \n",
       "6    0.002566  \n",
       "7    0.003147  \n",
       "8    0.002497  \n",
       "9    0.002497  \n",
       "10   0.007834  \n",
       "11   0.002360  \n",
       "12   0.002224  \n",
       "13   0.002087  \n",
       "14   0.002087  \n",
       "15   0.003729  \n",
       "16   0.001197  \n",
       "17   0.000753  \n",
       "18   0.000650  \n",
       "19   0.000445  \n",
       "20   0.000411  \n",
       "21   0.000411  \n",
       "22   0.000342  \n",
       "23   0.000958  \n",
       "24   0.000274  \n",
       "25   0.000274  \n",
       "26   0.002429  \n",
       "27   0.000171  \n",
       "28   0.000171  \n",
       "29   0.000171  "
      ]
     },
     "execution_count": 11,
     "metadata": {},
     "output_type": "execute_result"
    }
   ],
   "source": [
    "hs_sage = pd.read_csv(r\"C:\\Users\\gianl\\Desktop\\Gi\\Supsi\\BachelorProject\\sage\\data\\outfile.csv\")\n",
    "hs_sage"
   ]
  },
  {
   "cell_type": "code",
   "execution_count": 118,
   "id": "9aa3fcab",
   "metadata": {
    "pycharm": {
     "name": "#%%\n"
    }
   },
   "outputs": [
    {
     "data": {
      "text/html": [
       "<div>\n",
       "<style scoped>\n",
       "    .dataframe tbody tr th:only-of-type {\n",
       "        vertical-align: middle;\n",
       "    }\n",
       "\n",
       "    .dataframe tbody tr th {\n",
       "        vertical-align: top;\n",
       "    }\n",
       "\n",
       "    .dataframe thead th {\n",
       "        text-align: right;\n",
       "    }\n",
       "</style>\n",
       "<table border=\"1\" class=\"dataframe\">\n",
       "  <thead>\n",
       "    <tr style=\"text-align: right;\">\n",
       "      <th></th>\n",
       "      <th>source</th>\n",
       "      <th>word</th>\n",
       "      <th>sage</th>\n",
       "      <th>file_count</th>\n",
       "      <th>file_rate</th>\n",
       "      <th>base_count</th>\n",
       "      <th>base_rate</th>\n",
       "    </tr>\n",
       "  </thead>\n",
       "  <tbody>\n",
       "    <tr>\n",
       "      <th>0</th>\n",
       "      <td>C:\\Users\\gianl\\Desktop\\Gi\\Supsi\\BachelorProjec...</td>\n",
       "      <td>cavie</td>\n",
       "      <td>0.046210</td>\n",
       "      <td>6209</td>\n",
       "      <td>0.001046</td>\n",
       "      <td>6211</td>\n",
       "      <td>0.000982</td>\n",
       "    </tr>\n",
       "    <tr>\n",
       "      <th>1</th>\n",
       "      <td>C:\\Users\\gianl\\Desktop\\Gi\\Supsi\\BachelorProjec...</td>\n",
       "      <td>tarro</td>\n",
       "      <td>0.045579</td>\n",
       "      <td>5000</td>\n",
       "      <td>0.000842</td>\n",
       "      <td>5000</td>\n",
       "      <td>0.000791</td>\n",
       "    </tr>\n",
       "    <tr>\n",
       "      <th>2</th>\n",
       "      <td>C:\\Users\\gianl\\Desktop\\Gi\\Supsi\\BachelorProjec...</td>\n",
       "      <td>avverse</td>\n",
       "      <td>0.045389</td>\n",
       "      <td>7121</td>\n",
       "      <td>0.001199</td>\n",
       "      <td>7132</td>\n",
       "      <td>0.001128</td>\n",
       "    </tr>\n",
       "    <tr>\n",
       "      <th>3</th>\n",
       "      <td>C:\\Users\\gianl\\Desktop\\Gi\\Supsi\\BachelorProjec...</td>\n",
       "      <td>sperimentali</td>\n",
       "      <td>0.044581</td>\n",
       "      <td>4193</td>\n",
       "      <td>0.000706</td>\n",
       "      <td>4193</td>\n",
       "      <td>0.000663</td>\n",
       "    </tr>\n",
       "    <tr>\n",
       "      <th>4</th>\n",
       "      <td>C:\\Users\\gianl\\Desktop\\Gi\\Supsi\\BachelorProjec...</td>\n",
       "      <td>mantova</td>\n",
       "      <td>0.044570</td>\n",
       "      <td>4186</td>\n",
       "      <td>0.000705</td>\n",
       "      <td>4186</td>\n",
       "      <td>0.000662</td>\n",
       "    </tr>\n",
       "    <tr>\n",
       "      <th>5</th>\n",
       "      <td>C:\\Users\\gianl\\Desktop\\Gi\\Supsi\\BachelorProjec...</td>\n",
       "      <td>nessunacorrelazione</td>\n",
       "      <td>0.043237</td>\n",
       "      <td>3628</td>\n",
       "      <td>0.000611</td>\n",
       "      <td>3629</td>\n",
       "      <td>0.000574</td>\n",
       "    </tr>\n",
       "    <tr>\n",
       "      <th>6</th>\n",
       "      <td>C:\\Users\\gianl\\Desktop\\Gi\\Supsi\\BachelorProjec...</td>\n",
       "      <td>correlazione</td>\n",
       "      <td>0.042906</td>\n",
       "      <td>4586</td>\n",
       "      <td>0.000772</td>\n",
       "      <td>4595</td>\n",
       "      <td>0.000727</td>\n",
       "    </tr>\n",
       "    <tr>\n",
       "      <th>7</th>\n",
       "      <td>C:\\Users\\gianl\\Desktop\\Gi\\Supsi\\BachelorProjec...</td>\n",
       "      <td>obbligatori</td>\n",
       "      <td>0.042800</td>\n",
       "      <td>3580</td>\n",
       "      <td>0.000603</td>\n",
       "      <td>3582</td>\n",
       "      <td>0.000566</td>\n",
       "    </tr>\n",
       "    <tr>\n",
       "      <th>8</th>\n",
       "      <td>C:\\Users\\gianl\\Desktop\\Gi\\Supsi\\BachelorProjec...</td>\n",
       "      <td>libert</td>\n",
       "      <td>0.042777</td>\n",
       "      <td>7080</td>\n",
       "      <td>0.001193</td>\n",
       "      <td>7108</td>\n",
       "      <td>0.001124</td>\n",
       "    </tr>\n",
       "    <tr>\n",
       "      <th>9</th>\n",
       "      <td>C:\\Users\\gianl\\Desktop\\Gi\\Supsi\\BachelorProjec...</td>\n",
       "      <td>obbligo</td>\n",
       "      <td>0.042567</td>\n",
       "      <td>13978</td>\n",
       "      <td>0.002355</td>\n",
       "      <td>14060</td>\n",
       "      <td>0.002223</td>\n",
       "    </tr>\n",
       "    <tr>\n",
       "      <th>10</th>\n",
       "      <td>C:\\Users\\gianl\\Desktop\\Gi\\Supsi\\BachelorProjec...</td>\n",
       "      <td>figli</td>\n",
       "      <td>0.042500</td>\n",
       "      <td>4111</td>\n",
       "      <td>0.000692</td>\n",
       "      <td>4118</td>\n",
       "      <td>0.000651</td>\n",
       "    </tr>\n",
       "    <tr>\n",
       "      <th>11</th>\n",
       "      <td>C:\\Users\\gianl\\Desktop\\Gi\\Supsi\\BachelorProjec...</td>\n",
       "      <td>sperimentale</td>\n",
       "      <td>0.042241</td>\n",
       "      <td>9655</td>\n",
       "      <td>0.001626</td>\n",
       "      <td>9707</td>\n",
       "      <td>0.001535</td>\n",
       "    </tr>\n",
       "    <tr>\n",
       "      <th>12</th>\n",
       "      <td>C:\\Users\\gianl\\Desktop\\Gi\\Supsi\\BachelorProjec...</td>\n",
       "      <td>morta</td>\n",
       "      <td>0.042060</td>\n",
       "      <td>3304</td>\n",
       "      <td>0.000557</td>\n",
       "      <td>3306</td>\n",
       "      <td>0.000523</td>\n",
       "    </tr>\n",
       "    <tr>\n",
       "      <th>13</th>\n",
       "      <td>C:\\Users\\gianl\\Desktop\\Gi\\Supsi\\BachelorProjec...</td>\n",
       "      <td>claudio</td>\n",
       "      <td>0.042041</td>\n",
       "      <td>3176</td>\n",
       "      <td>0.000535</td>\n",
       "      <td>3177</td>\n",
       "      <td>0.000502</td>\n",
       "    </tr>\n",
       "    <tr>\n",
       "      <th>14</th>\n",
       "      <td>C:\\Users\\gianl\\Desktop\\Gi\\Supsi\\BachelorProjec...</td>\n",
       "      <td>infarto</td>\n",
       "      <td>0.041651</td>\n",
       "      <td>3407</td>\n",
       "      <td>0.000574</td>\n",
       "      <td>3411</td>\n",
       "      <td>0.000539</td>\n",
       "    </tr>\n",
       "    <tr>\n",
       "      <th>15</th>\n",
       "      <td>C:\\Users\\gianl\\Desktop\\Gi\\Supsi\\BachelorProjec...</td>\n",
       "      <td>frastornato</td>\n",
       "      <td>3.712021</td>\n",
       "      <td>410</td>\n",
       "      <td>0.001058</td>\n",
       "      <td>410</td>\n",
       "      <td>0.000065</td>\n",
       "    </tr>\n",
       "    <tr>\n",
       "      <th>16</th>\n",
       "      <td>C:\\Users\\gianl\\Desktop\\Gi\\Supsi\\BachelorProjec...</td>\n",
       "      <td>viaggiavano</td>\n",
       "      <td>3.711532</td>\n",
       "      <td>354</td>\n",
       "      <td>0.000914</td>\n",
       "      <td>354</td>\n",
       "      <td>0.000056</td>\n",
       "    </tr>\n",
       "    <tr>\n",
       "      <th>17</th>\n",
       "      <td>C:\\Users\\gianl\\Desktop\\Gi\\Supsi\\BachelorProjec...</td>\n",
       "      <td>cent</td>\n",
       "      <td>3.710103</td>\n",
       "      <td>452</td>\n",
       "      <td>0.001167</td>\n",
       "      <td>453</td>\n",
       "      <td>0.000072</td>\n",
       "    </tr>\n",
       "    <tr>\n",
       "      <th>18</th>\n",
       "      <td>C:\\Users\\gianl\\Desktop\\Gi\\Supsi\\BachelorProjec...</td>\n",
       "      <td>bnt</td>\n",
       "      <td>3.710059</td>\n",
       "      <td>448</td>\n",
       "      <td>0.001156</td>\n",
       "      <td>449</td>\n",
       "      <td>0.000071</td>\n",
       "    </tr>\n",
       "    <tr>\n",
       "      <th>19</th>\n",
       "      <td>C:\\Users\\gianl\\Desktop\\Gi\\Supsi\\BachelorProjec...</td>\n",
       "      <td>bambinisenzasbarre</td>\n",
       "      <td>3.709693</td>\n",
       "      <td>234</td>\n",
       "      <td>0.000604</td>\n",
       "      <td>234</td>\n",
       "      <td>0.000037</td>\n",
       "    </tr>\n",
       "    <tr>\n",
       "      <th>20</th>\n",
       "      <td>C:\\Users\\gianl\\Desktop\\Gi\\Supsi\\BachelorProjec...</td>\n",
       "      <td>separare</td>\n",
       "      <td>3.709693</td>\n",
       "      <td>234</td>\n",
       "      <td>0.000604</td>\n",
       "      <td>234</td>\n",
       "      <td>0.000037</td>\n",
       "    </tr>\n",
       "    <tr>\n",
       "      <th>21</th>\n",
       "      <td>C:\\Users\\gianl\\Desktop\\Gi\\Supsi\\BachelorProjec...</td>\n",
       "      <td>macelleria</td>\n",
       "      <td>3.709317</td>\n",
       "      <td>734</td>\n",
       "      <td>0.001894</td>\n",
       "      <td>737</td>\n",
       "      <td>0.000117</td>\n",
       "    </tr>\n",
       "    <tr>\n",
       "      <th>22</th>\n",
       "      <td>C:\\Users\\gianl\\Desktop\\Gi\\Supsi\\BachelorProjec...</td>\n",
       "      <td>scommette</td>\n",
       "      <td>3.708945</td>\n",
       "      <td>367</td>\n",
       "      <td>0.000947</td>\n",
       "      <td>368</td>\n",
       "      <td>0.000058</td>\n",
       "    </tr>\n",
       "    <tr>\n",
       "      <th>23</th>\n",
       "      <td>C:\\Users\\gianl\\Desktop\\Gi\\Supsi\\BachelorProjec...</td>\n",
       "      <td>analizzarli</td>\n",
       "      <td>3.708645</td>\n",
       "      <td>350</td>\n",
       "      <td>0.000903</td>\n",
       "      <td>351</td>\n",
       "      <td>0.000056</td>\n",
       "    </tr>\n",
       "    <tr>\n",
       "      <th>24</th>\n",
       "      <td>C:\\Users\\gianl\\Desktop\\Gi\\Supsi\\BachelorProjec...</td>\n",
       "      <td>bias</td>\n",
       "      <td>3.707919</td>\n",
       "      <td>453</td>\n",
       "      <td>0.001169</td>\n",
       "      <td>455</td>\n",
       "      <td>0.000072</td>\n",
       "    </tr>\n",
       "    <tr>\n",
       "      <th>25</th>\n",
       "      <td>C:\\Users\\gianl\\Desktop\\Gi\\Supsi\\BachelorProjec...</td>\n",
       "      <td>mentalmente</td>\n",
       "      <td>3.707732</td>\n",
       "      <td>576</td>\n",
       "      <td>0.001487</td>\n",
       "      <td>579</td>\n",
       "      <td>0.000092</td>\n",
       "    </tr>\n",
       "    <tr>\n",
       "      <th>26</th>\n",
       "      <td>C:\\Users\\gianl\\Desktop\\Gi\\Supsi\\BachelorProjec...</td>\n",
       "      <td>mimetica</td>\n",
       "      <td>3.706049</td>\n",
       "      <td>140</td>\n",
       "      <td>0.000361</td>\n",
       "      <td>140</td>\n",
       "      <td>0.000022</td>\n",
       "    </tr>\n",
       "    <tr>\n",
       "      <th>27</th>\n",
       "      <td>C:\\Users\\gianl\\Desktop\\Gi\\Supsi\\BachelorProjec...</td>\n",
       "      <td>vetusto</td>\n",
       "      <td>3.705917</td>\n",
       "      <td>138</td>\n",
       "      <td>0.000356</td>\n",
       "      <td>138</td>\n",
       "      <td>0.000022</td>\n",
       "    </tr>\n",
       "    <tr>\n",
       "      <th>28</th>\n",
       "      <td>C:\\Users\\gianl\\Desktop\\Gi\\Supsi\\BachelorProjec...</td>\n",
       "      <td>oltremanica</td>\n",
       "      <td>3.705349</td>\n",
       "      <td>130</td>\n",
       "      <td>0.000336</td>\n",
       "      <td>130</td>\n",
       "      <td>0.000021</td>\n",
       "    </tr>\n",
       "    <tr>\n",
       "      <th>29</th>\n",
       "      <td>C:\\Users\\gianl\\Desktop\\Gi\\Supsi\\BachelorProjec...</td>\n",
       "      <td>disfatta</td>\n",
       "      <td>3.705349</td>\n",
       "      <td>130</td>\n",
       "      <td>0.000336</td>\n",
       "      <td>130</td>\n",
       "      <td>0.000021</td>\n",
       "    </tr>\n",
       "  </tbody>\n",
       "</table>\n",
       "</div>"
      ],
      "text/plain": [
       "                                               source                 word  \\\n",
       "0   C:\\Users\\gianl\\Desktop\\Gi\\Supsi\\BachelorProjec...                cavie   \n",
       "1   C:\\Users\\gianl\\Desktop\\Gi\\Supsi\\BachelorProjec...                tarro   \n",
       "2   C:\\Users\\gianl\\Desktop\\Gi\\Supsi\\BachelorProjec...              avverse   \n",
       "3   C:\\Users\\gianl\\Desktop\\Gi\\Supsi\\BachelorProjec...         sperimentali   \n",
       "4   C:\\Users\\gianl\\Desktop\\Gi\\Supsi\\BachelorProjec...              mantova   \n",
       "5   C:\\Users\\gianl\\Desktop\\Gi\\Supsi\\BachelorProjec...  nessunacorrelazione   \n",
       "6   C:\\Users\\gianl\\Desktop\\Gi\\Supsi\\BachelorProjec...         correlazione   \n",
       "7   C:\\Users\\gianl\\Desktop\\Gi\\Supsi\\BachelorProjec...          obbligatori   \n",
       "8   C:\\Users\\gianl\\Desktop\\Gi\\Supsi\\BachelorProjec...               libert   \n",
       "9   C:\\Users\\gianl\\Desktop\\Gi\\Supsi\\BachelorProjec...              obbligo   \n",
       "10  C:\\Users\\gianl\\Desktop\\Gi\\Supsi\\BachelorProjec...                figli   \n",
       "11  C:\\Users\\gianl\\Desktop\\Gi\\Supsi\\BachelorProjec...         sperimentale   \n",
       "12  C:\\Users\\gianl\\Desktop\\Gi\\Supsi\\BachelorProjec...                morta   \n",
       "13  C:\\Users\\gianl\\Desktop\\Gi\\Supsi\\BachelorProjec...              claudio   \n",
       "14  C:\\Users\\gianl\\Desktop\\Gi\\Supsi\\BachelorProjec...              infarto   \n",
       "15  C:\\Users\\gianl\\Desktop\\Gi\\Supsi\\BachelorProjec...          frastornato   \n",
       "16  C:\\Users\\gianl\\Desktop\\Gi\\Supsi\\BachelorProjec...          viaggiavano   \n",
       "17  C:\\Users\\gianl\\Desktop\\Gi\\Supsi\\BachelorProjec...                 cent   \n",
       "18  C:\\Users\\gianl\\Desktop\\Gi\\Supsi\\BachelorProjec...                  bnt   \n",
       "19  C:\\Users\\gianl\\Desktop\\Gi\\Supsi\\BachelorProjec...   bambinisenzasbarre   \n",
       "20  C:\\Users\\gianl\\Desktop\\Gi\\Supsi\\BachelorProjec...             separare   \n",
       "21  C:\\Users\\gianl\\Desktop\\Gi\\Supsi\\BachelorProjec...           macelleria   \n",
       "22  C:\\Users\\gianl\\Desktop\\Gi\\Supsi\\BachelorProjec...            scommette   \n",
       "23  C:\\Users\\gianl\\Desktop\\Gi\\Supsi\\BachelorProjec...          analizzarli   \n",
       "24  C:\\Users\\gianl\\Desktop\\Gi\\Supsi\\BachelorProjec...                 bias   \n",
       "25  C:\\Users\\gianl\\Desktop\\Gi\\Supsi\\BachelorProjec...          mentalmente   \n",
       "26  C:\\Users\\gianl\\Desktop\\Gi\\Supsi\\BachelorProjec...             mimetica   \n",
       "27  C:\\Users\\gianl\\Desktop\\Gi\\Supsi\\BachelorProjec...              vetusto   \n",
       "28  C:\\Users\\gianl\\Desktop\\Gi\\Supsi\\BachelorProjec...          oltremanica   \n",
       "29  C:\\Users\\gianl\\Desktop\\Gi\\Supsi\\BachelorProjec...             disfatta   \n",
       "\n",
       "        sage  file_count  file_rate  base_count  base_rate  \n",
       "0   0.046210        6209   0.001046        6211   0.000982  \n",
       "1   0.045579        5000   0.000842        5000   0.000791  \n",
       "2   0.045389        7121   0.001199        7132   0.001128  \n",
       "3   0.044581        4193   0.000706        4193   0.000663  \n",
       "4   0.044570        4186   0.000705        4186   0.000662  \n",
       "5   0.043237        3628   0.000611        3629   0.000574  \n",
       "6   0.042906        4586   0.000772        4595   0.000727  \n",
       "7   0.042800        3580   0.000603        3582   0.000566  \n",
       "8   0.042777        7080   0.001193        7108   0.001124  \n",
       "9   0.042567       13978   0.002355       14060   0.002223  \n",
       "10  0.042500        4111   0.000692        4118   0.000651  \n",
       "11  0.042241        9655   0.001626        9707   0.001535  \n",
       "12  0.042060        3304   0.000557        3306   0.000523  \n",
       "13  0.042041        3176   0.000535        3177   0.000502  \n",
       "14  0.041651        3407   0.000574        3411   0.000539  \n",
       "15  3.712021         410   0.001058         410   0.000065  \n",
       "16  3.711532         354   0.000914         354   0.000056  \n",
       "17  3.710103         452   0.001167         453   0.000072  \n",
       "18  3.710059         448   0.001156         449   0.000071  \n",
       "19  3.709693         234   0.000604         234   0.000037  \n",
       "20  3.709693         234   0.000604         234   0.000037  \n",
       "21  3.709317         734   0.001894         737   0.000117  \n",
       "22  3.708945         367   0.000947         368   0.000058  \n",
       "23  3.708645         350   0.000903         351   0.000056  \n",
       "24  3.707919         453   0.001169         455   0.000072  \n",
       "25  3.707732         576   0.001487         579   0.000092  \n",
       "26  3.706049         140   0.000361         140   0.000022  \n",
       "27  3.705917         138   0.000356         138   0.000022  \n",
       "28  3.705349         130   0.000336         130   0.000021  \n",
       "29  3.705349         130   0.000336         130   0.000021  "
      ]
     },
     "execution_count": 118,
     "metadata": {},
     "output_type": "execute_result"
    }
   ],
   "source": [
    "text_sage = pd.read_csv(r\"C:\\Users\\gianl\\Desktop\\Gi\\Supsi\\BachelorProject\\sage\\data\\outfile_text.csv\")\n",
    "text_sage"
   ]
  },
  {
   "cell_type": "markdown",
   "id": "6e8b9969",
   "metadata": {
    "pycharm": {
     "name": "#%% md\n"
    }
   },
   "source": [
    "# News propagation"
   ]
  },
  {
   "cell_type": "code",
   "execution_count": 5,
   "id": "6625d4bf",
   "metadata": {
    "pycharm": {
     "name": "#%%\n"
    }
   },
   "outputs": [
    {
     "data": {
      "text/plain": "Due parole di aggiornamento sulla sospensione del vaccino #astrazeneca. https://t.co/ch56x3ge9j                                                                                                                                                                                                        1250\nNon criticate Conte perché ha chiesto aiuto a @Fedez e @ChiaraFerragni per promuovere l'uso della mascherina. Nel 1956 la copertura vaccinale USA contro la polio balzò dallo 0,5% a oltre l'80%. Uno dei motivi fu la vaccinazione in diretta televisiva di Elvis Presley, https://t.co/S0uIG1aQuF    1237\nMedici e infermieri che non si vogliono vaccinare non possono stare al loro posto.                                                                                                                                                                                                                     1236\n#Mattarella: Ora a tutti e ovunque, senza distinzioni, dovrà essere consentito di vaccinarsi gratuitamente: perché è giusto e perché è necessario per la sicurezza comune. Vaccinarsi è una scelta di responsabilità, un dovere https://t.co/kEjHLk559m                                                1177\ncredo che la scelta di vaccinare per categorie sia stata folle.da docente universitario, penso che la vaccinazione di migliaia di docenti di tutte le età con gli atenei chiusi,mentre le persone fragili e + esposte sono ancora in totale assenza di informazione sia un vero scandalo               1139\nÈ chiaro a tutti che in Italia non produciamo vaccini, perché sono stati, da ogni governo, di ogni colore, tagliati i fondi per la ricerca e costretto all’estero i migliori ricercatori? E che quelli che dicono che la ricerca è importante, sono gli stessi che l’hanno tagliata?                   1127\nRicapitolando.\\n\\nDosi iniziali del vaccino Pfizer:\\n\\nSpagna 350mila\\nGermania 150mila\\nSvizzera 107mila\\ndanimarca 40mila\\nUngheria 35mila\\nSvezia 10mila\\nNorvegia 10mila\\nITalia 9750\\n\\nIl governo  italiano deve spiegare.                                                                       1121\nChi pensa che il vaccino contro il Covid19 modifichi la propria struttura genetica dovrebbe vederlo come un'opportunità.                                                                                                                                                                               1113\nTutti hanno diritto al vaccino indipendentemente dalla ricchezza del territorio in cui vivono.\\nIn  Italia la salute è un bene pubblico fondamentale garantito dalla Costituzione. Non un privilegio di chi ha di più.                                                                                 1112\n#Tarro suggerisce il plasma: lo diffamano.\\n#Dedonno lo usa e ottiene zero morti a #Mantova: gli mandano i NAS.\\n#Conte tace sul plasma e supporta #BillGates.\\n#Bergoglio prega per i vaccini.\\nI virologi-tv chiedono segregazione fino ai vaccini.\\nNon capite il nesso? Siete coglioni.            1094\nName: text, dtype: int64"
     },
     "execution_count": 5,
     "metadata": {},
     "output_type": "execute_result"
    }
   ],
   "source": [
    "# tweets = pd.read_parquet(r\"..\\files\\tweets\\tweets.parquet\", engine=\"fastparquet\")\n",
    "# tweets = tweets[[\"text\", \"urls\",\"user_screen_name\",\"created_at\"]]\n",
    "pd.Series(tweets[\"text\"]).value_counts().sort_values(ascending=False)[15:25]\n",
    "# http://ilblogdilameduck.blogspot.com/2020/12/il-totalitarismo-chimerico-e-la.html"
   ]
  },
  {
   "cell_type": "code",
   "execution_count": 22,
   "id": "e6e4a49b",
   "metadata": {
    "pycharm": {
     "name": "#%%\n"
    }
   },
   "outputs": [],
   "source": [
    "stringa = \"#Tarro suggerisce il plasma: lo diffamano.\\n#Dedonno lo usa e ottiene zero morti a #Mantova: gli mandano i NAS.\\n#Conte tace sul plasma e supporta #BillGates.\\n#Bergoglio prega per i vaccini.\\nI virologi-tv chiedono segregazione fino ai vaccini.\\nNon capite il nesso? Siete coglioni.\"\n",
    "stringa_2 = \"Tutti hanno diritto al vaccino indipendentemente dalla ricchezza del territorio in cui vivono.\\nIn  Italia la salute è un bene pubblico fondamentale garantito dalla Costituzione. Non un privilegio di chi ha di più.\"\n",
    "novax_fake = tweets[tweets[\"text\"]==stringa]\n",
    "provax_news = tweets[tweets[\"text\"]==stringa_2]\n",
    "dates = [utils.process_datetime(i) for i in list(novax_fake[\"created_at\"])]\n",
    "dates2 = [utils.process_datetime(i) for i in list(provax_news[\"created_at\"])]\n",
    "provax_news[\"date\"] =dates2\n",
    "novax_fake[\"date\"] = dates\n",
    "# novax_fake = novax_fake.sort_values(by=[\"date\"], ascending=True)[[\"date\",\"user_screen_name\",\"rt_user_screen_name\"]]\n",
    "# novax_fake = novax_fake.dropna()"
   ]
  },
  {
   "cell_type": "code",
   "execution_count": 23,
   "outputs": [
    {
     "data": {
      "text/plain": "<Figure size 1800x720 with 1 Axes>",
      "image/png": "[encoded data removed]"
     },
     "metadata": {},
     "output_type": "display_data"
    }
   ],
   "source": [
    "import matplotlib.dates as mdates\n",
    "\n",
    "fig, ax = plt.subplots(figsize=(25, 10))\n",
    "novax_fake['dates']= novax_fake.groupby(['date'])['created_at'].transform('size')\n",
    "res_for_plot = novax_fake.drop_duplicates(subset='date')\n",
    "res_for_plot.sort_values(by=[\"date\"], ascending=True, inplace=True)\n",
    "provax_news['dates']= provax_news.groupby(['date'])['created_at'].transform('size')\n",
    "res_for_plot2 = provax_news.drop_duplicates(subset='date')\n",
    "res_for_plot2.sort_values(by=[\"date\"], ascending=True, inplace=True)\n",
    "plt.title('Retweet tweet', fontsize=18)\n",
    "\n",
    "ax.set_xlabel('Date', fontsize=14)\n",
    "ax.set_ylabel('Retweet', fontsize=14)\n",
    "\n",
    "plt.plot(res_for_plot['date'], res_for_plot['dates'], c='b', label='novax tweet')\n",
    "plt.plot(res_for_plot2['date'], res_for_plot2['dates'], c='g', label='provax tweet')\n",
    "\n",
    "ax.xaxis.set_major_locator(mdates.DayLocator(interval=1))\n",
    "\n",
    "plt.xticks(rotation='vertical', fontsize = 8)\n",
    "plt.legend(loc='upper left', fontsize=13)\n",
    "plt.grid()\n",
    "plt.show()"
   ],
   "metadata": {
    "collapsed": false,
    "pycharm": {
     "name": "#%%\n"
    }
   }
  },
  {
   "cell_type": "code",
   "execution_count": 29,
   "outputs": [
    {
     "data": {
      "text/plain": "['2020-05-03',\n '2020-05-04',\n '2020-05-05',\n '2020-05-06',\n '2020-05-10',\n '2020-05-12',\n '2020-05-13',\n '2020-05-14',\n '2020-05-15',\n '2020-05-17',\n '2020-05-18',\n '2020-05-19',\n '2020-05-20',\n '2020-06-18',\n '2020-12-18']"
     },
     "execution_count": 29,
     "metadata": {},
     "output_type": "execute_result"
    }
   ],
   "source": [
    "data = res_for_plot[[\"date\",\"dates\"]]\n",
    "pos"
   ],
   "metadata": {
    "collapsed": false,
    "pycharm": {
     "name": "#%%\n"
    }
   }
  },
  {
   "cell_type": "code",
   "execution_count": 33,
   "outputs": [
    {
     "data": {
      "text/plain": "Text(0, 0.5, 'Female Births')"
     },
     "execution_count": 33,
     "metadata": {},
     "output_type": "execute_result"
    },
    {
     "data": {
      "text/plain": "<Figure size 864x360 with 1 Axes>",
      "image/png": "[encoded data removed]"
     },
     "metadata": {},
     "output_type": "display_data"
    }
   ],
   "source": [
    "plt.figure(figsize = (12, 5))\n",
    "import seaborn as sns\n",
    "data['2day_rolling_avg'] = data.dates.rolling(2).mean()\n",
    "sns.lineplot( x = 'date',\n",
    "             y = 'dates',\n",
    "             data = data,\n",
    "             label = 'Label')\n",
    "sns.lineplot( x = 'date',\n",
    "             y = '2day_rolling_avg',\n",
    "             data = data,\n",
    "             label = 'Label avg')\n",
    "\n",
    "plt.xlabel('Date')\n",
    "\n",
    "# setting customized ticklabels for x axis\n",
    "pos = list(data[\"date\"])\n",
    "lab = ['3 May','4 May',\n",
    " '05 May',\n",
    " '06 May',\n",
    " '10 May',\n",
    " '12 May',\n",
    " '13 May',\n",
    " '14 May',\n",
    " '15 May',\n",
    " '17 May',\n",
    " '18 May',\n",
    " '19 May',\n",
    " '20 May',\n",
    " '18 June',\n",
    " '18 Dec']\n",
    "\n",
    "plt.xticks( pos, lab)\n",
    "\n",
    "plt.ylabel('Female Births')"
   ],
   "metadata": {
    "collapsed": false,
    "pycharm": {
     "name": "#%%\n"
    }
   }
  },
  {
   "cell_type": "code",
   "execution_count": 90,
   "id": "1bdddb3c",
   "metadata": {
    "pycharm": {
     "name": "#%%\n"
    }
   },
   "outputs": [],
   "source": [
    "# names = list(novax_fake[\"user_screen_name\"])\n",
    "# names.extend(list(novax_fake[\"rt_user_screen_name\"]))\n",
    "# names = list(set(names))[1:]\n",
    "# ids = [i for i in range(len(names))]\n",
    "# df_users_fakenews = pd.DataFrame(list(zip(ids,names)), columns=[\"Id\",\"Label\"])\n",
    "# df_users_fakenews.to_csv(r\"../Files/gephi/names_fakenews.csv\", line_terminator=\"\\n\", index=False,\n",
    "#                          encoding=\"utf-8\")"
   ]
  },
  {
   "cell_type": "code",
   "execution_count": 91,
   "id": "67e2e415",
   "metadata": {
    "pycharm": {
     "name": "#%%\n"
    }
   },
   "outputs": [],
   "source": [
    "# merged = novax_fake.merge(df_users_fakenews, left_on=\"user_screen_name\",\n",
    "#                           right_on=\"Label\", how=\"left\")[[\"date\",\"user_screen_name\",\"rt_user_screen_name\",\"Id\"]]\n",
    "# merged = merged.merge(df_users_fakenews, left_on=\"rt_user_screen_name\",\n",
    "#                           right_on=\"Label\", how=\"left\")[[\"date\",\"user_screen_name\",\"rt_user_screen_name\",\"Id_x\",\"Id_y\"]]\n",
    "# merged.rename(columns = {'user_screen_name':'From', 'rt_user_screen_name':'To',\n",
    "#                          'Id_x':'Source', 'Id_y':'Target'}, inplace = True)\n",
    "# merged.to_csv(r\"../Files/gephi/archi_fakenews.csv\", line_terminator=\"\\n\", index=False,\n",
    "#                          encoding=\"utf-8\")"
   ]
  },
  {
   "cell_type": "code",
   "execution_count": 7,
   "id": "0cb4cf76",
   "metadata": {
    "pycharm": {
     "name": "#%%\n"
    }
   },
   "outputs": [],
   "source": [
    "# merged"
   ]
  },
  {
   "cell_type": "code",
   "execution_count": 8,
   "id": "0e5584dc",
   "metadata": {
    "pycharm": {
     "name": "#%%\n"
    }
   },
   "outputs": [],
   "source": [
    "# print(list(novax_fake[\"retweet_count\"])[ccont])\n",
    "# print(list(novax_fake[\"id\"])[ccont])\n",
    "# print(list(novax_fake[\"text\"])[ccont])\n",
    "# ccont += 1"
   ]
  },
  {
   "cell_type": "code",
   "execution_count": 9,
   "id": "0e8ee4b5",
   "metadata": {
    "pycharm": {
     "name": "#%%\n"
    }
   },
   "outputs": [],
   "source": [
    "# df = pd.DataFrame()\n",
    "# for chunk in tqdm(pd.read_csv(path_files + \"Tweets/tweets.csv\", lineterminator=\"\\n\", low_memory=False, encoding=\"utf-8\", chunksize=100000)):\n",
    "#     chunk = chunk[chunk[\"text\"]==novax_fake[\"text\"][ccont]]\n",
    "#     df = pd.concat([df,chunk], ignore_index=True)\n",
    "# print(df)"
   ]
  },
  {
   "cell_type": "code",
   "execution_count": 10,
   "id": "9e9935cb",
   "metadata": {
    "pycharm": {
     "name": "#%%\n"
    }
   },
   "outputs": [],
   "source": [
    "# df.sort_values(by=[\"retweet_count\"], ascending=False)[[\"created_at\",\"retweet_count\",\"user_screen_name\"]]\n",
    "# df_filtered = df.sort_values(by=[\"retweet_count\"], ascending=False)[[\"id\",\"created_at\",\"retweet_count\",\"user_screen_name\",\"text\"]]\n",
    "# df_filtered = df_filtered.drop_duplicates(subset=[\"text\"], keep=\"first\")\n",
    "# print(df_filtered)"
   ]
  },
  {
   "cell_type": "code",
   "execution_count": 11,
   "id": "1ad7cc7c",
   "metadata": {
    "pycharm": {
     "name": "#%%\n"
    }
   },
   "outputs": [],
   "source": [
    "# value += 1\n",
    "# print(list(df_filtered[\"retweet_count\"])[value])\n",
    "# print(list(df_filtered[\"id\"])[value])\n",
    "# print(list(df_filtered[\"text\"])[value])"
   ]
  },
  {
   "cell_type": "markdown",
   "id": "eac1a475",
   "metadata": {
    "pycharm": {
     "name": "#%% md\n"
    }
   },
   "source": [
    "# Most active Users"
   ]
  },
  {
   "cell_type": "code",
   "execution_count": 12,
   "id": "6b0829c3",
   "metadata": {
    "pycharm": {
     "name": "#%%\n"
    }
   },
   "outputs": [
    {
     "data": {
      "image/png": "[encoded data removed]",
      "text/plain": [
       "<Figure size 432x288 with 1 Axes>"
      ]
     },
     "metadata": {
      "needs_background": "light"
     },
     "output_type": "display_data"
    }
   ],
   "source": [
    "val = pd.Series(novax_activities[\"user_screen_name\"]).value_counts().sort_values(ascending=False)\n",
    "fig = plt.figure()\n",
    "ax = val[:15].plot(kind='barh', color='green')\n",
    "ax.set_title('Most ACTIVE NOVAX')\n",
    "ax.invert_yaxis()\n",
    "plt.show()"
   ]
  },
  {
   "cell_type": "markdown",
   "id": "9f0b49eb",
   "metadata": {
    "pycharm": {
     "name": "#%% md\n"
    }
   },
   "source": [
    "# Credibility"
   ]
  },
  {
   "cell_type": "code",
   "execution_count": 3,
   "id": "68a27418",
   "metadata": {
    "pycharm": {
     "name": "#%%\n"
    }
   },
   "outputs": [
    {
     "data": {
      "text/html": [
       "<div>\n",
       "<style scoped>\n",
       "    .dataframe tbody tr th:only-of-type {\n",
       "        vertical-align: middle;\n",
       "    }\n",
       "\n",
       "    .dataframe tbody tr th {\n",
       "        vertical-align: top;\n",
       "    }\n",
       "\n",
       "    .dataframe thead th {\n",
       "        text-align: right;\n",
       "    }\n",
       "</style>\n",
       "<table border=\"1\" class=\"dataframe\">\n",
       "  <thead>\n",
       "    <tr style=\"text-align: right;\">\n",
       "      <th></th>\n",
       "      <th>Unnamed: 0</th>\n",
       "      <th>user_screen_name</th>\n",
       "      <th>number_of_urls</th>\n",
       "      <th>HIGH</th>\n",
       "      <th>LOW</th>\n",
       "      <th>UNKW</th>\n",
       "      <th>SOCIAL</th>\n",
       "      <th>conspiracy_score</th>\n",
       "    </tr>\n",
       "  </thead>\n",
       "  <tbody>\n",
       "    <tr>\n",
       "      <th>0</th>\n",
       "      <td>0</td>\n",
       "      <td>infoitinterno</td>\n",
       "      <td>17471</td>\n",
       "      <td>33</td>\n",
       "      <td>17267</td>\n",
       "      <td>171</td>\n",
       "      <td>0</td>\n",
       "      <td>1.0</td>\n",
       "    </tr>\n",
       "    <tr>\n",
       "      <th>1</th>\n",
       "      <td>1</td>\n",
       "      <td>Paolo90777</td>\n",
       "      <td>18</td>\n",
       "      <td>0</td>\n",
       "      <td>5</td>\n",
       "      <td>0</td>\n",
       "      <td>13</td>\n",
       "      <td>1.0</td>\n",
       "    </tr>\n",
       "    <tr>\n",
       "      <th>2</th>\n",
       "      <td>2</td>\n",
       "      <td>giuseppecarta73</td>\n",
       "      <td>17</td>\n",
       "      <td>0</td>\n",
       "      <td>1</td>\n",
       "      <td>15</td>\n",
       "      <td>1</td>\n",
       "      <td>1.0</td>\n",
       "    </tr>\n",
       "    <tr>\n",
       "      <th>3</th>\n",
       "      <td>3</td>\n",
       "      <td>ZiaGabriella1</td>\n",
       "      <td>11</td>\n",
       "      <td>0</td>\n",
       "      <td>7</td>\n",
       "      <td>3</td>\n",
       "      <td>1</td>\n",
       "      <td>1.0</td>\n",
       "    </tr>\n",
       "    <tr>\n",
       "      <th>4</th>\n",
       "      <td>4</td>\n",
       "      <td>lapillo1</td>\n",
       "      <td>36</td>\n",
       "      <td>0</td>\n",
       "      <td>3</td>\n",
       "      <td>1</td>\n",
       "      <td>32</td>\n",
       "      <td>1.0</td>\n",
       "    </tr>\n",
       "    <tr>\n",
       "      <th>...</th>\n",
       "      <td>...</td>\n",
       "      <td>...</td>\n",
       "      <td>...</td>\n",
       "      <td>...</td>\n",
       "      <td>...</td>\n",
       "      <td>...</td>\n",
       "      <td>...</td>\n",
       "      <td>...</td>\n",
       "    </tr>\n",
       "    <tr>\n",
       "      <th>9496</th>\n",
       "      <td>9496</td>\n",
       "      <td>traian_m</td>\n",
       "      <td>10</td>\n",
       "      <td>0</td>\n",
       "      <td>0</td>\n",
       "      <td>10</td>\n",
       "      <td>0</td>\n",
       "      <td>NaN</td>\n",
       "    </tr>\n",
       "    <tr>\n",
       "      <th>9497</th>\n",
       "      <td>9497</td>\n",
       "      <td>Osserv_Digital</td>\n",
       "      <td>10</td>\n",
       "      <td>0</td>\n",
       "      <td>0</td>\n",
       "      <td>10</td>\n",
       "      <td>0</td>\n",
       "      <td>NaN</td>\n",
       "    </tr>\n",
       "    <tr>\n",
       "      <th>9498</th>\n",
       "      <td>9498</td>\n",
       "      <td>ComuneOristano</td>\n",
       "      <td>10</td>\n",
       "      <td>0</td>\n",
       "      <td>0</td>\n",
       "      <td>10</td>\n",
       "      <td>0</td>\n",
       "      <td>NaN</td>\n",
       "    </tr>\n",
       "    <tr>\n",
       "      <th>9499</th>\n",
       "      <td>9499</td>\n",
       "      <td>fcin1908it</td>\n",
       "      <td>10</td>\n",
       "      <td>0</td>\n",
       "      <td>0</td>\n",
       "      <td>10</td>\n",
       "      <td>0</td>\n",
       "      <td>NaN</td>\n",
       "    </tr>\n",
       "    <tr>\n",
       "      <th>9500</th>\n",
       "      <td>9500</td>\n",
       "      <td>SBisori</td>\n",
       "      <td>10</td>\n",
       "      <td>0</td>\n",
       "      <td>0</td>\n",
       "      <td>10</td>\n",
       "      <td>0</td>\n",
       "      <td>NaN</td>\n",
       "    </tr>\n",
       "  </tbody>\n",
       "</table>\n",
       "<p>9501 rows × 8 columns</p>\n",
       "</div>"
      ],
      "text/plain": [
       "      Unnamed: 0 user_screen_name  number_of_urls  HIGH    LOW  UNKW  SOCIAL  \\\n",
       "0              0    infoitinterno           17471    33  17267   171       0   \n",
       "1              1       Paolo90777              18     0      5     0      13   \n",
       "2              2  giuseppecarta73              17     0      1    15       1   \n",
       "3              3    ZiaGabriella1              11     0      7     3       1   \n",
       "4              4         lapillo1              36     0      3     1      32   \n",
       "...          ...              ...             ...   ...    ...   ...     ...   \n",
       "9496        9496         traian_m              10     0      0    10       0   \n",
       "9497        9497   Osserv_Digital              10     0      0    10       0   \n",
       "9498        9498   ComuneOristano              10     0      0    10       0   \n",
       "9499        9499       fcin1908it              10     0      0    10       0   \n",
       "9500        9500          SBisori              10     0      0    10       0   \n",
       "\n",
       "      conspiracy_score  \n",
       "0                  1.0  \n",
       "1                  1.0  \n",
       "2                  1.0  \n",
       "3                  1.0  \n",
       "4                  1.0  \n",
       "...                ...  \n",
       "9496               NaN  \n",
       "9497               NaN  \n",
       "9498               NaN  \n",
       "9499               NaN  \n",
       "9500               NaN  \n",
       "\n",
       "[9501 rows x 8 columns]"
      ]
     },
     "execution_count": 3,
     "metadata": {},
     "output_type": "execute_result"
    }
   ],
   "source": [
    "cred_user = pd.read_csv(r\"../FIles/Tweets/result_cred_score_thresh_10.csv\", lineterminator=\"\\n\")\n",
    "cred_user"
   ]
  },
  {
   "cell_type": "code",
   "execution_count": 6,
   "id": "f14afd4f",
   "metadata": {
    "pycharm": {
     "name": "#%%\n"
    }
   },
   "outputs": [],
   "source": [
    "merge_novax = novax_activities.merge(cred_user, on=\"user_screen_name\", how=\"left\")\n",
    "merge_users = users_activities.merge(cred_user, on=\"user_screen_name\", how=\"left\")"
   ]
  },
  {
   "cell_type": "code",
   "execution_count": 7,
   "id": "e490de9f",
   "metadata": {
    "pycharm": {
     "name": "#%%\n"
    }
   },
   "outputs": [
    {
     "data": {
      "image/png": "[encoded data removed]",
      "text/plain": [
       "<Figure size 432x288 with 1 Axes>"
      ]
     },
     "metadata": {
      "needs_background": "light"
     },
     "output_type": "display_data"
    }
   ],
   "source": [
    "plt.hist([\n",
    "          merge_novax[\"conspiracy_score\"],\n",
    "          merge_users[\"conspiracy_score\"]],\n",
    "          label=['Novax', 'Other users'])\n",
    "plt.legend(loc='upper right')\n",
    "plt.title(\"Value of Conspiracy score (logarithmic scale)\")\n",
    "plt.yscale('log', nonposy='clip')\n",
    "plt.xlabel(\"Conspiracy score\")\n",
    "plt.rcParams[\"figure.figsize\"] = (14,5)\n",
    "plt.show()"
   ]
  },
  {
   "cell_type": "code",
   "execution_count": 10,
   "id": "cc2a4f85",
   "metadata": {
    "pycharm": {
     "name": "#%%\n"
    }
   },
   "outputs": [],
   "source": [
    "louvain = pd.read_csv(path_files + \"networks/louvain.csv\")\n",
    "merged_louvain = louvain.merge(cred_user, left_on=\"name\", right_on=\"user_screen_name\", how=\"left\")\n",
    "merged_louvain_right = merged_louvain[merged_louvain[\"community\"]==4]\n",
    "merged_louvain_left = merged_louvain[merged_louvain[\"community\"]==0]\n",
    "merged_louvain_influencer = merged_louvain[merged_louvain[\"community\"]==2]\n",
    "merged_louvain_paper = merged_louvain[merged_louvain[\"community\"]==3]"
   ]
  },
  {
   "cell_type": "code",
   "execution_count": 14,
   "id": "c9b80667",
   "metadata": {
    "pycharm": {
     "name": "#%%\n"
    }
   },
   "outputs": [
    {
     "data": {
      "image/png": "[encoded data removed]",
      "text/plain": [
       "<Figure size 1008x360 with 1 Axes>"
      ]
     },
     "metadata": {
      "needs_background": "light"
     },
     "output_type": "display_data"
    }
   ],
   "source": [
    "x = pd.Series(merged_louvain_paper[\"conspiracy_score\"]).value_counts().sort_index(ascending=False)\n",
    "x2 = pd.Series(merged_louvain_left[\"conspiracy_score\"]).value_counts().sort_index(ascending=False)\n",
    "x3 = pd.Series(merged_louvain_right[\"conspiracy_score\"]).value_counts().sort_index(ascending=False)\n",
    "x4 = pd.Series(merged_louvain_influencer[\"conspiracy_score\"]).value_counts().sort_index(ascending=False)\n",
    "plt.plot(list(x2.keys()), list(x2.values), label=\"Dem community\")\n",
    "plt.plot(list(x3.keys()), list(x3.values), label=\"Cons community\")\n",
    "plt.plot(list(x4.keys()), list(x4.values), label=\"Influencer community\")\n",
    "plt.plot(list(x.keys()), list(x.values), label=\"Newspaper community\")\n",
    "plt.legend(loc='upper right')\n",
    "plt.title(\"Value of Conspiracy score (logarithmic scale)\")\n",
    "plt.yscale('log', nonposy='clip')\n",
    "plt.xlabel(\"Conspiracy score\")\n",
    "plt.rcParams[\"figure.figsize\"] = (14,5)\n",
    "plt.show()"
   ]
  },
  {
   "cell_type": "code",
   "execution_count": 15,
   "id": "d6f1217b",
   "metadata": {
    "pycharm": {
     "name": "#%%\n"
    }
   },
   "outputs": [
    {
     "data": {
      "image/png": "[encoded data removed]",
      "text/plain": [
       "<Figure size 1008x360 with 1 Axes>"
      ]
     },
     "metadata": {
      "needs_background": "light"
     },
     "output_type": "display_data"
    }
   ],
   "source": [
    "plt.hist([merged_louvain_left[\"conspiracy_score\"],\n",
    "          merged_louvain_right[\"conspiracy_score\"],\n",
    "          merged_louvain_influencer[\"conspiracy_score\"],\n",
    "          merged_louvain_paper[\"conspiracy_score\"]],\n",
    "          label=['Dem community', 'Cons community', \"Influencer community\", \"Newspaper community\"])\n",
    "plt.legend(loc='upper right')\n",
    "plt.title(\"Value of Conspiracy score (logarithmic scale)\")\n",
    "plt.yscale('log', nonposy='clip')\n",
    "plt.xlabel(\"Conspiracy score\")\n",
    "plt.rcParams[\"figure.figsize\"] = (14,5)\n",
    "plt.show()"
   ]
  }
 ],
 "metadata": {
  "kernelspec": {
   "display_name": "Python 3 (ipykernel)",
   "language": "python",
   "name": "python3"
  },
  "language_info": {
   "codemirror_mode": {
    "name": "ipython",
    "version": 3
   },
   "file_extension": ".py",
   "mimetype": "text/x-python",
   "name": "python",
   "nbconvert_exporter": "python",
   "pygments_lexer": "ipython3",
   "version": "3.8.11"
  }
 },
 "nbformat": 4,
 "nbformat_minor": 5
}