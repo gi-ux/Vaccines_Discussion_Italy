{
 "cells": [
  {
   "cell_type": "markdown",
   "source": [
    "in this notebook we'll study:\n",
    "\n",
    "    - centrality deg, ev\n",
    "    - community\n",
    "    - toxicity score\n",
    "    - sentiment and emotion\n",
    "    - credibility score\n",
    "    - bot score\n",
    "    - domains\n",
    "    - hashtags\n",
    "    - words/content shared"
   ],
   "metadata": {
    "collapsed": false,
    "pycharm": {
     "name": "#%% md\n"
    }
   }
  },
  {
   "cell_type": "markdown",
   "source": [
    "# Import"
   ],
   "metadata": {
    "collapsed": false,
    "pycharm": {
     "name": "#%% md\n"
    }
   }
  },
  {
   "cell_type": "code",
   "execution_count": 1,
   "outputs": [],
   "source": [
    "import importlib\n",
    "import pandas as pd\n",
    "import random\n",
    "import matplotlib.pyplot as plt\n",
    "import numpy as np\n",
    "from tqdm.notebook import tqdm\n",
    "import sys\n",
    "path_utils = r'C:\\Users\\gianluca.nogara\\Desktop\\Repo\\Vaccines_Discussion_Italy\\tweet_utils'\n",
    "sys.path.append(path_utils)\n",
    "import utils\n",
    "path_files = r\"C:\\Users\\gianluca.nogara\\Desktop\\Repo\\Vaccines_Discussion_Italy\\Italian\\Files\""
   ],
   "metadata": {
    "collapsed": false,
    "pycharm": {
     "name": "#%%\n"
    }
   }
  },
  {
   "cell_type": "markdown",
   "source": [
    "# Load Data"
   ],
   "metadata": {
    "collapsed": false,
    "pycharm": {
     "name": "#%% md\n"
    }
   }
  },
  {
   "cell_type": "code",
   "execution_count": 2,
   "outputs": [
    {
     "name": "stdout",
     "output_type": "stream",
     "text": [
      "Processed\n",
      "Processed\n",
      "Processed\n",
      "Processed\n",
      "Processed\n",
      "Processed\n",
      "Processed\n",
      "Processed\n",
      "Processed\n"
     ]
    }
   ],
   "source": [
    "df = pd.DataFrame()\n",
    "for chunk in pd.read_csv(r\"..\\files\\tweets\\tweets.csv\", lineterminator=\"\\n\", usecols=[\"user_screen_name\", \"hashtags\"], low_memory=False, encoding=\"utf-8\", chunksize=500000):\n",
    "    df = pd.concat([df, chunk], axis=0)\n",
    "    print(\"Processed\")"
   ],
   "metadata": {
    "collapsed": false,
    "pycharm": {
     "name": "#%%\n"
    }
   }
  },
  {
   "cell_type": "code",
   "execution_count": 3,
   "outputs": [
    {
     "data": {
      "text/plain": "        user_screen_name                                           hashtags\n0           planetpaul65  [{'text': 'GiornatadellaMemoria2020', 'indices...\n6             elisa24102  [{'text': 'NonPossoScordare', 'indices': [19, ...\n9               pakkiola  [{'text': 'GiornatadellaMemoria2020', 'indices...\n11             r31458893  [{'text': 'giornatadellamemoria', 'indices': [...\n12        UnTemaAlGiorno  [{'text': 'NonPossoScordare', 'indices': [19, ...\n...                  ...                                                ...\n4053187           TgrRai  [{'text': 'vaccino', 'indices': [18, 26]}, {'t...\n4053189         tuttoggi  [{'text': 'politica', 'indices': [140, 149]}, ...\n4053190      OvileItalia  [{'text': 'ilmanifesto', 'indices': [34, 46]},...\n4053195       Ileana0406          [{'text': 'covid', 'indices': [97, 103]}]\n4053199     lucabattanta    [{'text': 'lariachetira', 'indices': [14, 27]}]\n\n[1012452 rows x 2 columns]",
      "text/html": "<div>\n<style scoped>\n    .dataframe tbody tr th:only-of-type {\n        vertical-align: middle;\n    }\n\n    .dataframe tbody tr th {\n        vertical-align: top;\n    }\n\n    .dataframe thead th {\n        text-align: right;\n    }\n</style>\n<table border=\"1\" class=\"dataframe\">\n  <thead>\n    <tr style=\"text-align: right;\">\n      <th></th>\n      <th>user_screen_name</th>\n      <th>hashtags</th>\n    </tr>\n  </thead>\n  <tbody>\n    <tr>\n      <th>0</th>\n      <td>planetpaul65</td>\n      <td>[{'text': 'GiornatadellaMemoria2020', 'indices...</td>\n    </tr>\n    <tr>\n      <th>6</th>\n      <td>elisa24102</td>\n      <td>[{'text': 'NonPossoScordare', 'indices': [19, ...</td>\n    </tr>\n    <tr>\n      <th>9</th>\n      <td>pakkiola</td>\n      <td>[{'text': 'GiornatadellaMemoria2020', 'indices...</td>\n    </tr>\n    <tr>\n      <th>11</th>\n      <td>r31458893</td>\n      <td>[{'text': 'giornatadellamemoria', 'indices': [...</td>\n    </tr>\n    <tr>\n      <th>12</th>\n      <td>UnTemaAlGiorno</td>\n      <td>[{'text': 'NonPossoScordare', 'indices': [19, ...</td>\n    </tr>\n    <tr>\n      <th>...</th>\n      <td>...</td>\n      <td>...</td>\n    </tr>\n    <tr>\n      <th>4053187</th>\n      <td>TgrRai</td>\n      <td>[{'text': 'vaccino', 'indices': [18, 26]}, {'t...</td>\n    </tr>\n    <tr>\n      <th>4053189</th>\n      <td>tuttoggi</td>\n      <td>[{'text': 'politica', 'indices': [140, 149]}, ...</td>\n    </tr>\n    <tr>\n      <th>4053190</th>\n      <td>OvileItalia</td>\n      <td>[{'text': 'ilmanifesto', 'indices': [34, 46]},...</td>\n    </tr>\n    <tr>\n      <th>4053195</th>\n      <td>Ileana0406</td>\n      <td>[{'text': 'covid', 'indices': [97, 103]}]</td>\n    </tr>\n    <tr>\n      <th>4053199</th>\n      <td>lucabattanta</td>\n      <td>[{'text': 'lariachetira', 'indices': [14, 27]}]</td>\n    </tr>\n  </tbody>\n</table>\n<p>1012452 rows × 2 columns</p>\n</div>"
     },
     "execution_count": 3,
     "metadata": {},
     "output_type": "execute_result"
    }
   ],
   "source": [
    "df = df[df[\"hashtags\"]!=\"[]\"]\n",
    "df"
   ],
   "metadata": {
    "collapsed": false,
    "pycharm": {
     "name": "#%%\n"
    }
   }
  },
  {
   "cell_type": "code",
   "execution_count": 4,
   "outputs": [],
   "source": [
    "df[\"hashtags\"] = [x.lower() for x in df[\"hashtags\"]]"
   ],
   "metadata": {
    "collapsed": false,
    "pycharm": {
     "name": "#%%\n"
    }
   }
  },
  {
   "cell_type": "code",
   "execution_count": 5,
   "outputs": [],
   "source": [
    "iomi = df[df[\"hashtags\"].str.contains(\"iomivaccino\")]\n",
    "vaccinato = df[df[\"hashtags\"].str.contains(\"vacciniamoci\")]"
   ],
   "metadata": {
    "collapsed": false,
    "pycharm": {
     "name": "#%%\n"
    }
   }
  },
  {
   "cell_type": "code",
   "execution_count": 6,
   "outputs": [
    {
     "data": {
      "text/plain": "alessand_mella     38\nustampavda         34\nospedalegiglio     21\nospniguarda        15\nLa7tv              15\ntagadala7          14\nptvonline2001      12\nSignorAldo         10\nnikpalm64           9\nparpinellivo        8\nGiulioNotturni      8\nPiu_Europa          7\nZiChille            7\nIppolitoMimi        7\nAlessandro__Ma      6\nCarmenPalumbo       6\nBLQairport          6\nfratack7hfr         6\nIssRSMarino         6\nMariaRo99325323     6\nName: user_screen_name, dtype: int64"
     },
     "execution_count": 6,
     "metadata": {},
     "output_type": "execute_result"
    }
   ],
   "source": [
    "pd.Series(iomi[\"user_screen_name\"]).value_counts().sort_values(ascending=False)[:20]"
   ],
   "metadata": {
    "collapsed": false,
    "pycharm": {
     "name": "#%%\n"
    }
   }
  },
  {
   "cell_type": "code",
   "execution_count": 7,
   "outputs": [
    {
     "data": {
      "text/plain": "GibelliTiziana    24\nandpagl           14\nfranzrusso        14\nunisiena          13\nSantachiaraLab    13\n                  ..\nFPaffy             1\nAnt_Siciliano      1\nmatteo__o          1\nsindaco_roma       1\nfrancescorende     1\nName: user_screen_name, Length: 362, dtype: int64"
     },
     "execution_count": 7,
     "metadata": {},
     "output_type": "execute_result"
    }
   ],
   "source": [
    "pd.Series(vaccinato[\"user_screen_name\"]).value_counts().sort_values(ascending=False)"
   ],
   "metadata": {
    "collapsed": false,
    "pycharm": {
     "name": "#%%\n"
    }
   }
  },
  {
   "cell_type": "code",
   "execution_count": null,
   "outputs": [],
   "source": [],
   "metadata": {
    "collapsed": false,
    "pycharm": {
     "name": "#%%\n"
    }
   }
  }
 ],
 "metadata": {
  "kernelspec": {
   "display_name": "Python 3",
   "language": "python",
   "name": "python3"
  },
  "language_info": {
   "codemirror_mode": {
    "name": "ipython",
    "version": 2
   },
   "file_extension": ".py",
   "mimetype": "text/x-python",
   "name": "python",
   "nbconvert_exporter": "python",
   "pygments_lexer": "ipython2",
   "version": "2.7.6"
  }
 },
 "nbformat": 4,
 "nbformat_minor": 0
}