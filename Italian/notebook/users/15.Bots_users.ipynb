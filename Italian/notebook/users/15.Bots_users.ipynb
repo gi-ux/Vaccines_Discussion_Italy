{
 "cells": [
  {
   "cell_type": "code",
   "execution_count": 11,
   "outputs": [],
   "source": [
    "import importlib\n",
    "import pandas as pd\n",
    "import matplotlib.pyplot as plt\n",
    "import numpy as np\n",
    "from glob import glob\n",
    "from tqdm.notebook import tqdm\n",
    "import json\n",
    "import sys\n",
    "path_utils = r'C:\\Users\\gianluca.nogara\\Desktop\\Repo\\Vaccines_Discussion_Italy\\tweet_utils'\n",
    "sys.path.append(path_utils)\n",
    "import utils\n",
    "path_files = r'C:\\Users\\gianluca.nogara\\Desktop\\Repo\\Vaccines_Discussion_Italy\\Italian\\Files'"
   ],
   "metadata": {
    "collapsed": false,
    "pycharm": {
     "name": "#%%\n"
    }
   }
  },
  {
   "cell_type": "code",
   "execution_count": 2,
   "outputs": [],
   "source": [
    "names = glob(r\"..\\script_directory_output\\bom\\*\")"
   ],
   "metadata": {
    "collapsed": false,
    "pycharm": {
     "name": "#%%\n"
    }
   }
  },
  {
   "cell_type": "code",
   "execution_count": 3,
   "outputs": [
    {
     "data": {
      "text/plain": "                name                                              score\n0         Ivan__soli  {\"cap\": {\"english\": 0.7989890411370751, \"unive...\n1        claudeger55  {\"cap\": {\"english\": 0.7759887465100499, \"unive...\n2        ennioflyano  {\"cap\": {\"english\": 0.7611878625273879, \"unive...\n3          MGalliera  {\"cap\": {\"english\": 0.793087009461318, \"univer...\n4        miagolandia  {\"cap\": {\"english\": 0.7892294694438972, \"unive...\n...              ...                                                ...\n67995      Elevterio  {\"cap\": {\"english\": 0.659646495284545, \"univer...\n67996      AFAntoAnt  {\"cap\": {\"english\": 0.8008799175144752, \"unive...\n67997       aldibe73  {\"cap\": {\"english\": 0.5288664776112156, \"unive...\n67998  ChiricoMarzio  {\"cap\": {\"english\": 0.659646495284545, \"univer...\n67999    releone1985  {\"cap\": {\"english\": 0.7287106185584935, \"unive...\n\n[68000 rows x 2 columns]",
      "text/html": "<div>\n<style scoped>\n    .dataframe tbody tr th:only-of-type {\n        vertical-align: middle;\n    }\n\n    .dataframe tbody tr th {\n        vertical-align: top;\n    }\n\n    .dataframe thead th {\n        text-align: right;\n    }\n</style>\n<table border=\"1\" class=\"dataframe\">\n  <thead>\n    <tr style=\"text-align: right;\">\n      <th></th>\n      <th>name</th>\n      <th>score</th>\n    </tr>\n  </thead>\n  <tbody>\n    <tr>\n      <th>0</th>\n      <td>Ivan__soli</td>\n      <td>{\"cap\": {\"english\": 0.7989890411370751, \"unive...</td>\n    </tr>\n    <tr>\n      <th>1</th>\n      <td>claudeger55</td>\n      <td>{\"cap\": {\"english\": 0.7759887465100499, \"unive...</td>\n    </tr>\n    <tr>\n      <th>2</th>\n      <td>ennioflyano</td>\n      <td>{\"cap\": {\"english\": 0.7611878625273879, \"unive...</td>\n    </tr>\n    <tr>\n      <th>3</th>\n      <td>MGalliera</td>\n      <td>{\"cap\": {\"english\": 0.793087009461318, \"univer...</td>\n    </tr>\n    <tr>\n      <th>4</th>\n      <td>miagolandia</td>\n      <td>{\"cap\": {\"english\": 0.7892294694438972, \"unive...</td>\n    </tr>\n    <tr>\n      <th>...</th>\n      <td>...</td>\n      <td>...</td>\n    </tr>\n    <tr>\n      <th>67995</th>\n      <td>Elevterio</td>\n      <td>{\"cap\": {\"english\": 0.659646495284545, \"univer...</td>\n    </tr>\n    <tr>\n      <th>67996</th>\n      <td>AFAntoAnt</td>\n      <td>{\"cap\": {\"english\": 0.8008799175144752, \"unive...</td>\n    </tr>\n    <tr>\n      <th>67997</th>\n      <td>aldibe73</td>\n      <td>{\"cap\": {\"english\": 0.5288664776112156, \"unive...</td>\n    </tr>\n    <tr>\n      <th>67998</th>\n      <td>ChiricoMarzio</td>\n      <td>{\"cap\": {\"english\": 0.659646495284545, \"univer...</td>\n    </tr>\n    <tr>\n      <th>67999</th>\n      <td>releone1985</td>\n      <td>{\"cap\": {\"english\": 0.7287106185584935, \"unive...</td>\n    </tr>\n  </tbody>\n</table>\n<p>68000 rows × 2 columns</p>\n</div>"
     },
     "execution_count": 3,
     "metadata": {},
     "output_type": "execute_result"
    }
   ],
   "source": [
    "df = pd.DataFrame()\n",
    "for name in names:\n",
    "    temp = pd.read_csv(name, lineterminator=\"\\n\", low_memory=False, encoding=\"utf-8\")\n",
    "    df = pd.concat([df, temp], axis=0)\n",
    "df.drop_duplicates(subset=[\"name\"], inplace=True)\n",
    "df.reset_index(drop=True, inplace=True)\n",
    "df[\"score\"] = [value.replace(\"\\'\", \"\\\"\") for value in df[\"score\"]]\n",
    "df"
   ],
   "metadata": {
    "collapsed": false,
    "pycharm": {
     "name": "#%%\n"
    }
   }
  },
  {
   "cell_type": "code",
   "execution_count": 4,
   "outputs": [],
   "source": [
    "list_of_names = [\"astroturf\", \"fake_follower\", \"financial\", \"other\", \"overall\", \"self_declared\", \"spammer\"]"
   ],
   "metadata": {
    "collapsed": false,
    "pycharm": {
     "name": "#%%\n"
    }
   }
  },
  {
   "cell_type": "code",
   "execution_count": 5,
   "outputs": [],
   "source": [
    "def calculate_cap_scores(score):\n",
    "    if (score is None) or ('\"cap\":' not in score):\n",
    "        return np.nan\n",
    "    else:\n",
    "        data = json.loads(score)\n",
    "        cap = data[\"cap\"]\n",
    "        eng_score = cap[\"universal\"]\n",
    "        score = eng_score\n",
    "    return score"
   ],
   "metadata": {
    "collapsed": false,
    "pycharm": {
     "name": "#%%\n"
    }
   }
  },
  {
   "cell_type": "code",
   "execution_count": 6,
   "outputs": [],
   "source": [
    "def type_of_bot(df):\n",
    "    list_of_list = [[], [], [], [], [], [], []]\n",
    "    for i in df[\"score\"]:\n",
    "        if (i is None) or ('\"cap\":' not in i):\n",
    "            for v in list_of_list:\n",
    "                v.append(np.nan)\n",
    "        else:\n",
    "            i = json.loads(i)\n",
    "            for v in range(len(i[\"raw_scores\"][\"universal\"])):\n",
    "                list_of_list[v].append(i[\"raw_scores\"][\"universal\"][list_of_names[v]])\n",
    "    astroturf = list_of_list[0]\n",
    "    fake_follower = list_of_list[1]\n",
    "    financial = list_of_list[2]\n",
    "    other = list_of_list[3]\n",
    "    overall = list_of_list[4]\n",
    "    self_declared = list_of_list[5]\n",
    "    spammer = list_of_list[6]\n",
    "    return astroturf, fake_follower, financial, other, overall, self_declared, spammer"
   ],
   "metadata": {
    "collapsed": false,
    "pycharm": {
     "name": "#%%\n"
    }
   }
  },
  {
   "cell_type": "code",
   "execution_count": 7,
   "outputs": [],
   "source": [
    "df[\"cap\"] = [calculate_cap_scores(i) for i in list(df[\"score\"])]"
   ],
   "metadata": {
    "collapsed": false,
    "pycharm": {
     "name": "#%%\n"
    }
   }
  },
  {
   "cell_type": "code",
   "execution_count": 8,
   "outputs": [],
   "source": [
    "lst = type_of_bot(df)"
   ],
   "metadata": {
    "collapsed": false,
    "pycharm": {
     "name": "#%%\n"
    }
   }
  },
  {
   "cell_type": "code",
   "execution_count": 9,
   "outputs": [],
   "source": [
    "df[list_of_names[0]] = lst[0]\n",
    "df[list_of_names[1]] = lst[1]\n",
    "df[list_of_names[2]] = lst[2]\n",
    "df[list_of_names[3]] = lst[3]\n",
    "df[list_of_names[4]] = lst[4]\n",
    "df[list_of_names[5]] = lst[5]\n",
    "df[list_of_names[6]] = lst[6]\n"
   ],
   "metadata": {
    "collapsed": false,
    "pycharm": {
     "name": "#%%\n"
    }
   }
  },
  {
   "cell_type": "code",
   "execution_count": 10,
   "outputs": [
    {
     "data": {
      "text/plain": "                name                                              score  \\\n0         Ivan__soli  {\"cap\": {\"english\": 0.7989890411370751, \"unive...   \n1        claudeger55  {\"cap\": {\"english\": 0.7759887465100499, \"unive...   \n2        ennioflyano  {\"cap\": {\"english\": 0.7611878625273879, \"unive...   \n3          MGalliera  {\"cap\": {\"english\": 0.793087009461318, \"univer...   \n4        miagolandia  {\"cap\": {\"english\": 0.7892294694438972, \"unive...   \n...              ...                                                ...   \n67995      Elevterio  {\"cap\": {\"english\": 0.659646495284545, \"univer...   \n67996      AFAntoAnt  {\"cap\": {\"english\": 0.8008799175144752, \"unive...   \n67997       aldibe73  {\"cap\": {\"english\": 0.5288664776112156, \"unive...   \n67998  ChiricoMarzio  {\"cap\": {\"english\": 0.659646495284545, \"univer...   \n67999    releone1985  {\"cap\": {\"english\": 0.7287106185584935, \"unive...   \n\n            cap  astroturf  fake_follower  financial  other  overall  \\\n0      0.406740       0.19           0.05       0.00   0.36     0.07   \n1      0.522240       0.18           0.01       0.00   0.27     0.11   \n2      0.436508       0.18           0.04       0.00   0.10     0.08   \n3      0.598242       0.23           0.07       0.00   0.26     0.14   \n4      0.806896       0.29           0.28       0.05   0.71     0.71   \n...         ...        ...            ...        ...    ...      ...   \n67995  0.233324       0.01           0.01       0.01   0.11     0.01   \n67996  0.805559       0.21           0.29       0.25   0.67     0.67   \n67997  0.376790       0.08           0.06       0.02   0.13     0.06   \n67998  0.288464       0.09           0.00       0.00   0.07     0.03   \n67999  0.641587       0.11           0.06       0.01   0.41     0.16   \n\n       self_declared  spammer  \n0               0.00     0.02  \n1               0.00     0.00  \n2               0.00     0.00  \n3               0.01     0.00  \n4               0.04     0.01  \n...              ...      ...  \n67995           0.00     0.00  \n67996           0.06     0.04  \n67997           0.00     0.01  \n67998           0.00     0.00  \n67999           0.00     0.00  \n\n[68000 rows x 10 columns]",
      "text/html": "<div>\n<style scoped>\n    .dataframe tbody tr th:only-of-type {\n        vertical-align: middle;\n    }\n\n    .dataframe tbody tr th {\n        vertical-align: top;\n    }\n\n    .dataframe thead th {\n        text-align: right;\n    }\n</style>\n<table border=\"1\" class=\"dataframe\">\n  <thead>\n    <tr style=\"text-align: right;\">\n      <th></th>\n      <th>name</th>\n      <th>score</th>\n      <th>cap</th>\n      <th>astroturf</th>\n      <th>fake_follower</th>\n      <th>financial</th>\n      <th>other</th>\n      <th>overall</th>\n      <th>self_declared</th>\n      <th>spammer</th>\n    </tr>\n  </thead>\n  <tbody>\n    <tr>\n      <th>0</th>\n      <td>Ivan__soli</td>\n      <td>{\"cap\": {\"english\": 0.7989890411370751, \"unive...</td>\n      <td>0.406740</td>\n      <td>0.19</td>\n      <td>0.05</td>\n      <td>0.00</td>\n      <td>0.36</td>\n      <td>0.07</td>\n      <td>0.00</td>\n      <td>0.02</td>\n    </tr>\n    <tr>\n      <th>1</th>\n      <td>claudeger55</td>\n      <td>{\"cap\": {\"english\": 0.7759887465100499, \"unive...</td>\n      <td>0.522240</td>\n      <td>0.18</td>\n      <td>0.01</td>\n      <td>0.00</td>\n      <td>0.27</td>\n      <td>0.11</td>\n      <td>0.00</td>\n      <td>0.00</td>\n    </tr>\n    <tr>\n      <th>2</th>\n      <td>ennioflyano</td>\n      <td>{\"cap\": {\"english\": 0.7611878625273879, \"unive...</td>\n      <td>0.436508</td>\n      <td>0.18</td>\n      <td>0.04</td>\n      <td>0.00</td>\n      <td>0.10</td>\n      <td>0.08</td>\n      <td>0.00</td>\n      <td>0.00</td>\n    </tr>\n    <tr>\n      <th>3</th>\n      <td>MGalliera</td>\n      <td>{\"cap\": {\"english\": 0.793087009461318, \"univer...</td>\n      <td>0.598242</td>\n      <td>0.23</td>\n      <td>0.07</td>\n      <td>0.00</td>\n      <td>0.26</td>\n      <td>0.14</td>\n      <td>0.01</td>\n      <td>0.00</td>\n    </tr>\n    <tr>\n      <th>4</th>\n      <td>miagolandia</td>\n      <td>{\"cap\": {\"english\": 0.7892294694438972, \"unive...</td>\n      <td>0.806896</td>\n      <td>0.29</td>\n      <td>0.28</td>\n      <td>0.05</td>\n      <td>0.71</td>\n      <td>0.71</td>\n      <td>0.04</td>\n      <td>0.01</td>\n    </tr>\n    <tr>\n      <th>...</th>\n      <td>...</td>\n      <td>...</td>\n      <td>...</td>\n      <td>...</td>\n      <td>...</td>\n      <td>...</td>\n      <td>...</td>\n      <td>...</td>\n      <td>...</td>\n      <td>...</td>\n    </tr>\n    <tr>\n      <th>67995</th>\n      <td>Elevterio</td>\n      <td>{\"cap\": {\"english\": 0.659646495284545, \"univer...</td>\n      <td>0.233324</td>\n      <td>0.01</td>\n      <td>0.01</td>\n      <td>0.01</td>\n      <td>0.11</td>\n      <td>0.01</td>\n      <td>0.00</td>\n      <td>0.00</td>\n    </tr>\n    <tr>\n      <th>67996</th>\n      <td>AFAntoAnt</td>\n      <td>{\"cap\": {\"english\": 0.8008799175144752, \"unive...</td>\n      <td>0.805559</td>\n      <td>0.21</td>\n      <td>0.29</td>\n      <td>0.25</td>\n      <td>0.67</td>\n      <td>0.67</td>\n      <td>0.06</td>\n      <td>0.04</td>\n    </tr>\n    <tr>\n      <th>67997</th>\n      <td>aldibe73</td>\n      <td>{\"cap\": {\"english\": 0.5288664776112156, \"unive...</td>\n      <td>0.376790</td>\n      <td>0.08</td>\n      <td>0.06</td>\n      <td>0.02</td>\n      <td>0.13</td>\n      <td>0.06</td>\n      <td>0.00</td>\n      <td>0.01</td>\n    </tr>\n    <tr>\n      <th>67998</th>\n      <td>ChiricoMarzio</td>\n      <td>{\"cap\": {\"english\": 0.659646495284545, \"univer...</td>\n      <td>0.288464</td>\n      <td>0.09</td>\n      <td>0.00</td>\n      <td>0.00</td>\n      <td>0.07</td>\n      <td>0.03</td>\n      <td>0.00</td>\n      <td>0.00</td>\n    </tr>\n    <tr>\n      <th>67999</th>\n      <td>releone1985</td>\n      <td>{\"cap\": {\"english\": 0.7287106185584935, \"unive...</td>\n      <td>0.641587</td>\n      <td>0.11</td>\n      <td>0.06</td>\n      <td>0.01</td>\n      <td>0.41</td>\n      <td>0.16</td>\n      <td>0.00</td>\n      <td>0.00</td>\n    </tr>\n  </tbody>\n</table>\n<p>68000 rows × 10 columns</p>\n</div>"
     },
     "execution_count": 10,
     "metadata": {},
     "output_type": "execute_result"
    }
   ],
   "source": [
    "df"
   ],
   "metadata": {
    "collapsed": false,
    "pycharm": {
     "name": "#%%\n"
    }
   }
  },
  {
   "cell_type": "code",
   "execution_count": null,
   "outputs": [],
   "source": [],
   "metadata": {
    "collapsed": false,
    "pycharm": {
     "name": "#%%\n"
    }
   }
  }
 ],
 "metadata": {
  "kernelspec": {
   "display_name": "Python 3",
   "language": "python",
   "name": "python3"
  },
  "language_info": {
   "codemirror_mode": {
    "name": "ipython",
    "version": 2
   },
   "file_extension": ".py",
   "mimetype": "text/x-python",
   "name": "python",
   "nbconvert_exporter": "python",
   "pygments_lexer": "ipython2",
   "version": "2.7.6"
  }
 },
 "nbformat": 4,
 "nbformat_minor": 0
}