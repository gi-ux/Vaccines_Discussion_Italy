{
 "cells": [
  {
   "cell_type": "code",
   "execution_count": null,
   "outputs": [],
   "source": [
    "import importlib\n",
    "import pandas as pd\n",
    "import random\n",
    "import glob\n",
    "import matplotlib.pyplot as plt\n",
    "import numpy as np\n",
    "from tqdm.notebook import tqdm\n",
    "import sys\n",
    "path_utils = r'C:\\Users\\gianluca.nogara\\Desktop\\Repo\\Vaccines_Discussion_Italy\\tweet_utils'\n",
    "sys.path.append(path_utils)\n",
    "import utils\n",
    "path_files = r\"C:\\Users\\gianluca.nogara\\Desktop\\Repo\\Vaccines_Discussion_Italy\\Italian\\Files\""
   ],
   "metadata": {
    "collapsed": false,
    "pycharm": {
     "name": "#%%\n"
    }
   }
  },
  {
   "cell_type": "markdown",
   "source": [
    "# Obtain new Data"
   ],
   "metadata": {
    "collapsed": false,
    "pycharm": {
     "name": "#%% md\n"
    }
   }
  },
  {
   "cell_type": "code",
   "execution_count": null,
   "outputs": [],
   "source": [
    "tweets = pd.read_csv(path_files + r\"\\Tweets\\tweets.csv\", lineterminator=\"\\n\", encoding=\"utf-8\", low_memory=False)"
   ],
   "metadata": {
    "collapsed": false,
    "pycharm": {
     "name": "#%%\n"
    }
   }
  },
  {
   "cell_type": "code",
   "execution_count": null,
   "outputs": [],
   "source": [
    "toxic = pd.read_csv(path_files + r\"\\tweets\\tweets_toxicity.csv\", lineterminator=\"\\n\",low_memory=False, encoding=\"utf-8\", usecols=[\"id\", \"toxicity\"])\n",
    "sentiment = pd.read_csv(r\"C:\\Users\\gianluca.nogara\\Desktop\\Repo\\Vaccines_Discussion_Italy\\Italian\\script_directory_output\\sentiment\\merged.csv\", lineterminator=\"\\n\", low_memory=False, encoding=\"utf-8\", usecols=[\"id\", \"sentiment\", \"emotion\"])\n",
    "in_deg = pd.read_csv(path_files + r\"\\networks\\in_degree.csv\")\n",
    "in_deg.rename(columns={\"user\": \"user_screen_name\", \"degree\": \"in_degree\"}, inplace=True)\n",
    "deg = pd.read_csv(path_files + r\"\\networks\\degree.csv\")\n",
    "deg.rename(columns={\"user\": \"user_screen_name\"}, inplace=True)\n",
    "community = pd.read_csv(path_files + r\"\\networks\\louvain.csv\")\n",
    "community.rename(columns={\"name\": \"user_screen_name\"}, inplace=True)\n",
    "domains = pd.read_csv(path_files + r\"\\domains\\result_cred_score_thresh_10_low_domains.csv\", low_memory=False, encoding=\"utf-8\", lineterminator=\"\\n\", usecols=[\"user_screen_name\", \"credibility_score\"])\n",
    "deg_cen = pd.read_csv(path_files + r\"\\networks\\user_deg_centrality.csv\", low_memory=False, encoding=\"utf-8\", lineterminator=\"\\n\")\n",
    "deg_cen.rename(columns={\"name\": \"user_screen_name\"}, inplace=True)\n",
    "ev_cen = pd.read_csv(path_files + r\"\\networks\\user_ev_centrality.csv\", low_memory=False, encoding=\"utf-8\", lineterminator=\"\\n\")\n",
    "ev_cen.rename(columns={\"name\": \"user_screen_name\"}, inplace=True)\n",
    "tweets = tweets.merge(toxic, on=\"id\", how=\"left\")\n",
    "tweets = tweets.merge(sentiment, on=\"id\", how=\"left\")\n",
    "tweets = tweets.merge(in_deg, on=\"user_screen_name\", how=\"left\")\n",
    "tweets = tweets.merge(deg, on=\"user_screen_name\", how=\"left\")\n",
    "tweets = tweets.merge(community, on=\"user_screen_name\", how=\"left\")\n",
    "tweets = tweets.merge(domains, on=\"user_screen_name\", how=\"left\")\n",
    "tweets = tweets.merge(deg_cen, on=\"user_screen_name\", how=\"left\")\n",
    "tweets = tweets.merge(ev_cen, on=\"user_screen_name\", how=\"left\")"
   ],
   "metadata": {
    "collapsed": false,
    "pycharm": {
     "name": "#%%\n"
    }
   }
  },
  {
   "cell_type": "code",
   "execution_count": null,
   "outputs": [],
   "source": [
    "df_urls = tweets.loc[tweets['urls'] != '[]']\n",
    "df_urls = [x.split()[3].translate({ord(\"'\"): None}).replace(\",\",\"\") for x in df_urls[\"urls\"]]\n",
    "df_urls = [x if (\"https://youtu.be\" in x) or (\"https://www.youtube.com\" in x) else np.nan for x in df_urls]\n",
    "df_urls = list(pd.Series(df_urls).dropna())\n",
    "lst = []\n",
    "for i in df_urls:\n",
    "    if 'playlist' in i:\n",
    "        lst.append(i)\n",
    "for i in df_urls:\n",
    "    if 'www.youtube.com/channel' in i:\n",
    "        lst.append(i)\n",
    "l3 = [x for x in df_urls if x not in lst]\n",
    "l3 = list(set(l3))\n",
    "# df_yt_domains = pd.DataFrame(l3, columns=[\"URL\"]).to_csv(r\"C:\\Users\\gianl\\Desktop\\Gi\\Supsi\\Vaccines_Discussion_Italy\\Italian\\files\\domains_yt.csv\",\n",
    "#                                                          line_terminator=\"\\n\", index=False, encoding='utf-8')"
   ],
   "metadata": {
    "collapsed": false,
    "pycharm": {
     "name": "#%%\n"
    }
   }
  },
  {
   "cell_type": "markdown",
   "source": [
    "# Read data"
   ],
   "metadata": {
    "collapsed": false,
    "pycharm": {
     "name": "#%% md\n"
    }
   }
  },
  {
   "cell_type": "code",
   "execution_count": null,
   "outputs": [],
   "source": [
    "path_base = r\"C:\\Users\\gianluca.nogara\\Desktop\\Repo\\Vaccines_Discussion_Italy\\Italian\"\n",
    "suspended_files = glob.glob(path_base + r\"\\script_directory_output\\suspended_users\\out*.csv\")\n",
    "df = pd.DataFrame()\n",
    "for file in suspended_files:\n",
    "    temp = pd.read_csv(file, lineterminator=\"\\n\", encoding=\"utf-8\", low_memory=False)\n",
    "    df = df.append(temp)\n",
    "df.drop_duplicates(subset=[\"name\"], inplace=True)\n",
    "df.reset_index(drop=True, inplace=True)\n",
    "lst_suspended = df[df[\"status\"].str.contains(\"'code': 63\")]"
   ],
   "metadata": {
    "collapsed": false,
    "pycharm": {
     "name": "#%%\n"
    }
   }
  },
  {
   "cell_type": "code",
   "execution_count": null,
   "outputs": [],
   "source": [
    "novax = pd.read_csv(path_files + r\"\\users\\bad.csv\", lineterminator=\"\\n\", low_memory=False, encoding=\"utf-8\")\n",
    "novax = list(novax[\"screen_name\"])\n",
    "users = pd.read_csv(path_files + r\"\\users\\other_users.csv\", lineterminator=\"\\n\", low_memory=False, encoding=\"utf-8\")\n",
    "users = list(users[\"name\"])\n",
    "provax = pd.read_csv(path_files + r\"\\users\\good.csv\", lineterminator=\"\\n\", low_memory=False, encoding=\"utf-8\")\n",
    "provax = list(provax[\"name\"])\n",
    "suspended = list(lst_suspended[\"name\"])\n",
    "novax_activities = tweets[tweets[\"user_screen_name\"].isin(novax)]\n",
    "users_activities = tweets[tweets[\"user_screen_name\"].isin(users)]\n",
    "provax_activities = tweets[tweets[\"user_screen_name\"].isin(provax)]\n",
    "suspended_activities =  tweets[tweets[\"user_screen_name\"].isin(suspended)]\n",
    "novax_rt_in = tweets[tweets[\"rt_user_screen_name\"].isin(novax)]\n",
    "users_rt_in = tweets[tweets[\"rt_user_screen_name\"].isin(users)]\n",
    "provax_rt_in = tweets[tweets[\"rt_user_screen_name\"].isin(provax)]\n",
    "suspended_rt_in =  tweets[tweets[\"rt_user_screen_name\"].isin(suspended)]"
   ],
   "metadata": {
    "collapsed": false,
    "pycharm": {
     "name": "#%%\n"
    }
   }
  },
  {
   "cell_type": "code",
   "execution_count": null,
   "outputs": [],
   "source": [
    "print(f\"Novax activities: {len(novax_activities)}\")\n",
    "print(f\"Users activities: {len(users_activities)}\")\n",
    "print(f\"Provax activities: {len(provax_activities)}\")\n",
    "print(f\"Suspended activities: {len(suspended_activities)}\")\n",
    "print(\"__________________________________________\")\n",
    "print(\" \")\n",
    "print(f\"Novax rt received: {len(novax_rt_in)}\")\n",
    "print(f\"Users rt received: {len(users_rt_in)}\")\n",
    "print(f\"Provax rt received: {len(provax_rt_in)}\")\n",
    "print(f\"Suspended rt received: {len(suspended_rt_in)}\")"
   ],
   "metadata": {
    "collapsed": false,
    "pycharm": {
     "name": "#%%\n"
    }
   }
  },
  {
   "cell_type": "markdown",
   "source": [
    "# Activities"
   ],
   "metadata": {
    "collapsed": false,
    "pycharm": {
     "name": "#%% md\n"
    }
   }
  },
  {
   "cell_type": "code",
   "execution_count": null,
   "outputs": [],
   "source": [],
   "metadata": {
    "collapsed": false,
    "pycharm": {
     "name": "#%%\n"
    }
   }
  },
  {
   "cell_type": "code",
   "execution_count": null,
   "outputs": [],
   "source": [
    "x = utils.split(novax_activities)\n",
    "labels = list(x.keys())\n",
    "values = list(x.values())\n",
    "values = [i/sum(values) for i in values]\n",
    "plt.bar(labels, values)\n",
    "plt.title(\"NOVAX activities\")\n",
    "plt.show()\n",
    "x = utils.split(users_activities)\n",
    "labels = list(x.keys())\n",
    "values = list(x.values())\n",
    "values = [i / sum(values) for i in values]\n",
    "plt.bar(labels, values)\n",
    "plt.title(\"USERS activities\")\n",
    "plt.show()\n",
    "x = utils.split(provax_activities)\n",
    "labels = list(x.keys())\n",
    "values = list(x.values())\n",
    "values = [i / sum(values) for i in values]\n",
    "plt.bar(labels, values)\n",
    "plt.title(\"PROVAX activities\")\n",
    "plt.show()\n",
    "x = utils.split(suspended_activities)\n",
    "labels = list(x.keys())\n",
    "values = list(x.values())\n",
    "values = [i / sum(values) for i in values]\n",
    "plt.bar(labels, values)\n",
    "plt.title(\"SUSPENDED activities\")\n",
    "plt.show()\n"
   ],
   "metadata": {
    "collapsed": false,
    "pycharm": {
     "name": "#%%\n"
    }
   }
  },
  {
   "cell_type": "markdown",
   "source": [
    "# Hashtags"
   ],
   "metadata": {
    "collapsed": false,
    "pycharm": {
     "name": "#%% md\n"
    }
   }
  },
  {
   "cell_type": "code",
   "execution_count": null,
   "outputs": [],
   "source": [
    "#import importlib\n",
    "#importlib.reload(utils)"
   ],
   "metadata": {
    "collapsed": false,
    "pycharm": {
     "name": "#%%\n"
    }
   }
  },
  {
   "cell_type": "code",
   "execution_count": null,
   "outputs": [],
   "source": [
    "val = pd.Series(utils.hashtag_extraction(novax_activities)).value_counts().sort_values(ascending=False)\n",
    "fig = plt.figure()\n",
    "ax = val[:10].plot(kind='barh', color='green')\n",
    "ax.set_title('Most HASHTAGS shared by NOVAX')\n",
    "ax.invert_yaxis()\n",
    "plt.show()"
   ],
   "metadata": {
    "collapsed": false,
    "pycharm": {
     "name": "#%%\n"
    }
   }
  },
  {
   "cell_type": "code",
   "execution_count": null,
   "outputs": [],
   "source": [
    "val = pd.Series(utils.hashtag_extraction(users_activities)).value_counts().sort_values(ascending=False)\n",
    "fig = plt.figure()\n",
    "ax = val[:10].plot(kind='barh', color='lightgreen')\n",
    "ax.set_title('Most HASHTAGS shared by USERS')\n",
    "ax.invert_yaxis()\n",
    "plt.show()"
   ],
   "metadata": {
    "collapsed": false,
    "pycharm": {
     "name": "#%%\n"
    }
   }
  },
  {
   "cell_type": "code",
   "execution_count": null,
   "outputs": [],
   "source": [
    "val = pd.Series(utils.hashtag_extraction(provax_activities)).value_counts().sort_values(ascending=False)\n",
    "fig = plt.figure()\n",
    "ax = val[:10].plot(kind='barh', color='orange')\n",
    "ax.set_title('Most HASHTAGS shared by USERS')\n",
    "ax.invert_yaxis()\n",
    "plt.show()"
   ],
   "metadata": {
    "collapsed": false,
    "pycharm": {
     "name": "#%%\n"
    }
   }
  },
  {
   "cell_type": "code",
   "execution_count": null,
   "outputs": [],
   "source": [
    "val = pd.Series(utils.hashtag_extraction(suspended_activities)).value_counts().sort_values(ascending=False)\n",
    "fig = plt.figure()\n",
    "ax = val[:10].plot(kind='barh', color='red')\n",
    "ax.set_title('Most HASHTAGS shared by SUSPENDED')\n",
    "ax.invert_yaxis()\n",
    "plt.show()"
   ],
   "metadata": {
    "collapsed": false,
    "pycharm": {
     "name": "#%%\n"
    }
   }
  },
  {
   "cell_type": "markdown",
   "source": [
    "# Urls"
   ],
   "metadata": {
    "collapsed": false,
    "pycharm": {
     "name": "#%% md\n"
    }
   }
  },
  {
   "cell_type": "code",
   "execution_count": null,
   "outputs": [],
   "source": [
    "x = utils.extract_domain_list(novax_activities)\n",
    "novax_urls = []\n",
    "lst_not_plot = [\"twitter.com\", \"bit.ly\", \"ow.ly\"]\n",
    "cont = 0\n",
    "for i in x:\n",
    "    if i != []:\n",
    "        for j in i:\n",
    "            if (j not in lst_not_plot):\n",
    "                if j == \"youtu.be\":\n",
    "                    j = \"youtube.com\"\n",
    "                novax_urls.append(j)\n",
    "val = pd.Series(novax_urls).value_counts().sort_values(ascending=False)\n",
    "fig = plt.figure()\n",
    "ax = val[:15].plot(kind='barh', color='green')\n",
    "ax.set_title('Most URLS shared by NOVAX')\n",
    "ax.invert_yaxis()\n",
    "plt.show()"
   ],
   "metadata": {
    "collapsed": false,
    "pycharm": {
     "name": "#%%\n"
    }
   }
  },
  {
   "cell_type": "code",
   "execution_count": null,
   "outputs": [],
   "source": [
    "x = utils.extract_domain_list(users_activities)\n",
    "users_urls = []\n",
    "lst_not_plot = [\"dlvr.it\", \"twitter.com\", \"tinyurl.com\", \"trib.al\", \"bit.ly\", \"ow.ly\"]\n",
    "cont = 0\n",
    "for i in x:\n",
    "    if i != []:\n",
    "        for j in i:\n",
    "            if j not in lst_not_plot:\n",
    "                if j == \"youtu.be\":\n",
    "                    j = \"youtube.com\"\n",
    "                users_urls.append(j)\n",
    "val = pd.Series(users_urls).value_counts().sort_values(ascending=False)\n",
    "fig = plt.figure()\n",
    "ax = val[:15].plot(kind='barh', color='lightgreen')\n",
    "ax.set_title('Most URLS shared by USERS')\n",
    "ax.invert_yaxis()\n",
    "plt.show()"
   ],
   "metadata": {
    "collapsed": false,
    "pycharm": {
     "name": "#%%\n"
    }
   }
  },
  {
   "cell_type": "code",
   "execution_count": null,
   "outputs": [],
   "source": [
    "x = utils.extract_domain_list(provax_activities)\n",
    "users_urls = []\n",
    "lst_not_plot = [\"dlvr.it\", \"twitter.com\", \"tinyurl.com\", \"trib.al\", \"bit.ly\", \"ow.ly\"]\n",
    "cont = 0\n",
    "for i in x:\n",
    "    if i != []:\n",
    "        for j in i:\n",
    "            if j not in lst_not_plot:\n",
    "                if j == \"youtu.be\":\n",
    "                    j = \"youtube.com\"\n",
    "                users_urls.append(j)\n",
    "val = pd.Series(users_urls).value_counts().sort_values(ascending=False)\n",
    "fig = plt.figure()\n",
    "ax = val[:15].plot(kind='barh', color='orange')\n",
    "ax.set_title('Most URLS shared by PROVAX')\n",
    "ax.invert_yaxis()\n",
    "plt.show()"
   ],
   "metadata": {
    "collapsed": false,
    "pycharm": {
     "name": "#%%\n"
    }
   }
  },
  {
   "cell_type": "code",
   "execution_count": null,
   "outputs": [],
   "source": [
    "x = utils.extract_domain_list(suspended_activities)\n",
    "users_urls = []\n",
    "lst_not_plot = [\"dlvr.it\", \"twitter.com\", \"tinyurl.com\", \"trib.al\", \"bit.ly\", \"ow.ly\"]\n",
    "cont = 0\n",
    "for i in x:\n",
    "    if i != []:\n",
    "        for j in i:\n",
    "            if j not in lst_not_plot:\n",
    "                if j == \"youtu.be\":\n",
    "                    j = \"youtube.com\"\n",
    "                users_urls.append(j)\n",
    "val = pd.Series(users_urls).value_counts().sort_values(ascending=False)\n",
    "fig = plt.figure()\n",
    "ax = val[:15].plot(kind='barh', color='red')\n",
    "ax.set_title('Most URLS shared by SUSPENDED')\n",
    "ax.invert_yaxis()\n",
    "plt.show()"
   ],
   "metadata": {
    "collapsed": false,
    "pycharm": {
     "name": "#%%\n"
    }
   }
  },
  {
   "cell_type": "markdown",
   "source": [
    "# YouTube"
   ],
   "metadata": {
    "collapsed": false,
    "pycharm": {
     "name": "#%% md\n"
    }
   }
  },
  {
   "cell_type": "code",
   "execution_count": null,
   "outputs": [],
   "source": [
    "def extract_youtube(df):\n",
    "    value = []\n",
    "    for i in (df.itertuples()):\n",
    "        url_exp = i.urls.split(\" \")\n",
    "        lst_inside = []\n",
    "        for exp in range(len(url_exp)):\n",
    "            if url_exp[exp] == \"'expanded_url':\":\n",
    "                lst_inside.append((url_exp[exp+1][1:-2], i.id))\n",
    "        value.append(lst_inside)\n",
    "    urls = []\n",
    "    ids = []\n",
    "    for i in value:\n",
    "        for j in i:\n",
    "            if \"youtu\" in j[0]:\n",
    "                urls.append(j[0])\n",
    "                ids.append(j[1])\n",
    "    df_domains_ids = pd.DataFrame(list(zip(ids, urls)), columns=['id', 'url'])\n",
    "    df_domains_ids.drop_duplicates(subset=[\"id\"], keep=\"last\", inplace=True)\n",
    "    return df_domains_ids"
   ],
   "metadata": {
    "collapsed": false,
    "pycharm": {
     "name": "#%%\n"
    }
   }
  },
  {
   "cell_type": "code",
   "execution_count": null,
   "outputs": [],
   "source": [
    "novax_yt = extract_youtube(novax_activities)\n",
    "users_yt = extract_youtube(users_activities)\n",
    "provax_yt = extract_youtube(provax_activities)\n",
    "suspended_yt = extract_youtube(suspended_activities)"
   ],
   "metadata": {
    "collapsed": false,
    "pycharm": {
     "name": "#%%\n"
    }
   }
  },
  {
   "cell_type": "code",
   "execution_count": null,
   "outputs": [],
   "source": [
    "yt_info = pd.read_csv(r\"C:\\Users\\gianluca.nogara\\Desktop\\Repo\\Vaccines_Discussion_Italy\\Italian\\script_directory_output\\youtube\\youtube_info.csv\",\n",
    "                      lineterminator=\"\\n\", low_memory=False, encoding=\"utf-8\")\n",
    "yt_info.drop_duplicates(subset=[\"url\"], keep=\"last\", inplace=True)"
   ],
   "metadata": {
    "collapsed": false,
    "pycharm": {
     "name": "#%%\n"
    }
   }
  },
  {
   "cell_type": "code",
   "execution_count": null,
   "outputs": [],
   "source": [
    "novax_yt = yt_info.merge(novax_yt, on=\"url\", how='left')\n",
    "novax_yt = novax_yt[novax_yt['id'].notna()]\n",
    "users_yt = yt_info.merge(users_yt, on=\"url\", how='left')\n",
    "users_yt = users_yt[users_yt['id'].notna()]\n",
    "provax_yt = yt_info.merge(provax_yt, on=\"url\", how='left')\n",
    "provax_yt = provax_yt[provax_yt['id'].notna()]\n",
    "suspended_yt = yt_info.merge(suspended_yt, on=\"url\", how='left')\n",
    "suspended_yt = suspended_yt[suspended_yt['id'].notna()]"
   ],
   "metadata": {
    "collapsed": false,
    "pycharm": {
     "name": "#%%\n"
    }
   }
  },
  {
   "cell_type": "code",
   "execution_count": null,
   "outputs": [],
   "source": [
    "print(f\"NOVAX YouTube video availability: {round(len(novax_yt[novax_yt['available']==True])/len(novax_yt),3)*100}%\")\n",
    "print(f\"USERS YouTube video availability: {round(len(users_yt[users_yt['available']==True])/len(users_yt),3)*100}%\")\n",
    "print(f\"PROVAX YouTube video availability: {round(len(provax_yt[provax_yt['available']==True])/len(provax_yt),3)*100}%\")\n",
    "print(f\"SUSPENDED YouTube video availability: {round(len(suspended_yt[suspended_yt['available']==True])/len(suspended_yt),3)*100}%\")\n",
    "# pd.Series(available[\"channel\"]).value_counts()"
   ],
   "metadata": {
    "collapsed": false,
    "pycharm": {
     "name": "#%%\n"
    }
   }
  },
  {
   "cell_type": "markdown",
   "source": [
    "# Most active, OUT RTs and IN RTs"
   ],
   "metadata": {
    "collapsed": false,
    "pycharm": {
     "name": "#%% md\n"
    }
   }
  },
  {
   "cell_type": "code",
   "execution_count": null,
   "outputs": [],
   "source": [
    "val = pd.Series(novax_activities[\"user_screen_name\"]).value_counts().sort_values(ascending=False)\n",
    "fig = plt.figure()\n",
    "ax = val[:15].plot(kind='barh', color='green')\n",
    "ax.set_title('Most ACTIVE NOVAX')\n",
    "ax.invert_yaxis()\n",
    "plt.show()\n",
    "val = pd.Series(users_activities[\"user_screen_name\"]).value_counts().sort_values(ascending=False)\n",
    "fig2 = plt.figure()\n",
    "ax2 = val[:15].plot(kind='barh', color='lightgreen')\n",
    "ax2.set_title('Most ACTIVE USERS')\n",
    "ax2.invert_yaxis()\n",
    "plt.show()\n",
    "val = pd.Series(provax_activities[\"user_screen_name\"]).value_counts().sort_values(ascending=False)\n",
    "fig3 = plt.figure()\n",
    "ax3 = val[:15].plot(kind='barh', color='orange')\n",
    "ax3.set_title('Most ACTIVE PROVAX')\n",
    "ax3.invert_yaxis()\n",
    "plt.show()\n",
    "val = pd.Series(suspended_activities[\"user_screen_name\"]).value_counts().sort_values(ascending=False)\n",
    "fig4 = plt.figure()\n",
    "ax4 = val[:15].plot(kind='barh', color='red')\n",
    "ax4.set_title('Most ACTIVE SUSPENDED')\n",
    "ax4.invert_yaxis()\n",
    "plt.show()"
   ],
   "metadata": {
    "collapsed": false,
    "pycharm": {
     "name": "#%%\n"
    }
   }
  },
  {
   "cell_type": "code",
   "execution_count": null,
   "outputs": [],
   "source": [
    "val = pd.Series(novax_activities[\"rt_user_screen_name\"]).value_counts().sort_values(ascending=False)\n",
    "fig = plt.figure()\n",
    "ax = val[:15].plot(kind='barh', color='green')\n",
    "ax.set_title('Most OUT RTs of NOVAX')\n",
    "ax.invert_yaxis()\n",
    "plt.show()\n",
    "val = pd.Series(users_activities[\"rt_user_screen_name\"]).value_counts().sort_values(ascending=False)\n",
    "fig2 = plt.figure()\n",
    "ax2 = val[:15].plot(kind='barh', color='lightgreen')\n",
    "ax2.set_title('Most OUT RTs of USERS')\n",
    "ax2.invert_yaxis()\n",
    "plt.show()\n",
    "val = pd.Series(provax_activities[\"rt_user_screen_name\"]).value_counts().sort_values(ascending=False)\n",
    "fig3 = plt.figure()\n",
    "ax3 = val[:15].plot(kind='barh', color='orange')\n",
    "ax3.set_title('Most OUT RTs of PROVAX')\n",
    "ax3.invert_yaxis()\n",
    "plt.show()\n",
    "val = pd.Series(suspended_activities[\"rt_user_screen_name\"]).value_counts().sort_values(ascending=False)\n",
    "fig4 = plt.figure()\n",
    "ax4 = val[:15].plot(kind='barh', color='red')\n",
    "ax4.set_title('Most OUT RTs of SUSPENDED')\n",
    "ax4 .invert_yaxis()\n",
    "plt.show()"
   ],
   "metadata": {
    "collapsed": false,
    "pycharm": {
     "name": "#%%\n"
    }
   }
  },
  {
   "cell_type": "code",
   "execution_count": null,
   "outputs": [],
   "source": [
    "val = pd.Series(novax_rt_in[\"user_screen_name\"]).value_counts().sort_values(ascending=False)\n",
    "fig = plt.figure()\n",
    "ax = val[:15].plot(kind='barh', color='green')\n",
    "ax.set_title('Most IN RTs of NOVAX')\n",
    "ax.invert_yaxis()\n",
    "plt.show()\n",
    "val = pd.Series(users_rt_in[\"user_screen_name\"]).value_counts().sort_values(ascending=False)\n",
    "fig2 = plt.figure()\n",
    "ax2 = val[:15].plot(kind='barh', color='lightgreen')\n",
    "ax2.set_title('Most IN RTs of USERS')\n",
    "ax2.invert_yaxis()\n",
    "plt.show()\n",
    "val = pd.Series(provax_rt_in[\"user_screen_name\"]).value_counts().sort_values(ascending=False)\n",
    "fig3 = plt.figure()\n",
    "ax3 = val[:15].plot(kind='barh', color='orange')\n",
    "ax3.set_title('Most IN RTs of PROVAX')\n",
    "ax3.invert_yaxis()\n",
    "plt.show()\n",
    "val = pd.Series(suspended_rt_in[\"user_screen_name\"]).value_counts().sort_values(ascending=False)\n",
    "fig4 = plt.figure()\n",
    "ax4 = val[:15].plot(kind='barh', color='red')\n",
    "ax4.set_title('Most IN RTs of SUSPENDED')\n",
    "ax4 .invert_yaxis()\n",
    "plt.show()"
   ],
   "metadata": {
    "collapsed": false,
    "pycharm": {
     "name": "#%%\n"
    }
   }
  },
  {
   "cell_type": "markdown",
   "source": [
    "# Credibility score, Centrality and Community"
   ],
   "metadata": {
    "collapsed": false,
    "pycharm": {
     "name": "#%% md\n"
    }
   }
  },
  {
   "cell_type": "code",
   "execution_count": null,
   "outputs": [],
   "source": [
    "na = novax_activities[novax_activities[\"user_screen_name\"].notna()]\n",
    "novax_users = na.drop_duplicates(subset=[\"user_screen_name\"], keep=\"last\")[[\"user_screen_name\", \"ev\", \"deg_cen\", \"in_degree\", \"degree\", \"credibility_score\", \"community\"]]\n",
    "ua = users_activities[users_activities[\"user_screen_name\"].notna()]\n",
    "users_users = ua.drop_duplicates(subset=[\"user_screen_name\"], keep=\"last\")[[\"user_screen_name\", \"ev\", \"deg_cen\", \"in_degree\", \"degree\", \"credibility_score\", \"community\"]]\n",
    "pa = provax_activities[provax_activities[\"user_screen_name\"].notna()]\n",
    "provax_users = pa.drop_duplicates(subset=[\"user_screen_name\"], keep=\"last\")[[\"user_screen_name\", \"ev\", \"deg_cen\", \"in_degree\", \"degree\", \"credibility_score\", \"community\"]]\n",
    "sa = suspended_activities[suspended_activities[\"user_screen_name\"].notna()]\n",
    "suspended_users = sa.drop_duplicates(subset=[\"user_screen_name\"], keep=\"last\")[[\"user_screen_name\", \"ev\", \"deg_cen\", \"in_degree\", \"degree\", \"credibility_score\", \"community\"]]"
   ],
   "metadata": {
    "collapsed": false,
    "pycharm": {
     "name": "#%%\n"
    }
   }
  },
  {
   "cell_type": "code",
   "execution_count": null,
   "outputs": [],
   "source": [
    "print(f\"Mean NOVAX credibility value {round(np.nanmean(novax_users['credibility_score'])*100,2)}%\")\n",
    "print(f\"Mean USERS credibility value {round(np.nanmean(users_users['credibility_score'])*100,2)}%\")\n",
    "print(f\"Mean PROVAX credibility value {round(np.nanmean(provax_users['credibility_score'])*100,2)}%\")\n",
    "print(f\"Mean SUSPENDED credibility value {round(np.nanmean(suspended_users['credibility_score'])*100,2)}%\")"
   ],
   "metadata": {
    "collapsed": false,
    "pycharm": {
     "name": "#%%\n"
    }
   }
  },
  {
   "cell_type": "code",
   "execution_count": null,
   "outputs": [],
   "source": [
    "val = pd.Series(novax_users[\"community\"]).value_counts().sort_values(ascending=False)\n",
    "ax = val.plot(kind='barh', color='green')\n",
    "ax.set_title('Communities of NOVAX')\n",
    "ax .invert_yaxis()\n",
    "plt.show()\n",
    "val = pd.Series(users_users[\"community\"]).value_counts().sort_values(ascending=False)\n",
    "ax = val.plot(kind='barh', color='lightgreen')\n",
    "ax.set_title('Communities of USERS')\n",
    "ax .invert_yaxis()\n",
    "plt.show()\n",
    "val = pd.Series(provax_users[\"community\"]).value_counts().sort_values(ascending=False)\n",
    "ax = val.plot(kind='barh', color='orange')\n",
    "ax.set_title('Communities of PROVAX')\n",
    "ax .invert_yaxis()\n",
    "plt.show()\n",
    "val = pd.Series(suspended_users[\"community\"]).value_counts().sort_values(ascending=False)\n",
    "ax = val.iloc[:15].plot(kind='barh', color='red')\n",
    "ax.set_title('Communities of SUSPENDED')\n",
    "ax .invert_yaxis()\n",
    "plt.show()"
   ],
   "metadata": {
    "collapsed": false,
    "pycharm": {
     "name": "#%%\n"
    }
   }
  },
  {
   "cell_type": "code",
   "execution_count": null,
   "outputs": [],
   "source": [
    "print(f\"Mean NOVAX ev centrality value {round(np.nanmean(novax_users['ev']),5)}\")\n",
    "print(f\"Mean USERS ev centrality value {round(np.nanmean(users_users['ev']),5)}\")\n",
    "print(f\"Mean PROVAX ev centrality value {round(np.nanmean(provax_users['ev']),5)}\")\n",
    "print(f\"Mean SUSPENDED ev centrality value {round(np.nanmean(suspended_users['ev']),5)}\")"
   ],
   "metadata": {
    "collapsed": false,
    "pycharm": {
     "name": "#%%\n"
    }
   }
  },
  {
   "cell_type": "markdown",
   "source": [
    "# Sentiment and Emotion"
   ],
   "metadata": {
    "collapsed": false,
    "pycharm": {
     "name": "#%% md\n"
    }
   }
  },
  {
   "cell_type": "code",
   "execution_count": null,
   "outputs": [],
   "source": [
    "print(f\"NOVAX have {round(len(novax_activities[novax_activities['sentiment']=='negative'])/len(novax_activities)*100,2)}% of Negative sentences\")\n",
    "print(f\"USERS have {round(len(users_activities[users_activities['sentiment']=='negative'])/len(users_activities)*100,2)}% of Negative sentences\")\n",
    "print(f\"PROVAX have {round(len(provax_activities[provax_activities['sentiment']=='negative'])/len(provax_activities)*100,2)}% of Negative sentences\")\n",
    "print(f\"SUSPENDED have {round(len(suspended_activities[suspended_activities['sentiment']=='negative'])/len(suspended_activities)*100,2)}% of Negative sentences\")"
   ],
   "metadata": {
    "collapsed": false,
    "pycharm": {
     "name": "#%%\n"
    }
   }
  },
  {
   "cell_type": "code",
   "execution_count": null,
   "outputs": [],
   "source": [
    "val = pd.Series(novax_activities[\"emotion\"]).value_counts().sort_values(ascending=False)\n",
    "ax = val.plot(kind='barh')\n",
    "ax.set_title('Emotions of NOVAX')\n",
    "ax .invert_yaxis()\n",
    "plt.show()\n",
    "val = pd.Series(users_activities[\"emotion\"]).value_counts().sort_values(ascending=False)\n",
    "ax = val.plot(kind='barh')\n",
    "ax.set_title('Emotions of USERS')\n",
    "ax .invert_yaxis()\n",
    "plt.show()\n",
    "val = pd.Series(provax_activities[\"emotion\"]).value_counts().sort_values(ascending=False)\n",
    "ax = val.plot(kind='barh')\n",
    "ax.set_title('Emotions of PROVAX')\n",
    "ax .invert_yaxis()\n",
    "plt.show()\n",
    "val = pd.Series(suspended_activities[\"emotion\"]).value_counts().sort_values(ascending=False)\n",
    "ax = val.plot(kind='barh')\n",
    "ax.set_title('Emotions of SUSPENDED')\n",
    "ax .invert_yaxis()\n",
    "plt.show()"
   ],
   "metadata": {
    "collapsed": false,
    "pycharm": {
     "name": "#%%\n"
    }
   }
  },
  {
   "cell_type": "markdown",
   "source": [
    "# Toxicity"
   ],
   "metadata": {
    "collapsed": false,
    "pycharm": {
     "name": "#%% md\n"
    }
   }
  },
  {
   "cell_type": "code",
   "execution_count": null,
   "outputs": [],
   "source": [
    "print(f\"Mean NOVAX toxicity value {round(np.nanmean(novax_activities['toxicity']),2)}\")\n",
    "print(f\"Mean USERS toxicity value {round(np.nanmean(users_activities['toxicity']),2)}\")\n",
    "print(f\"Mean PROVAX toxicity value {round(np.nanmean(provax_activities['toxicity']),2)}\")\n",
    "print(f\"Mean SUSPENDED toxicity value {round(np.nanmean(suspended_activities['toxicity']),2)}\")"
   ],
   "metadata": {
    "collapsed": false,
    "pycharm": {
     "name": "#%%\n"
    }
   }
  },
  {
   "cell_type": "markdown",
   "source": [
    "# Toxicity"
   ],
   "metadata": {
    "collapsed": false,
    "pycharm": {
     "name": "#%% md\n"
    }
   }
  },
  {
   "cell_type": "code",
   "execution_count": null,
   "outputs": [],
   "source": [
    "print(f\"Mean NOVAX toxicity value {round(np.nanmean(novax_activities['toxicity']),2)}\")\n",
    "print(f\"Mean USERS toxicity value {round(np.nanmean(users_activities['toxicity']),2)}\")\n",
    "print(f\"Mean PROVAX toxicity value {round(np.nanmean(provax_activities['toxicity']),2)}\")\n",
    "print(f\"Mean SUSPENDED toxicity value {round(np.nanmean(suspended_activities['toxicity']),2)}\")"
   ],
   "metadata": {
    "collapsed": false,
    "pycharm": {
     "name": "#%%\n"
    }
   }
  },
  {
   "cell_type": "markdown",
   "source": [
    "# Toxicity"
   ],
   "metadata": {
    "collapsed": false,
    "pycharm": {
     "name": "#%% md\n"
    }
   }
  },
  {
   "cell_type": "code",
   "execution_count": 160,
   "outputs": [
    {
     "name": "stdout",
     "output_type": "stream",
     "text": [
      "Mean NOVAX toxicity value 0.12\n",
      "Mean USERS toxicity value 0.08\n",
      "Mean PROVAX toxicity value 0.04\n",
      "Mean SUSPENDED toxicity value 0.15\n"
     ]
    }
   ],
   "source": [
    "print(f\"Mean NOVAX toxicity value {round(np.nanmean(novax_activities['toxicity']),2)}\")\n",
    "print(f\"Mean USERS toxicity value {round(np.nanmean(users_activities['toxicity']),2)}\")\n",
    "print(f\"Mean PROVAX toxicity value {round(np.nanmean(provax_activities['toxicity']),2)}\")\n",
    "print(f\"Mean SUSPENDED toxicity value {round(np.nanmean(suspended_activities['toxicity']),2)}\")"
   ],
   "metadata": {
    "collapsed": false,
    "pycharm": {
     "name": "#%%\n"
    }
   }
  }
 ],
 "metadata": {
  "kernelspec": {
   "display_name": "Python 3 (ipykernel)",
   "language": "python",
   "name": "python3"
  },
  "language_info": {
   "codemirror_mode": {
    "name": "ipython",
    "version": 3
   },
   "file_extension": ".py",
   "mimetype": "text/x-python",
   "name": "python",
   "nbconvert_exporter": "python",
   "pygments_lexer": "ipython3",
   "version": "3.8.11"
  }
 },
 "nbformat": 4,
 "nbformat_minor": 5
}