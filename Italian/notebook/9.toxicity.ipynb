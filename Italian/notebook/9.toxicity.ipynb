{
 "cells": [
  {
   "cell_type": "code",
   "execution_count": 1,
   "id": "b2e2c77c",
   "metadata": {
    "pycharm": {
     "name": "#%%\n"
    }
   },
   "outputs": [],
   "source": [
    "import tweepy\n",
    "import json\n",
    "import pandas as pd\n",
    "from perspective import PerspectiveAPI\n",
    "from googleapiclient import discovery\n",
    "import numpy as np\n",
    "import re\n",
    "import time\n",
    "import sys\n",
    "path_utils = 'C:/Users/gianl/Desktop/Gi/Supsi/Vaccines_Discussion_Italy/tweet_utils'\n",
    "sys.path.append(path_utils)\n",
    "import utils\n",
    "from tqdm.notebook import tqdm\n",
    "import warnings\n",
    "warnings.filterwarnings(\"ignore\")\n",
    "path_files =\"C:/Users/gianl/Desktop/Gi/Supsi/Vaccines_Discussion_Italy/Italian/Files/\"\n",
    "path_data = \"C:/Users/gianl/Desktop/Gi/Supsi/Vaccines_Discussion_Italy/Italian/Files/Tweets/\""
   ]
  },
  {
   "cell_type": "code",
   "execution_count": 2,
   "id": "2ff83793",
   "metadata": {
    "pycharm": {
     "name": "#%%\n"
    }
   },
   "outputs": [],
   "source": [
    "jsonFile = open(path_files + 'auth.json', 'r')\n",
    "config = json.load(jsonFile)\n",
    "jsonFile.close()\n",
    "API_KEY = config[\"api_key_1\"]"
   ]
  },
  {
   "cell_type": "markdown",
   "id": "2b43990a",
   "metadata": {
    "pycharm": {
     "name": "#%% md\n"
    }
   },
   "source": [
    "# Clean text and write"
   ]
  },
  {
   "cell_type": "code",
   "execution_count": 6,
   "id": "a62a95bb",
   "metadata": {
    "pycharm": {
     "name": "#%%\n"
    }
   },
   "outputs": [],
   "source": [
    "strng = \"@Cristiano è il nostro #MVP? si: https://google.com\""
   ]
  },
  {
   "cell_type": "code",
   "execution_count": 41,
   "id": "e7567c97",
   "metadata": {
    "pycharm": {
     "name": "#%%\n"
    }
   },
   "outputs": [],
   "source": [
    "def clean(x: str):\n",
    "    if (\"http\" in x):\n",
    "        x = re.sub(r'http\\S+', '',x)\n",
    "    x = re.sub('[@#$]', '', x)\n",
    "    x = re.sub('\\n', ' ', x)\n",
    "    return x"
   ]
  },
  {
   "cell_type": "code",
   "execution_count": 8,
   "id": "edf35a60",
   "metadata": {
    "pycharm": {
     "name": "#%%\n"
    }
   },
   "outputs": [
    {
     "data": {
      "text/plain": [
       "'Cristiano è il nostro MVP? si: '"
      ]
     },
     "execution_count": 8,
     "metadata": {},
     "output_type": "execute_result"
    }
   ],
   "source": [
    "clean(strng)"
   ]
  },
  {
   "cell_type": "code",
   "execution_count": 3,
   "id": "ee1ccdf6",
   "metadata": {
    "pycharm": {
     "name": "#%%\n"
    }
   },
   "outputs": [],
   "source": [
    "df_bad = pd.read_csv(path_data + \"bad_activities.csv\")\n",
    "df_good = pd.read_csv(path_data + \"good_activities.csv\")\n",
    "df_suspended = pd.read_parquet(path_data + \"tweets_bad_suspended.parquet\", engine=\"fastparquet\")\n",
    "df_suspended_good= pd.read_parquet(path_data + \"tweets_good_suspended.parquet\", engine=\"fastparquet\")\n",
    "tweets = pd.read_parquet(path_data + \"tweets.parquet\", engine=\"fastparquet\")"
   ]
  },
  {
   "cell_type": "code",
   "execution_count": 40,
   "id": "19d7d7af",
   "metadata": {
    "pycharm": {
     "name": "#%%\n"
    }
   },
   "outputs": [],
   "source": [
    "# tweets.head()"
   ]
  },
  {
   "cell_type": "code",
   "execution_count": 92,
   "id": "8540a64b",
   "metadata": {
    "pycharm": {
     "name": "#%%\n"
    }
   },
   "outputs": [
    {
     "data": {
      "application/vnd.jupyter.widget-view+json": {
       "model_id": "7e106bc7323d4ceba8e92229ba2870fd",
       "version_major": 2,
       "version_minor": 0
      },
      "text/plain": [
       "HBox(children=(HTML(value=''), FloatProgress(value=0.0, max=4053201.0), HTML(value='')))"
      ]
     },
     "metadata": {},
     "output_type": "display_data"
    },
    {
     "name": "stdout",
     "output_type": "stream",
     "text": [
      "\n"
     ]
    }
   ],
   "source": [
    "# x = list(tweets[\"text\"])\n",
    "# y = list(tweets[\"id\"])\n",
    "# count = 0\n",
    "lst_id = []\n",
    "lst_text = []\n",
    "for i in tqdm(range(len(x))):\n",
    "    lst_id.append(y[i])\n",
    "    lst_text.append(clean(x[i]))\n",
    "pd.DataFrame(list(zip(lst_id,lst_text)),columns=[\"id\",\"text\"]).to_csv(\"C:/Users/gianl/Desktop/Gi/Supsi/Vaccines_Discussion_Italy/Laura/texts/df_cleaned.csv\",\n",
    "                                                                     line_terminator=\"\\n\", encoding=\"utf-8\", index=False)"
   ]
  },
  {
   "cell_type": "code",
   "execution_count": 2,
   "id": "5ff37a8a",
   "metadata": {
    "pycharm": {
     "name": "#%%\n"
    }
   },
   "outputs": [],
   "source": [
    "esempio = pd.read_csv(\"C:/Users/gianl/Desktop/Gi/Supsi/Vaccines_Discussion_Italy/Laura/texts/df_cleaned.csv\",\n",
    "                              lineterminator=\"\\n\", low_memory=False, encoding=\"utf-8\")"
   ]
  },
  {
   "cell_type": "code",
   "execution_count": 9,
   "id": "6da426d4",
   "metadata": {
    "pycharm": {
     "name": "#%%\n"
    }
   },
   "outputs": [
    {
     "data": {
      "application/vnd.jupyter.widget-view+json": {
       "model_id": "a18a5504e546453fbe7b90b4d3b5da6a",
       "version_major": 2,
       "version_minor": 0
      },
      "text/plain": [
       "HBox(children=(HTML(value=''), FloatProgress(value=0.0, max=1565714.0), HTML(value='')))"
      ]
     },
     "metadata": {},
     "output_type": "display_data"
    },
    {
     "name": "stdout",
     "output_type": "stream",
     "text": [
      "\n"
     ]
    }
   ],
   "source": [
    "lst_final = []\n",
    "x2 = list(set(esempio[\"text\"]))\n",
    "for i in tqdm(x2[1:]):\n",
    "    if len(i.split(\" \")) >= 4:\n",
    "        lst_final.append(i)"
   ]
  },
  {
   "cell_type": "code",
   "execution_count": 23,
   "id": "7202d7d1",
   "metadata": {
    "pycharm": {
     "name": "#%%\n"
    },
    "scrolled": true
   },
   "outputs": [],
   "source": [
    "n = 11\n",
    "splited = [lst_final[i::n] for i in range(n)]\n"
   ]
  },
  {
   "cell_type": "code",
   "execution_count": 25,
   "id": "860de227",
   "metadata": {
    "pycharm": {
     "name": "#%%\n"
    }
   },
   "outputs": [],
   "source": [
    "count = 0\n",
    "for i in splited:\n",
    "    pd.DataFrame(i, columns=[\"text\"]).to_csv(f\"C:/Users/gianl/Desktop/Gi/Supsi/Vaccines_Discussion_Italy/Laura/texts/example_{count}.csv\",\n",
    "                           line_terminator=\"\\n\", index=False, encoding=\"utf-8\")\n",
    "    count = count + 1\n"
   ]
  },
  {
   "cell_type": "code",
   "execution_count": 12,
   "id": "a5651f22",
   "metadata": {
    "pycharm": {
     "name": "#%%\n"
    }
   },
   "outputs": [],
   "source": [
    "\n",
    "# esempio = pd.read_csv(\"C:/Users/gianl/Desktop/Gi/Supsi/Vaccines_Discussion_Italy/Laura/texts/example.csv\",\n",
    "#                               lineterminator=\"\\n\", low_memory=False, encoding=\"utf-8\")\n",
    "# esempio"
   ]
  },
  {
   "cell_type": "code",
   "execution_count": 87,
   "id": "997621f8",
   "metadata": {
    "pycharm": {
     "name": "#%%\n"
    }
   },
   "outputs": [],
   "source": [
    "# print(len(x2))\n",
    "# count = 0\n",
    "# for i in x2:\n",
    "#     if len(i.split(\" \")) < 4:\n",
    "#         count = count + 1\n",
    "#         print(i)\n",
    "# print(count)\n",
    "# 1499124 - 69376\n",
    "# 1500000 / 50000"
   ]
  },
  {
   "cell_type": "markdown",
   "id": "0a216b78",
   "metadata": {
    "pycharm": {
     "name": "#%% md\n"
    }
   },
   "source": [
    "# Classification"
   ]
  },
  {
   "cell_type": "code",
   "execution_count": 3,
   "id": "17ea1c3a",
   "metadata": {
    "pycharm": {
     "name": "#%%\n"
    },
    "scrolled": false
   },
   "outputs": [],
   "source": [
    "# p = PerspectiveAPI(api_key=API_KEY)\n",
    "# results = []\n",
    "# for i in tqdm(texts):\n",
    "#     time.sleep(1)\n",
    "#     try:\n",
    "#         result = p.score(i)\n",
    "#         results.append(result[\"TOXICITY\"])\n",
    "#     except Exception as e:\n",
    "#         print(\"Error: \", e)"
   ]
  },
  {
   "cell_type": "code",
   "execution_count": 70,
   "id": "a9e18ec9",
   "metadata": {
    "pycharm": {
     "name": "#%%\n"
    }
   },
   "outputs": [
    {
     "name": "stdout",
     "output_type": "stream",
     "text": [
      "Primi 1000 tweet Good 0.03 Toxicity score\n",
      "Primi 1000 tweet Good susp 0.1 Toxicity score\n",
      "Primi 1000 tweet Bad susp 0.12 Toxicity score\n",
      "Primi 1000 tweet Bad 0.09 Toxicity score\n"
     ]
    }
   ],
   "source": [
    "print(f\"Primi 1000 tweet Good {0.03} Toxicity score\")\n",
    "print(f\"Primi 1000 tweet Good susp {0.10} Toxicity score\")\n",
    "print(f\"Primi 1000 tweet Bad susp {0.12} Toxicity score\")\n",
    "print(f\"Primi 1000 tweet Bad {0.09} Toxicity score\")"
   ]
  },
  {
   "cell_type": "code",
   "execution_count": 2,
   "id": "e2394a4d",
   "metadata": {
    "pycharm": {
     "name": "#%%\n"
    }
   },
   "outputs": [],
   "source": [
    "# client = discovery.build(\n",
    "#   \"commentanalyzer\",\n",
    "#   \"v1alpha1\",\n",
    "#   developerKey=API_KEY,\n",
    "#   discoveryServiceUrl=\"https://commentanalyzer.googleapis.com/$discovery/rest?version=v1alpha1\",\n",
    "#   static_discovery=False,\n",
    "# )\n",
    "\n",
    "# analyze_request = {\n",
    "#   'comment': { 'text': \"guarda, sei bravo!\"},\n",
    "#   'requestedAttributes': {'TOXICITY': {}}\n",
    "# }\n",
    "\n",
    "# response = client.comments().analyze(body=analyze_request).execute()\n",
    "# print(json.dumps(response, indent=2))"
   ]
  },
  {
   "cell_type": "markdown",
   "source": [
    "# Ricomposizione DF"
   ],
   "metadata": {
    "collapsed": false,
    "pycharm": {
     "name": "#%% md\n"
    }
   }
  },
  {
   "cell_type": "code",
   "execution_count": 21,
   "id": "45e719da",
   "metadata": {
    "pycharm": {
     "name": "#%%\n"
    }
   },
   "outputs": [],
   "source": [
    "esempio = pd.read_csv(\"C:/Users/gianl/Desktop/Gi/Supsi/Vaccines_Discussion_Italy/Italian/script_directory_output/df_cleaned.csv\",\n",
    "                              lineterminator=\"\\n\", low_memory=False, encoding=\"utf-8\")"
   ]
  },
  {
   "cell_type": "code",
   "execution_count": 3,
   "id": "2eccb807",
   "metadata": {
    "pycharm": {
     "name": "#%%\n"
    }
   },
   "outputs": [
    {
     "data": {
      "text/plain": "                    id                                               text\n0  1221739084449832960  La Memoria è l’unico vaccino contro l’indiffer...\n1  1221737155380293640  Oggi sono arrivati loro, 3 femminucce e 1 masc...\n2  1221730009989120001  L'indifferenza è più colpevole della violenza ...\n3  1221737654909382662  Minaccia morbillo nel Salento, Asl: \"Vaccinars...\n4  1221728980203724801  \"Coltivare la Memoria è ancora oggi un vaccino...",
      "text/html": "<div>\n<style scoped>\n    .dataframe tbody tr th:only-of-type {\n        vertical-align: middle;\n    }\n\n    .dataframe tbody tr th {\n        vertical-align: top;\n    }\n\n    .dataframe thead th {\n        text-align: right;\n    }\n</style>\n<table border=\"1\" class=\"dataframe\">\n  <thead>\n    <tr style=\"text-align: right;\">\n      <th></th>\n      <th>id</th>\n      <th>text</th>\n    </tr>\n  </thead>\n  <tbody>\n    <tr>\n      <th>0</th>\n      <td>1221739084449832960</td>\n      <td>La Memoria è l’unico vaccino contro l’indiffer...</td>\n    </tr>\n    <tr>\n      <th>1</th>\n      <td>1221737155380293640</td>\n      <td>Oggi sono arrivati loro, 3 femminucce e 1 masc...</td>\n    </tr>\n    <tr>\n      <th>2</th>\n      <td>1221730009989120001</td>\n      <td>L'indifferenza è più colpevole della violenza ...</td>\n    </tr>\n    <tr>\n      <th>3</th>\n      <td>1221737654909382662</td>\n      <td>Minaccia morbillo nel Salento, Asl: \"Vaccinars...</td>\n    </tr>\n    <tr>\n      <th>4</th>\n      <td>1221728980203724801</td>\n      <td>\"Coltivare la Memoria è ancora oggi un vaccino...</td>\n    </tr>\n  </tbody>\n</table>\n</div>"
     },
     "execution_count": 3,
     "metadata": {},
     "output_type": "execute_result"
    }
   ],
   "source": [
    "esempio.head()"
   ]
  },
  {
   "cell_type": "code",
   "execution_count": 18,
   "id": "f18bb7fe",
   "metadata": {
    "pycharm": {
     "name": "#%%\n"
    }
   },
   "outputs": [],
   "source": [
    "tweets = pd.read_parquet(path_data + \"tweets.parquet\", engine=\"fastparquet\")[[\"id\",\"user_screen_name\",\"created_at\"]]"
   ]
  },
  {
   "cell_type": "code",
   "execution_count": 19,
   "id": "f4410c9b",
   "metadata": {
    "pycharm": {
     "name": "#%%\n"
    }
   },
   "outputs": [
    {
     "data": {
      "text/plain": "                    id user_screen_name                      created_at\n0  1221739084449832960     planetpaul65  Mon Jan 27 10:17:51 +0000 2020\n1  1221737155380293640       Grace_1207  Mon Jan 27 10:10:11 +0000 2020\n2  1221730009989120001  MarisaMinervini  Mon Jan 27 09:41:47 +0000 2020\n3  1221737654909382662       LecceSette  Mon Jan 27 10:12:10 +0000 2020\n4  1221728980203724801         arual812  Mon Jan 27 09:37:42 +0000 2020",
      "text/html": "<div>\n<style scoped>\n    .dataframe tbody tr th:only-of-type {\n        vertical-align: middle;\n    }\n\n    .dataframe tbody tr th {\n        vertical-align: top;\n    }\n\n    .dataframe thead th {\n        text-align: right;\n    }\n</style>\n<table border=\"1\" class=\"dataframe\">\n  <thead>\n    <tr style=\"text-align: right;\">\n      <th></th>\n      <th>id</th>\n      <th>user_screen_name</th>\n      <th>created_at</th>\n    </tr>\n  </thead>\n  <tbody>\n    <tr>\n      <th>0</th>\n      <td>1221739084449832960</td>\n      <td>planetpaul65</td>\n      <td>Mon Jan 27 10:17:51 +0000 2020</td>\n    </tr>\n    <tr>\n      <th>1</th>\n      <td>1221737155380293640</td>\n      <td>Grace_1207</td>\n      <td>Mon Jan 27 10:10:11 +0000 2020</td>\n    </tr>\n    <tr>\n      <th>2</th>\n      <td>1221730009989120001</td>\n      <td>MarisaMinervini</td>\n      <td>Mon Jan 27 09:41:47 +0000 2020</td>\n    </tr>\n    <tr>\n      <th>3</th>\n      <td>1221737654909382662</td>\n      <td>LecceSette</td>\n      <td>Mon Jan 27 10:12:10 +0000 2020</td>\n    </tr>\n    <tr>\n      <th>4</th>\n      <td>1221728980203724801</td>\n      <td>arual812</td>\n      <td>Mon Jan 27 09:37:42 +0000 2020</td>\n    </tr>\n  </tbody>\n</table>\n</div>"
     },
     "execution_count": 19,
     "metadata": {},
     "output_type": "execute_result"
    }
   ],
   "source": [
    "tweets.head()"
   ]
  },
  {
   "cell_type": "code",
   "execution_count": 22,
   "id": "fc9f194c",
   "metadata": {
    "pycharm": {
     "name": "#%%\n"
    }
   },
   "outputs": [
    {
     "data": {
      "text/plain": "                    id                                               text  \\\n0  1221739084449832960  La Memoria è l’unico vaccino contro l’indiffer...   \n1  1221737155380293640  Oggi sono arrivati loro, 3 femminucce e 1 masc...   \n2  1221730009989120001  L'indifferenza è più colpevole della violenza ...   \n3  1221737654909382662  Minaccia morbillo nel Salento, Asl: \"Vaccinars...   \n4  1221728980203724801  \"Coltivare la Memoria è ancora oggi un vaccino...   \n\n  user_screen_name                      created_at  \n0     planetpaul65  Mon Jan 27 10:17:51 +0000 2020  \n1       Grace_1207  Mon Jan 27 10:10:11 +0000 2020  \n2  MarisaMinervini  Mon Jan 27 09:41:47 +0000 2020  \n3       LecceSette  Mon Jan 27 10:12:10 +0000 2020  \n4         arual812  Mon Jan 27 09:37:42 +0000 2020  ",
      "text/html": "<div>\n<style scoped>\n    .dataframe tbody tr th:only-of-type {\n        vertical-align: middle;\n    }\n\n    .dataframe tbody tr th {\n        vertical-align: top;\n    }\n\n    .dataframe thead th {\n        text-align: right;\n    }\n</style>\n<table border=\"1\" class=\"dataframe\">\n  <thead>\n    <tr style=\"text-align: right;\">\n      <th></th>\n      <th>id</th>\n      <th>text</th>\n      <th>user_screen_name</th>\n      <th>created_at</th>\n    </tr>\n  </thead>\n  <tbody>\n    <tr>\n      <th>0</th>\n      <td>1221739084449832960</td>\n      <td>La Memoria è l’unico vaccino contro l’indiffer...</td>\n      <td>planetpaul65</td>\n      <td>Mon Jan 27 10:17:51 +0000 2020</td>\n    </tr>\n    <tr>\n      <th>1</th>\n      <td>1221737155380293640</td>\n      <td>Oggi sono arrivati loro, 3 femminucce e 1 masc...</td>\n      <td>Grace_1207</td>\n      <td>Mon Jan 27 10:10:11 +0000 2020</td>\n    </tr>\n    <tr>\n      <th>2</th>\n      <td>1221730009989120001</td>\n      <td>L'indifferenza è più colpevole della violenza ...</td>\n      <td>MarisaMinervini</td>\n      <td>Mon Jan 27 09:41:47 +0000 2020</td>\n    </tr>\n    <tr>\n      <th>3</th>\n      <td>1221737654909382662</td>\n      <td>Minaccia morbillo nel Salento, Asl: \"Vaccinars...</td>\n      <td>LecceSette</td>\n      <td>Mon Jan 27 10:12:10 +0000 2020</td>\n    </tr>\n    <tr>\n      <th>4</th>\n      <td>1221728980203724801</td>\n      <td>\"Coltivare la Memoria è ancora oggi un vaccino...</td>\n      <td>arual812</td>\n      <td>Mon Jan 27 09:37:42 +0000 2020</td>\n    </tr>\n  </tbody>\n</table>\n</div>"
     },
     "execution_count": 22,
     "metadata": {},
     "output_type": "execute_result"
    }
   ],
   "source": [
    "df = esempio.merge(tweets, on=\"id\", how=\"left\")\n",
    "df.head()"
   ]
  },
  {
   "cell_type": "code",
   "execution_count": 23,
   "id": "c5cca995",
   "metadata": {
    "pycharm": {
     "name": "#%%\n"
    }
   },
   "outputs": [],
   "source": [
    "del tweets\n",
    "del esempio"
   ]
  },
  {
   "cell_type": "code",
   "execution_count": 24,
   "id": "7db2c284",
   "metadata": {
    "pycharm": {
     "name": "#%%\n"
    }
   },
   "outputs": [
    {
     "name": "stdout",
     "output_type": "stream",
     "text": [
      "1376011\n"
     ]
    },
    {
     "data": {
      "text/plain": "                                                text  toxicity\n0  andrea__059 LucioMM1 Rey_k73 MMmarco0 Ma da qu...  0.122449\n1  La_manina__ PaoloMarani3 Hai cannato.  1743 so...  0.213626\n2  noitre32 Ormai viviamo in mezzo a una follia d...  0.271282\n3  Lotta alla pandemia, Bayer e Curevac insieme p...  0.003002\n4  EugenioGiani In molto 60 enni nn si prenotano ...  0.037538",
      "text/html": "<div>\n<style scoped>\n    .dataframe tbody tr th:only-of-type {\n        vertical-align: middle;\n    }\n\n    .dataframe tbody tr th {\n        vertical-align: top;\n    }\n\n    .dataframe thead th {\n        text-align: right;\n    }\n</style>\n<table border=\"1\" class=\"dataframe\">\n  <thead>\n    <tr style=\"text-align: right;\">\n      <th></th>\n      <th>text</th>\n      <th>toxicity</th>\n    </tr>\n  </thead>\n  <tbody>\n    <tr>\n      <th>0</th>\n      <td>andrea__059 LucioMM1 Rey_k73 MMmarco0 Ma da qu...</td>\n      <td>0.122449</td>\n    </tr>\n    <tr>\n      <th>1</th>\n      <td>La_manina__ PaoloMarani3 Hai cannato.  1743 so...</td>\n      <td>0.213626</td>\n    </tr>\n    <tr>\n      <th>2</th>\n      <td>noitre32 Ormai viviamo in mezzo a una follia d...</td>\n      <td>0.271282</td>\n    </tr>\n    <tr>\n      <th>3</th>\n      <td>Lotta alla pandemia, Bayer e Curevac insieme p...</td>\n      <td>0.003002</td>\n    </tr>\n    <tr>\n      <th>4</th>\n      <td>EugenioGiani In molto 60 enni nn si prenotano ...</td>\n      <td>0.037538</td>\n    </tr>\n  </tbody>\n</table>\n</div>"
     },
     "execution_count": 24,
     "metadata": {},
     "output_type": "execute_result"
    }
   ],
   "source": [
    "import warnings\n",
    "warnings.simplefilter(\"ignore\")\n",
    "from glob import glob\n",
    "files = glob(r\"C:\\Users\\gianl\\Desktop\\Gi\\Supsi\\Vaccines_Discussion_Italy\\Italian\\script_directory_output\\res*.csv\")\n",
    "results = pd.DataFrame()\n",
    "for file in files:\n",
    "    df_temp = pd.read_csv(file, lineterminator=\"\\n\", encoding=\"utf-8\", low_memory=False)\n",
    "    results = results.append(df_temp)\n",
    "print(len(results))\n",
    "results.head()"
   ]
  },
  {
   "cell_type": "code",
   "execution_count": 25,
   "id": "d05b0305",
   "metadata": {
    "pycharm": {
     "name": "#%%\n"
    }
   },
   "outputs": [
    {
     "data": {
      "text/plain": "                                                text  toxicity  \\\n0  andrea__059 LucioMM1 Rey_k73 MMmarco0 Ma da qu...  0.122449   \n1  La_manina__ PaoloMarani3 Hai cannato.  1743 so...  0.213626   \n2  noitre32 Ormai viviamo in mezzo a una follia d...  0.271282   \n3  Lotta alla pandemia, Bayer e Curevac insieme p...  0.003002   \n4  EugenioGiani In molto 60 enni nn si prenotano ...  0.037538   \n\n                    id user_screen_name                      created_at  \n0  1379199315483189254    L_impenitente  Mon Apr 05 22:28:35 +0000 2021  \n1  1371145963939770377    anninavigneto  Sun Mar 14 17:07:27 +0000 2021  \n2  1389702220275494915  Roberto53402737  Tue May 04 22:03:23 +0000 2021  \n3  1347175082515439617     tvbusiness24  Thu Jan 07 13:35:43 +0000 2021  \n4  1393208983717023745          mcsm878  Fri May 14 14:18:00 +0000 2021  ",
      "text/html": "<div>\n<style scoped>\n    .dataframe tbody tr th:only-of-type {\n        vertical-align: middle;\n    }\n\n    .dataframe tbody tr th {\n        vertical-align: top;\n    }\n\n    .dataframe thead th {\n        text-align: right;\n    }\n</style>\n<table border=\"1\" class=\"dataframe\">\n  <thead>\n    <tr style=\"text-align: right;\">\n      <th></th>\n      <th>text</th>\n      <th>toxicity</th>\n      <th>id</th>\n      <th>user_screen_name</th>\n      <th>created_at</th>\n    </tr>\n  </thead>\n  <tbody>\n    <tr>\n      <th>0</th>\n      <td>andrea__059 LucioMM1 Rey_k73 MMmarco0 Ma da qu...</td>\n      <td>0.122449</td>\n      <td>1379199315483189254</td>\n      <td>L_impenitente</td>\n      <td>Mon Apr 05 22:28:35 +0000 2021</td>\n    </tr>\n    <tr>\n      <th>1</th>\n      <td>La_manina__ PaoloMarani3 Hai cannato.  1743 so...</td>\n      <td>0.213626</td>\n      <td>1371145963939770377</td>\n      <td>anninavigneto</td>\n      <td>Sun Mar 14 17:07:27 +0000 2021</td>\n    </tr>\n    <tr>\n      <th>2</th>\n      <td>noitre32 Ormai viviamo in mezzo a una follia d...</td>\n      <td>0.271282</td>\n      <td>1389702220275494915</td>\n      <td>Roberto53402737</td>\n      <td>Tue May 04 22:03:23 +0000 2021</td>\n    </tr>\n    <tr>\n      <th>3</th>\n      <td>Lotta alla pandemia, Bayer e Curevac insieme p...</td>\n      <td>0.003002</td>\n      <td>1347175082515439617</td>\n      <td>tvbusiness24</td>\n      <td>Thu Jan 07 13:35:43 +0000 2021</td>\n    </tr>\n    <tr>\n      <th>4</th>\n      <td>EugenioGiani In molto 60 enni nn si prenotano ...</td>\n      <td>0.037538</td>\n      <td>1393208983717023745</td>\n      <td>mcsm878</td>\n      <td>Fri May 14 14:18:00 +0000 2021</td>\n    </tr>\n  </tbody>\n</table>\n</div>"
     },
     "execution_count": 25,
     "metadata": {},
     "output_type": "execute_result"
    }
   ],
   "source": [
    "res = results.merge(df, on=\"text\", how=\"left\")\n",
    "res.head()"
   ]
  },
  {
   "cell_type": "code",
   "execution_count": 66,
   "id": "a095f9bf",
   "metadata": {
    "pycharm": {
     "name": "#%%\n"
    }
   },
   "outputs": [
    {
     "name": "stdout",
     "output_type": "stream",
     "text": [
      "3548402\n"
     ]
    },
    {
     "data": {
      "text/plain": "HBox(children=(HTML(value=''), FloatProgress(value=0.0, max=3548402.0), HTML(value='')))",
      "application/vnd.jupyter.widget-view+json": {
       "version_major": 2,
       "version_minor": 0,
       "model_id": "b20f7cfc5e6d4622bb297e31de7e03cd"
      }
     },
     "metadata": {},
     "output_type": "display_data"
    },
    {
     "name": "stdout",
     "output_type": "stream",
     "text": [
      "\n"
     ]
    },
    {
     "data": {
      "text/plain": "0.10749875744084882"
     },
     "execution_count": 66,
     "metadata": {},
     "output_type": "execute_result"
    }
   ],
   "source": [
    "print(len(res))\n",
    "res[\"date\"] = [utils.process_datetime(i) for i in tqdm(res[\"created_at\"])]\n",
    "np.mean(res[\"toxicity\"])"
   ]
  },
  {
   "cell_type": "code",
   "execution_count": 27,
   "outputs": [
    {
     "data": {
      "text/plain": "Text(0, 0.5, 'Toxicity score')"
     },
     "execution_count": 27,
     "metadata": {},
     "output_type": "execute_result"
    },
    {
     "data": {
      "text/plain": "<Figure size 432x288 with 1 Axes>",
      "image/png": "[encoded data removed]"
     },
     "metadata": {},
     "output_type": "display_data"
    }
   ],
   "source": [
    "# Import the libraries\n",
    "import matplotlib.pyplot as plt\n",
    "import seaborn as sns\n",
    "\n",
    "# matplotlib histogram\n",
    "plt.hist(results['toxicity'], color = 'blue', edgecolor = 'black', bins=20)\n",
    "\n",
    "# Add labels\n",
    "plt.title('Histogram of Toxicity')\n",
    "plt.xlabel('Value')\n",
    "plt.ylabel('Toxicity score')"
   ],
   "metadata": {
    "collapsed": false,
    "pycharm": {
     "name": "#%%\n"
    }
   }
  },
  {
   "cell_type": "code",
   "execution_count": 28,
   "outputs": [],
   "source": [
    "# np.mean(res[res[\"user_screen_name\"]==\"ItalianoeRomano\"][\"toxicity\"])"
   ],
   "metadata": {
    "collapsed": false,
    "pycharm": {
     "name": "#%%\n"
    }
   }
  },
  {
   "cell_type": "code",
   "execution_count": 29,
   "outputs": [],
   "source": [
    "toxic = res[res[\"toxicity\"]>0.5]"
   ],
   "metadata": {
    "collapsed": false,
    "pycharm": {
     "name": "#%%\n"
    }
   }
  },
  {
   "cell_type": "code",
   "execution_count": 30,
   "outputs": [
    {
     "data": {
      "text/plain": "Piero42395724      187\ntrincherov         184\nil_brigante07      136\nAttyla91461568     116\nxenonian1          116\nGraziel65255465    114\nGiovannaSandr16    107\nSakurauchi_Hime    103\nManuQ24916888       85\ngaiagioiared        81\nLPincia             78\nanto_galli4         77\nenzo6619            76\nItalianoeRomano     74\nmanu_etoile         73\nPietro_Otto         73\nIAlianna_           72\nPazuDaemon          71\ntiber_h             69\njobwithinternet     68\nName: user_screen_name, dtype: int64"
     },
     "execution_count": 30,
     "metadata": {},
     "output_type": "execute_result"
    }
   ],
   "source": [
    "pd.Series(toxic[\"user_screen_name\"]).value_counts().sort_values(ascending=False)[:20]"
   ],
   "metadata": {
    "collapsed": false,
    "pycharm": {
     "name": "#%%\n"
    }
   }
  },
  {
   "cell_type": "code",
   "execution_count": 67,
   "outputs": [],
   "source": [
    "res['dates']= res[[\"toxicity\",\"date\"]].groupby('date').transform('mean')\n",
    "res_for_plot = res.drop_duplicates(subset='date')"
   ],
   "metadata": {
    "collapsed": false,
    "pycharm": {
     "name": "#%%\n"
    }
   }
  },
  {
   "cell_type": "code",
   "execution_count": 68,
   "outputs": [
    {
     "data": {
      "text/plain": "                                                     text  toxicity  \\\n0       andrea__059 LucioMM1 Rey_k73 MMmarco0 Ma da qu...  0.122449   \n1       La_manina__ PaoloMarani3 Hai cannato.  1743 so...  0.213626   \n2       noitre32 Ormai viviamo in mezzo a una follia d...  0.271282   \n3       Lotta alla pandemia, Bayer e Curevac insieme p...  0.003002   \n4       EugenioGiani In molto 60 enni nn si prenotano ...  0.037538   \n...                                                   ...       ...   \n55931   jeerk_ E non preoccuparti per i soldi, fai ben...  0.160934   \n56745   VACCINI. Dove c'e' rischio SI IMPONE la libert...  0.047495   \n66315   carmelodipaola Non sono un virologo, ma non oc...  0.047495   \n346678  Vaccini, il sistema diventa regionale. Asl Tor...  0.033589   \n363632  I vaccini non sono sicuri: lo dice la corte su...  0.039255   \n\n                         id user_screen_name                      created_at  \\\n0       1379199315483189254    L_impenitente  Mon Apr 05 22:28:35 +0000 2021   \n1       1371145963939770377    anninavigneto  Sun Mar 14 17:07:27 +0000 2021   \n2       1389702220275494915  Roberto53402737  Tue May 04 22:03:23 +0000 2021   \n3       1347175082515439617     tvbusiness24  Thu Jan 07 13:35:43 +0000 2021   \n4       1393208983717023745          mcsm878  Fri May 14 14:18:00 +0000 2021   \n...                     ...              ...                             ...   \n55931   1214319449790189572       paraincubi  Mon Jan 06 22:54:52 +0000 2020   \n56745   1216627232438915073   MarceloTanomix  Mon Jan 13 07:45:10 +0000 2020   \n66315   1307851799513137152     Roby29880142  Mon Sep 21 01:19:02 +0000 2020   \n346678  1220547911026561024        venti4ore  Fri Jan 24 03:24:33 +0000 2020   \n363632  1217953629539373057        xenonian1  Thu Jan 16 23:35:48 +0000 2020   \n\n              date     dates  \n0       2021-04-05  0.106349  \n1       2021-03-14  0.103510  \n2       2021-05-04  0.100112  \n3       2021-01-07  0.084732  \n4       2021-05-14  0.089086  \n...            ...       ...  \n55931   2020-01-06  0.119145  \n56745   2020-01-13  0.120136  \n66315   2020-09-21  0.097774  \n346678  2020-01-24  0.087418  \n363632  2020-01-16  0.036690  \n\n[366 rows x 7 columns]",
      "text/html": "<div>\n<style scoped>\n    .dataframe tbody tr th:only-of-type {\n        vertical-align: middle;\n    }\n\n    .dataframe tbody tr th {\n        vertical-align: top;\n    }\n\n    .dataframe thead th {\n        text-align: right;\n    }\n</style>\n<table border=\"1\" class=\"dataframe\">\n  <thead>\n    <tr style=\"text-align: right;\">\n      <th></th>\n      <th>text</th>\n      <th>toxicity</th>\n      <th>id</th>\n      <th>user_screen_name</th>\n      <th>created_at</th>\n      <th>date</th>\n      <th>dates</th>\n    </tr>\n  </thead>\n  <tbody>\n    <tr>\n      <th>0</th>\n      <td>andrea__059 LucioMM1 Rey_k73 MMmarco0 Ma da qu...</td>\n      <td>0.122449</td>\n      <td>1379199315483189254</td>\n      <td>L_impenitente</td>\n      <td>Mon Apr 05 22:28:35 +0000 2021</td>\n      <td>2021-04-05</td>\n      <td>0.106349</td>\n    </tr>\n    <tr>\n      <th>1</th>\n      <td>La_manina__ PaoloMarani3 Hai cannato.  1743 so...</td>\n      <td>0.213626</td>\n      <td>1371145963939770377</td>\n      <td>anninavigneto</td>\n      <td>Sun Mar 14 17:07:27 +0000 2021</td>\n      <td>2021-03-14</td>\n      <td>0.103510</td>\n    </tr>\n    <tr>\n      <th>2</th>\n      <td>noitre32 Ormai viviamo in mezzo a una follia d...</td>\n      <td>0.271282</td>\n      <td>1389702220275494915</td>\n      <td>Roberto53402737</td>\n      <td>Tue May 04 22:03:23 +0000 2021</td>\n      <td>2021-05-04</td>\n      <td>0.100112</td>\n    </tr>\n    <tr>\n      <th>3</th>\n      <td>Lotta alla pandemia, Bayer e Curevac insieme p...</td>\n      <td>0.003002</td>\n      <td>1347175082515439617</td>\n      <td>tvbusiness24</td>\n      <td>Thu Jan 07 13:35:43 +0000 2021</td>\n      <td>2021-01-07</td>\n      <td>0.084732</td>\n    </tr>\n    <tr>\n      <th>4</th>\n      <td>EugenioGiani In molto 60 enni nn si prenotano ...</td>\n      <td>0.037538</td>\n      <td>1393208983717023745</td>\n      <td>mcsm878</td>\n      <td>Fri May 14 14:18:00 +0000 2021</td>\n      <td>2021-05-14</td>\n      <td>0.089086</td>\n    </tr>\n    <tr>\n      <th>...</th>\n      <td>...</td>\n      <td>...</td>\n      <td>...</td>\n      <td>...</td>\n      <td>...</td>\n      <td>...</td>\n      <td>...</td>\n    </tr>\n    <tr>\n      <th>55931</th>\n      <td>jeerk_ E non preoccuparti per i soldi, fai ben...</td>\n      <td>0.160934</td>\n      <td>1214319449790189572</td>\n      <td>paraincubi</td>\n      <td>Mon Jan 06 22:54:52 +0000 2020</td>\n      <td>2020-01-06</td>\n      <td>0.119145</td>\n    </tr>\n    <tr>\n      <th>56745</th>\n      <td>VACCINI. Dove c'e' rischio SI IMPONE la libert...</td>\n      <td>0.047495</td>\n      <td>1216627232438915073</td>\n      <td>MarceloTanomix</td>\n      <td>Mon Jan 13 07:45:10 +0000 2020</td>\n      <td>2020-01-13</td>\n      <td>0.120136</td>\n    </tr>\n    <tr>\n      <th>66315</th>\n      <td>carmelodipaola Non sono un virologo, ma non oc...</td>\n      <td>0.047495</td>\n      <td>1307851799513137152</td>\n      <td>Roby29880142</td>\n      <td>Mon Sep 21 01:19:02 +0000 2020</td>\n      <td>2020-09-21</td>\n      <td>0.097774</td>\n    </tr>\n    <tr>\n      <th>346678</th>\n      <td>Vaccini, il sistema diventa regionale. Asl Tor...</td>\n      <td>0.033589</td>\n      <td>1220547911026561024</td>\n      <td>venti4ore</td>\n      <td>Fri Jan 24 03:24:33 +0000 2020</td>\n      <td>2020-01-24</td>\n      <td>0.087418</td>\n    </tr>\n    <tr>\n      <th>363632</th>\n      <td>I vaccini non sono sicuri: lo dice la corte su...</td>\n      <td>0.039255</td>\n      <td>1217953629539373057</td>\n      <td>xenonian1</td>\n      <td>Thu Jan 16 23:35:48 +0000 2020</td>\n      <td>2020-01-16</td>\n      <td>0.036690</td>\n    </tr>\n  </tbody>\n</table>\n<p>366 rows × 7 columns</p>\n</div>"
     },
     "execution_count": 68,
     "metadata": {},
     "output_type": "execute_result"
    }
   ],
   "source": [
    "res_for_plot"
   ],
   "metadata": {
    "collapsed": false,
    "pycharm": {
     "name": "#%%\n"
    }
   }
  },
  {
   "cell_type": "code",
   "execution_count": 24,
   "outputs": [],
   "source": [
    "# tweets = pd.read_parquet(path_data + \"tweets.parquet\", engine=\"fastparquet\")\n",
    "# lst_users_rt_bad = [\"Piero42395724\",\"xenonian1\",\"manu_etoile\",\"paolasoriani53\"]"
   ],
   "metadata": {
    "collapsed": false,
    "pycharm": {
     "name": "#%%\n"
    }
   }
  },
  {
   "cell_type": "code",
   "execution_count": 25,
   "outputs": [],
   "source": [
    "# suspended_user_df = tweets[tweets[\"user_screen_name\"]==\"ItalianoeRomano\"]\n",
    "# rt_bad_df = tweets[tweets[\"user_screen_name\"].isin(lst_users_rt_bad)]\n",
    "# del tweets"
   ],
   "metadata": {
    "collapsed": false,
    "pycharm": {
     "name": "#%%\n"
    }
   }
  },
  {
   "cell_type": "code",
   "execution_count": 31,
   "outputs": [],
   "source": [
    "# rt_bad_df"
   ],
   "metadata": {
    "collapsed": false,
    "pycharm": {
     "name": "#%%\n"
    }
   }
  },
  {
   "cell_type": "code",
   "execution_count": 32,
   "outputs": [],
   "source": [
    "# suspended_user_df"
   ],
   "metadata": {
    "collapsed": false,
    "pycharm": {
     "name": "#%%\n"
    }
   }
  },
  {
   "cell_type": "code",
   "execution_count": 33,
   "outputs": [],
   "source": [
    "# lst_dates = []\n",
    "# for i in rt_bad_df[\"created_at\"]:\n",
    "#     lst_dates.append(utils.process_datetime(i))\n",
    "# rt_bad_df[\"dates\"]=lst_dates\n",
    "# rt_bad_df['date_tweets']= rt_bad_df.groupby(['dates'])['created_at'].transform('size')\n",
    "# rt_bad_df = rt_bad_df.drop_duplicates(subset='dates')"
   ],
   "metadata": {
    "collapsed": false,
    "pycharm": {
     "name": "#%%\n"
    }
   }
  },
  {
   "cell_type": "code",
   "execution_count": 36,
   "outputs": [],
   "source": [
    "# rt_bad_df_flt = rt_bad_df[rt_bad_df[\"dates\"].str.contains(\"2021-\")]"
   ],
   "metadata": {
    "collapsed": false,
    "pycharm": {
     "name": "#%%\n"
    }
   }
  },
  {
   "cell_type": "code",
   "execution_count": 72,
   "outputs": [
    {
     "data": {
      "text/plain": "<Figure size 1800x720 with 1 Axes>",
      "image/png": "[encoded data removed]"
     },
     "metadata": {},
     "output_type": "display_data"
    }
   ],
   "source": [
    "import matplotlib.dates as mdates\n",
    "fig, ax = plt.subplots(figsize=(25, 10))\n",
    "plt.title('Toxicity score over time ', fontsize=18)\n",
    "res_for_plot.sort_values(by=[\"date\"], ascending=True, inplace=True)\n",
    "\n",
    "ax.set_xlabel('Date', fontsize=14)\n",
    "ax.set_ylabel('# of Tweets', fontsize=14)\n",
    "\n",
    "plt.plot(res_for_plot['date'], res_for_plot['dates'], c='b', label='Toxicity Score')\n",
    "# set monthly locator\n",
    "ax.xaxis.set_major_locator(mdates.DayLocator(interval=5))\n",
    "# set formatter\n",
    "# ax.xaxis.set_major_formatter(mdates.DateFormatter('%d-%m-%Y'))\n",
    "# set font and rotation for date tick labels\n",
    "plt.xticks(rotation='vertical', fontsize = 8)\n",
    "plt.legend(loc='upper left', fontsize=13);\n",
    "# plt.axvline(x=\"2021-03-09\")\n",
    "plt.grid()\n",
    "plt.show()"
   ],
   "metadata": {
    "collapsed": false,
    "pycharm": {
     "name": "#%%\n"
    }
   }
  }
 ],
 "metadata": {
  "kernelspec": {
   "display_name": "Python 3 (ipykernel)",
   "language": "python",
   "name": "python3"
  },
  "language_info": {
   "codemirror_mode": {
    "name": "ipython",
    "version": 3
   },
   "file_extension": ".py",
   "mimetype": "text/x-python",
   "name": "python",
   "nbconvert_exporter": "python",
   "pygments_lexer": "ipython3",
   "version": "3.8.11"
  }
 },
 "nbformat": 4,
 "nbformat_minor": 5
}