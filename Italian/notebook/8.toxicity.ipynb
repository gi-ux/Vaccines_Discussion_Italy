{
 "cells": [
  {
   "cell_type": "code",
   "execution_count": 1,
   "id": "b2e2c77c",
   "metadata": {
    "pycharm": {
     "name": "#%%\n"
    }
   },
   "outputs": [],
   "source": [
    "import tweepy\n",
    "import json\n",
    "import pandas as pd\n",
    "from perspective import PerspectiveAPI\n",
    "from googleapiclient import discovery\n",
    "import numpy as np\n",
    "import re\n",
    "import time\n",
    "import sys\n",
    "path_utils = 'C:/Users/gianl/Desktop/Gi/Supsi/Vaccines_Discussion_Italy/tweet_utils'\n",
    "sys.path.append(path_utils)\n",
    "import utils\n",
    "from tqdm.notebook import tqdm\n",
    "import warnings\n",
    "warnings.filterwarnings(\"ignore\")\n",
    "path_files =\"C:/Users/gianl/Desktop/Gi/Supsi/Vaccines_Discussion_Italy/Italian/Files/\"\n",
    "path_data = \"C:/Users/gianl/Desktop/Gi/Supsi/Vaccines_Discussion_Italy/Italian/Files/Tweets/\""
   ]
  },
  {
   "cell_type": "code",
   "execution_count": 3,
   "id": "2ff83793",
   "metadata": {
    "pycharm": {
     "name": "#%%\n"
    }
   },
   "outputs": [],
   "source": [
    "jsonFile = open(path_files + 'auth.json', 'r')\n",
    "config = json.load(jsonFile)\n",
    "jsonFile.close()\n",
    "API_KEY = config[\"api_key_1\"]"
   ]
  },
  {
   "cell_type": "markdown",
   "id": "2b43990a",
   "metadata": {
    "pycharm": {
     "name": "#%% md\n"
    }
   },
   "source": [
    "# Clean text and write"
   ]
  },
  {
   "cell_type": "code",
   "execution_count": 6,
   "id": "a62a95bb",
   "metadata": {
    "pycharm": {
     "name": "#%%\n"
    }
   },
   "outputs": [],
   "source": [
    "strng = \"@Cristiano è il nostro #MVP? si: https://google.com\""
   ]
  },
  {
   "cell_type": "code",
   "execution_count": 41,
   "id": "e7567c97",
   "metadata": {
    "pycharm": {
     "name": "#%%\n"
    }
   },
   "outputs": [],
   "source": [
    "def clean(x: str):\n",
    "    if (\"http\" in x):\n",
    "        x = re.sub(r'http\\S+', '',x)\n",
    "    x = re.sub('[@#$]', '', x)\n",
    "    x = re.sub('\\n', ' ', x)\n",
    "    return x"
   ]
  },
  {
   "cell_type": "code",
   "execution_count": 8,
   "id": "edf35a60",
   "metadata": {
    "pycharm": {
     "name": "#%%\n"
    }
   },
   "outputs": [
    {
     "data": {
      "text/plain": [
       "'Cristiano è il nostro MVP? si: '"
      ]
     },
     "execution_count": 8,
     "metadata": {},
     "output_type": "execute_result"
    }
   ],
   "source": [
    "clean(strng)"
   ]
  },
  {
   "cell_type": "code",
   "execution_count": 3,
   "id": "ee1ccdf6",
   "metadata": {
    "pycharm": {
     "name": "#%%\n"
    }
   },
   "outputs": [],
   "source": [
    "df_bad = pd.read_csv(path_data + \"bad_activities.csv\")\n",
    "df_good = pd.read_csv(path_data + \"good_activities.csv\")\n",
    "df_suspended = pd.read_parquet(path_data + \"tweets_bad_suspended.parquet\", engine=\"fastparquet\")\n",
    "df_suspended_good= pd.read_parquet(path_data + \"tweets_good_suspended.parquet\", engine=\"fastparquet\")\n",
    "tweets = pd.read_parquet(path_data + \"tweets.parquet\", engine=\"fastparquet\")"
   ]
  },
  {
   "cell_type": "code",
   "execution_count": 40,
   "id": "19d7d7af",
   "metadata": {
    "pycharm": {
     "name": "#%%\n"
    }
   },
   "outputs": [],
   "source": [
    "# tweets.head()"
   ]
  },
  {
   "cell_type": "code",
   "execution_count": 92,
   "id": "8540a64b",
   "metadata": {
    "pycharm": {
     "name": "#%%\n"
    }
   },
   "outputs": [
    {
     "data": {
      "application/vnd.jupyter.widget-view+json": {
       "model_id": "7e106bc7323d4ceba8e92229ba2870fd",
       "version_major": 2,
       "version_minor": 0
      },
      "text/plain": [
       "HBox(children=(HTML(value=''), FloatProgress(value=0.0, max=4053201.0), HTML(value='')))"
      ]
     },
     "metadata": {},
     "output_type": "display_data"
    },
    {
     "name": "stdout",
     "output_type": "stream",
     "text": [
      "\n"
     ]
    }
   ],
   "source": [
    "# x = list(tweets[\"text\"])\n",
    "# y = list(tweets[\"id\"])\n",
    "# count = 0\n",
    "lst_id = []\n",
    "lst_text = []\n",
    "for i in tqdm(range(len(x))):\n",
    "    lst_id.append(y[i])\n",
    "    lst_text.append(clean(x[i]))\n",
    "pd.DataFrame(list(zip(lst_id,lst_text)),columns=[\"id\",\"text\"]).to_csv(\"C:/Users/gianl/Desktop/Gi/Supsi/Vaccines_Discussion_Italy/Laura/texts/df_cleaned.csv\",\n",
    "                                                                     line_terminator=\"\\n\", encoding=\"utf-8\", index=False)"
   ]
  },
  {
   "cell_type": "code",
   "execution_count": 2,
   "id": "5ff37a8a",
   "metadata": {
    "pycharm": {
     "name": "#%%\n"
    }
   },
   "outputs": [],
   "source": [
    "esempio = pd.read_csv(\"C:/Users/gianl/Desktop/Gi/Supsi/Vaccines_Discussion_Italy/Laura/texts/df_cleaned.csv\",\n",
    "                              lineterminator=\"\\n\", low_memory=False, encoding=\"utf-8\")"
   ]
  },
  {
   "cell_type": "code",
   "execution_count": 9,
   "id": "6da426d4",
   "metadata": {
    "pycharm": {
     "name": "#%%\n"
    }
   },
   "outputs": [
    {
     "data": {
      "application/vnd.jupyter.widget-view+json": {
       "model_id": "a18a5504e546453fbe7b90b4d3b5da6a",
       "version_major": 2,
       "version_minor": 0
      },
      "text/plain": [
       "HBox(children=(HTML(value=''), FloatProgress(value=0.0, max=1565714.0), HTML(value='')))"
      ]
     },
     "metadata": {},
     "output_type": "display_data"
    },
    {
     "name": "stdout",
     "output_type": "stream",
     "text": [
      "\n"
     ]
    }
   ],
   "source": [
    "lst_final = []\n",
    "x2 = list(set(esempio[\"text\"]))\n",
    "for i in tqdm(x2[1:]):\n",
    "    if len(i.split(\" \")) >= 4:\n",
    "        lst_final.append(i)"
   ]
  },
  {
   "cell_type": "code",
   "execution_count": 23,
   "id": "7202d7d1",
   "metadata": {
    "pycharm": {
     "name": "#%%\n"
    },
    "scrolled": true
   },
   "outputs": [],
   "source": [
    "n = 11\n",
    "splited = [lst_final[i::n] for i in range(n)]\n"
   ]
  },
  {
   "cell_type": "code",
   "execution_count": 25,
   "id": "860de227",
   "metadata": {
    "pycharm": {
     "name": "#%%\n"
    }
   },
   "outputs": [],
   "source": [
    "count = 0\n",
    "for i in splited:\n",
    "    pd.DataFrame(i, columns=[\"text\"]).to_csv(f\"C:/Users/gianl/Desktop/Gi/Supsi/Vaccines_Discussion_Italy/Laura/texts/example_{count}.csv\",\n",
    "                           line_terminator=\"\\n\", index=False, encoding=\"utf-8\")\n",
    "    count = count + 1\n"
   ]
  },
  {
   "cell_type": "code",
   "execution_count": 12,
   "id": "a5651f22",
   "metadata": {
    "pycharm": {
     "name": "#%%\n"
    }
   },
   "outputs": [],
   "source": [
    "\n",
    "# esempio = pd.read_csv(\"C:/Users/gianl/Desktop/Gi/Supsi/Vaccines_Discussion_Italy/Laura/texts/example.csv\",\n",
    "#                               lineterminator=\"\\n\", low_memory=False, encoding=\"utf-8\")\n",
    "# esempio"
   ]
  },
  {
   "cell_type": "code",
   "execution_count": 87,
   "id": "997621f8",
   "metadata": {
    "pycharm": {
     "name": "#%%\n"
    }
   },
   "outputs": [],
   "source": [
    "# print(len(x2))\n",
    "# count = 0\n",
    "# for i in x2:\n",
    "#     if len(i.split(\" \")) < 4:\n",
    "#         count = count + 1\n",
    "#         print(i)\n",
    "# print(count)\n",
    "# 1499124 - 69376\n",
    "# 1500000 / 50000"
   ]
  },
  {
   "cell_type": "markdown",
   "id": "0a216b78",
   "metadata": {
    "pycharm": {
     "name": "#%% md\n"
    }
   },
   "source": [
    "# Classification"
   ]
  },
  {
   "cell_type": "code",
   "execution_count": 3,
   "id": "17ea1c3a",
   "metadata": {
    "pycharm": {
     "name": "#%%\n"
    },
    "scrolled": false
   },
   "outputs": [],
   "source": [
    "# p = PerspectiveAPI(api_key=API_KEY)\n",
    "# results = []\n",
    "# for i in tqdm(texts):\n",
    "#     time.sleep(1)\n",
    "#     try:\n",
    "#         result = p.score(i)\n",
    "#         results.append(result[\"TOXICITY\"])\n",
    "#     except Exception as e:\n",
    "#         print(\"Error: \", e)"
   ]
  },
  {
   "cell_type": "code",
   "execution_count": 70,
   "id": "a9e18ec9",
   "metadata": {
    "pycharm": {
     "name": "#%%\n"
    }
   },
   "outputs": [
    {
     "name": "stdout",
     "output_type": "stream",
     "text": [
      "Primi 1000 tweet Good 0.03 Toxicity score\n",
      "Primi 1000 tweet Good susp 0.1 Toxicity score\n",
      "Primi 1000 tweet Bad susp 0.12 Toxicity score\n",
      "Primi 1000 tweet Bad 0.09 Toxicity score\n"
     ]
    }
   ],
   "source": [
    "print(f\"Primi 1000 tweet Good {0.03} Toxicity score\")\n",
    "print(f\"Primi 1000 tweet Good susp {0.10} Toxicity score\")\n",
    "print(f\"Primi 1000 tweet Bad susp {0.12} Toxicity score\")\n",
    "print(f\"Primi 1000 tweet Bad {0.09} Toxicity score\")"
   ]
  },
  {
   "cell_type": "code",
   "execution_count": 2,
   "id": "e2394a4d",
   "metadata": {
    "pycharm": {
     "name": "#%%\n"
    }
   },
   "outputs": [],
   "source": [
    "# client = discovery.build(\n",
    "#   \"commentanalyzer\",\n",
    "#   \"v1alpha1\",\n",
    "#   developerKey=API_KEY,\n",
    "#   discoveryServiceUrl=\"https://commentanalyzer.googleapis.com/$discovery/rest?version=v1alpha1\",\n",
    "#   static_discovery=False,\n",
    "# )\n",
    "\n",
    "# analyze_request = {\n",
    "#   'comment': { 'text': \"guarda, sei bravo!\"},\n",
    "#   'requestedAttributes': {'TOXICITY': {}}\n",
    "# }\n",
    "\n",
    "# response = client.comments().analyze(body=analyze_request).execute()\n",
    "# print(json.dumps(response, indent=2))"
   ]
  },
  {
   "cell_type": "markdown",
   "id": "fe2a1d79",
   "metadata": {
    "pycharm": {
     "name": "#%% md\n"
    }
   },
   "source": [
    "# Ricomposizione DF"
   ]
  },
  {
   "cell_type": "code",
   "execution_count": 37,
   "id": "6fbfe0e3",
   "metadata": {
    "pycharm": {
     "name": "#%%\n"
    }
   },
   "outputs": [],
   "source": [
    "tweets = pd.read_parquet(r\"../Files/Tweets/tweets.parquet\", engine=\"fastparquet\")[[\"id\",\"user_screen_name\",\"text\",\"urls\",\"hashtags\",\"created_at\"]]"
   ]
  },
  {
   "cell_type": "code",
   "execution_count": 38,
   "id": "45e719da",
   "metadata": {
    "pycharm": {
     "name": "#%%\n"
    }
   },
   "outputs": [],
   "source": [
    "esempio = pd.read_csv(\"C:/Users/gianl/Desktop/Gi/Supsi/Vaccines_Discussion_Italy/Italian/script_directory_output/df_cleaned.csv\",\n",
    "                              lineterminator=\"\\n\", low_memory=False, encoding=\"utf-8\")"
   ]
  },
  {
   "cell_type": "code",
   "execution_count": 39,
   "id": "2eccb807",
   "metadata": {
    "pycharm": {
     "name": "#%%\n"
    }
   },
   "outputs": [
    {
     "data": {
      "text/html": [
       "<div>\n",
       "<style scoped>\n",
       "    .dataframe tbody tr th:only-of-type {\n",
       "        vertical-align: middle;\n",
       "    }\n",
       "\n",
       "    .dataframe tbody tr th {\n",
       "        vertical-align: top;\n",
       "    }\n",
       "\n",
       "    .dataframe thead th {\n",
       "        text-align: right;\n",
       "    }\n",
       "</style>\n",
       "<table border=\"1\" class=\"dataframe\">\n",
       "  <thead>\n",
       "    <tr style=\"text-align: right;\">\n",
       "      <th></th>\n",
       "      <th>id</th>\n",
       "      <th>text</th>\n",
       "    </tr>\n",
       "  </thead>\n",
       "  <tbody>\n",
       "    <tr>\n",
       "      <th>0</th>\n",
       "      <td>1221739084449832960</td>\n",
       "      <td>La Memoria è l’unico vaccino contro l’indiffer...</td>\n",
       "    </tr>\n",
       "    <tr>\n",
       "      <th>1</th>\n",
       "      <td>1221737155380293640</td>\n",
       "      <td>Oggi sono arrivati loro, 3 femminucce e 1 masc...</td>\n",
       "    </tr>\n",
       "    <tr>\n",
       "      <th>2</th>\n",
       "      <td>1221730009989120001</td>\n",
       "      <td>L'indifferenza è più colpevole della violenza ...</td>\n",
       "    </tr>\n",
       "    <tr>\n",
       "      <th>3</th>\n",
       "      <td>1221737654909382662</td>\n",
       "      <td>Minaccia morbillo nel Salento, Asl: \"Vaccinars...</td>\n",
       "    </tr>\n",
       "    <tr>\n",
       "      <th>4</th>\n",
       "      <td>1221728980203724801</td>\n",
       "      <td>\"Coltivare la Memoria è ancora oggi un vaccino...</td>\n",
       "    </tr>\n",
       "  </tbody>\n",
       "</table>\n",
       "</div>"
      ],
      "text/plain": [
       "                    id                                               text\n",
       "0  1221739084449832960  La Memoria è l’unico vaccino contro l’indiffer...\n",
       "1  1221737155380293640  Oggi sono arrivati loro, 3 femminucce e 1 masc...\n",
       "2  1221730009989120001  L'indifferenza è più colpevole della violenza ...\n",
       "3  1221737654909382662  Minaccia morbillo nel Salento, Asl: \"Vaccinars...\n",
       "4  1221728980203724801  \"Coltivare la Memoria è ancora oggi un vaccino..."
      ]
     },
     "execution_count": 39,
     "metadata": {},
     "output_type": "execute_result"
    }
   ],
   "source": [
    "esempio.head()"
   ]
  },
  {
   "cell_type": "code",
   "execution_count": 40,
   "id": "fc9f194c",
   "metadata": {
    "pycharm": {
     "name": "#%%\n"
    }
   },
   "outputs": [
    {
     "data": {
      "text/html": [
       "<div>\n",
       "<style scoped>\n",
       "    .dataframe tbody tr th:only-of-type {\n",
       "        vertical-align: middle;\n",
       "    }\n",
       "\n",
       "    .dataframe tbody tr th {\n",
       "        vertical-align: top;\n",
       "    }\n",
       "\n",
       "    .dataframe thead th {\n",
       "        text-align: right;\n",
       "    }\n",
       "</style>\n",
       "<table border=\"1\" class=\"dataframe\">\n",
       "  <thead>\n",
       "    <tr style=\"text-align: right;\">\n",
       "      <th></th>\n",
       "      <th>id</th>\n",
       "      <th>user_screen_name</th>\n",
       "      <th>text_x</th>\n",
       "      <th>urls</th>\n",
       "      <th>hashtags</th>\n",
       "      <th>created_at</th>\n",
       "      <th>text_y</th>\n",
       "    </tr>\n",
       "  </thead>\n",
       "  <tbody>\n",
       "    <tr>\n",
       "      <th>0</th>\n",
       "      <td>1221739084449832960</td>\n",
       "      <td>planetpaul65</td>\n",
       "      <td>La Memoria è l’unico vaccino contro l’indiffer...</td>\n",
       "      <td>[]</td>\n",
       "      <td>[{'text': 'GiornatadellaMemoria2020', 'indices...</td>\n",
       "      <td>Mon Jan 27 10:17:51 +0000 2020</td>\n",
       "      <td>La Memoria è l’unico vaccino contro l’indiffer...</td>\n",
       "    </tr>\n",
       "    <tr>\n",
       "      <th>1</th>\n",
       "      <td>1221737155380293640</td>\n",
       "      <td>Grace_1207</td>\n",
       "      <td>Oggi sono arrivati loro, 3 femminucce e 1 masc...</td>\n",
       "      <td>[]</td>\n",
       "      <td>[]</td>\n",
       "      <td>Mon Jan 27 10:10:11 +0000 2020</td>\n",
       "      <td>Oggi sono arrivati loro, 3 femminucce e 1 masc...</td>\n",
       "    </tr>\n",
       "    <tr>\n",
       "      <th>2</th>\n",
       "      <td>1221730009989120001</td>\n",
       "      <td>MarisaMinervini</td>\n",
       "      <td>L'indifferenza è più colpevole della violenza ...</td>\n",
       "      <td>[]</td>\n",
       "      <td>[]</td>\n",
       "      <td>Mon Jan 27 09:41:47 +0000 2020</td>\n",
       "      <td>L'indifferenza è più colpevole della violenza ...</td>\n",
       "    </tr>\n",
       "    <tr>\n",
       "      <th>3</th>\n",
       "      <td>1221737654909382662</td>\n",
       "      <td>LecceSette</td>\n",
       "      <td>Minaccia morbillo nel Salento, Asl: \"Vaccinars...</td>\n",
       "      <td>[{'url': 'https://t.co/CY0qiQFk6s', 'expanded_...</td>\n",
       "      <td>[]</td>\n",
       "      <td>Mon Jan 27 10:12:10 +0000 2020</td>\n",
       "      <td>Minaccia morbillo nel Salento, Asl: \"Vaccinars...</td>\n",
       "    </tr>\n",
       "    <tr>\n",
       "      <th>4</th>\n",
       "      <td>1221728980203724801</td>\n",
       "      <td>arual812</td>\n",
       "      <td>\"Coltivare la Memoria è ancora oggi un vaccino...</td>\n",
       "      <td>[]</td>\n",
       "      <td>[]</td>\n",
       "      <td>Mon Jan 27 09:37:42 +0000 2020</td>\n",
       "      <td>\"Coltivare la Memoria è ancora oggi un vaccino...</td>\n",
       "    </tr>\n",
       "  </tbody>\n",
       "</table>\n",
       "</div>"
      ],
      "text/plain": [
       "                    id user_screen_name  \\\n",
       "0  1221739084449832960     planetpaul65   \n",
       "1  1221737155380293640       Grace_1207   \n",
       "2  1221730009989120001  MarisaMinervini   \n",
       "3  1221737654909382662       LecceSette   \n",
       "4  1221728980203724801         arual812   \n",
       "\n",
       "                                              text_x  \\\n",
       "0  La Memoria è l’unico vaccino contro l’indiffer...   \n",
       "1  Oggi sono arrivati loro, 3 femminucce e 1 masc...   \n",
       "2  L'indifferenza è più colpevole della violenza ...   \n",
       "3  Minaccia morbillo nel Salento, Asl: \"Vaccinars...   \n",
       "4  \"Coltivare la Memoria è ancora oggi un vaccino...   \n",
       "\n",
       "                                                urls  \\\n",
       "0                                                 []   \n",
       "1                                                 []   \n",
       "2                                                 []   \n",
       "3  [{'url': 'https://t.co/CY0qiQFk6s', 'expanded_...   \n",
       "4                                                 []   \n",
       "\n",
       "                                            hashtags  \\\n",
       "0  [{'text': 'GiornatadellaMemoria2020', 'indices...   \n",
       "1                                                 []   \n",
       "2                                                 []   \n",
       "3                                                 []   \n",
       "4                                                 []   \n",
       "\n",
       "                       created_at  \\\n",
       "0  Mon Jan 27 10:17:51 +0000 2020   \n",
       "1  Mon Jan 27 10:10:11 +0000 2020   \n",
       "2  Mon Jan 27 09:41:47 +0000 2020   \n",
       "3  Mon Jan 27 10:12:10 +0000 2020   \n",
       "4  Mon Jan 27 09:37:42 +0000 2020   \n",
       "\n",
       "                                              text_y  \n",
       "0  La Memoria è l’unico vaccino contro l’indiffer...  \n",
       "1  Oggi sono arrivati loro, 3 femminucce e 1 masc...  \n",
       "2  L'indifferenza è più colpevole della violenza ...  \n",
       "3  Minaccia morbillo nel Salento, Asl: \"Vaccinars...  \n",
       "4  \"Coltivare la Memoria è ancora oggi un vaccino...  "
      ]
     },
     "execution_count": 40,
     "metadata": {},
     "output_type": "execute_result"
    }
   ],
   "source": [
    "df = tweets.merge(esempio, on=\"id\", how=\"left\")\n",
    "df.head()"
   ]
  },
  {
   "cell_type": "code",
   "execution_count": 43,
   "id": "e6382032",
   "metadata": {},
   "outputs": [
    {
     "name": "stdout",
     "output_type": "stream",
     "text": [
      "La Memoria è l’unico vaccino contro l’indifferenza.\n",
      "(Liliana Segre)\n",
      "#GiornatadellaMemoria2020 https://t.co/JDF9vdg1P9\n",
      "..\n",
      "La Memoria è l’unico vaccino contro l’indifferenza. (Liliana Segre) GiornatadellaMemoria2020 \n"
     ]
    }
   ],
   "source": [
    "print(list(df[\"text_x\"])[0])\n",
    "print(\"..\")\n",
    "print(list(df[\"text_y\"])[0])"
   ]
  },
  {
   "cell_type": "code",
   "execution_count": 42,
   "id": "c5cca995",
   "metadata": {
    "pycharm": {
     "name": "#%%\n"
    }
   },
   "outputs": [],
   "source": [
    "del tweets\n",
    "del esempio"
   ]
  },
  {
   "cell_type": "code",
   "execution_count": 44,
   "id": "7db2c284",
   "metadata": {
    "pycharm": {
     "name": "#%%\n"
    }
   },
   "outputs": [
    {
     "name": "stdout",
     "output_type": "stream",
     "text": [
      "1376011\n"
     ]
    },
    {
     "data": {
      "text/html": [
       "<div>\n",
       "<style scoped>\n",
       "    .dataframe tbody tr th:only-of-type {\n",
       "        vertical-align: middle;\n",
       "    }\n",
       "\n",
       "    .dataframe tbody tr th {\n",
       "        vertical-align: top;\n",
       "    }\n",
       "\n",
       "    .dataframe thead th {\n",
       "        text-align: right;\n",
       "    }\n",
       "</style>\n",
       "<table border=\"1\" class=\"dataframe\">\n",
       "  <thead>\n",
       "    <tr style=\"text-align: right;\">\n",
       "      <th></th>\n",
       "      <th>text</th>\n",
       "      <th>toxicity</th>\n",
       "    </tr>\n",
       "  </thead>\n",
       "  <tbody>\n",
       "    <tr>\n",
       "      <th>0</th>\n",
       "      <td>andrea__059 LucioMM1 Rey_k73 MMmarco0 Ma da qu...</td>\n",
       "      <td>0.122449</td>\n",
       "    </tr>\n",
       "    <tr>\n",
       "      <th>1</th>\n",
       "      <td>La_manina__ PaoloMarani3 Hai cannato.  1743 so...</td>\n",
       "      <td>0.213626</td>\n",
       "    </tr>\n",
       "    <tr>\n",
       "      <th>2</th>\n",
       "      <td>noitre32 Ormai viviamo in mezzo a una follia d...</td>\n",
       "      <td>0.271282</td>\n",
       "    </tr>\n",
       "    <tr>\n",
       "      <th>3</th>\n",
       "      <td>Lotta alla pandemia, Bayer e Curevac insieme p...</td>\n",
       "      <td>0.003002</td>\n",
       "    </tr>\n",
       "    <tr>\n",
       "      <th>4</th>\n",
       "      <td>EugenioGiani In molto 60 enni nn si prenotano ...</td>\n",
       "      <td>0.037538</td>\n",
       "    </tr>\n",
       "  </tbody>\n",
       "</table>\n",
       "</div>"
      ],
      "text/plain": [
       "                                                text  toxicity\n",
       "0  andrea__059 LucioMM1 Rey_k73 MMmarco0 Ma da qu...  0.122449\n",
       "1  La_manina__ PaoloMarani3 Hai cannato.  1743 so...  0.213626\n",
       "2  noitre32 Ormai viviamo in mezzo a una follia d...  0.271282\n",
       "3  Lotta alla pandemia, Bayer e Curevac insieme p...  0.003002\n",
       "4  EugenioGiani In molto 60 enni nn si prenotano ...  0.037538"
      ]
     },
     "execution_count": 44,
     "metadata": {},
     "output_type": "execute_result"
    }
   ],
   "source": [
    "import warnings\n",
    "warnings.simplefilter(\"ignore\")\n",
    "from glob import glob\n",
    "files = glob(r\"C:\\Users\\gianl\\Desktop\\Gi\\Supsi\\Vaccines_Discussion_Italy\\Italian\\script_directory_output\\res*.csv\")\n",
    "results = pd.DataFrame()\n",
    "for file in files:\n",
    "    df_temp = pd.read_csv(file, lineterminator=\"\\n\", encoding=\"utf-8\", low_memory=False)\n",
    "    results = results.append(df_temp)\n",
    "print(len(results))\n",
    "results.head()"
   ]
  },
  {
   "cell_type": "code",
   "execution_count": 45,
   "id": "57d6ac24",
   "metadata": {},
   "outputs": [
    {
     "name": "stdout",
     "output_type": "stream",
     "text": [
      "4024101\n"
     ]
    }
   ],
   "source": [
    "print(len(df[df[\"text_y\"].notna()]))\n",
    "df = df[[\"id\",\"user_screen_name\",\"hashtags\",\"text_y\",\"urls\",\"created_at\"]]\n",
    "df.rename(columns = {'text_y':'text'}, inplace = True)"
   ]
  },
  {
   "cell_type": "code",
   "execution_count": 46,
   "id": "d05b0305",
   "metadata": {
    "pycharm": {
     "name": "#%%\n"
    }
   },
   "outputs": [
    {
     "data": {
      "text/html": [
       "<div>\n",
       "<style scoped>\n",
       "    .dataframe tbody tr th:only-of-type {\n",
       "        vertical-align: middle;\n",
       "    }\n",
       "\n",
       "    .dataframe tbody tr th {\n",
       "        vertical-align: top;\n",
       "    }\n",
       "\n",
       "    .dataframe thead th {\n",
       "        text-align: right;\n",
       "    }\n",
       "</style>\n",
       "<table border=\"1\" class=\"dataframe\">\n",
       "  <thead>\n",
       "    <tr style=\"text-align: right;\">\n",
       "      <th></th>\n",
       "      <th>text</th>\n",
       "      <th>toxicity</th>\n",
       "      <th>id</th>\n",
       "      <th>user_screen_name</th>\n",
       "      <th>hashtags</th>\n",
       "      <th>urls</th>\n",
       "      <th>created_at</th>\n",
       "    </tr>\n",
       "  </thead>\n",
       "  <tbody>\n",
       "    <tr>\n",
       "      <th>0</th>\n",
       "      <td>La Memoria è l’unico vaccino contro l’indiffer...</td>\n",
       "      <td>0.006942</td>\n",
       "      <td>1221739084449832960</td>\n",
       "      <td>planetpaul65</td>\n",
       "      <td>[{'text': 'GiornatadellaMemoria2020', 'indices...</td>\n",
       "      <td>[]</td>\n",
       "      <td>Mon Jan 27 10:17:51 +0000 2020</td>\n",
       "    </tr>\n",
       "    <tr>\n",
       "      <th>1</th>\n",
       "      <td>Oggi sono arrivati loro, 3 femminucce e 1 masc...</td>\n",
       "      <td>0.503896</td>\n",
       "      <td>1221737155380293640</td>\n",
       "      <td>Grace_1207</td>\n",
       "      <td>[]</td>\n",
       "      <td>[]</td>\n",
       "      <td>Mon Jan 27 10:10:11 +0000 2020</td>\n",
       "    </tr>\n",
       "    <tr>\n",
       "      <th>2</th>\n",
       "      <td>L'indifferenza è più colpevole della violenza ...</td>\n",
       "      <td>0.037881</td>\n",
       "      <td>1221730009989120001</td>\n",
       "      <td>MarisaMinervini</td>\n",
       "      <td>[]</td>\n",
       "      <td>[]</td>\n",
       "      <td>Mon Jan 27 09:41:47 +0000 2020</td>\n",
       "    </tr>\n",
       "    <tr>\n",
       "      <th>3</th>\n",
       "      <td>Minaccia morbillo nel Salento, Asl: \"Vaccinars...</td>\n",
       "      <td>0.065322</td>\n",
       "      <td>1221737654909382662</td>\n",
       "      <td>LecceSette</td>\n",
       "      <td>[]</td>\n",
       "      <td>[{'url': 'https://t.co/CY0qiQFk6s', 'expanded_...</td>\n",
       "      <td>Mon Jan 27 10:12:10 +0000 2020</td>\n",
       "    </tr>\n",
       "    <tr>\n",
       "      <th>4</th>\n",
       "      <td>\"Coltivare la Memoria è ancora oggi un vaccino...</td>\n",
       "      <td>0.004234</td>\n",
       "      <td>1221728980203724801</td>\n",
       "      <td>arual812</td>\n",
       "      <td>[]</td>\n",
       "      <td>[]</td>\n",
       "      <td>Mon Jan 27 09:37:42 +0000 2020</td>\n",
       "    </tr>\n",
       "  </tbody>\n",
       "</table>\n",
       "</div>"
      ],
      "text/plain": [
       "                                                text  toxicity  \\\n",
       "0  La Memoria è l’unico vaccino contro l’indiffer...  0.006942   \n",
       "1  Oggi sono arrivati loro, 3 femminucce e 1 masc...  0.503896   \n",
       "2  L'indifferenza è più colpevole della violenza ...  0.037881   \n",
       "3  Minaccia morbillo nel Salento, Asl: \"Vaccinars...  0.065322   \n",
       "4  \"Coltivare la Memoria è ancora oggi un vaccino...  0.004234   \n",
       "\n",
       "                    id user_screen_name  \\\n",
       "0  1221739084449832960     planetpaul65   \n",
       "1  1221737155380293640       Grace_1207   \n",
       "2  1221730009989120001  MarisaMinervini   \n",
       "3  1221737654909382662       LecceSette   \n",
       "4  1221728980203724801         arual812   \n",
       "\n",
       "                                            hashtags  \\\n",
       "0  [{'text': 'GiornatadellaMemoria2020', 'indices...   \n",
       "1                                                 []   \n",
       "2                                                 []   \n",
       "3                                                 []   \n",
       "4                                                 []   \n",
       "\n",
       "                                                urls  \\\n",
       "0                                                 []   \n",
       "1                                                 []   \n",
       "2                                                 []   \n",
       "3  [{'url': 'https://t.co/CY0qiQFk6s', 'expanded_...   \n",
       "4                                                 []   \n",
       "\n",
       "                       created_at  \n",
       "0  Mon Jan 27 10:17:51 +0000 2020  \n",
       "1  Mon Jan 27 10:10:11 +0000 2020  \n",
       "2  Mon Jan 27 09:41:47 +0000 2020  \n",
       "3  Mon Jan 27 10:12:10 +0000 2020  \n",
       "4  Mon Jan 27 09:37:42 +0000 2020  "
      ]
     },
     "execution_count": 46,
     "metadata": {},
     "output_type": "execute_result"
    }
   ],
   "source": [
    "res = results.merge(df, on=\"text\", how=\"right\")\n",
    "res.head()"
   ]
  },
  {
   "cell_type": "code",
   "execution_count": 47,
   "id": "a095f9bf",
   "metadata": {
    "pycharm": {
     "name": "#%%\n"
    }
   },
   "outputs": [
    {
     "name": "stdout",
     "output_type": "stream",
     "text": [
      "4053201\n"
     ]
    },
    {
     "data": {
      "application/vnd.jupyter.widget-view+json": {
       "model_id": "773e0ea4b00a433fb0b15133faa64a22",
       "version_major": 2,
       "version_minor": 0
      },
      "text/plain": [
       "HBox(children=(HTML(value=''), FloatProgress(value=0.0, max=4053201.0), HTML(value='')))"
      ]
     },
     "metadata": {},
     "output_type": "display_data"
    },
    {
     "name": "stdout",
     "output_type": "stream",
     "text": [
      "\n"
     ]
    },
    {
     "data": {
      "text/plain": [
       "0.10749875744084895"
      ]
     },
     "execution_count": 47,
     "metadata": {},
     "output_type": "execute_result"
    }
   ],
   "source": [
    "print(len(res))\n",
    "res[\"date\"] = [utils.process_datetime(i) for i in tqdm(res[\"created_at\"])]\n",
    "np.mean(res[\"toxicity\"])"
   ]
  },
  {
   "cell_type": "code",
   "execution_count": 48,
   "id": "b8fab4ef",
   "metadata": {
    "pycharm": {
     "name": "#%%\n"
    }
   },
   "outputs": [
    {
     "data": {
      "text/plain": [
       "Text(0, 0.5, 'Toxicity score')"
      ]
     },
     "execution_count": 48,
     "metadata": {},
     "output_type": "execute_result"
    },
    {
     "data": {
      "image/png": "[encoded data removed]",
      "text/plain": [
       "<Figure size 432x288 with 1 Axes>"
      ]
     },
     "metadata": {
      "needs_background": "light"
     },
     "output_type": "display_data"
    }
   ],
   "source": [
    "# Import the libraries\n",
    "import matplotlib.pyplot as plt\n",
    "import seaborn as sns\n",
    "\n",
    "# matplotlib histogram\n",
    "plt.hist(res['toxicity'], color = 'blue', edgecolor = 'black', bins=20)\n",
    "\n",
    "# Add labels\n",
    "plt.title('Histogram of Toxicity')\n",
    "plt.xlabel('Value')\n",
    "plt.ylabel('Toxicity score')"
   ]
  },
  {
   "cell_type": "code",
   "execution_count": 51,
   "id": "bde8709f",
   "metadata": {
    "pycharm": {
     "name": "#%%\n"
    }
   },
   "outputs": [],
   "source": [
    "toxic = res[res[\"toxicity\"]>=0.5]"
   ]
  },
  {
   "cell_type": "code",
   "execution_count": 52,
   "id": "f872312f",
   "metadata": {
    "pycharm": {
     "name": "#%%\n"
    }
   },
   "outputs": [
    {
     "data": {
      "text/plain": [
       "Piero42395724      187\n",
       "trincherov         184\n",
       "il_brigante07      136\n",
       "Attyla91461568     116\n",
       "xenonian1          116\n",
       "Graziel65255465    114\n",
       "GiovannaSandr16    107\n",
       "Sakurauchi_Hime    103\n",
       "ManuQ24916888       85\n",
       "gaiagioiared        81\n",
       "LPincia             78\n",
       "anto_galli4         77\n",
       "enzo6619            76\n",
       "ItalianoeRomano     74\n",
       "Pietro_Otto         73\n",
       "manu_etoile         73\n",
       "IAlianna_           72\n",
       "PazuDaemon          71\n",
       "tiber_h             69\n",
       "jobwithinternet     68\n",
       "Name: user_screen_name, dtype: int64"
      ]
     },
     "execution_count": 52,
     "metadata": {},
     "output_type": "execute_result"
    }
   ],
   "source": [
    "pd.Series(toxic[\"user_screen_name\"]).value_counts().sort_values(ascending=False)[:20]"
   ]
  },
  {
   "cell_type": "markdown",
   "id": "345cbada",
   "metadata": {
    "pycharm": {
     "name": "#%% md\n"
    }
   },
   "source": [
    "# User - Toxicity"
   ]
  },
  {
   "cell_type": "code",
   "execution_count": 53,
   "id": "4de2e669",
   "metadata": {
    "pycharm": {
     "name": "#%%\n"
    }
   },
   "outputs": [
    {
     "data": {
      "text/html": [
       "<div>\n",
       "<style scoped>\n",
       "    .dataframe tbody tr th:only-of-type {\n",
       "        vertical-align: middle;\n",
       "    }\n",
       "\n",
       "    .dataframe tbody tr th {\n",
       "        vertical-align: top;\n",
       "    }\n",
       "\n",
       "    .dataframe thead th {\n",
       "        text-align: right;\n",
       "    }\n",
       "</style>\n",
       "<table border=\"1\" class=\"dataframe\">\n",
       "  <thead>\n",
       "    <tr style=\"text-align: right;\">\n",
       "      <th></th>\n",
       "      <th>text</th>\n",
       "      <th>toxicity</th>\n",
       "      <th>id</th>\n",
       "      <th>user_screen_name</th>\n",
       "      <th>hashtags</th>\n",
       "      <th>urls</th>\n",
       "      <th>created_at</th>\n",
       "      <th>date</th>\n",
       "      <th>count_status</th>\n",
       "      <th>toxicity_score</th>\n",
       "    </tr>\n",
       "  </thead>\n",
       "  <tbody>\n",
       "    <tr>\n",
       "      <th>0</th>\n",
       "      <td>La Memoria è l’unico vaccino contro l’indiffer...</td>\n",
       "      <td>0.006942</td>\n",
       "      <td>1221739084449832960</td>\n",
       "      <td>planetpaul65</td>\n",
       "      <td>[{'text': 'GiornatadellaMemoria2020', 'indices...</td>\n",
       "      <td>[]</td>\n",
       "      <td>Mon Jan 27 10:17:51 +0000 2020</td>\n",
       "      <td>2020-01-27</td>\n",
       "      <td>222</td>\n",
       "      <td>0.123665</td>\n",
       "    </tr>\n",
       "    <tr>\n",
       "      <th>1</th>\n",
       "      <td>Oggi sono arrivati loro, 3 femminucce e 1 masc...</td>\n",
       "      <td>0.503896</td>\n",
       "      <td>1221737155380293640</td>\n",
       "      <td>Grace_1207</td>\n",
       "      <td>[]</td>\n",
       "      <td>[]</td>\n",
       "      <td>Mon Jan 27 10:10:11 +0000 2020</td>\n",
       "      <td>2020-01-27</td>\n",
       "      <td>261</td>\n",
       "      <td>0.089802</td>\n",
       "    </tr>\n",
       "    <tr>\n",
       "      <th>3</th>\n",
       "      <td>Minaccia morbillo nel Salento, Asl: \"Vaccinars...</td>\n",
       "      <td>0.065322</td>\n",
       "      <td>1221737654909382662</td>\n",
       "      <td>LecceSette</td>\n",
       "      <td>[]</td>\n",
       "      <td>[{'url': 'https://t.co/CY0qiQFk6s', 'expanded_...</td>\n",
       "      <td>Mon Jan 27 10:12:10 +0000 2020</td>\n",
       "      <td>2020-01-27</td>\n",
       "      <td>83</td>\n",
       "      <td>0.027140</td>\n",
       "    </tr>\n",
       "    <tr>\n",
       "      <th>4</th>\n",
       "      <td>\"Coltivare la Memoria è ancora oggi un vaccino...</td>\n",
       "      <td>0.004234</td>\n",
       "      <td>1221728980203724801</td>\n",
       "      <td>arual812</td>\n",
       "      <td>[]</td>\n",
       "      <td>[]</td>\n",
       "      <td>Mon Jan 27 09:37:42 +0000 2020</td>\n",
       "      <td>2020-01-27</td>\n",
       "      <td>562</td>\n",
       "      <td>0.066790</td>\n",
       "    </tr>\n",
       "    <tr>\n",
       "      <th>5</th>\n",
       "      <td>Ma prima una premessa per chi non conosce la v...</td>\n",
       "      <td>0.009718</td>\n",
       "      <td>1221732930738905088</td>\n",
       "      <td>pvsassone</td>\n",
       "      <td>[]</td>\n",
       "      <td>[]</td>\n",
       "      <td>Mon Jan 27 09:53:24 +0000 2020</td>\n",
       "      <td>2020-01-27</td>\n",
       "      <td>1572</td>\n",
       "      <td>0.099055</td>\n",
       "    </tr>\n",
       "    <tr>\n",
       "      <th>...</th>\n",
       "      <td>...</td>\n",
       "      <td>...</td>\n",
       "      <td>...</td>\n",
       "      <td>...</td>\n",
       "      <td>...</td>\n",
       "      <td>...</td>\n",
       "      <td>...</td>\n",
       "      <td>...</td>\n",
       "      <td>...</td>\n",
       "      <td>...</td>\n",
       "    </tr>\n",
       "    <tr>\n",
       "      <th>3883832</th>\n",
       "      <td>DL44: si potrebbe fare di peggio? Per il centr...</td>\n",
       "      <td>0.028954</td>\n",
       "      <td>1392052037341360129</td>\n",
       "      <td>AttivaResistenz</td>\n",
       "      <td>[]</td>\n",
       "      <td>[{'url': 'https://t.co/btrH8cRORy', 'expanded_...</td>\n",
       "      <td>Tue May 11 09:40:43 +0000 2021</td>\n",
       "      <td>2021-05-11</td>\n",
       "      <td>12</td>\n",
       "      <td>0.046130</td>\n",
       "    </tr>\n",
       "    <tr>\n",
       "      <th>3883917</th>\n",
       "      <td>DL44: si potrebbe fare di peggio? Per il centr...</td>\n",
       "      <td>0.028954</td>\n",
       "      <td>1392052631489687555</td>\n",
       "      <td>AttivaLazio</td>\n",
       "      <td>[]</td>\n",
       "      <td>[]</td>\n",
       "      <td>Tue May 11 09:43:05 +0000 2021</td>\n",
       "      <td>2021-05-11</td>\n",
       "      <td>18</td>\n",
       "      <td>0.063984</td>\n",
       "    </tr>\n",
       "    <tr>\n",
       "      <th>3912182</th>\n",
       "      <td>BFMTV LCI LCI · 2m \"Vite ma dose\" : attention ...</td>\n",
       "      <td>0.109569</td>\n",
       "      <td>1392476194520670208</td>\n",
       "      <td>martinelegendr4</td>\n",
       "      <td>[]</td>\n",
       "      <td>[{'url': 'https://t.co/ayfl3w12e2', 'expanded_...</td>\n",
       "      <td>Wed May 12 13:46:10 +0000 2021</td>\n",
       "      <td>2021-05-12</td>\n",
       "      <td>23</td>\n",
       "      <td>0.090316</td>\n",
       "    </tr>\n",
       "    <tr>\n",
       "      <th>3916372</th>\n",
       "      <td>Covid-19: ultimissima, Tre milioni di dosi per...</td>\n",
       "      <td>0.030328</td>\n",
       "      <td>1392530375612764160</td>\n",
       "      <td>GiNews24</td>\n",
       "      <td>[{'text': 'breakingnews', 'indices': [69, 82]}...</td>\n",
       "      <td>[{'url': 'https://t.co/oWijkC5YpR', 'expanded_...</td>\n",
       "      <td>Wed May 12 17:21:28 +0000 2021</td>\n",
       "      <td>2021-05-12</td>\n",
       "      <td>15</td>\n",
       "      <td>0.085506</td>\n",
       "    </tr>\n",
       "    <tr>\n",
       "      <th>4004526</th>\n",
       "      <td>15 Maggio 2021 - Germania   Uomo muore in clin...</td>\n",
       "      <td>0.009441</td>\n",
       "      <td>1393876699616583680</td>\n",
       "      <td>Grillo_VtruVano</td>\n",
       "      <td>[]</td>\n",
       "      <td>[]</td>\n",
       "      <td>Sun May 16 10:31:16 +0000 2021</td>\n",
       "      <td>2021-05-16</td>\n",
       "      <td>14</td>\n",
       "      <td>0.029203</td>\n",
       "    </tr>\n",
       "  </tbody>\n",
       "</table>\n",
       "<p>43549 rows × 10 columns</p>\n",
       "</div>"
      ],
      "text/plain": [
       "                                                      text  toxicity  \\\n",
       "0        La Memoria è l’unico vaccino contro l’indiffer...  0.006942   \n",
       "1        Oggi sono arrivati loro, 3 femminucce e 1 masc...  0.503896   \n",
       "3        Minaccia morbillo nel Salento, Asl: \"Vaccinars...  0.065322   \n",
       "4        \"Coltivare la Memoria è ancora oggi un vaccino...  0.004234   \n",
       "5        Ma prima una premessa per chi non conosce la v...  0.009718   \n",
       "...                                                    ...       ...   \n",
       "3883832  DL44: si potrebbe fare di peggio? Per il centr...  0.028954   \n",
       "3883917  DL44: si potrebbe fare di peggio? Per il centr...  0.028954   \n",
       "3912182  BFMTV LCI LCI · 2m \"Vite ma dose\" : attention ...  0.109569   \n",
       "3916372  Covid-19: ultimissima, Tre milioni di dosi per...  0.030328   \n",
       "4004526  15 Maggio 2021 - Germania   Uomo muore in clin...  0.009441   \n",
       "\n",
       "                          id user_screen_name  \\\n",
       "0        1221739084449832960     planetpaul65   \n",
       "1        1221737155380293640       Grace_1207   \n",
       "3        1221737654909382662       LecceSette   \n",
       "4        1221728980203724801         arual812   \n",
       "5        1221732930738905088        pvsassone   \n",
       "...                      ...              ...   \n",
       "3883832  1392052037341360129  AttivaResistenz   \n",
       "3883917  1392052631489687555      AttivaLazio   \n",
       "3912182  1392476194520670208  martinelegendr4   \n",
       "3916372  1392530375612764160         GiNews24   \n",
       "4004526  1393876699616583680  Grillo_VtruVano   \n",
       "\n",
       "                                                  hashtags  \\\n",
       "0        [{'text': 'GiornatadellaMemoria2020', 'indices...   \n",
       "1                                                       []   \n",
       "3                                                       []   \n",
       "4                                                       []   \n",
       "5                                                       []   \n",
       "...                                                    ...   \n",
       "3883832                                                 []   \n",
       "3883917                                                 []   \n",
       "3912182                                                 []   \n",
       "3916372  [{'text': 'breakingnews', 'indices': [69, 82]}...   \n",
       "4004526                                                 []   \n",
       "\n",
       "                                                      urls  \\\n",
       "0                                                       []   \n",
       "1                                                       []   \n",
       "3        [{'url': 'https://t.co/CY0qiQFk6s', 'expanded_...   \n",
       "4                                                       []   \n",
       "5                                                       []   \n",
       "...                                                    ...   \n",
       "3883832  [{'url': 'https://t.co/btrH8cRORy', 'expanded_...   \n",
       "3883917                                                 []   \n",
       "3912182  [{'url': 'https://t.co/ayfl3w12e2', 'expanded_...   \n",
       "3916372  [{'url': 'https://t.co/oWijkC5YpR', 'expanded_...   \n",
       "4004526                                                 []   \n",
       "\n",
       "                             created_at        date  count_status  \\\n",
       "0        Mon Jan 27 10:17:51 +0000 2020  2020-01-27           222   \n",
       "1        Mon Jan 27 10:10:11 +0000 2020  2020-01-27           261   \n",
       "3        Mon Jan 27 10:12:10 +0000 2020  2020-01-27            83   \n",
       "4        Mon Jan 27 09:37:42 +0000 2020  2020-01-27           562   \n",
       "5        Mon Jan 27 09:53:24 +0000 2020  2020-01-27          1572   \n",
       "...                                 ...         ...           ...   \n",
       "3883832  Tue May 11 09:40:43 +0000 2021  2021-05-11            12   \n",
       "3883917  Tue May 11 09:43:05 +0000 2021  2021-05-11            18   \n",
       "3912182  Wed May 12 13:46:10 +0000 2021  2021-05-12            23   \n",
       "3916372  Wed May 12 17:21:28 +0000 2021  2021-05-12            15   \n",
       "4004526  Sun May 16 10:31:16 +0000 2021  2021-05-16            14   \n",
       "\n",
       "         toxicity_score  \n",
       "0              0.123665  \n",
       "1              0.089802  \n",
       "3              0.027140  \n",
       "4              0.066790  \n",
       "5              0.099055  \n",
       "...                 ...  \n",
       "3883832        0.046130  \n",
       "3883917        0.063984  \n",
       "3912182        0.090316  \n",
       "3916372        0.085506  \n",
       "4004526        0.029203  \n",
       "\n",
       "[43549 rows x 10 columns]"
      ]
     },
     "execution_count": 53,
     "metadata": {},
     "output_type": "execute_result"
    }
   ],
   "source": [
    "res[\"count_status\"] = res.groupby('user_screen_name')[\"toxicity\"].transform('count')\n",
    "to_df = res[res[\"count_status\"]>10]\n",
    "to_df[\"toxicity_score\"] = to_df.groupby('user_screen_name')[\"toxicity\"].transform('mean')\n",
    "to_df = to_df.drop_duplicates(subset='user_screen_name')\n",
    "to_df\n",
    "# to_df[[\"user_screen_name\",\"toxicity_score\"]].to_csv(r\"../Files/user_toxicity.csv\", line_terminator=\"\\n\", encoding=\"utf-8\", index=False)"
   ]
  },
  {
   "cell_type": "code",
   "execution_count": 54,
   "id": "50670830",
   "metadata": {
    "pycharm": {
     "name": "#%%\n"
    }
   },
   "outputs": [],
   "source": [
    "res['dates']= res[[\"toxicity\",\"date\"]].groupby('date').transform('mean')\n",
    "res_for_plot = res.drop_duplicates(subset='date')"
   ]
  },
  {
   "cell_type": "code",
   "execution_count": 55,
   "id": "ceddc410",
   "metadata": {
    "pycharm": {
     "name": "#%%\n"
    }
   },
   "outputs": [
    {
     "name": "stdout",
     "output_type": "stream",
     "text": [
      "\n"
     ]
    },
    {
     "data": {
      "text/html": [
       "<div>\n",
       "<style scoped>\n",
       "    .dataframe tbody tr th:only-of-type {\n",
       "        vertical-align: middle;\n",
       "    }\n",
       "\n",
       "    .dataframe tbody tr th {\n",
       "        vertical-align: top;\n",
       "    }\n",
       "\n",
       "    .dataframe thead th {\n",
       "        text-align: right;\n",
       "    }\n",
       "</style>\n",
       "<table border=\"1\" class=\"dataframe\">\n",
       "  <thead>\n",
       "    <tr style=\"text-align: right;\">\n",
       "      <th></th>\n",
       "      <th>text</th>\n",
       "      <th>toxicity</th>\n",
       "      <th>id</th>\n",
       "      <th>user_screen_name</th>\n",
       "      <th>hashtags</th>\n",
       "      <th>urls</th>\n",
       "      <th>created_at</th>\n",
       "      <th>date</th>\n",
       "      <th>count_status</th>\n",
       "      <th>dates</th>\n",
       "    </tr>\n",
       "  </thead>\n",
       "  <tbody>\n",
       "    <tr>\n",
       "      <th>0</th>\n",
       "      <td>La Memoria è l’unico vaccino contro l’indiffer...</td>\n",
       "      <td>0.006942</td>\n",
       "      <td>1221739084449832960</td>\n",
       "      <td>planetpaul65</td>\n",
       "      <td>[{'text': 'GiornatadellaMemoria2020', 'indices...</td>\n",
       "      <td>[]</td>\n",
       "      <td>Mon Jan 27 10:17:51 +0000 2020</td>\n",
       "      <td>2020-01-27</td>\n",
       "      <td>222</td>\n",
       "      <td>0.071613</td>\n",
       "    </tr>\n",
       "    <tr>\n",
       "      <th>395</th>\n",
       "      <td>Quando LaScienza™ fonda le proprie certezze su...</td>\n",
       "      <td>NaN</td>\n",
       "      <td>1222305540904235009</td>\n",
       "      <td>Mr_Ozymandias</td>\n",
       "      <td>[{'text': 'vaccini', 'indices': [91, 99]}, {'t...</td>\n",
       "      <td>[]</td>\n",
       "      <td>Tue Jan 28 23:48:44 +0000 2020</td>\n",
       "      <td>2020-01-28</td>\n",
       "      <td>575</td>\n",
       "      <td>0.100783</td>\n",
       "    </tr>\n",
       "    <tr>\n",
       "      <th>1926</th>\n",
       "      <td>A questo bambino hanno amputato tutti e 4 gli ...</td>\n",
       "      <td>0.097633</td>\n",
       "      <td>1213100039112986624</td>\n",
       "      <td>vendutoschifoso</td>\n",
       "      <td>[{'text': 'vaccini', 'indices': [91, 99]}]</td>\n",
       "      <td>[]</td>\n",
       "      <td>Fri Jan 03 14:09:22 +0000 2020</td>\n",
       "      <td>2020-01-03</td>\n",
       "      <td>1033</td>\n",
       "      <td>0.102138</td>\n",
       "    </tr>\n",
       "    <tr>\n",
       "      <th>2235</th>\n",
       "      <td>giannantonio51 sciudar Apndp Infatti! Tutti do...</td>\n",
       "      <td>0.070916</td>\n",
       "      <td>1223030947802767361</td>\n",
       "      <td>Alessandra1605</td>\n",
       "      <td>[]</td>\n",
       "      <td>[]</td>\n",
       "      <td>Thu Jan 30 23:51:15 +0000 2020</td>\n",
       "      <td>2020-01-30</td>\n",
       "      <td>186</td>\n",
       "      <td>0.123403</td>\n",
       "    </tr>\n",
       "    <tr>\n",
       "      <th>3850</th>\n",
       "      <td>\" Facciamo un gioco: pensa una cosa veramente ...</td>\n",
       "      <td>0.114721</td>\n",
       "      <td>1223240828329635841</td>\n",
       "      <td>AnnareColonnese</td>\n",
       "      <td>[{'text': 'coronavirus', 'indices': [77, 89]}]</td>\n",
       "      <td>[]</td>\n",
       "      <td>Fri Jan 31 13:45:14 +0000 2020</td>\n",
       "      <td>2020-01-31</td>\n",
       "      <td>98</td>\n",
       "      <td>0.150006</td>\n",
       "    </tr>\n",
       "    <tr>\n",
       "      <th>...</th>\n",
       "      <td>...</td>\n",
       "      <td>...</td>\n",
       "      <td>...</td>\n",
       "      <td>...</td>\n",
       "      <td>...</td>\n",
       "      <td>...</td>\n",
       "      <td>...</td>\n",
       "      <td>...</td>\n",
       "      <td>...</td>\n",
       "      <td>...</td>\n",
       "    </tr>\n",
       "    <tr>\n",
       "      <th>3922777</th>\n",
       "      <td>Potete rendervi conto da soli di cosa stanno m...</td>\n",
       "      <td>0.020408</td>\n",
       "      <td>1392630974157045762</td>\n",
       "      <td>elisamassimi</td>\n",
       "      <td>[]</td>\n",
       "      <td>[]</td>\n",
       "      <td>Thu May 13 00:01:12 +0000 2021</td>\n",
       "      <td>2021-05-13</td>\n",
       "      <td>169</td>\n",
       "      <td>0.094579</td>\n",
       "    </tr>\n",
       "    <tr>\n",
       "      <th>3949214</th>\n",
       "      <td>All'improvviso, il genio! * Per favore, in neg...</td>\n",
       "      <td>0.229853</td>\n",
       "      <td>1392994281888133120</td>\n",
       "      <td>ChiccoTech</td>\n",
       "      <td>[]</td>\n",
       "      <td>[]</td>\n",
       "      <td>Fri May 14 00:04:52 +0000 2021</td>\n",
       "      <td>2021-05-14</td>\n",
       "      <td>6</td>\n",
       "      <td>0.089086</td>\n",
       "    </tr>\n",
       "    <tr>\n",
       "      <th>3975514</th>\n",
       "      <td>Stanno succedendo cose gravissime, da regime t...</td>\n",
       "      <td>0.184506</td>\n",
       "      <td>1393356595132764160</td>\n",
       "      <td>StefaniaVaselli</td>\n",
       "      <td>[]</td>\n",
       "      <td>[]</td>\n",
       "      <td>Sat May 15 00:04:34 +0000 2021</td>\n",
       "      <td>2021-05-15</td>\n",
       "      <td>955</td>\n",
       "      <td>0.085152</td>\n",
       "    </tr>\n",
       "    <tr>\n",
       "      <th>3996248</th>\n",
       "      <td>Il Nobel Luc Montagnier:  -Un \" errore inaccet...</td>\n",
       "      <td>0.040972</td>\n",
       "      <td>1393721664421171207</td>\n",
       "      <td>cidange</td>\n",
       "      <td>[]</td>\n",
       "      <td>[]</td>\n",
       "      <td>Sun May 16 00:15:13 +0000 2021</td>\n",
       "      <td>2021-05-16</td>\n",
       "      <td>10</td>\n",
       "      <td>0.106017</td>\n",
       "    </tr>\n",
       "    <tr>\n",
       "      <th>4020413</th>\n",
       "      <td></td>\n",
       "      <td>NaN</td>\n",
       "      <td>1394082319296868353</td>\n",
       "      <td>Nanenmonio1</td>\n",
       "      <td>[]</td>\n",
       "      <td>[{'url': 'https://t.co/0t5syZVf30', 'expanded_...</td>\n",
       "      <td>Mon May 17 00:08:20 +0000 2021</td>\n",
       "      <td>2021-05-17</td>\n",
       "      <td>396</td>\n",
       "      <td>0.104591</td>\n",
       "    </tr>\n",
       "  </tbody>\n",
       "</table>\n",
       "<p>366 rows × 10 columns</p>\n",
       "</div>"
      ],
      "text/plain": [
       "                                                      text  toxicity  \\\n",
       "0        La Memoria è l’unico vaccino contro l’indiffer...  0.006942   \n",
       "395      Quando LaScienza™ fonda le proprie certezze su...       NaN   \n",
       "1926     A questo bambino hanno amputato tutti e 4 gli ...  0.097633   \n",
       "2235     giannantonio51 sciudar Apndp Infatti! Tutti do...  0.070916   \n",
       "3850     \" Facciamo un gioco: pensa una cosa veramente ...  0.114721   \n",
       "...                                                    ...       ...   \n",
       "3922777  Potete rendervi conto da soli di cosa stanno m...  0.020408   \n",
       "3949214  All'improvviso, il genio! * Per favore, in neg...  0.229853   \n",
       "3975514  Stanno succedendo cose gravissime, da regime t...  0.184506   \n",
       "3996248  Il Nobel Luc Montagnier:  -Un \" errore inaccet...  0.040972   \n",
       "4020413                                                          NaN   \n",
       "\n",
       "                          id user_screen_name  \\\n",
       "0        1221739084449832960     planetpaul65   \n",
       "395      1222305540904235009    Mr_Ozymandias   \n",
       "1926     1213100039112986624  vendutoschifoso   \n",
       "2235     1223030947802767361   Alessandra1605   \n",
       "3850     1223240828329635841  AnnareColonnese   \n",
       "...                      ...              ...   \n",
       "3922777  1392630974157045762     elisamassimi   \n",
       "3949214  1392994281888133120       ChiccoTech   \n",
       "3975514  1393356595132764160  StefaniaVaselli   \n",
       "3996248  1393721664421171207          cidange   \n",
       "4020413  1394082319296868353      Nanenmonio1   \n",
       "\n",
       "                                                  hashtags  \\\n",
       "0        [{'text': 'GiornatadellaMemoria2020', 'indices...   \n",
       "395      [{'text': 'vaccini', 'indices': [91, 99]}, {'t...   \n",
       "1926            [{'text': 'vaccini', 'indices': [91, 99]}]   \n",
       "2235                                                    []   \n",
       "3850        [{'text': 'coronavirus', 'indices': [77, 89]}]   \n",
       "...                                                    ...   \n",
       "3922777                                                 []   \n",
       "3949214                                                 []   \n",
       "3975514                                                 []   \n",
       "3996248                                                 []   \n",
       "4020413                                                 []   \n",
       "\n",
       "                                                      urls  \\\n",
       "0                                                       []   \n",
       "395                                                     []   \n",
       "1926                                                    []   \n",
       "2235                                                    []   \n",
       "3850                                                    []   \n",
       "...                                                    ...   \n",
       "3922777                                                 []   \n",
       "3949214                                                 []   \n",
       "3975514                                                 []   \n",
       "3996248                                                 []   \n",
       "4020413  [{'url': 'https://t.co/0t5syZVf30', 'expanded_...   \n",
       "\n",
       "                             created_at        date  count_status     dates  \n",
       "0        Mon Jan 27 10:17:51 +0000 2020  2020-01-27           222  0.071613  \n",
       "395      Tue Jan 28 23:48:44 +0000 2020  2020-01-28           575  0.100783  \n",
       "1926     Fri Jan 03 14:09:22 +0000 2020  2020-01-03          1033  0.102138  \n",
       "2235     Thu Jan 30 23:51:15 +0000 2020  2020-01-30           186  0.123403  \n",
       "3850     Fri Jan 31 13:45:14 +0000 2020  2020-01-31            98  0.150006  \n",
       "...                                 ...         ...           ...       ...  \n",
       "3922777  Thu May 13 00:01:12 +0000 2021  2021-05-13           169  0.094579  \n",
       "3949214  Fri May 14 00:04:52 +0000 2021  2021-05-14             6  0.089086  \n",
       "3975514  Sat May 15 00:04:34 +0000 2021  2021-05-15           955  0.085152  \n",
       "3996248  Sun May 16 00:15:13 +0000 2021  2021-05-16            10  0.106017  \n",
       "4020413  Mon May 17 00:08:20 +0000 2021  2021-05-17           396  0.104591  \n",
       "\n",
       "[366 rows x 10 columns]"
      ]
     },
     "execution_count": 55,
     "metadata": {},
     "output_type": "execute_result"
    }
   ],
   "source": [
    "res_for_plot"
   ]
  },
  {
   "cell_type": "markdown",
   "id": "4853e91f",
   "metadata": {
    "pycharm": {
     "name": "#%% md\n"
    }
   },
   "source": [
    "# Timeline"
   ]
  },
  {
   "cell_type": "code",
   "execution_count": 29,
   "id": "ce31d40f",
   "metadata": {
    "pycharm": {
     "name": "#%%\n"
    }
   },
   "outputs": [
    {
     "data": {
      "image/png": "[encoded data removed]",
      "text/plain": [
       "<Figure size 1800x720 with 1 Axes>"
      ]
     },
     "metadata": {
      "needs_background": "light"
     },
     "output_type": "display_data"
    }
   ],
   "source": [
    "import matplotlib.dates as mdates\n",
    "fig, ax = plt.subplots(figsize=(25, 10))\n",
    "plt.title('Toxicity score over time ', fontsize=18)\n",
    "res_for_plot.sort_values(by=[\"date\"], ascending=True, inplace=True)\n",
    "\n",
    "ax.set_xlabel('Date', fontsize=14)\n",
    "ax.set_ylabel('Toxicity level', fontsize=14)\n",
    "\n",
    "plt.plot(res_for_plot['date'], res_for_plot['dates'], c='b', label='Toxicity Score')\n",
    "# set monthly locator\n",
    "ax.xaxis.set_major_locator(mdates.DayLocator(interval=5))\n",
    "# set formatter\n",
    "# ax.xaxis.set_major_formatter(mdates.DateFormatter('%d-%m-%Y'))\n",
    "# set font and rotation for date tick labels\n",
    "plt.xticks(rotation='vertical', fontsize = 8)\n",
    "plt.legend(loc='upper left', fontsize=13);\n",
    "# plt.axvline(x=\"2021-03-09\")\n",
    "plt.grid()\n",
    "plt.show()"
   ]
  },
  {
   "cell_type": "markdown",
   "id": "dd11259d",
   "metadata": {
    "pycharm": {
     "name": "#%% md\n"
    }
   },
   "source": [
    "# Toxic Users"
   ]
  },
  {
   "cell_type": "code",
   "execution_count": 57,
   "id": "0ccd314b",
   "metadata": {
    "pycharm": {
     "name": "#%%\n"
    }
   },
   "outputs": [],
   "source": [
    "res = res[res[\"count_status\"]>10]\n",
    "toxic = res[res[\"toxicity\"]>0.49]"
   ]
  },
  {
   "cell_type": "code",
   "execution_count": 64,
   "id": "d62686c8",
   "metadata": {},
   "outputs": [
    {
     "data": {
      "application/vnd.jupyter.widget-view+json": {
       "model_id": "40458145620b4733984a058791905f89",
       "version_major": 2,
       "version_minor": 0
      },
      "text/plain": [
       "HBox(children=(HTML(value=''), FloatProgress(value=0.0, max=64114.0), HTML(value='')))"
      ]
     },
     "metadata": {},
     "output_type": "display_data"
    },
    {
     "name": "stdout",
     "output_type": "stream",
     "text": [
      "\n"
     ]
    },
    {
     "data": {
      "text/plain": [
       "twitter.com             68787\n",
       "youtube.com              2052\n",
       "ansa.it                  1548\n",
       "ilgiornale.it            1503\n",
       "lastampa.it              1206\n",
       "corriere.it               909\n",
       "ilfattoquotidiano.it      873\n",
       "byoblu.com                855\n",
       "iltempo.it                720\n",
       "milano.corriere.it        612\n",
       "tgcom24.mediaset.it       594\n",
       "repubblica.it             531\n",
       "t.co                      504\n",
       "milano.repubblica.it      477\n",
       "adnkronos.com             477\n",
       "dtype: int64"
      ]
     },
     "execution_count": 64,
     "metadata": {},
     "output_type": "execute_result"
    }
   ],
   "source": [
    "domains = []\n",
    "for i in utils.extract_domain_list(toxic):\n",
    "    if i != \"[]\":\n",
    "        for j in i:\n",
    "            if \"youtu.be\" in j:\n",
    "                j = \"youtube.com\"\n",
    "            domains.append(j)\n",
    "pd.Series(domains).value_counts().sort_values(ascending=False)[:15]"
   ]
  },
  {
   "cell_type": "code",
   "execution_count": 66,
   "id": "186161aa",
   "metadata": {},
   "outputs": [],
   "source": [
    "# pd.Series(toxic[\"text\"]).value_counts().sort_values(ascending=False)[:15]"
   ]
  },
  {
   "cell_type": "code",
   "execution_count": 67,
   "id": "d8ed00eb",
   "metadata": {},
   "outputs": [],
   "source": [
    "communities = pd.read_csv(r\"..\\Files\\networks\\louvain.csv\")"
   ]
  },
  {
   "cell_type": "code",
   "execution_count": 70,
   "id": "7ca91fe3",
   "metadata": {},
   "outputs": [],
   "source": [
    "toxic_merged = toxic.merge(communities, left_on=\"user_screen_name\", right_on=\"name\", how=\"left\")"
   ]
  },
  {
   "cell_type": "code",
   "execution_count": 95,
   "id": "e9f7c95d",
   "metadata": {},
   "outputs": [
    {
     "name": "stdout",
     "output_type": "stream",
     "text": [
      "4.0 - 38247 - 61.0% of total\n",
      "0.0 - 13809 - 22.0% of total\n",
      "3.0 - 6062 - 10.0% of total\n",
      "2.0 - 3712 - 6.0% of total\n",
      "1.0 - 437 - 1.0% of total\n",
      "5.0 - 184 - 0.0% of total\n",
      "8.0 - 72 - 0.0% of total\n",
      "54.0 - 27 - 0.0% of total\n",
      "34.0 - 19 - 0.0% of total\n",
      "2702.0 - 16 - 0.0% of total\n",
      "382.0 - 9 - 0.0% of total\n",
      "227.0 - 9 - 0.0% of total\n",
      "46.0 - 8 - 0.0% of total\n",
      "2025.0 - 8 - 0.0% of total\n"
     ]
    },
    {
     "data": {
      "text/plain": [
       "912"
      ]
     },
     "execution_count": 95,
     "metadata": {},
     "output_type": "execute_result"
    }
   ],
   "source": [
    "value = pd.Series(toxic_merged[\"community\"]).value_counts().sort_values(ascending=False)\n",
    "count = 0\n",
    "total_values = np.sum(value)\n",
    "for i in value.index:\n",
    "    print(str(i) + \" - \" + str(value[i]) + f\" - {round(value[i]/total_values,2)*100}% of total\")\n",
    "    count = count + 1\n",
    "    if count == 14:\n",
    "        break\n",
    "# 4 right\n",
    "# 0 left\n",
    "# 2 influencer\n",
    "# 3 journals\n",
    "\n",
    "62742 - (38247 + 13809 + 6062 + 3712) "
   ]
  },
  {
   "cell_type": "code",
   "execution_count": 96,
   "id": "834419c7",
   "metadata": {},
   "outputs": [
    {
     "data": {
      "image/png": "[encoded data removed]",
      "text/plain": [
       "<IPython.core.display.Image object>"
      ]
     },
     "execution_count": 96,
     "metadata": {},
     "output_type": "execute_result"
    }
   ],
   "source": [
    "from IPython.display import Image\n",
    "Image(r\"C:\\Users\\gianl\\Desktop\\Gi\\Supsi\\Vaccines_Discussion_Italy\\Italian\\Files\\toxic_flow.png\")"
   ]
  }
 ],
 "metadata": {
  "kernelspec": {
   "display_name": "Python 3 (ipykernel)",
   "language": "python",
   "name": "python3"
  },
  "language_info": {
   "codemirror_mode": {
    "name": "ipython",
    "version": 3
   },
   "file_extension": ".py",
   "mimetype": "text/x-python",
   "name": "python",
   "nbconvert_exporter": "python",
   "pygments_lexer": "ipython3",
   "version": "3.8.11"
  }
 },
 "nbformat": 4,
 "nbformat_minor": 5
}
