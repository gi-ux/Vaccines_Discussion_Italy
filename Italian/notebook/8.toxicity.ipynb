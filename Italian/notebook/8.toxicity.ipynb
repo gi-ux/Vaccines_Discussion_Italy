{
 "cells": [
  {
   "cell_type": "code",
   "execution_count": 1,
   "id": "b2e2c77c",
   "metadata": {
    "pycharm": {
     "name": "#%%\n"
    }
   },
   "outputs": [],
   "source": [
    "import tweepy\n",
    "import json\n",
    "import pandas as pd\n",
    "from perspective import PerspectiveAPI\n",
    "from googleapiclient import discovery\n",
    "import numpy as np\n",
    "import re\n",
    "import time\n",
    "import sys\n",
    "import matplotlib.pyplot as plt\n",
    "from numpy import nanmedian\n",
    "\n",
    "import matplotlib.dates as mdates\n",
    "path_utils = 'C:/Users/gianl/Desktop/Gi/Supsi/Vaccines_Discussion_Italy/tweet_utils'\n",
    "sys.path.append(path_utils)\n",
    "import utils\n",
    "from tqdm.notebook import tqdm\n",
    "import warnings\n",
    "warnings.filterwarnings(\"ignore\")\n",
    "path_files =\"C:/Users/gianl/Desktop/Gi/Supsi/Vaccines_Discussion_Italy/Italian/Files/\"\n",
    "path_data = \"C:/Users/gianl/Desktop/Gi/Supsi/Vaccines_Discussion_Italy/Italian/Files/Tweets/\""
   ]
  },
  {
   "cell_type": "code",
   "execution_count": 2,
   "id": "2ff83793",
   "metadata": {
    "pycharm": {
     "name": "#%%\n"
    }
   },
   "outputs": [],
   "source": [
    "jsonFile = open(path_files + 'auth.json', 'r')\n",
    "config = json.load(jsonFile)\n",
    "jsonFile.close()\n",
    "API_KEY = config[\"api_key_1\"]"
   ]
  },
  {
   "cell_type": "markdown",
   "id": "2b43990a",
   "metadata": {
    "pycharm": {
     "name": "#%% md\n"
    }
   },
   "source": [
    "# Clean text and write"
   ]
  },
  {
   "cell_type": "code",
   "execution_count": 6,
   "id": "a62a95bb",
   "metadata": {
    "pycharm": {
     "name": "#%%\n"
    }
   },
   "outputs": [],
   "source": [
    "strng = \"@Cristiano è il nostro #MVP? si: https://google.com\""
   ]
  },
  {
   "cell_type": "code",
   "execution_count": 41,
   "id": "e7567c97",
   "metadata": {
    "pycharm": {
     "name": "#%%\n"
    }
   },
   "outputs": [],
   "source": [
    "def clean(x: str):\n",
    "    if (\"http\" in x):\n",
    "        x = re.sub(r'http\\S+', '',x)\n",
    "    x = re.sub('[@#$]', '', x)\n",
    "    x = re.sub('\\n', ' ', x)\n",
    "    return x"
   ]
  },
  {
   "cell_type": "code",
   "execution_count": 8,
   "id": "edf35a60",
   "metadata": {
    "pycharm": {
     "name": "#%%\n"
    }
   },
   "outputs": [
    {
     "data": {
      "text/plain": [
       "'Cristiano è il nostro MVP? si: '"
      ]
     },
     "execution_count": 8,
     "metadata": {},
     "output_type": "execute_result"
    }
   ],
   "source": [
    "clean(strng)"
   ]
  },
  {
   "cell_type": "code",
   "execution_count": 2,
   "id": "ee1ccdf6",
   "metadata": {
    "pycharm": {
     "name": "#%%\n"
    }
   },
   "outputs": [],
   "source": [
    "# df_bad = pd.read_csv(path_data + \"bad_activities.csv\")\n",
    "# df_good = pd.read_csv(path_data + \"good_activities.csv\")\n",
    "# df_suspended = pd.read_parquet(path_data + \"tweets_bad_suspended.parquet\", engine=\"fastparquet\")\n",
    "# df_suspended_good= pd.read_parquet(path_data + \"tweets_good_suspended.parquet\", engine=\"fastparquet\")\n",
    "tweets = pd.read_parquet(path_data + \"tweets.parquet\", engine=\"fastparquet\")"
   ]
  },
  {
   "cell_type": "code",
   "execution_count": 40,
   "id": "19d7d7af",
   "metadata": {
    "pycharm": {
     "name": "#%%\n"
    }
   },
   "outputs": [],
   "source": [
    "# tweets.head()"
   ]
  },
  {
   "cell_type": "code",
   "execution_count": 92,
   "id": "8540a64b",
   "metadata": {
    "pycharm": {
     "name": "#%%\n"
    }
   },
   "outputs": [
    {
     "data": {
      "application/vnd.jupyter.widget-view+json": {
       "model_id": "7e106bc7323d4ceba8e92229ba2870fd",
       "version_major": 2,
       "version_minor": 0
      },
      "text/plain": [
       "HBox(children=(HTML(value=''), FloatProgress(value=0.0, max=4053201.0), HTML(value='')))"
      ]
     },
     "metadata": {},
     "output_type": "display_data"
    },
    {
     "name": "stdout",
     "output_type": "stream",
     "text": [
      "\n"
     ]
    }
   ],
   "source": [
    "# x = list(tweets[\"text\"])\n",
    "# y = list(tweets[\"id\"])\n",
    "# count = 0\n",
    "lst_id = []\n",
    "lst_text = []\n",
    "for i in tqdm(range(len(x))):\n",
    "    lst_id.append(y[i])\n",
    "    lst_text.append(clean(x[i]))\n",
    "pd.DataFrame(list(zip(lst_id,lst_text)),columns=[\"id\",\"text\"]).to_csv(\"C:/Users/gianl/Desktop/Gi/Supsi/Vaccines_Discussion_Italy/Laura/texts/df_cleaned.csv\",\n",
    "                                                                     line_terminator=\"\\n\", encoding=\"utf-8\", index=False)"
   ]
  },
  {
   "cell_type": "code",
   "execution_count": 2,
   "id": "5ff37a8a",
   "metadata": {
    "pycharm": {
     "name": "#%%\n"
    }
   },
   "outputs": [],
   "source": [
    "esempio = pd.read_csv(\"C:/Users/gianl/Desktop/Gi/Supsi/Vaccines_Discussion_Italy/Laura/texts/df_cleaned.csv\",\n",
    "                              lineterminator=\"\\n\", low_memory=False, encoding=\"utf-8\")"
   ]
  },
  {
   "cell_type": "code",
   "execution_count": 9,
   "id": "6da426d4",
   "metadata": {
    "pycharm": {
     "name": "#%%\n"
    }
   },
   "outputs": [
    {
     "data": {
      "application/vnd.jupyter.widget-view+json": {
       "model_id": "a18a5504e546453fbe7b90b4d3b5da6a",
       "version_major": 2,
       "version_minor": 0
      },
      "text/plain": [
       "HBox(children=(HTML(value=''), FloatProgress(value=0.0, max=1565714.0), HTML(value='')))"
      ]
     },
     "metadata": {},
     "output_type": "display_data"
    },
    {
     "name": "stdout",
     "output_type": "stream",
     "text": [
      "\n"
     ]
    }
   ],
   "source": [
    "lst_final = []\n",
    "x2 = list(set(esempio[\"text\"]))\n",
    "for i in tqdm(x2[1:]):\n",
    "    if len(i.split(\" \")) >= 4:\n",
    "        lst_final.append(i)"
   ]
  },
  {
   "cell_type": "code",
   "execution_count": 23,
   "id": "7202d7d1",
   "metadata": {
    "pycharm": {
     "name": "#%%\n"
    },
    "scrolled": true
   },
   "outputs": [],
   "source": [
    "n = 11\n",
    "splited = [lst_final[i::n] for i in range(n)]\n"
   ]
  },
  {
   "cell_type": "code",
   "execution_count": 25,
   "id": "860de227",
   "metadata": {
    "pycharm": {
     "name": "#%%\n"
    }
   },
   "outputs": [],
   "source": [
    "count = 0\n",
    "for i in splited:\n",
    "    pd.DataFrame(i, columns=[\"text\"]).to_csv(f\"C:/Users/gianl/Desktop/Gi/Supsi/Vaccines_Discussion_Italy/Laura/texts/example_{count}.csv\",\n",
    "                           line_terminator=\"\\n\", index=False, encoding=\"utf-8\")\n",
    "    count = count + 1\n"
   ]
  },
  {
   "cell_type": "code",
   "execution_count": 12,
   "id": "a5651f22",
   "metadata": {
    "pycharm": {
     "name": "#%%\n"
    }
   },
   "outputs": [],
   "source": [
    "\n",
    "# esempio = pd.read_csv(\"C:/Users/gianl/Desktop/Gi/Supsi/Vaccines_Discussion_Italy/Laura/texts/example.csv\",\n",
    "#                               lineterminator=\"\\n\", low_memory=False, encoding=\"utf-8\")\n",
    "# esempio"
   ]
  },
  {
   "cell_type": "code",
   "execution_count": 87,
   "id": "997621f8",
   "metadata": {
    "pycharm": {
     "name": "#%%\n"
    }
   },
   "outputs": [],
   "source": [
    "# print(len(x2))\n",
    "# count = 0\n",
    "# for i in x2:\n",
    "#     if len(i.split(\" \")) < 4:\n",
    "#         count = count + 1\n",
    "#         print(i)\n",
    "# print(count)\n",
    "# 1499124 - 69376\n",
    "# 1500000 / 50000"
   ]
  },
  {
   "cell_type": "code",
   "execution_count": 2,
   "id": "e2394a4d",
   "metadata": {
    "pycharm": {
     "name": "#%%\n"
    }
   },
   "outputs": [],
   "source": [
    "# client = discovery.build(\n",
    "#   \"commentanalyzer\",\n",
    "#   \"v1alpha1\",\n",
    "#   developerKey=API_KEY,\n",
    "#   discoveryServiceUrl=\"https://commentanalyzer.googleapis.com/$discovery/rest?version=v1alpha1\",\n",
    "#   static_discovery=False,\n",
    "# )\n",
    "\n",
    "# analyze_request = {\n",
    "#   'comment': { 'text': \"guarda, sei bravo!\"},\n",
    "#   'requestedAttributes': {'TOXICITY': {}}\n",
    "# }\n",
    "\n",
    "# response = client.comments().analyze(body=analyze_request).execute()\n",
    "# print(json.dumps(response, indent=2))"
   ]
  },
  {
   "cell_type": "markdown",
   "id": "fe2a1d79",
   "metadata": {
    "pycharm": {
     "name": "#%% md\n"
    }
   },
   "source": [
    "# Ricomposizione DF"
   ]
  },
  {
   "cell_type": "code",
   "execution_count": 2,
   "id": "6fbfe0e3",
   "metadata": {
    "pycharm": {
     "name": "#%%\n"
    }
   },
   "outputs": [],
   "source": [
    "tweets = pd.read_parquet(r\"../files/tweets/tweets.parquet\", engine=\"fastparquet\")[[\"id\",\n",
    "                                                                                   \"user_screen_name\",\n",
    "                                                                                   \"text\",\"urls\",\"hashtags\",\n",
    "                                                                                   \"created_at\", \"in_reply_to_screen_name\",\n",
    "                                                                                   \"rt_created_at\",\n",
    "                                                                                   \"quoted_status_id\",\n",
    "                                                                                   \"in_reply_to_user_id\"]]"
   ]
  },
  {
   "cell_type": "code",
   "execution_count": 3,
   "id": "45e719da",
   "metadata": {
    "pycharm": {
     "name": "#%%\n"
    }
   },
   "outputs": [],
   "source": [
    "esempio = pd.read_csv(\"C:/Users/gianl/Desktop/Gi/Supsi/Vaccines_Discussion_Italy/Italian/script_directory_output/toxic_texts/df_cleaned.csv\",\n",
    "                              lineterminator=\"\\n\", low_memory=False, encoding=\"utf-8\")"
   ]
  },
  {
   "cell_type": "code",
   "execution_count": 4,
   "id": "fc9f194c",
   "metadata": {
    "pycharm": {
     "name": "#%%\n"
    }
   },
   "outputs": [
    {
     "data": {
      "text/plain": "                    id user_screen_name  \\\n0  1221739084449832960     planetpaul65   \n1  1221737155380293640       Grace_1207   \n2  1221730009989120001  MarisaMinervini   \n3  1221737654909382662       LecceSette   \n4  1221728980203724801         arual812   \n\n                                              text_x  \\\n0  La Memoria è l’unico vaccino contro l’indiffer...   \n1  Oggi sono arrivati loro, 3 femminucce e 1 masc...   \n2  L'indifferenza è più colpevole della violenza ...   \n3  Minaccia morbillo nel Salento, Asl: \"Vaccinars...   \n4  \"Coltivare la Memoria è ancora oggi un vaccino...   \n\n                                                urls  \\\n0                                                 []   \n1                                                 []   \n2                                                 []   \n3  [{'url': 'https://t.co/CY0qiQFk6s', 'expanded_...   \n4                                                 []   \n\n                                            hashtags  \\\n0  [{'text': 'GiornatadellaMemoria2020', 'indices...   \n1                                                 []   \n2                                                 []   \n3                                                 []   \n4                                                 []   \n\n                       created_at in_reply_to_screen_name  \\\n0  Mon Jan 27 10:17:51 +0000 2020                    None   \n1  Mon Jan 27 10:10:11 +0000 2020                    None   \n2  Mon Jan 27 09:41:47 +0000 2020                    None   \n3  Mon Jan 27 10:12:10 +0000 2020                    None   \n4  Mon Jan 27 09:37:42 +0000 2020                    None   \n\n                    rt_created_at  quoted_status_id  in_reply_to_user_id  \\\n0  Mon Jan 27 08:15:15 +0000 2020               NaN                  NaN   \n1  Sat Jan 25 21:19:30 +0000 2020               NaN                  NaN   \n2  Mon Jan 27 05:00:04 +0000 2020               NaN                  NaN   \n3                            None               NaN                  NaN   \n4  Mon Jan 27 07:45:58 +0000 2020               NaN                  NaN   \n\n                                              text_y  \n0  La Memoria è l’unico vaccino contro l’indiffer...  \n1  Oggi sono arrivati loro, 3 femminucce e 1 masc...  \n2  L'indifferenza è più colpevole della violenza ...  \n3  Minaccia morbillo nel Salento, Asl: \"Vaccinars...  \n4  \"Coltivare la Memoria è ancora oggi un vaccino...  ",
      "text/html": "<div>\n<style scoped>\n    .dataframe tbody tr th:only-of-type {\n        vertical-align: middle;\n    }\n\n    .dataframe tbody tr th {\n        vertical-align: top;\n    }\n\n    .dataframe thead th {\n        text-align: right;\n    }\n</style>\n<table border=\"1\" class=\"dataframe\">\n  <thead>\n    <tr style=\"text-align: right;\">\n      <th></th>\n      <th>id</th>\n      <th>user_screen_name</th>\n      <th>text_x</th>\n      <th>urls</th>\n      <th>hashtags</th>\n      <th>created_at</th>\n      <th>in_reply_to_screen_name</th>\n      <th>rt_created_at</th>\n      <th>quoted_status_id</th>\n      <th>in_reply_to_user_id</th>\n      <th>text_y</th>\n    </tr>\n  </thead>\n  <tbody>\n    <tr>\n      <th>0</th>\n      <td>1221739084449832960</td>\n      <td>planetpaul65</td>\n      <td>La Memoria è l’unico vaccino contro l’indiffer...</td>\n      <td>[]</td>\n      <td>[{'text': 'GiornatadellaMemoria2020', 'indices...</td>\n      <td>Mon Jan 27 10:17:51 +0000 2020</td>\n      <td>None</td>\n      <td>Mon Jan 27 08:15:15 +0000 2020</td>\n      <td>NaN</td>\n      <td>NaN</td>\n      <td>La Memoria è l’unico vaccino contro l’indiffer...</td>\n    </tr>\n    <tr>\n      <th>1</th>\n      <td>1221737155380293640</td>\n      <td>Grace_1207</td>\n      <td>Oggi sono arrivati loro, 3 femminucce e 1 masc...</td>\n      <td>[]</td>\n      <td>[]</td>\n      <td>Mon Jan 27 10:10:11 +0000 2020</td>\n      <td>None</td>\n      <td>Sat Jan 25 21:19:30 +0000 2020</td>\n      <td>NaN</td>\n      <td>NaN</td>\n      <td>Oggi sono arrivati loro, 3 femminucce e 1 masc...</td>\n    </tr>\n    <tr>\n      <th>2</th>\n      <td>1221730009989120001</td>\n      <td>MarisaMinervini</td>\n      <td>L'indifferenza è più colpevole della violenza ...</td>\n      <td>[]</td>\n      <td>[]</td>\n      <td>Mon Jan 27 09:41:47 +0000 2020</td>\n      <td>None</td>\n      <td>Mon Jan 27 05:00:04 +0000 2020</td>\n      <td>NaN</td>\n      <td>NaN</td>\n      <td>L'indifferenza è più colpevole della violenza ...</td>\n    </tr>\n    <tr>\n      <th>3</th>\n      <td>1221737654909382662</td>\n      <td>LecceSette</td>\n      <td>Minaccia morbillo nel Salento, Asl: \"Vaccinars...</td>\n      <td>[{'url': 'https://t.co/CY0qiQFk6s', 'expanded_...</td>\n      <td>[]</td>\n      <td>Mon Jan 27 10:12:10 +0000 2020</td>\n      <td>None</td>\n      <td>None</td>\n      <td>NaN</td>\n      <td>NaN</td>\n      <td>Minaccia morbillo nel Salento, Asl: \"Vaccinars...</td>\n    </tr>\n    <tr>\n      <th>4</th>\n      <td>1221728980203724801</td>\n      <td>arual812</td>\n      <td>\"Coltivare la Memoria è ancora oggi un vaccino...</td>\n      <td>[]</td>\n      <td>[]</td>\n      <td>Mon Jan 27 09:37:42 +0000 2020</td>\n      <td>None</td>\n      <td>Mon Jan 27 07:45:58 +0000 2020</td>\n      <td>NaN</td>\n      <td>NaN</td>\n      <td>\"Coltivare la Memoria è ancora oggi un vaccino...</td>\n    </tr>\n  </tbody>\n</table>\n</div>"
     },
     "execution_count": 4,
     "metadata": {},
     "output_type": "execute_result"
    }
   ],
   "source": [
    "df = tweets.merge(esempio, on=\"id\", how=\"left\")\n",
    "df.head()"
   ]
  },
  {
   "cell_type": "code",
   "execution_count": 5,
   "id": "e6382032",
   "metadata": {
    "pycharm": {
     "name": "#%%\n"
    }
   },
   "outputs": [
    {
     "name": "stdout",
     "output_type": "stream",
     "text": [
      "La Memoria è l’unico vaccino contro l’indifferenza.\n",
      "(Liliana Segre)\n",
      "#GiornatadellaMemoria2020 https://t.co/JDF9vdg1P9\n",
      "..\n",
      "La Memoria è l’unico vaccino contro l’indifferenza. (Liliana Segre) GiornatadellaMemoria2020 \n"
     ]
    }
   ],
   "source": [
    "print(list(df[\"text_x\"])[0])\n",
    "print(\"..\")\n",
    "print(list(df[\"text_y\"])[0])"
   ]
  },
  {
   "cell_type": "code",
   "execution_count": 5,
   "id": "c5cca995",
   "metadata": {
    "pycharm": {
     "name": "#%%\n"
    }
   },
   "outputs": [],
   "source": [
    "del tweets\n",
    "del esempio"
   ]
  },
  {
   "cell_type": "code",
   "execution_count": 7,
   "id": "7db2c284",
   "metadata": {
    "pycharm": {
     "name": "#%%\n"
    }
   },
   "outputs": [
    {
     "data": {
      "text/plain": "HBox(children=(HTML(value=''), FloatProgress(value=0.0, max=11.0), HTML(value='')))",
      "application/vnd.jupyter.widget-view+json": {
       "version_major": 2,
       "version_minor": 0,
       "model_id": "230a19d9f9a84890bcf44694d7f9bc7d"
      }
     },
     "metadata": {},
     "output_type": "display_data"
    },
    {
     "name": "stdout",
     "output_type": "stream",
     "text": [
      "\n",
      "1513781\n"
     ]
    },
    {
     "data": {
      "text/plain": "                                                text  toxicity\n0  andrea__059 LucioMM1 Rey_k73 MMmarco0 Ma da qu...  0.122449\n1  La_manina__ PaoloMarani3 Hai cannato.  1743 so...  0.213626\n2  noitre32 Ormai viviamo in mezzo a una follia d...  0.271282\n3  Lotta alla pandemia, Bayer e Curevac insieme p...  0.003002\n4  EugenioGiani In molto 60 enni nn si prenotano ...  0.037538",
      "text/html": "<div>\n<style scoped>\n    .dataframe tbody tr th:only-of-type {\n        vertical-align: middle;\n    }\n\n    .dataframe tbody tr th {\n        vertical-align: top;\n    }\n\n    .dataframe thead th {\n        text-align: right;\n    }\n</style>\n<table border=\"1\" class=\"dataframe\">\n  <thead>\n    <tr style=\"text-align: right;\">\n      <th></th>\n      <th>text</th>\n      <th>toxicity</th>\n    </tr>\n  </thead>\n  <tbody>\n    <tr>\n      <th>0</th>\n      <td>andrea__059 LucioMM1 Rey_k73 MMmarco0 Ma da qu...</td>\n      <td>0.122449</td>\n    </tr>\n    <tr>\n      <th>1</th>\n      <td>La_manina__ PaoloMarani3 Hai cannato.  1743 so...</td>\n      <td>0.213626</td>\n    </tr>\n    <tr>\n      <th>2</th>\n      <td>noitre32 Ormai viviamo in mezzo a una follia d...</td>\n      <td>0.271282</td>\n    </tr>\n    <tr>\n      <th>3</th>\n      <td>Lotta alla pandemia, Bayer e Curevac insieme p...</td>\n      <td>0.003002</td>\n    </tr>\n    <tr>\n      <th>4</th>\n      <td>EugenioGiani In molto 60 enni nn si prenotano ...</td>\n      <td>0.037538</td>\n    </tr>\n  </tbody>\n</table>\n</div>"
     },
     "execution_count": 7,
     "metadata": {},
     "output_type": "execute_result"
    }
   ],
   "source": [
    "import warnings\n",
    "warnings.simplefilter(\"ignore\")\n",
    "from glob import glob\n",
    "files = glob(r\"C:\\Users\\gianl\\Desktop\\Gi\\Supsi\\Vaccines_Discussion_Italy\\Italian\\script_directory_output\\toxic_texts\\results*.csv\")\n",
    "results = pd.DataFrame()\n",
    "for file in tqdm(files):\n",
    "    df_temp = pd.read_csv(file, lineterminator=\"\\n\", encoding=\"utf-8\", low_memory=False)\n",
    "    results = results.append(df_temp)\n",
    "print(len(results))\n",
    "results.head()"
   ]
  },
  {
   "cell_type": "code",
   "execution_count": 8,
   "outputs": [
    {
     "data": {
      "text/plain": "Index(['id', 'user_screen_name', 'text_x', 'urls', 'hashtags', 'created_at',\n       'in_reply_to_screen_name', 'rt_created_at', 'quoted_status_id',\n       'in_reply_to_user_id', 'text_y'],\n      dtype='object')"
     },
     "execution_count": 8,
     "metadata": {},
     "output_type": "execute_result"
    }
   ],
   "source": [
    "df.columns"
   ],
   "metadata": {
    "collapsed": false,
    "pycharm": {
     "name": "#%%\n"
    }
   }
  },
  {
   "cell_type": "code",
   "execution_count": 9,
   "id": "57d6ac24",
   "metadata": {
    "pycharm": {
     "name": "#%%\n"
    }
   },
   "outputs": [],
   "source": [
    "# print(len(df[df[\"text_y\"].notna()]))\n",
    "df = df[['id', 'user_screen_name', 'text_y', 'urls', 'hashtags', 'created_at',\n",
    "       'in_reply_to_screen_name', 'rt_created_at', 'quoted_status_id',\n",
    "       'in_reply_to_user_id']]\n",
    "df.rename(columns = {'text_y':'text'}, inplace = True)"
   ]
  },
  {
   "cell_type": "code",
   "execution_count": 10,
   "id": "d05b0305",
   "metadata": {
    "pycharm": {
     "name": "#%%\n"
    }
   },
   "outputs": [
    {
     "data": {
      "text/plain": "                                                text  toxicity  \\\n0  La Memoria è l’unico vaccino contro l’indiffer...  0.006942   \n1  Oggi sono arrivati loro, 3 femminucce e 1 masc...  0.503896   \n2  L'indifferenza è più colpevole della violenza ...  0.037881   \n3  Minaccia morbillo nel Salento, Asl: \"Vaccinars...  0.065322   \n4  \"Coltivare la Memoria è ancora oggi un vaccino...  0.004234   \n\n                    id user_screen_name  \\\n0  1221739084449832960     planetpaul65   \n1  1221737155380293640       Grace_1207   \n2  1221730009989120001  MarisaMinervini   \n3  1221737654909382662       LecceSette   \n4  1221728980203724801         arual812   \n\n                                                urls  \\\n0                                                 []   \n1                                                 []   \n2                                                 []   \n3  [{'url': 'https://t.co/CY0qiQFk6s', 'expanded_...   \n4                                                 []   \n\n                                            hashtags  \\\n0  [{'text': 'GiornatadellaMemoria2020', 'indices...   \n1                                                 []   \n2                                                 []   \n3                                                 []   \n4                                                 []   \n\n                       created_at in_reply_to_screen_name  \\\n0  Mon Jan 27 10:17:51 +0000 2020                    None   \n1  Mon Jan 27 10:10:11 +0000 2020                    None   \n2  Mon Jan 27 09:41:47 +0000 2020                    None   \n3  Mon Jan 27 10:12:10 +0000 2020                    None   \n4  Mon Jan 27 09:37:42 +0000 2020                    None   \n\n                    rt_created_at  quoted_status_id  in_reply_to_user_id  \n0  Mon Jan 27 08:15:15 +0000 2020               NaN                  NaN  \n1  Sat Jan 25 21:19:30 +0000 2020               NaN                  NaN  \n2  Mon Jan 27 05:00:04 +0000 2020               NaN                  NaN  \n3                            None               NaN                  NaN  \n4  Mon Jan 27 07:45:58 +0000 2020               NaN                  NaN  ",
      "text/html": "<div>\n<style scoped>\n    .dataframe tbody tr th:only-of-type {\n        vertical-align: middle;\n    }\n\n    .dataframe tbody tr th {\n        vertical-align: top;\n    }\n\n    .dataframe thead th {\n        text-align: right;\n    }\n</style>\n<table border=\"1\" class=\"dataframe\">\n  <thead>\n    <tr style=\"text-align: right;\">\n      <th></th>\n      <th>text</th>\n      <th>toxicity</th>\n      <th>id</th>\n      <th>user_screen_name</th>\n      <th>urls</th>\n      <th>hashtags</th>\n      <th>created_at</th>\n      <th>in_reply_to_screen_name</th>\n      <th>rt_created_at</th>\n      <th>quoted_status_id</th>\n      <th>in_reply_to_user_id</th>\n    </tr>\n  </thead>\n  <tbody>\n    <tr>\n      <th>0</th>\n      <td>La Memoria è l’unico vaccino contro l’indiffer...</td>\n      <td>0.006942</td>\n      <td>1221739084449832960</td>\n      <td>planetpaul65</td>\n      <td>[]</td>\n      <td>[{'text': 'GiornatadellaMemoria2020', 'indices...</td>\n      <td>Mon Jan 27 10:17:51 +0000 2020</td>\n      <td>None</td>\n      <td>Mon Jan 27 08:15:15 +0000 2020</td>\n      <td>NaN</td>\n      <td>NaN</td>\n    </tr>\n    <tr>\n      <th>1</th>\n      <td>Oggi sono arrivati loro, 3 femminucce e 1 masc...</td>\n      <td>0.503896</td>\n      <td>1221737155380293640</td>\n      <td>Grace_1207</td>\n      <td>[]</td>\n      <td>[]</td>\n      <td>Mon Jan 27 10:10:11 +0000 2020</td>\n      <td>None</td>\n      <td>Sat Jan 25 21:19:30 +0000 2020</td>\n      <td>NaN</td>\n      <td>NaN</td>\n    </tr>\n    <tr>\n      <th>2</th>\n      <td>L'indifferenza è più colpevole della violenza ...</td>\n      <td>0.037881</td>\n      <td>1221730009989120001</td>\n      <td>MarisaMinervini</td>\n      <td>[]</td>\n      <td>[]</td>\n      <td>Mon Jan 27 09:41:47 +0000 2020</td>\n      <td>None</td>\n      <td>Mon Jan 27 05:00:04 +0000 2020</td>\n      <td>NaN</td>\n      <td>NaN</td>\n    </tr>\n    <tr>\n      <th>3</th>\n      <td>Minaccia morbillo nel Salento, Asl: \"Vaccinars...</td>\n      <td>0.065322</td>\n      <td>1221737654909382662</td>\n      <td>LecceSette</td>\n      <td>[{'url': 'https://t.co/CY0qiQFk6s', 'expanded_...</td>\n      <td>[]</td>\n      <td>Mon Jan 27 10:12:10 +0000 2020</td>\n      <td>None</td>\n      <td>None</td>\n      <td>NaN</td>\n      <td>NaN</td>\n    </tr>\n    <tr>\n      <th>4</th>\n      <td>\"Coltivare la Memoria è ancora oggi un vaccino...</td>\n      <td>0.004234</td>\n      <td>1221728980203724801</td>\n      <td>arual812</td>\n      <td>[]</td>\n      <td>[]</td>\n      <td>Mon Jan 27 09:37:42 +0000 2020</td>\n      <td>None</td>\n      <td>Mon Jan 27 07:45:58 +0000 2020</td>\n      <td>NaN</td>\n      <td>NaN</td>\n    </tr>\n  </tbody>\n</table>\n</div>"
     },
     "execution_count": 10,
     "metadata": {},
     "output_type": "execute_result"
    }
   ],
   "source": [
    "res = results.merge(df, on=\"text\", how=\"right\")\n",
    "res.head()"
   ]
  },
  {
   "cell_type": "code",
   "execution_count": 11,
   "id": "a095f9bf",
   "metadata": {
    "pycharm": {
     "name": "#%%\n"
    }
   },
   "outputs": [
    {
     "name": "stdout",
     "output_type": "stream",
     "text": [
      "4053201\n"
     ]
    },
    {
     "data": {
      "text/plain": "HBox(children=(HTML(value=''), FloatProgress(value=0.0, max=4053201.0), HTML(value='')))",
      "application/vnd.jupyter.widget-view+json": {
       "version_major": 2,
       "version_minor": 0,
       "model_id": "70a9357c86904fe7b20e00e18fffe275"
      }
     },
     "metadata": {},
     "output_type": "display_data"
    },
    {
     "name": "stdout",
     "output_type": "stream",
     "text": [
      "\n"
     ]
    }
   ],
   "source": [
    "print(len(res))\n",
    "res[\"date\"] = [utils.process_datetime(i) for i in tqdm(res[\"created_at\"])]"
   ]
  },
  {
   "cell_type": "code",
   "execution_count": 12,
   "outputs": [
    {
     "name": "stdout",
     "output_type": "stream",
     "text": [
      "0.05653196\n",
      "0.10761052856596161\n"
     ]
    }
   ],
   "source": [
    "print(nanmedian(res[\"toxicity\"]))\n",
    "print(np.nanmean(res[\"toxicity\"]))"
   ],
   "metadata": {
    "collapsed": false,
    "pycharm": {
     "name": "#%%\n"
    }
   }
  },
  {
   "cell_type": "code",
   "execution_count": 19,
   "id": "b8fab4ef",
   "metadata": {
    "pycharm": {
     "name": "#%%\n"
    }
   },
   "outputs": [
    {
     "data": {
      "text/plain": "Text(0, 0.5, 'Toxicity score')"
     },
     "execution_count": 19,
     "metadata": {},
     "output_type": "execute_result"
    },
    {
     "data": {
      "text/plain": "<Figure size 432x288 with 1 Axes>",
      "image/png": "[encoded data removed]"
     },
     "metadata": {},
     "output_type": "display_data"
    }
   ],
   "source": [
    "# Import the libraries\n",
    "import matplotlib.pyplot as plt\n",
    "import seaborn as sns\n",
    "\n",
    "# matplotlib histogram\n",
    "plt.hist(res['toxicity'], color = 'blue', edgecolor = 'black', bins=20)\n",
    "\n",
    "# Add labels\n",
    "plt.title('Histogram of Toxicity')\n",
    "plt.xlabel('Value')\n",
    "plt.ylabel('Toxicity score')"
   ]
  },
  {
   "cell_type": "markdown",
   "id": "345cbada",
   "metadata": {
    "pycharm": {
     "name": "#%% md\n"
    }
   },
   "source": [
    "# User - Toxicity"
   ]
  },
  {
   "cell_type": "code",
   "execution_count": null,
   "outputs": [],
   "source": [
    "res = res[res[\"toxicity\"].notna()]"
   ],
   "metadata": {
    "collapsed": false,
    "pycharm": {
     "name": "#%%\n"
    }
   }
  },
  {
   "cell_type": "code",
   "execution_count": null,
   "outputs": [],
   "source": [
    "len(res)"
   ],
   "metadata": {
    "collapsed": false,
    "pycharm": {
     "name": "#%%\n"
    }
   }
  },
  {
   "cell_type": "code",
   "execution_count": 2,
   "id": "4de2e669",
   "metadata": {
    "pycharm": {
     "name": "#%%\n"
    }
   },
   "outputs": [
    {
     "data": {
      "text/plain": "                                                      text  toxicity  \\\n0        La Memoria è l’unico vaccino contro l’indiffer...  0.006942   \n1        Oggi sono arrivati loro, 3 femminucce e 1 masc...  0.503896   \n2        L'indifferenza è più colpevole della violenza ...  0.037881   \n3        Minaccia morbillo nel Salento, Asl: \"Vaccinars...  0.065322   \n4        \"Coltivare la Memoria è ancora oggi un vaccino...  0.004234   \n...                                                    ...       ...   \n3907813  Il medico testimonial pro vaccino a Ariachetir...  0.043032   \n3907814  \"...«Ha lividi e piastrine basse». E ha richie...  0.045092   \n3907815  Vaccinazioni nei luoghi di lavoro, fondamental...  0.007983   \n3907816  A lariachetira c’è un MEDICO DI BASE che ha ap...  0.317855   \n3907817  Battiato detestava lo scientismo. Meglio che n...  0.204496   \n\n                          id user_screen_name  \\\n0        1221739084449832960     planetpaul65   \n1        1221737155380293640       Grace_1207   \n2        1221730009989120001  MarisaMinervini   \n3        1221737654909382662       LecceSette   \n4        1221728980203724801         arual812   \n...                      ...              ...   \n3907813  1394609996197937159       CiaoGrosso   \n3907814  1394610015823147011      Rosskitty77   \n3907815  1394609887641022464     GuidoIafrate   \n3907816  1394609899963830275     lucabattanta   \n3907817  1394609930540306433         kyappy80   \n\n                                                      urls  \\\n0                                                       []   \n1                                                       []   \n2                                                       []   \n3        [{'url': 'https://t.co/CY0qiQFk6s', 'expanded_...   \n4                                                       []   \n...                                                    ...   \n3907813                                                 []   \n3907814  [{'url': 'https://t.co/5UT12c2sur', 'expanded_...   \n3907815  [{'url': 'https://t.co/D3j3phCsiC', 'expanded_...   \n3907816                                                 []   \n3907817                                                 []   \n\n                                                  hashtags  \\\n0        [{'text': 'GiornatadellaMemoria2020', 'indices...   \n1                                                       []   \n2                                                       []   \n3                                                       []   \n4                                                       []   \n...                                                    ...   \n3907813                                                 []   \n3907814                                                 []   \n3907815                                                 []   \n3907816    [{'text': 'lariachetira', 'indices': [14, 27]}]   \n3907817                                                 []   \n\n                             created_at in_reply_to_screen_name  \\\n0        Mon Jan 27 10:17:51 +0000 2020                     NaN   \n1        Mon Jan 27 10:10:11 +0000 2020                     NaN   \n2        Mon Jan 27 09:41:47 +0000 2020                     NaN   \n3        Mon Jan 27 10:12:10 +0000 2020                     NaN   \n4        Mon Jan 27 09:37:42 +0000 2020                     NaN   \n...                                 ...                     ...   \n3907813  Tue May 18 11:05:08 +0000 2021                     NaN   \n3907814  Tue May 18 11:05:13 +0000 2021                     NaN   \n3907815  Tue May 18 11:04:42 +0000 2021                     NaN   \n3907816  Tue May 18 11:04:45 +0000 2021                     NaN   \n3907817  Tue May 18 11:04:52 +0000 2021                     NaN   \n\n                          rt_created_at  quoted_status_id  \\\n0        Mon Jan 27 08:15:15 +0000 2020               NaN   \n1        Sat Jan 25 21:19:30 +0000 2020               NaN   \n2        Mon Jan 27 05:00:04 +0000 2020               NaN   \n3                                   NaN               NaN   \n4        Mon Jan 27 07:45:58 +0000 2020               NaN   \n...                                 ...               ...   \n3907813  Tue May 18 10:45:35 +0000 2021               NaN   \n3907814                             NaN      1.394602e+18   \n3907815                             NaN               NaN   \n3907816  Tue May 18 10:36:02 +0000 2021               NaN   \n3907817  Tue May 18 06:53:54 +0000 2021               NaN   \n\n         in_reply_to_user_id        date  count_status  \n0                        NaN  2020-01-27           238  \n1                        NaN  2020-01-27           286  \n2                        NaN  2020-01-27             1  \n3                        NaN  2020-01-27            90  \n4                        NaN  2020-01-27           616  \n...                      ...         ...           ...  \n3907813                  NaN  2021-05-18           506  \n3907814                  NaN  2021-05-18          1095  \n3907815                  NaN  2021-05-18             3  \n3907816                  NaN  2021-05-18          3025  \n3907817                  NaN  2021-05-18            58  \n\n[3907818 rows x 13 columns]",
      "text/html": "<div>\n<style scoped>\n    .dataframe tbody tr th:only-of-type {\n        vertical-align: middle;\n    }\n\n    .dataframe tbody tr th {\n        vertical-align: top;\n    }\n\n    .dataframe thead th {\n        text-align: right;\n    }\n</style>\n<table border=\"1\" class=\"dataframe\">\n  <thead>\n    <tr style=\"text-align: right;\">\n      <th></th>\n      <th>text</th>\n      <th>toxicity</th>\n      <th>id</th>\n      <th>user_screen_name</th>\n      <th>urls</th>\n      <th>hashtags</th>\n      <th>created_at</th>\n      <th>in_reply_to_screen_name</th>\n      <th>rt_created_at</th>\n      <th>quoted_status_id</th>\n      <th>in_reply_to_user_id</th>\n      <th>date</th>\n      <th>count_status</th>\n    </tr>\n  </thead>\n  <tbody>\n    <tr>\n      <th>0</th>\n      <td>La Memoria è l’unico vaccino contro l’indiffer...</td>\n      <td>0.006942</td>\n      <td>1221739084449832960</td>\n      <td>planetpaul65</td>\n      <td>[]</td>\n      <td>[{'text': 'GiornatadellaMemoria2020', 'indices...</td>\n      <td>Mon Jan 27 10:17:51 +0000 2020</td>\n      <td>NaN</td>\n      <td>Mon Jan 27 08:15:15 +0000 2020</td>\n      <td>NaN</td>\n      <td>NaN</td>\n      <td>2020-01-27</td>\n      <td>238</td>\n    </tr>\n    <tr>\n      <th>1</th>\n      <td>Oggi sono arrivati loro, 3 femminucce e 1 masc...</td>\n      <td>0.503896</td>\n      <td>1221737155380293640</td>\n      <td>Grace_1207</td>\n      <td>[]</td>\n      <td>[]</td>\n      <td>Mon Jan 27 10:10:11 +0000 2020</td>\n      <td>NaN</td>\n      <td>Sat Jan 25 21:19:30 +0000 2020</td>\n      <td>NaN</td>\n      <td>NaN</td>\n      <td>2020-01-27</td>\n      <td>286</td>\n    </tr>\n    <tr>\n      <th>2</th>\n      <td>L'indifferenza è più colpevole della violenza ...</td>\n      <td>0.037881</td>\n      <td>1221730009989120001</td>\n      <td>MarisaMinervini</td>\n      <td>[]</td>\n      <td>[]</td>\n      <td>Mon Jan 27 09:41:47 +0000 2020</td>\n      <td>NaN</td>\n      <td>Mon Jan 27 05:00:04 +0000 2020</td>\n      <td>NaN</td>\n      <td>NaN</td>\n      <td>2020-01-27</td>\n      <td>1</td>\n    </tr>\n    <tr>\n      <th>3</th>\n      <td>Minaccia morbillo nel Salento, Asl: \"Vaccinars...</td>\n      <td>0.065322</td>\n      <td>1221737654909382662</td>\n      <td>LecceSette</td>\n      <td>[{'url': 'https://t.co/CY0qiQFk6s', 'expanded_...</td>\n      <td>[]</td>\n      <td>Mon Jan 27 10:12:10 +0000 2020</td>\n      <td>NaN</td>\n      <td>NaN</td>\n      <td>NaN</td>\n      <td>NaN</td>\n      <td>2020-01-27</td>\n      <td>90</td>\n    </tr>\n    <tr>\n      <th>4</th>\n      <td>\"Coltivare la Memoria è ancora oggi un vaccino...</td>\n      <td>0.004234</td>\n      <td>1221728980203724801</td>\n      <td>arual812</td>\n      <td>[]</td>\n      <td>[]</td>\n      <td>Mon Jan 27 09:37:42 +0000 2020</td>\n      <td>NaN</td>\n      <td>Mon Jan 27 07:45:58 +0000 2020</td>\n      <td>NaN</td>\n      <td>NaN</td>\n      <td>2020-01-27</td>\n      <td>616</td>\n    </tr>\n    <tr>\n      <th>...</th>\n      <td>...</td>\n      <td>...</td>\n      <td>...</td>\n      <td>...</td>\n      <td>...</td>\n      <td>...</td>\n      <td>...</td>\n      <td>...</td>\n      <td>...</td>\n      <td>...</td>\n      <td>...</td>\n      <td>...</td>\n      <td>...</td>\n    </tr>\n    <tr>\n      <th>3907813</th>\n      <td>Il medico testimonial pro vaccino a Ariachetir...</td>\n      <td>0.043032</td>\n      <td>1394609996197937159</td>\n      <td>CiaoGrosso</td>\n      <td>[]</td>\n      <td>[]</td>\n      <td>Tue May 18 11:05:08 +0000 2021</td>\n      <td>NaN</td>\n      <td>Tue May 18 10:45:35 +0000 2021</td>\n      <td>NaN</td>\n      <td>NaN</td>\n      <td>2021-05-18</td>\n      <td>506</td>\n    </tr>\n    <tr>\n      <th>3907814</th>\n      <td>\"...«Ha lividi e piastrine basse». E ha richie...</td>\n      <td>0.045092</td>\n      <td>1394610015823147011</td>\n      <td>Rosskitty77</td>\n      <td>[{'url': 'https://t.co/5UT12c2sur', 'expanded_...</td>\n      <td>[]</td>\n      <td>Tue May 18 11:05:13 +0000 2021</td>\n      <td>NaN</td>\n      <td>NaN</td>\n      <td>1.394602e+18</td>\n      <td>NaN</td>\n      <td>2021-05-18</td>\n      <td>1095</td>\n    </tr>\n    <tr>\n      <th>3907815</th>\n      <td>Vaccinazioni nei luoghi di lavoro, fondamental...</td>\n      <td>0.007983</td>\n      <td>1394609887641022464</td>\n      <td>GuidoIafrate</td>\n      <td>[{'url': 'https://t.co/D3j3phCsiC', 'expanded_...</td>\n      <td>[]</td>\n      <td>Tue May 18 11:04:42 +0000 2021</td>\n      <td>NaN</td>\n      <td>NaN</td>\n      <td>NaN</td>\n      <td>NaN</td>\n      <td>2021-05-18</td>\n      <td>3</td>\n    </tr>\n    <tr>\n      <th>3907816</th>\n      <td>A lariachetira c’è un MEDICO DI BASE che ha ap...</td>\n      <td>0.317855</td>\n      <td>1394609899963830275</td>\n      <td>lucabattanta</td>\n      <td>[]</td>\n      <td>[{'text': 'lariachetira', 'indices': [14, 27]}]</td>\n      <td>Tue May 18 11:04:45 +0000 2021</td>\n      <td>NaN</td>\n      <td>Tue May 18 10:36:02 +0000 2021</td>\n      <td>NaN</td>\n      <td>NaN</td>\n      <td>2021-05-18</td>\n      <td>3025</td>\n    </tr>\n    <tr>\n      <th>3907817</th>\n      <td>Battiato detestava lo scientismo. Meglio che n...</td>\n      <td>0.204496</td>\n      <td>1394609930540306433</td>\n      <td>kyappy80</td>\n      <td>[]</td>\n      <td>[]</td>\n      <td>Tue May 18 11:04:52 +0000 2021</td>\n      <td>NaN</td>\n      <td>Tue May 18 06:53:54 +0000 2021</td>\n      <td>NaN</td>\n      <td>NaN</td>\n      <td>2021-05-18</td>\n      <td>58</td>\n    </tr>\n  </tbody>\n</table>\n<p>3907818 rows × 13 columns</p>\n</div>"
     },
     "execution_count": 2,
     "metadata": {},
     "output_type": "execute_result"
    }
   ],
   "source": [
    "# res[\"count_status\"] = res.groupby('user_screen_name')[\"toxicity\"].transform('count')\n",
    "# to_df = res[res[\"count_status\"]>10]\n",
    "# to_df[\"toxicity_score\"] = to_df.groupby('user_screen_name')[\"toxicity\"].transform('mean')\n",
    "# to_df = to_df.drop_duplicates(subset='user_screen_name')\n",
    "# print(\"Writing...\")\n",
    "# to_df.to_csv(r\"../files/tweets/user_toxicity.csv\", line_terminator=\"\\n\", encoding=\"utf-8\", index=False)\n",
    "# res.to_csv(r\"../files/tweets/tweets_toxicity.csv\", line_terminator=\"\\n\", encoding=\"utf-8\", index=False)\n",
    "# print(\"Cleaning...\")\n",
    "# del res\n",
    "# del to_df\n",
    "# print(\"Reading...\")\n",
    "tweets_toxic = pd.read_csv(r\"../files/tweets/tweets_toxicity.csv\", lineterminator=\"\\n\", encoding=\"utf-8\", low_memory=False)\n",
    "toxicity_users = pd.read_csv(r\"../files/tweets/user_toxicity.csv\", lineterminator=\"\\n\", encoding=\"utf-8\", low_memory=False)\n",
    "tweets_toxic"
   ]
  },
  {
   "cell_type": "code",
   "execution_count": 3,
   "id": "50670830",
   "metadata": {
    "pycharm": {
     "name": "#%%\n"
    }
   },
   "outputs": [],
   "source": [
    "tweets_toxic['dates']= tweets_toxic[[\"toxicity\",\"date\"]].groupby('date').transform('median')\n",
    "res_for_plot = tweets_toxic.drop_duplicates(subset='date')\n",
    "res_for_plot.sort_values(by=[\"date\"], inplace=True)"
   ]
  },
  {
   "cell_type": "code",
   "execution_count": 4,
   "outputs": [],
   "source": [
    "labels =  []\n",
    "for i in res_for_plot[\"created_at\"]:\n",
    "    x = i.split(\" \")\n",
    "    month = x[1]\n",
    "    day = x[2]\n",
    "    year = x[5][2:]\n",
    "    value = day + \" \" + month + \" '\" + year\n",
    "    labels.append(value)"
   ],
   "metadata": {
    "collapsed": false,
    "pycharm": {
     "name": "#%%\n"
    }
   }
  },
  {
   "cell_type": "markdown",
   "id": "4853e91f",
   "metadata": {
    "pycharm": {
     "name": "#%% md\n"
    }
   },
   "source": [
    "# Timeline"
   ]
  },
  {
   "cell_type": "code",
   "execution_count": 5,
   "outputs": [],
   "source": [
    "data = res_for_plot[[\"date\",\"dates\"]]\n",
    "data['rolling_avg'] = data.dates.rolling(14).median()"
   ],
   "metadata": {
    "collapsed": false,
    "pycharm": {
     "name": "#%%\n"
    }
   }
  },
  {
   "cell_type": "code",
   "execution_count": 6,
   "outputs": [
    {
     "data": {
      "text/plain": "               date     dates  rolling_avg\n12673    2020-01-02  0.132518          NaN\n1883     2020-01-03  0.065269          NaN\n5515     2020-01-04  0.058929          NaN\n6279     2020-01-05  0.048526          NaN\n7386     2020-01-06  0.077709          NaN\n...             ...       ...          ...\n3538756  2021-05-19  0.066122     0.047667\n3553961  2021-05-20  0.047839     0.048354\n3554638  2021-05-21  0.056732     0.049212\n3555254  2021-05-22  0.058929     0.049212\n3555942  2021-05-23  0.050938     0.049727\n\n[366 rows x 3 columns]",
      "text/html": "<div>\n<style scoped>\n    .dataframe tbody tr th:only-of-type {\n        vertical-align: middle;\n    }\n\n    .dataframe tbody tr th {\n        vertical-align: top;\n    }\n\n    .dataframe thead th {\n        text-align: right;\n    }\n</style>\n<table border=\"1\" class=\"dataframe\">\n  <thead>\n    <tr style=\"text-align: right;\">\n      <th></th>\n      <th>date</th>\n      <th>dates</th>\n      <th>rolling_avg</th>\n    </tr>\n  </thead>\n  <tbody>\n    <tr>\n      <th>12673</th>\n      <td>2020-01-02</td>\n      <td>0.132518</td>\n      <td>NaN</td>\n    </tr>\n    <tr>\n      <th>1883</th>\n      <td>2020-01-03</td>\n      <td>0.065269</td>\n      <td>NaN</td>\n    </tr>\n    <tr>\n      <th>5515</th>\n      <td>2020-01-04</td>\n      <td>0.058929</td>\n      <td>NaN</td>\n    </tr>\n    <tr>\n      <th>6279</th>\n      <td>2020-01-05</td>\n      <td>0.048526</td>\n      <td>NaN</td>\n    </tr>\n    <tr>\n      <th>7386</th>\n      <td>2020-01-06</td>\n      <td>0.077709</td>\n      <td>NaN</td>\n    </tr>\n    <tr>\n      <th>...</th>\n      <td>...</td>\n      <td>...</td>\n      <td>...</td>\n    </tr>\n    <tr>\n      <th>3538756</th>\n      <td>2021-05-19</td>\n      <td>0.066122</td>\n      <td>0.047667</td>\n    </tr>\n    <tr>\n      <th>3553961</th>\n      <td>2021-05-20</td>\n      <td>0.047839</td>\n      <td>0.048354</td>\n    </tr>\n    <tr>\n      <th>3554638</th>\n      <td>2021-05-21</td>\n      <td>0.056732</td>\n      <td>0.049212</td>\n    </tr>\n    <tr>\n      <th>3555254</th>\n      <td>2021-05-22</td>\n      <td>0.058929</td>\n      <td>0.049212</td>\n    </tr>\n    <tr>\n      <th>3555942</th>\n      <td>2021-05-23</td>\n      <td>0.050938</td>\n      <td>0.049727</td>\n    </tr>\n  </tbody>\n</table>\n<p>366 rows × 3 columns</p>\n</div>"
     },
     "execution_count": 6,
     "metadata": {},
     "output_type": "execute_result"
    }
   ],
   "source": [
    "data"
   ],
   "metadata": {
    "collapsed": false,
    "pycharm": {
     "name": "#%%\n"
    }
   }
  },
  {
   "cell_type": "code",
   "execution_count": 9,
   "id": "ce31d40f",
   "metadata": {
    "pycharm": {
     "name": "#%%\n"
    }
   },
   "outputs": [
    {
     "data": {
      "text/plain": "<Figure size 1800x720 with 1 Axes>",
      "image/png": "[encoded data removed]"
     },
     "metadata": {},
     "output_type": "display_data"
    }
   ],
   "source": [
    "import seaborn as sns\n",
    "fig, ax = plt.subplots(figsize=(25, 10))\n",
    "sns.lineplot( x = 'date',\n",
    "             y = 'dates',\n",
    "             data = data,\n",
    "             label = 'Toxic median')\n",
    "sns.lineplot(x = 'date',\n",
    "             y = 'rolling_avg',\n",
    "             data = data,\n",
    "             label = 'Rolling avg')\n",
    "\n",
    "plt.xlabel('Days')\n",
    "\n",
    "pos = list(data[\"date\"])\n",
    "lab = labels\n",
    "plt.xticks(pos, lab)\n",
    "plt.xticks(rotation=45, fontsize = 10)\n",
    "ax.xaxis.set_major_locator(mdates.DayLocator(interval=7))\n",
    "# plt.axvline(x=\"2020-01-30\", color=\"g\") # primi casi covid\n",
    "# plt.axvline(x=\"2020-02-20\", color=\"g\") # primi casi covid italia e chiusure\n",
    "# plt.axvline(x=\"2020-03-16\", color=\"g\") # prime somministrazionio test vaccino\n",
    "# plt.axvline(x=\"2020-06-13\", color=\"g\") # primi allentamenti\n",
    "# plt.axvline(x=\"2020-10-10\", color=\"g\") # restrizioni\n",
    "# plt.axvline(x=\"2020-12-21\", color=\"g\") # ok aifa per vaccino\n",
    "# plt.axvline(x=\"2020-12-27\") # vaccine day in europa\n",
    "# plt.axvline(x=\"2021-03-15\", color=\"g\") # Interruzione AZ\n",
    "plt.ylabel('Tweets')\n",
    "plt.show()"
   ]
  },
  {
   "cell_type": "markdown",
   "id": "dd11259d",
   "metadata": {
    "pycharm": {
     "name": "#%% md\n"
    }
   },
   "source": [
    "# Toxic Users"
   ]
  },
  {
   "cell_type": "code",
   "execution_count": 10,
   "id": "0ccd314b",
   "metadata": {
    "pycharm": {
     "name": "#%%\n"
    }
   },
   "outputs": [
    {
     "name": "stdout",
     "output_type": "stream",
     "text": [
      "0.1042210376666666\n"
     ]
    },
    {
     "data": {
      "text/plain": "      user_screen_name  count_status  toxicity_score\n0         planetpaul65           238        0.124145\n1           Grace_1207           286        0.086385\n2           LecceSette            90        0.027492\n3             arual812           616        0.066879\n4            pvsassone          1734        0.098949\n...                ...           ...             ...\n46604      AttivaLazio            19        0.078986\n46605  martinelegendr4            23        0.090316\n46606         GiNews24            16        0.087493\n46607           V_M5S_            11        0.025965\n46608  Grillo_VtruVano            15        0.028561\n\n[46609 rows x 3 columns]",
      "text/html": "<div>\n<style scoped>\n    .dataframe tbody tr th:only-of-type {\n        vertical-align: middle;\n    }\n\n    .dataframe tbody tr th {\n        vertical-align: top;\n    }\n\n    .dataframe thead th {\n        text-align: right;\n    }\n</style>\n<table border=\"1\" class=\"dataframe\">\n  <thead>\n    <tr style=\"text-align: right;\">\n      <th></th>\n      <th>user_screen_name</th>\n      <th>count_status</th>\n      <th>toxicity_score</th>\n    </tr>\n  </thead>\n  <tbody>\n    <tr>\n      <th>0</th>\n      <td>planetpaul65</td>\n      <td>238</td>\n      <td>0.124145</td>\n    </tr>\n    <tr>\n      <th>1</th>\n      <td>Grace_1207</td>\n      <td>286</td>\n      <td>0.086385</td>\n    </tr>\n    <tr>\n      <th>2</th>\n      <td>LecceSette</td>\n      <td>90</td>\n      <td>0.027492</td>\n    </tr>\n    <tr>\n      <th>3</th>\n      <td>arual812</td>\n      <td>616</td>\n      <td>0.066879</td>\n    </tr>\n    <tr>\n      <th>4</th>\n      <td>pvsassone</td>\n      <td>1734</td>\n      <td>0.098949</td>\n    </tr>\n    <tr>\n      <th>...</th>\n      <td>...</td>\n      <td>...</td>\n      <td>...</td>\n    </tr>\n    <tr>\n      <th>46604</th>\n      <td>AttivaLazio</td>\n      <td>19</td>\n      <td>0.078986</td>\n    </tr>\n    <tr>\n      <th>46605</th>\n      <td>martinelegendr4</td>\n      <td>23</td>\n      <td>0.090316</td>\n    </tr>\n    <tr>\n      <th>46606</th>\n      <td>GiNews24</td>\n      <td>16</td>\n      <td>0.087493</td>\n    </tr>\n    <tr>\n      <th>46607</th>\n      <td>V_M5S_</td>\n      <td>11</td>\n      <td>0.025965</td>\n    </tr>\n    <tr>\n      <th>46608</th>\n      <td>Grillo_VtruVano</td>\n      <td>15</td>\n      <td>0.028561</td>\n    </tr>\n  </tbody>\n</table>\n<p>46609 rows × 3 columns</p>\n</div>"
     },
     "execution_count": 10,
     "metadata": {},
     "output_type": "execute_result"
    }
   ],
   "source": [
    "toxicity_users = toxicity_users[[\"user_screen_name\",\"count_status\",\"toxicity_score\"]]\n",
    "print(np.median(toxicity_users[\"toxicity_score\"]))\n",
    "toxicity_users"
   ]
  },
  {
   "cell_type": "code",
   "execution_count": 11,
   "outputs": [
    {
     "data": {
      "text/plain": "      user_screen_name  count_status  toxicity_score\n84     lucianoranieri7            21        0.251855\n242    Graziel65255465          1409        0.211457\n254         Jo74155327            14        0.225772\n262          Jambonet1            32        0.213571\n280            Spicci3            28        0.289105\n...                ...           ...             ...\n46455     Carbonfire10            13        0.218374\n46481         piervane            16        0.252010\n46544  Mariano06003760            19        0.304589\n46550     Pino45373725            11        0.220441\n46576  AnnalisaNocera1            18        0.244890\n\n[2647 rows x 3 columns]",
      "text/html": "<div>\n<style scoped>\n    .dataframe tbody tr th:only-of-type {\n        vertical-align: middle;\n    }\n\n    .dataframe tbody tr th {\n        vertical-align: top;\n    }\n\n    .dataframe thead th {\n        text-align: right;\n    }\n</style>\n<table border=\"1\" class=\"dataframe\">\n  <thead>\n    <tr style=\"text-align: right;\">\n      <th></th>\n      <th>user_screen_name</th>\n      <th>count_status</th>\n      <th>toxicity_score</th>\n    </tr>\n  </thead>\n  <tbody>\n    <tr>\n      <th>84</th>\n      <td>lucianoranieri7</td>\n      <td>21</td>\n      <td>0.251855</td>\n    </tr>\n    <tr>\n      <th>242</th>\n      <td>Graziel65255465</td>\n      <td>1409</td>\n      <td>0.211457</td>\n    </tr>\n    <tr>\n      <th>254</th>\n      <td>Jo74155327</td>\n      <td>14</td>\n      <td>0.225772</td>\n    </tr>\n    <tr>\n      <th>262</th>\n      <td>Jambonet1</td>\n      <td>32</td>\n      <td>0.213571</td>\n    </tr>\n    <tr>\n      <th>280</th>\n      <td>Spicci3</td>\n      <td>28</td>\n      <td>0.289105</td>\n    </tr>\n    <tr>\n      <th>...</th>\n      <td>...</td>\n      <td>...</td>\n      <td>...</td>\n    </tr>\n    <tr>\n      <th>46455</th>\n      <td>Carbonfire10</td>\n      <td>13</td>\n      <td>0.218374</td>\n    </tr>\n    <tr>\n      <th>46481</th>\n      <td>piervane</td>\n      <td>16</td>\n      <td>0.252010</td>\n    </tr>\n    <tr>\n      <th>46544</th>\n      <td>Mariano06003760</td>\n      <td>19</td>\n      <td>0.304589</td>\n    </tr>\n    <tr>\n      <th>46550</th>\n      <td>Pino45373725</td>\n      <td>11</td>\n      <td>0.220441</td>\n    </tr>\n    <tr>\n      <th>46576</th>\n      <td>AnnalisaNocera1</td>\n      <td>18</td>\n      <td>0.244890</td>\n    </tr>\n  </tbody>\n</table>\n<p>2647 rows × 3 columns</p>\n</div>"
     },
     "execution_count": 11,
     "metadata": {},
     "output_type": "execute_result"
    }
   ],
   "source": [
    "toxicity_users[toxicity_users[\"toxicity_score\"]>0.2]"
   ],
   "metadata": {
    "collapsed": false,
    "pycharm": {
     "name": "#%%\n"
    }
   }
  },
  {
   "cell_type": "code",
   "execution_count": 12,
   "outputs": [],
   "source": [
    "toxic  = tweets_toxic[tweets_toxic[\"toxicity\"]>0.49]"
   ],
   "metadata": {
    "collapsed": false,
    "pycharm": {
     "name": "#%%\n"
    }
   }
  },
  {
   "cell_type": "code",
   "execution_count": 13,
   "id": "d62686c8",
   "metadata": {
    "pycharm": {
     "name": "#%%\n"
    }
   },
   "outputs": [
    {
     "data": {
      "text/plain": "HBox(children=(HTML(value=''), FloatProgress(value=0.0, max=89331.0), HTML(value='')))",
      "application/vnd.jupyter.widget-view+json": {
       "version_major": 2,
       "version_minor": 0,
       "model_id": "15ab88140e064fd2ab684158442859b1"
      }
     },
     "metadata": {},
     "output_type": "display_data"
    },
    {
     "name": "stdout",
     "output_type": "stream",
     "text": [
      "\n"
     ]
    },
    {
     "data": {
      "text/plain": "twitter.com             88758\nyoutube.com              2646\nansa.it                  1890\nilgiornale.it            1719\ncorriere.it              1305\nlastampa.it              1305\nilfattoquotidiano.it     1215\niltempo.it                972\nbyoblu.com                936\ntgcom24.mediaset.it       792\nmilano.corriere.it        729\nt.co                      666\nrepubblica.it             594\nfacebook.com              549\nadnkronos.com             531\ndtype: int64"
     },
     "execution_count": 13,
     "metadata": {},
     "output_type": "execute_result"
    }
   ],
   "source": [
    "domains = []\n",
    "for i in utils.extract_domain_list(toxic):\n",
    "    if i != \"[]\":\n",
    "        for j in i:\n",
    "            if \"youtu.be\" in j:\n",
    "                j = \"youtube.com\"\n",
    "            domains.append(j)\n",
    "pd.Series(domains).value_counts().sort_values(ascending=False)[:15]"
   ]
  },
  {
   "cell_type": "code",
   "execution_count": 14,
   "id": "186161aa",
   "metadata": {
    "pycharm": {
     "name": "#%%\n"
    }
   },
   "outputs": [
    {
     "data": {
      "text/plain": "Fatevi sto cazzo di vaccino e non iniziate a rompere i coglioni                                                                                                                                                                                                                             1914\nTarro suggerisce il plasma: lo diffamano. Dedonno lo usa e ottiene zero morti a Mantova: gli mandano i NAS. Conte tace sul plasma e supporta BillGates. Bergoglio prega per i vaccini. I virologi-tv chiedono segregazione fino ai vaccini. Non capite il nesso? Siete coglioni.            1094\nSono passati esattamente 10 anni. Gentile beppe_grillo, noi lo sapevamo già, ma a te davvero serviva un'epidemia del genere per capire quante cazzate hai sparato? Coronaviriusitalia vaccini                                                                                                649\nÈ pazzesco. La gente è scesa in piazza a Montecitorio, a Milano, ovunque.  Una rivolta popolare per riottenere le libertà economiche e personali soppresse da merde avide di potere, soldi e controllo. E i media? «Vaccini, vaccini, vaccini». Censurano tutto, questi servi di merda.      546\nMentre a Mantova, con il plasma ch'è gratis, hanno ridotto a zero la mortalità del virus, Conte fa accordi con lo spietato BillGates, un pazzo che vuole le epidemie per controllare l'umanità impiantandole vaccini-chip sottopelle. Restiamo segregati in omaggio a questo stronzo.        474\n\"free vax\" in inglese vuole dire \"vaccini gratis\" in italiano invece significa \"irresponsabile che pretende di avere la libertà di danneggiare gli altri in nome del suo enorme egoismo e della sua illimitata ignoranza\"                                                                    457\nSe fai passare soggetti sani ma positivi per «malati Covid19» arrivano finanziamenti per reparti Covid, si vendono notizie, mascherine, vaccini. Come quando fai passare per profughi i clandestini:  piovono soldi. Capito perché la sinistra ci fa la morale? Incassano, i maiali.         433\ndatemi questo vaccino me lo prendo orale nasale endovenoso anale rollato a canna sciolto col dado nel minestrone negli occhi come il collirio pomata pillole siringhe pasticche aerosol siero ambrosia quello che è porcoddio                                                                408\nnon mi frega un cazzo cosa c’é nel vaccino melo pippo se devo                                                                                                                                                                                                                                392\nNON FATE I NEGAZIONISTI E VACCINATEVI PERCHÉ BALTO NON SI È FATTO IL CULO PER PORTARE I VACCINI RISCHIANDO LA SUA VITA PER VOI STRONZI                                                                                                                                                       384\nEvitare di vaccinarsi per timore di eventi avversi rari e indimostrati a fronte di danni certi causati dalla malattia è ciò che fanno a livello individuale i No Vax. Che sia la linea di un paese in piena pandemia mi pare una follia. Ma se viene chiamata “precauzione” è stupidità.     379\nHanno impedito cure antivirali che risolvono il Covid19 in tre giorni. Creato un'emergenza evitabile, imprigionato milioni di persone, distrutto milioni di imprese per far vendere vaccini mal testati ai magnaccia della finanza. Voi a parlare di Zan e Fedezzo. Siete delle merde.       366\nLa gente ha paura del nuovo vaccino ma non ha paura di ammassarsi nelle piazze in piena pandemia.  Siete una massa di deficienti senza cervello.                                                                                                                                             364\nC’è cosa peggiore di chi cancella un video per poter dire l’esatto contrario attaccando il governo? Si: chi ancora difende questo ipocrita mentecatto. Per il COVID19 si troverà un vaccino, ma per la vostra stupidità, ignoranza e meschinità non esiste cura                              342\nHan dovuto fare 71.000 tamponi per trovare qualche positivo in più e legittimare l'attacco alle imprese commissionato da Bruxelles, nonché l'obbligo di mascherina commissionato dal cartello farmaceutico per tenere alta la domanda di vaccini. Queste teste di cazzo su commissione.      327\nName: text, dtype: int64"
     },
     "execution_count": 14,
     "metadata": {},
     "output_type": "execute_result"
    }
   ],
   "source": [
    "pd.Series(toxic[\"text\"]).value_counts().sort_values(ascending=False)[:15]"
   ]
  },
  {
   "cell_type": "code",
   "execution_count": 15,
   "id": "d8ed00eb",
   "metadata": {
    "pycharm": {
     "name": "#%%\n"
    }
   },
   "outputs": [],
   "source": [
    "communities = pd.read_csv(r\"..\\Files\\networks\\louvain.csv\")"
   ]
  },
  {
   "cell_type": "code",
   "execution_count": 16,
   "id": "7ca91fe3",
   "metadata": {
    "pycharm": {
     "name": "#%%\n"
    }
   },
   "outputs": [],
   "source": [
    "toxic_merged = toxic.merge(communities, left_on=\"user_screen_name\", right_on=\"name\", how=\"left\")"
   ]
  },
  {
   "cell_type": "code",
   "execution_count": 17,
   "id": "e9f7c95d",
   "metadata": {
    "pycharm": {
     "name": "#%%\n"
    }
   },
   "outputs": [
    {
     "name": "stdout",
     "output_type": "stream",
     "text": [
      "4.0 - 44723 - 54.0% of total\n",
      "0.0 - 17611 - 21.0% of total\n",
      "2.0 - 10181 - 12.0% of total\n",
      "3.0 - 7689 - 9.0% of total\n",
      "1.0 - 615 - 1.0% of total\n",
      "5.0 - 317 - 0.0% of total\n",
      "8.0 - 175 - 0.0% of total\n",
      "34.0 - 150 - 0.0% of total\n",
      "96.0 - 79 - 0.0% of total\n",
      "9.0 - 55 - 0.0% of total\n",
      "46.0 - 41 - 0.0% of total\n",
      "54.0 - 27 - 0.0% of total\n",
      "2702.0 - 22 - 0.0% of total\n",
      "499.0 - 18 - 0.0% of total\n"
     ]
    },
    {
     "data": {
      "text/plain": "912"
     },
     "execution_count": 17,
     "metadata": {},
     "output_type": "execute_result"
    }
   ],
   "source": [
    "value = pd.Series(toxic_merged[\"community\"]).value_counts().sort_values(ascending=False)\n",
    "count = 0\n",
    "total_values = np.sum(value)\n",
    "for i in value.index:\n",
    "    print(str(i) + \" - \" + str(value[i]) + f\" - {round(value[i]/total_values,2)*100}% of total\")\n",
    "    count = count + 1\n",
    "    if count == 14:\n",
    "        break\n",
    "# 4 right\n",
    "# 0 left\n",
    "# 2 influencer\n",
    "# 3 journals\n",
    "\n",
    "62742 - (38247 + 13809 + 6062 + 3712) "
   ]
  },
  {
   "cell_type": "code",
   "execution_count": 29,
   "id": "834419c7",
   "metadata": {
    "pycharm": {
     "name": "#%%\n"
    }
   },
   "outputs": [
    {
     "data": {
      "image/png": "[encoded data removed]",
      "text/plain": "<IPython.core.display.Image object>"
     },
     "execution_count": 29,
     "metadata": {},
     "output_type": "execute_result"
    }
   ],
   "source": [
    "from IPython.display import Image\n",
    "Image(r\"C:\\Users\\gianl\\Desktop\\Gi\\Supsi\\Vaccines_Discussion_Italy\\Italian\\Files\\toxic_flow.png\")"
   ]
  },
  {
   "cell_type": "markdown",
   "source": [
    "### Toxic bad"
   ],
   "metadata": {
    "collapsed": false,
    "pycharm": {
     "name": "#%% md\n"
    }
   }
  },
  {
   "cell_type": "code",
   "execution_count": 12,
   "outputs": [
    {
     "data": {
      "text/plain": "0.0717155"
     },
     "execution_count": 12,
     "metadata": {},
     "output_type": "execute_result"
    }
   ],
   "source": [
    "bad = list(pd.read_csv(r\"..\\files\\bad.csv\")[\"screen_name\"])\n",
    "np.nanmedian(tweets_toxic[tweets_toxic[\"user_screen_name\"].isin(bad)][\"toxicity\"])"
   ],
   "metadata": {
    "collapsed": false,
    "pycharm": {
     "name": "#%%\n"
    }
   }
  },
  {
   "cell_type": "markdown",
   "source": [
    "### Toxic good"
   ],
   "metadata": {
    "collapsed": false,
    "pycharm": {
     "name": "#%% md\n"
    }
   }
  },
  {
   "cell_type": "code",
   "execution_count": 13,
   "outputs": [
    {
     "data": {
      "text/plain": "0.025005542"
     },
     "execution_count": 13,
     "metadata": {},
     "output_type": "execute_result"
    }
   ],
   "source": [
    "good = list(pd.read_csv(r\"..\\files\\good.csv\")[\"screen_name\"])\n",
    "np.nanmedian(tweets_toxic[tweets_toxic[\"user_screen_name\"].isin(good)][\"toxicity\"])"
   ],
   "metadata": {
    "collapsed": false,
    "pycharm": {
     "name": "#%%\n"
    }
   }
  },
  {
   "cell_type": "markdown",
   "source": [
    "### Toxic core"
   ],
   "metadata": {
    "collapsed": false,
    "pycharm": {
     "name": "#%% md\n"
    }
   }
  },
  {
   "cell_type": "code",
   "execution_count": 14,
   "outputs": [
    {
     "data": {
      "text/plain": "0.039598234"
     },
     "execution_count": 14,
     "metadata": {},
     "output_type": "execute_result"
    }
   ],
   "source": [
    "core = list(pd.read_csv(r\"..\\files\\core.csv\")[\"screen_name\"])\n",
    "np.nanmedian(tweets_toxic[tweets_toxic[\"user_screen_name\"].isin(core)][\"toxicity\"])"
   ],
   "metadata": {
    "collapsed": false,
    "pycharm": {
     "name": "#%%\n"
    }
   }
  },
  {
   "cell_type": "markdown",
   "source": [
    "# Toxicity and conspiracy"
   ],
   "metadata": {
    "collapsed": false,
    "pycharm": {
     "name": "#%% md\n"
    }
   }
  },
  {
   "cell_type": "code",
   "execution_count": 18,
   "outputs": [
    {
     "data": {
      "text/plain": "   Unnamed: 0 user_screen_name  number_of_urls  HIGH    LOW  UNKW  SOCIAL  \\\n0           0    infoitinterno           17471    33  17267   171       0   \n1           1       Paolo90777              18     0      5     0      13   \n2           2  giuseppecarta73              17     0      1    15       1   \n3           3    ZiaGabriella1              11     0      7     3       1   \n4           4         lapillo1              36     0      3     1      32   \n\n   conspiracy_score  \n0               1.0  \n1               1.0  \n2               1.0  \n3               1.0  \n4               1.0  ",
      "text/html": "<div>\n<style scoped>\n    .dataframe tbody tr th:only-of-type {\n        vertical-align: middle;\n    }\n\n    .dataframe tbody tr th {\n        vertical-align: top;\n    }\n\n    .dataframe thead th {\n        text-align: right;\n    }\n</style>\n<table border=\"1\" class=\"dataframe\">\n  <thead>\n    <tr style=\"text-align: right;\">\n      <th></th>\n      <th>Unnamed: 0</th>\n      <th>user_screen_name</th>\n      <th>number_of_urls</th>\n      <th>HIGH</th>\n      <th>LOW</th>\n      <th>UNKW</th>\n      <th>SOCIAL</th>\n      <th>conspiracy_score</th>\n    </tr>\n  </thead>\n  <tbody>\n    <tr>\n      <th>0</th>\n      <td>0</td>\n      <td>infoitinterno</td>\n      <td>17471</td>\n      <td>33</td>\n      <td>17267</td>\n      <td>171</td>\n      <td>0</td>\n      <td>1.0</td>\n    </tr>\n    <tr>\n      <th>1</th>\n      <td>1</td>\n      <td>Paolo90777</td>\n      <td>18</td>\n      <td>0</td>\n      <td>5</td>\n      <td>0</td>\n      <td>13</td>\n      <td>1.0</td>\n    </tr>\n    <tr>\n      <th>2</th>\n      <td>2</td>\n      <td>giuseppecarta73</td>\n      <td>17</td>\n      <td>0</td>\n      <td>1</td>\n      <td>15</td>\n      <td>1</td>\n      <td>1.0</td>\n    </tr>\n    <tr>\n      <th>3</th>\n      <td>3</td>\n      <td>ZiaGabriella1</td>\n      <td>11</td>\n      <td>0</td>\n      <td>7</td>\n      <td>3</td>\n      <td>1</td>\n      <td>1.0</td>\n    </tr>\n    <tr>\n      <th>4</th>\n      <td>4</td>\n      <td>lapillo1</td>\n      <td>36</td>\n      <td>0</td>\n      <td>3</td>\n      <td>1</td>\n      <td>32</td>\n      <td>1.0</td>\n    </tr>\n  </tbody>\n</table>\n</div>"
     },
     "execution_count": 18,
     "metadata": {},
     "output_type": "execute_result"
    }
   ],
   "source": [
    "conspiracy = pd.read_csv(r\"..\\files\\tweets\\result_cred_score_thresh_10.csv\", lineterminator=\"\\n\", encoding=\"utf-8\", low_memory=False)\n",
    "conspiracy.head()"
   ],
   "metadata": {
    "collapsed": false,
    "pycharm": {
     "name": "#%%\n"
    }
   }
  },
  {
   "cell_type": "code",
   "execution_count": 19,
   "outputs": [
    {
     "data": {
      "text/plain": "                                                    text  toxicity  \\\n0      «L’omosessualità è una malattia mentale causat...  0.494545   \n1      “L’omosessualità è una malattia, causata dai v...  0.618262   \n2      “Speriamo che il vaccino la levi dalle p****”:...  0.534307   \n3      Paragone contro con Morani Pd | “Sei nazista n...  0.502630   \n6      gustinicchi Se non è così, è il contrario: oss...  0.630413   \n...                                                  ...       ...   \n42189  \"FANNO SCHIFO! SFRUTTANO I MORTI PER SPECULARE...  0.581059   \n42204  fattoquotidiano machissenefrega ! Girasse pure...  0.503506   \n42267  Vorrei vederli quelli che vogliono licenziare ...  0.496888   \n42268  conte, HAI FALLITO SUL PRIMO GOVERNO, SUI DELI...  0.494545   \n42269  Deve vergognarsi,se ha pudore,chi lo stima per...  0.502328   \n\n                 id user_screen_name  \\\n0      1.291542e+18    infoitinterno   \n1      1.291541e+18    infoitinterno   \n2      1.362839e+18    infoitinterno   \n3      1.387169e+18    infoitinterno   \n6      1.238114e+18    ZiaGabriella1   \n...             ...              ...   \n42189  1.315318e+18        stCroazia   \n42204  1.382787e+18        Scubamanu   \n42267  1.343967e+18     chierici1950   \n42268  1.353266e+18     chierici1950   \n42269  1.385990e+18     chierici1950   \n\n                                                    urls  \\\n0      [{'url': 'https://t.co/VI4dmR4veh', 'expanded_...   \n1      [{'url': 'https://t.co/Y5KC8Sc2dY', 'expanded_...   \n2      [{'url': 'https://t.co/SfF4TUeiso', 'expanded_...   \n3      [{'url': 'https://t.co/v4CPO3sJVV', 'expanded_...   \n6                                                     []   \n...                                                  ...   \n42189  [{'url': 'https://t.co/xsjTQs5Cr3', 'expanded_...   \n42204                                                 []   \n42267                                                 []   \n42268                                                 []   \n42269  [{'url': 'https://t.co/JtqZqhJb60', 'expanded_...   \n\n                                                hashtags  \\\n0                                                     []   \n1                                                     []   \n2                                                     []   \n3                                                     []   \n6                                                     []   \n...                                                  ...   \n42189                                                 []   \n42204  [{'text': 'machissenefrega', 'indices': [17, 3...   \n42267                                                 []   \n42268                                                 []   \n42269                                                 []   \n\n                           created_at in_reply_to_screen_name  \\\n0      Fri Aug 07 01:11:34 +0000 2020                     NaN   \n1      Fri Aug 07 01:06:30 +0000 2020                     NaN   \n2      Fri Feb 19 19:00:05 +0000 2021                     NaN   \n3      Tue Apr 27 22:18:15 +0000 2021                     NaN   \n6      Thu Mar 12 14:44:15 +0000 2020                     NaN   \n...                               ...                     ...   \n42189  Sun Oct 11 15:48:27 +0000 2020                     NaN   \n42204  Thu Apr 15 20:05:42 +0000 2021         fattoquotidiano   \n42267  Tue Dec 29 17:08:08 +0000 2020                     NaN   \n42268  Sun Jan 24 08:56:54 +0000 2021                     NaN   \n42269  Sat Apr 24 16:12:26 +0000 2021                     NaN   \n\n                        rt_created_at  quoted_status_id  ...     dates  \\\n0                                 NaN               NaN  ...  0.122449   \n1                                 NaN               NaN  ...  0.122449   \n2                                 NaN               NaN  ...  0.060128   \n3                                 NaN               NaN  ...  0.037710   \n6      Wed Mar 11 23:56:18 +0000 2020               NaN  ...  0.101929   \n...                               ...               ...  ...       ...   \n42189                             NaN               NaN  ...  0.084477   \n42204                             NaN               NaN  ...  0.046465   \n42267                             NaN               NaN  ...  0.068919   \n42268  Sun Jan 24 08:18:06 +0000 2021               NaN  ...  0.078109   \n42269                             NaN      1.385971e+18  ...  0.048526   \n\n                name  community  Unnamed: 0 number_of_urls  HIGH    LOW  UNKW  \\\n0      infoitinterno        3.0           0          17471    33  17267   171   \n1      infoitinterno        3.0           0          17471    33  17267   171   \n2      infoitinterno        3.0           0          17471    33  17267   171   \n3      infoitinterno        3.0           0          17471    33  17267   171   \n6      ZiaGabriella1        4.0           3             11     0      7     3   \n...              ...        ...         ...            ...   ...    ...   ...   \n42189            NaN        NaN        9412             10     0      0     0   \n42204      Scubamanu        3.0        9427             10     0      0     8   \n42267   chierici1950        4.0        9490             10     0      0    10   \n42268   chierici1950        4.0        9490             10     0      0    10   \n42269   chierici1950        4.0        9490             10     0      0    10   \n\n       SOCIAL  conspiracy_score  \n0           0               1.0  \n1           0               1.0  \n2           0               1.0  \n3           0               1.0  \n6           1               1.0  \n...       ...               ...  \n42189      10               NaN  \n42204       2               NaN  \n42267       0               NaN  \n42268       0               NaN  \n42269       0               NaN  \n\n[37671 rows x 23 columns]",
      "text/html": "<div>\n<style scoped>\n    .dataframe tbody tr th:only-of-type {\n        vertical-align: middle;\n    }\n\n    .dataframe tbody tr th {\n        vertical-align: top;\n    }\n\n    .dataframe thead th {\n        text-align: right;\n    }\n</style>\n<table border=\"1\" class=\"dataframe\">\n  <thead>\n    <tr style=\"text-align: right;\">\n      <th></th>\n      <th>text</th>\n      <th>toxicity</th>\n      <th>id</th>\n      <th>user_screen_name</th>\n      <th>urls</th>\n      <th>hashtags</th>\n      <th>created_at</th>\n      <th>in_reply_to_screen_name</th>\n      <th>rt_created_at</th>\n      <th>quoted_status_id</th>\n      <th>...</th>\n      <th>dates</th>\n      <th>name</th>\n      <th>community</th>\n      <th>Unnamed: 0</th>\n      <th>number_of_urls</th>\n      <th>HIGH</th>\n      <th>LOW</th>\n      <th>UNKW</th>\n      <th>SOCIAL</th>\n      <th>conspiracy_score</th>\n    </tr>\n  </thead>\n  <tbody>\n    <tr>\n      <th>0</th>\n      <td>«L’omosessualità è una malattia mentale causat...</td>\n      <td>0.494545</td>\n      <td>1.291542e+18</td>\n      <td>infoitinterno</td>\n      <td>[{'url': 'https://t.co/VI4dmR4veh', 'expanded_...</td>\n      <td>[]</td>\n      <td>Fri Aug 07 01:11:34 +0000 2020</td>\n      <td>NaN</td>\n      <td>NaN</td>\n      <td>NaN</td>\n      <td>...</td>\n      <td>0.122449</td>\n      <td>infoitinterno</td>\n      <td>3.0</td>\n      <td>0</td>\n      <td>17471</td>\n      <td>33</td>\n      <td>17267</td>\n      <td>171</td>\n      <td>0</td>\n      <td>1.0</td>\n    </tr>\n    <tr>\n      <th>1</th>\n      <td>“L’omosessualità è una malattia, causata dai v...</td>\n      <td>0.618262</td>\n      <td>1.291541e+18</td>\n      <td>infoitinterno</td>\n      <td>[{'url': 'https://t.co/Y5KC8Sc2dY', 'expanded_...</td>\n      <td>[]</td>\n      <td>Fri Aug 07 01:06:30 +0000 2020</td>\n      <td>NaN</td>\n      <td>NaN</td>\n      <td>NaN</td>\n      <td>...</td>\n      <td>0.122449</td>\n      <td>infoitinterno</td>\n      <td>3.0</td>\n      <td>0</td>\n      <td>17471</td>\n      <td>33</td>\n      <td>17267</td>\n      <td>171</td>\n      <td>0</td>\n      <td>1.0</td>\n    </tr>\n    <tr>\n      <th>2</th>\n      <td>“Speriamo che il vaccino la levi dalle p****”:...</td>\n      <td>0.534307</td>\n      <td>1.362839e+18</td>\n      <td>infoitinterno</td>\n      <td>[{'url': 'https://t.co/SfF4TUeiso', 'expanded_...</td>\n      <td>[]</td>\n      <td>Fri Feb 19 19:00:05 +0000 2021</td>\n      <td>NaN</td>\n      <td>NaN</td>\n      <td>NaN</td>\n      <td>...</td>\n      <td>0.060128</td>\n      <td>infoitinterno</td>\n      <td>3.0</td>\n      <td>0</td>\n      <td>17471</td>\n      <td>33</td>\n      <td>17267</td>\n      <td>171</td>\n      <td>0</td>\n      <td>1.0</td>\n    </tr>\n    <tr>\n      <th>3</th>\n      <td>Paragone contro con Morani Pd | “Sei nazista n...</td>\n      <td>0.502630</td>\n      <td>1.387169e+18</td>\n      <td>infoitinterno</td>\n      <td>[{'url': 'https://t.co/v4CPO3sJVV', 'expanded_...</td>\n      <td>[]</td>\n      <td>Tue Apr 27 22:18:15 +0000 2021</td>\n      <td>NaN</td>\n      <td>NaN</td>\n      <td>NaN</td>\n      <td>...</td>\n      <td>0.037710</td>\n      <td>infoitinterno</td>\n      <td>3.0</td>\n      <td>0</td>\n      <td>17471</td>\n      <td>33</td>\n      <td>17267</td>\n      <td>171</td>\n      <td>0</td>\n      <td>1.0</td>\n    </tr>\n    <tr>\n      <th>6</th>\n      <td>gustinicchi Se non è così, è il contrario: oss...</td>\n      <td>0.630413</td>\n      <td>1.238114e+18</td>\n      <td>ZiaGabriella1</td>\n      <td>[]</td>\n      <td>[]</td>\n      <td>Thu Mar 12 14:44:15 +0000 2020</td>\n      <td>NaN</td>\n      <td>Wed Mar 11 23:56:18 +0000 2020</td>\n      <td>NaN</td>\n      <td>...</td>\n      <td>0.101929</td>\n      <td>ZiaGabriella1</td>\n      <td>4.0</td>\n      <td>3</td>\n      <td>11</td>\n      <td>0</td>\n      <td>7</td>\n      <td>3</td>\n      <td>1</td>\n      <td>1.0</td>\n    </tr>\n    <tr>\n      <th>...</th>\n      <td>...</td>\n      <td>...</td>\n      <td>...</td>\n      <td>...</td>\n      <td>...</td>\n      <td>...</td>\n      <td>...</td>\n      <td>...</td>\n      <td>...</td>\n      <td>...</td>\n      <td>...</td>\n      <td>...</td>\n      <td>...</td>\n      <td>...</td>\n      <td>...</td>\n      <td>...</td>\n      <td>...</td>\n      <td>...</td>\n      <td>...</td>\n      <td>...</td>\n      <td>...</td>\n    </tr>\n    <tr>\n      <th>42189</th>\n      <td>\"FANNO SCHIFO! SFRUTTANO I MORTI PER SPECULARE...</td>\n      <td>0.581059</td>\n      <td>1.315318e+18</td>\n      <td>stCroazia</td>\n      <td>[{'url': 'https://t.co/xsjTQs5Cr3', 'expanded_...</td>\n      <td>[]</td>\n      <td>Sun Oct 11 15:48:27 +0000 2020</td>\n      <td>NaN</td>\n      <td>NaN</td>\n      <td>NaN</td>\n      <td>...</td>\n      <td>0.084477</td>\n      <td>NaN</td>\n      <td>NaN</td>\n      <td>9412</td>\n      <td>10</td>\n      <td>0</td>\n      <td>0</td>\n      <td>0</td>\n      <td>10</td>\n      <td>NaN</td>\n    </tr>\n    <tr>\n      <th>42204</th>\n      <td>fattoquotidiano machissenefrega ! Girasse pure...</td>\n      <td>0.503506</td>\n      <td>1.382787e+18</td>\n      <td>Scubamanu</td>\n      <td>[]</td>\n      <td>[{'text': 'machissenefrega', 'indices': [17, 3...</td>\n      <td>Thu Apr 15 20:05:42 +0000 2021</td>\n      <td>fattoquotidiano</td>\n      <td>NaN</td>\n      <td>NaN</td>\n      <td>...</td>\n      <td>0.046465</td>\n      <td>Scubamanu</td>\n      <td>3.0</td>\n      <td>9427</td>\n      <td>10</td>\n      <td>0</td>\n      <td>0</td>\n      <td>8</td>\n      <td>2</td>\n      <td>NaN</td>\n    </tr>\n    <tr>\n      <th>42267</th>\n      <td>Vorrei vederli quelli che vogliono licenziare ...</td>\n      <td>0.496888</td>\n      <td>1.343967e+18</td>\n      <td>chierici1950</td>\n      <td>[]</td>\n      <td>[]</td>\n      <td>Tue Dec 29 17:08:08 +0000 2020</td>\n      <td>NaN</td>\n      <td>NaN</td>\n      <td>NaN</td>\n      <td>...</td>\n      <td>0.068919</td>\n      <td>chierici1950</td>\n      <td>4.0</td>\n      <td>9490</td>\n      <td>10</td>\n      <td>0</td>\n      <td>0</td>\n      <td>10</td>\n      <td>0</td>\n      <td>NaN</td>\n    </tr>\n    <tr>\n      <th>42268</th>\n      <td>conte, HAI FALLITO SUL PRIMO GOVERNO, SUI DELI...</td>\n      <td>0.494545</td>\n      <td>1.353266e+18</td>\n      <td>chierici1950</td>\n      <td>[]</td>\n      <td>[]</td>\n      <td>Sun Jan 24 08:56:54 +0000 2021</td>\n      <td>NaN</td>\n      <td>Sun Jan 24 08:18:06 +0000 2021</td>\n      <td>NaN</td>\n      <td>...</td>\n      <td>0.078109</td>\n      <td>chierici1950</td>\n      <td>4.0</td>\n      <td>9490</td>\n      <td>10</td>\n      <td>0</td>\n      <td>0</td>\n      <td>10</td>\n      <td>0</td>\n      <td>NaN</td>\n    </tr>\n    <tr>\n      <th>42269</th>\n      <td>Deve vergognarsi,se ha pudore,chi lo stima per...</td>\n      <td>0.502328</td>\n      <td>1.385990e+18</td>\n      <td>chierici1950</td>\n      <td>[{'url': 'https://t.co/JtqZqhJb60', 'expanded_...</td>\n      <td>[]</td>\n      <td>Sat Apr 24 16:12:26 +0000 2021</td>\n      <td>NaN</td>\n      <td>NaN</td>\n      <td>1.385971e+18</td>\n      <td>...</td>\n      <td>0.048526</td>\n      <td>chierici1950</td>\n      <td>4.0</td>\n      <td>9490</td>\n      <td>10</td>\n      <td>0</td>\n      <td>0</td>\n      <td>10</td>\n      <td>0</td>\n      <td>NaN</td>\n    </tr>\n  </tbody>\n</table>\n<p>37671 rows × 23 columns</p>\n</div>"
     },
     "execution_count": 19,
     "metadata": {},
     "output_type": "execute_result"
    }
   ],
   "source": [
    "toxic_merged_conspiracy = toxic_merged.merge(conspiracy, on=\"user_screen_name\", how=\"right\")\n",
    "toxic_merged_conspiracy = toxic_merged_conspiracy[toxic_merged_conspiracy[\"id\"].notna()]\n",
    "toxic_merged_conspiracy"
   ],
   "metadata": {
    "collapsed": false,
    "pycharm": {
     "name": "#%%\n"
    }
   }
  },
  {
   "cell_type": "code",
   "execution_count": 32,
   "outputs": [
    {
     "name": "stdout",
     "output_type": "stream",
     "text": [
      "1691\n",
      "4892\n"
     ]
    }
   ],
   "source": [
    "toxic_merged_conspiracy.drop_duplicates(subset=[\"user_screen_name\"], inplace=True)\n",
    "print(len(toxic_merged_conspiracy[toxic_merged_conspiracy[\"conspiracy_score\"]>0.49]))\n",
    "print(len(toxic_merged_conspiracy))"
   ],
   "metadata": {
    "collapsed": false,
    "pycharm": {
     "name": "#%%\n"
    }
   }
  },
  {
   "cell_type": "markdown",
   "source": [
    "# Toxicity and centrality"
   ],
   "metadata": {
    "collapsed": false,
    "pycharm": {
     "name": "#%% md\n"
    }
   }
  },
  {
   "cell_type": "code",
   "execution_count": 33,
   "outputs": [],
   "source": [
    "user_ev = pd.read_csv(\"../files/networks/user_ev_centrality.csv\")\n",
    "user_deg = pd.read_csv(\"../files/networks/user_deg_centrality.csv\")"
   ],
   "metadata": {
    "collapsed": false,
    "pycharm": {
     "name": "#%%\n"
    }
   }
  },
  {
   "cell_type": "code",
   "execution_count": 34,
   "outputs": [
    {
     "data": {
      "text/plain": "            dates        ev   deg_cen\ndates    1.000000  0.000134 -0.001533\nev       0.000134  1.000000  0.623230\ndeg_cen -0.001533  0.623230  1.000000",
      "text/html": "<div>\n<style scoped>\n    .dataframe tbody tr th:only-of-type {\n        vertical-align: middle;\n    }\n\n    .dataframe tbody tr th {\n        vertical-align: top;\n    }\n\n    .dataframe thead th {\n        text-align: right;\n    }\n</style>\n<table border=\"1\" class=\"dataframe\">\n  <thead>\n    <tr style=\"text-align: right;\">\n      <th></th>\n      <th>dates</th>\n      <th>ev</th>\n      <th>deg_cen</th>\n    </tr>\n  </thead>\n  <tbody>\n    <tr>\n      <th>dates</th>\n      <td>1.000000</td>\n      <td>0.000134</td>\n      <td>-0.001533</td>\n    </tr>\n    <tr>\n      <th>ev</th>\n      <td>0.000134</td>\n      <td>1.000000</td>\n      <td>0.623230</td>\n    </tr>\n    <tr>\n      <th>deg_cen</th>\n      <td>-0.001533</td>\n      <td>0.623230</td>\n      <td>1.000000</td>\n    </tr>\n  </tbody>\n</table>\n</div>"
     },
     "execution_count": 34,
     "metadata": {},
     "output_type": "execute_result"
    }
   ],
   "source": [
    "toxic_merged_centrality = toxic_merged.merge(user_ev, left_on=\"user_screen_name\", right_on=\"name\", how=\"left\")\n",
    "toxic_merged_centrality = toxic_merged_centrality[toxic_merged_centrality[\"ev\"].notna()]\n",
    "toxic_merged_centrality = toxic_merged_centrality.merge(user_deg, left_on=\"user_screen_name\", right_on=\"name\", how=\"left\")\n",
    "toxic_merged_centrality = toxic_merged_centrality[toxic_merged_centrality[\"deg_cen\"].notna()]\n",
    "toxic_merged_centrality.drop_duplicates(subset=[\"user_screen_name\"], inplace=True)\n",
    "toxic_merged_centrality[[\"user_screen_name\",\"dates\",\"ev\",\"deg_cen\"]].corr()"
   ],
   "metadata": {
    "collapsed": false,
    "pycharm": {
     "name": "#%%\n"
    }
   }
  },
  {
   "cell_type": "markdown",
   "source": [
    "# Toxicity and activities"
   ],
   "metadata": {
    "collapsed": false,
    "pycharm": {
     "name": "#%% md\n"
    }
   }
  },
  {
   "cell_type": "code",
   "execution_count": 6,
   "outputs": [
    {
     "name": "stdout",
     "output_type": "stream",
     "text": [
      "0.032902762\n",
      "0.07924343726228576\n",
      "...\n",
      "0.08447654\n",
      "0.13268079097035027\n",
      "...\n",
      "0.058130227\n",
      "0.10740150242028106\n",
      "...\n",
      "0.064523295\n",
      "0.12762508815160728\n"
     ]
    }
   ],
   "source": [
    "original = tweets_toxic[tweets_toxic[\"in_reply_to_screen_name\"].isna() & tweets_toxic[\"rt_created_at\"].isna() & tweets_toxic[\"quoted_status_id\"].isna()]\n",
    "reply = tweets_toxic[tweets_toxic[\"in_reply_to_user_id\"].notna() & tweets_toxic[\"quoted_status_id\"].isna()]\n",
    "retweet = tweets_toxic[tweets_toxic[\"rt_created_at\"].notna()]\n",
    "quote = tweets_toxic[tweets_toxic[\"quoted_status_id\"].notna() & tweets_toxic[\"rt_created_at\"].isna()]\n",
    "print(np.median(original[\"toxicity\"]))\n",
    "print(np.mean(original[\"toxicity\"]))\n",
    "print(\"...\")\n",
    "print(np.median(reply[\"toxicity\"]))\n",
    "print(np.mean(reply[\"toxicity\"]))\n",
    "print(\"...\")\n",
    "print(np.median(retweet[\"toxicity\"]))\n",
    "print(np.mean(retweet[\"toxicity\"]))\n",
    "print(\"...\")\n",
    "print(np.median(quote[\"toxicity\"]))\n",
    "print(np.mean(quote[\"toxicity\"]))"
   ],
   "metadata": {
    "collapsed": false,
    "pycharm": {
     "name": "#%%\n"
    }
   }
  },
  {
   "cell_type": "code",
   "execution_count": 21,
   "outputs": [
    {
     "data": {
      "text/plain": "matteosalvinimi    494\nrobersperanza      362\nLegaSalvini        280\nmatteorenzi        239\nGiuseppeConteIT    225\n                  ... \nTrapJaw159           1\n__valfoy             1\nmavelerick           1\nAnsa_Fvg             1\nsarabrgrx            1\nName: in_reply_to_screen_name, Length: 7093, dtype: int64"
     },
     "execution_count": 21,
     "metadata": {},
     "output_type": "execute_result"
    }
   ],
   "source": [
    "pd.Series(reply[reply[\"toxicity\"]>=0.5][\"in_reply_to_screen_name\"]).value_counts().sort_values(ascending=False)"
   ],
   "metadata": {
    "collapsed": false,
    "pycharm": {
     "name": "#%%\n"
    }
   }
  },
  {
   "cell_type": "code",
   "execution_count": 22,
   "outputs": [
    {
     "data": {
      "text/plain": "                                                      text  toxicity  \\\n702      matteosalvinimi avete vinto nelle campagne, do...  0.502328   \n4910     matteosalvinimi Tu sei uno sciacallo a scriver...  0.721206   \n11810    matteosalvinimi Ah, cazzo, ti sei ricordato ch...  0.808681   \n51564    matteosalvinimi fabrizio_sn E cosa cambia? Sie...  0.595890   \n52016    matteosalvinimi Qualcuno un cazzo... dillo il ...  0.502630   \n...                                                    ...       ...   \n3775399  matteosalvinimi Sei scemo o lo fai, se lo Sput...  0.536343   \n3817098  matteosalvinimi E' TUTTO UN PO' ALLA CAZZO DI ...  0.796961   \n3824977  matteosalvinimi La lega vota a favore dei vacc...  0.512446   \n3838942  matteosalvinimi continuate a fare distrazione ...  0.618262   \n3859914  matteosalvinimi Quando gli dirà che state schi...  0.585112   \n\n                          id user_screen_name urls hashtags  \\\n702      1222261848805978121  BIGPHARMAPAYSME   []       []   \n4910     1223164321318031360     DeejayDropsy   []       []   \n11810    1218435451767357441          OsconiL   []       []   \n51564    1312292065703858176     darioconte66   []       []   \n52016    1312258450861305856      fab83365605   []       []   \n...                      ...              ...  ...      ...   \n3775399  1392511596501639177    aldoalpegiani   []       []   \n3817098  1393162953910800388     paolosarti69   []       []   \n3824977  1393243867772821507         ferillo2   []       []   \n3838942  1393493466168975361     RobertoAli20   []       []   \n3859914  1393863087472750593  claudioocchipi2   []       []   \n\n                             created_at in_reply_to_screen_name rt_created_at  \\\n702      Tue Jan 28 20:55:07 +0000 2020         matteosalvinimi           NaN   \n4910     Fri Jan 31 08:41:14 +0000 2020         matteosalvinimi           NaN   \n11810    Sat Jan 18 07:30:23 +0000 2020         matteosalvinimi           NaN   \n51564    Sat Oct 03 07:23:04 +0000 2020         matteosalvinimi           NaN   \n52016    Sat Oct 03 05:09:29 +0000 2020         matteosalvinimi           NaN   \n...                                 ...                     ...           ...   \n3775399  Wed May 12 16:06:50 +0000 2021         matteosalvinimi           NaN   \n3817098  Fri May 14 11:15:06 +0000 2021         matteosalvinimi           NaN   \n3824977  Fri May 14 16:36:37 +0000 2021         matteosalvinimi           NaN   \n3838942  Sat May 15 09:08:26 +0000 2021         matteosalvinimi           NaN   \n3859914  Sun May 16 09:37:11 +0000 2021         matteosalvinimi           NaN   \n\n         quoted_status_id  in_reply_to_user_id        date  count_status  \\\n702                   NaN          270839361.0  2020-01-28            33   \n4910                  NaN          270839361.0  2020-01-31             1   \n11810                 NaN          270839361.0  2020-01-18             7   \n51564                 NaN          270839361.0  2020-10-03           302   \n52016                 NaN          270839361.0  2020-10-03            16   \n...                   ...                  ...         ...           ...   \n3775399               NaN          270839361.0  2021-05-12            23   \n3817098               NaN          270839361.0  2021-05-14           360   \n3824977               NaN          270839361.0  2021-05-14           488   \n3838942               NaN          270839361.0  2021-05-15           155   \n3859914               NaN          270839361.0  2021-05-16           400   \n\n            dates  \n702      0.069718  \n4910     0.089041  \n11810    0.076111  \n51564    0.044062  \n52016    0.044062  \n...           ...  \n3775399  0.043719  \n3817098  0.038912  \n3824977  0.038912  \n3838942  0.038912  \n3859914  0.053335  \n\n[494 rows x 14 columns]",
      "text/html": "<div>\n<style scoped>\n    .dataframe tbody tr th:only-of-type {\n        vertical-align: middle;\n    }\n\n    .dataframe tbody tr th {\n        vertical-align: top;\n    }\n\n    .dataframe thead th {\n        text-align: right;\n    }\n</style>\n<table border=\"1\" class=\"dataframe\">\n  <thead>\n    <tr style=\"text-align: right;\">\n      <th></th>\n      <th>text</th>\n      <th>toxicity</th>\n      <th>id</th>\n      <th>user_screen_name</th>\n      <th>urls</th>\n      <th>hashtags</th>\n      <th>created_at</th>\n      <th>in_reply_to_screen_name</th>\n      <th>rt_created_at</th>\n      <th>quoted_status_id</th>\n      <th>in_reply_to_user_id</th>\n      <th>date</th>\n      <th>count_status</th>\n      <th>dates</th>\n    </tr>\n  </thead>\n  <tbody>\n    <tr>\n      <th>702</th>\n      <td>matteosalvinimi avete vinto nelle campagne, do...</td>\n      <td>0.502328</td>\n      <td>1222261848805978121</td>\n      <td>BIGPHARMAPAYSME</td>\n      <td>[]</td>\n      <td>[]</td>\n      <td>Tue Jan 28 20:55:07 +0000 2020</td>\n      <td>matteosalvinimi</td>\n      <td>NaN</td>\n      <td>NaN</td>\n      <td>270839361.0</td>\n      <td>2020-01-28</td>\n      <td>33</td>\n      <td>0.069718</td>\n    </tr>\n    <tr>\n      <th>4910</th>\n      <td>matteosalvinimi Tu sei uno sciacallo a scriver...</td>\n      <td>0.721206</td>\n      <td>1223164321318031360</td>\n      <td>DeejayDropsy</td>\n      <td>[]</td>\n      <td>[]</td>\n      <td>Fri Jan 31 08:41:14 +0000 2020</td>\n      <td>matteosalvinimi</td>\n      <td>NaN</td>\n      <td>NaN</td>\n      <td>270839361.0</td>\n      <td>2020-01-31</td>\n      <td>1</td>\n      <td>0.089041</td>\n    </tr>\n    <tr>\n      <th>11810</th>\n      <td>matteosalvinimi Ah, cazzo, ti sei ricordato ch...</td>\n      <td>0.808681</td>\n      <td>1218435451767357441</td>\n      <td>OsconiL</td>\n      <td>[]</td>\n      <td>[]</td>\n      <td>Sat Jan 18 07:30:23 +0000 2020</td>\n      <td>matteosalvinimi</td>\n      <td>NaN</td>\n      <td>NaN</td>\n      <td>270839361.0</td>\n      <td>2020-01-18</td>\n      <td>7</td>\n      <td>0.076111</td>\n    </tr>\n    <tr>\n      <th>51564</th>\n      <td>matteosalvinimi fabrizio_sn E cosa cambia? Sie...</td>\n      <td>0.595890</td>\n      <td>1312292065703858176</td>\n      <td>darioconte66</td>\n      <td>[]</td>\n      <td>[]</td>\n      <td>Sat Oct 03 07:23:04 +0000 2020</td>\n      <td>matteosalvinimi</td>\n      <td>NaN</td>\n      <td>NaN</td>\n      <td>270839361.0</td>\n      <td>2020-10-03</td>\n      <td>302</td>\n      <td>0.044062</td>\n    </tr>\n    <tr>\n      <th>52016</th>\n      <td>matteosalvinimi Qualcuno un cazzo... dillo il ...</td>\n      <td>0.502630</td>\n      <td>1312258450861305856</td>\n      <td>fab83365605</td>\n      <td>[]</td>\n      <td>[]</td>\n      <td>Sat Oct 03 05:09:29 +0000 2020</td>\n      <td>matteosalvinimi</td>\n      <td>NaN</td>\n      <td>NaN</td>\n      <td>270839361.0</td>\n      <td>2020-10-03</td>\n      <td>16</td>\n      <td>0.044062</td>\n    </tr>\n    <tr>\n      <th>...</th>\n      <td>...</td>\n      <td>...</td>\n      <td>...</td>\n      <td>...</td>\n      <td>...</td>\n      <td>...</td>\n      <td>...</td>\n      <td>...</td>\n      <td>...</td>\n      <td>...</td>\n      <td>...</td>\n      <td>...</td>\n      <td>...</td>\n      <td>...</td>\n    </tr>\n    <tr>\n      <th>3775399</th>\n      <td>matteosalvinimi Sei scemo o lo fai, se lo Sput...</td>\n      <td>0.536343</td>\n      <td>1392511596501639177</td>\n      <td>aldoalpegiani</td>\n      <td>[]</td>\n      <td>[]</td>\n      <td>Wed May 12 16:06:50 +0000 2021</td>\n      <td>matteosalvinimi</td>\n      <td>NaN</td>\n      <td>NaN</td>\n      <td>270839361.0</td>\n      <td>2021-05-12</td>\n      <td>23</td>\n      <td>0.043719</td>\n    </tr>\n    <tr>\n      <th>3817098</th>\n      <td>matteosalvinimi E' TUTTO UN PO' ALLA CAZZO DI ...</td>\n      <td>0.796961</td>\n      <td>1393162953910800388</td>\n      <td>paolosarti69</td>\n      <td>[]</td>\n      <td>[]</td>\n      <td>Fri May 14 11:15:06 +0000 2021</td>\n      <td>matteosalvinimi</td>\n      <td>NaN</td>\n      <td>NaN</td>\n      <td>270839361.0</td>\n      <td>2021-05-14</td>\n      <td>360</td>\n      <td>0.038912</td>\n    </tr>\n    <tr>\n      <th>3824977</th>\n      <td>matteosalvinimi La lega vota a favore dei vacc...</td>\n      <td>0.512446</td>\n      <td>1393243867772821507</td>\n      <td>ferillo2</td>\n      <td>[]</td>\n      <td>[]</td>\n      <td>Fri May 14 16:36:37 +0000 2021</td>\n      <td>matteosalvinimi</td>\n      <td>NaN</td>\n      <td>NaN</td>\n      <td>270839361.0</td>\n      <td>2021-05-14</td>\n      <td>488</td>\n      <td>0.038912</td>\n    </tr>\n    <tr>\n      <th>3838942</th>\n      <td>matteosalvinimi continuate a fare distrazione ...</td>\n      <td>0.618262</td>\n      <td>1393493466168975361</td>\n      <td>RobertoAli20</td>\n      <td>[]</td>\n      <td>[]</td>\n      <td>Sat May 15 09:08:26 +0000 2021</td>\n      <td>matteosalvinimi</td>\n      <td>NaN</td>\n      <td>NaN</td>\n      <td>270839361.0</td>\n      <td>2021-05-15</td>\n      <td>155</td>\n      <td>0.038912</td>\n    </tr>\n    <tr>\n      <th>3859914</th>\n      <td>matteosalvinimi Quando gli dirà che state schi...</td>\n      <td>0.585112</td>\n      <td>1393863087472750593</td>\n      <td>claudioocchipi2</td>\n      <td>[]</td>\n      <td>[]</td>\n      <td>Sun May 16 09:37:11 +0000 2021</td>\n      <td>matteosalvinimi</td>\n      <td>NaN</td>\n      <td>NaN</td>\n      <td>270839361.0</td>\n      <td>2021-05-16</td>\n      <td>400</td>\n      <td>0.053335</td>\n    </tr>\n  </tbody>\n</table>\n<p>494 rows × 14 columns</p>\n</div>"
     },
     "execution_count": 22,
     "metadata": {},
     "output_type": "execute_result"
    }
   ],
   "source": [
    "reply[(reply[\"in_reply_to_screen_name\"] == \"matteosalvinimi\") & (reply[\"toxicity\"]>=0.5)]"
   ],
   "metadata": {
    "collapsed": false,
    "pycharm": {
     "name": "#%%\n"
    }
   }
  },
  {
   "cell_type": "markdown",
   "source": [
    "# Toxicity and Suspended"
   ],
   "metadata": {
    "collapsed": false,
    "pycharm": {
     "name": "#%% md\n"
    }
   }
  },
  {
   "cell_type": "code",
   "execution_count": 23,
   "outputs": [],
   "source": [
    "import glob\n",
    "df_suspended = pd.DataFrame()\n",
    "path_suspended = glob.glob(r\"C:\\Users\\gianl\\Desktop\\Gi\\Supsi\\Vaccines_Discussion_Italy\\Italian\\script_directory_output\\suspended_users\\out*.csv\")\n",
    "for i in path_suspended:\n",
    "    temp = pd.read_csv(i, lineterminator=\"\\n\", low_memory=False, encoding=\"utf-8\")\n",
    "    df_suspended = pd.concat([df_suspended, temp], ignore_index=True)"
   ],
   "metadata": {
    "collapsed": false,
    "pycharm": {
     "name": "#%%\n"
    }
   }
  },
  {
   "cell_type": "code",
   "execution_count": 24,
   "outputs": [
    {
     "data": {
      "text/plain": "                  name                                        status\n0       marzia38580873  [{'code': 50, 'message': 'User not found.'}]\n1           Ivan__soli                                            ok\n2             pat09_04  [{'code': 50, 'message': 'User not found.'}]\n3          claudeger55                                            ok\n4          ennioflyano                                            ok\n...                ...                                           ...\n839459   CollectifVrai                                            ok\n839460    Mche10024327                                            ok\n839461   albertotozzi3  [{'code': 50, 'message': 'User not found.'}]\n839462  HanKer09062021                                            ok\n839463     gaha_matteo                                            ok\n\n[305259 rows x 2 columns]",
      "text/html": "<div>\n<style scoped>\n    .dataframe tbody tr th:only-of-type {\n        vertical-align: middle;\n    }\n\n    .dataframe tbody tr th {\n        vertical-align: top;\n    }\n\n    .dataframe thead th {\n        text-align: right;\n    }\n</style>\n<table border=\"1\" class=\"dataframe\">\n  <thead>\n    <tr style=\"text-align: right;\">\n      <th></th>\n      <th>name</th>\n      <th>status</th>\n    </tr>\n  </thead>\n  <tbody>\n    <tr>\n      <th>0</th>\n      <td>marzia38580873</td>\n      <td>[{'code': 50, 'message': 'User not found.'}]</td>\n    </tr>\n    <tr>\n      <th>1</th>\n      <td>Ivan__soli</td>\n      <td>ok</td>\n    </tr>\n    <tr>\n      <th>2</th>\n      <td>pat09_04</td>\n      <td>[{'code': 50, 'message': 'User not found.'}]</td>\n    </tr>\n    <tr>\n      <th>3</th>\n      <td>claudeger55</td>\n      <td>ok</td>\n    </tr>\n    <tr>\n      <th>4</th>\n      <td>ennioflyano</td>\n      <td>ok</td>\n    </tr>\n    <tr>\n      <th>...</th>\n      <td>...</td>\n      <td>...</td>\n    </tr>\n    <tr>\n      <th>839459</th>\n      <td>CollectifVrai</td>\n      <td>ok</td>\n    </tr>\n    <tr>\n      <th>839460</th>\n      <td>Mche10024327</td>\n      <td>ok</td>\n    </tr>\n    <tr>\n      <th>839461</th>\n      <td>albertotozzi3</td>\n      <td>[{'code': 50, 'message': 'User not found.'}]</td>\n    </tr>\n    <tr>\n      <th>839462</th>\n      <td>HanKer09062021</td>\n      <td>ok</td>\n    </tr>\n    <tr>\n      <th>839463</th>\n      <td>gaha_matteo</td>\n      <td>ok</td>\n    </tr>\n  </tbody>\n</table>\n<p>305259 rows × 2 columns</p>\n</div>"
     },
     "execution_count": 24,
     "metadata": {},
     "output_type": "execute_result"
    }
   ],
   "source": [
    "df_suspended.drop_duplicates(subset=[\"name\"], inplace=True)\n",
    "df_suspended"
   ],
   "metadata": {
    "collapsed": false,
    "pycharm": {
     "name": "#%%\n"
    }
   }
  },
  {
   "cell_type": "code",
   "execution_count": 25,
   "outputs": [],
   "source": [
    "issue = df_suspended[df_suspended[\"status\"].str.contains(\"code\")]"
   ],
   "metadata": {
    "collapsed": false,
    "pycharm": {
     "name": "#%%\n"
    }
   }
  },
  {
   "cell_type": "code",
   "execution_count": 26,
   "outputs": [],
   "source": [
    "suspended_conspiracy = toxic_merged_conspiracy[toxic_merged_conspiracy[\"user_screen_name\"].isin(issue[\"name\"])]"
   ],
   "metadata": {
    "collapsed": false,
    "pycharm": {
     "name": "#%%\n"
    }
   }
  },
  {
   "cell_type": "code",
   "execution_count": 27,
   "outputs": [
    {
     "data": {
      "text/plain": "0.6009041446797386"
     },
     "execution_count": 27,
     "metadata": {},
     "output_type": "execute_result"
    }
   ],
   "source": [
    "np.mean(suspended_conspiracy[\"toxicity\"])"
   ],
   "metadata": {
    "collapsed": false,
    "pycharm": {
     "name": "#%%\n"
    }
   }
  },
  {
   "cell_type": "code",
   "execution_count": 28,
   "outputs": [
    {
     "data": {
      "text/plain": "0.57816684"
     },
     "execution_count": 28,
     "metadata": {},
     "output_type": "execute_result"
    }
   ],
   "source": [
    "np.median(suspended_conspiracy[\"toxicity\"])"
   ],
   "metadata": {
    "collapsed": false,
    "pycharm": {
     "name": "#%%\n"
    }
   }
  },
  {
   "cell_type": "code",
   "execution_count": 30,
   "outputs": [
    {
     "name": "stdout",
     "output_type": "stream",
     "text": [
      "0.4344790301441678\n",
      "0.48\n"
     ]
    }
   ],
   "source": [
    "print(np.mean(suspended_conspiracy[\"conspiracy_score\"]))\n",
    "print(np.nanmedian(suspended_conspiracy[\"conspiracy_score\"]))"
   ],
   "metadata": {
    "collapsed": false,
    "pycharm": {
     "name": "#%%\n"
    }
   }
  },
  {
   "cell_type": "code",
   "execution_count": 60,
   "outputs": [
    {
     "data": {
      "text/plain": "2       4810\n0       3091\n4       2490\n3       1665\n34       919\n        ... \n3113       1\n3158       1\n3013       1\n2172       1\n165        1\nName: community, Length: 697, dtype: int64"
     },
     "execution_count": 60,
     "metadata": {},
     "output_type": "execute_result"
    }
   ],
   "source": [
    "pd.Series(communities[communities[\"name\"].isin(issue[\"name\"])][\"community\"]).value_counts().sort_values(ascending=False) #2 influ, 0 good, 4 bad, 3 paper"
   ],
   "metadata": {
    "collapsed": false,
    "pycharm": {
     "name": "#%%\n"
    }
   }
  },
  {
   "cell_type": "code",
   "execution_count": 64,
   "outputs": [
    {
     "name": "stdout",
     "output_type": "stream",
     "text": [
      "15827\n",
      "12056\n"
     ]
    },
    {
     "data": {
      "text/plain": "52.97710594542339"
     },
     "execution_count": 64,
     "metadata": {},
     "output_type": "execute_result"
    }
   ],
   "source": [
    "print(pd.Series(communities[communities[\"name\"].isin(issue[\"name\"])][\"community\"]).value_counts().sort_values(ascending=False).sum()) #2 influ, 0 good, 4 bad, 3 paper\n",
    "print(pd.Series(communities[communities[\"name\"].isin(issue[\"name\"])][\"community\"]).value_counts().sort_values(ascending=False)[:4].sum()) #2 influ, 0 good, 4 bad, 3 paper\n",
    "(12056 / 22757)*100"
   ],
   "metadata": {
    "collapsed": false,
    "pycharm": {
     "name": "#%%\n"
    }
   }
  },
  {
   "cell_type": "code",
   "execution_count": null,
   "outputs": [],
   "source": [],
   "metadata": {
    "collapsed": false,
    "pycharm": {
     "name": "#%%\n"
    }
   }
  }
 ],
 "metadata": {
  "kernelspec": {
   "display_name": "Python 3 (ipykernel)",
   "language": "python",
   "name": "python3"
  },
  "language_info": {
   "codemirror_mode": {
    "name": "ipython",
    "version": 3
   },
   "file_extension": ".py",
   "mimetype": "text/x-python",
   "name": "python",
   "nbconvert_exporter": "python",
   "pygments_lexer": "ipython3",
   "version": "3.8.11"
  }
 },
 "nbformat": 4,
 "nbformat_minor": 5
}