{
 "cells": [
  {
   "cell_type": "code",
   "execution_count": 3,
   "outputs": [],
   "source": [
    "import numpy as np\n",
    "import pandas as pd\n",
    "import matplotlib.pyplot as plt\n",
    "import matplotlib.dates as mdates\n",
    "import seaborn as sns\n",
    "import sys\n",
    "from tqdm.notebook import tqdm\n",
    "\n",
    "windows_os = False\n",
    "\n",
    "if windows_os:\n",
    "    base_path = \"C:/Users\"\n",
    "else:\n",
    "    base_path = r\"/media/gianlucanogara/Windows/Users\"\n",
    "\n",
    "path_utils = base_path + \"/gianluca.nogara/Desktop/Repo/Vaccines_Discussion_Italy/tweet_utils\"\n",
    "sys.path.append(path_utils)\n",
    "import utils\n",
    "import warnings\n",
    "import glob\n",
    "warnings.filterwarnings(\"ignore\")"
   ],
   "metadata": {
    "collapsed": false,
    "pycharm": {
     "name": "#%%\n"
    }
   }
  },
  {
   "cell_type": "code",
   "execution_count": null,
   "outputs": [],
   "source": [
    "tweets = pd.read_csv(base_path + r\"/gianluca.nogara/Desktop/Repo/Vaccines_Discussion_Italy/Italian/files/tweets/tweets.csv\",\n",
    "                     lineterminator=\"\\n\", low_memory=False, encoding='utf-8')\n",
    "tweets"
   ],
   "metadata": {
    "collapsed": false,
    "pycharm": {
     "name": "#%%\n"
    }
   }
  },
  {
   "cell_type": "code",
   "execution_count": null,
   "outputs": [],
   "source": [
    "toxicity = pd.DataFrame()\n",
    "for file in glob.glob(base_path + r\"/gianluca.nogara/switchdrive/Project VaccinItaly/Sentiment/per*.csv\"):\n",
    "    toxicity = pd.concat([toxicity, pd.read_csv(file, low_memory=False, encoding='utf-8', lineterminator='\\n')])\n",
    "df_clean = pd.read_csv(base_path + \"/gianluca.nogara/switchdrive/Project VaccinItaly/Sentiment/df_cleaned.csv\",\n",
    "                       lineterminator=\"\\n\", low_memory=False, encoding=\"utf-8\")\n"
   ],
   "metadata": {
    "collapsed": false,
    "pycharm": {
     "name": "#%%\n"
    }
   }
  },
  {
   "cell_type": "code",
   "execution_count": null,
   "outputs": [],
   "source": [
    "toxicity = toxicity.merge(df_clean, on=\"text\", how=\"left\")\n",
    "toxicity = toxicity[[\"SEVERE_TOXICITY\", \"LIKELY_TO_REJECT\", \"INSULT\", \"PROFANITY\", \"THREAT\", \"id\"]]"
   ],
   "metadata": {
    "collapsed": false,
    "pycharm": {
     "name": "#%%\n"
    }
   }
  },
  {
   "cell_type": "code",
   "execution_count": null,
   "outputs": [],
   "source": [
    "tweets_toxic = toxicity.merge(tweets, how=\"left\", on=\"id\")\n",
    "tweets_toxic"
   ],
   "metadata": {
    "collapsed": false,
    "pycharm": {
     "name": "#%%\n"
    }
   }
  },
  {
   "cell_type": "code",
   "execution_count": null,
   "outputs": [],
   "source": [
    "dates = []\n",
    "for i in tqdm(tweets_toxic.created_at):\n",
    "    dates.append(utils.process_datetime(i))"
   ],
   "metadata": {
    "collapsed": false,
    "pycharm": {
     "name": "#%%\n"
    }
   }
  },
  {
   "cell_type": "code",
   "execution_count": null,
   "outputs": [],
   "source": [
    "tweets_toxic['date'] = dates\n",
    "count = list(tweets_toxic.date.value_counts().values)\n",
    "date_count = list(tweets_toxic.date.value_counts().keys())"
   ],
   "metadata": {
    "collapsed": false,
    "pycharm": {
     "name": "#%%\n"
    }
   }
  },
  {
   "cell_type": "code",
   "execution_count": null,
   "outputs": [],
   "source": [
    "df_count = pd.DataFrame(list(zip(date_count, count)), columns=[\"date\", \"count_status\"])"
   ],
   "metadata": {
    "collapsed": false,
    "pycharm": {
     "name": "#%%\n"
    }
   }
  },
  {
   "cell_type": "code",
   "execution_count": null,
   "outputs": [],
   "source": [
    "tweets_toxic = tweets_toxic.merge(df_count, on=\"date\", how=\"left\")\n",
    "# tweets_toxic"
   ],
   "metadata": {
    "collapsed": false,
    "pycharm": {
     "name": "#%%\n"
    }
   }
  },
  {
   "cell_type": "code",
   "execution_count": null,
   "outputs": [],
   "source": [
    "tweets_toxic['dates']= tweets_toxic[[\"SEVERE_TOXICITY\",\"date\"]].groupby('date').transform('median')\n",
    "res_for_plot = tweets_toxic.drop_duplicates(subset='date')\n",
    "res_for_plot.sort_values(by=[\"date\"], inplace=True)"
   ],
   "metadata": {
    "collapsed": false,
    "pycharm": {
     "name": "#%%\n"
    }
   }
  },
  {
   "cell_type": "code",
   "execution_count": null,
   "outputs": [],
   "source": [
    "data = res_for_plot[[\"date\",\"dates\",\"count_status\"]]\n",
    "data['rolling_avg'] = data.dates.rolling(14).median()"
   ],
   "metadata": {
    "collapsed": false,
    "pycharm": {
     "name": "#%%\n"
    }
   }
  },
  {
   "cell_type": "code",
   "execution_count": null,
   "outputs": [],
   "source": [
    "data['count_rolling_avg'] = data.count_status.rolling(14).median()"
   ],
   "metadata": {
    "collapsed": false,
    "pycharm": {
     "name": "#%%\n"
    }
   }
  },
  {
   "cell_type": "code",
   "execution_count": null,
   "outputs": [],
   "source": [
    "labels =  []\n",
    "for i in tqdm(res_for_plot[\"created_at\"]):\n",
    "    x = i.split(\" \")\n",
    "    month = x[1]\n",
    "    day = x[2]\n",
    "    year = x[5][2:]\n",
    "    value = day + \" \" + month + \" '\" + year\n",
    "    labels.append(value)"
   ],
   "metadata": {
    "collapsed": false,
    "pycharm": {
     "name": "#%%\n"
    }
   }
  },
  {
   "cell_type": "code",
   "execution_count": null,
   "outputs": [],
   "source": [
    "data"
   ],
   "metadata": {
    "collapsed": false,
    "pycharm": {
     "name": "#%%\n"
    }
   }
  },
  {
   "cell_type": "code",
   "execution_count": null,
   "outputs": [],
   "source": [
    "np.sum(data[\"count_status\"])"
   ],
   "metadata": {
    "collapsed": false,
    "pycharm": {
     "name": "#%%\n"
    }
   }
  },
  {
   "cell_type": "code",
   "execution_count": null,
   "outputs": [],
   "source": [
    "fig, ax = plt.subplots(figsize=(25, 10))\n",
    "plt.xticks(rotation=0, fontsize = 18)\n",
    "plt.yticks(fontsize = 18)\n",
    "line_1 = ax.plot(data[\"date\"], data[\"rolling_avg\"], label=\"Median value of severe toxicity\")\n",
    "# sns.lineplot(x = 'date',\n",
    "#              y = 'rolling_avg',\n",
    "#              data = data)\n",
    "             # label = 'Rolling avg')\n",
    "\n",
    "ax.set_xlabel('Days', fontsize=18)\n",
    "ax.set_ylabel('Median toxicity', fontsize=18)\n",
    "\n",
    "# sns.lineplot(x = 'date',\n",
    "#              y = 'count_rolling_avg',\n",
    "#              data = data)\n",
    "ax2 = ax.twinx()\n",
    "\n",
    "line_2 = ax2.plot(data[\"date\"], data[\"count_rolling_avg\"], color=\"r\", label=\"Number of tweets\")\n",
    "ax2.set_ylabel('Tweets count', fontsize=18)\n",
    "# fig.tight_layout()\n",
    "lns = line_1+line_2\n",
    "labs = [l.get_label() for l in lns]\n",
    "color = \"grey\"\n",
    "plt.axvline(x=\"2020-03-10\", color=color) # lockdown (fase 1, 9)\n",
    "plt.axvline(x=\"2020-05-04\", color=color) # allentamento misure (fase 2, 4)\n",
    "plt.axvline(x=\"2020-06-15\", color=color) # convivenza (fase 3)\n",
    "plt.axvline(x=\"2020-08-11\", color=color) # nuove restrizioni (10)\n",
    "plt.axvline(x=\"2020-09-06\", color=color) # rientro scuole (6)\n",
    "plt.axvline(x=\"2020-11-06\", color=color) # coprifuoco e zone a colori (6)\n",
    "plt.axvline(x=\"2020-12-21\", color=color) # ok aifa per vaccino e somministrazioni\n",
    "plt.axvline(x=\"2021-03-15\", color=color) # Interruzione AZ\n",
    "\n",
    "plt.yticks(fontsize = 18)\n",
    "pos = list(data[\"date\"])\n",
    "lab = labels\n",
    "plt.xticks(pos, lab)\n",
    "ax.xaxis.set_major_locator(mdates.DayLocator(interval=28))\n",
    "ax.get_xaxis().set_visible(True)\n",
    "ax.legend(lns, labs, loc=\"upper right\", prop={'size': 18})\n",
    "plt.show()"
   ],
   "metadata": {
    "collapsed": false,
    "pycharm": {
     "name": "#%%\n"
    }
   }
  },
  {
   "cell_type": "code",
   "execution_count": null,
   "outputs": [],
   "source": [
    "fig, ax = plt.subplots(figsize=(25, 10))\n",
    "plt.xticks(rotation=0, fontsize = 18)\n",
    "plt.yticks(fontsize = 18)\n",
    "line_1 = ax.plot(data[\"date\"], data[\"rolling_avg\"], label=\"Median value of toxicity\")\n",
    "# sns.lineplot(x = 'date',\n",
    "#              y = 'rolling_avg',\n",
    "#              data = data)\n",
    "             # label = 'Rolling avg')\n",
    "\n",
    "ax.set_xlabel('Days', fontsize=18)\n",
    "ax.set_ylabel('Median toxicity', fontsize=18)\n",
    "\n",
    "# sns.lineplot(x = 'date',\n",
    "#              y = 'count_rolling_avg',\n",
    "#              data = data)\n",
    "ax2 = ax.twinx()\n",
    "\n",
    "line_2 = ax2.plot(data[\"date\"], data[\"count_rolling_avg\"], color=\"r\", label=\"Number of tweets\")\n",
    "ax2.set_ylabel('Tweets count', fontsize=18)\n",
    "# fig.tight_layout()\n",
    "lns = line_1+line_2\n",
    "labs = [l.get_label() for l in lns]\n",
    "color = \"grey\"\n",
    "plt.axvline(x=\"2020-03-10\", color=color) # lockdown (fase 1, 9)\n",
    "plt.axvline(x=\"2020-05-04\", color=color) # allentamento misure (fase 2, 4)\n",
    "plt.axvline(x=\"2020-06-15\", color=color) # convivenza (fase 3)\n",
    "plt.axvline(x=\"2020-08-11\", color=color) # nuove restrizioni (10)\n",
    "plt.axvline(x=\"2020-09-06\", color=color) # rientro scuole (6)\n",
    "plt.axvline(x=\"2020-11-06\", color=color) # coprifuoco e zone a colori (6)\n",
    "plt.axvline(x=\"2020-12-21\", color=color) # ok aifa per vaccino e somministrazioni\n",
    "plt.axvline(x=\"2021-03-15\", color=color) # Interruzione AZ\n",
    "\n",
    "plt.yticks(fontsize = 18)\n",
    "pos = list(data[\"date\"])\n",
    "lab = labels\n",
    "plt.xticks(pos, lab)\n",
    "ax.xaxis.set_major_locator(mdates.DayLocator(interval=25))\n",
    "ax.get_xaxis().set_visible(False)\n",
    "ax.legend(lns, labs, loc=\"upper right\", prop={'size': 18})\n",
    "plt.show()"
   ],
   "metadata": {
    "collapsed": false,
    "pycharm": {
     "name": "#%%\n"
    }
   }
  },
  {
   "cell_type": "code",
   "execution_count": null,
   "outputs": [],
   "source": [
    "# check correlazioni\n",
    "data[data[\"date\"]<=\"2020-06-10\"].corr()"
   ],
   "metadata": {
    "collapsed": false,
    "pycharm": {
     "name": "#%%\n"
    }
   }
  },
  {
   "cell_type": "code",
   "execution_count": null,
   "outputs": [],
   "source": [
    "pos"
   ],
   "metadata": {
    "collapsed": false,
    "pycharm": {
     "name": "#%%\n"
    }
   }
  },
  {
   "cell_type": "code",
   "execution_count": null,
   "outputs": [],
   "source": [
    "# split tweets:\n",
    "primi_casi = \"2020-02-17\"\n",
    "fase_1 = \"2020-03-9\"\n",
    "fase_2 = \"2020-05-4\"\n",
    "fase_3 = \"2020-06-15\"\n",
    "nuove_restizioni = \"2020-08-12\"\n",
    "rientro_presenza = \"2020-09-6\" #scuole in presenza\n",
    "zone_colori = \"2020-11-10\"\n",
    "vaccino = \"2020-12-21\"\n",
    "az_interruzione = \"2021-03-15\"\n",
    "allentamento_misure_gp = \"2021-05-26\""
   ],
   "metadata": {
    "collapsed": false,
    "pycharm": {
     "name": "#%%\n"
    }
   }
  },
  {
   "cell_type": "code",
   "execution_count": null,
   "outputs": [],
   "source": [
    "tweets_toxic.head()"
   ],
   "metadata": {
    "collapsed": false,
    "pycharm": {
     "name": "#%%\n"
    }
   }
  },
  {
   "cell_type": "code",
   "execution_count": null,
   "outputs": [],
   "source": [
    "tweets_toxic = tweets_toxic.set_index(tweets_toxic['date'])\n",
    "tweets_toxic = tweets_toxic.sort_index()\n",
    "tweets_toxic.head()"
   ],
   "metadata": {
    "collapsed": false,
    "pycharm": {
     "name": "#%%\n"
    }
   }
  },
  {
   "cell_type": "code",
   "execution_count": null,
   "outputs": [],
   "source": [
    "inizio_primi_casi_df = tweets_toxic[:primi_casi]\n",
    "primi_casi_fase_1_df = tweets_toxic[primi_casi:fase_1]\n",
    "fase_1_fase_2_df = tweets_toxic[fase_1:fase_2]\n",
    "fase_2_fase_3_df = tweets_toxic[fase_2:fase_3]\n",
    "fase_3_restrizioni_df = tweets_toxic[fase_3:nuove_restizioni]\n",
    "restrizioni_presenza_df = tweets_toxic[nuove_restizioni:rientro_presenza]\n",
    "presenza_colori_df = tweets_toxic[rientro_presenza:zone_colori]\n",
    "colori_vaccino_df = tweets_toxic[zone_colori:vaccino]\n",
    "vaccino_az_df = tweets_toxic[vaccino:az_interruzione]\n",
    "az_allentamento_df = tweets_toxic[az_interruzione:allentamento_misure_gp]\n",
    "# gp_in_poi_df = tweets_toxic[allentamento_misure_gp:]\n",
    "lst = [inizio_primi_casi_df, primi_casi_fase_1_df, fase_1_fase_2_df, fase_2_fase_3_df, fase_3_restrizioni_df,\n",
    "       restrizioni_presenza_df, presenza_colori_df, colori_vaccino_df, vaccino_az_df, az_allentamento_df]\n",
    "names = [\"fino primi casi\", \"primi casi - fase 1\", \"fase 1 - fase 2\", \"fase 2 - fase 3\", \"fase 3 - restrizioni\",\n",
    "         \"restrizioni - presenza\", \"presenza - colori\", \"colori - vaccino\", \"vaccino - az\", \"az - allentamenti\"]"
   ],
   "metadata": {
    "collapsed": false,
    "pycharm": {
     "name": "#%%\n"
    }
   }
  },
  {
   "cell_type": "code",
   "execution_count": null,
   "outputs": [],
   "source": [
    "for i in range(len(lst)):\n",
    "    print(f\"{names[i]} - {np.nanmedian(lst[i]['SEVERE_TOXICITY'])}, len: {len(lst[i])}\")"
   ],
   "metadata": {
    "collapsed": false,
    "pycharm": {
     "name": "#%%\n"
    }
   }
  },
  {
   "cell_type": "code",
   "execution_count": null,
   "outputs": [],
   "source": [
    "tweets_toxic_sas = tweets_toxic[tweets_toxic[\"user_screen_name\"]==\"TommyBrain\"]\n",
    "# inizio_primi_casi_df = tweets_toxic_sas[:primi_casi]\n",
    "primi_casi_fase_1_df = tweets_toxic_sas[primi_casi:fase_1]\n",
    "fase_1_fase_2_df = tweets_toxic_sas[fase_1:fase_2]\n",
    "fase_2_fase_3_df = tweets_toxic_sas[fase_2:fase_3]\n",
    "fase_3_restrizioni_df = tweets_toxic_sas[fase_3:nuove_restizioni]\n",
    "restrizioni_presenza_df = tweets_toxic_sas[nuove_restizioni:rientro_presenza]\n",
    "presenza_colori_df = tweets_toxic_sas[rientro_presenza:zone_colori]\n",
    "colori_vaccino_df = tweets_toxic_sas[zone_colori:vaccino]\n",
    "vaccino_az_df = tweets_toxic_sas[vaccino:az_interruzione]\n",
    "az_allentamento_df = tweets_toxic_sas[az_interruzione:allentamento_misure_gp]\n",
    "# gp_in_poi_df = tweets_toxic[allentamento_misure_gp:]\n",
    "lst = [inizio_primi_casi_df, primi_casi_fase_1_df, fase_1_fase_2_df, fase_2_fase_3_df, fase_3_restrizioni_df,\n",
    "       restrizioni_presenza_df, presenza_colori_df, colori_vaccino_df, vaccino_az_df, az_allentamento_df]\n",
    "names = [\"fino primi casi\", \"primi casi - fase 1\", \"fase 1 - fase 2\", \"fase 2 - fase 3\", \"fase 3 - restrizioni\",\n",
    "         \"restrizioni - presenza\", \"presenza - colori\", \"colori - vaccino\", \"vaccino - az\", \"az - allentamenti\"]"
   ],
   "metadata": {
    "collapsed": false,
    "pycharm": {
     "name": "#%%\n"
    }
   }
  },
  {
   "cell_type": "code",
   "execution_count": null,
   "outputs": [],
   "source": [
    "tweets_toxic_min = tweets_toxic[tweets_toxic[\"user_screen_name\"]==\"MinervaMcGrani1\"]\n",
    "inizio_primi_casi_df = tweets_toxic_min[:primi_casi]\n",
    "primi_casi_fase_1_df = tweets_toxic_min[primi_casi:fase_1]\n",
    "fase_1_fase_2_df = tweets_toxic_min[fase_1:fase_2]\n",
    "fase_2_fase_3_df = tweets_toxic_min[fase_2:fase_3]\n",
    "fase_3_restrizioni_df = tweets_toxic_min[fase_3:nuove_restizioni]\n",
    "restrizioni_presenza_df = tweets_toxic_min[nuove_restizioni:rientro_presenza]\n",
    "presenza_colori_df = tweets_toxic_min[rientro_presenza:zone_colori]\n",
    "colori_vaccino_df = tweets_toxic_min[zone_colori:vaccino]\n",
    "vaccino_az_df = tweets_toxic_min[vaccino:az_interruzione]\n",
    "az_allentamento_df = tweets_toxic_min[az_interruzione:allentamento_misure_gp]\n",
    "# gp_in_poi_df = tweets_toxic[allentamento_misure_gp:]\n",
    "lst = [inizio_primi_casi_df, primi_casi_fase_1_df, fase_1_fase_2_df, fase_2_fase_3_df, fase_3_restrizioni_df,\n",
    "       restrizioni_presenza_df, presenza_colori_df, colori_vaccino_df, vaccino_az_df, az_allentamento_df]\n",
    "names = [\"fino primi casi\", \"primi casi - fase 1\", \"fase 1 - fase 2\", \"fase 2 - fase 3\", \"fase 3 - restrizioni\",\n",
    "         \"restrizioni - presenza\", \"presenza - colori\", \"colori - vaccino\", \"vaccino - az\", \"az - allentamenti\"]"
   ],
   "metadata": {
    "collapsed": false,
    "pycharm": {
     "name": "#%%\n"
    }
   }
  },
  {
   "cell_type": "code",
   "execution_count": null,
   "outputs": [],
   "source": [
    "# for i in range(len(lst)):\n",
    "#     x = utils.split(lst[i])\n",
    "#     labels = list(x.keys())\n",
    "#     values = list(x.values())\n",
    "#     utils.print_pie_chart4(f\"Attività {names[i]}\", labels, values)\n",
    "#     x = utils.extract_domain_list(lst[i])\n",
    "#     urls = []\n",
    "#     lst_not_plot = [\"dlvr.it\", \"twitter.com\", \"tinyurl.com\", \"trib.al\", \"bit.ly\", \"ow.ly\"]\n",
    "#     cont = 0\n",
    "#     for v in x:\n",
    "#         if v != []:\n",
    "#             for j in v:\n",
    "#                 if (j not in lst_not_plot):\n",
    "#                     if \"youtu.be\" in j:\n",
    "#                         j = \"youtube.com\"\n",
    "#                     urls.append(j)\n",
    "#     val = pd.Series(urls).value_counts().sort_values(ascending=False)\n",
    "#     fig = plt.figure()\n",
    "#     ax = val[:15].plot(kind='barh', color='red')\n",
    "#     ax.set_title(f'Most URLS shared during {names[i]}')\n",
    "#     ax.invert_yaxis()\n",
    "#     plt.show()"
   ],
   "metadata": {
    "collapsed": false,
    "pycharm": {
     "name": "#%%\n"
    }
   }
  },
  {
   "cell_type": "code",
   "execution_count": null,
   "outputs": [],
   "source": [
    "for i in range(len(lst)):\n",
    "    print(f\"{names[i]} - {np.nanmedian(lst[i]['SEVERE_TOXICITY'])}, len: {len(lst[i])}\")"
   ],
   "metadata": {
    "collapsed": false,
    "pycharm": {
     "name": "#%%\n"
    }
   }
  },
  {
   "cell_type": "code",
   "execution_count": null,
   "outputs": [],
   "source": [],
   "metadata": {
    "collapsed": false,
    "pycharm": {
     "name": "#%%\n"
    }
   }
  },
  {
   "cell_type": "code",
   "execution_count": null,
   "outputs": [],
   "source": [
    "fig, ax = plt.subplots(figsize=(25, 10))\n",
    "plt.xticks(rotation=45, fontsize = 15)\n",
    "plt.yticks(fontsize = 16)\n",
    "line_1 = ax.plot(data[\"date\"], data[\"rolling_avg\"], label=\"Median value of toxicity\")\n",
    "# sns.lineplot(x = 'date',\n",
    "#              y = 'rolling_avg',\n",
    "#              data = data)\n",
    "             # label = 'Rolling avg')\n",
    "\n",
    "ax.set_xlabel('Days', fontsize=18)\n",
    "ax.set_ylabel('Median toxicity', fontsize=18)\n",
    "\n",
    "# sns.lineplot(x = 'date',\n",
    "#              y = 'count_rolling_avg',\n",
    "#              data = data)\n",
    "ax2 = ax.twinx()\n",
    "\n",
    "line_2 = ax2.plot(data[\"date\"], data[\"count_rolling_avg\"], color=\"r\", label=\"Number of tweets\")\n",
    "ax2.set_ylabel('Tweets count', fontsize=18)\n",
    "# fig.tight_layout()\n",
    "lns = line_1+line_2\n",
    "labs = [l.get_label() for l in lns]\n",
    "color = \"grey\"\n",
    "plt.axvline(x=\"2020-03-10\", color=color) # lockdown (fase 1, 9)\n",
    "plt.axvline(x=\"2020-05-04\", color=color) # allentamento misure (fase 2, 4)\n",
    "plt.axvline(x=\"2020-06-15\", color=color) # convivenza (fase 3)\n",
    "plt.axvline(x=\"2020-08-11\", color=color) # nuove restrizioni (10)\n",
    "plt.axvline(x=\"2020-09-06\", color=color) # rientro scuole (6)\n",
    "plt.axvline(x=\"2020-11-06\", color=color) # coprifuoco e zone a colori (6)\n",
    "plt.axvline(x=\"2020-12-21\", color=color) # ok aifa per vaccino e somministrazioni\n",
    "plt.axvline(x=\"2021-03-15\", color=color) # Interruzione AZ\n",
    "\n",
    "plt.yticks(fontsize = 16)\n",
    "pos = list(data[\"date\"])\n",
    "lab = labels\n",
    "plt.xticks(pos, lab)\n",
    "ax.xaxis.set_major_locator(mdates.DayLocator(interval=14))\n",
    "ax.legend(lns, labs, loc=2, prop={'size': 15})\n",
    "plt.show()"
   ],
   "metadata": {
    "collapsed": false,
    "pycharm": {
     "name": "#%%\n"
    }
   }
  },
  {
   "cell_type": "code",
   "execution_count": null,
   "outputs": [],
   "source": [
    "tt = tweets_toxic[tweets_toxic[\"user_screen_name\"]==\"TommyBrain\"]\n",
    "tt.reset_index(drop=True, inplace=True)\n",
    "tt['dates'] = tt[[\"SEVERE_TOXICITY\", \"date\"]].groupby('date').transform('median')\n",
    "res_for_plot = tt.drop_duplicates(subset='date')\n",
    "res_for_plot.sort_values(by=[\"date\"], inplace=True)\n",
    "labels = []\n",
    "for i in res_for_plot[\"created_at\"]:\n",
    "    x = i.split(\" \")\n",
    "    month = x[1]\n",
    "    day = x[2]\n",
    "    year = x[5][2:]\n",
    "    value = day + \" \" + month + \" '\" + year\n",
    "    labels.append(value)\n",
    "data = res_for_plot[[\"date\", \"dates\"]]\n",
    "data['rolling_avg'] = data.dates.rolling(14).median()\n",
    "fig, ax = plt.subplots(figsize=(25, 10))\n",
    "# sns.lineplot( x = 'date',\n",
    "#              y = 'dates',\n",
    "#              data = data,\n",
    "#              label = 'Toxic median')\n",
    "sns.lineplot(x='date',\n",
    "             y='rolling_avg',\n",
    "             data=data,\n",
    "             label = 'user_si')\n",
    "sns.lineplot(x='date',\n",
    "             y='rolling_avg',\n",
    "             data=data2,\n",
    "             label = 'user_no')\n",
    "\n",
    "ax.set_xlabel('Days', fontsize=18)\n",
    "ax.set_ylabel('Median toxicity', fontsize=18)\n",
    "plt.yticks(fontsize = 18)\n",
    "\n",
    "pos = list(data[\"date\"])\n",
    "lab = labels\n",
    "plt.xticks(pos, lab)\n",
    "plt.xticks(rotation=45, fontsize=18)\n",
    "color = \"grey\"\n",
    "plt.axvline(x=\"2020-03-10\", color=color)  # lockdown (fase 1, 9)\n",
    "plt.axvline(x=\"2020-05-04\", color=color)  # allentamento misure (fase 2, 4)\n",
    "plt.axvline(x=\"2020-06-15\", color=color)  # convivenza (fase 3)\n",
    "plt.axvline(x=\"2020-08-11\", color=color)  # nuove restrizioni (10)\n",
    "plt.axvline(x=\"2020-09-07\", color=color)  # rientro scuole (6)\n",
    "plt.axvline(x=\"2020-11-06\", color=color)  # coprifuoco e zone a colori (6)\n",
    "plt.axvline(x=\"2020-12-21\", color=color)  # ok aifa per vaccino e somministrazioni\n",
    "plt.axvline(x=\"2021-03-15\", color=color)  # Interruzione AZ\n",
    "ax.xaxis.set_major_locator(mdates.DayLocator(interval=14))\n",
    "plt.ylabel('Median toxicity')\n",
    "plt.legend(labels=[\"User_1\",\"User_2\"],  bbox_to_anchor=(0.74,1), prop={'size': 18})\n",
    "ax.get_xaxis().set_visible(False)\n",
    "plt.show()"
   ],
   "metadata": {
    "collapsed": false,
    "pycharm": {
     "name": "#%%\n"
    }
   }
  },
  {
   "cell_type": "code",
   "execution_count": null,
   "outputs": [],
   "source": [
    "list(tt.tail(1)[\"date\"])[0]"
   ],
   "metadata": {
    "collapsed": false,
    "pycharm": {
     "name": "#%%\n"
    }
   }
  },
  {
   "cell_type": "code",
   "execution_count": null,
   "outputs": [],
   "source": [
    "tt2 = tweets_toxic[tweets_toxic[\"user_screen_name\"]==\"MinervaMcGrani1\"]\n",
    "tt2 = tt2[tt2[\"date\"]<=list(tt.tail(1)[\"date\"])[0]]\n",
    "tt2.reset_index(drop=True, inplace=True)\n",
    "tt2['dates'] = tt2[[\"SEVERE_TOXICITY\", \"date\"]].groupby('date').transform('median')\n",
    "res_for_plot = tt2.drop_duplicates(subset='date')\n",
    "res_for_plot.sort_values(by=[\"date\"], inplace=True)\n",
    "labels = []\n",
    "for i in res_for_plot[\"created_at\"]:\n",
    "    x = i.split(\" \")\n",
    "    month = x[1]\n",
    "    day = x[2]\n",
    "    year = x[5][2:]\n",
    "    value = day + \" \" + month + \" '\" + year\n",
    "    labels.append(value)\n",
    "data2 = res_for_plot[[\"date\", \"dates\"]]\n",
    "data2['rolling_avg'] = data2.dates.rolling(14).median()\n",
    "fig, ax = plt.subplots(figsize=(25, 10))\n",
    "# sns.lineplot( x = 'date',\n",
    "#              y = 'dates',\n",
    "#              data = data,\n",
    "#              label = 'Toxic median')\n",
    "sns.lineplot(x='date',\n",
    "             y='rolling_avg',\n",
    "             data=data2,\n",
    "             color=\"red\")\n",
    "# label = 'Rolling avg')\n",
    "\n",
    "plt.xlabel('Days')\n",
    "\n",
    "pos = list(data2[\"date\"])\n",
    "lab = labels\n",
    "plt.xticks(pos, lab)\n",
    "plt.xticks(rotation=45, fontsize=10)\n",
    "color = \"grey\"\n",
    "plt.axvline(x=\"2020-03-06\", color=color)  # lockdown (fase 1, 9)\n",
    "plt.axvline(x=\"2020-05-04\", color=color)  # allentamento misure (fase 2, 4)\n",
    "plt.axvline(x=\"2020-06-15\", color=color)  # convivenza (fase 3)\n",
    "plt.axvline(x=\"2020-08-11\", color=color)  # nuove restrizioni (10)\n",
    "plt.axvline(x=\"2020-09-07\", color=color)  # rientro scuole (6)\n",
    "plt.axvline(x=\"2020-11-05\", color=color)  # coprifuoco e zone a colori (6)\n",
    "plt.axvline(x=\"2020-12-21\", color=color)  # ok aifa per vaccino e somministrazioni\n",
    "plt.axvline(x=\"2021-03-15\", color=color)  # Interruzione AZ\n",
    "ax.xaxis.set_major_locator(mdates.DayLocator(interval=7))\n",
    "plt.ylabel('Median toxicity')\n",
    "plt.show()"
   ],
   "metadata": {
    "collapsed": false,
    "pycharm": {
     "name": "#%%\n"
    }
   }
  },
  {
   "cell_type": "code",
   "execution_count": 114,
   "outputs": [
    {
     "name": "stdout",
     "output_type": "stream",
     "text": [
      "done\n",
      "done\n",
      "done\n",
      "done\n",
      "done\n",
      "done\n",
      "done\n",
      "done\n",
      "done\n"
     ]
    }
   ],
   "source": [
    "df = pd.DataFrame()\n",
    "for chunk in pd.read_csv(r\"C:\\Users\\gianl\\Desktop\\Gi\\Supsi\\Vaccines_Discussion_Italy\\Italian\\files\\tweets\\tweets.csv\",\n",
    "                lineterminator=\"\\n\", encoding=\"utf-8\", low_memory=False,\n",
    "                 usecols=[\"id\",\"rt_user_screen_name\",\"user_screen_name\"],\n",
    "                        chunksize=500000):\n",
    "    df = df.append(chunk)\n",
    "    print(\"done\")"
   ],
   "metadata": {
    "collapsed": false,
    "pycharm": {
     "name": "#%%\n"
    }
   }
  },
  {
   "cell_type": "code",
   "execution_count": 115,
   "outputs": [
    {
     "data": {
      "text/plain": "                          id user_screen_name_x rt_user_screen_name  \\\n0        1221739084449832960       planetpaul65         isentinelli   \n1        1221737155380293640         Grace_1207        LidaSezOlbia   \n2        1221730009989120001    MarisaMinervini            milio967   \n3        1221737654909382662         LecceSette                 NaN   \n4        1221728980203724801           arual812        Annalisa3073   \n...                      ...                ...                 ...   \n4053196  1394609996197937159         CiaoGrosso      borghi_claudio   \n4053197  1394610015823147011        Rosskitty77                 NaN   \n4053198  1394609887641022464       GuidoIafrate                 NaN   \n4053199  1394609899963830275       lucabattanta              valy_s   \n4053200  1394609930540306433           kyappy80     WeltanschauungI   \n\n                                                      text  toxicity  \\\n0        La Memoria è l’unico vaccino contro l’indiffer...  0.006942   \n1        Oggi sono arrivati loro, 3 femminucce e 1 masc...  0.503896   \n2        L'indifferenza è più colpevole della violenza ...  0.037881   \n3        Minaccia morbillo nel Salento, Asl: \"Vaccinars...  0.065322   \n4        \"Coltivare la Memoria è ancora oggi un vaccino...  0.004234   \n...                                                    ...       ...   \n4053196  Il medico testimonial pro vaccino a Ariachetir...  0.043032   \n4053197  \"...«Ha lividi e piastrine basse». E ha richie...  0.045092   \n4053198  Vaccinazioni nei luoghi di lavoro, fondamental...  0.007983   \n4053199  A lariachetira c’è un MEDICO DI BASE che ha ap...  0.317855   \n4053200  Battiato detestava lo scientismo. Meglio che n...  0.204496   \n\n        user_screen_name_y                                               urls  \\\n0             planetpaul65                                                 []   \n1               Grace_1207                                                 []   \n2          MarisaMinervini                                                 []   \n3               LecceSette  [{'url': 'https://t.co/CY0qiQFk6s', 'expanded_...   \n4                 arual812                                                 []   \n...                    ...                                                ...   \n4053196         CiaoGrosso                                                 []   \n4053197        Rosskitty77  [{'url': 'https://t.co/5UT12c2sur', 'expanded_...   \n4053198       GuidoIafrate  [{'url': 'https://t.co/D3j3phCsiC', 'expanded_...   \n4053199       lucabattanta                                                 []   \n4053200           kyappy80                                                 []   \n\n                                                  hashtags  \\\n0        [{'text': 'GiornatadellaMemoria2020', 'indices...   \n1                                                       []   \n2                                                       []   \n3                                                       []   \n4                                                       []   \n...                                                    ...   \n4053196                                                 []   \n4053197                                                 []   \n4053198                                                 []   \n4053199    [{'text': 'lariachetira', 'indices': [14, 27]}]   \n4053200                                                 []   \n\n                             created_at in_reply_to_screen_name  \\\n0        Mon Jan 27 10:17:51 +0000 2020                     NaN   \n1        Mon Jan 27 10:10:11 +0000 2020                     NaN   \n2        Mon Jan 27 09:41:47 +0000 2020                     NaN   \n3        Mon Jan 27 10:12:10 +0000 2020                     NaN   \n4        Mon Jan 27 09:37:42 +0000 2020                     NaN   \n...                                 ...                     ...   \n4053196  Tue May 18 11:05:08 +0000 2021                     NaN   \n4053197  Tue May 18 11:05:13 +0000 2021                     NaN   \n4053198  Tue May 18 11:04:42 +0000 2021                     NaN   \n4053199  Tue May 18 11:04:45 +0000 2021                     NaN   \n4053200  Tue May 18 11:04:52 +0000 2021                     NaN   \n\n                          rt_created_at  quoted_status_id  \\\n0        Mon Jan 27 08:15:15 +0000 2020               NaN   \n1        Sat Jan 25 21:19:30 +0000 2020               NaN   \n2        Mon Jan 27 05:00:04 +0000 2020               NaN   \n3                                   NaN               NaN   \n4        Mon Jan 27 07:45:58 +0000 2020               NaN   \n...                                 ...               ...   \n4053196  Tue May 18 10:45:35 +0000 2021               NaN   \n4053197                             NaN      1.394602e+18   \n4053198                             NaN               NaN   \n4053199  Tue May 18 10:36:02 +0000 2021               NaN   \n4053200  Tue May 18 06:53:54 +0000 2021               NaN   \n\n         in_reply_to_user_id        date  count_status  \n0                        NaN  2020-01-27         238.0  \n1                        NaN  2020-01-27         286.0  \n2                        NaN  2020-01-27           1.0  \n3                        NaN  2020-01-27          90.0  \n4                        NaN  2020-01-27         616.0  \n...                      ...         ...           ...  \n4053196                  NaN  2021-05-18         506.0  \n4053197                  NaN  2021-05-18        1095.0  \n4053198                  NaN  2021-05-18           3.0  \n4053199                  NaN  2021-05-18        3025.0  \n4053200                  NaN  2021-05-18          58.0  \n\n[4053201 rows x 15 columns]",
      "text/html": "<div>\n<style scoped>\n    .dataframe tbody tr th:only-of-type {\n        vertical-align: middle;\n    }\n\n    .dataframe tbody tr th {\n        vertical-align: top;\n    }\n\n    .dataframe thead th {\n        text-align: right;\n    }\n</style>\n<table border=\"1\" class=\"dataframe\">\n  <thead>\n    <tr style=\"text-align: right;\">\n      <th></th>\n      <th>id</th>\n      <th>user_screen_name_x</th>\n      <th>rt_user_screen_name</th>\n      <th>text</th>\n      <th>toxicity</th>\n      <th>user_screen_name_y</th>\n      <th>urls</th>\n      <th>hashtags</th>\n      <th>created_at</th>\n      <th>in_reply_to_screen_name</th>\n      <th>rt_created_at</th>\n      <th>quoted_status_id</th>\n      <th>in_reply_to_user_id</th>\n      <th>date</th>\n      <th>count_status</th>\n    </tr>\n  </thead>\n  <tbody>\n    <tr>\n      <th>0</th>\n      <td>1221739084449832960</td>\n      <td>planetpaul65</td>\n      <td>isentinelli</td>\n      <td>La Memoria è l’unico vaccino contro l’indiffer...</td>\n      <td>0.006942</td>\n      <td>planetpaul65</td>\n      <td>[]</td>\n      <td>[{'text': 'GiornatadellaMemoria2020', 'indices...</td>\n      <td>Mon Jan 27 10:17:51 +0000 2020</td>\n      <td>NaN</td>\n      <td>Mon Jan 27 08:15:15 +0000 2020</td>\n      <td>NaN</td>\n      <td>NaN</td>\n      <td>2020-01-27</td>\n      <td>238.0</td>\n    </tr>\n    <tr>\n      <th>1</th>\n      <td>1221737155380293640</td>\n      <td>Grace_1207</td>\n      <td>LidaSezOlbia</td>\n      <td>Oggi sono arrivati loro, 3 femminucce e 1 masc...</td>\n      <td>0.503896</td>\n      <td>Grace_1207</td>\n      <td>[]</td>\n      <td>[]</td>\n      <td>Mon Jan 27 10:10:11 +0000 2020</td>\n      <td>NaN</td>\n      <td>Sat Jan 25 21:19:30 +0000 2020</td>\n      <td>NaN</td>\n      <td>NaN</td>\n      <td>2020-01-27</td>\n      <td>286.0</td>\n    </tr>\n    <tr>\n      <th>2</th>\n      <td>1221730009989120001</td>\n      <td>MarisaMinervini</td>\n      <td>milio967</td>\n      <td>L'indifferenza è più colpevole della violenza ...</td>\n      <td>0.037881</td>\n      <td>MarisaMinervini</td>\n      <td>[]</td>\n      <td>[]</td>\n      <td>Mon Jan 27 09:41:47 +0000 2020</td>\n      <td>NaN</td>\n      <td>Mon Jan 27 05:00:04 +0000 2020</td>\n      <td>NaN</td>\n      <td>NaN</td>\n      <td>2020-01-27</td>\n      <td>1.0</td>\n    </tr>\n    <tr>\n      <th>3</th>\n      <td>1221737654909382662</td>\n      <td>LecceSette</td>\n      <td>NaN</td>\n      <td>Minaccia morbillo nel Salento, Asl: \"Vaccinars...</td>\n      <td>0.065322</td>\n      <td>LecceSette</td>\n      <td>[{'url': 'https://t.co/CY0qiQFk6s', 'expanded_...</td>\n      <td>[]</td>\n      <td>Mon Jan 27 10:12:10 +0000 2020</td>\n      <td>NaN</td>\n      <td>NaN</td>\n      <td>NaN</td>\n      <td>NaN</td>\n      <td>2020-01-27</td>\n      <td>90.0</td>\n    </tr>\n    <tr>\n      <th>4</th>\n      <td>1221728980203724801</td>\n      <td>arual812</td>\n      <td>Annalisa3073</td>\n      <td>\"Coltivare la Memoria è ancora oggi un vaccino...</td>\n      <td>0.004234</td>\n      <td>arual812</td>\n      <td>[]</td>\n      <td>[]</td>\n      <td>Mon Jan 27 09:37:42 +0000 2020</td>\n      <td>NaN</td>\n      <td>Mon Jan 27 07:45:58 +0000 2020</td>\n      <td>NaN</td>\n      <td>NaN</td>\n      <td>2020-01-27</td>\n      <td>616.0</td>\n    </tr>\n    <tr>\n      <th>...</th>\n      <td>...</td>\n      <td>...</td>\n      <td>...</td>\n      <td>...</td>\n      <td>...</td>\n      <td>...</td>\n      <td>...</td>\n      <td>...</td>\n      <td>...</td>\n      <td>...</td>\n      <td>...</td>\n      <td>...</td>\n      <td>...</td>\n      <td>...</td>\n      <td>...</td>\n    </tr>\n    <tr>\n      <th>4053196</th>\n      <td>1394609996197937159</td>\n      <td>CiaoGrosso</td>\n      <td>borghi_claudio</td>\n      <td>Il medico testimonial pro vaccino a Ariachetir...</td>\n      <td>0.043032</td>\n      <td>CiaoGrosso</td>\n      <td>[]</td>\n      <td>[]</td>\n      <td>Tue May 18 11:05:08 +0000 2021</td>\n      <td>NaN</td>\n      <td>Tue May 18 10:45:35 +0000 2021</td>\n      <td>NaN</td>\n      <td>NaN</td>\n      <td>2021-05-18</td>\n      <td>506.0</td>\n    </tr>\n    <tr>\n      <th>4053197</th>\n      <td>1394610015823147011</td>\n      <td>Rosskitty77</td>\n      <td>NaN</td>\n      <td>\"...«Ha lividi e piastrine basse». E ha richie...</td>\n      <td>0.045092</td>\n      <td>Rosskitty77</td>\n      <td>[{'url': 'https://t.co/5UT12c2sur', 'expanded_...</td>\n      <td>[]</td>\n      <td>Tue May 18 11:05:13 +0000 2021</td>\n      <td>NaN</td>\n      <td>NaN</td>\n      <td>1.394602e+18</td>\n      <td>NaN</td>\n      <td>2021-05-18</td>\n      <td>1095.0</td>\n    </tr>\n    <tr>\n      <th>4053198</th>\n      <td>1394609887641022464</td>\n      <td>GuidoIafrate</td>\n      <td>NaN</td>\n      <td>Vaccinazioni nei luoghi di lavoro, fondamental...</td>\n      <td>0.007983</td>\n      <td>GuidoIafrate</td>\n      <td>[{'url': 'https://t.co/D3j3phCsiC', 'expanded_...</td>\n      <td>[]</td>\n      <td>Tue May 18 11:04:42 +0000 2021</td>\n      <td>NaN</td>\n      <td>NaN</td>\n      <td>NaN</td>\n      <td>NaN</td>\n      <td>2021-05-18</td>\n      <td>3.0</td>\n    </tr>\n    <tr>\n      <th>4053199</th>\n      <td>1394609899963830275</td>\n      <td>lucabattanta</td>\n      <td>valy_s</td>\n      <td>A lariachetira c’è un MEDICO DI BASE che ha ap...</td>\n      <td>0.317855</td>\n      <td>lucabattanta</td>\n      <td>[]</td>\n      <td>[{'text': 'lariachetira', 'indices': [14, 27]}]</td>\n      <td>Tue May 18 11:04:45 +0000 2021</td>\n      <td>NaN</td>\n      <td>Tue May 18 10:36:02 +0000 2021</td>\n      <td>NaN</td>\n      <td>NaN</td>\n      <td>2021-05-18</td>\n      <td>3025.0</td>\n    </tr>\n    <tr>\n      <th>4053200</th>\n      <td>1394609930540306433</td>\n      <td>kyappy80</td>\n      <td>WeltanschauungI</td>\n      <td>Battiato detestava lo scientismo. Meglio che n...</td>\n      <td>0.204496</td>\n      <td>kyappy80</td>\n      <td>[]</td>\n      <td>[]</td>\n      <td>Tue May 18 11:04:52 +0000 2021</td>\n      <td>NaN</td>\n      <td>Tue May 18 06:53:54 +0000 2021</td>\n      <td>NaN</td>\n      <td>NaN</td>\n      <td>2021-05-18</td>\n      <td>58.0</td>\n    </tr>\n  </tbody>\n</table>\n<p>4053201 rows × 15 columns</p>\n</div>"
     },
     "execution_count": 115,
     "metadata": {},
     "output_type": "execute_result"
    }
   ],
   "source": [
    "merged_df = df.merge(tox, on=\"id\", how=\"left\")\n",
    "merged_df"
   ],
   "metadata": {
    "collapsed": false,
    "pycharm": {
     "name": "#%%\n"
    }
   }
  },
  {
   "cell_type": "code",
   "execution_count": 197,
   "outputs": [],
   "source": [
    "rt_minerva = merged_df[merged_df[\"rt_user_screen_name\"]==\"MinervaMcGrani1\"]\n",
    "rt_tommy = merged_df[merged_df[\"rt_user_screen_name\"]==\"TommyBrain\"]"
   ],
   "metadata": {
    "collapsed": false,
    "pycharm": {
     "name": "#%%\n"
    }
   }
  },
  {
   "cell_type": "code",
   "execution_count": 123,
   "outputs": [],
   "source": [
    "rt_minerva[\"count_status\"] = rt_minerva.groupby('date')['date'].transform('count')\n",
    "rt_minerva.drop_duplicates(subset=[\"date\"], keep=\"last\", inplace=True)\n",
    "rt_tommy[\"count_status\"] = rt_tommy.groupby('date')['date'].transform('count')\n",
    "rt_tommy.drop_duplicates(subset=[\"date\"], keep=\"last\", inplace=True)"
   ],
   "metadata": {
    "collapsed": false,
    "pycharm": {
     "name": "#%%\n"
    }
   }
  },
  {
   "cell_type": "code",
   "execution_count": 149,
   "outputs": [
    {
     "data": {
      "text/plain": "1.489795918367347"
     },
     "execution_count": 149,
     "metadata": {},
     "output_type": "execute_result"
    }
   ],
   "source": [
    "np.nanmean(rt_tommy[\"count_status\"])"
   ],
   "metadata": {
    "collapsed": false,
    "pycharm": {
     "name": "#%%\n"
    }
   }
  },
  {
   "cell_type": "code",
   "execution_count": 150,
   "outputs": [
    {
     "data": {
      "text/plain": "80.15151515151516"
     },
     "execution_count": 150,
     "metadata": {},
     "output_type": "execute_result"
    }
   ],
   "source": [
    "np.nanmean(rt_minerva[\"count_status\"])"
   ],
   "metadata": {
    "collapsed": false,
    "pycharm": {
     "name": "#%%\n"
    }
   }
  },
  {
   "cell_type": "code",
   "execution_count": 141,
   "outputs": [
    {
     "name": "stdout",
     "output_type": "stream",
     "text": [
      "2020-01-03\n",
      "2020-01-08\n",
      "2020-01-13\n",
      "2020-01-15\n",
      "2020-01-18\n",
      "2020-01-19\n",
      "2020-01-20\n",
      "2020-01-25\n",
      "2020-01-26\n",
      "2020-01-27\n",
      "2020-01-28\n",
      "2020-01-31\n",
      "2020-02-02\n",
      "2020-02-03\n",
      "2020-02-05\n",
      "2020-02-06\n",
      "2020-02-10\n",
      "2020-02-11\n",
      "2020-02-21\n",
      "2020-02-22\n",
      "2020-02-25\n",
      "2020-02-26\n",
      "2020-02-27\n",
      "2020-02-28\n",
      "2020-03-01\n",
      "2020-03-03\n",
      "2020-03-04\n",
      "2020-03-05\n",
      "2020-03-06\n",
      "2020-03-10\n",
      "2020-03-11\n",
      "2020-03-12\n",
      "2020-03-14\n",
      "2020-03-15\n",
      "2020-03-16\n",
      "2020-03-17\n",
      "2020-03-21\n",
      "2020-03-22\n",
      "2020-03-24\n",
      "2020-03-25\n",
      "2020-03-26\n",
      "2020-03-28\n",
      "2020-03-29\n",
      "2020-03-31\n",
      "2020-04-02\n",
      "2020-04-03\n",
      "2020-04-07\n",
      "2020-04-08\n",
      "2020-04-09\n",
      "2020-04-11\n",
      "2020-04-12\n",
      "2020-04-13\n",
      "2020-04-14\n",
      "2020-04-15\n",
      "2020-04-16\n",
      "2020-04-17\n",
      "2020-04-18\n",
      "2020-04-20\n",
      "2020-04-21\n",
      "2020-04-25\n",
      "2020-04-29\n",
      "2020-04-30\n",
      "2020-05-01\n",
      "2020-05-02\n",
      "2020-05-03\n",
      "2020-05-04\n",
      "2020-05-05\n",
      "2020-05-06\n",
      "2020-05-10\n",
      "2020-05-12\n",
      "2020-05-13\n",
      "2020-05-14\n",
      "2020-05-15\n",
      "2020-05-16\n",
      "2020-05-17\n",
      "2020-05-18\n",
      "2020-05-19\n",
      "2020-05-20\n",
      "2020-05-25\n",
      "2020-05-26\n",
      "2020-05-27\n",
      "2020-05-30\n",
      "2020-05-31\n",
      "2020-06-14\n",
      "2020-06-15\n",
      "2020-06-17\n",
      "2020-06-18\n",
      "2020-06-20\n",
      "2020-06-21\n",
      "2020-06-22\n",
      "2020-06-23\n",
      "2020-06-24\n",
      "2020-06-25\n",
      "2020-06-26\n",
      "2020-06-27\n",
      "2020-06-28\n",
      "2020-07-03\n",
      "2020-07-04\n",
      "2020-07-05\n",
      "2020-07-06\n",
      "2020-07-07\n",
      "2020-07-10\n",
      "2020-07-11\n",
      "2020-07-12\n",
      "2020-07-13\n",
      "2020-07-14\n",
      "2020-07-15\n",
      "2020-07-22\n",
      "2020-07-23\n",
      "2020-07-26\n",
      "2020-07-27\n",
      "2020-07-28\n",
      "2020-07-29\n",
      "2020-07-30\n",
      "2020-07-31\n",
      "2020-08-02\n",
      "2020-08-04\n",
      "2020-08-07\n",
      "2020-08-08\n",
      "2020-08-09\n",
      "2020-08-11\n",
      "2020-08-13\n",
      "2020-08-14\n",
      "2020-08-15\n",
      "2020-08-16\n",
      "2020-08-17\n",
      "2020-08-18\n",
      "2020-08-19\n",
      "2020-08-20\n",
      "2020-08-21\n",
      "2020-08-22\n",
      "2020-08-24\n",
      "2020-08-25\n",
      "2020-08-27\n",
      "2020-08-28\n",
      "2020-08-30\n",
      "2020-08-31\n",
      "2020-09-03\n",
      "2020-09-04\n",
      "2020-09-05\n",
      "2020-09-07\n",
      "2020-09-08\n",
      "2020-09-09\n",
      "2020-09-11\n",
      "2020-09-12\n",
      "2020-09-13\n",
      "2020-09-14\n",
      "2020-09-15\n",
      "2020-09-16\n",
      "2020-09-21\n",
      "2020-09-22\n",
      "2020-09-23\n",
      "2020-09-24\n",
      "2020-09-25\n",
      "2020-09-26\n",
      "2020-09-27\n",
      "2020-09-28\n",
      "2020-09-29\n",
      "2020-10-01\n",
      "2020-10-02\n",
      "2020-10-03\n",
      "2020-10-04\n",
      "2020-10-05\n",
      "2020-10-06\n",
      "2020-10-10\n",
      "2020-10-11\n",
      "2020-10-12\n",
      "2020-10-13\n",
      "2020-10-18\n",
      "2020-10-19\n",
      "2020-10-20\n",
      "2020-10-22\n",
      "2020-10-23\n",
      "2020-10-28\n",
      "2020-10-29\n",
      "2020-10-30\n",
      "2020-10-31\n",
      "2020-11-01\n",
      "2020-11-02\n",
      "2020-11-03\n",
      "2020-11-04\n",
      "2020-11-05\n",
      "2020-11-06\n",
      "2020-11-07\n",
      "2020-11-08\n",
      "2020-11-09\n",
      "2020-11-10\n",
      "2020-11-12\n",
      "2020-11-13\n",
      "2020-11-18\n",
      "2020-11-19\n",
      "2020-11-20\n",
      "2020-11-21\n",
      "2020-11-23\n",
      "2020-11-24\n",
      "2020-11-26\n",
      "2020-11-27\n",
      "2020-11-28\n",
      "2020-11-29\n",
      "2020-11-30\n",
      "2020-12-02\n",
      "2020-12-07\n",
      "2020-12-08\n",
      "2020-12-09\n",
      "2020-12-13\n",
      "2020-12-14\n",
      "2020-12-15\n",
      "2020-12-18\n",
      "2020-12-19\n",
      "2020-12-21\n",
      "2020-12-22\n",
      "2020-12-23\n",
      "2020-12-26\n",
      "2020-12-27\n",
      "2020-12-29\n",
      "2020-12-31\n",
      "2021-01-01\n",
      "2021-01-02\n",
      "2021-01-04\n",
      "2021-01-05\n",
      "2021-01-06\n",
      "2021-01-07\n",
      "2021-01-08\n",
      "2021-01-09\n",
      "2021-01-10\n",
      "2021-01-16\n",
      "2021-01-17\n",
      "2021-01-18\n",
      "2021-01-19\n",
      "2021-01-20\n",
      "2021-01-23\n",
      "2021-01-24\n",
      "2021-01-25\n",
      "2021-01-26\n",
      "2021-01-27\n",
      "2021-01-28\n",
      "2021-01-31\n",
      "2021-02-01\n",
      "2021-02-08\n",
      "2021-02-09\n",
      "2021-02-10\n",
      "2021-02-11\n",
      "2021-02-12\n",
      "2021-02-13\n",
      "2021-02-14\n",
      "2021-02-15\n",
      "2021-02-18\n",
      "2021-02-19\n",
      "2021-02-20\n",
      "2021-02-21\n",
      "2021-02-22\n",
      "2021-02-23\n",
      "2021-02-24\n",
      "2021-02-25\n",
      "2021-02-26\n",
      "2021-02-27\n",
      "2021-03-01\n",
      "2021-03-10\n",
      "2021-03-11\n",
      "2021-03-12\n",
      "2021-03-14\n",
      "2021-03-15\n",
      "2021-03-16\n",
      "2021-03-17\n",
      "2021-03-18\n",
      "2021-03-19\n",
      "2021-03-26\n",
      "2021-03-27\n",
      "2021-03-28\n",
      "2021-03-31\n",
      "2021-04-01\n",
      "2021-04-03\n",
      "2021-04-04\n",
      "2021-04-05\n",
      "2021-04-06\n",
      "2021-04-07\n",
      "2021-04-11\n",
      "2021-04-15\n",
      "2021-04-16\n",
      "2021-04-17\n",
      "2021-04-18\n",
      "2021-04-19\n",
      "2021-04-20\n",
      "2021-04-21\n",
      "2021-04-22\n",
      "2021-04-23\n",
      "2021-04-24\n",
      "2021-04-26\n",
      "2021-04-27\n",
      "2021-04-28\n",
      "2021-04-29\n",
      "2021-04-30\n",
      "2021-05-01\n",
      "2021-05-02\n",
      "2021-05-03\n",
      "2021-05-04\n",
      "2021-05-05\n",
      "2021-05-06\n",
      "2021-05-07\n",
      "2021-05-08\n",
      "2021-05-09\n",
      "2021-05-10\n",
      "2021-05-11\n",
      "2021-05-12\n",
      "2021-05-13\n",
      "2021-05-14\n",
      "2021-05-15\n",
      "2021-05-16\n",
      "2021-05-17\n",
      "2021-05-18\n",
      "2021-05-23\n"
     ]
    }
   ],
   "source": [
    "for row in data.itertuples():\n",
    "    if row[1] in list(data[\"date\"]):\n",
    "        print(row[1])"
   ],
   "metadata": {
    "collapsed": false,
    "pycharm": {
     "name": "#%%\n"
    }
   }
  },
  {
   "cell_type": "code",
   "execution_count": 132,
   "outputs": [
    {
     "data": {
      "text/plain": "               date     dates  rolling_avg\n12775    2020-01-02  0.117249          NaN\n1986     2020-01-03  0.097633          NaN\n5536     2020-01-04  0.023975          NaN\n6379     2020-01-05  0.117297          NaN\n7481     2020-01-06  0.033074          NaN\n...             ...       ...          ...\n3884054  2021-05-17  0.099781     0.059529\n3522741  2021-05-18  0.073713     0.059529\n3554100  2021-05-20  0.057731     0.057531\n3555707  2021-05-22  0.218925     0.059728\n3561218  2021-05-23  0.039598     0.059728\n\n[317 rows x 3 columns]",
      "text/html": "<div>\n<style scoped>\n    .dataframe tbody tr th:only-of-type {\n        vertical-align: middle;\n    }\n\n    .dataframe tbody tr th {\n        vertical-align: top;\n    }\n\n    .dataframe thead th {\n        text-align: right;\n    }\n</style>\n<table border=\"1\" class=\"dataframe\">\n  <thead>\n    <tr style=\"text-align: right;\">\n      <th></th>\n      <th>date</th>\n      <th>dates</th>\n      <th>rolling_avg</th>\n    </tr>\n  </thead>\n  <tbody>\n    <tr>\n      <th>12775</th>\n      <td>2020-01-02</td>\n      <td>0.117249</td>\n      <td>NaN</td>\n    </tr>\n    <tr>\n      <th>1986</th>\n      <td>2020-01-03</td>\n      <td>0.097633</td>\n      <td>NaN</td>\n    </tr>\n    <tr>\n      <th>5536</th>\n      <td>2020-01-04</td>\n      <td>0.023975</td>\n      <td>NaN</td>\n    </tr>\n    <tr>\n      <th>6379</th>\n      <td>2020-01-05</td>\n      <td>0.117297</td>\n      <td>NaN</td>\n    </tr>\n    <tr>\n      <th>7481</th>\n      <td>2020-01-06</td>\n      <td>0.033074</td>\n      <td>NaN</td>\n    </tr>\n    <tr>\n      <th>...</th>\n      <td>...</td>\n      <td>...</td>\n      <td>...</td>\n    </tr>\n    <tr>\n      <th>3884054</th>\n      <td>2021-05-17</td>\n      <td>0.099781</td>\n      <td>0.059529</td>\n    </tr>\n    <tr>\n      <th>3522741</th>\n      <td>2021-05-18</td>\n      <td>0.073713</td>\n      <td>0.059529</td>\n    </tr>\n    <tr>\n      <th>3554100</th>\n      <td>2021-05-20</td>\n      <td>0.057731</td>\n      <td>0.057531</td>\n    </tr>\n    <tr>\n      <th>3555707</th>\n      <td>2021-05-22</td>\n      <td>0.218925</td>\n      <td>0.059728</td>\n    </tr>\n    <tr>\n      <th>3561218</th>\n      <td>2021-05-23</td>\n      <td>0.039598</td>\n      <td>0.059728</td>\n    </tr>\n  </tbody>\n</table>\n<p>317 rows × 3 columns</p>\n</div>"
     },
     "execution_count": 132,
     "metadata": {},
     "output_type": "execute_result"
    }
   ],
   "source": [
    "data2"
   ],
   "metadata": {
    "collapsed": false,
    "pycharm": {
     "name": "#%%\n"
    }
   }
  },
  {
   "cell_type": "code",
   "execution_count": 185,
   "outputs": [
    {
     "data": {
      "text/plain": "18.197791490743747"
     },
     "execution_count": 185,
     "metadata": {},
     "output_type": "execute_result"
    }
   ],
   "source": [
    "# tt2[\"count_status\".groupby('date')['date'].transform('count')\n",
    "np.nanmean(tt2[\"count_status\"])"
   ],
   "metadata": {
    "collapsed": false,
    "pycharm": {
     "name": "#%%\n"
    }
   }
  },
  {
   "cell_type": "code",
   "execution_count": 184,
   "outputs": [
    {
     "data": {
      "text/plain": "               date  count_status\n13002    2020-01-02            12\n12895    2020-01-02            12\n12881    2020-01-02            12\n12872    2020-01-02            12\n12775    2020-01-02            12\n...             ...           ...\n3561613  2021-05-23             8\n3564471  2021-05-23             8\n3564537  2021-05-23             8\n3564838  2021-05-23             8\n3564963  2021-05-23             8\n\n[3079 rows x 2 columns]",
      "text/html": "<div>\n<style scoped>\n    .dataframe tbody tr th:only-of-type {\n        vertical-align: middle;\n    }\n\n    .dataframe tbody tr th {\n        vertical-align: top;\n    }\n\n    .dataframe thead th {\n        text-align: right;\n    }\n</style>\n<table border=\"1\" class=\"dataframe\">\n  <thead>\n    <tr style=\"text-align: right;\">\n      <th></th>\n      <th>date</th>\n      <th>count_status</th>\n    </tr>\n  </thead>\n  <tbody>\n    <tr>\n      <th>13002</th>\n      <td>2020-01-02</td>\n      <td>12</td>\n    </tr>\n    <tr>\n      <th>12895</th>\n      <td>2020-01-02</td>\n      <td>12</td>\n    </tr>\n    <tr>\n      <th>12881</th>\n      <td>2020-01-02</td>\n      <td>12</td>\n    </tr>\n    <tr>\n      <th>12872</th>\n      <td>2020-01-02</td>\n      <td>12</td>\n    </tr>\n    <tr>\n      <th>12775</th>\n      <td>2020-01-02</td>\n      <td>12</td>\n    </tr>\n    <tr>\n      <th>...</th>\n      <td>...</td>\n      <td>...</td>\n    </tr>\n    <tr>\n      <th>3561613</th>\n      <td>2021-05-23</td>\n      <td>8</td>\n    </tr>\n    <tr>\n      <th>3564471</th>\n      <td>2021-05-23</td>\n      <td>8</td>\n    </tr>\n    <tr>\n      <th>3564537</th>\n      <td>2021-05-23</td>\n      <td>8</td>\n    </tr>\n    <tr>\n      <th>3564838</th>\n      <td>2021-05-23</td>\n      <td>8</td>\n    </tr>\n    <tr>\n      <th>3564963</th>\n      <td>2021-05-23</td>\n      <td>8</td>\n    </tr>\n  </tbody>\n</table>\n<p>3079 rows × 2 columns</p>\n</div>"
     },
     "execution_count": 184,
     "metadata": {},
     "output_type": "execute_result"
    }
   ],
   "source": [
    "tt2[[\"date\",\"count_status\"]].sort_values(by=[\"date\"],ascending=True)"
   ],
   "metadata": {
    "collapsed": false,
    "pycharm": {
     "name": "#%%\n"
    }
   }
  },
  {
   "cell_type": "code",
   "execution_count": 186,
   "outputs": [
    {
     "data": {
      "text/plain": "104        0.150427\n516        0.100855\n566        0.157432\n743        0.149567\n1618       0.039942\n             ...   \n3899658    0.019714\n3899699    0.259045\n3899712    0.139697\n3899749    0.073713\n3899763    0.010135\nName: toxicity, Length: 3079, dtype: float64"
     },
     "execution_count": 186,
     "metadata": {},
     "output_type": "execute_result"
    }
   ],
   "source": [
    "tt2[[\"toxicity\"]]"
   ],
   "metadata": {
    "collapsed": false,
    "pycharm": {
     "name": "#%%\n"
    }
   }
  },
  {
   "cell_type": "code",
   "execution_count": 198,
   "outputs": [
    {
     "data": {
      "text/plain": "                          id user_screen_name_x rt_user_screen_name  \\\n497      1222298088662093824          piersar62     MinervaMcGrani1   \n516      1222302972983508992        Peter_Italy     MinervaMcGrani1   \n542      1222304567339241473            IMoresi     MinervaMcGrani1   \n575      1222298456724779008    Graziel65255465     MinervaMcGrani1   \n581      1222297930947858434        AncillottoL     MinervaMcGrani1   \n...                      ...                ...                 ...   \n4052584  1394604748297363456    SemperAdamantes     MinervaMcGrani1   \n4052593  1394605005295038466       RinoRizzardi     MinervaMcGrani1   \n4052761  1394606089342181380            MercPat     MinervaMcGrani1   \n4052897  1394607696679157761        Loestestest     MinervaMcGrani1   \n4053149  1394609741897211910        SoniaLaVera     MinervaMcGrani1   \n\n                                                      text  toxicity  \\\n497      In Toscana si taglia la guardia medica notturn...  0.100855   \n516      In Toscana si taglia la guardia medica notturn...  0.100855   \n542      In Toscana si taglia la guardia medica notturn...  0.100855   \n575      In Toscana si taglia la guardia medica notturn...  0.100855   \n581      In Toscana si taglia la guardia medica notturn...  0.100855   \n...                                                    ...       ...   \n4052584  valy_s tommasomatic L’anno scorso non c’erano ...  0.259045   \n4052593   Lo sapete che le spese della sperimentazione ...  0.099781   \n4052761   Lo sapete che le spese della sperimentazione ...  0.099781   \n4052897  valy_s tommasomatic L’anno scorso non c’erano ...  0.259045   \n4053149  valy_s tommasomatic L’anno scorso non c’erano ...  0.259045   \n\n        user_screen_name_y                                               urls  \\\n497              piersar62                                                 []   \n516            Peter_Italy                                                 []   \n542                IMoresi                                                 []   \n575        Graziel65255465                                                 []   \n581            AncillottoL                                                 []   \n...                    ...                                                ...   \n4052584    SemperAdamantes                                                 []   \n4052593       RinoRizzardi  [{'url': 'https://t.co/aW5w6pVMBv', 'expanded_...   \n4052761            MercPat  [{'url': 'https://t.co/aW5w6pVMBv', 'expanded_...   \n4052897        Loestestest                                                 []   \n4053149        SoniaLaVera                                                 []   \n\n        hashtags                      created_at in_reply_to_screen_name  \\\n497           []  Tue Jan 28 23:19:08 +0000 2020                     NaN   \n516           []  Tue Jan 28 23:38:32 +0000 2020                     NaN   \n542           []  Tue Jan 28 23:44:52 +0000 2020                     NaN   \n575           []  Tue Jan 28 23:20:35 +0000 2020                     NaN   \n581           []  Tue Jan 28 23:18:30 +0000 2020                     NaN   \n...          ...                             ...                     ...   \n4052584       []  Tue May 18 10:44:17 +0000 2021                     NaN   \n4052593       []  Tue May 18 10:45:18 +0000 2021                     NaN   \n4052761       []  Tue May 18 10:49:36 +0000 2021                     NaN   \n4052897       []  Tue May 18 10:56:00 +0000 2021                     NaN   \n4053149       []  Tue May 18 11:04:07 +0000 2021                     NaN   \n\n                          rt_created_at  quoted_status_id  \\\n497      Tue Jan 28 23:16:42 +0000 2020      1.222156e+18   \n516      Tue Jan 28 23:16:42 +0000 2020      1.222156e+18   \n542      Tue Jan 28 23:16:42 +0000 2020      1.222156e+18   \n575      Tue Jan 28 23:16:42 +0000 2020      1.222156e+18   \n581      Tue Jan 28 23:16:42 +0000 2020      1.222156e+18   \n...                                 ...               ...   \n4052584  Mon May 17 23:45:52 +0000 2021               NaN   \n4052593  Mon May 17 18:57:57 +0000 2021               NaN   \n4052761  Mon May 17 18:57:57 +0000 2021               NaN   \n4052897  Mon May 17 23:45:52 +0000 2021               NaN   \n4053149  Mon May 17 23:45:52 +0000 2021               NaN   \n\n         in_reply_to_user_id        date  count_status  \n497                      NaN  2020-01-28        1211.0  \n516                      NaN  2020-01-28         474.0  \n542                      NaN  2020-01-28         394.0  \n575                      NaN  2020-01-28        1409.0  \n581                      NaN  2020-01-28          87.0  \n...                      ...         ...           ...  \n4052584                  NaN  2021-05-18        1664.0  \n4052593                  NaN  2021-05-18         177.0  \n4052761                  NaN  2021-05-18         777.0  \n4052897                  NaN  2021-05-18         742.0  \n4053149                  NaN  2021-05-18        2958.0  \n\n[26481 rows x 15 columns]",
      "text/html": "<div>\n<style scoped>\n    .dataframe tbody tr th:only-of-type {\n        vertical-align: middle;\n    }\n\n    .dataframe tbody tr th {\n        vertical-align: top;\n    }\n\n    .dataframe thead th {\n        text-align: right;\n    }\n</style>\n<table border=\"1\" class=\"dataframe\">\n  <thead>\n    <tr style=\"text-align: right;\">\n      <th></th>\n      <th>id</th>\n      <th>user_screen_name_x</th>\n      <th>rt_user_screen_name</th>\n      <th>text</th>\n      <th>toxicity</th>\n      <th>user_screen_name_y</th>\n      <th>urls</th>\n      <th>hashtags</th>\n      <th>created_at</th>\n      <th>in_reply_to_screen_name</th>\n      <th>rt_created_at</th>\n      <th>quoted_status_id</th>\n      <th>in_reply_to_user_id</th>\n      <th>date</th>\n      <th>count_status</th>\n    </tr>\n  </thead>\n  <tbody>\n    <tr>\n      <th>497</th>\n      <td>1222298088662093824</td>\n      <td>piersar62</td>\n      <td>MinervaMcGrani1</td>\n      <td>In Toscana si taglia la guardia medica notturn...</td>\n      <td>0.100855</td>\n      <td>piersar62</td>\n      <td>[]</td>\n      <td>[]</td>\n      <td>Tue Jan 28 23:19:08 +0000 2020</td>\n      <td>NaN</td>\n      <td>Tue Jan 28 23:16:42 +0000 2020</td>\n      <td>1.222156e+18</td>\n      <td>NaN</td>\n      <td>2020-01-28</td>\n      <td>1211.0</td>\n    </tr>\n    <tr>\n      <th>516</th>\n      <td>1222302972983508992</td>\n      <td>Peter_Italy</td>\n      <td>MinervaMcGrani1</td>\n      <td>In Toscana si taglia la guardia medica notturn...</td>\n      <td>0.100855</td>\n      <td>Peter_Italy</td>\n      <td>[]</td>\n      <td>[]</td>\n      <td>Tue Jan 28 23:38:32 +0000 2020</td>\n      <td>NaN</td>\n      <td>Tue Jan 28 23:16:42 +0000 2020</td>\n      <td>1.222156e+18</td>\n      <td>NaN</td>\n      <td>2020-01-28</td>\n      <td>474.0</td>\n    </tr>\n    <tr>\n      <th>542</th>\n      <td>1222304567339241473</td>\n      <td>IMoresi</td>\n      <td>MinervaMcGrani1</td>\n      <td>In Toscana si taglia la guardia medica notturn...</td>\n      <td>0.100855</td>\n      <td>IMoresi</td>\n      <td>[]</td>\n      <td>[]</td>\n      <td>Tue Jan 28 23:44:52 +0000 2020</td>\n      <td>NaN</td>\n      <td>Tue Jan 28 23:16:42 +0000 2020</td>\n      <td>1.222156e+18</td>\n      <td>NaN</td>\n      <td>2020-01-28</td>\n      <td>394.0</td>\n    </tr>\n    <tr>\n      <th>575</th>\n      <td>1222298456724779008</td>\n      <td>Graziel65255465</td>\n      <td>MinervaMcGrani1</td>\n      <td>In Toscana si taglia la guardia medica notturn...</td>\n      <td>0.100855</td>\n      <td>Graziel65255465</td>\n      <td>[]</td>\n      <td>[]</td>\n      <td>Tue Jan 28 23:20:35 +0000 2020</td>\n      <td>NaN</td>\n      <td>Tue Jan 28 23:16:42 +0000 2020</td>\n      <td>1.222156e+18</td>\n      <td>NaN</td>\n      <td>2020-01-28</td>\n      <td>1409.0</td>\n    </tr>\n    <tr>\n      <th>581</th>\n      <td>1222297930947858434</td>\n      <td>AncillottoL</td>\n      <td>MinervaMcGrani1</td>\n      <td>In Toscana si taglia la guardia medica notturn...</td>\n      <td>0.100855</td>\n      <td>AncillottoL</td>\n      <td>[]</td>\n      <td>[]</td>\n      <td>Tue Jan 28 23:18:30 +0000 2020</td>\n      <td>NaN</td>\n      <td>Tue Jan 28 23:16:42 +0000 2020</td>\n      <td>1.222156e+18</td>\n      <td>NaN</td>\n      <td>2020-01-28</td>\n      <td>87.0</td>\n    </tr>\n    <tr>\n      <th>...</th>\n      <td>...</td>\n      <td>...</td>\n      <td>...</td>\n      <td>...</td>\n      <td>...</td>\n      <td>...</td>\n      <td>...</td>\n      <td>...</td>\n      <td>...</td>\n      <td>...</td>\n      <td>...</td>\n      <td>...</td>\n      <td>...</td>\n      <td>...</td>\n      <td>...</td>\n    </tr>\n    <tr>\n      <th>4052584</th>\n      <td>1394604748297363456</td>\n      <td>SemperAdamantes</td>\n      <td>MinervaMcGrani1</td>\n      <td>valy_s tommasomatic L’anno scorso non c’erano ...</td>\n      <td>0.259045</td>\n      <td>SemperAdamantes</td>\n      <td>[]</td>\n      <td>[]</td>\n      <td>Tue May 18 10:44:17 +0000 2021</td>\n      <td>NaN</td>\n      <td>Mon May 17 23:45:52 +0000 2021</td>\n      <td>NaN</td>\n      <td>NaN</td>\n      <td>2021-05-18</td>\n      <td>1664.0</td>\n    </tr>\n    <tr>\n      <th>4052593</th>\n      <td>1394605005295038466</td>\n      <td>RinoRizzardi</td>\n      <td>MinervaMcGrani1</td>\n      <td>Lo sapete che le spese della sperimentazione ...</td>\n      <td>0.099781</td>\n      <td>RinoRizzardi</td>\n      <td>[{'url': 'https://t.co/aW5w6pVMBv', 'expanded_...</td>\n      <td>[]</td>\n      <td>Tue May 18 10:45:18 +0000 2021</td>\n      <td>NaN</td>\n      <td>Mon May 17 18:57:57 +0000 2021</td>\n      <td>NaN</td>\n      <td>NaN</td>\n      <td>2021-05-18</td>\n      <td>177.0</td>\n    </tr>\n    <tr>\n      <th>4052761</th>\n      <td>1394606089342181380</td>\n      <td>MercPat</td>\n      <td>MinervaMcGrani1</td>\n      <td>Lo sapete che le spese della sperimentazione ...</td>\n      <td>0.099781</td>\n      <td>MercPat</td>\n      <td>[{'url': 'https://t.co/aW5w6pVMBv', 'expanded_...</td>\n      <td>[]</td>\n      <td>Tue May 18 10:49:36 +0000 2021</td>\n      <td>NaN</td>\n      <td>Mon May 17 18:57:57 +0000 2021</td>\n      <td>NaN</td>\n      <td>NaN</td>\n      <td>2021-05-18</td>\n      <td>777.0</td>\n    </tr>\n    <tr>\n      <th>4052897</th>\n      <td>1394607696679157761</td>\n      <td>Loestestest</td>\n      <td>MinervaMcGrani1</td>\n      <td>valy_s tommasomatic L’anno scorso non c’erano ...</td>\n      <td>0.259045</td>\n      <td>Loestestest</td>\n      <td>[]</td>\n      <td>[]</td>\n      <td>Tue May 18 10:56:00 +0000 2021</td>\n      <td>NaN</td>\n      <td>Mon May 17 23:45:52 +0000 2021</td>\n      <td>NaN</td>\n      <td>NaN</td>\n      <td>2021-05-18</td>\n      <td>742.0</td>\n    </tr>\n    <tr>\n      <th>4053149</th>\n      <td>1394609741897211910</td>\n      <td>SoniaLaVera</td>\n      <td>MinervaMcGrani1</td>\n      <td>valy_s tommasomatic L’anno scorso non c’erano ...</td>\n      <td>0.259045</td>\n      <td>SoniaLaVera</td>\n      <td>[]</td>\n      <td>[]</td>\n      <td>Tue May 18 11:04:07 +0000 2021</td>\n      <td>NaN</td>\n      <td>Mon May 17 23:45:52 +0000 2021</td>\n      <td>NaN</td>\n      <td>NaN</td>\n      <td>2021-05-18</td>\n      <td>2958.0</td>\n    </tr>\n  </tbody>\n</table>\n<p>26481 rows × 15 columns</p>\n</div>"
     },
     "execution_count": 198,
     "metadata": {},
     "output_type": "execute_result"
    }
   ],
   "source": [
    "rt_minerva"
   ],
   "metadata": {
    "collapsed": false,
    "pycharm": {
     "name": "#%%\n"
    }
   }
  },
  {
   "cell_type": "code",
   "execution_count": 200,
   "outputs": [
    {
     "data": {
      "text/plain": "               date     dates  rolling_avg\n12775    2020-01-02  0.117249          NaN\n1986     2020-01-03  0.097633          NaN\n5536     2020-01-04  0.023975          NaN\n6379     2020-01-05  0.117297          NaN\n7481     2020-01-06  0.033074          NaN\n...             ...       ...          ...\n3884054  2021-05-17  0.099781     0.059529\n3522741  2021-05-18  0.073713     0.059529\n3554100  2021-05-20  0.057731     0.057531\n3555707  2021-05-22  0.218925     0.059728\n3561218  2021-05-23  0.039598     0.059728\n\n[317 rows x 3 columns]",
      "text/html": "<div>\n<style scoped>\n    .dataframe tbody tr th:only-of-type {\n        vertical-align: middle;\n    }\n\n    .dataframe tbody tr th {\n        vertical-align: top;\n    }\n\n    .dataframe thead th {\n        text-align: right;\n    }\n</style>\n<table border=\"1\" class=\"dataframe\">\n  <thead>\n    <tr style=\"text-align: right;\">\n      <th></th>\n      <th>date</th>\n      <th>dates</th>\n      <th>rolling_avg</th>\n    </tr>\n  </thead>\n  <tbody>\n    <tr>\n      <th>12775</th>\n      <td>2020-01-02</td>\n      <td>0.117249</td>\n      <td>NaN</td>\n    </tr>\n    <tr>\n      <th>1986</th>\n      <td>2020-01-03</td>\n      <td>0.097633</td>\n      <td>NaN</td>\n    </tr>\n    <tr>\n      <th>5536</th>\n      <td>2020-01-04</td>\n      <td>0.023975</td>\n      <td>NaN</td>\n    </tr>\n    <tr>\n      <th>6379</th>\n      <td>2020-01-05</td>\n      <td>0.117297</td>\n      <td>NaN</td>\n    </tr>\n    <tr>\n      <th>7481</th>\n      <td>2020-01-06</td>\n      <td>0.033074</td>\n      <td>NaN</td>\n    </tr>\n    <tr>\n      <th>...</th>\n      <td>...</td>\n      <td>...</td>\n      <td>...</td>\n    </tr>\n    <tr>\n      <th>3884054</th>\n      <td>2021-05-17</td>\n      <td>0.099781</td>\n      <td>0.059529</td>\n    </tr>\n    <tr>\n      <th>3522741</th>\n      <td>2021-05-18</td>\n      <td>0.073713</td>\n      <td>0.059529</td>\n    </tr>\n    <tr>\n      <th>3554100</th>\n      <td>2021-05-20</td>\n      <td>0.057731</td>\n      <td>0.057531</td>\n    </tr>\n    <tr>\n      <th>3555707</th>\n      <td>2021-05-22</td>\n      <td>0.218925</td>\n      <td>0.059728</td>\n    </tr>\n    <tr>\n      <th>3561218</th>\n      <td>2021-05-23</td>\n      <td>0.039598</td>\n      <td>0.059728</td>\n    </tr>\n  </tbody>\n</table>\n<p>317 rows × 3 columns</p>\n</div>"
     },
     "execution_count": 200,
     "metadata": {},
     "output_type": "execute_result"
    }
   ],
   "source": [
    "data2"
   ],
   "metadata": {
    "collapsed": false,
    "pycharm": {
     "name": "#%%\n"
    }
   }
  },
  {
   "cell_type": "code",
   "execution_count": 196,
   "outputs": [
    {
     "data": {
      "text/plain": "               date  count_status\n13869    2020-01-02          89.0\n13342    2020-01-02          89.0\n13363    2020-01-02          89.0\n13398    2020-01-02          89.0\n13422    2020-01-02          89.0\n...             ...           ...\n3737612         NaN           NaN\n3738032         NaN           NaN\n3752277         NaN           NaN\n3828950         NaN           NaN\n3860695         NaN           NaN\n\n[26481 rows x 2 columns]",
      "text/html": "<div>\n<style scoped>\n    .dataframe tbody tr th:only-of-type {\n        vertical-align: middle;\n    }\n\n    .dataframe tbody tr th {\n        vertical-align: top;\n    }\n\n    .dataframe thead th {\n        text-align: right;\n    }\n</style>\n<table border=\"1\" class=\"dataframe\">\n  <thead>\n    <tr style=\"text-align: right;\">\n      <th></th>\n      <th>date</th>\n      <th>count_status</th>\n    </tr>\n  </thead>\n  <tbody>\n    <tr>\n      <th>13869</th>\n      <td>2020-01-02</td>\n      <td>89.0</td>\n    </tr>\n    <tr>\n      <th>13342</th>\n      <td>2020-01-02</td>\n      <td>89.0</td>\n    </tr>\n    <tr>\n      <th>13363</th>\n      <td>2020-01-02</td>\n      <td>89.0</td>\n    </tr>\n    <tr>\n      <th>13398</th>\n      <td>2020-01-02</td>\n      <td>89.0</td>\n    </tr>\n    <tr>\n      <th>13422</th>\n      <td>2020-01-02</td>\n      <td>89.0</td>\n    </tr>\n    <tr>\n      <th>...</th>\n      <td>...</td>\n      <td>...</td>\n    </tr>\n    <tr>\n      <th>3737612</th>\n      <td>NaN</td>\n      <td>NaN</td>\n    </tr>\n    <tr>\n      <th>3738032</th>\n      <td>NaN</td>\n      <td>NaN</td>\n    </tr>\n    <tr>\n      <th>3752277</th>\n      <td>NaN</td>\n      <td>NaN</td>\n    </tr>\n    <tr>\n      <th>3828950</th>\n      <td>NaN</td>\n      <td>NaN</td>\n    </tr>\n    <tr>\n      <th>3860695</th>\n      <td>NaN</td>\n      <td>NaN</td>\n    </tr>\n  </tbody>\n</table>\n<p>26481 rows × 2 columns</p>\n</div>"
     },
     "execution_count": 196,
     "metadata": {},
     "output_type": "execute_result"
    }
   ],
   "source": [
    "rt_minerva[\"count_status\"] = rt_minerva.groupby('date')['date'].transform('count')\n",
    "rt_minerva[[\"date\",\"count_status\"]].sort_values(by=[\"date\"],ascending=True)"
   ],
   "metadata": {
    "collapsed": false,
    "pycharm": {
     "name": "#%%\n"
    }
   }
  },
  {
   "cell_type": "code",
   "execution_count": null,
   "outputs": [],
   "source": [],
   "metadata": {
    "collapsed": false,
    "pycharm": {
     "name": "#%%\n"
    }
   }
  },
  {
   "cell_type": "code",
   "execution_count": null,
   "outputs": [],
   "source": [],
   "metadata": {
    "collapsed": false,
    "pycharm": {
     "name": "#%%\n"
    }
   }
  },
  {
   "cell_type": "code",
   "execution_count": null,
   "outputs": [],
   "source": [
    "import pandas as pd"
   ],
   "metadata": {
    "collapsed": false,
    "pycharm": {
     "name": "#%%\n"
    }
   }
  },
  {
   "cell_type": "code",
   "execution_count": null,
   "outputs": [],
   "source": [
    "tweets = pd.read_csv(\n",
    "    base_path + r\"/gianluca.nogara/Desktop/Repo/Vaccines_Discussion_Italy/Italian/files/tweets/tweets.csv\",\n",
    "    lineterminator=\"\\n\", low_memory=False, encoding='utf-8')\n",
    "toxicity = pd.DataFrame()\n",
    "for file in glob.glob(base_path + r\"/gianluca.nogara/switchdrive/Project VaccinItaly/Sentiment/per*.csv\"):\n",
    "    toxicity = pd.concat([toxicity, pd.read_csv(file, low_memory=False, encoding='utf-8', lineterminator='\\n')])\n",
    "df_clean = pd.read_csv(base_path + \"/gianluca.nogara/switchdrive/Project VaccinItaly/Sentiment/df_cleaned.csv\",\n",
    "                       lineterminator=\"\\n\", low_memory=False, encoding=\"utf-8\")\n",
    "\n",
    "toxicity = toxicity.merge(df_clean, on=\"text\", how=\"left\")\n",
    "toxicity = toxicity[[\"SEVERE_TOXICITY\", \"LIKELY_TO_REJECT\", \"INSULT\", \"PROFANITY\", \"THREAT\", \"id\"]]\n",
    "tweets_toxic = toxicity.merge(tweets, how=\"left\", on=\"id\")\n",
    "tweets_toxic"
   ],
   "metadata": {
    "collapsed": false,
    "pycharm": {
     "name": "#%%\n"
    }
   }
  },
  {
   "cell_type": "code",
   "execution_count": null,
   "outputs": [],
   "source": [
    "reply = tweets_toxic[tweets_toxic[\"in_reply_to_user_id\"].notna() & tweets_toxic[\"quoted_status_id\"].isna()]\n",
    "reply"
   ],
   "metadata": {
    "collapsed": false,
    "pycharm": {
     "name": "#%%\n"
    }
   }
  },
  {
   "cell_type": "code",
   "execution_count": null,
   "outputs": [],
   "source": [
    "pd.Series(reply[\"user_screen_name\"]).value_counts()"
   ],
   "metadata": {
    "collapsed": false,
    "pycharm": {
     "name": "#%%\n"
    }
   }
  }
 ],
 "metadata": {
  "kernelspec": {
   "display_name": "Python 3",
   "language": "python",
   "name": "python3"
  },
  "language_info": {
   "codemirror_mode": {
    "name": "ipython",
    "version": 2
   },
   "file_extension": ".py",
   "mimetype": "text/x-python",
   "name": "python",
   "nbconvert_exporter": "python",
   "pygments_lexer": "ipython2",
   "version": "2.7.6"
  }
 },
 "nbformat": 4,
 "nbformat_minor": 0
}