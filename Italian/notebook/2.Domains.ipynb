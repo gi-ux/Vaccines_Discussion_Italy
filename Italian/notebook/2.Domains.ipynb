{
 "cells": [
  {
   "cell_type": "code",
   "execution_count": 1,
   "metadata": {
    "id": "98ExKcmaktWg",
    "pycharm": {
     "name": "#%%\n"
    }
   },
   "outputs": [],
   "source": [
    "import pandas as pd\n",
    "import matplotlib.pyplot as plt\n",
    "import numpy as np\n",
    "from tqdm.notebook import tqdm\n",
    "import warnings\n",
    "warnings.filterwarnings(\"ignore\")"
   ]
  },
  {
   "cell_type": "markdown",
   "metadata": {
    "id": "gY6ntK2zrgd3",
    "pycharm": {
     "name": "#%% md\n"
    }
   },
   "source": [
    "### Load data"
   ]
  },
  {
   "cell_type": "code",
   "execution_count": 2,
   "metadata": {
    "id": "416mOGiiYzSW",
    "pycharm": {
     "name": "#%%\n"
    }
   },
   "outputs": [],
   "source": [
    "destination_path = \"C:/Users/gianl/Desktop/Gi/Supsi/Vaccines_Discussion_Italy/Laura/Tweets/\""
   ]
  },
  {
   "cell_type": "code",
   "execution_count": 3,
   "metadata": {
    "id": "ElYSHsQ-ZN3f",
    "pycharm": {
     "name": "#%%\n"
    }
   },
   "outputs": [],
   "source": [
    "tweets_with_urls = pd.read_parquet(destination_path+'tweets_w_urls_decompressed (1.0).parquet',\n",
    "                               engine='fastparquet')"
   ]
  },
  {
   "cell_type": "code",
   "execution_count": null,
   "metadata": {
    "colab": {
     "base_uri": "https://localhost:8080/",
     "height": 1000
    },
    "id": "3RYSa7PqsBHM",
    "outputId": "eb27f16f-6e5d-4647-a95c-3c01151a3b04",
    "pycharm": {
     "name": "#%%\n"
    }
   },
   "outputs": [],
   "source": [
    "tweets_with_urls.info()"
   ]
  },
  {
   "cell_type": "code",
   "execution_count": 102,
   "metadata": {
    "pycharm": {
     "name": "#%%\n"
    }
   },
   "outputs": [
    {
     "data": {
      "application/vnd.jupyter.widget-view+json": {
       "model_id": "5d99b7618dda4d10a7cbbed37c31b0aa",
       "version_major": 2,
       "version_minor": 0
      },
      "text/plain": [
       "HBox(children=(HTML(value=''), FloatProgress(value=0.0, max=1030912.0), HTML(value='')))"
      ]
     },
     "metadata": {},
     "output_type": "display_data"
    },
    {
     "name": "stdout",
     "output_type": "stream",
     "text": [
      "\n"
     ]
    }
   ],
   "source": [
    "value = []\n",
    "for i in tqdm(tweets_with_urls[\"urls\"]):\n",
    "    url_exp = i.split(\" \")\n",
    "    lst_inside = []\n",
    "    for exp in range(len(url_exp)):\n",
    "        if url_exp[exp] == \"'expanded_url':\":\n",
    "            lst_inside.append(url_exp[exp+1][1:-2])\n",
    "    value.append(lst_inside)\n"
   ]
  },
  {
   "cell_type": "code",
   "execution_count": 103,
   "metadata": {
    "id": "iingMUwp06f1",
    "pycharm": {
     "name": "#%%\n"
    }
   },
   "outputs": [],
   "source": [
    "def extract_domain_list(url_list):\n",
    "    domain_list = []\n",
    "    cont = 0\n",
    "    for url in url_list:\n",
    "        cont = cont + 1\n",
    "        inside = []\n",
    "        for i in url:\n",
    "            try:\n",
    "                x = i.split(\"/\")[2]\n",
    "            except:\n",
    "                x = \"napolimagazine.com\"\n",
    "            if \"www.\" in x:\n",
    "                x = x[4:]\n",
    "            inside.append(x)\n",
    "        domain_list.append(inside)\n",
    "    return domain_list"
   ]
  },
  {
   "cell_type": "code",
   "execution_count": 104,
   "metadata": {
    "pycharm": {
     "name": "#%%\n"
    }
   },
   "outputs": [],
   "source": [
    "x = extract_domain_list(value)"
   ]
  },
  {
   "cell_type": "code",
   "execution_count": 108,
   "metadata": {
    "pycharm": {
     "name": "#%%\n"
    }
   },
   "outputs": [
    {
     "name": "stdout",
     "output_type": "stream",
     "text": [
      "1030912\n",
      "1030912\n"
     ]
    }
   ],
   "source": [
    "print(len(x))\n",
    "print(len(tweets_with_urls))\n",
    "tweets_with_urls[\"domain\"] = x"
   ]
  },
  {
   "cell_type": "code",
   "execution_count": 110,
   "metadata": {
    "id": "NuUe5iYA5eNz",
    "pycharm": {
     "name": "#%%\n"
    }
   },
   "outputs": [],
   "source": [
    "tweets_with_urls.to_parquet(destination_path+\"tweets_with_domains (2.0).parquet\", index=False)"
   ]
  },
  {
   "cell_type": "markdown",
   "metadata": {
    "id": "DvZeyh-M8DOT",
    "pycharm": {
     "name": "#%% md\n"
    }
   },
   "source": [
    "# Domain with the same name written in a different way"
   ]
  },
  {
   "cell_type": "code",
   "execution_count": 113,
   "metadata": {
    "id": "LaJsdELO6wxo",
    "pycharm": {
     "name": "#%%\n"
    }
   },
   "outputs": [],
   "source": [
    "def normalize_domains(domain_list):\n",
    "    for idx in range(len(domain_list)):\n",
    "        domain=domain_list[idx]\n",
    "        if domain in domain_normalize_df['initial_domain'].values:\n",
    "            domain_list[idx] = domain_list[idx].replace(domain, domain_normalize_df[domain_normalize_df['initial_domain']==domain]['final_domain'].values[0])\n",
    "    return domain_list"
   ]
  },
  {
   "cell_type": "code",
   "execution_count": 3,
   "metadata": {
    "pycharm": {
     "name": "#%%\n"
    }
   },
   "outputs": [],
   "source": [
    "path_cred = \"C:/Users/gianl/Desktop/Gi/Supsi/MartaLauraGiada/Laura/Files/\""
   ]
  },
  {
   "cell_type": "code",
   "execution_count": 66,
   "metadata": {
    "colab": {
     "base_uri": "https://localhost:8080/",
     "height": 645
    },
    "id": "ZhJJgrdo7Ka8",
    "outputId": "41893313-25ec-4e42-cf1c-53a1eea656e0",
    "pycharm": {
     "name": "#%%\n"
    }
   },
   "outputs": [],
   "source": [
    "#read csv with \"initial_domain\" and \"final_domain\" to substitute name of same domain expressed in different ways\n",
    "domain_normalize_df = pd.read_csv(path_cred+'Domain_to_normalize.csv', sep=',')\n",
    "domain_normalize_df.drop_duplicates(inplace=True)\n",
    "domain_normalize_df"
   ]
  },
  {
   "cell_type": "code",
   "execution_count": 130,
   "metadata": {
    "id": "2xjEQl9L5lmR",
    "pycharm": {
     "name": "#%%\n"
    }
   },
   "outputs": [],
   "source": [
    "#create df with one row for every domain\n",
    "domain_df = tweets_with_urls['domain'].apply(pd.Series).reset_index().melt(id_vars='index').dropna()[['index', 'value']].set_index('index') #create df of url with one url per row"
   ]
  },
  {
   "cell_type": "markdown",
   "metadata": {
    "id": "nFZGqilt-RqE",
    "pycharm": {
     "name": "#%% md\n"
    }
   },
   "source": [
    "# Credibility"
   ]
  },
  {
   "cell_type": "code",
   "execution_count": 5,
   "metadata": {
    "id": "yg6IaeKXAuxc",
    "pycharm": {
     "name": "#%%\n"
    }
   },
   "outputs": [],
   "source": [
    "path_cred = \"C:/Users/gianl/Desktop/Gi/Supsi/Vaccines_Discussion_Italy/Italian/files/domains/\""
   ]
  },
  {
   "cell_type": "code",
   "execution_count": 6,
   "metadata": {
    "colab": {
     "base_uri": "https://localhost:8080/"
    },
    "id": "o-j-4JUgCKef",
    "outputId": "88022f98-f0e5-4d54-c5f5-e4f64500fc4d",
    "pycharm": {
     "name": "#%%\n"
    }
   },
   "outputs": [],
   "source": [
    "#change path and filename \n",
    "wider_cred_sources_df = pd.read_csv(path_cred+'final_urls.csv')\n",
    "high_cred_df = wider_cred_sources_df[wider_cred_sources_df['credibility'] == 'high']\n",
    "high_cred_df.drop_duplicates(inplace=True)\n",
    "low_cred_df = wider_cred_sources_df[wider_cred_sources_df['credibility'] == 'low']\n",
    "low_cred_df.drop_duplicates(inplace=True)"
   ]
  },
  {
   "cell_type": "code",
   "execution_count": 7,
   "metadata": {
    "colab": {
     "base_uri": "https://localhost:8080/",
     "height": 424
    },
    "id": "f97N-mnDCQXa",
    "outputId": "97884719-50d9-4019-db53-d7bfced7c2f0",
    "pycharm": {
     "name": "#%%\n"
    }
   },
   "outputs": [
    {
     "data": {
      "text/plain": "                          url credibility\n40            noidiminerva.it        high\n43          superquark.rai.it        high\n45               leganerd.com        high\n49    medicisenzafrontiere.it        high\n50                avvenire.it        high\n...                       ...         ...\n1553        umbriajournal.com        high\n1554          sardiniapost.it        high\n1555       emergency-live.com        high\n1556             newsmondo.it        high\n1558     notizieinunclick.com        high\n\n[281 rows x 2 columns]",
      "text/html": "<div>\n<style scoped>\n    .dataframe tbody tr th:only-of-type {\n        vertical-align: middle;\n    }\n\n    .dataframe tbody tr th {\n        vertical-align: top;\n    }\n\n    .dataframe thead th {\n        text-align: right;\n    }\n</style>\n<table border=\"1\" class=\"dataframe\">\n  <thead>\n    <tr style=\"text-align: right;\">\n      <th></th>\n      <th>url</th>\n      <th>credibility</th>\n    </tr>\n  </thead>\n  <tbody>\n    <tr>\n      <th>40</th>\n      <td>noidiminerva.it</td>\n      <td>high</td>\n    </tr>\n    <tr>\n      <th>43</th>\n      <td>superquark.rai.it</td>\n      <td>high</td>\n    </tr>\n    <tr>\n      <th>45</th>\n      <td>leganerd.com</td>\n      <td>high</td>\n    </tr>\n    <tr>\n      <th>49</th>\n      <td>medicisenzafrontiere.it</td>\n      <td>high</td>\n    </tr>\n    <tr>\n      <th>50</th>\n      <td>avvenire.it</td>\n      <td>high</td>\n    </tr>\n    <tr>\n      <th>...</th>\n      <td>...</td>\n      <td>...</td>\n    </tr>\n    <tr>\n      <th>1553</th>\n      <td>umbriajournal.com</td>\n      <td>high</td>\n    </tr>\n    <tr>\n      <th>1554</th>\n      <td>sardiniapost.it</td>\n      <td>high</td>\n    </tr>\n    <tr>\n      <th>1555</th>\n      <td>emergency-live.com</td>\n      <td>high</td>\n    </tr>\n    <tr>\n      <th>1556</th>\n      <td>newsmondo.it</td>\n      <td>high</td>\n    </tr>\n    <tr>\n      <th>1558</th>\n      <td>notizieinunclick.com</td>\n      <td>high</td>\n    </tr>\n  </tbody>\n</table>\n<p>281 rows × 2 columns</p>\n</div>"
     },
     "execution_count": 7,
     "metadata": {},
     "output_type": "execute_result"
    }
   ],
   "source": [
    "high_cred_df"
   ]
  },
  {
   "cell_type": "code",
   "execution_count": 8,
   "metadata": {
    "colab": {
     "base_uri": "https://localhost:8080/",
     "height": 424
    },
    "id": "xwVSA_S_COgE",
    "outputId": "0d386d83-f21d-40cd-e194-f7253aa8bfe9",
    "pycharm": {
     "name": "#%%\n"
    }
   },
   "outputs": [
    {
     "data": {
      "text/plain": "                             url credibility\n0             il-quotidiano.info         low\n1     terrarealtime.blogspot.com         low\n2             it.sputniknews.com         low\n3                  laverita.info         low\n4            liberoquotidiano.it         low\n...                          ...         ...\n1552         lecronachelucane.it         low\n1557              tristemondo.it         low\n1559              pointofnews.it         low\n1560              m.dagospia.com         low\n1561               go.byoblu.com         low\n\n[1244 rows x 2 columns]",
      "text/html": "<div>\n<style scoped>\n    .dataframe tbody tr th:only-of-type {\n        vertical-align: middle;\n    }\n\n    .dataframe tbody tr th {\n        vertical-align: top;\n    }\n\n    .dataframe thead th {\n        text-align: right;\n    }\n</style>\n<table border=\"1\" class=\"dataframe\">\n  <thead>\n    <tr style=\"text-align: right;\">\n      <th></th>\n      <th>url</th>\n      <th>credibility</th>\n    </tr>\n  </thead>\n  <tbody>\n    <tr>\n      <th>0</th>\n      <td>il-quotidiano.info</td>\n      <td>low</td>\n    </tr>\n    <tr>\n      <th>1</th>\n      <td>terrarealtime.blogspot.com</td>\n      <td>low</td>\n    </tr>\n    <tr>\n      <th>2</th>\n      <td>it.sputniknews.com</td>\n      <td>low</td>\n    </tr>\n    <tr>\n      <th>3</th>\n      <td>laverita.info</td>\n      <td>low</td>\n    </tr>\n    <tr>\n      <th>4</th>\n      <td>liberoquotidiano.it</td>\n      <td>low</td>\n    </tr>\n    <tr>\n      <th>...</th>\n      <td>...</td>\n      <td>...</td>\n    </tr>\n    <tr>\n      <th>1552</th>\n      <td>lecronachelucane.it</td>\n      <td>low</td>\n    </tr>\n    <tr>\n      <th>1557</th>\n      <td>tristemondo.it</td>\n      <td>low</td>\n    </tr>\n    <tr>\n      <th>1559</th>\n      <td>pointofnews.it</td>\n      <td>low</td>\n    </tr>\n    <tr>\n      <th>1560</th>\n      <td>m.dagospia.com</td>\n      <td>low</td>\n    </tr>\n    <tr>\n      <th>1561</th>\n      <td>go.byoblu.com</td>\n      <td>low</td>\n    </tr>\n  </tbody>\n</table>\n<p>1244 rows × 2 columns</p>\n</div>"
     },
     "execution_count": 8,
     "metadata": {},
     "output_type": "execute_result"
    }
   ],
   "source": [
    "low_cred_df"
   ]
  },
  {
   "cell_type": "code",
   "execution_count": 9,
   "metadata": {
    "id": "vSv6NWm1C-Lu",
    "pycharm": {
     "name": "#%%\n"
    }
   },
   "outputs": [],
   "source": [
    "low_cred_df = low_cred_df.rename(columns={\"url\": \"LOW\"})\n",
    "high_cred_df = high_cred_df.rename(columns={\"url\": \"HIGH\"})"
   ]
  },
  {
   "cell_type": "code",
   "execution_count": 10,
   "metadata": {
    "id": "wHGpCY3QCW5O",
    "pycharm": {
     "name": "#%%\n"
    }
   },
   "outputs": [],
   "source": [
    "social_media_df = pd.read_excel(path_cred+'social_media_sources.xlsx')\n",
    "social_media_df.drop_duplicates(inplace=True)"
   ]
  },
  {
   "cell_type": "code",
   "execution_count": 11,
   "metadata": {
    "pycharm": {
     "name": "#%%\n"
    }
   },
   "outputs": [
    {
     "data": {
      "text/plain": "      SOCIAL-MEDIA\n0      twitter.com\n1    instagram.com\n2         youtu.be\n3      youtube.com\n4     facebook.com\n6          lnkd.in\n7             t.me\n8   m.facebook.com\n9             t.co\n10         pscp.tv\n11        fb.watch\n12   m.youtube.com",
      "text/html": "<div>\n<style scoped>\n    .dataframe tbody tr th:only-of-type {\n        vertical-align: middle;\n    }\n\n    .dataframe tbody tr th {\n        vertical-align: top;\n    }\n\n    .dataframe thead th {\n        text-align: right;\n    }\n</style>\n<table border=\"1\" class=\"dataframe\">\n  <thead>\n    <tr style=\"text-align: right;\">\n      <th></th>\n      <th>SOCIAL-MEDIA</th>\n    </tr>\n  </thead>\n  <tbody>\n    <tr>\n      <th>0</th>\n      <td>twitter.com</td>\n    </tr>\n    <tr>\n      <th>1</th>\n      <td>instagram.com</td>\n    </tr>\n    <tr>\n      <th>2</th>\n      <td>youtu.be</td>\n    </tr>\n    <tr>\n      <th>3</th>\n      <td>youtube.com</td>\n    </tr>\n    <tr>\n      <th>4</th>\n      <td>facebook.com</td>\n    </tr>\n    <tr>\n      <th>6</th>\n      <td>lnkd.in</td>\n    </tr>\n    <tr>\n      <th>7</th>\n      <td>t.me</td>\n    </tr>\n    <tr>\n      <th>8</th>\n      <td>m.facebook.com</td>\n    </tr>\n    <tr>\n      <th>9</th>\n      <td>t.co</td>\n    </tr>\n    <tr>\n      <th>10</th>\n      <td>pscp.tv</td>\n    </tr>\n    <tr>\n      <th>11</th>\n      <td>fb.watch</td>\n    </tr>\n    <tr>\n      <th>12</th>\n      <td>m.youtube.com</td>\n    </tr>\n  </tbody>\n</table>\n</div>"
     },
     "execution_count": 11,
     "metadata": {},
     "output_type": "execute_result"
    }
   ],
   "source": [
    "social_media_df"
   ]
  },
  {
   "cell_type": "code",
   "execution_count": 12,
   "metadata": {
    "colab": {
     "base_uri": "https://localhost:8080/"
    },
    "id": "lvKos8iA-RTc",
    "outputId": "5afaa010-1515-43de-b8af-31a80f404a74",
    "pycharm": {
     "name": "#%%\n"
    }
   },
   "outputs": [
    {
     "name": "stdout",
     "output_type": "stream",
     "text": [
      "Possible low credibility sources = 1244\n",
      "Possible high credibility sources = 281\n",
      "Possible social media sources = 12\n"
     ]
    }
   ],
   "source": [
    "print(f'Possible low credibility sources = {len(low_cred_df)}')\n",
    "print(f'Possible high credibility sources = {len(high_cred_df)}')\n",
    "print(f'Possible social media sources = {len(social_media_df)}')"
   ]
  },
  {
   "cell_type": "code",
   "execution_count": 21,
   "metadata": {
    "pycharm": {
     "name": "#%%\n"
    }
   },
   "outputs": [
    {
     "name": "stdout",
     "output_type": "stream",
     "text": [
      "459155\n",
      "266685\n",
      "725840\n"
     ]
    }
   ],
   "source": [
    "tweets_with_urls = pd.read_parquet(\"C:/Users/gianl/Desktop/Gi/Supsi/Vaccines_Discussion_Italy/Italian/files/tweets/tweets_with_domains (2.0).parquet\")\n",
    "original = tweets_with_urls[tweets_with_urls[\"in_reply_to_screen_name\"].isna() & tweets_with_urls[\"rt_created_at\"].isna() & tweets_with_urls[\"quoted_status_id\"].isna()]\n",
    "quote = tweets_with_urls[tweets_with_urls[\"quoted_status_id\"].notna() & tweets_with_urls[\"rt_created_at\"].isna()]\n",
    "print(len(original))\n",
    "print(len(quote))\n",
    "tweets_with_urls = pd.concat([original, quote], axis=0)\n",
    "print(len(tweets_with_urls))"
   ]
  },
  {
   "cell_type": "code",
   "execution_count": 22,
   "outputs": [
    {
     "data": {
      "text/plain": "                          id               id_str  \\\n0        1221737654909382662  1221737654909382662   \n1        1221738978585563136  1221738978585563136   \n3        1221735550585053186  1221735550585053186   \n7        1221736713355173891  1221736713355173891   \n8        1221739674022162432  1221739674022162432   \n...                      ...                  ...   \n1030893  1394609204304941062  1394609204304941062   \n1030898  1394609761941921793  1394609761941921793   \n1030902  1394609630542811138  1394609630542811138   \n1030905  1394609943685304323  1394609943685304323   \n1030910  1394610015823147011  1394610015823147011   \n\n                             created_at              user_id user_screen_name  \\\n0        Mon Jan 27 10:12:10 +0000 2020            589884969       LecceSette   \n1        Mon Jan 27 10:17:25 +0000 2020            166708308     Asgard_Hydra   \n3        Mon Jan 27 10:03:48 +0000 2020  1019640307065982979       CeSPI_Roma   \n7        Mon Jan 27 10:08:25 +0000 2020            605246031   OtticaSilverio   \n8        Mon Jan 27 10:20:11 +0000 2020   823552947581812736          Aemmedi   \n...                                 ...                  ...              ...   \n1030893  Tue May 18 11:01:59 +0000 2021           1071673650         dimissia   \n1030898  Tue May 18 11:04:12 +0000 2021           3031108244    InMonsterland   \n1030902  Tue May 18 11:03:41 +0000 2021           1402708182    BansCollector   \n1030905  Tue May 18 11:04:55 +0000 2021           2263295580      JamesB04016   \n1030910  Tue May 18 11:05:13 +0000 2021            497188910      Rosskitty77   \n\n         user_verified                 user_created_at  \\\n0                False  Fri May 25 08:09:46 +0000 2012   \n1                False  Wed Jul 14 20:31:11 +0000 2010   \n3                False  Wed Jul 18 17:49:28 +0000 2018   \n7                False  Mon Jun 11 06:15:33 +0000 2012   \n8                False  Mon Jan 23 15:28:18 +0000 2017   \n...                ...                             ...   \n1030893          False  Tue Jan 08 18:47:01 +0000 2013   \n1030898          False  Thu Feb 19 18:36:18 +0000 2015   \n1030902          False  Sat May 04 16:15:39 +0000 2013   \n1030905          False  Thu Dec 26 20:29:10 +0000 2013   \n1030910          False  Sun Feb 19 18:26:36 +0000 2012   \n\n                                                      text  \\\n0        Minaccia morbillo nel Salento, Asl: \"Vaccinars...   \n1        Ricercatori a lavoro per produrre vaccino cont...   \n3        Per chi crede nella democrazia nel rispetto de...   \n7        \"La memoria è l’unico vaccino contro\\nl’indiff...   \n8        #Colesterolo, al via i test per il vaccino in ...   \n...                                                    ...   \n1030893  Cosa accade quando ti vaccini: https://t.co/55...   \n1030898  Capito la non logica di questi? https://t.co/Q...   \n1030902  @stebaraz Quando hai voglia e tempo, che ne pe...   \n1030905  Cazzo hanno usato le prime dosi per vaccinare ...   \n1030910  \"...«Ha lividi e piastrine basse». E ha richie...   \n\n                                                    source coordinates  ...  \\\n0        <a href=\"https://ifttt.com\" rel=\"nofollow\">IFT...        None  ...   \n1        <a href=\"http://twitter.com\" rel=\"nofollow\">Tw...        None  ...   \n3        <a href=\"https://mobile.twitter.com\" rel=\"nofo...        None  ...   \n7        <a href=\"https://ifttt.com\" rel=\"nofollow\">IFT...        None  ...   \n8        <a href=\"http://twitter.com\" rel=\"nofollow\">Tw...        None  ...   \n...                                                    ...         ...  ...   \n1030893  <a href=\"http://twitter.com/download/android\" ...        None  ...   \n1030898  <a href=\"https://mobile.twitter.com\" rel=\"nofo...        None  ...   \n1030902  <a href=\"https://mobile.twitter.com\" rel=\"nofo...        None  ...   \n1030905  <a href=\"http://twitter.com/download/android\" ...        None  ...   \n1030910  <a href=\"https://mobile.twitter.com\" rel=\"nofo...        None  ...   \n\n                                                  hashtags  symbols  \\\n0                                                       []       []   \n1                                                       []       []   \n3        [{'text': 'antisemitismo', 'indices': [118, 13...       []   \n7        [{'text': '27gennaio', 'indices': [68, 78]}, {...       []   \n8            [{'text': 'Colesterolo', 'indices': [0, 12]}]       []   \n...                                                    ...      ...   \n1030893                                                 []       []   \n1030898                                                 []       []   \n1030902                                                 []       []   \n1030905                                                 []       []   \n1030910                                                 []       []   \n\n                                             user_mentions  \\\n0                                                       []   \n1                                                       []   \n3        [{'screen_name': 'pierofassino', 'name': 'Pier...   \n7                                                       []   \n8        [{'screen_name': 'ilmessaggeroit', 'name': 'Il...   \n...                                                    ...   \n1030893                                                 []   \n1030898                                                 []   \n1030902  [{'screen_name': 'stebaraz', 'name': 'Stefano ...   \n1030905                                                 []   \n1030910                                                 []   \n\n                                                      urls  polls  \\\n0        [{'url': 'https://t.co/CY0qiQFk6s', 'expanded_...     []   \n1        [{'url': 'https://t.co/2bcyuvpnhj', 'expanded_...     []   \n3        [{'url': 'https://t.co/bPHttOpFcg', 'expanded_...     []   \n7        [{'url': 'https://t.co/d94LjNROdb', 'expanded_...     []   \n8        [{'url': 'https://t.co/YINcjBn5MC', 'expanded_...     []   \n...                                                    ...    ...   \n1030893  [{'url': 'https://t.co/55vgfQNnlE', 'expanded_...     []   \n1030898  [{'url': 'https://t.co/QDxocGtG98', 'expanded_...     []   \n1030902  [{'url': 'https://t.co/2bHtlPR7dG', 'expanded_...     []   \n1030905  [{'url': 'https://t.co/OspeMRyENg', 'expanded_...     []   \n1030910  [{'url': 'https://t.co/5UT12c2sur', 'expanded_...     []   \n\n                                                     media  user_tweets_count  \\\n0                                                       []                NaN   \n1                                                       []                NaN   \n3        [{'id': 1221735545799352322, 'id_str': '122173...                NaN   \n7        [{'id': 1221736712335962112, 'id_str': '122173...                NaN   \n8                                                       []                NaN   \n...                                                    ...                ...   \n1030893  [{'id': 1394609195555639298, 'id_str': '139460...           101873.0   \n1030898                                                 []            54859.0   \n1030902                                                 []            51214.0   \n1030905                                                 []            20292.0   \n1030910                                                 []            79297.0   \n\n         user_friends_count  user_followers_count              domain  \n0                       NaN                   NaN     [leccesette.it]  \n1                       NaN                   NaN  [tech.everyeye.it]  \n3                       NaN                   NaN          [cespi.it]  \n7                       NaN                   NaN     [instagram.com]  \n8                       NaN                   NaN   [ilmessaggero.it]  \n...                     ...                   ...                 ...  \n1030893              1667.0                1273.0       [twitter.com]  \n1030898               979.0                2858.0       [twitter.com]  \n1030902              1532.0                1087.0       [twitter.com]  \n1030905                31.0                  89.0       [twitter.com]  \n1030910               772.0                 893.0       [twitter.com]  \n\n[725840 rows x 50 columns]",
      "text/html": "<div>\n<style scoped>\n    .dataframe tbody tr th:only-of-type {\n        vertical-align: middle;\n    }\n\n    .dataframe tbody tr th {\n        vertical-align: top;\n    }\n\n    .dataframe thead th {\n        text-align: right;\n    }\n</style>\n<table border=\"1\" class=\"dataframe\">\n  <thead>\n    <tr style=\"text-align: right;\">\n      <th></th>\n      <th>id</th>\n      <th>id_str</th>\n      <th>created_at</th>\n      <th>user_id</th>\n      <th>user_screen_name</th>\n      <th>user_verified</th>\n      <th>user_created_at</th>\n      <th>text</th>\n      <th>source</th>\n      <th>coordinates</th>\n      <th>...</th>\n      <th>hashtags</th>\n      <th>symbols</th>\n      <th>user_mentions</th>\n      <th>urls</th>\n      <th>polls</th>\n      <th>media</th>\n      <th>user_tweets_count</th>\n      <th>user_friends_count</th>\n      <th>user_followers_count</th>\n      <th>domain</th>\n    </tr>\n  </thead>\n  <tbody>\n    <tr>\n      <th>0</th>\n      <td>1221737654909382662</td>\n      <td>1221737654909382662</td>\n      <td>Mon Jan 27 10:12:10 +0000 2020</td>\n      <td>589884969</td>\n      <td>LecceSette</td>\n      <td>False</td>\n      <td>Fri May 25 08:09:46 +0000 2012</td>\n      <td>Minaccia morbillo nel Salento, Asl: \"Vaccinars...</td>\n      <td>&lt;a href=\"https://ifttt.com\" rel=\"nofollow\"&gt;IFT...</td>\n      <td>None</td>\n      <td>...</td>\n      <td>[]</td>\n      <td>[]</td>\n      <td>[]</td>\n      <td>[{'url': 'https://t.co/CY0qiQFk6s', 'expanded_...</td>\n      <td>[]</td>\n      <td>[]</td>\n      <td>NaN</td>\n      <td>NaN</td>\n      <td>NaN</td>\n      <td>[leccesette.it]</td>\n    </tr>\n    <tr>\n      <th>1</th>\n      <td>1221738978585563136</td>\n      <td>1221738978585563136</td>\n      <td>Mon Jan 27 10:17:25 +0000 2020</td>\n      <td>166708308</td>\n      <td>Asgard_Hydra</td>\n      <td>False</td>\n      <td>Wed Jul 14 20:31:11 +0000 2010</td>\n      <td>Ricercatori a lavoro per produrre vaccino cont...</td>\n      <td>&lt;a href=\"http://twitter.com\" rel=\"nofollow\"&gt;Tw...</td>\n      <td>None</td>\n      <td>...</td>\n      <td>[]</td>\n      <td>[]</td>\n      <td>[]</td>\n      <td>[{'url': 'https://t.co/2bcyuvpnhj', 'expanded_...</td>\n      <td>[]</td>\n      <td>[]</td>\n      <td>NaN</td>\n      <td>NaN</td>\n      <td>NaN</td>\n      <td>[tech.everyeye.it]</td>\n    </tr>\n    <tr>\n      <th>3</th>\n      <td>1221735550585053186</td>\n      <td>1221735550585053186</td>\n      <td>Mon Jan 27 10:03:48 +0000 2020</td>\n      <td>1019640307065982979</td>\n      <td>CeSPI_Roma</td>\n      <td>False</td>\n      <td>Wed Jul 18 17:49:28 +0000 2018</td>\n      <td>Per chi crede nella democrazia nel rispetto de...</td>\n      <td>&lt;a href=\"https://mobile.twitter.com\" rel=\"nofo...</td>\n      <td>None</td>\n      <td>...</td>\n      <td>[{'text': 'antisemitismo', 'indices': [118, 13...</td>\n      <td>[]</td>\n      <td>[{'screen_name': 'pierofassino', 'name': 'Pier...</td>\n      <td>[{'url': 'https://t.co/bPHttOpFcg', 'expanded_...</td>\n      <td>[]</td>\n      <td>[{'id': 1221735545799352322, 'id_str': '122173...</td>\n      <td>NaN</td>\n      <td>NaN</td>\n      <td>NaN</td>\n      <td>[cespi.it]</td>\n    </tr>\n    <tr>\n      <th>7</th>\n      <td>1221736713355173891</td>\n      <td>1221736713355173891</td>\n      <td>Mon Jan 27 10:08:25 +0000 2020</td>\n      <td>605246031</td>\n      <td>OtticaSilverio</td>\n      <td>False</td>\n      <td>Mon Jun 11 06:15:33 +0000 2012</td>\n      <td>\"La memoria è l’unico vaccino contro\\nl’indiff...</td>\n      <td>&lt;a href=\"https://ifttt.com\" rel=\"nofollow\"&gt;IFT...</td>\n      <td>None</td>\n      <td>...</td>\n      <td>[{'text': '27gennaio', 'indices': [68, 78]}, {...</td>\n      <td>[]</td>\n      <td>[]</td>\n      <td>[{'url': 'https://t.co/d94LjNROdb', 'expanded_...</td>\n      <td>[]</td>\n      <td>[{'id': 1221736712335962112, 'id_str': '122173...</td>\n      <td>NaN</td>\n      <td>NaN</td>\n      <td>NaN</td>\n      <td>[instagram.com]</td>\n    </tr>\n    <tr>\n      <th>8</th>\n      <td>1221739674022162432</td>\n      <td>1221739674022162432</td>\n      <td>Mon Jan 27 10:20:11 +0000 2020</td>\n      <td>823552947581812736</td>\n      <td>Aemmedi</td>\n      <td>False</td>\n      <td>Mon Jan 23 15:28:18 +0000 2017</td>\n      <td>#Colesterolo, al via i test per il vaccino in ...</td>\n      <td>&lt;a href=\"http://twitter.com\" rel=\"nofollow\"&gt;Tw...</td>\n      <td>None</td>\n      <td>...</td>\n      <td>[{'text': 'Colesterolo', 'indices': [0, 12]}]</td>\n      <td>[]</td>\n      <td>[{'screen_name': 'ilmessaggeroit', 'name': 'Il...</td>\n      <td>[{'url': 'https://t.co/YINcjBn5MC', 'expanded_...</td>\n      <td>[]</td>\n      <td>[]</td>\n      <td>NaN</td>\n      <td>NaN</td>\n      <td>NaN</td>\n      <td>[ilmessaggero.it]</td>\n    </tr>\n    <tr>\n      <th>...</th>\n      <td>...</td>\n      <td>...</td>\n      <td>...</td>\n      <td>...</td>\n      <td>...</td>\n      <td>...</td>\n      <td>...</td>\n      <td>...</td>\n      <td>...</td>\n      <td>...</td>\n      <td>...</td>\n      <td>...</td>\n      <td>...</td>\n      <td>...</td>\n      <td>...</td>\n      <td>...</td>\n      <td>...</td>\n      <td>...</td>\n      <td>...</td>\n      <td>...</td>\n      <td>...</td>\n    </tr>\n    <tr>\n      <th>1030893</th>\n      <td>1394609204304941062</td>\n      <td>1394609204304941062</td>\n      <td>Tue May 18 11:01:59 +0000 2021</td>\n      <td>1071673650</td>\n      <td>dimissia</td>\n      <td>False</td>\n      <td>Tue Jan 08 18:47:01 +0000 2013</td>\n      <td>Cosa accade quando ti vaccini: https://t.co/55...</td>\n      <td>&lt;a href=\"http://twitter.com/download/android\" ...</td>\n      <td>None</td>\n      <td>...</td>\n      <td>[]</td>\n      <td>[]</td>\n      <td>[]</td>\n      <td>[{'url': 'https://t.co/55vgfQNnlE', 'expanded_...</td>\n      <td>[]</td>\n      <td>[{'id': 1394609195555639298, 'id_str': '139460...</td>\n      <td>101873.0</td>\n      <td>1667.0</td>\n      <td>1273.0</td>\n      <td>[twitter.com]</td>\n    </tr>\n    <tr>\n      <th>1030898</th>\n      <td>1394609761941921793</td>\n      <td>1394609761941921793</td>\n      <td>Tue May 18 11:04:12 +0000 2021</td>\n      <td>3031108244</td>\n      <td>InMonsterland</td>\n      <td>False</td>\n      <td>Thu Feb 19 18:36:18 +0000 2015</td>\n      <td>Capito la non logica di questi? https://t.co/Q...</td>\n      <td>&lt;a href=\"https://mobile.twitter.com\" rel=\"nofo...</td>\n      <td>None</td>\n      <td>...</td>\n      <td>[]</td>\n      <td>[]</td>\n      <td>[]</td>\n      <td>[{'url': 'https://t.co/QDxocGtG98', 'expanded_...</td>\n      <td>[]</td>\n      <td>[]</td>\n      <td>54859.0</td>\n      <td>979.0</td>\n      <td>2858.0</td>\n      <td>[twitter.com]</td>\n    </tr>\n    <tr>\n      <th>1030902</th>\n      <td>1394609630542811138</td>\n      <td>1394609630542811138</td>\n      <td>Tue May 18 11:03:41 +0000 2021</td>\n      <td>1402708182</td>\n      <td>BansCollector</td>\n      <td>False</td>\n      <td>Sat May 04 16:15:39 +0000 2013</td>\n      <td>@stebaraz Quando hai voglia e tempo, che ne pe...</td>\n      <td>&lt;a href=\"https://mobile.twitter.com\" rel=\"nofo...</td>\n      <td>None</td>\n      <td>...</td>\n      <td>[]</td>\n      <td>[]</td>\n      <td>[{'screen_name': 'stebaraz', 'name': 'Stefano ...</td>\n      <td>[{'url': 'https://t.co/2bHtlPR7dG', 'expanded_...</td>\n      <td>[]</td>\n      <td>[]</td>\n      <td>51214.0</td>\n      <td>1532.0</td>\n      <td>1087.0</td>\n      <td>[twitter.com]</td>\n    </tr>\n    <tr>\n      <th>1030905</th>\n      <td>1394609943685304323</td>\n      <td>1394609943685304323</td>\n      <td>Tue May 18 11:04:55 +0000 2021</td>\n      <td>2263295580</td>\n      <td>JamesB04016</td>\n      <td>False</td>\n      <td>Thu Dec 26 20:29:10 +0000 2013</td>\n      <td>Cazzo hanno usato le prime dosi per vaccinare ...</td>\n      <td>&lt;a href=\"http://twitter.com/download/android\" ...</td>\n      <td>None</td>\n      <td>...</td>\n      <td>[]</td>\n      <td>[]</td>\n      <td>[]</td>\n      <td>[{'url': 'https://t.co/OspeMRyENg', 'expanded_...</td>\n      <td>[]</td>\n      <td>[]</td>\n      <td>20292.0</td>\n      <td>31.0</td>\n      <td>89.0</td>\n      <td>[twitter.com]</td>\n    </tr>\n    <tr>\n      <th>1030910</th>\n      <td>1394610015823147011</td>\n      <td>1394610015823147011</td>\n      <td>Tue May 18 11:05:13 +0000 2021</td>\n      <td>497188910</td>\n      <td>Rosskitty77</td>\n      <td>False</td>\n      <td>Sun Feb 19 18:26:36 +0000 2012</td>\n      <td>\"...«Ha lividi e piastrine basse». E ha richie...</td>\n      <td>&lt;a href=\"https://mobile.twitter.com\" rel=\"nofo...</td>\n      <td>None</td>\n      <td>...</td>\n      <td>[]</td>\n      <td>[]</td>\n      <td>[]</td>\n      <td>[{'url': 'https://t.co/5UT12c2sur', 'expanded_...</td>\n      <td>[]</td>\n      <td>[]</td>\n      <td>79297.0</td>\n      <td>772.0</td>\n      <td>893.0</td>\n      <td>[twitter.com]</td>\n    </tr>\n  </tbody>\n</table>\n<p>725840 rows × 50 columns</p>\n</div>"
     },
     "execution_count": 22,
     "metadata": {},
     "output_type": "execute_result"
    }
   ],
   "source": [
    "tweets_with_urls"
   ],
   "metadata": {
    "collapsed": false,
    "pycharm": {
     "name": "#%%\n"
    }
   }
  },
  {
   "cell_type": "code",
   "execution_count": 23,
   "metadata": {
    "pycharm": {
     "name": "#%%\n"
    }
   },
   "outputs": [
    {
     "data": {
      "text/plain": "HBox(children=(HTML(value=''), FloatProgress(value=1.0, bar_style='info', layout=Layout(width='20px'), max=1.0…",
      "application/vnd.jupyter.widget-view+json": {
       "version_major": 2,
       "version_minor": 0,
       "model_id": "22f45c56bd54499897473c980d4e733e"
      }
     },
     "metadata": {},
     "output_type": "display_data"
    },
    {
     "name": "stdout",
     "output_type": "stream",
     "text": [
      "\n"
     ]
    }
   ],
   "source": [
    "lst = []\n",
    "lst_domains = []\n",
    "for row in tqdm(tweets_with_urls.itertuples()):\n",
    "    lst_inside = []\n",
    "    for i in row.domain:\n",
    "        lst_inside.append(i.lower())\n",
    "    lst.append(len(row.domain))\n",
    "    lst_domains.append(lst_inside)\n",
    "tweets_with_urls[\"number_of_urls\"] = lst\n",
    "tweets_with_urls[\"domain\"] = lst_domains"
   ]
  },
  {
   "cell_type": "code",
   "execution_count": 24,
   "metadata": {
    "id": "erCxieSCenDW",
    "pycharm": {
     "name": "#%%\n"
    }
   },
   "outputs": [
    {
     "data": {
      "text/plain": "HBox(children=(HTML(value=''), FloatProgress(value=1.0, bar_style='info', layout=Layout(width='20px'), max=1.0…",
      "application/vnd.jupyter.widget-view+json": {
       "version_major": 2,
       "version_minor": 0,
       "model_id": "35263baa6f634e5496f4cdf9dcbf84cd"
      }
     },
     "metadata": {},
     "output_type": "display_data"
    },
    {
     "name": "stdout",
     "output_type": "stream",
     "text": [
      "\n"
     ]
    }
   ],
   "source": [
    "low = list(low_cred_df[\"LOW\"])\n",
    "high = list(high_cred_df[\"HIGH\"])\n",
    "social = list(social_media_df[\"SOCIAL-MEDIA\"])\n",
    "list_of_low = []\n",
    "list_of_high = []\n",
    "list_of_unkw = []\n",
    "list_of_social = []\n",
    "for row in tqdm(tweets_with_urls.itertuples()):\n",
    "    value_low = 0\n",
    "    value_high = 0\n",
    "    value_unk= 0\n",
    "    value_social = 0\n",
    "    for domain in row.domain:\n",
    "        if domain in low:\n",
    "            value_low = value_low + 1 \n",
    "        elif domain in high:\n",
    "            value_high = value_high + 1\n",
    "        elif domain in social:\n",
    "            value_social = value_social + 1\n",
    "        else:\n",
    "            value_unk = value_unk+ 1\n",
    "    list_of_low.append(value_low)\n",
    "    list_of_high.append(value_high)\n",
    "    list_of_unkw.append(value_unk)\n",
    "    list_of_social.append(value_social)"
   ]
  },
  {
   "cell_type": "code",
   "execution_count": 25,
   "metadata": {
    "id": "Ngr0t0hEeoga",
    "pycharm": {
     "name": "#%%\n"
    }
   },
   "outputs": [],
   "source": [
    "tweets_with_urls['LOW'] = list_of_low\n",
    "tweets_with_urls['HIGH'] = list_of_high\n",
    "tweets_with_urls['UNKW'] = list_of_unkw\n",
    "tweets_with_urls['SOCIAL'] = list_of_social"
   ]
  },
  {
   "cell_type": "code",
   "execution_count": 26,
   "metadata": {
    "pycharm": {
     "name": "#%%\n"
    }
   },
   "outputs": [],
   "source": [
    "tweets_without_useless = tweets_with_urls[\n",
    "    (tweets_with_urls[\"urls\"].str.contains(\"twitter.com\")==False) &\n",
    "    (tweets_with_urls[\"urls\"].str.contains(\"dlvr.it\")==False) &\n",
    "    (tweets_with_urls[\"urls\"].str.contains(\"bit.ly\")==False) &\n",
    "    (tweets_with_urls[\"urls\"].str.contains(\"ow.ly\")==False) &\n",
    "    (tweets_with_urls[\"urls\"].str.contains(\"ift.tt\")==False) & \n",
    "    (tweets_with_urls[\"urls\"].str.contains(\"tinyurl\")==False) & \n",
    "    (tweets_with_urls[\"urls\"].str.contains(\"trib.al\")==False) & \n",
    "    (tweets_with_urls[\"urls\"].str.contains(\"zpr.io\")==False) & \n",
    "    (tweets_with_urls[\"urls\"].str.contains(\"is.gd\")==False) &\n",
    "    (tweets_with_urls[\"urls\"].str.contains(\"buff.ly\")==False)]"
   ]
  },
  {
   "cell_type": "code",
   "execution_count": 27,
   "metadata": {
    "pycharm": {
     "name": "#%%\n"
    }
   },
   "outputs": [
    {
     "name": "stdout",
     "output_type": "stream",
     "text": [
      "451\n",
      "12649\n",
      "Domain classified: 4.0%\n",
      "Volume classified: 67.0%\n"
     ]
    }
   ],
   "source": [
    "lst_unique = []\n",
    "for i in tweets_without_useless[\"domain\"]:\n",
    "    for j in i:\n",
    "        lst_unique.append(j)\n",
    "cont_1 = 0\n",
    "cont_2 = 0\n",
    "for i in list(pd.Series(lst_unique).unique()):\n",
    "    if (i in low) | (i in high) | (i in social):\n",
    "        cont_1 = cont_1 + 1\n",
    "    cont_2 = cont_2 + 1\n",
    "print(cont_1)\n",
    "print(cont_2)\n",
    "print(f\"Domain classified: {round(cont_1/cont_2,2)*100}%\")\n",
    "x = pd.Series(lst_unique).value_counts().sort_values(ascending=False)\n",
    "cont1 = 0\n",
    "cont2 = 0\n",
    "for k,v in x.items():\n",
    "    if (k in low) | (k in high) | (k in social):\n",
    "        cont1 = cont1 + v\n",
    "    cont2 = cont2 + v\n",
    "print(f\"Volume classified: {round(cont1/cont2,2)*100}%\")    "
   ]
  },
  {
   "cell_type": "code",
   "execution_count": 18,
   "metadata": {
    "pycharm": {
     "name": "#%%\n"
    }
   },
   "outputs": [],
   "source": [
    "# tweets_without_useless[tweets_without_useless[\"user_screen_name\"].str.contains(\"Federica989111\")]\n",
    "# for i in tweets_without_useless[tweets_without_useless[\"user_screen_name\"].str.contains(\"byoblu\")][\"text\"]:\n",
    "#     print(i)\n",
    "#     print(\"........................\")"
   ]
  },
  {
   "cell_type": "code",
   "execution_count": 19,
   "metadata": {
    "pycharm": {
     "name": "#%%\n"
    }
   },
   "outputs": [],
   "source": [
    "# lst = []\n",
    "# for i in tqdm(tweets_without_useless[tweets_without_useless[\"user_screen_name\"]==\"Mr_Ozymandias\"][\"domain\"]):\n",
    "#     lst.append(i)\n",
    "# pd.Series(lst).value_counts().sort_values(ascending=False)[:20]"
   ]
  },
  {
   "cell_type": "code",
   "execution_count": 20,
   "metadata": {
    "pycharm": {
     "name": "#%%\n"
    }
   },
   "outputs": [],
   "source": [
    "# lst2 = []\n",
    "# for i in tqdm(tweets_without_useless[tweets_without_useless[\"number_of_urls\"]>0][\"domain\"]):\n",
    "#     for value in i:\n",
    "#         lst2.append(value)"
   ]
  },
  {
   "cell_type": "code",
   "execution_count": 28,
   "metadata": {
    "pycharm": {
     "name": "#%%\n"
    }
   },
   "outputs": [
    {
     "data": {
      "text/plain": "                  number_of_urls  HIGH    LOW  UNKW  SOCIAL\nuser_screen_name                                           \ninfoitinterno              17471    33  17267   171       0\ninfoitsalute               16086    33  15859   194       0\ninfoiteconomia              6120    24   6031    65       0\nzazoomblog                  6033     0   6024     9       0\nNotiziedi_it                3529  3529      0     0       0\nIacobellisT                 3475     4   1300   373    1798\nNovanews242                 3204     0   3184     7      13\nTommyBrain                  3137     3   1211   322    1601\ninfoitesteri                3095    17   3037    41       0\nbisagnino                   1965   261   1290   405       9",
      "text/html": "<div>\n<style scoped>\n    .dataframe tbody tr th:only-of-type {\n        vertical-align: middle;\n    }\n\n    .dataframe tbody tr th {\n        vertical-align: top;\n    }\n\n    .dataframe thead th {\n        text-align: right;\n    }\n</style>\n<table border=\"1\" class=\"dataframe\">\n  <thead>\n    <tr style=\"text-align: right;\">\n      <th></th>\n      <th>number_of_urls</th>\n      <th>HIGH</th>\n      <th>LOW</th>\n      <th>UNKW</th>\n      <th>SOCIAL</th>\n    </tr>\n    <tr>\n      <th>user_screen_name</th>\n      <th></th>\n      <th></th>\n      <th></th>\n      <th></th>\n      <th></th>\n    </tr>\n  </thead>\n  <tbody>\n    <tr>\n      <th>infoitinterno</th>\n      <td>17471</td>\n      <td>33</td>\n      <td>17267</td>\n      <td>171</td>\n      <td>0</td>\n    </tr>\n    <tr>\n      <th>infoitsalute</th>\n      <td>16086</td>\n      <td>33</td>\n      <td>15859</td>\n      <td>194</td>\n      <td>0</td>\n    </tr>\n    <tr>\n      <th>infoiteconomia</th>\n      <td>6120</td>\n      <td>24</td>\n      <td>6031</td>\n      <td>65</td>\n      <td>0</td>\n    </tr>\n    <tr>\n      <th>zazoomblog</th>\n      <td>6033</td>\n      <td>0</td>\n      <td>6024</td>\n      <td>9</td>\n      <td>0</td>\n    </tr>\n    <tr>\n      <th>Notiziedi_it</th>\n      <td>3529</td>\n      <td>3529</td>\n      <td>0</td>\n      <td>0</td>\n      <td>0</td>\n    </tr>\n    <tr>\n      <th>IacobellisT</th>\n      <td>3475</td>\n      <td>4</td>\n      <td>1300</td>\n      <td>373</td>\n      <td>1798</td>\n    </tr>\n    <tr>\n      <th>Novanews242</th>\n      <td>3204</td>\n      <td>0</td>\n      <td>3184</td>\n      <td>7</td>\n      <td>13</td>\n    </tr>\n    <tr>\n      <th>TommyBrain</th>\n      <td>3137</td>\n      <td>3</td>\n      <td>1211</td>\n      <td>322</td>\n      <td>1601</td>\n    </tr>\n    <tr>\n      <th>infoitesteri</th>\n      <td>3095</td>\n      <td>17</td>\n      <td>3037</td>\n      <td>41</td>\n      <td>0</td>\n    </tr>\n    <tr>\n      <th>bisagnino</th>\n      <td>1965</td>\n      <td>261</td>\n      <td>1290</td>\n      <td>405</td>\n      <td>9</td>\n    </tr>\n  </tbody>\n</table>\n</div>"
     },
     "execution_count": 28,
     "metadata": {},
     "output_type": "execute_result"
    }
   ],
   "source": [
    "sum_of_urls_df = tweets_without_useless.groupby(['user_screen_name'])[['number_of_urls','HIGH','LOW','UNKW','SOCIAL']].sum()\n",
    "sum_of_urls_df=sum_of_urls_df.sort_values(by=['number_of_urls'], ascending=False)\n",
    "sum_of_urls_df.head(10)"
   ]
  },
  {
   "cell_type": "code",
   "execution_count": 29,
   "metadata": {
    "pycharm": {
     "name": "#%%\n"
    }
   },
   "outputs": [
    {
     "data": {
      "text/plain": "                number_of_urls      HIGH       LOW      UNKW    SOCIAL\nnumber_of_urls        1.000000  0.260763  0.955100  0.250732  0.181780\nHIGH                  0.260763  1.000000  0.013258  0.090971  0.011919\nLOW                   0.955100  0.013258  1.000000  0.101409  0.070351\nUNKW                  0.250732  0.090971  0.101409  1.000000  0.162202\nSOCIAL                0.181780  0.011919  0.070351  0.162202  1.000000",
      "text/html": "<div>\n<style scoped>\n    .dataframe tbody tr th:only-of-type {\n        vertical-align: middle;\n    }\n\n    .dataframe tbody tr th {\n        vertical-align: top;\n    }\n\n    .dataframe thead th {\n        text-align: right;\n    }\n</style>\n<table border=\"1\" class=\"dataframe\">\n  <thead>\n    <tr style=\"text-align: right;\">\n      <th></th>\n      <th>number_of_urls</th>\n      <th>HIGH</th>\n      <th>LOW</th>\n      <th>UNKW</th>\n      <th>SOCIAL</th>\n    </tr>\n  </thead>\n  <tbody>\n    <tr>\n      <th>number_of_urls</th>\n      <td>1.000000</td>\n      <td>0.260763</td>\n      <td>0.955100</td>\n      <td>0.250732</td>\n      <td>0.181780</td>\n    </tr>\n    <tr>\n      <th>HIGH</th>\n      <td>0.260763</td>\n      <td>1.000000</td>\n      <td>0.013258</td>\n      <td>0.090971</td>\n      <td>0.011919</td>\n    </tr>\n    <tr>\n      <th>LOW</th>\n      <td>0.955100</td>\n      <td>0.013258</td>\n      <td>1.000000</td>\n      <td>0.101409</td>\n      <td>0.070351</td>\n    </tr>\n    <tr>\n      <th>UNKW</th>\n      <td>0.250732</td>\n      <td>0.090971</td>\n      <td>0.101409</td>\n      <td>1.000000</td>\n      <td>0.162202</td>\n    </tr>\n    <tr>\n      <th>SOCIAL</th>\n      <td>0.181780</td>\n      <td>0.011919</td>\n      <td>0.070351</td>\n      <td>0.162202</td>\n      <td>1.000000</td>\n    </tr>\n  </tbody>\n</table>\n</div>"
     },
     "execution_count": 29,
     "metadata": {},
     "output_type": "execute_result"
    }
   ],
   "source": [
    "sum_of_urls_df.corr()"
   ]
  },
  {
   "cell_type": "code",
   "execution_count": 30,
   "metadata": {
    "id": "icrEdYimg_jw",
    "pycharm": {
     "name": "#%%\n"
    }
   },
   "outputs": [],
   "source": [
    "threshold_high_low = 10\n",
    "sum_of_urls_df_prova = sum_of_urls_df[sum_of_urls_df['number_of_urls']>=threshold_high_low]"
   ]
  },
  {
   "cell_type": "code",
   "execution_count": 31,
   "metadata": {
    "colab": {
     "base_uri": "https://localhost:8080/",
     "height": 394
    },
    "id": "S-CHfIZRhGOn",
    "outputId": "90ae4c0e-f405-46cd-90ac-243968a0ed3f",
    "pycharm": {
     "name": "#%%\n"
    }
   },
   "outputs": [
    {
     "data": {
      "text/plain": "                  number_of_urls  HIGH    LOW  UNKW  SOCIAL  conspiracy_score\nuser_screen_name                                                             \ninfoitinterno              17471    33  17267   171       0               1.0\nPaulus00767325                17     0     17     0       0               1.0\nRadioRadioWeb                131     0    128     0       3               1.0\nRItalia_N                    132     0    132     0       0               1.0\nsacinaro                      19     0      1     1      17               1.0\nMarcoMeacci8                  19     0      4     3      12               1.0\nfainfosalute                 133     0    132     1       0               1.0\nLucianoTiramani               19     0     15     4       0               1.0\nRbBenzi                       19     0     15     4       0               1.0\nVincent39617214               19     0      8     3       8               1.0",
      "text/html": "<div>\n<style scoped>\n    .dataframe tbody tr th:only-of-type {\n        vertical-align: middle;\n    }\n\n    .dataframe tbody tr th {\n        vertical-align: top;\n    }\n\n    .dataframe thead th {\n        text-align: right;\n    }\n</style>\n<table border=\"1\" class=\"dataframe\">\n  <thead>\n    <tr style=\"text-align: right;\">\n      <th></th>\n      <th>number_of_urls</th>\n      <th>HIGH</th>\n      <th>LOW</th>\n      <th>UNKW</th>\n      <th>SOCIAL</th>\n      <th>conspiracy_score</th>\n    </tr>\n    <tr>\n      <th>user_screen_name</th>\n      <th></th>\n      <th></th>\n      <th></th>\n      <th></th>\n      <th></th>\n      <th></th>\n    </tr>\n  </thead>\n  <tbody>\n    <tr>\n      <th>infoitinterno</th>\n      <td>17471</td>\n      <td>33</td>\n      <td>17267</td>\n      <td>171</td>\n      <td>0</td>\n      <td>1.0</td>\n    </tr>\n    <tr>\n      <th>Paulus00767325</th>\n      <td>17</td>\n      <td>0</td>\n      <td>17</td>\n      <td>0</td>\n      <td>0</td>\n      <td>1.0</td>\n    </tr>\n    <tr>\n      <th>RadioRadioWeb</th>\n      <td>131</td>\n      <td>0</td>\n      <td>128</td>\n      <td>0</td>\n      <td>3</td>\n      <td>1.0</td>\n    </tr>\n    <tr>\n      <th>RItalia_N</th>\n      <td>132</td>\n      <td>0</td>\n      <td>132</td>\n      <td>0</td>\n      <td>0</td>\n      <td>1.0</td>\n    </tr>\n    <tr>\n      <th>sacinaro</th>\n      <td>19</td>\n      <td>0</td>\n      <td>1</td>\n      <td>1</td>\n      <td>17</td>\n      <td>1.0</td>\n    </tr>\n    <tr>\n      <th>MarcoMeacci8</th>\n      <td>19</td>\n      <td>0</td>\n      <td>4</td>\n      <td>3</td>\n      <td>12</td>\n      <td>1.0</td>\n    </tr>\n    <tr>\n      <th>fainfosalute</th>\n      <td>133</td>\n      <td>0</td>\n      <td>132</td>\n      <td>1</td>\n      <td>0</td>\n      <td>1.0</td>\n    </tr>\n    <tr>\n      <th>LucianoTiramani</th>\n      <td>19</td>\n      <td>0</td>\n      <td>15</td>\n      <td>4</td>\n      <td>0</td>\n      <td>1.0</td>\n    </tr>\n    <tr>\n      <th>RbBenzi</th>\n      <td>19</td>\n      <td>0</td>\n      <td>15</td>\n      <td>4</td>\n      <td>0</td>\n      <td>1.0</td>\n    </tr>\n    <tr>\n      <th>Vincent39617214</th>\n      <td>19</td>\n      <td>0</td>\n      <td>8</td>\n      <td>3</td>\n      <td>8</td>\n      <td>1.0</td>\n    </tr>\n  </tbody>\n</table>\n</div>"
     },
     "execution_count": 31,
     "metadata": {},
     "output_type": "execute_result"
    }
   ],
   "source": [
    "sum_of_urls_df_prova['conspiracy_score'] = np.around(((sum_of_urls_df_prova['LOW'])/(sum_of_urls_df_prova['HIGH']+sum_of_urls_df_prova['LOW'])),2)\n",
    "sum_of_urls_df_prova=sum_of_urls_df_prova.sort_values(by=['conspiracy_score'], ascending=False)\n",
    "sum_of_urls_df_prova.head(10)"
   ]
  },
  {
   "cell_type": "code",
   "execution_count": 23,
   "outputs": [
    {
     "data": {
      "text/plain": "    user_screen_name  number_of_urls  HIGH  LOW  UNKW  SOCIAL  \\\n317           byoblu              62     2   59     0       1   \n\n     conspiracy_score  \n317              0.97  ",
      "text/html": "<div>\n<style scoped>\n    .dataframe tbody tr th:only-of-type {\n        vertical-align: middle;\n    }\n\n    .dataframe tbody tr th {\n        vertical-align: top;\n    }\n\n    .dataframe thead th {\n        text-align: right;\n    }\n</style>\n<table border=\"1\" class=\"dataframe\">\n  <thead>\n    <tr style=\"text-align: right;\">\n      <th></th>\n      <th>user_screen_name</th>\n      <th>number_of_urls</th>\n      <th>HIGH</th>\n      <th>LOW</th>\n      <th>UNKW</th>\n      <th>SOCIAL</th>\n      <th>conspiracy_score</th>\n    </tr>\n  </thead>\n  <tbody>\n    <tr>\n      <th>317</th>\n      <td>byoblu</td>\n      <td>62</td>\n      <td>2</td>\n      <td>59</td>\n      <td>0</td>\n      <td>1</td>\n      <td>0.97</td>\n    </tr>\n  </tbody>\n</table>\n</div>"
     },
     "execution_count": 23,
     "metadata": {},
     "output_type": "execute_result"
    }
   ],
   "source": [
    "sum_of_urls_df_prova.reset_index(inplace=True)\n",
    "sum_of_urls_df_prova[sum_of_urls_df_prova[\"user_screen_name\"]==\"byoblu\"]"
   ],
   "metadata": {
    "collapsed": false,
    "pycharm": {
     "name": "#%%\n"
    }
   }
  },
  {
   "cell_type": "code",
   "execution_count": 34,
   "outputs": [],
   "source": [
    "destination_path = r\"C:\\Users\\gianl\\Desktop\\Gi\\Supsi\\Vaccines_Discussion_Italy\\Italian\\files\\domains\""
   ],
   "metadata": {
    "collapsed": false,
    "pycharm": {
     "name": "#%%\n"
    }
   }
  },
  {
   "cell_type": "code",
   "execution_count": 35,
   "metadata": {
    "id": "JVJ5fMbLhf1j",
    "pycharm": {
     "name": "#%%\n"
    }
   },
   "outputs": [],
   "source": [
    "sum_of_urls_df_prova.to_csv(destination_path+r\"\\result_cred_score_thresh_10_updated.csv\",\n",
    "                            index=True, encoding=\"utf-8\", line_terminator=\"\\n\")"
   ]
  },
  {
   "cell_type": "code",
   "execution_count": 36,
   "metadata": {
    "colab": {
     "base_uri": "https://localhost:8080/",
     "height": 296
    },
    "id": "7I0-QOijhmGm",
    "outputId": "c1aeae67-88c7-441e-cbfd-ddf68ed5a86c",
    "pycharm": {
     "name": "#%%\n"
    }
   },
   "outputs": [
    {
     "data": {
      "text/plain": "<Figure size 432x288 with 1 Axes>",
      "image/png": "[encoded data removed]"
     },
     "metadata": {},
     "output_type": "display_data"
    }
   ],
   "source": [
    "# distribution of scores\n",
    "plt.hist(list(sum_of_urls_df_prova['conspiracy_score']), bins=9, alpha=0.7)\n",
    "plt.xlabel('conspiracy_score')\n",
    "plt.ylabel('No. of users')\n",
    "plt.title('Distribution of conspiracy_score', weight='bold')\n",
    "#plt.savefig('plots/dist', bbox_inches='tight')\n",
    "plt.show()"
   ]
  },
  {
   "cell_type": "code",
   "execution_count": 37,
   "metadata": {
    "pycharm": {
     "name": "#%%\n"
    }
   },
   "outputs": [
    {
     "name": "stdout",
     "output_type": "stream",
     "text": [
      "1574\n"
     ]
    },
    {
     "data": {
      "text/plain": "                  number_of_urls  HIGH    LOW  UNKW  SOCIAL  conspiracy_score\nuser_screen_name                                                             \ninfoitinterno              17471    33  17267   171       0               1.0\nPaulus00767325                17     0     17     0       0               1.0\nRadioRadioWeb                131     0    128     0       3               1.0\nRItalia_N                    132     0    132     0       0               1.0\nsacinaro                      19     0      1     1      17               1.0\nMarcoMeacci8                  19     0      4     3      12               1.0\nfainfosalute                 133     0    132     1       0               1.0\nLucianoTiramani               19     0     15     4       0               1.0\nRbBenzi                       19     0     15     4       0               1.0\nVincent39617214               19     0      8     3       8               1.0\nAugusto00213634               19     0      2    12       5               1.0\nAsuraSerg                     19     0     19     0       0               1.0\nMirellaColange1               19     0     14     1       4               1.0\nEliElicats                    18     0     13     5       0               1.0\ncronachemezzog               144     0    144     0       0               1.0\nMaurizioBlondet               18     0     17     0       1               1.0\nLaVeritaWeb                  161     0    134    27       0               1.0\ndazebao                       17     0     17     0       0               1.0\nwam_the                      163     0    163     0       0               1.0\nNopecoroni                    20     0     20     0       0               1.0",
      "text/html": "<div>\n<style scoped>\n    .dataframe tbody tr th:only-of-type {\n        vertical-align: middle;\n    }\n\n    .dataframe tbody tr th {\n        vertical-align: top;\n    }\n\n    .dataframe thead th {\n        text-align: right;\n    }\n</style>\n<table border=\"1\" class=\"dataframe\">\n  <thead>\n    <tr style=\"text-align: right;\">\n      <th></th>\n      <th>number_of_urls</th>\n      <th>HIGH</th>\n      <th>LOW</th>\n      <th>UNKW</th>\n      <th>SOCIAL</th>\n      <th>conspiracy_score</th>\n    </tr>\n    <tr>\n      <th>user_screen_name</th>\n      <th></th>\n      <th></th>\n      <th></th>\n      <th></th>\n      <th></th>\n      <th></th>\n    </tr>\n  </thead>\n  <tbody>\n    <tr>\n      <th>infoitinterno</th>\n      <td>17471</td>\n      <td>33</td>\n      <td>17267</td>\n      <td>171</td>\n      <td>0</td>\n      <td>1.0</td>\n    </tr>\n    <tr>\n      <th>Paulus00767325</th>\n      <td>17</td>\n      <td>0</td>\n      <td>17</td>\n      <td>0</td>\n      <td>0</td>\n      <td>1.0</td>\n    </tr>\n    <tr>\n      <th>RadioRadioWeb</th>\n      <td>131</td>\n      <td>0</td>\n      <td>128</td>\n      <td>0</td>\n      <td>3</td>\n      <td>1.0</td>\n    </tr>\n    <tr>\n      <th>RItalia_N</th>\n      <td>132</td>\n      <td>0</td>\n      <td>132</td>\n      <td>0</td>\n      <td>0</td>\n      <td>1.0</td>\n    </tr>\n    <tr>\n      <th>sacinaro</th>\n      <td>19</td>\n      <td>0</td>\n      <td>1</td>\n      <td>1</td>\n      <td>17</td>\n      <td>1.0</td>\n    </tr>\n    <tr>\n      <th>MarcoMeacci8</th>\n      <td>19</td>\n      <td>0</td>\n      <td>4</td>\n      <td>3</td>\n      <td>12</td>\n      <td>1.0</td>\n    </tr>\n    <tr>\n      <th>fainfosalute</th>\n      <td>133</td>\n      <td>0</td>\n      <td>132</td>\n      <td>1</td>\n      <td>0</td>\n      <td>1.0</td>\n    </tr>\n    <tr>\n      <th>LucianoTiramani</th>\n      <td>19</td>\n      <td>0</td>\n      <td>15</td>\n      <td>4</td>\n      <td>0</td>\n      <td>1.0</td>\n    </tr>\n    <tr>\n      <th>RbBenzi</th>\n      <td>19</td>\n      <td>0</td>\n      <td>15</td>\n      <td>4</td>\n      <td>0</td>\n      <td>1.0</td>\n    </tr>\n    <tr>\n      <th>Vincent39617214</th>\n      <td>19</td>\n      <td>0</td>\n      <td>8</td>\n      <td>3</td>\n      <td>8</td>\n      <td>1.0</td>\n    </tr>\n    <tr>\n      <th>Augusto00213634</th>\n      <td>19</td>\n      <td>0</td>\n      <td>2</td>\n      <td>12</td>\n      <td>5</td>\n      <td>1.0</td>\n    </tr>\n    <tr>\n      <th>AsuraSerg</th>\n      <td>19</td>\n      <td>0</td>\n      <td>19</td>\n      <td>0</td>\n      <td>0</td>\n      <td>1.0</td>\n    </tr>\n    <tr>\n      <th>MirellaColange1</th>\n      <td>19</td>\n      <td>0</td>\n      <td>14</td>\n      <td>1</td>\n      <td>4</td>\n      <td>1.0</td>\n    </tr>\n    <tr>\n      <th>EliElicats</th>\n      <td>18</td>\n      <td>0</td>\n      <td>13</td>\n      <td>5</td>\n      <td>0</td>\n      <td>1.0</td>\n    </tr>\n    <tr>\n      <th>cronachemezzog</th>\n      <td>144</td>\n      <td>0</td>\n      <td>144</td>\n      <td>0</td>\n      <td>0</td>\n      <td>1.0</td>\n    </tr>\n    <tr>\n      <th>MaurizioBlondet</th>\n      <td>18</td>\n      <td>0</td>\n      <td>17</td>\n      <td>0</td>\n      <td>1</td>\n      <td>1.0</td>\n    </tr>\n    <tr>\n      <th>LaVeritaWeb</th>\n      <td>161</td>\n      <td>0</td>\n      <td>134</td>\n      <td>27</td>\n      <td>0</td>\n      <td>1.0</td>\n    </tr>\n    <tr>\n      <th>dazebao</th>\n      <td>17</td>\n      <td>0</td>\n      <td>17</td>\n      <td>0</td>\n      <td>0</td>\n      <td>1.0</td>\n    </tr>\n    <tr>\n      <th>wam_the</th>\n      <td>163</td>\n      <td>0</td>\n      <td>163</td>\n      <td>0</td>\n      <td>0</td>\n      <td>1.0</td>\n    </tr>\n    <tr>\n      <th>Nopecoroni</th>\n      <td>20</td>\n      <td>0</td>\n      <td>20</td>\n      <td>0</td>\n      <td>0</td>\n      <td>1.0</td>\n    </tr>\n  </tbody>\n</table>\n</div>"
     },
     "execution_count": 37,
     "metadata": {},
     "output_type": "execute_result"
    }
   ],
   "source": [
    "print(len(sum_of_urls_df_prova)-len(sum_of_urls_df_prova[sum_of_urls_df_prova[\"conspiracy_score\"].notna()]))\n",
    "sum_of_urls_df_prova.head(20)"
   ]
  },
  {
   "cell_type": "code",
   "execution_count": 38,
   "metadata": {
    "colab": {
     "base_uri": "https://localhost:8080/"
    },
    "id": "Y4sd8Y59i3X3",
    "outputId": "d8f9f8c7-5881-4e2b-d577-e78a6d8189b2",
    "scrolled": false,
    "pycharm": {
     "name": "#%%\n"
    }
   },
   "outputs": [
    {
     "data": {
      "text/plain": "                  number_of_urls  HIGH    LOW  UNKW  SOCIAL  conspiracy_score\nuser_screen_name                                                             \ninfoitinterno              17471    33  17267   171       0               1.0\nPaulus00767325                17     0     17     0       0               1.0\nRadioRadioWeb                131     0    128     0       3               1.0\nRItalia_N                    132     0    132     0       0               1.0\nsacinaro                      19     0      1     1      17               1.0\n...                          ...   ...    ...   ...     ...               ...\nmaxjuve                       14     2      2     4       6               0.5\nmarinaamoretti6               14     5      5     4       0               0.5\nUniversoperso                 19     7      7     2       3               0.5\nVCountry3                     14     1      1     4       8               0.5\nleonardweb2000                12     6      6     0       0               0.5\n\n[865 rows x 6 columns]",
      "text/html": "<div>\n<style scoped>\n    .dataframe tbody tr th:only-of-type {\n        vertical-align: middle;\n    }\n\n    .dataframe tbody tr th {\n        vertical-align: top;\n    }\n\n    .dataframe thead th {\n        text-align: right;\n    }\n</style>\n<table border=\"1\" class=\"dataframe\">\n  <thead>\n    <tr style=\"text-align: right;\">\n      <th></th>\n      <th>number_of_urls</th>\n      <th>HIGH</th>\n      <th>LOW</th>\n      <th>UNKW</th>\n      <th>SOCIAL</th>\n      <th>conspiracy_score</th>\n    </tr>\n    <tr>\n      <th>user_screen_name</th>\n      <th></th>\n      <th></th>\n      <th></th>\n      <th></th>\n      <th></th>\n      <th></th>\n    </tr>\n  </thead>\n  <tbody>\n    <tr>\n      <th>infoitinterno</th>\n      <td>17471</td>\n      <td>33</td>\n      <td>17267</td>\n      <td>171</td>\n      <td>0</td>\n      <td>1.0</td>\n    </tr>\n    <tr>\n      <th>Paulus00767325</th>\n      <td>17</td>\n      <td>0</td>\n      <td>17</td>\n      <td>0</td>\n      <td>0</td>\n      <td>1.0</td>\n    </tr>\n    <tr>\n      <th>RadioRadioWeb</th>\n      <td>131</td>\n      <td>0</td>\n      <td>128</td>\n      <td>0</td>\n      <td>3</td>\n      <td>1.0</td>\n    </tr>\n    <tr>\n      <th>RItalia_N</th>\n      <td>132</td>\n      <td>0</td>\n      <td>132</td>\n      <td>0</td>\n      <td>0</td>\n      <td>1.0</td>\n    </tr>\n    <tr>\n      <th>sacinaro</th>\n      <td>19</td>\n      <td>0</td>\n      <td>1</td>\n      <td>1</td>\n      <td>17</td>\n      <td>1.0</td>\n    </tr>\n    <tr>\n      <th>...</th>\n      <td>...</td>\n      <td>...</td>\n      <td>...</td>\n      <td>...</td>\n      <td>...</td>\n      <td>...</td>\n    </tr>\n    <tr>\n      <th>maxjuve</th>\n      <td>14</td>\n      <td>2</td>\n      <td>2</td>\n      <td>4</td>\n      <td>6</td>\n      <td>0.5</td>\n    </tr>\n    <tr>\n      <th>marinaamoretti6</th>\n      <td>14</td>\n      <td>5</td>\n      <td>5</td>\n      <td>4</td>\n      <td>0</td>\n      <td>0.5</td>\n    </tr>\n    <tr>\n      <th>Universoperso</th>\n      <td>19</td>\n      <td>7</td>\n      <td>7</td>\n      <td>2</td>\n      <td>3</td>\n      <td>0.5</td>\n    </tr>\n    <tr>\n      <th>VCountry3</th>\n      <td>14</td>\n      <td>1</td>\n      <td>1</td>\n      <td>4</td>\n      <td>8</td>\n      <td>0.5</td>\n    </tr>\n    <tr>\n      <th>leonardweb2000</th>\n      <td>12</td>\n      <td>6</td>\n      <td>6</td>\n      <td>0</td>\n      <td>0</td>\n      <td>0.5</td>\n    </tr>\n  </tbody>\n</table>\n<p>865 rows × 6 columns</p>\n</div>"
     },
     "execution_count": 38,
     "metadata": {},
     "output_type": "execute_result"
    }
   ],
   "source": [
    "sum_of_urls_df_prova[sum_of_urls_df_prova[\"conspiracy_score\"]>=0.50]"
   ]
  },
  {
   "cell_type": "code",
   "execution_count": 40,
   "outputs": [],
   "source": [
    "tweets_without_useless.to_csv(r\"C:\\Users\\gianl\\Desktop\\Gi\\Supsi\\Vaccines_Discussion_Italy\\Italian\\files\\tweets\\tweets_without_useless_and_score (5.0).csv\", line_terminator=\"\\n\", index=False, encoding=\"utf-8\")"
   ],
   "metadata": {
    "collapsed": false,
    "pycharm": {
     "name": "#%%\n"
    }
   }
  },
  {
   "cell_type": "markdown",
   "source": [
    "# Low / tweets"
   ],
   "metadata": {
    "collapsed": false,
    "pycharm": {
     "name": "#%% md\n"
    }
   }
  },
  {
   "cell_type": "code",
   "execution_count": 41,
   "outputs": [
    {
     "data": {
      "text/plain": "                  number_of_urls  HIGH    LOW  UNKW  SOCIAL\nuser_screen_name                                           \ninfoitinterno              17471    33  17267   171       0\ninfoitsalute               16086    33  15859   194       0\ninfoiteconomia              6120    24   6031    65       0\nzazoomblog                  6033     0   6024     9       0\nNotiziedi_it                3529  3529      0     0       0\n...                          ...   ...    ...   ...     ...\nSDoria9                        1     0      0     1       0\nSDellabella                    1     1      0     0       0\nSCostarelli                    1     0      0     1       0\nSC_K22                         1     1      0     0       0\nzziocane66                     1     0      0     1       0\n\n[44331 rows x 5 columns]",
      "text/html": "<div>\n<style scoped>\n    .dataframe tbody tr th:only-of-type {\n        vertical-align: middle;\n    }\n\n    .dataframe tbody tr th {\n        vertical-align: top;\n    }\n\n    .dataframe thead th {\n        text-align: right;\n    }\n</style>\n<table border=\"1\" class=\"dataframe\">\n  <thead>\n    <tr style=\"text-align: right;\">\n      <th></th>\n      <th>number_of_urls</th>\n      <th>HIGH</th>\n      <th>LOW</th>\n      <th>UNKW</th>\n      <th>SOCIAL</th>\n    </tr>\n    <tr>\n      <th>user_screen_name</th>\n      <th></th>\n      <th></th>\n      <th></th>\n      <th></th>\n      <th></th>\n    </tr>\n  </thead>\n  <tbody>\n    <tr>\n      <th>infoitinterno</th>\n      <td>17471</td>\n      <td>33</td>\n      <td>17267</td>\n      <td>171</td>\n      <td>0</td>\n    </tr>\n    <tr>\n      <th>infoitsalute</th>\n      <td>16086</td>\n      <td>33</td>\n      <td>15859</td>\n      <td>194</td>\n      <td>0</td>\n    </tr>\n    <tr>\n      <th>infoiteconomia</th>\n      <td>6120</td>\n      <td>24</td>\n      <td>6031</td>\n      <td>65</td>\n      <td>0</td>\n    </tr>\n    <tr>\n      <th>zazoomblog</th>\n      <td>6033</td>\n      <td>0</td>\n      <td>6024</td>\n      <td>9</td>\n      <td>0</td>\n    </tr>\n    <tr>\n      <th>Notiziedi_it</th>\n      <td>3529</td>\n      <td>3529</td>\n      <td>0</td>\n      <td>0</td>\n      <td>0</td>\n    </tr>\n    <tr>\n      <th>...</th>\n      <td>...</td>\n      <td>...</td>\n      <td>...</td>\n      <td>...</td>\n      <td>...</td>\n    </tr>\n    <tr>\n      <th>SDoria9</th>\n      <td>1</td>\n      <td>0</td>\n      <td>0</td>\n      <td>1</td>\n      <td>0</td>\n    </tr>\n    <tr>\n      <th>SDellabella</th>\n      <td>1</td>\n      <td>1</td>\n      <td>0</td>\n      <td>0</td>\n      <td>0</td>\n    </tr>\n    <tr>\n      <th>SCostarelli</th>\n      <td>1</td>\n      <td>0</td>\n      <td>0</td>\n      <td>1</td>\n      <td>0</td>\n    </tr>\n    <tr>\n      <th>SC_K22</th>\n      <td>1</td>\n      <td>1</td>\n      <td>0</td>\n      <td>0</td>\n      <td>0</td>\n    </tr>\n    <tr>\n      <th>zziocane66</th>\n      <td>1</td>\n      <td>0</td>\n      <td>0</td>\n      <td>1</td>\n      <td>0</td>\n    </tr>\n  </tbody>\n</table>\n<p>44331 rows × 5 columns</p>\n</div>"
     },
     "execution_count": 41,
     "metadata": {},
     "output_type": "execute_result"
    }
   ],
   "source": [
    "\n",
    "sum_of_urls_df"
   ],
   "metadata": {
    "collapsed": false,
    "pycharm": {
     "name": "#%%\n"
    }
   }
  }
 ],
 "metadata": {
  "colab": {
   "name": "Domains.ipynb",
   "provenance": [],
   "toc_visible": true
  },
  "kernelspec": {
   "display_name": "Python 3",
   "language": "python",
   "name": "python3"
  },
  "language_info": {
   "codemirror_mode": {
    "name": "ipython",
    "version": 3
   },
   "file_extension": ".py",
   "mimetype": "text/x-python",
   "name": "python",
   "nbconvert_exporter": "python",
   "pygments_lexer": "ipython3",
   "version": "3.8.11"
  }
 },
 "nbformat": 4,
 "nbformat_minor": 1
}