{
 "cells": [
  {
   "cell_type": "code",
   "execution_count": 1,
   "metadata": {
    "id": "98ExKcmaktWg",
    "pycharm": {
     "name": "#%%\n"
    }
   },
   "outputs": [],
   "source": [
    "import pandas as pd\n",
    "import matplotlib.pyplot as plt\n",
    "import numpy as np\n",
    "from tqdm.notebook import tqdm\n",
    "import warnings\n",
    "warnings.filterwarnings(\"ignore\")"
   ]
  },
  {
   "cell_type": "markdown",
   "metadata": {
    "id": "gY6ntK2zrgd3",
    "pycharm": {
     "name": "#%% md\n"
    }
   },
   "source": [
    "### Load data"
   ]
  },
  {
   "cell_type": "code",
   "execution_count": 2,
   "metadata": {
    "id": "416mOGiiYzSW",
    "pycharm": {
     "name": "#%%\n"
    }
   },
   "outputs": [],
   "source": [
    "destination_path = \"C:/Users/gianl/Desktop/Gi/Supsi/Vaccines_Discussion_Italy/Laura/Tweets/\""
   ]
  },
  {
   "cell_type": "code",
   "execution_count": 3,
   "metadata": {
    "id": "ElYSHsQ-ZN3f",
    "pycharm": {
     "name": "#%%\n"
    }
   },
   "outputs": [],
   "source": [
    "tweets_with_urls = pd.read_parquet(destination_path+'tweets_w_urls_decompressed (1.0).parquet',\n",
    "                               engine='fastparquet')"
   ]
  },
  {
   "cell_type": "code",
   "execution_count": null,
   "metadata": {
    "colab": {
     "base_uri": "https://localhost:8080/",
     "height": 1000
    },
    "id": "3RYSa7PqsBHM",
    "outputId": "eb27f16f-6e5d-4647-a95c-3c01151a3b04",
    "pycharm": {
     "name": "#%%\n"
    }
   },
   "outputs": [],
   "source": [
    "tweets_with_urls.info()"
   ]
  },
  {
   "cell_type": "code",
   "execution_count": 102,
   "metadata": {
    "pycharm": {
     "name": "#%%\n"
    }
   },
   "outputs": [
    {
     "data": {
      "application/vnd.jupyter.widget-view+json": {
       "model_id": "5d99b7618dda4d10a7cbbed37c31b0aa",
       "version_major": 2,
       "version_minor": 0
      },
      "text/plain": [
       "HBox(children=(HTML(value=''), FloatProgress(value=0.0, max=1030912.0), HTML(value='')))"
      ]
     },
     "metadata": {},
     "output_type": "display_data"
    },
    {
     "name": "stdout",
     "output_type": "stream",
     "text": [
      "\n"
     ]
    }
   ],
   "source": [
    "value = []\n",
    "for i in tqdm(tweets_with_urls[\"urls\"]):\n",
    "    url_exp = i.split(\" \")\n",
    "    lst_inside = []\n",
    "    for exp in range(len(url_exp)):\n",
    "        if url_exp[exp] == \"'expanded_url':\":\n",
    "            lst_inside.append(url_exp[exp+1][1:-2])\n",
    "    value.append(lst_inside)\n"
   ]
  },
  {
   "cell_type": "code",
   "execution_count": 103,
   "metadata": {
    "id": "iingMUwp06f1",
    "pycharm": {
     "name": "#%%\n"
    }
   },
   "outputs": [],
   "source": [
    "def extract_domain_list(url_list):\n",
    "    domain_list = []\n",
    "    cont = 0\n",
    "    for url in url_list:\n",
    "        cont = cont + 1\n",
    "        inside = []\n",
    "        for i in url:\n",
    "            try:\n",
    "                x = i.split(\"/\")[2]\n",
    "            except:\n",
    "                x = \"napolimagazine.com\"\n",
    "            if \"www.\" in x:\n",
    "                x = x[4:]\n",
    "            inside.append(x)\n",
    "        domain_list.append(inside)\n",
    "    return domain_list"
   ]
  },
  {
   "cell_type": "code",
   "execution_count": 104,
   "metadata": {
    "pycharm": {
     "name": "#%%\n"
    }
   },
   "outputs": [],
   "source": [
    "x = extract_domain_list(value)"
   ]
  },
  {
   "cell_type": "code",
   "execution_count": 108,
   "metadata": {
    "pycharm": {
     "name": "#%%\n"
    }
   },
   "outputs": [
    {
     "name": "stdout",
     "output_type": "stream",
     "text": [
      "1030912\n",
      "1030912\n"
     ]
    }
   ],
   "source": [
    "print(len(x))\n",
    "print(len(tweets_with_urls))\n",
    "tweets_with_urls[\"domain\"] = x"
   ]
  },
  {
   "cell_type": "code",
   "execution_count": 110,
   "metadata": {
    "id": "NuUe5iYA5eNz",
    "pycharm": {
     "name": "#%%\n"
    }
   },
   "outputs": [],
   "source": [
    "tweets_with_urls.to_parquet(destination_path+\"tweets_with_domains (2.0).parquet\", index=False)"
   ]
  },
  {
   "cell_type": "markdown",
   "metadata": {
    "id": "DvZeyh-M8DOT",
    "pycharm": {
     "name": "#%% md\n"
    }
   },
   "source": [
    "# Domain with the same name written in a different way"
   ]
  },
  {
   "cell_type": "code",
   "execution_count": 113,
   "metadata": {
    "id": "LaJsdELO6wxo",
    "pycharm": {
     "name": "#%%\n"
    }
   },
   "outputs": [],
   "source": [
    "def normalize_domains(domain_list):\n",
    "    for idx in range(len(domain_list)):\n",
    "        domain=domain_list[idx]\n",
    "        if domain in domain_normalize_df['initial_domain'].values:\n",
    "            domain_list[idx] = domain_list[idx].replace(domain, domain_normalize_df[domain_normalize_df['initial_domain']==domain]['final_domain'].values[0])\n",
    "    return domain_list"
   ]
  },
  {
   "cell_type": "code",
   "execution_count": 3,
   "metadata": {
    "pycharm": {
     "name": "#%%\n"
    }
   },
   "outputs": [],
   "source": [
    "path_cred = \"C:/Users/gianl/Desktop/Gi/Supsi/MartaLauraGiada/Laura/Files/\""
   ]
  },
  {
   "cell_type": "code",
   "execution_count": 66,
   "metadata": {
    "colab": {
     "base_uri": "https://localhost:8080/",
     "height": 645
    },
    "id": "ZhJJgrdo7Ka8",
    "outputId": "41893313-25ec-4e42-cf1c-53a1eea656e0",
    "pycharm": {
     "name": "#%%\n"
    }
   },
   "outputs": [],
   "source": [
    "#read csv with \"initial_domain\" and \"final_domain\" to substitute name of same domain expressed in different ways\n",
    "domain_normalize_df = pd.read_csv(path_cred+'Domain_to_normalize.csv', sep=',')\n",
    "domain_normalize_df.drop_duplicates(inplace=True)\n",
    "domain_normalize_df"
   ]
  },
  {
   "cell_type": "code",
   "execution_count": 130,
   "metadata": {
    "id": "2xjEQl9L5lmR",
    "pycharm": {
     "name": "#%%\n"
    }
   },
   "outputs": [],
   "source": [
    "#create df with one row for every domain\n",
    "domain_df = tweets_with_urls['domain'].apply(pd.Series).reset_index().melt(id_vars='index').dropna()[['index', 'value']].set_index('index') #create df of url with one url per row"
   ]
  },
  {
   "cell_type": "markdown",
   "metadata": {
    "id": "nFZGqilt-RqE",
    "pycharm": {
     "name": "#%% md\n"
    }
   },
   "source": [
    "# Credibility"
   ]
  },
  {
   "cell_type": "code",
   "execution_count": 5,
   "metadata": {
    "id": "yg6IaeKXAuxc",
    "pycharm": {
     "name": "#%%\n"
    }
   },
   "outputs": [],
   "source": [
    "path_cred = \"C:/Users/gianl/Desktop/Gi/Supsi/Vaccines_Discussion_Italy/\""
   ]
  },
  {
   "cell_type": "code",
   "execution_count": 6,
   "metadata": {
    "colab": {
     "base_uri": "https://localhost:8080/"
    },
    "id": "o-j-4JUgCKef",
    "outputId": "88022f98-f0e5-4d54-c5f5-e4f64500fc4d",
    "pycharm": {
     "name": "#%%\n"
    }
   },
   "outputs": [],
   "source": [
    "#change path and filename \n",
    "wider_cred_sources_df = pd.read_csv(path_cred+'final_urls.csv')\n",
    "high_cred_df = wider_cred_sources_df[wider_cred_sources_df['credibility'] == 'high']\n",
    "high_cred_df.drop_duplicates(inplace=True)\n",
    "low_cred_df = wider_cred_sources_df[wider_cred_sources_df['credibility'] == 'low']\n",
    "low_cred_df.drop_duplicates(inplace=True)"
   ]
  },
  {
   "cell_type": "code",
   "execution_count": 7,
   "metadata": {
    "colab": {
     "base_uri": "https://localhost:8080/",
     "height": 424
    },
    "id": "f97N-mnDCQXa",
    "outputId": "97884719-50d9-4019-db53-d7bfced7c2f0",
    "pycharm": {
     "name": "#%%\n"
    }
   },
   "outputs": [
    {
     "data": {
      "text/plain": "                          url credibility\n40            noidiminerva.it        high\n43          superquark.rai.it        high\n45               leganerd.com        high\n49    medicisenzafrontiere.it        high\n50                avvenire.it        high\n...                       ...         ...\n1553        umbriajournal.com        high\n1554          sardiniapost.it        high\n1555       emergency-live.com        high\n1556             newsmondo.it        high\n1558     notizieinunclick.com        high\n\n[281 rows x 2 columns]",
      "text/html": "<div>\n<style scoped>\n    .dataframe tbody tr th:only-of-type {\n        vertical-align: middle;\n    }\n\n    .dataframe tbody tr th {\n        vertical-align: top;\n    }\n\n    .dataframe thead th {\n        text-align: right;\n    }\n</style>\n<table border=\"1\" class=\"dataframe\">\n  <thead>\n    <tr style=\"text-align: right;\">\n      <th></th>\n      <th>url</th>\n      <th>credibility</th>\n    </tr>\n  </thead>\n  <tbody>\n    <tr>\n      <th>40</th>\n      <td>noidiminerva.it</td>\n      <td>high</td>\n    </tr>\n    <tr>\n      <th>43</th>\n      <td>superquark.rai.it</td>\n      <td>high</td>\n    </tr>\n    <tr>\n      <th>45</th>\n      <td>leganerd.com</td>\n      <td>high</td>\n    </tr>\n    <tr>\n      <th>49</th>\n      <td>medicisenzafrontiere.it</td>\n      <td>high</td>\n    </tr>\n    <tr>\n      <th>50</th>\n      <td>avvenire.it</td>\n      <td>high</td>\n    </tr>\n    <tr>\n      <th>...</th>\n      <td>...</td>\n      <td>...</td>\n    </tr>\n    <tr>\n      <th>1553</th>\n      <td>umbriajournal.com</td>\n      <td>high</td>\n    </tr>\n    <tr>\n      <th>1554</th>\n      <td>sardiniapost.it</td>\n      <td>high</td>\n    </tr>\n    <tr>\n      <th>1555</th>\n      <td>emergency-live.com</td>\n      <td>high</td>\n    </tr>\n    <tr>\n      <th>1556</th>\n      <td>newsmondo.it</td>\n      <td>high</td>\n    </tr>\n    <tr>\n      <th>1558</th>\n      <td>notizieinunclick.com</td>\n      <td>high</td>\n    </tr>\n  </tbody>\n</table>\n<p>281 rows × 2 columns</p>\n</div>"
     },
     "execution_count": 7,
     "metadata": {},
     "output_type": "execute_result"
    }
   ],
   "source": [
    "high_cred_df"
   ]
  },
  {
   "cell_type": "code",
   "execution_count": 8,
   "metadata": {
    "colab": {
     "base_uri": "https://localhost:8080/",
     "height": 424
    },
    "id": "xwVSA_S_COgE",
    "outputId": "0d386d83-f21d-40cd-e194-f7253aa8bfe9",
    "pycharm": {
     "name": "#%%\n"
    }
   },
   "outputs": [
    {
     "data": {
      "text/plain": "                             url credibility\n0             il-quotidiano.info         low\n1     terrarealtime.blogspot.com         low\n2             it.sputniknews.com         low\n3                  laverita.info         low\n4            liberoquotidiano.it         low\n...                          ...         ...\n1552         lecronachelucane.it         low\n1557              tristemondo.it         low\n1559              pointofnews.it         low\n1560              m.dagospia.com         low\n1561               go.byoblu.com         low\n\n[1244 rows x 2 columns]",
      "text/html": "<div>\n<style scoped>\n    .dataframe tbody tr th:only-of-type {\n        vertical-align: middle;\n    }\n\n    .dataframe tbody tr th {\n        vertical-align: top;\n    }\n\n    .dataframe thead th {\n        text-align: right;\n    }\n</style>\n<table border=\"1\" class=\"dataframe\">\n  <thead>\n    <tr style=\"text-align: right;\">\n      <th></th>\n      <th>url</th>\n      <th>credibility</th>\n    </tr>\n  </thead>\n  <tbody>\n    <tr>\n      <th>0</th>\n      <td>il-quotidiano.info</td>\n      <td>low</td>\n    </tr>\n    <tr>\n      <th>1</th>\n      <td>terrarealtime.blogspot.com</td>\n      <td>low</td>\n    </tr>\n    <tr>\n      <th>2</th>\n      <td>it.sputniknews.com</td>\n      <td>low</td>\n    </tr>\n    <tr>\n      <th>3</th>\n      <td>laverita.info</td>\n      <td>low</td>\n    </tr>\n    <tr>\n      <th>4</th>\n      <td>liberoquotidiano.it</td>\n      <td>low</td>\n    </tr>\n    <tr>\n      <th>...</th>\n      <td>...</td>\n      <td>...</td>\n    </tr>\n    <tr>\n      <th>1552</th>\n      <td>lecronachelucane.it</td>\n      <td>low</td>\n    </tr>\n    <tr>\n      <th>1557</th>\n      <td>tristemondo.it</td>\n      <td>low</td>\n    </tr>\n    <tr>\n      <th>1559</th>\n      <td>pointofnews.it</td>\n      <td>low</td>\n    </tr>\n    <tr>\n      <th>1560</th>\n      <td>m.dagospia.com</td>\n      <td>low</td>\n    </tr>\n    <tr>\n      <th>1561</th>\n      <td>go.byoblu.com</td>\n      <td>low</td>\n    </tr>\n  </tbody>\n</table>\n<p>1244 rows × 2 columns</p>\n</div>"
     },
     "execution_count": 8,
     "metadata": {},
     "output_type": "execute_result"
    }
   ],
   "source": [
    "low_cred_df"
   ]
  },
  {
   "cell_type": "code",
   "execution_count": 9,
   "metadata": {
    "id": "vSv6NWm1C-Lu",
    "pycharm": {
     "name": "#%%\n"
    }
   },
   "outputs": [],
   "source": [
    "low_cred_df = low_cred_df.rename(columns={\"url\": \"LOW\"})\n",
    "high_cred_df = high_cred_df.rename(columns={\"url\": \"HIGH\"})"
   ]
  },
  {
   "cell_type": "code",
   "execution_count": 10,
   "metadata": {
    "id": "wHGpCY3QCW5O",
    "pycharm": {
     "name": "#%%\n"
    }
   },
   "outputs": [],
   "source": [
    "social_media_df = pd.read_excel(path_cred+'social_media_sources.xlsx')\n",
    "social_media_df.drop_duplicates(inplace=True)"
   ]
  },
  {
   "cell_type": "code",
   "execution_count": 11,
   "metadata": {
    "pycharm": {
     "name": "#%%\n"
    }
   },
   "outputs": [
    {
     "data": {
      "text/plain": "      SOCIAL-MEDIA\n0      twitter.com\n1    instagram.com\n2         youtu.be\n3      youtube.com\n4     facebook.com\n6          lnkd.in\n7             t.me\n8   m.facebook.com\n9             t.co\n10         pscp.tv\n11        fb.watch\n12   m.youtube.com",
      "text/html": "<div>\n<style scoped>\n    .dataframe tbody tr th:only-of-type {\n        vertical-align: middle;\n    }\n\n    .dataframe tbody tr th {\n        vertical-align: top;\n    }\n\n    .dataframe thead th {\n        text-align: right;\n    }\n</style>\n<table border=\"1\" class=\"dataframe\">\n  <thead>\n    <tr style=\"text-align: right;\">\n      <th></th>\n      <th>SOCIAL-MEDIA</th>\n    </tr>\n  </thead>\n  <tbody>\n    <tr>\n      <th>0</th>\n      <td>twitter.com</td>\n    </tr>\n    <tr>\n      <th>1</th>\n      <td>instagram.com</td>\n    </tr>\n    <tr>\n      <th>2</th>\n      <td>youtu.be</td>\n    </tr>\n    <tr>\n      <th>3</th>\n      <td>youtube.com</td>\n    </tr>\n    <tr>\n      <th>4</th>\n      <td>facebook.com</td>\n    </tr>\n    <tr>\n      <th>6</th>\n      <td>lnkd.in</td>\n    </tr>\n    <tr>\n      <th>7</th>\n      <td>t.me</td>\n    </tr>\n    <tr>\n      <th>8</th>\n      <td>m.facebook.com</td>\n    </tr>\n    <tr>\n      <th>9</th>\n      <td>t.co</td>\n    </tr>\n    <tr>\n      <th>10</th>\n      <td>pscp.tv</td>\n    </tr>\n    <tr>\n      <th>11</th>\n      <td>fb.watch</td>\n    </tr>\n    <tr>\n      <th>12</th>\n      <td>m.youtube.com</td>\n    </tr>\n  </tbody>\n</table>\n</div>"
     },
     "execution_count": 11,
     "metadata": {},
     "output_type": "execute_result"
    }
   ],
   "source": [
    "social_media_df"
   ]
  },
  {
   "cell_type": "code",
   "execution_count": 12,
   "metadata": {
    "colab": {
     "base_uri": "https://localhost:8080/"
    },
    "id": "lvKos8iA-RTc",
    "outputId": "5afaa010-1515-43de-b8af-31a80f404a74",
    "pycharm": {
     "name": "#%%\n"
    }
   },
   "outputs": [
    {
     "name": "stdout",
     "output_type": "stream",
     "text": [
      "Possible low credibility sources = 1244\n",
      "Possible high credibility sources = 281\n",
      "Possible social media sources = 12\n"
     ]
    }
   ],
   "source": [
    "print(f'Possible low credibility sources = {len(low_cred_df)}')\n",
    "print(f'Possible high credibility sources = {len(high_cred_df)}')\n",
    "print(f'Possible social media sources = {len(social_media_df)}')"
   ]
  },
  {
   "cell_type": "code",
   "execution_count": 13,
   "metadata": {
    "pycharm": {
     "name": "#%%\n"
    }
   },
   "outputs": [],
   "source": [
    "tweets_with_urls = pd.read_parquet(\"C:/Users/gianl/Desktop/Gi/Supsi/Vaccines_Discussion_Italy/Laura/Tweets/tweets_with_domains (2.0).parquet\")"
   ]
  },
  {
   "cell_type": "code",
   "execution_count": 14,
   "metadata": {
    "pycharm": {
     "name": "#%%\n"
    }
   },
   "outputs": [
    {
     "data": {
      "text/plain": "HBox(children=(HTML(value=''), FloatProgress(value=1.0, bar_style='info', layout=Layout(width='20px'), max=1.0…",
      "application/vnd.jupyter.widget-view+json": {
       "version_major": 2,
       "version_minor": 0,
       "model_id": "117ab9fb6d004812949cd327e219c7cf"
      }
     },
     "metadata": {},
     "output_type": "display_data"
    },
    {
     "name": "stdout",
     "output_type": "stream",
     "text": [
      "\n"
     ]
    }
   ],
   "source": [
    "lst = []\n",
    "lst_domains = []\n",
    "for row in tqdm(tweets_with_urls.itertuples()):\n",
    "    lst_inside = []\n",
    "    for i in row.domain:\n",
    "        lst_inside.append(i.lower())\n",
    "    lst.append(len(row.domain))\n",
    "    lst_domains.append(lst_inside)\n",
    "tweets_with_urls[\"number_of_urls\"] = lst\n",
    "tweets_with_urls[\"domain\"] = lst_domains"
   ]
  },
  {
   "cell_type": "code",
   "execution_count": 15,
   "metadata": {
    "id": "erCxieSCenDW",
    "pycharm": {
     "name": "#%%\n"
    }
   },
   "outputs": [
    {
     "data": {
      "text/plain": "HBox(children=(HTML(value=''), FloatProgress(value=1.0, bar_style='info', layout=Layout(width='20px'), max=1.0…",
      "application/vnd.jupyter.widget-view+json": {
       "version_major": 2,
       "version_minor": 0,
       "model_id": "d332f5cb7c184e89801ecaeb547ed07c"
      }
     },
     "metadata": {},
     "output_type": "display_data"
    },
    {
     "name": "stdout",
     "output_type": "stream",
     "text": [
      "\n"
     ]
    }
   ],
   "source": [
    "low = list(low_cred_df[\"LOW\"])\n",
    "high = list(high_cred_df[\"HIGH\"])\n",
    "social = list(social_media_df[\"SOCIAL-MEDIA\"])\n",
    "list_of_low = []\n",
    "list_of_high = []\n",
    "list_of_unkw = []\n",
    "list_of_social = []\n",
    "for row in tqdm(tweets_with_urls.itertuples()):\n",
    "    value_low = 0\n",
    "    value_high = 0\n",
    "    value_unk= 0\n",
    "    value_social = 0\n",
    "    for domain in row.domain:\n",
    "        if domain in low:\n",
    "            value_low = value_low + 1 \n",
    "        elif domain in high:\n",
    "            value_high = value_high + 1\n",
    "        elif domain in social:\n",
    "            value_social = value_social + 1\n",
    "        else:\n",
    "            value_unk = value_unk+ 1\n",
    "    list_of_low.append(value_low)\n",
    "    list_of_high.append(value_high)\n",
    "    list_of_unkw.append(value_unk)\n",
    "    list_of_social.append(value_social)"
   ]
  },
  {
   "cell_type": "code",
   "execution_count": 16,
   "metadata": {
    "id": "Ngr0t0hEeoga",
    "pycharm": {
     "name": "#%%\n"
    }
   },
   "outputs": [],
   "source": [
    "tweets_with_urls['LOW'] = list_of_low\n",
    "tweets_with_urls['HIGH'] = list_of_high\n",
    "tweets_with_urls['UNKW'] = list_of_unkw\n",
    "tweets_with_urls['SOCIAL'] = list_of_social"
   ]
  },
  {
   "cell_type": "code",
   "execution_count": 17,
   "metadata": {
    "pycharm": {
     "name": "#%%\n"
    }
   },
   "outputs": [],
   "source": [
    "tweets_without_useless = tweets_with_urls[\n",
    "    (tweets_with_urls[\"urls\"].str.contains(\"twitter.com\")==False) &\n",
    "    (tweets_with_urls[\"urls\"].str.contains(\"dlvr.it\")==False) &\n",
    "    (tweets_with_urls[\"urls\"].str.contains(\"bit.ly\")==False) &\n",
    "    (tweets_with_urls[\"urls\"].str.contains(\"ow.ly\")==False) &\n",
    "    (tweets_with_urls[\"urls\"].str.contains(\"ift.tt\")==False) & \n",
    "    (tweets_with_urls[\"urls\"].str.contains(\"tinyurl\")==False) & \n",
    "    (tweets_with_urls[\"urls\"].str.contains(\"trib.al\")==False) & \n",
    "    (tweets_with_urls[\"urls\"].str.contains(\"zpr.io\")==False) & \n",
    "    (tweets_with_urls[\"urls\"].str.contains(\"is.gd\")==False) &\n",
    "    (tweets_with_urls[\"urls\"].str.contains(\"buff.ly\")==False)]"
   ]
  },
  {
   "cell_type": "code",
   "execution_count": 18,
   "metadata": {
    "pycharm": {
     "name": "#%%\n"
    }
   },
   "outputs": [
    {
     "name": "stdout",
     "output_type": "stream",
     "text": [
      "465\n",
      "14966\n",
      "Domain classified: 3.0%\n",
      "Volume classified: 71.0%\n"
     ]
    }
   ],
   "source": [
    "lst_unique = []\n",
    "for i in tweets_without_useless[\"domain\"]:\n",
    "    for j in i:\n",
    "        lst_unique.append(j)\n",
    "cont_1 = 0\n",
    "cont_2 = 0\n",
    "for i in list(pd.Series(lst_unique).unique()):\n",
    "    if (i in low) | (i in high) | (i in social):\n",
    "        cont_1 = cont_1 + 1\n",
    "    cont_2 = cont_2 + 1\n",
    "print(cont_1)\n",
    "print(cont_2)\n",
    "print(f\"Domain classified: {round(cont_1/cont_2,2)*100}%\")\n",
    "x = pd.Series(lst_unique).value_counts().sort_values(ascending=False)\n",
    "cont1 = 0\n",
    "cont2 = 0\n",
    "for k,v in x.items():\n",
    "    if (k in low) | (k in high) | (k in social):\n",
    "        cont1 = cont1 + v\n",
    "    cont2 = cont2 + v\n",
    "print(f\"Volume classified: {round(cont1/cont2,2)*100}%\")    "
   ]
  },
  {
   "cell_type": "code",
   "execution_count": 18,
   "metadata": {
    "pycharm": {
     "name": "#%%\n"
    }
   },
   "outputs": [],
   "source": [
    "# tweets_without_useless[tweets_without_useless[\"user_screen_name\"].str.contains(\"Federica989111\")]\n",
    "# for i in tweets_without_useless[tweets_without_useless[\"user_screen_name\"].str.contains(\"byoblu\")][\"text\"]:\n",
    "#     print(i)\n",
    "#     print(\"........................\")"
   ]
  },
  {
   "cell_type": "code",
   "execution_count": 19,
   "metadata": {
    "pycharm": {
     "name": "#%%\n"
    }
   },
   "outputs": [],
   "source": [
    "# lst = []\n",
    "# for i in tqdm(tweets_without_useless[tweets_without_useless[\"user_screen_name\"]==\"Mr_Ozymandias\"][\"domain\"]):\n",
    "#     lst.append(i)\n",
    "# pd.Series(lst).value_counts().sort_values(ascending=False)[:20]"
   ]
  },
  {
   "cell_type": "code",
   "execution_count": 20,
   "metadata": {
    "pycharm": {
     "name": "#%%\n"
    }
   },
   "outputs": [],
   "source": [
    "# lst2 = []\n",
    "# for i in tqdm(tweets_without_useless[tweets_without_useless[\"number_of_urls\"]>0][\"domain\"]):\n",
    "#     for value in i:\n",
    "#         lst2.append(value)"
   ]
  },
  {
   "cell_type": "code",
   "execution_count": 19,
   "metadata": {
    "pycharm": {
     "name": "#%%\n"
    }
   },
   "outputs": [
    {
     "data": {
      "text/plain": "                  number_of_urls  HIGH    LOW  UNKW  SOCIAL\nuser_screen_name                                           \ninfoitinterno              17471    33  17267   171       0\ninfoitsalute               16086    33  15859   194       0\ninfoiteconomia              6120    24   6031    65       0\nzazoomblog                  6033     0   6024     9       0\nIacobellisT                 3562    25   1339   388    1810\nNotiziedi_it                3529  3529      0     0       0\nNovanews242                 3307     1   3284     7      15\nTommyBrain                  3245    31   1260   338    1616\ninfoitesteri                3095    17   3037    41       0\nFedoraquattroc2             2349   330    430   481    1108",
      "text/html": "<div>\n<style scoped>\n    .dataframe tbody tr th:only-of-type {\n        vertical-align: middle;\n    }\n\n    .dataframe tbody tr th {\n        vertical-align: top;\n    }\n\n    .dataframe thead th {\n        text-align: right;\n    }\n</style>\n<table border=\"1\" class=\"dataframe\">\n  <thead>\n    <tr style=\"text-align: right;\">\n      <th></th>\n      <th>number_of_urls</th>\n      <th>HIGH</th>\n      <th>LOW</th>\n      <th>UNKW</th>\n      <th>SOCIAL</th>\n    </tr>\n    <tr>\n      <th>user_screen_name</th>\n      <th></th>\n      <th></th>\n      <th></th>\n      <th></th>\n      <th></th>\n    </tr>\n  </thead>\n  <tbody>\n    <tr>\n      <th>infoitinterno</th>\n      <td>17471</td>\n      <td>33</td>\n      <td>17267</td>\n      <td>171</td>\n      <td>0</td>\n    </tr>\n    <tr>\n      <th>infoitsalute</th>\n      <td>16086</td>\n      <td>33</td>\n      <td>15859</td>\n      <td>194</td>\n      <td>0</td>\n    </tr>\n    <tr>\n      <th>infoiteconomia</th>\n      <td>6120</td>\n      <td>24</td>\n      <td>6031</td>\n      <td>65</td>\n      <td>0</td>\n    </tr>\n    <tr>\n      <th>zazoomblog</th>\n      <td>6033</td>\n      <td>0</td>\n      <td>6024</td>\n      <td>9</td>\n      <td>0</td>\n    </tr>\n    <tr>\n      <th>IacobellisT</th>\n      <td>3562</td>\n      <td>25</td>\n      <td>1339</td>\n      <td>388</td>\n      <td>1810</td>\n    </tr>\n    <tr>\n      <th>Notiziedi_it</th>\n      <td>3529</td>\n      <td>3529</td>\n      <td>0</td>\n      <td>0</td>\n      <td>0</td>\n    </tr>\n    <tr>\n      <th>Novanews242</th>\n      <td>3307</td>\n      <td>1</td>\n      <td>3284</td>\n      <td>7</td>\n      <td>15</td>\n    </tr>\n    <tr>\n      <th>TommyBrain</th>\n      <td>3245</td>\n      <td>31</td>\n      <td>1260</td>\n      <td>338</td>\n      <td>1616</td>\n    </tr>\n    <tr>\n      <th>infoitesteri</th>\n      <td>3095</td>\n      <td>17</td>\n      <td>3037</td>\n      <td>41</td>\n      <td>0</td>\n    </tr>\n    <tr>\n      <th>Fedoraquattroc2</th>\n      <td>2349</td>\n      <td>330</td>\n      <td>430</td>\n      <td>481</td>\n      <td>1108</td>\n    </tr>\n  </tbody>\n</table>\n</div>"
     },
     "execution_count": 19,
     "metadata": {},
     "output_type": "execute_result"
    }
   ],
   "source": [
    "sum_of_urls_df = tweets_without_useless.groupby(['user_screen_name'])[['number_of_urls','HIGH','LOW','UNKW','SOCIAL']].sum()\n",
    "sum_of_urls_df=sum_of_urls_df.sort_values(by=['number_of_urls'], ascending=False)\n",
    "sum_of_urls_df.head(10)"
   ]
  },
  {
   "cell_type": "code",
   "execution_count": 20,
   "metadata": {
    "pycharm": {
     "name": "#%%\n"
    }
   },
   "outputs": [
    {
     "data": {
      "text/plain": "                number_of_urls      HIGH       LOW      UNKW    SOCIAL\nnumber_of_urls        1.000000  0.302005  0.943564  0.293860  0.220108\nHIGH                  0.302005  1.000000  0.024500  0.146985  0.052057\nLOW                   0.943564  0.024500  1.000000  0.114637  0.081913\nUNKW                  0.293860  0.146985  0.114637  1.000000  0.228227\nSOCIAL                0.220108  0.052057  0.081913  0.228227  1.000000",
      "text/html": "<div>\n<style scoped>\n    .dataframe tbody tr th:only-of-type {\n        vertical-align: middle;\n    }\n\n    .dataframe tbody tr th {\n        vertical-align: top;\n    }\n\n    .dataframe thead th {\n        text-align: right;\n    }\n</style>\n<table border=\"1\" class=\"dataframe\">\n  <thead>\n    <tr style=\"text-align: right;\">\n      <th></th>\n      <th>number_of_urls</th>\n      <th>HIGH</th>\n      <th>LOW</th>\n      <th>UNKW</th>\n      <th>SOCIAL</th>\n    </tr>\n  </thead>\n  <tbody>\n    <tr>\n      <th>number_of_urls</th>\n      <td>1.000000</td>\n      <td>0.302005</td>\n      <td>0.943564</td>\n      <td>0.293860</td>\n      <td>0.220108</td>\n    </tr>\n    <tr>\n      <th>HIGH</th>\n      <td>0.302005</td>\n      <td>1.000000</td>\n      <td>0.024500</td>\n      <td>0.146985</td>\n      <td>0.052057</td>\n    </tr>\n    <tr>\n      <th>LOW</th>\n      <td>0.943564</td>\n      <td>0.024500</td>\n      <td>1.000000</td>\n      <td>0.114637</td>\n      <td>0.081913</td>\n    </tr>\n    <tr>\n      <th>UNKW</th>\n      <td>0.293860</td>\n      <td>0.146985</td>\n      <td>0.114637</td>\n      <td>1.000000</td>\n      <td>0.228227</td>\n    </tr>\n    <tr>\n      <th>SOCIAL</th>\n      <td>0.220108</td>\n      <td>0.052057</td>\n      <td>0.081913</td>\n      <td>0.228227</td>\n      <td>1.000000</td>\n    </tr>\n  </tbody>\n</table>\n</div>"
     },
     "execution_count": 20,
     "metadata": {},
     "output_type": "execute_result"
    }
   ],
   "source": [
    "sum_of_urls_df.corr()"
   ]
  },
  {
   "cell_type": "code",
   "execution_count": 21,
   "metadata": {
    "id": "icrEdYimg_jw",
    "pycharm": {
     "name": "#%%\n"
    }
   },
   "outputs": [],
   "source": [
    "threshold_high_low = 10\n",
    "sum_of_urls_df_prova = sum_of_urls_df[sum_of_urls_df['number_of_urls']>=threshold_high_low]"
   ]
  },
  {
   "cell_type": "code",
   "execution_count": 22,
   "metadata": {
    "colab": {
     "base_uri": "https://localhost:8080/",
     "height": 394
    },
    "id": "S-CHfIZRhGOn",
    "outputId": "90ae4c0e-f405-46cd-90ac-243968a0ed3f",
    "pycharm": {
     "name": "#%%\n"
    }
   },
   "outputs": [
    {
     "data": {
      "text/plain": "                  number_of_urls  HIGH    LOW  UNKW  SOCIAL  conspiracy_score\nuser_screen_name                                                             \ninfoitinterno              17471    33  17267   171       0               1.0\nPaolo90777                    18     0      5     0      13               1.0\ngiuseppecarta73               17     0      1    15       1               1.0\nZiaGabriella1                 11     0      7     3       1               1.0\nlapillo1                      36     0      3     1      32               1.0\nterry57                       36     0     33     3       0               1.0\nLuciaKetels                   17     0      3     4      10               1.0\ndazebao                       17     0     17     0       0               1.0\nSUSANNA60128891               11     0      8     3       0               1.0\nPierTossani                   36     0     36     0       0               1.0",
      "text/html": "<div>\n<style scoped>\n    .dataframe tbody tr th:only-of-type {\n        vertical-align: middle;\n    }\n\n    .dataframe tbody tr th {\n        vertical-align: top;\n    }\n\n    .dataframe thead th {\n        text-align: right;\n    }\n</style>\n<table border=\"1\" class=\"dataframe\">\n  <thead>\n    <tr style=\"text-align: right;\">\n      <th></th>\n      <th>number_of_urls</th>\n      <th>HIGH</th>\n      <th>LOW</th>\n      <th>UNKW</th>\n      <th>SOCIAL</th>\n      <th>conspiracy_score</th>\n    </tr>\n    <tr>\n      <th>user_screen_name</th>\n      <th></th>\n      <th></th>\n      <th></th>\n      <th></th>\n      <th></th>\n      <th></th>\n    </tr>\n  </thead>\n  <tbody>\n    <tr>\n      <th>infoitinterno</th>\n      <td>17471</td>\n      <td>33</td>\n      <td>17267</td>\n      <td>171</td>\n      <td>0</td>\n      <td>1.0</td>\n    </tr>\n    <tr>\n      <th>Paolo90777</th>\n      <td>18</td>\n      <td>0</td>\n      <td>5</td>\n      <td>0</td>\n      <td>13</td>\n      <td>1.0</td>\n    </tr>\n    <tr>\n      <th>giuseppecarta73</th>\n      <td>17</td>\n      <td>0</td>\n      <td>1</td>\n      <td>15</td>\n      <td>1</td>\n      <td>1.0</td>\n    </tr>\n    <tr>\n      <th>ZiaGabriella1</th>\n      <td>11</td>\n      <td>0</td>\n      <td>7</td>\n      <td>3</td>\n      <td>1</td>\n      <td>1.0</td>\n    </tr>\n    <tr>\n      <th>lapillo1</th>\n      <td>36</td>\n      <td>0</td>\n      <td>3</td>\n      <td>1</td>\n      <td>32</td>\n      <td>1.0</td>\n    </tr>\n    <tr>\n      <th>terry57</th>\n      <td>36</td>\n      <td>0</td>\n      <td>33</td>\n      <td>3</td>\n      <td>0</td>\n      <td>1.0</td>\n    </tr>\n    <tr>\n      <th>LuciaKetels</th>\n      <td>17</td>\n      <td>0</td>\n      <td>3</td>\n      <td>4</td>\n      <td>10</td>\n      <td>1.0</td>\n    </tr>\n    <tr>\n      <th>dazebao</th>\n      <td>17</td>\n      <td>0</td>\n      <td>17</td>\n      <td>0</td>\n      <td>0</td>\n      <td>1.0</td>\n    </tr>\n    <tr>\n      <th>SUSANNA60128891</th>\n      <td>11</td>\n      <td>0</td>\n      <td>8</td>\n      <td>3</td>\n      <td>0</td>\n      <td>1.0</td>\n    </tr>\n    <tr>\n      <th>PierTossani</th>\n      <td>36</td>\n      <td>0</td>\n      <td>36</td>\n      <td>0</td>\n      <td>0</td>\n      <td>1.0</td>\n    </tr>\n  </tbody>\n</table>\n</div>"
     },
     "execution_count": 22,
     "metadata": {},
     "output_type": "execute_result"
    }
   ],
   "source": [
    "sum_of_urls_df_prova['conspiracy_score'] = np.around(((sum_of_urls_df_prova['LOW'])/(sum_of_urls_df_prova['HIGH']+sum_of_urls_df_prova['LOW'])),2)\n",
    "sum_of_urls_df_prova=sum_of_urls_df_prova.sort_values(by=['conspiracy_score'], ascending=False)\n",
    "sum_of_urls_df_prova.head(10)"
   ]
  },
  {
   "cell_type": "code",
   "execution_count": 23,
   "outputs": [
    {
     "data": {
      "text/plain": "    user_screen_name  number_of_urls  HIGH  LOW  UNKW  SOCIAL  \\\n317           byoblu              62     2   59     0       1   \n\n     conspiracy_score  \n317              0.97  ",
      "text/html": "<div>\n<style scoped>\n    .dataframe tbody tr th:only-of-type {\n        vertical-align: middle;\n    }\n\n    .dataframe tbody tr th {\n        vertical-align: top;\n    }\n\n    .dataframe thead th {\n        text-align: right;\n    }\n</style>\n<table border=\"1\" class=\"dataframe\">\n  <thead>\n    <tr style=\"text-align: right;\">\n      <th></th>\n      <th>user_screen_name</th>\n      <th>number_of_urls</th>\n      <th>HIGH</th>\n      <th>LOW</th>\n      <th>UNKW</th>\n      <th>SOCIAL</th>\n      <th>conspiracy_score</th>\n    </tr>\n  </thead>\n  <tbody>\n    <tr>\n      <th>317</th>\n      <td>byoblu</td>\n      <td>62</td>\n      <td>2</td>\n      <td>59</td>\n      <td>0</td>\n      <td>1</td>\n      <td>0.97</td>\n    </tr>\n  </tbody>\n</table>\n</div>"
     },
     "execution_count": 23,
     "metadata": {},
     "output_type": "execute_result"
    }
   ],
   "source": [
    "sum_of_urls_df_prova.reset_index(inplace=True)\n",
    "sum_of_urls_df_prova[sum_of_urls_df_prova[\"user_screen_name\"]==\"byoblu\"]"
   ],
   "metadata": {
    "collapsed": false,
    "pycharm": {
     "name": "#%%\n"
    }
   }
  },
  {
   "cell_type": "code",
   "execution_count": 24,
   "metadata": {
    "id": "JVJ5fMbLhf1j",
    "pycharm": {
     "name": "#%%\n"
    }
   },
   "outputs": [],
   "source": [
    "sum_of_urls_df_prova.to_csv(destination_path+\"result_cred_score_thresh_10.csv\",\n",
    "                            index=True, encoding=\"utf-8\", line_terminator=\"\\n\")"
   ]
  },
  {
   "cell_type": "code",
   "execution_count": 25,
   "metadata": {
    "colab": {
     "base_uri": "https://localhost:8080/",
     "height": 296
    },
    "id": "7I0-QOijhmGm",
    "outputId": "c1aeae67-88c7-441e-cbfd-ddf68ed5a86c",
    "pycharm": {
     "name": "#%%\n"
    }
   },
   "outputs": [
    {
     "data": {
      "text/plain": "<Figure size 432x288 with 1 Axes>",
      "image/png": "[encoded data removed]"
     },
     "metadata": {},
     "output_type": "display_data"
    }
   ],
   "source": [
    "# distribution of scores\n",
    "plt.hist(list(sum_of_urls_df_prova['conspiracy_score']), bins=9, alpha=0.7)\n",
    "plt.xlabel('conspiracy_score')\n",
    "plt.ylabel('No. of users')\n",
    "plt.title('Distribution of conspiracy_score', weight='bold')\n",
    "#plt.savefig('plots/dist', bbox_inches='tight')\n",
    "plt.show()"
   ]
  },
  {
   "cell_type": "code",
   "execution_count": 91,
   "metadata": {
    "pycharm": {
     "name": "#%%\n"
    }
   },
   "outputs": [
    {
     "name": "stdout",
     "output_type": "stream",
     "text": [
      "967\n"
     ]
    },
    {
     "data": {
      "text/html": [
       "<div>\n",
       "<style scoped>\n",
       "    .dataframe tbody tr th:only-of-type {\n",
       "        vertical-align: middle;\n",
       "    }\n",
       "\n",
       "    .dataframe tbody tr th {\n",
       "        vertical-align: top;\n",
       "    }\n",
       "\n",
       "    .dataframe thead th {\n",
       "        text-align: right;\n",
       "    }\n",
       "</style>\n",
       "<table border=\"1\" class=\"dataframe\">\n",
       "  <thead>\n",
       "    <tr style=\"text-align: right;\">\n",
       "      <th></th>\n",
       "      <th>number_of_urls</th>\n",
       "      <th>HIGH</th>\n",
       "      <th>LOW</th>\n",
       "      <th>UNKW</th>\n",
       "      <th>SOCIAL</th>\n",
       "      <th>conspiracy_score</th>\n",
       "    </tr>\n",
       "    <tr>\n",
       "      <th>user_screen_name</th>\n",
       "      <th></th>\n",
       "      <th></th>\n",
       "      <th></th>\n",
       "      <th></th>\n",
       "      <th></th>\n",
       "      <th></th>\n",
       "    </tr>\n",
       "  </thead>\n",
       "  <tbody>\n",
       "    <tr>\n",
       "      <th>infoitinterno</th>\n",
       "      <td>17471</td>\n",
       "      <td>33</td>\n",
       "      <td>17267</td>\n",
       "      <td>171</td>\n",
       "      <td>0</td>\n",
       "      <td>1.0</td>\n",
       "    </tr>\n",
       "    <tr>\n",
       "      <th>CDonChisciotte</th>\n",
       "      <td>117</td>\n",
       "      <td>0</td>\n",
       "      <td>117</td>\n",
       "      <td>0</td>\n",
       "      <td>0</td>\n",
       "      <td>1.0</td>\n",
       "    </tr>\n",
       "    <tr>\n",
       "      <th>Toba_60</th>\n",
       "      <td>266</td>\n",
       "      <td>0</td>\n",
       "      <td>266</td>\n",
       "      <td>0</td>\n",
       "      <td>0</td>\n",
       "      <td>1.0</td>\n",
       "    </tr>\n",
       "    <tr>\n",
       "      <th>simpli_cissimus</th>\n",
       "      <td>64</td>\n",
       "      <td>0</td>\n",
       "      <td>64</td>\n",
       "      <td>0</td>\n",
       "      <td>0</td>\n",
       "      <td>1.0</td>\n",
       "    </tr>\n",
       "    <tr>\n",
       "      <th>fainformazione</th>\n",
       "      <td>258</td>\n",
       "      <td>0</td>\n",
       "      <td>257</td>\n",
       "      <td>1</td>\n",
       "      <td>0</td>\n",
       "      <td>1.0</td>\n",
       "    </tr>\n",
       "    <tr>\n",
       "      <th>pointofnews</th>\n",
       "      <td>251</td>\n",
       "      <td>1</td>\n",
       "      <td>250</td>\n",
       "      <td>0</td>\n",
       "      <td>0</td>\n",
       "      <td>1.0</td>\n",
       "    </tr>\n",
       "    <tr>\n",
       "      <th>PecheanuA</th>\n",
       "      <td>23</td>\n",
       "      <td>0</td>\n",
       "      <td>3</td>\n",
       "      <td>20</td>\n",
       "      <td>0</td>\n",
       "      <td>1.0</td>\n",
       "    </tr>\n",
       "    <tr>\n",
       "      <th>tristemondo</th>\n",
       "      <td>248</td>\n",
       "      <td>0</td>\n",
       "      <td>248</td>\n",
       "      <td>0</td>\n",
       "      <td>0</td>\n",
       "      <td>1.0</td>\n",
       "    </tr>\n",
       "    <tr>\n",
       "      <th>abruzzoweb</th>\n",
       "      <td>40</td>\n",
       "      <td>0</td>\n",
       "      <td>40</td>\n",
       "      <td>0</td>\n",
       "      <td>0</td>\n",
       "      <td>1.0</td>\n",
       "    </tr>\n",
       "    <tr>\n",
       "      <th>giancarloruffa</th>\n",
       "      <td>40</td>\n",
       "      <td>0</td>\n",
       "      <td>13</td>\n",
       "      <td>27</td>\n",
       "      <td>0</td>\n",
       "      <td>1.0</td>\n",
       "    </tr>\n",
       "    <tr>\n",
       "      <th>da_Budapest</th>\n",
       "      <td>23</td>\n",
       "      <td>0</td>\n",
       "      <td>20</td>\n",
       "      <td>3</td>\n",
       "      <td>0</td>\n",
       "      <td>1.0</td>\n",
       "    </tr>\n",
       "    <tr>\n",
       "      <th>Fattivostri1</th>\n",
       "      <td>23</td>\n",
       "      <td>0</td>\n",
       "      <td>5</td>\n",
       "      <td>10</td>\n",
       "      <td>8</td>\n",
       "      <td>1.0</td>\n",
       "    </tr>\n",
       "    <tr>\n",
       "      <th>dermanewsok</th>\n",
       "      <td>232</td>\n",
       "      <td>0</td>\n",
       "      <td>232</td>\n",
       "      <td>0</td>\n",
       "      <td>0</td>\n",
       "      <td>1.0</td>\n",
       "    </tr>\n",
       "    <tr>\n",
       "      <th>antoniocaperna</th>\n",
       "      <td>232</td>\n",
       "      <td>0</td>\n",
       "      <td>232</td>\n",
       "      <td>0</td>\n",
       "      <td>0</td>\n",
       "      <td>1.0</td>\n",
       "    </tr>\n",
       "    <tr>\n",
       "      <th>saluteh24com</th>\n",
       "      <td>231</td>\n",
       "      <td>0</td>\n",
       "      <td>231</td>\n",
       "      <td>0</td>\n",
       "      <td>0</td>\n",
       "      <td>1.0</td>\n",
       "    </tr>\n",
       "    <tr>\n",
       "      <th>SecondoPiano</th>\n",
       "      <td>40</td>\n",
       "      <td>0</td>\n",
       "      <td>38</td>\n",
       "      <td>2</td>\n",
       "      <td>0</td>\n",
       "      <td>1.0</td>\n",
       "    </tr>\n",
       "    <tr>\n",
       "      <th>sapienza121</th>\n",
       "      <td>24</td>\n",
       "      <td>0</td>\n",
       "      <td>2</td>\n",
       "      <td>0</td>\n",
       "      <td>22</td>\n",
       "      <td>1.0</td>\n",
       "    </tr>\n",
       "    <tr>\n",
       "      <th>tigullio_tweet</th>\n",
       "      <td>227</td>\n",
       "      <td>0</td>\n",
       "      <td>227</td>\n",
       "      <td>0</td>\n",
       "      <td>0</td>\n",
       "      <td>1.0</td>\n",
       "    </tr>\n",
       "    <tr>\n",
       "      <th>fontanabuona</th>\n",
       "      <td>226</td>\n",
       "      <td>0</td>\n",
       "      <td>226</td>\n",
       "      <td>0</td>\n",
       "      <td>0</td>\n",
       "      <td>1.0</td>\n",
       "    </tr>\n",
       "    <tr>\n",
       "      <th>PDarK77</th>\n",
       "      <td>24</td>\n",
       "      <td>0</td>\n",
       "      <td>8</td>\n",
       "      <td>7</td>\n",
       "      <td>9</td>\n",
       "      <td>1.0</td>\n",
       "    </tr>\n",
       "  </tbody>\n",
       "</table>\n",
       "</div>"
      ],
      "text/plain": [
       "                  number_of_urls  HIGH    LOW  UNKW  SOCIAL  conspiracy_score\n",
       "user_screen_name                                                             \n",
       "infoitinterno              17471    33  17267   171       0               1.0\n",
       "CDonChisciotte               117     0    117     0       0               1.0\n",
       "Toba_60                      266     0    266     0       0               1.0\n",
       "simpli_cissimus               64     0     64     0       0               1.0\n",
       "fainformazione               258     0    257     1       0               1.0\n",
       "pointofnews                  251     1    250     0       0               1.0\n",
       "PecheanuA                     23     0      3    20       0               1.0\n",
       "tristemondo                  248     0    248     0       0               1.0\n",
       "abruzzoweb                    40     0     40     0       0               1.0\n",
       "giancarloruffa                40     0     13    27       0               1.0\n",
       "da_Budapest                   23     0     20     3       0               1.0\n",
       "Fattivostri1                  23     0      5    10       8               1.0\n",
       "dermanewsok                  232     0    232     0       0               1.0\n",
       "antoniocaperna               232     0    232     0       0               1.0\n",
       "saluteh24com                 231     0    231     0       0               1.0\n",
       "SecondoPiano                  40     0     38     2       0               1.0\n",
       "sapienza121                   24     0      2     0      22               1.0\n",
       "tigullio_tweet               227     0    227     0       0               1.0\n",
       "fontanabuona                 226     0    226     0       0               1.0\n",
       "PDarK77                       24     0      8     7       9               1.0"
      ]
     },
     "execution_count": 91,
     "metadata": {},
     "output_type": "execute_result"
    }
   ],
   "source": [
    "print(len(sum_of_urls_df_prova)-len(sum_of_urls_df_prova[sum_of_urls_df_prova[\"conspiracy_score\"].notna()]))\n",
    "sum_of_urls_df_prova.head(20)"
   ]
  },
  {
   "cell_type": "code",
   "execution_count": 92,
   "metadata": {
    "colab": {
     "base_uri": "https://localhost:8080/"
    },
    "id": "Y4sd8Y59i3X3",
    "outputId": "d8f9f8c7-5881-4e2b-d577-e78a6d8189b2",
    "scrolled": false,
    "pycharm": {
     "name": "#%%\n"
    }
   },
   "outputs": [
    {
     "data": {
      "text/html": [
       "<div>\n",
       "<style scoped>\n",
       "    .dataframe tbody tr th:only-of-type {\n",
       "        vertical-align: middle;\n",
       "    }\n",
       "\n",
       "    .dataframe tbody tr th {\n",
       "        vertical-align: top;\n",
       "    }\n",
       "\n",
       "    .dataframe thead th {\n",
       "        text-align: right;\n",
       "    }\n",
       "</style>\n",
       "<table border=\"1\" class=\"dataframe\">\n",
       "  <thead>\n",
       "    <tr style=\"text-align: right;\">\n",
       "      <th></th>\n",
       "      <th>number_of_urls</th>\n",
       "      <th>HIGH</th>\n",
       "      <th>LOW</th>\n",
       "      <th>UNKW</th>\n",
       "      <th>SOCIAL</th>\n",
       "      <th>conspiracy_score</th>\n",
       "    </tr>\n",
       "    <tr>\n",
       "      <th>user_screen_name</th>\n",
       "      <th></th>\n",
       "      <th></th>\n",
       "      <th></th>\n",
       "      <th></th>\n",
       "      <th></th>\n",
       "      <th></th>\n",
       "    </tr>\n",
       "  </thead>\n",
       "  <tbody>\n",
       "    <tr>\n",
       "      <th>infoitinterno</th>\n",
       "      <td>17471</td>\n",
       "      <td>33</td>\n",
       "      <td>17267</td>\n",
       "      <td>171</td>\n",
       "      <td>0</td>\n",
       "      <td>1.0</td>\n",
       "    </tr>\n",
       "    <tr>\n",
       "      <th>CDonChisciotte</th>\n",
       "      <td>117</td>\n",
       "      <td>0</td>\n",
       "      <td>117</td>\n",
       "      <td>0</td>\n",
       "      <td>0</td>\n",
       "      <td>1.0</td>\n",
       "    </tr>\n",
       "    <tr>\n",
       "      <th>Toba_60</th>\n",
       "      <td>266</td>\n",
       "      <td>0</td>\n",
       "      <td>266</td>\n",
       "      <td>0</td>\n",
       "      <td>0</td>\n",
       "      <td>1.0</td>\n",
       "    </tr>\n",
       "    <tr>\n",
       "      <th>simpli_cissimus</th>\n",
       "      <td>64</td>\n",
       "      <td>0</td>\n",
       "      <td>64</td>\n",
       "      <td>0</td>\n",
       "      <td>0</td>\n",
       "      <td>1.0</td>\n",
       "    </tr>\n",
       "    <tr>\n",
       "      <th>fainformazione</th>\n",
       "      <td>258</td>\n",
       "      <td>0</td>\n",
       "      <td>257</td>\n",
       "      <td>1</td>\n",
       "      <td>0</td>\n",
       "      <td>1.0</td>\n",
       "    </tr>\n",
       "    <tr>\n",
       "      <th>...</th>\n",
       "      <td>...</td>\n",
       "      <td>...</td>\n",
       "      <td>...</td>\n",
       "      <td>...</td>\n",
       "      <td>...</td>\n",
       "      <td>...</td>\n",
       "    </tr>\n",
       "    <tr>\n",
       "      <th>Gesefi_onlus_it</th>\n",
       "      <td>24</td>\n",
       "      <td>6</td>\n",
       "      <td>6</td>\n",
       "      <td>12</td>\n",
       "      <td>0</td>\n",
       "      <td>0.5</td>\n",
       "    </tr>\n",
       "    <tr>\n",
       "      <th>Iridediluce</th>\n",
       "      <td>24</td>\n",
       "      <td>4</td>\n",
       "      <td>4</td>\n",
       "      <td>8</td>\n",
       "      <td>8</td>\n",
       "      <td>0.5</td>\n",
       "    </tr>\n",
       "    <tr>\n",
       "      <th>Stefano15067453</th>\n",
       "      <td>28</td>\n",
       "      <td>2</td>\n",
       "      <td>2</td>\n",
       "      <td>6</td>\n",
       "      <td>18</td>\n",
       "      <td>0.5</td>\n",
       "    </tr>\n",
       "    <tr>\n",
       "      <th>ButtiGrazia</th>\n",
       "      <td>57</td>\n",
       "      <td>12</td>\n",
       "      <td>12</td>\n",
       "      <td>31</td>\n",
       "      <td>2</td>\n",
       "      <td>0.5</td>\n",
       "    </tr>\n",
       "    <tr>\n",
       "      <th>saponetta15</th>\n",
       "      <td>23</td>\n",
       "      <td>8</td>\n",
       "      <td>8</td>\n",
       "      <td>3</td>\n",
       "      <td>4</td>\n",
       "      <td>0.5</td>\n",
       "    </tr>\n",
       "  </tbody>\n",
       "</table>\n",
       "<p>514 rows × 6 columns</p>\n",
       "</div>"
      ],
      "text/plain": [
       "                  number_of_urls  HIGH    LOW  UNKW  SOCIAL  conspiracy_score\n",
       "user_screen_name                                                             \n",
       "infoitinterno              17471    33  17267   171       0               1.0\n",
       "CDonChisciotte               117     0    117     0       0               1.0\n",
       "Toba_60                      266     0    266     0       0               1.0\n",
       "simpli_cissimus               64     0     64     0       0               1.0\n",
       "fainformazione               258     0    257     1       0               1.0\n",
       "...                          ...   ...    ...   ...     ...               ...\n",
       "Gesefi_onlus_it               24     6      6    12       0               0.5\n",
       "Iridediluce                   24     4      4     8       8               0.5\n",
       "Stefano15067453               28     2      2     6      18               0.5\n",
       "ButtiGrazia                   57    12     12    31       2               0.5\n",
       "saponetta15                   23     8      8     3       4               0.5\n",
       "\n",
       "[514 rows x 6 columns]"
      ]
     },
     "execution_count": 92,
     "metadata": {},
     "output_type": "execute_result"
    }
   ],
   "source": [
    "sum_of_urls_df_prova[sum_of_urls_df_prova[\"conspiracy_score\"]>=0.50]"
   ]
  },
  {
   "cell_type": "code",
   "execution_count": 27,
   "outputs": [],
   "source": [
    "tweets_without_useless.to_csv(r\"C:\\Users\\gianl\\Desktop\\Gi\\Supsi\\Vaccines_Discussion_Italy\\Laura\\Tweets\\tweets_without_useless_and_score (5.0).csv\", line_terminator=\"\\n\", index=False, encoding=\"utf-8\")"
   ],
   "metadata": {
    "collapsed": false,
    "pycharm": {
     "name": "#%%\n"
    }
   }
  },
  {
   "cell_type": "code",
   "execution_count": null,
   "outputs": [],
   "source": [],
   "metadata": {
    "collapsed": false,
    "pycharm": {
     "name": "#%%\n"
    }
   }
  }
 ],
 "metadata": {
  "colab": {
   "name": "Domains.ipynb",
   "provenance": [],
   "toc_visible": true
  },
  "kernelspec": {
   "display_name": "Python 3",
   "language": "python",
   "name": "python3"
  },
  "language_info": {
   "codemirror_mode": {
    "name": "ipython",
    "version": 3
   },
   "file_extension": ".py",
   "mimetype": "text/x-python",
   "name": "python",
   "nbconvert_exporter": "python",
   "pygments_lexer": "ipython3",
   "version": "3.8.11"
  }
 },
 "nbformat": 4,
 "nbformat_minor": 1
}