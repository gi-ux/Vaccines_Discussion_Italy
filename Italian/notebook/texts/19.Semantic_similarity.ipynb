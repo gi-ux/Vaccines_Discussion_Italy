{
 "cells": [
  {
   "cell_type": "code",
   "execution_count": null,
   "outputs": [],
   "source": [
    "import importlib\n",
    "import pandas as pd\n",
    "import sys\n",
    "from sentence_transformers import SentenceTransformer, util\n",
    "import numpy as np\n",
    "import nltk\n",
    "nltk.download('stopwords')\n",
    "\n",
    "from nltk.corpus import stopwords\n",
    "windows_os = False\n",
    "\n",
    "if windows_os:\n",
    "    base_path = \"C:/Users\"\n",
    "else:\n",
    "    base_path = r\"/media/gianlucanogara/Windows/Users\"\n",
    "\n",
    "path_utils = base_path + \"/gianluca.nogara/Desktop/Repo/Vaccines_Discussion_Italy/tweet_utils\"\n",
    "sys.path.append(path_utils)\n",
    "import utils\n",
    "base = base_path + \"/gianluca.nogara/Desktop/Repo/Vaccines_Discussion_Italy/Italian\""
   ],
   "metadata": {
    "collapsed": false
   }
  },
  {
   "cell_type": "code",
   "execution_count": 35,
   "outputs": [],
   "source": [
    "tweets = pd.read_csv(base + \"/files/tweets/tweets.csv\", lineterminator=\"\\n\", low_memory=False,\n",
    "                          encoding=\"utf-8\")"
   ],
   "metadata": {
    "collapsed": false
   }
  },
  {
   "cell_type": "code",
   "execution_count": 61,
   "outputs": [],
   "source": [
    "model = SentenceTransformer('distiluse-base-multilingual-cased', device='cpu')"
   ],
   "metadata": {
    "collapsed": false
   }
  },
  {
   "cell_type": "code",
   "execution_count": 62,
   "outputs": [
    {
     "name": "stdout",
     "output_type": "stream",
     "text": [
      "Sentence 1: La pandemia non esiste\n",
      "Sentence 2: La pandemia è un'invenzione\n",
      "Similarity score: 0.6320924162864685\n"
     ]
    }
   ],
   "source": [
    "sentence1 = \"La pandemia non esiste\"\n",
    "sentence2 = \"La pandemia è un'invenzione\"# encode sentences to get their embeddings\n",
    "embedding1 = model.encode(sentence1, convert_to_tensor=True)\n",
    "embedding2 = model.encode(sentence2, convert_to_tensor=True)# compute similarity scores of two embeddings\n",
    "cosine_scores = util.pytorch_cos_sim(embedding1, embedding2)\n",
    "print(\"Sentence 1:\", sentence1)\n",
    "print(\"Sentence 2:\", sentence2)\n",
    "print(\"Similarity score:\", cosine_scores.item())"
   ],
   "metadata": {
    "collapsed": false
   }
  },
  {
   "cell_type": "code",
   "execution_count": 64,
   "outputs": [],
   "source": [
    "# https://towardsdatascience.com/semantic-similarity-using-transformers-8f3cb5bf66d6"
   ],
   "metadata": {
    "collapsed": false
   }
  },
  {
   "cell_type": "code",
   "execution_count": null,
   "outputs": [],
   "source": [],
   "metadata": {
    "collapsed": false
   }
  }
 ],
 "metadata": {
  "kernelspec": {
   "display_name": "Python 3",
   "language": "python",
   "name": "python3"
  },
  "language_info": {
   "codemirror_mode": {
    "name": "ipython",
    "version": 2
   },
   "file_extension": ".py",
   "mimetype": "text/x-python",
   "name": "python",
   "nbconvert_exporter": "python",
   "pygments_lexer": "ipython2",
   "version": "2.7.6"
  }
 },
 "nbformat": 4,
 "nbformat_minor": 0
}
