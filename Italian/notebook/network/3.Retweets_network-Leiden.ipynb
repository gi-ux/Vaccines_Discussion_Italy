{
 "cells": [
  {
   "cell_type": "code",
   "execution_count": 1,
   "metadata": {
    "id": "98ExKcmaktWg",
    "pycharm": {
     "name": "#%%\n"
    }
   },
   "outputs": [],
   "source": [
    "import pandas as pd\n",
    "import matplotlib.pyplot as plt\n",
    "import numpy as np\n",
    "import igraph as ig\n",
    "import leidenalg as la"
   ]
  },
  {
   "cell_type": "code",
   "execution_count": 4,
   "metadata": {
    "id": "416mOGiiYzSW",
    "pycharm": {
     "name": "#%%\n"
    }
   },
   "outputs": [],
   "source": [
    "destination_path = \"C:/Users/gianl/Desktop/Gi/Supsi/Vaccines_Discussion_Italy/Laura/Tweets/\""
   ]
  },
  {
   "cell_type": "markdown",
   "metadata": {
    "id": "3_kg4Kn0rCyN",
    "pycharm": {
     "name": "#%% md\n"
    }
   },
   "source": [
    "## Retweets"
   ]
  },
  {
   "cell_type": "code",
   "execution_count": 5,
   "metadata": {
    "id": "ElYSHsQ-ZN3f",
    "pycharm": {
     "name": "#%%\n"
    }
   },
   "outputs": [],
   "source": [
    "retweets = pd.read_parquet(destination_path+'retweets.parquet', engine=\"fastparquet\")"
   ]
  },
  {
   "cell_type": "markdown",
   "metadata": {
    "id": "455_-nRTpzvd",
    "pycharm": {
     "name": "#%% md\n"
    }
   },
   "source": [
    "# NETWORK"
   ]
  },
  {
   "cell_type": "code",
   "execution_count": 6,
   "metadata": {
    "id": "UG9ccu--miC3",
    "pycharm": {
     "name": "#%%\n"
    }
   },
   "outputs": [],
   "source": [
    "import seaborn as sns\n",
    "import time\n",
    "import re\n",
    "import networkx as nx\n",
    "from operator import itemgetter\n",
    "import warnings\n",
    "import matplotlib.cm as mcm\n",
    "import community\n",
    "from community import community_louvain as cm\n",
    "# warnings.filterwarnings('ignore')"
   ]
  },
  {
   "cell_type": "code",
   "execution_count": 7,
   "metadata": {
    "colab": {
     "base_uri": "https://localhost:8080/"
    },
    "id": "vtghlztdmiC4",
    "outputId": "9dcf2ad5-2908-476a-9c4d-b3a84f03da94",
    "pycharm": {
     "name": "#%%\n"
    }
   },
   "outputs": [
    {
     "name": "stdout",
     "output_type": "stream",
     "text": [
      "DiGraph with 216216 nodes and 1409724 edges\n"
     ]
    }
   ],
   "source": [
    "retweets_graph = nx.from_pandas_edgelist(retweets,'user_screen_name','rt_user_screen_name', create_using=nx.DiGraph())\n",
    "print(nx.info(retweets_graph))"
   ]
  },
  {
   "cell_type": "code",
   "execution_count": 8,
   "metadata": {
    "id": "sFuhbeBUmiC5",
    "pycharm": {
     "name": "#%%\n"
    }
   },
   "outputs": [],
   "source": [
    "degree_dict = dict(retweets_graph.degree(retweets_graph.nodes()))\n",
    "sorted_degree = sorted(degree_dict.items(), key=itemgetter(1), reverse=True)"
   ]
  },
  {
   "cell_type": "code",
   "execution_count": 9,
   "metadata": {
    "id": "tZx_vwakmiC6",
    "pycharm": {
     "name": "#%%\n"
    }
   },
   "outputs": [],
   "source": [
    "in_degree_dict = dict(retweets_graph.in_degree(retweets_graph.nodes()))\n",
    "sorted_in_degree = sorted(in_degree_dict.items(), key=itemgetter(1), reverse=True)"
   ]
  },
  {
   "cell_type": "code",
   "execution_count": 10,
   "metadata": {
    "id": "oyGSAPhGmiC6",
    "pycharm": {
     "name": "#%%\n"
    }
   },
   "outputs": [],
   "source": [
    "out_degree_dict = dict(retweets_graph.out_degree(retweets_graph.nodes()))\n",
    "sorted_out_degree = sorted(out_degree_dict.items(), key=itemgetter(1), reverse=True)"
   ]
  },
  {
   "cell_type": "markdown",
   "metadata": {
    "pycharm": {
     "name": "#%% md\n"
    }
   },
   "source": [
    "### Leiden"
   ]
  },
  {
   "cell_type": "code",
   "execution_count": 21,
   "metadata": {
    "pycharm": {
     "name": "#%%\n"
    }
   },
   "outputs": [
    {
     "name": "stdout",
     "output_type": "stream",
     "text": [
      "Number of vertices: 216216\n",
      "Number of edges: 2414496\n",
      "Density of the graph: 0.00010329584133436781\n",
      "Average indegree: 11.167055167055167\n",
      "Average outdegree: 11.167055167055167\n"
     ]
    }
   ],
   "source": [
    "retweet_df = retweets[[\"user_screen_name\", \"rt_user_screen_name\"]]\n",
    "tuples = [tuple(x) for x in retweet_df.values]\n",
    "retweets_graph = ig.Graph.TupleList(tuples, directed = True)\n",
    "n_vertices = retweets_graph.vcount()\n",
    "print(\"Number of vertices:\", n_vertices)\n",
    "print(\"Number of edges:\", retweets_graph.ecount())\n",
    "print(\"Density of the graph:\", 2*retweets_graph.ecount()/(retweets_graph.vcount()*(retweets_graph.vcount()-1)))\n",
    "total_degree=0\n",
    "total_indegree = 0\n",
    "total_outdegree = 0\n",
    "for n in range(n_vertices):\n",
    "    total_degree += retweets_graph.degree(n)\n",
    "    total_indegree += retweets_graph.indegree(n)\n",
    "    total_outdegree += retweets_graph.outdegree(n)\n",
    "print(\"Average indegree:\", total_indegree/n_vertices)\n",
    "print(\"Average outdegree:\", total_outdegree/n_vertices)\n",
    "partition = la.find_partition(retweets_graph, la.ModularityVertexPartition)\n",
    "zip_iterator = zip(retweets_graph.vs()[\"name\"], partition.membership)\n",
    "best_part = dict(zip_iterator)\n",
    "path_leiden = \"C:/Users/gianl/Desktop/Gi/Supsi/Vaccines_Discussion_Italy/Laura/Files/\"\n",
    "lst_user = []\n",
    "lst_comm = []\n",
    "for i in best_part:\n",
    "    lst_user.append(i)\n",
    "    lst_comm.append(best_part[i])\n",
    "# pd.DataFrame(list(zip(lst_user, lst_comm)), columns=[\"user\", \"community\"]).to_csv(path_leiden+\"leiden.csv\", line_terminator=\"\\n\", index=False, encoding=\"utf-8\")"
   ]
  },
  {
   "cell_type": "code",
   "execution_count": 22,
   "metadata": {
    "pycharm": {
     "name": "#%%\n"
    }
   },
   "outputs": [],
   "source": [
    "# import networkx.algorithms.community as nx_comm\n",
    "# nx_comm.modularity(retweets_graph, nx_comm.label_propagation_communities(retweets_graph))"
   ]
  },
  {
   "cell_type": "code",
   "execution_count": 16,
   "metadata": {
    "pycharm": {
     "name": "#%%\n"
    }
   },
   "outputs": [],
   "source": [
    "# nx.algorithms.community.modularity(retweets_graph)"
   ]
  }
 ],
 "metadata": {
  "colab": {
   "name": "Retweets_network.ipynb",
   "provenance": []
  },
  "kernelspec": {
   "display_name": "Python 3",
   "language": "python",
   "name": "python3"
  },
  "language_info": {
   "codemirror_mode": {
    "name": "ipython",
    "version": 3
   },
   "file_extension": ".py",
   "mimetype": "text/x-python",
   "name": "python",
   "nbconvert_exporter": "python",
   "pygments_lexer": "ipython3",
   "version": "3.8.11"
  }
 },
 "nbformat": 4,
 "nbformat_minor": 1
}