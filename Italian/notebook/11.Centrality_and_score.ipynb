{
 "cells": [
  {
   "cell_type": "code",
   "execution_count": 16,
   "metadata": {
    "pycharm": {
     "name": "#%%\n"
    }
   },
   "outputs": [],
   "source": [
    "# ev centrality, deg centrality, cred score, toxicity score to be considered for users\n",
    "import pandas as pd\n",
    "import numpy as np\n",
    "import glob"
   ]
  },
  {
   "cell_type": "code",
   "execution_count": 12,
   "metadata": {
    "pycharm": {
     "name": "#%%\n"
    }
   },
   "outputs": [
    {
     "data": {
      "text/plain": "                  name                                        status\n0       marzia38580873  [{'code': 50, 'message': 'User not found.'}]\n1           Ivan__soli                                            ok\n2             pat09_04  [{'code': 50, 'message': 'User not found.'}]\n3          claudeger55                                            ok\n4          ennioflyano                                            ok\n...                ...                                           ...\n839459   CollectifVrai                                            ok\n839460    Mche10024327                                            ok\n839461   albertotozzi3  [{'code': 50, 'message': 'User not found.'}]\n839462  HanKer09062021                                            ok\n839463     gaha_matteo                                            ok\n\n[305259 rows x 2 columns]",
      "text/html": "<div>\n<style scoped>\n    .dataframe tbody tr th:only-of-type {\n        vertical-align: middle;\n    }\n\n    .dataframe tbody tr th {\n        vertical-align: top;\n    }\n\n    .dataframe thead th {\n        text-align: right;\n    }\n</style>\n<table border=\"1\" class=\"dataframe\">\n  <thead>\n    <tr style=\"text-align: right;\">\n      <th></th>\n      <th>name</th>\n      <th>status</th>\n    </tr>\n  </thead>\n  <tbody>\n    <tr>\n      <th>0</th>\n      <td>marzia38580873</td>\n      <td>[{'code': 50, 'message': 'User not found.'}]</td>\n    </tr>\n    <tr>\n      <th>1</th>\n      <td>Ivan__soli</td>\n      <td>ok</td>\n    </tr>\n    <tr>\n      <th>2</th>\n      <td>pat09_04</td>\n      <td>[{'code': 50, 'message': 'User not found.'}]</td>\n    </tr>\n    <tr>\n      <th>3</th>\n      <td>claudeger55</td>\n      <td>ok</td>\n    </tr>\n    <tr>\n      <th>4</th>\n      <td>ennioflyano</td>\n      <td>ok</td>\n    </tr>\n    <tr>\n      <th>...</th>\n      <td>...</td>\n      <td>...</td>\n    </tr>\n    <tr>\n      <th>839459</th>\n      <td>CollectifVrai</td>\n      <td>ok</td>\n    </tr>\n    <tr>\n      <th>839460</th>\n      <td>Mche10024327</td>\n      <td>ok</td>\n    </tr>\n    <tr>\n      <th>839461</th>\n      <td>albertotozzi3</td>\n      <td>[{'code': 50, 'message': 'User not found.'}]</td>\n    </tr>\n    <tr>\n      <th>839462</th>\n      <td>HanKer09062021</td>\n      <td>ok</td>\n    </tr>\n    <tr>\n      <th>839463</th>\n      <td>gaha_matteo</td>\n      <td>ok</td>\n    </tr>\n  </tbody>\n</table>\n<p>305259 rows × 2 columns</p>\n</div>"
     },
     "execution_count": 12,
     "metadata": {},
     "output_type": "execute_result"
    }
   ],
   "source": [
    "user_conspiracy = pd.read_csv(\"../files/tweets/result_cred_score_thresh_10.csv\")\n",
    "user_ev = pd.read_csv(\"../files/networks/user_ev_centrality.csv\")\n",
    "user_deg = pd.read_csv(\"../files/networks/user_deg_centrality.csv\")\n",
    "user_tox = pd.read_csv(\"../files/tweets/user_toxicity.csv\")\n",
    "suspended = pd.DataFrame()\n",
    "for filename in glob.glob(\"../script_directory_output/suspended_users/output*.csv\"):\n",
    "    df = pd.read_csv(filename, lineterminator=\"\\n\", encoding=\"utf-8\", low_memory=False)\n",
    "    suspended = pd.concat([suspended, df], ignore_index=True)\n",
    "suspended.reset_index(drop=True, inplace=True)\n",
    "suspended.drop_duplicates(subset=[\"name\"], inplace=True)\n",
    "suspended\n",
    "# botometer"
   ]
  },
  {
   "cell_type": "code",
   "execution_count": 13,
   "metadata": {
    "pycharm": {
     "name": "#%%\n"
    }
   },
   "outputs": [
    {
     "data": {
      "text/plain": "      HIGH    LOW  UNKW  SOCIAL  conspiracy_score            name  \\\n0       33  17267   171       0               1.0   infoitinterno   \n1        0      5     0      13               1.0      Paolo90777   \n2        0      7     3       1               1.0   ZiaGabriella1   \n3        0      3     1      32               1.0        lapillo1   \n4        0     33     3       0               1.0         terry57   \n...    ...    ...   ...     ...               ...             ...   \n8472     0      0    10       0               NaN    CloCecchetto   \n8473     0      0    10       0               NaN       castelPao   \n8474     0      0    10       0               NaN        traian_m   \n8475     0      0    10       0               NaN  ComuneOristano   \n8476     0      0    10       0               NaN      fcin1908it   \n\n                ev   deg_cen  \\\n0     7.966932e-04  0.000324   \n1     1.817897e-03  0.000139   \n2     5.881818e-03  0.000282   \n3     2.029138e-03  0.000111   \n4     9.011427e-05  0.000019   \n...            ...       ...   \n8472  2.454355e-05  0.000102   \n8473  4.582850e-06  0.000005   \n8474  8.706800e-09  0.000014   \n8475  3.281069e-39  0.000005   \n8476  5.650165e-06  0.000014   \n\n                                                   text  toxicity  ...  \\\n0     Iscrizioni scuola 2020, la guida di Bologna. D...  0.003662  ...   \n1     Marco_Mandorli lucabattanta mat_brandi stefani...  0.059728  ...   \n2                                       Se mi vaccino:   0.006768  ...   \n3     Mascherine all'aperto? Inutili. Dati mortalità...  0.358705  ...   \n4     Lazio, il Tar accoglie il ricorso contro l’obb...  0.000768  ...   \n...                                                 ...       ...  ...   \n8472                                                NaN       NaN  ...   \n8473  L'epidemiologo, vero e proprio esperto nell’or...  0.000154  ...   \n8474                                                NaN       NaN  ...   \n8475  Al via la campagna di vaccinazione antinfluenz...  0.044062  ...   \n8476                                                NaN       NaN  ...   \n\n      hashtags                      created_at in_reply_to_screen_name  \\\n0           []  Wed Jan 08 01:35:16 +0000 2020                     NaN   \n1           []  Fri Oct 02 19:23:54 +0000 2020          Marco_Mandorli   \n2           []  Tue Dec 29 08:39:56 +0000 2020                     NaN   \n3           []  Tue Oct 06 14:54:22 +0000 2020                     NaN   \n4           []  Sat Oct 03 07:28:12 +0000 2020                     NaN   \n...        ...                             ...                     ...   \n8472       NaN                             NaN                     NaN   \n8473        []  Wed Jan 27 11:18:09 +0000 2021                     NaN   \n8474       NaN                             NaN                     NaN   \n8475        []  Tue Oct 20 14:14:52 +0000 2020                     NaN   \n8476       NaN                             NaN                     NaN   \n\n                       rt_created_at quoted_status_id in_reply_to_user_id  \\\n0                                NaN              NaN                 NaN   \n1                                NaN              NaN        1.874501e+09   \n2     Tue Dec 29 07:04:03 +0000 2020              NaN                 NaN   \n3     Tue Oct 06 12:45:38 +0000 2020              NaN                 NaN   \n4                                NaN              NaN                 NaN   \n...                              ...              ...                 ...   \n8472                             NaN              NaN                 NaN   \n8473                             NaN              NaN                 NaN   \n8474                             NaN              NaN                 NaN   \n8475                             NaN              NaN                 NaN   \n8476                             NaN              NaN                 NaN   \n\n            date  count_status  toxicity_score status  \n0     2020-01-08       17189.0        0.031818     ok  \n1     2020-10-02          46.0        0.101611     ok  \n2     2020-12-29          98.0        0.130837     ok  \n3     2020-10-06         110.0        0.104499     ok  \n4     2020-10-03          35.0        0.070365     ok  \n...          ...           ...             ...    ...  \n8472         NaN           NaN             NaN     ok  \n8473  2021-01-27          17.0        0.062314     ok  \n8474         NaN           NaN             NaN     ok  \n8475  2020-10-20          11.0        0.018776     ok  \n8476         NaN           NaN             NaN     ok  \n\n[8477 rows x 23 columns]",
      "text/html": "<div>\n<style scoped>\n    .dataframe tbody tr th:only-of-type {\n        vertical-align: middle;\n    }\n\n    .dataframe tbody tr th {\n        vertical-align: top;\n    }\n\n    .dataframe thead th {\n        text-align: right;\n    }\n</style>\n<table border=\"1\" class=\"dataframe\">\n  <thead>\n    <tr style=\"text-align: right;\">\n      <th></th>\n      <th>HIGH</th>\n      <th>LOW</th>\n      <th>UNKW</th>\n      <th>SOCIAL</th>\n      <th>conspiracy_score</th>\n      <th>name</th>\n      <th>ev</th>\n      <th>deg_cen</th>\n      <th>text</th>\n      <th>toxicity</th>\n      <th>...</th>\n      <th>hashtags</th>\n      <th>created_at</th>\n      <th>in_reply_to_screen_name</th>\n      <th>rt_created_at</th>\n      <th>quoted_status_id</th>\n      <th>in_reply_to_user_id</th>\n      <th>date</th>\n      <th>count_status</th>\n      <th>toxicity_score</th>\n      <th>status</th>\n    </tr>\n  </thead>\n  <tbody>\n    <tr>\n      <th>0</th>\n      <td>33</td>\n      <td>17267</td>\n      <td>171</td>\n      <td>0</td>\n      <td>1.0</td>\n      <td>infoitinterno</td>\n      <td>7.966932e-04</td>\n      <td>0.000324</td>\n      <td>Iscrizioni scuola 2020, la guida di Bologna. D...</td>\n      <td>0.003662</td>\n      <td>...</td>\n      <td>[]</td>\n      <td>Wed Jan 08 01:35:16 +0000 2020</td>\n      <td>NaN</td>\n      <td>NaN</td>\n      <td>NaN</td>\n      <td>NaN</td>\n      <td>2020-01-08</td>\n      <td>17189.0</td>\n      <td>0.031818</td>\n      <td>ok</td>\n    </tr>\n    <tr>\n      <th>1</th>\n      <td>0</td>\n      <td>5</td>\n      <td>0</td>\n      <td>13</td>\n      <td>1.0</td>\n      <td>Paolo90777</td>\n      <td>1.817897e-03</td>\n      <td>0.000139</td>\n      <td>Marco_Mandorli lucabattanta mat_brandi stefani...</td>\n      <td>0.059728</td>\n      <td>...</td>\n      <td>[]</td>\n      <td>Fri Oct 02 19:23:54 +0000 2020</td>\n      <td>Marco_Mandorli</td>\n      <td>NaN</td>\n      <td>NaN</td>\n      <td>1.874501e+09</td>\n      <td>2020-10-02</td>\n      <td>46.0</td>\n      <td>0.101611</td>\n      <td>ok</td>\n    </tr>\n    <tr>\n      <th>2</th>\n      <td>0</td>\n      <td>7</td>\n      <td>3</td>\n      <td>1</td>\n      <td>1.0</td>\n      <td>ZiaGabriella1</td>\n      <td>5.881818e-03</td>\n      <td>0.000282</td>\n      <td>Se mi vaccino:</td>\n      <td>0.006768</td>\n      <td>...</td>\n      <td>[]</td>\n      <td>Tue Dec 29 08:39:56 +0000 2020</td>\n      <td>NaN</td>\n      <td>Tue Dec 29 07:04:03 +0000 2020</td>\n      <td>NaN</td>\n      <td>NaN</td>\n      <td>2020-12-29</td>\n      <td>98.0</td>\n      <td>0.130837</td>\n      <td>ok</td>\n    </tr>\n    <tr>\n      <th>3</th>\n      <td>0</td>\n      <td>3</td>\n      <td>1</td>\n      <td>32</td>\n      <td>1.0</td>\n      <td>lapillo1</td>\n      <td>2.029138e-03</td>\n      <td>0.000111</td>\n      <td>Mascherine all'aperto? Inutili. Dati mortalità...</td>\n      <td>0.358705</td>\n      <td>...</td>\n      <td>[]</td>\n      <td>Tue Oct 06 14:54:22 +0000 2020</td>\n      <td>NaN</td>\n      <td>Tue Oct 06 12:45:38 +0000 2020</td>\n      <td>NaN</td>\n      <td>NaN</td>\n      <td>2020-10-06</td>\n      <td>110.0</td>\n      <td>0.104499</td>\n      <td>ok</td>\n    </tr>\n    <tr>\n      <th>4</th>\n      <td>0</td>\n      <td>33</td>\n      <td>3</td>\n      <td>0</td>\n      <td>1.0</td>\n      <td>terry57</td>\n      <td>9.011427e-05</td>\n      <td>0.000019</td>\n      <td>Lazio, il Tar accoglie il ricorso contro l’obb...</td>\n      <td>0.000768</td>\n      <td>...</td>\n      <td>[]</td>\n      <td>Sat Oct 03 07:28:12 +0000 2020</td>\n      <td>NaN</td>\n      <td>NaN</td>\n      <td>NaN</td>\n      <td>NaN</td>\n      <td>2020-10-03</td>\n      <td>35.0</td>\n      <td>0.070365</td>\n      <td>ok</td>\n    </tr>\n    <tr>\n      <th>...</th>\n      <td>...</td>\n      <td>...</td>\n      <td>...</td>\n      <td>...</td>\n      <td>...</td>\n      <td>...</td>\n      <td>...</td>\n      <td>...</td>\n      <td>...</td>\n      <td>...</td>\n      <td>...</td>\n      <td>...</td>\n      <td>...</td>\n      <td>...</td>\n      <td>...</td>\n      <td>...</td>\n      <td>...</td>\n      <td>...</td>\n      <td>...</td>\n      <td>...</td>\n      <td>...</td>\n    </tr>\n    <tr>\n      <th>8472</th>\n      <td>0</td>\n      <td>0</td>\n      <td>10</td>\n      <td>0</td>\n      <td>NaN</td>\n      <td>CloCecchetto</td>\n      <td>2.454355e-05</td>\n      <td>0.000102</td>\n      <td>NaN</td>\n      <td>NaN</td>\n      <td>...</td>\n      <td>NaN</td>\n      <td>NaN</td>\n      <td>NaN</td>\n      <td>NaN</td>\n      <td>NaN</td>\n      <td>NaN</td>\n      <td>NaN</td>\n      <td>NaN</td>\n      <td>NaN</td>\n      <td>ok</td>\n    </tr>\n    <tr>\n      <th>8473</th>\n      <td>0</td>\n      <td>0</td>\n      <td>10</td>\n      <td>0</td>\n      <td>NaN</td>\n      <td>castelPao</td>\n      <td>4.582850e-06</td>\n      <td>0.000005</td>\n      <td>L'epidemiologo, vero e proprio esperto nell’or...</td>\n      <td>0.000154</td>\n      <td>...</td>\n      <td>[]</td>\n      <td>Wed Jan 27 11:18:09 +0000 2021</td>\n      <td>NaN</td>\n      <td>NaN</td>\n      <td>NaN</td>\n      <td>NaN</td>\n      <td>2021-01-27</td>\n      <td>17.0</td>\n      <td>0.062314</td>\n      <td>ok</td>\n    </tr>\n    <tr>\n      <th>8474</th>\n      <td>0</td>\n      <td>0</td>\n      <td>10</td>\n      <td>0</td>\n      <td>NaN</td>\n      <td>traian_m</td>\n      <td>8.706800e-09</td>\n      <td>0.000014</td>\n      <td>NaN</td>\n      <td>NaN</td>\n      <td>...</td>\n      <td>NaN</td>\n      <td>NaN</td>\n      <td>NaN</td>\n      <td>NaN</td>\n      <td>NaN</td>\n      <td>NaN</td>\n      <td>NaN</td>\n      <td>NaN</td>\n      <td>NaN</td>\n      <td>ok</td>\n    </tr>\n    <tr>\n      <th>8475</th>\n      <td>0</td>\n      <td>0</td>\n      <td>10</td>\n      <td>0</td>\n      <td>NaN</td>\n      <td>ComuneOristano</td>\n      <td>3.281069e-39</td>\n      <td>0.000005</td>\n      <td>Al via la campagna di vaccinazione antinfluenz...</td>\n      <td>0.044062</td>\n      <td>...</td>\n      <td>[]</td>\n      <td>Tue Oct 20 14:14:52 +0000 2020</td>\n      <td>NaN</td>\n      <td>NaN</td>\n      <td>NaN</td>\n      <td>NaN</td>\n      <td>2020-10-20</td>\n      <td>11.0</td>\n      <td>0.018776</td>\n      <td>ok</td>\n    </tr>\n    <tr>\n      <th>8476</th>\n      <td>0</td>\n      <td>0</td>\n      <td>10</td>\n      <td>0</td>\n      <td>NaN</td>\n      <td>fcin1908it</td>\n      <td>5.650165e-06</td>\n      <td>0.000014</td>\n      <td>NaN</td>\n      <td>NaN</td>\n      <td>...</td>\n      <td>NaN</td>\n      <td>NaN</td>\n      <td>NaN</td>\n      <td>NaN</td>\n      <td>NaN</td>\n      <td>NaN</td>\n      <td>NaN</td>\n      <td>NaN</td>\n      <td>NaN</td>\n      <td>ok</td>\n    </tr>\n  </tbody>\n</table>\n<p>8477 rows × 23 columns</p>\n</div>"
     },
     "execution_count": 13,
     "metadata": {},
     "output_type": "execute_result"
    }
   ],
   "source": [
    "tweets = user_conspiracy.merge(user_ev, left_on=\"user_screen_name\", right_on=\"name\", how=\"left\")\n",
    "tweets = tweets[tweets[\"name\"].notna()]\n",
    "tweets = tweets[[\"HIGH\",\"LOW\",\"UNKW\",\"SOCIAL\",\"conspiracy_score\",\"name\",\"ev\"]]\n",
    "tweets = tweets.merge(user_deg, on=\"name\", how=\"left\")\n",
    "tweets = tweets.merge(user_tox, left_on=\"name\", right_on=\"user_screen_name\", how=\"left\")\n",
    "tweets = tweets.merge(suspended, on=\"name\", how=\"left\")\n",
    "tweets"
   ]
  },
  {
   "cell_type": "code",
   "execution_count": 22,
   "outputs": [
    {
     "name": "stdout",
     "output_type": "stream",
     "text": [
      "0.12712205590623132\n",
      "0.09259283733809207\n",
      "0.3701219512195122\n",
      "0.2764870317002882\n"
     ]
    }
   ],
   "source": [
    "print(np.mean(tweets[tweets[\"status\"].str.contains(\"code\")][\"toxicity_score\"]))\n",
    "print(np.mean(tweets[tweets[\"status\"].str.contains(\"ok\")][\"toxicity_score\"]))\n",
    "print(np.mean(tweets[tweets[\"status\"].str.contains(\"code\")][\"conspiracy_score\"]))\n",
    "print(np.mean(tweets[tweets[\"status\"].str.contains(\"ok\")][\"conspiracy_score\"]))\n"
   ],
   "metadata": {
    "collapsed": false,
    "pycharm": {
     "name": "#%%\n"
    }
   }
  },
  {
   "cell_type": "code",
   "execution_count": 21,
   "metadata": {
    "pycharm": {
     "name": "#%%\n"
    }
   },
   "outputs": [],
   "source": [
    "# import numpy as np\n",
    "# threshold_high_low = 20\n",
    "# tweets = tweets[tweets['number_of_urls']>=threshold_high_low]\n",
    "# tweets['conspiracy_score'] = np.around(((tweets['LOW'])/(tweets['HIGH']+tweets['LOW'])),2)\n",
    "# tweets=tweets.sort_values(by=['conspiracy_score'], ascending=False)\n",
    "# tweets.head(10)"
   ]
  },
  {
   "cell_type": "code",
   "execution_count": 14,
   "metadata": {
    "pycharm": {
     "name": "#%%\n"
    }
   },
   "outputs": [
    {
     "data": {
      "text/plain": "                  conspiracy_score        ev   deg_cen  toxicity_score\nconspiracy_score          1.000000  0.338556  0.024767        0.328490\nev                        0.338556  1.000000  0.590345        0.276217\ndeg_cen                   0.024767  0.590345  1.000000        0.061662\ntoxicity_score            0.328490  0.276217  0.061662        1.000000",
      "text/html": "<div>\n<style scoped>\n    .dataframe tbody tr th:only-of-type {\n        vertical-align: middle;\n    }\n\n    .dataframe tbody tr th {\n        vertical-align: top;\n    }\n\n    .dataframe thead th {\n        text-align: right;\n    }\n</style>\n<table border=\"1\" class=\"dataframe\">\n  <thead>\n    <tr style=\"text-align: right;\">\n      <th></th>\n      <th>conspiracy_score</th>\n      <th>ev</th>\n      <th>deg_cen</th>\n      <th>toxicity_score</th>\n    </tr>\n  </thead>\n  <tbody>\n    <tr>\n      <th>conspiracy_score</th>\n      <td>1.000000</td>\n      <td>0.338556</td>\n      <td>0.024767</td>\n      <td>0.328490</td>\n    </tr>\n    <tr>\n      <th>ev</th>\n      <td>0.338556</td>\n      <td>1.000000</td>\n      <td>0.590345</td>\n      <td>0.276217</td>\n    </tr>\n    <tr>\n      <th>deg_cen</th>\n      <td>0.024767</td>\n      <td>0.590345</td>\n      <td>1.000000</td>\n      <td>0.061662</td>\n    </tr>\n    <tr>\n      <th>toxicity_score</th>\n      <td>0.328490</td>\n      <td>0.276217</td>\n      <td>0.061662</td>\n      <td>1.000000</td>\n    </tr>\n  </tbody>\n</table>\n</div>"
     },
     "execution_count": 14,
     "metadata": {},
     "output_type": "execute_result"
    }
   ],
   "source": [
    "tweets[[\"conspiracy_score\",\"ev\",\"deg_cen\",\"toxicity_score\"]].corr()"
   ]
  }
 ],
 "metadata": {
  "kernelspec": {
   "display_name": "Python 3 (ipykernel)",
   "language": "python",
   "name": "python3"
  },
  "language_info": {
   "codemirror_mode": {
    "name": "ipython",
    "version": 3
   },
   "file_extension": ".py",
   "mimetype": "text/x-python",
   "name": "python",
   "nbconvert_exporter": "python",
   "pygments_lexer": "ipython3",
   "version": "3.8.11"
  }
 },
 "nbformat": 4,
 "nbformat_minor": 1
}