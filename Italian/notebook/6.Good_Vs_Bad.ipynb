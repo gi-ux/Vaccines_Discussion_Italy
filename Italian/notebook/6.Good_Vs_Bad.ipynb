{
 "cells": [
  {
   "cell_type": "code",
   "execution_count": 1,
   "id": "8a0eae9f",
   "metadata": {
    "pycharm": {
     "name": "#%%\n"
    }
   },
   "outputs": [],
   "source": [
    "import pandas as pd\n",
    "from tqdm.notebook import tqdm\n",
    "import matplotlib.pyplot as plt\n",
    "import numpy as np\n",
    "import sys\n",
    "import warnings\n",
    "warnings.filterwarnings(\"ignore\")\n",
    "path = \"C:/Users/gianl/Desktop/Gi/Supsi/Vaccines_Discussion_Italy/Giada/Files/\"\n",
    "path_df = \"C:/Users/gianl/Desktop/Gi/Supsi/Vaccines_Discussion_Italy/Laura/Tweets/\"\n",
    "path_files = \"C:/Users/gianl/Desktop/Gi/Supsi/Vaccines_Discussion_Italy/Laura/Files/\"\n",
    "path_utils = 'C:/Users/gianl/Desktop/Gi/Supsi/Vaccines_Discussion_Italy/tweet_utils'\n",
    "sys.path.append(path_utils)\n",
    "import utils"
   ]
  },
  {
   "cell_type": "markdown",
   "id": "005b9115",
   "metadata": {
    "pycharm": {
     "name": "#%% md\n"
    }
   },
   "source": [
    "# Indice\n",
    "\n",
    "- [Import and read](#import)\n",
    "- [Hashtags](#hashtags)\n",
    "- [URLs shared](#urls)\n",
    "- [Split](#split)\n",
    "- [Retweet network - Leiden](#nt_l)\n",
    "- [Retweet network - Louvain](#nt_l2)\n",
    "- [YouTube](#yt)\n",
    "- [Credibility Domains shared](#cred)\n",
    "- [Most popular tweets](#popular)\n",
    "- [Media shared](#media)"
   ]
  },
  {
   "cell_type": "markdown",
   "id": "c846fcd6",
   "metadata": {
    "pycharm": {
     "name": "#%% md\n"
    }
   },
   "source": [
    "# Import and read Data\n",
    "<a id=\"import\"/>"
   ]
  },
  {
   "cell_type": "code",
   "execution_count": 2,
   "id": "3c4d0d42",
   "metadata": {
    "pycharm": {
     "name": "#%%\n"
    }
   },
   "outputs": [],
   "source": [
    "good = pd.read_csv(path + \"good.csv\")\n",
    "bad = pd.read_csv(path + \"bad.csv\")\n",
    "good_lst = list(good[\"screen_name\"])\n",
    "bad_lst = list(bad[\"screen_name\"])\n",
    "good_rt = pd.read_csv(path_df + \"good_rt.csv\")\n",
    "bad_rt = pd.read_csv(path_df + \"bad_rt.csv\")\n",
    "good_lst = list(good[\"screen_name\"])\n",
    "bad_lst = list(bad[\"screen_name\"])\n",
    "good_rt_lst = list(good_rt[\"screen_name\"])\n",
    "bad_rt_lst = list(bad_rt[\"screen_name\"])"
   ]
  },
  {
   "cell_type": "code",
   "execution_count": 3,
   "id": "9506bfde",
   "metadata": {
    "pycharm": {
     "name": "#%%\n"
    }
   },
   "outputs": [],
   "source": [
    "# df = pd.read_parquet(path_df + \"tweets.parquet\", engine=\"fastparquet\")\n",
    "# good_activities = df[df[\"user_screen_name\"].isin(good_lst)]\n",
    "# bad_activities = df[df[\"user_screen_name\"].isin(bad_lst)]\n",
    "# rt_in_good = df[df[\"rt_user_screen_name\"].isin(good_lst)]\n",
    "# rt_in_bad = df[df[\"rt_user_screen_name\"].isin(bad_lst)]\n",
    "# good_activities.to_csv(path_df + \"good_activities.csv\", encoding=\"utf-8\", line_terminator=\"\\n\", index=False)\n",
    "# bad_activities.to_csv(path_df + \"bad_activities.csv\", encoding=\"utf-8\", line_terminator=\"\\n\", index=False)\n",
    "# rt_in_bad.to_csv(path_df + \"rt_in_bad.csv\", encoding=\"utf-8\", line_terminator=\"\\n\", index=False)\n",
    "# rt_in_good.to_csv(path_df + \"rt_in_good.csv\", encoding=\"utf-8\", line_terminator=\"\\n\", index=False)"
   ]
  },
  {
   "cell_type": "code",
   "execution_count": 3,
   "id": "deb46dae",
   "metadata": {
    "pycharm": {
     "name": "#%%\n"
    }
   },
   "outputs": [],
   "source": [
    "good_activities = pd.read_csv(path_df + \"good_activities.csv\", encoding=\"utf-8\", lineterminator=\"\\n\", low_memory=False)\n",
    "bad_activities = pd.read_csv(path_df + \"bad_activities.csv\", encoding=\"utf-8\", lineterminator=\"\\n\", low_memory=False)\n",
    "rt_in_bad = pd.read_csv(path_df + \"rt_in_bad.csv\", lineterminator=\"\\n\", low_memory=False, encoding=\"utf-8\")\n",
    "rt_in_good = pd.read_csv(path_df + \"rt_in_good.csv\", lineterminator=\"\\n\", low_memory=False, encoding=\"utf-8\")"
   ]
  },
  {
   "cell_type": "code",
   "execution_count": 5,
   "id": "926b9530",
   "metadata": {
    "pycharm": {
     "name": "#%%\n"
    }
   },
   "outputs": [
    {
     "data": {
      "text/plain": [
       "Index(['id', 'id_str', 'created_at', 'user_id', 'user_screen_name',\n",
       "       'user_verified', 'user_created_at', 'text', 'source', 'coordinates',\n",
       "       'is_quote_status', 'retweet_count', 'favorite_count', 'favorited',\n",
       "       'retweeted', 'lang', 'in_reply_to_status_id',\n",
       "       'in_reply_to_status_id_str', 'in_reply_to_user_id',\n",
       "       'in_reply_to_user_id_str', 'in_reply_to_screen_name', 'rt_coordinates',\n",
       "       'rt_created_at', 'rt_in_reply_to_status_id', 'rt_in_reply_to_user_id',\n",
       "       'rt_lang', 'rt_favourite_count', 'rt_id', 'rt_user_id',\n",
       "       'rt_user_screen_name', 'rt_user_created_at', 'rt_user_verified',\n",
       "       'rt_user_followers_count', 'rt_user_friends_count',\n",
       "       'rt_user_favourites_count', 'quoted_status_id', 'quoted_status_text',\n",
       "       'quoted_status_created_at', 'quoted_user_id', 'quoted_user_created_at',\n",
       "       'hashtags', 'symbols', 'user_mentions', 'urls', 'polls', 'media',\n",
       "       'user_tweets_count', 'user_friends_count', 'user_followers_count'],\n",
       "      dtype='object')"
      ]
     },
     "execution_count": 5,
     "metadata": {},
     "output_type": "execute_result"
    }
   ],
   "source": [
    "good_activities.columns"
   ]
  },
  {
   "cell_type": "markdown",
   "id": "6d0f1bd4",
   "metadata": {
    "pycharm": {
     "name": "#%% md\n"
    }
   },
   "source": [
    "# Hashtags\n",
    "<a id=\"hashtags\"/>"
   ]
  },
  {
   "cell_type": "code",
   "execution_count": 4,
   "id": "f764b78e",
   "metadata": {
    "pycharm": {
     "name": "#%%\n"
    }
   },
   "outputs": [
    {
     "data": {
      "text/plain": "HBox(children=(HTML(value=''), FloatProgress(value=0.0, max=3400.0), HTML(value='')))",
      "application/vnd.jupyter.widget-view+json": {
       "version_major": 2,
       "version_minor": 0,
       "model_id": "5ed0647332d14521bbff1c4d46c14bfe"
      }
     },
     "metadata": {},
     "output_type": "display_data"
    },
    {
     "name": "stdout",
     "output_type": "stream",
     "text": [
      "\n"
     ]
    },
    {
     "data": {
      "text/plain": "<Figure size 432x288 with 1 Axes>",
      "image/png": "[encoded data removed]"
     },
     "metadata": {
      "needs_background": "light"
     },
     "output_type": "display_data"
    }
   ],
   "source": [
    "lst_prova = utils.hashtag_process_list(good_activities[\"hashtags\"])\n",
    "lst_prova_2 = [i for i in lst_prova if i != \"[]\"]\n",
    "lst_prova_3 = []\n",
    "for i in lst_prova_2:\n",
    "    for j in i:\n",
    "        lst_prova_3.append(j)\n",
    "val = pd.Series(lst_prova_3).value_counts().sort_values(ascending=False)\n",
    "fig = plt.figure()\n",
    "ax = val[:15].plot(kind='barh', color='green')\n",
    "ax.set_title('Most HASHTAGS shared by GOOD USERS')\n",
    "ax.invert_yaxis()\n",
    "plt.show()"
   ]
  },
  {
   "cell_type": "code",
   "execution_count": 5,
   "id": "622758f9",
   "metadata": {
    "pycharm": {
     "name": "#%%\n"
    }
   },
   "outputs": [
    {
     "data": {
      "text/plain": "HBox(children=(HTML(value=''), FloatProgress(value=0.0, max=130505.0), HTML(value='')))",
      "application/vnd.jupyter.widget-view+json": {
       "version_major": 2,
       "version_minor": 0,
       "model_id": "d3ba721893624505afb535da691a777e"
      }
     },
     "metadata": {},
     "output_type": "display_data"
    },
    {
     "name": "stdout",
     "output_type": "stream",
     "text": [
      "\n"
     ]
    },
    {
     "data": {
      "text/plain": "<Figure size 432x288 with 1 Axes>",
      "image/png": "[encoded data removed]"
     },
     "metadata": {
      "needs_background": "light"
     },
     "output_type": "display_data"
    }
   ],
   "source": [
    "lst_prova = utils.hashtag_process_list(rt_in_good[\"hashtags\"])\n",
    "lst_prova_2 = [i for i in lst_prova if i != \"[]\"]\n",
    "lst_prova_3 = []\n",
    "for i in lst_prova_2:\n",
    "    for j in i:\n",
    "        lst_prova_3.append(j)\n",
    "val = pd.Series(lst_prova_3).value_counts().sort_values(ascending=False)\n",
    "fig = plt.figure()\n",
    "ax = val[:15].plot(kind='barh', color='lightgreen')\n",
    "ax.set_title('Most HASHTAGS shared by GOOD USERS rt')\n",
    "ax.invert_yaxis()\n",
    "plt.show()"
   ]
  },
  {
   "cell_type": "code",
   "execution_count": 8,
   "id": "ee5eeda4",
   "metadata": {
    "pycharm": {
     "name": "#%%\n"
    }
   },
   "outputs": [
    {
     "data": {
      "application/vnd.jupyter.widget-view+json": {
       "model_id": "e5a42d4aea0c4726a22faef5bc1ea79c",
       "version_major": 2,
       "version_minor": 0
      },
      "text/plain": [
       "HBox(children=(HTML(value=''), FloatProgress(value=0.0, max=55372.0), HTML(value='')))"
      ]
     },
     "metadata": {},
     "output_type": "display_data"
    },
    {
     "name": "stdout",
     "output_type": "stream",
     "text": [
      "\n"
     ]
    },
    {
     "data": {
      "image/png": "[encoded data removed]",
      "text/plain": [
       "<Figure size 432x288 with 1 Axes>"
      ]
     },
     "metadata": {
      "needs_background": "light"
     },
     "output_type": "display_data"
    }
   ],
   "source": [
    "lst_prova = utils.hashtag_process_list(bad_activities[\"hashtags\"])\n",
    "lst_prova_2 = [i for i in lst_prova if i != \"[]\"]\n",
    "lst_prova_3 = []\n",
    "for i in lst_prova_2:\n",
    "    for j in i:\n",
    "        lst_prova_3.append(j)\n",
    "val = pd.Series(lst_prova_3).value_counts().sort_values(ascending=False)\n",
    "fig = plt.figure()\n",
    "ax = val[:15].plot(kind='barh', color='red')\n",
    "ax.set_title('Most HASHTAGS shared by BAD USERS')\n",
    "ax.invert_yaxis()\n",
    "plt.show()"
   ]
  },
  {
   "cell_type": "code",
   "execution_count": 11,
   "id": "3ac6ca7a",
   "metadata": {
    "pycharm": {
     "name": "#%%\n"
    }
   },
   "outputs": [
    {
     "data": {
      "application/vnd.jupyter.widget-view+json": {
       "model_id": "a6625d15fddb4e538fb5c6acdcbe59ad",
       "version_major": 2,
       "version_minor": 0
      },
      "text/plain": [
       "HBox(children=(HTML(value=''), FloatProgress(value=0.0, max=179263.0), HTML(value='')))"
      ]
     },
     "metadata": {},
     "output_type": "display_data"
    },
    {
     "name": "stdout",
     "output_type": "stream",
     "text": [
      "\n"
     ]
    },
    {
     "data": {
      "image/png": "[encoded data removed]",
      "text/plain": [
       "<Figure size 432x288 with 1 Axes>"
      ]
     },
     "metadata": {
      "needs_background": "light"
     },
     "output_type": "display_data"
    }
   ],
   "source": [
    "lst_prova = utils.hashtag_process_list(rt_in_bad[\"hashtags\"])\n",
    "lst_prova_2 = [i for i in lst_prova if i != \"[]\"]\n",
    "lst_prova_3 = []\n",
    "for i in lst_prova_2:\n",
    "    for j in i:\n",
    "        lst_prova_3.append(j)\n",
    "val = pd.Series(lst_prova_3).value_counts().sort_values(ascending=False)\n",
    "fig = plt.figure()\n",
    "ax = val[:15].plot(kind='barh', color='orange')\n",
    "ax.set_title('Most HASHTAGS shared by BAD USERS rt')\n",
    "ax.invert_yaxis()\n",
    "plt.show()"
   ]
  },
  {
   "cell_type": "code",
   "execution_count": 6,
   "id": "5c897ed8",
   "metadata": {
    "pycharm": {
     "name": "#%%\n"
    }
   },
   "outputs": [],
   "source": [
    "hs_sage = pd.read_csv(\"C:/Users/gianl/Desktop/Gi/Supsi/BachelorProject/sage/data/outfile_good_bad_hs.csv\")\n",
    "hs_sage_good = hs_sage[15:][[\"word\"]].reset_index(drop=True)\n",
    "hs_sage_bad = hs_sage[:16][[\"word\"]].reset_index(drop=True)\n",
    "txt_sage = pd.read_csv(\"C:/Users/gianl/Desktop/Gi/Supsi/BachelorProject/sage/data/outfile_good_bad_txt.csv\")\n",
    "txt_sage_good = txt_sage[15:][[\"word\"]].reset_index(drop=True)\n",
    "txt_sage_bad = txt_sage[:16][[\"word\"]].reset_index(drop=True)"
   ]
  },
  {
   "cell_type": "code",
   "execution_count": 7,
   "id": "c05b45fa",
   "metadata": {
    "pycharm": {
     "name": "#%%\n"
    }
   },
   "outputs": [
    {
     "name": "stdout",
     "output_type": "stream",
     "text": [
      "SAGE\n"
     ]
    },
    {
     "data": {
      "text/html": [
       "<div>\n",
       "<style scoped>\n",
       "    .dataframe tbody tr th:only-of-type {\n",
       "        vertical-align: middle;\n",
       "    }\n",
       "\n",
       "    .dataframe tbody tr th {\n",
       "        vertical-align: top;\n",
       "    }\n",
       "\n",
       "    .dataframe thead th {\n",
       "        text-align: right;\n",
       "    }\n",
       "</style>\n",
       "<table border=\"1\" class=\"dataframe\">\n",
       "  <thead>\n",
       "    <tr style=\"text-align: right;\">\n",
       "      <th></th>\n",
       "      <th>User</th>\n",
       "      <th>Hashtag</th>\n",
       "      <th>Text</th>\n",
       "    </tr>\n",
       "  </thead>\n",
       "  <tbody>\n",
       "    <tr>\n",
       "      <th>0</th>\n",
       "      <td>Provax</td>\n",
       "      <td>medicalfacts</td>\n",
       "      <td>medicalfacts</td>\n",
       "    </tr>\n",
       "    <tr>\n",
       "      <th>1</th>\n",
       "      <td>Provax</td>\n",
       "      <td>lavitaindiretta</td>\n",
       "      <td>gimbe</td>\n",
       "    </tr>\n",
       "    <tr>\n",
       "      <th>2</th>\n",
       "      <td>Provax</td>\n",
       "      <td>robertoburioni</td>\n",
       "      <td>aiuteranno</td>\n",
       "    </tr>\n",
       "    <tr>\n",
       "      <th>3</th>\n",
       "      <td>Provax</td>\n",
       "      <td>ifattivostri</td>\n",
       "      <td>integrare</td>\n",
       "    </tr>\n",
       "    <tr>\n",
       "      <th>4</th>\n",
       "      <td>Provax</td>\n",
       "      <td>regioni</td>\n",
       "      <td>fidiamoci</td>\n",
       "    </tr>\n",
       "    <tr>\n",
       "      <th>5</th>\n",
       "      <td>Provax</td>\n",
       "      <td>gimbe</td>\n",
       "      <td>sbrighiamoci</td>\n",
       "    </tr>\n",
       "    <tr>\n",
       "      <th>6</th>\n",
       "      <td>Provax</td>\n",
       "      <td>unomattina</td>\n",
       "      <td>saturi</td>\n",
       "    </tr>\n",
       "    <tr>\n",
       "      <th>7</th>\n",
       "      <td>Provax</td>\n",
       "      <td>vaccinale</td>\n",
       "      <td>regolatorie</td>\n",
       "    </tr>\n",
       "    <tr>\n",
       "      <th>8</th>\n",
       "      <td>Provax</td>\n",
       "      <td>decretoriaperture</td>\n",
       "      <td>consegnate</td>\n",
       "    </tr>\n",
       "    <tr>\n",
       "      <th>9</th>\n",
       "      <td>Provax</td>\n",
       "      <td>forrest</td>\n",
       "      <td>sintomatica</td>\n",
       "    </tr>\n",
       "    <tr>\n",
       "      <th>10</th>\n",
       "      <td>Provax</td>\n",
       "      <td>lalaura</td>\n",
       "      <td>rolling</td>\n",
       "    </tr>\n",
       "    <tr>\n",
       "      <th>11</th>\n",
       "      <td>Provax</td>\n",
       "      <td>lucabottura</td>\n",
       "      <td>incrociamo</td>\n",
       "    </tr>\n",
       "    <tr>\n",
       "      <th>12</th>\n",
       "      <td>Provax</td>\n",
       "      <td>distanziamento</td>\n",
       "      <td>ottime</td>\n",
       "    </tr>\n",
       "    <tr>\n",
       "      <th>13</th>\n",
       "      <td>Provax</td>\n",
       "      <td>riaperture</td>\n",
       "      <td>omnibus</td>\n",
       "    </tr>\n",
       "    <tr>\n",
       "      <th>14</th>\n",
       "      <td>Provax</td>\n",
       "      <td>restart</td>\n",
       "      <td>coperture</td>\n",
       "    </tr>\n",
       "    <tr>\n",
       "      <th>15</th>\n",
       "      <td>Novax</td>\n",
       "      <td>nessunacorrelazione</td>\n",
       "      <td>gates</td>\n",
       "    </tr>\n",
       "    <tr>\n",
       "      <th>16</th>\n",
       "      <td>Novax</td>\n",
       "      <td>byoblu24</td>\n",
       "      <td>massa</td>\n",
       "    </tr>\n",
       "    <tr>\n",
       "      <th>17</th>\n",
       "      <td>Novax</td>\n",
       "      <td>dittaturasanitaria</td>\n",
       "      <td>sperimentale</td>\n",
       "    </tr>\n",
       "    <tr>\n",
       "      <th>18</th>\n",
       "      <td>Novax</td>\n",
       "      <td>billgates</td>\n",
       "      <td>vogliono</td>\n",
       "    </tr>\n",
       "    <tr>\n",
       "      <th>19</th>\n",
       "      <td>Novax</td>\n",
       "      <td>quartarepubblica</td>\n",
       "      <td>reazioni</td>\n",
       "    </tr>\n",
       "    <tr>\n",
       "      <th>20</th>\n",
       "      <td>Novax</td>\n",
       "      <td>speranza</td>\n",
       "      <td>obbligo</td>\n",
       "    </tr>\n",
       "    <tr>\n",
       "      <th>21</th>\n",
       "      <td>Novax</td>\n",
       "      <td>bassetti</td>\n",
       "      <td>medici</td>\n",
       "    </tr>\n",
       "    <tr>\n",
       "      <th>22</th>\n",
       "      <td>Novax</td>\n",
       "      <td>lockdown</td>\n",
       "      <td>governo</td>\n",
       "    </tr>\n",
       "    <tr>\n",
       "      <th>23</th>\n",
       "      <td>Novax</td>\n",
       "      <td>ue</td>\n",
       "      <td>morti</td>\n",
       "    </tr>\n",
       "    <tr>\n",
       "      <th>24</th>\n",
       "      <td>Novax</td>\n",
       "      <td>burioni</td>\n",
       "      <td>dopo</td>\n",
       "    </tr>\n",
       "    <tr>\n",
       "      <th>25</th>\n",
       "      <td>Novax</td>\n",
       "      <td>oms</td>\n",
       "      <td>obbligatorio</td>\n",
       "    </tr>\n",
       "    <tr>\n",
       "      <th>26</th>\n",
       "      <td>Novax</td>\n",
       "      <td>coronashow</td>\n",
       "      <td>cure</td>\n",
       "    </tr>\n",
       "    <tr>\n",
       "      <th>27</th>\n",
       "      <td>Novax</td>\n",
       "      <td>iononmivaccino</td>\n",
       "      <td>bambini</td>\n",
       "    </tr>\n",
       "    <tr>\n",
       "      <th>28</th>\n",
       "      <td>Novax</td>\n",
       "      <td>passaportovaccinale</td>\n",
       "      <td>vaccino</td>\n",
       "    </tr>\n",
       "    <tr>\n",
       "      <th>29</th>\n",
       "      <td>Novax</td>\n",
       "      <td>usa</td>\n",
       "      <td>poi</td>\n",
       "    </tr>\n",
       "  </tbody>\n",
       "</table>\n",
       "</div>"
      ],
      "text/plain": [
       "      User              Hashtag          Text\n",
       "0   Provax         medicalfacts  medicalfacts\n",
       "1   Provax      lavitaindiretta         gimbe\n",
       "2   Provax       robertoburioni    aiuteranno\n",
       "3   Provax         ifattivostri     integrare\n",
       "4   Provax              regioni     fidiamoci\n",
       "5   Provax                gimbe  sbrighiamoci\n",
       "6   Provax           unomattina        saturi\n",
       "7   Provax            vaccinale   regolatorie\n",
       "8   Provax    decretoriaperture    consegnate\n",
       "9   Provax              forrest   sintomatica\n",
       "10  Provax              lalaura       rolling\n",
       "11  Provax          lucabottura    incrociamo\n",
       "12  Provax       distanziamento        ottime\n",
       "13  Provax           riaperture       omnibus\n",
       "14  Provax              restart     coperture\n",
       "15   Novax  nessunacorrelazione         gates\n",
       "16   Novax             byoblu24         massa\n",
       "17   Novax   dittaturasanitaria  sperimentale\n",
       "18   Novax            billgates      vogliono\n",
       "19   Novax     quartarepubblica      reazioni\n",
       "20   Novax             speranza       obbligo\n",
       "21   Novax             bassetti        medici\n",
       "22   Novax             lockdown       governo\n",
       "23   Novax                   ue         morti\n",
       "24   Novax              burioni          dopo\n",
       "25   Novax                  oms  obbligatorio\n",
       "26   Novax           coronashow          cure\n",
       "27   Novax       iononmivaccino       bambini\n",
       "28   Novax  passaportovaccinale       vaccino\n",
       "29   Novax                  usa           poi"
      ]
     },
     "execution_count": 7,
     "metadata": {},
     "output_type": "execute_result"
    }
   ],
   "source": [
    "print(\"SAGE\")\n",
    "info = []\n",
    "hs_sage = list(hs_sage_good[\"word\"])\n",
    "for i in range(len(hs_sage)):\n",
    "    info.append(\"Provax\")\n",
    "for i in range(len(hs_sage)):\n",
    "    info.append(\"Novax\")\n",
    "hs_sage.extend(list(hs_sage_bad[\"word\"]))\n",
    "txt_sage = list(txt_sage_good[\"word\"])\n",
    "txt_sage.extend(txt_sage_bad[\"word\"])\n",
    "df_sage_info = pd.DataFrame(list(zip(info, hs_sage, txt_sage)), columns=[\"User\", \"Hashtag\", \"Text\"])\n",
    "df_sage_info"
   ]
  },
  {
   "cell_type": "markdown",
   "id": "4819ac87",
   "metadata": {
    "pycharm": {
     "name": "#%% md\n"
    }
   },
   "source": [
    "# URLs Shared\n",
    "<a id=\"urls\"/>"
   ]
  },
  {
   "cell_type": "code",
   "execution_count": 45,
   "id": "6e6744f4",
   "metadata": {
    "pycharm": {
     "name": "#%%\n"
    }
   },
   "outputs": [
    {
     "data": {
      "text/plain": [
       "<module 'utils' from 'C:\\\\Users/gianl/Desktop/Gi/Supsi/Vaccines_Discussion_Italy/tweet_utils\\\\utils.py'>"
      ]
     },
     "execution_count": 45,
     "metadata": {},
     "output_type": "execute_result"
    }
   ],
   "source": [
    "# tweets_with_urls = pd.read_parquet(path_df+\"tweets_with_urls_and_domain_and_score (4.0).parquet\", engine=\"fastparquet\")\n",
    "# tweets_with_urls\n",
    "import importlib\n",
    "importlib.reload(utils)"
   ]
  },
  {
   "cell_type": "code",
   "execution_count": 20,
   "id": "63f81d66",
   "metadata": {
    "pycharm": {
     "name": "#%%\n"
    }
   },
   "outputs": [
    {
     "data": {
      "application/vnd.jupyter.widget-view+json": {
       "model_id": "92db7e5f14bb43319879243899a8a504",
       "version_major": 2,
       "version_minor": 0
      },
      "text/plain": [
       "HBox(children=(HTML(value=''), FloatProgress(value=0.0, max=3400.0), HTML(value='')))"
      ]
     },
     "metadata": {},
     "output_type": "display_data"
    },
    {
     "name": "stdout",
     "output_type": "stream",
     "text": [
      "\n"
     ]
    },
    {
     "data": {
      "image/png": "[encoded data removed]",
      "text/plain": [
       "<Figure size 432x288 with 1 Axes>"
      ]
     },
     "metadata": {
      "needs_background": "light"
     },
     "output_type": "display_data"
    }
   ],
   "source": [
    "x = utils.extract_domain_list(good_activities)\n",
    "good_urls = []\n",
    "lst_not_plot = [\"twitter.com\", \"bit.ly\", \"ow.ly\"]\n",
    "cont = 0\n",
    "for i in x:\n",
    "    if i != []:\n",
    "        for j in i:\n",
    "            if (j not in lst_not_plot):\n",
    "                good_urls.append(j)\n",
    "val = pd.Series(good_urls).value_counts().sort_values(ascending=False)\n",
    "fig = plt.figure()\n",
    "ax = val[:15].plot(kind='barh', color='green')\n",
    "ax.set_title('Most URLS shared by GOOD USERS')\n",
    "ax.invert_yaxis()\n",
    "plt.show()"
   ]
  },
  {
   "cell_type": "code",
   "execution_count": 26,
   "id": "f8a1d767",
   "metadata": {
    "pycharm": {
     "name": "#%%\n"
    }
   },
   "outputs": [
    {
     "data": {
      "application/vnd.jupyter.widget-view+json": {
       "model_id": "cdad2fe0a09e4eaba822f686bef04cf6",
       "version_major": 2,
       "version_minor": 0
      },
      "text/plain": [
       "HBox(children=(HTML(value=''), FloatProgress(value=0.0, max=130505.0), HTML(value='')))"
      ]
     },
     "metadata": {},
     "output_type": "display_data"
    },
    {
     "name": "stdout",
     "output_type": "stream",
     "text": [
      "\n"
     ]
    },
    {
     "data": {
      "image/png": "[encoded data removed]",
      "text/plain": [
       "<Figure size 432x288 with 1 Axes>"
      ]
     },
     "metadata": {
      "needs_background": "light"
     },
     "output_type": "display_data"
    }
   ],
   "source": [
    "x = utils.extract_domain_list(rt_in_good)\n",
    "good_urls = []\n",
    "cont = 0\n",
    "for i in x:\n",
    "    if i != []:\n",
    "        for j in i:\n",
    "            if (j not in lst_not_plot):\n",
    "                good_urls.append(j)\n",
    "val = pd.Series(good_urls).value_counts().sort_values(ascending=False)\n",
    "fig = plt.figure()\n",
    "ax = val[:15].plot(kind='barh', color='lightgreen')\n",
    "ax.set_title('Most URLS shared by GOOD USERS rt')\n",
    "ax.invert_yaxis()\n",
    "plt.show()"
   ]
  },
  {
   "cell_type": "code",
   "execution_count": 27,
   "id": "d76f413c",
   "metadata": {
    "pycharm": {
     "name": "#%%\n"
    }
   },
   "outputs": [
    {
     "data": {
      "application/vnd.jupyter.widget-view+json": {
       "model_id": "6483e60c280c44a3962f130a255a85be",
       "version_major": 2,
       "version_minor": 0
      },
      "text/plain": [
       "HBox(children=(HTML(value=''), FloatProgress(value=0.0, max=55372.0), HTML(value='')))"
      ]
     },
     "metadata": {},
     "output_type": "display_data"
    },
    {
     "name": "stdout",
     "output_type": "stream",
     "text": [
      "\n"
     ]
    },
    {
     "data": {
      "image/png": "[encoded data removed]",
      "text/plain": [
       "<Figure size 432x288 with 1 Axes>"
      ]
     },
     "metadata": {
      "needs_background": "light"
     },
     "output_type": "display_data"
    }
   ],
   "source": [
    "x = utils.extract_domain_list(bad_activities)\n",
    "bad_urls = []\n",
    "cont = 0\n",
    "for i in x:\n",
    "    if i != []:\n",
    "        for j in i:\n",
    "            if (j not in lst_not_plot):\n",
    "                bad_urls.append(j)\n",
    "val = pd.Series(bad_urls).value_counts().sort_values(ascending=False)\n",
    "fig = plt.figure()\n",
    "ax = val[:15].plot(kind='barh', color='red')\n",
    "ax.set_title('Most URLS shared by BAD USERS')\n",
    "ax.invert_yaxis()\n",
    "plt.show()"
   ]
  },
  {
   "cell_type": "code",
   "execution_count": 29,
   "id": "8c9c3ead",
   "metadata": {
    "pycharm": {
     "name": "#%%\n"
    }
   },
   "outputs": [
    {
     "data": {
      "application/vnd.jupyter.widget-view+json": {
       "model_id": "8a57141077354004938d64b918bdb29c",
       "version_major": 2,
       "version_minor": 0
      },
      "text/plain": [
       "HBox(children=(HTML(value=''), FloatProgress(value=0.0, max=179263.0), HTML(value='')))"
      ]
     },
     "metadata": {},
     "output_type": "display_data"
    },
    {
     "name": "stdout",
     "output_type": "stream",
     "text": [
      "\n"
     ]
    },
    {
     "data": {
      "image/png": "[encoded data removed]",
      "text/plain": [
       "<Figure size 432x288 with 1 Axes>"
      ]
     },
     "metadata": {
      "needs_background": "light"
     },
     "output_type": "display_data"
    }
   ],
   "source": [
    "x = utils.extract_domain_list(rt_in_bad)\n",
    "bad_urls = []\n",
    "cont = 0\n",
    "for i in x:\n",
    "    if i != []:\n",
    "        for j in i:\n",
    "            if (j not in lst_not_plot):\n",
    "                bad_urls.append(j)\n",
    "val = pd.Series(bad_urls).value_counts().sort_values(ascending=False)\n",
    "fig = plt.figure()\n",
    "ax = val[:15].plot(kind='barh', color='orange')\n",
    "ax.set_title('Most URLS shared by BAD USERS rt')\n",
    "ax.invert_yaxis()\n",
    "plt.show()"
   ]
  },
  {
   "cell_type": "markdown",
   "id": "f9c16f6c",
   "metadata": {
    "pycharm": {
     "name": "#%% md\n"
    }
   },
   "source": [
    "# Split\n",
    "<a id=\"split\"/>"
   ]
  },
  {
   "cell_type": "code",
   "execution_count": 23,
   "id": "e71b7a47",
   "metadata": {
    "pycharm": {
     "name": "#%%\n"
    }
   },
   "outputs": [
    {
     "data": {
      "image/png": "[encoded data removed]",
      "text/plain": [
       "<Figure size 720x504 with 1 Axes>"
      ]
     },
     "metadata": {},
     "output_type": "display_data"
    }
   ],
   "source": [
    "x = utils.split(good_activities)\n",
    "labels = list(x.keys())\n",
    "values = list(x.values())\n",
    "utils.print_pie_chart4(\"Good split\", labels, values)"
   ]
  },
  {
   "cell_type": "code",
   "execution_count": 24,
   "id": "7478b946",
   "metadata": {
    "pycharm": {
     "name": "#%%\n"
    }
   },
   "outputs": [
    {
     "data": {
      "image/png": "[encoded data removed]",
      "text/plain": [
       "<Figure size 720x504 with 1 Axes>"
      ]
     },
     "metadata": {},
     "output_type": "display_data"
    }
   ],
   "source": [
    "x = utils.split(bad_activities)\n",
    "labels = list(x.keys())\n",
    "values = list(x.values())\n",
    "utils.print_pie_chart4(\"Bad split\", labels, values)"
   ]
  },
  {
   "cell_type": "markdown",
   "id": "1f9e5748",
   "metadata": {
    "pycharm": {
     "name": "#%% md\n"
    }
   },
   "source": [
    "# Rt network - Leiden\n",
    "<a id=\"nt_l\"/>"
   ]
  },
  {
   "cell_type": "code",
   "execution_count": 11,
   "id": "f6d35d67",
   "metadata": {
    "pycharm": {
     "name": "#%%\n"
    }
   },
   "outputs": [
    {
     "data": {
      "text/plain": [
       "2       12606\n",
       "4         332\n",
       "3         320\n",
       "1         235\n",
       "5         193\n",
       "        ...  \n",
       "2589        1\n",
       "3189        1\n",
       "1169        1\n",
       "271         1\n",
       "353         1\n",
       "Name: community, Length: 100, dtype: int64"
      ]
     },
     "execution_count": 11,
     "metadata": {},
     "output_type": "execute_result"
    }
   ],
   "source": [
    "leiden = pd.read_csv(path_files + \"leiden.csv\")\n",
    "pd.Series(leiden[leiden[\"user\"].isin(bad_rt_lst)][\"community\"]).value_counts().sort_values(ascending=False)"
   ]
  },
  {
   "cell_type": "code",
   "execution_count": 12,
   "id": "51c07289",
   "metadata": {
    "pycharm": {
     "name": "#%%\n"
    }
   },
   "outputs": [
    {
     "data": {
      "text/plain": [
       "0       25727\n",
       "3        2816\n",
       "1        2463\n",
       "4        1897\n",
       "7         166\n",
       "        ...  \n",
       "349         1\n",
       "1031        1\n",
       "214         1\n",
       "777         1\n",
       "38          1\n",
       "Name: community, Length: 114, dtype: int64"
      ]
     },
     "execution_count": 12,
     "metadata": {},
     "output_type": "execute_result"
    }
   ],
   "source": [
    "pd.Series(leiden[leiden[\"user\"].isin(good_rt_lst)][\"community\"]).value_counts().sort_values(ascending=False)"
   ]
  },
  {
   "cell_type": "markdown",
   "id": "7709d917",
   "metadata": {
    "pycharm": {
     "name": "#%% md\n"
    }
   },
   "source": [
    "# Rt network - Louvain\n",
    "<a id=\"nt_l2\"/>"
   ]
  },
  {
   "cell_type": "code",
   "execution_count": 8,
   "id": "80018691",
   "metadata": {
    "pycharm": {
     "name": "#%%\n"
    }
   },
   "outputs": [
    {
     "data": {
      "text/plain": "4       12844\n3         455\n2         206\n0         198\n34        174\n        ...  \n3382        1\n3481        1\n3493        1\n361         1\n3583        1\nName: community, Length: 61, dtype: int64"
     },
     "execution_count": 8,
     "metadata": {},
     "output_type": "execute_result"
    }
   ],
   "source": [
    "louvain = pd.read_csv(path_files + \"louvain.csv\")\n",
    "pd.Series(louvain[louvain[\"name\"].isin(bad_rt_lst)][\"community\"]).value_counts().sort_values(ascending=False)"
   ]
  },
  {
   "cell_type": "code",
   "execution_count": 26,
   "id": "14671183",
   "metadata": {
    "scrolled": true,
    "pycharm": {
     "name": "#%%\n"
    }
   },
   "outputs": [
    {
     "data": {
      "text/plain": [
       "0       25394\n",
       "3        3458\n",
       "2        3258\n",
       "5         746\n",
       "1         217\n",
       "        ...  \n",
       "619         1\n",
       "2691        1\n",
       "144         1\n",
       "2867        1\n",
       "126         1\n",
       "Name: community, Length: 113, dtype: int64"
      ]
     },
     "execution_count": 26,
     "metadata": {},
     "output_type": "execute_result"
    }
   ],
   "source": [
    "pd.Series(louvain[louvain[\"name\"].isin(good_rt_lst)][\"community\"]).value_counts().sort_values(ascending=False)"
   ]
  },
  {
   "cell_type": "markdown",
   "id": "cd054d45",
   "metadata": {
    "pycharm": {
     "name": "#%% md\n"
    }
   },
   "source": [
    "# YouTube\n",
    "<a id=\"yt\"/>"
   ]
  },
  {
   "cell_type": "code",
   "execution_count": 13,
   "id": "6cdf482a",
   "metadata": {
    "pycharm": {
     "name": "#%%\n"
    }
   },
   "outputs": [],
   "source": [
    "# tweets = pd.read_parquet(path_df + \"tweets.parquet\", engine = \"fastparquet\")\n",
    "# import emoji\n",
    "# lst = []\n",
    "# for i in tqdm(tweets[tweets[\"text\"]!=\"[]\"][[\"id\",\"text\",\"user_screen_name\"]].itertuples()):\n",
    "#     for c in i.text:\n",
    "#         if c in emoji.UNICODE_EMOJI['en']:\n",
    "#             lst.append(i.user_screen_name)\n",
    "# x = pd.Series(lst).value_counts().sort_values(ascending=False).keys()\n",
    "# print(len(x))\n",
    "# bad_count = 0\n",
    "# good_count = 0\n",
    "# for i in tqdm(list(x)):\n",
    "#     if (i in bad_lst) | (i in bad_rt_lst):\n",
    "#         bad_count = bad_count + 1\n",
    "#     elif (i in good_lst) | (i in good_rt_lst):\n",
    "#         good_count = good_count + 1\n",
    "# print(good_count)\n",
    "# print(bad_count)"
   ]
  },
  {
   "cell_type": "code",
   "execution_count": 30,
   "id": "36d95e95",
   "metadata": {
    "pycharm": {
     "name": "#%%\n"
    }
   },
   "outputs": [],
   "source": [
    "# tweets = pd.read_parquet(path_df + \"tweets_with_urls_and_domain_and_score (3.0).parquet\", engine = \"fastparquet\")\n",
    "# yt_df = pd.read_csv(path + \"youtube_info.csv\", lineterminator=\"\\n\", low_memory=False, encoding=\"utf-8\")\n",
    "# yt_df"
   ]
  },
  {
   "cell_type": "code",
   "execution_count": 9,
   "id": "2bcd03dc",
   "metadata": {
    "scrolled": false,
    "pycharm": {
     "name": "#%%\n"
    }
   },
   "outputs": [],
   "source": [
    "# tweets = pd.read_parquet(path_df + \"tweets.parquet\", engine=\"fastparquet\")\n",
    "# yt_df = tweets[(tweets[\"urls\"].str.contains(\"https://youtu.be\")) | (tweets[\"urls\"].str.contains(\"https://youtube\"))]\n",
    "# value = []\n",
    "# for i in tqdm(yt_df[\"urls\"]):\n",
    "#     url_exp = i.split(\" \")\n",
    "#     lst_inside = []\n",
    "#     for exp in range(len(url_exp)):\n",
    "#         if url_exp[exp] == \"'expanded_url':\":\n",
    "#             lst_inside.append(url_exp[exp+1][1:-2])\n",
    "#     value.append(lst_inside)\n",
    "# yt_df[\"domains\"] = value\n",
    "# yt_df\n",
    "yt_df.to_csv(\"C:/Users/gianl/Desktop/Gi/dataset_prova.csv\", line_terminator=\"\\n\", index=False, encoding=\"utf-8\")"
   ]
  },
  {
   "cell_type": "code",
   "execution_count": 54,
   "id": "a5aa7833",
   "metadata": {
    "pycharm": {
     "name": "#%%\n"
    }
   },
   "outputs": [
    {
     "data": {
      "text/plain": "         screen_name                                                url  \\\n9312     IacobellisT        https://www.youtube.com/watch?v=U-kC9XkT7Eo   \n806       TommyBrain        https://www.youtube.com/watch?v=U-kC9XkT7Eo   \n9231     IacobellisT        https://www.youtube.com/watch?v=U-kC9XkT7Eo   \n9230      TommyBrain        https://www.youtube.com/watch?v=U-kC9XkT7Eo   \n9203     IacobellisT        https://www.youtube.com/watch?v=U-kC9XkT7Eo   \n...              ...                                                ...   \n1454     AjaccioRose                       https://youtu.be/sGqvFf9VY8Y   \n12101   corra_franco                       https://youtu.be/5vi5rX_OOuY   \n1456   EInformazione  https://www.youtube.com/post/Ugxmb2LyWc6C3epJW...   \n8693    G_Chinellato                       https://youtu.be/GZ_qRu-P3W8   \n13523        giu0112        https://www.youtube.com/watch?v=2I6hjwblA_g   \n\n                                                   title  \\\n9312   I LOCKDOWNS: DISTRUGGERANNO PIU' VITE DI QUANT...   \n806    I LOCKDOWNS: DISTRUGGERANNO PIU' VITE DI QUANT...   \n9231   I LOCKDOWNS: DISTRUGGERANNO PIU' VITE DI QUANT...   \n9230   I LOCKDOWNS: DISTRUGGERANNO PIU' VITE DI QUANT...   \n9203   I LOCKDOWNS: DISTRUGGERANNO PIU' VITE DI QUANT...   \n...                                                  ...   \n1454   On a pas assez de données sur la sécurité des ...   \n12101                   anni 70 magnifici quanto costava   \n1456                                                 NaN   \n8693                                                 NaN   \n13523  THE DISSIDENT | Official Trailer | NOW PLAYING...   \n\n                                             description          type  \\\n9312   Intervista all'epidemiologa di punta della Har...  decompressed   \n806    Intervista all'epidemiologa di punta della Har...  decompressed   \n9231   Intervista all'epidemiologa di punta della Har...  decompressed   \n9230   Intervista all'epidemiologa di punta della Har...  decompressed   \n9203   Intervista all'epidemiologa di punta della Har...  decompressed   \n...                                                  ...           ...   \n1454   👉 La chaîne à besoin de votre soutien\\n-Abonne...    compressed   \n12101  Negli anni 70 non avevamo le tecnologie di ogg...    compressed   \n1456                                                 NaN  decompressed   \n8693                                                 NaN    compressed   \n13523  From the Academy Award-winning director of Ica...  decompressed   \n\n       available       reason  occurrency  \n9312        True       Parsed         508  \n806         True       Parsed         508  \n9231        True       Parsed         508  \n9230        True       Parsed         508  \n9203        True       Parsed         508  \n...          ...          ...         ...  \n1454        True       Parsed           1  \n12101       True       Parsed           1  \n1456        True      Profile           1  \n8693       False  Unavailable           1  \n13523       True       Parsed           1  \n\n[20595 rows x 8 columns]",
      "text/html": "<div>\n<style scoped>\n    .dataframe tbody tr th:only-of-type {\n        vertical-align: middle;\n    }\n\n    .dataframe tbody tr th {\n        vertical-align: top;\n    }\n\n    .dataframe thead th {\n        text-align: right;\n    }\n</style>\n<table border=\"1\" class=\"dataframe\">\n  <thead>\n    <tr style=\"text-align: right;\">\n      <th></th>\n      <th>screen_name</th>\n      <th>url</th>\n      <th>title</th>\n      <th>description</th>\n      <th>type</th>\n      <th>available</th>\n      <th>reason</th>\n      <th>occurrency</th>\n    </tr>\n  </thead>\n  <tbody>\n    <tr>\n      <th>9312</th>\n      <td>IacobellisT</td>\n      <td>https://www.youtube.com/watch?v=U-kC9XkT7Eo</td>\n      <td>I LOCKDOWNS: DISTRUGGERANNO PIU' VITE DI QUANT...</td>\n      <td>Intervista all'epidemiologa di punta della Har...</td>\n      <td>decompressed</td>\n      <td>True</td>\n      <td>Parsed</td>\n      <td>508</td>\n    </tr>\n    <tr>\n      <th>806</th>\n      <td>TommyBrain</td>\n      <td>https://www.youtube.com/watch?v=U-kC9XkT7Eo</td>\n      <td>I LOCKDOWNS: DISTRUGGERANNO PIU' VITE DI QUANT...</td>\n      <td>Intervista all'epidemiologa di punta della Har...</td>\n      <td>decompressed</td>\n      <td>True</td>\n      <td>Parsed</td>\n      <td>508</td>\n    </tr>\n    <tr>\n      <th>9231</th>\n      <td>IacobellisT</td>\n      <td>https://www.youtube.com/watch?v=U-kC9XkT7Eo</td>\n      <td>I LOCKDOWNS: DISTRUGGERANNO PIU' VITE DI QUANT...</td>\n      <td>Intervista all'epidemiologa di punta della Har...</td>\n      <td>decompressed</td>\n      <td>True</td>\n      <td>Parsed</td>\n      <td>508</td>\n    </tr>\n    <tr>\n      <th>9230</th>\n      <td>TommyBrain</td>\n      <td>https://www.youtube.com/watch?v=U-kC9XkT7Eo</td>\n      <td>I LOCKDOWNS: DISTRUGGERANNO PIU' VITE DI QUANT...</td>\n      <td>Intervista all'epidemiologa di punta della Har...</td>\n      <td>decompressed</td>\n      <td>True</td>\n      <td>Parsed</td>\n      <td>508</td>\n    </tr>\n    <tr>\n      <th>9203</th>\n      <td>IacobellisT</td>\n      <td>https://www.youtube.com/watch?v=U-kC9XkT7Eo</td>\n      <td>I LOCKDOWNS: DISTRUGGERANNO PIU' VITE DI QUANT...</td>\n      <td>Intervista all'epidemiologa di punta della Har...</td>\n      <td>decompressed</td>\n      <td>True</td>\n      <td>Parsed</td>\n      <td>508</td>\n    </tr>\n    <tr>\n      <th>...</th>\n      <td>...</td>\n      <td>...</td>\n      <td>...</td>\n      <td>...</td>\n      <td>...</td>\n      <td>...</td>\n      <td>...</td>\n      <td>...</td>\n    </tr>\n    <tr>\n      <th>1454</th>\n      <td>AjaccioRose</td>\n      <td>https://youtu.be/sGqvFf9VY8Y</td>\n      <td>On a pas assez de données sur la sécurité des ...</td>\n      <td>👉 La chaîne à besoin de votre soutien\\n-Abonne...</td>\n      <td>compressed</td>\n      <td>True</td>\n      <td>Parsed</td>\n      <td>1</td>\n    </tr>\n    <tr>\n      <th>12101</th>\n      <td>corra_franco</td>\n      <td>https://youtu.be/5vi5rX_OOuY</td>\n      <td>anni 70 magnifici quanto costava</td>\n      <td>Negli anni 70 non avevamo le tecnologie di ogg...</td>\n      <td>compressed</td>\n      <td>True</td>\n      <td>Parsed</td>\n      <td>1</td>\n    </tr>\n    <tr>\n      <th>1456</th>\n      <td>EInformazione</td>\n      <td>https://www.youtube.com/post/Ugxmb2LyWc6C3epJW...</td>\n      <td>NaN</td>\n      <td>NaN</td>\n      <td>decompressed</td>\n      <td>True</td>\n      <td>Profile</td>\n      <td>1</td>\n    </tr>\n    <tr>\n      <th>8693</th>\n      <td>G_Chinellato</td>\n      <td>https://youtu.be/GZ_qRu-P3W8</td>\n      <td>NaN</td>\n      <td>NaN</td>\n      <td>compressed</td>\n      <td>False</td>\n      <td>Unavailable</td>\n      <td>1</td>\n    </tr>\n    <tr>\n      <th>13523</th>\n      <td>giu0112</td>\n      <td>https://www.youtube.com/watch?v=2I6hjwblA_g</td>\n      <td>THE DISSIDENT | Official Trailer | NOW PLAYING...</td>\n      <td>From the Academy Award-winning director of Ica...</td>\n      <td>decompressed</td>\n      <td>True</td>\n      <td>Parsed</td>\n      <td>1</td>\n    </tr>\n  </tbody>\n</table>\n<p>20595 rows × 8 columns</p>\n</div>"
     },
     "execution_count": 54,
     "metadata": {},
     "output_type": "execute_result"
    }
   ],
   "source": [
    "yt_df = pd.read_csv(path_df + \"yt_info.csv\", lineterminator=\"\\n\", low_memory=False, encoding=\"utf-8\")\n",
    "yt_df.sort_values(by=[\"occurrency\"], ascending=False)"
   ]
  },
  {
   "cell_type": "code",
   "execution_count": 37,
   "id": "744f88ec",
   "metadata": {
    "pycharm": {
     "name": "#%%\n"
    }
   },
   "outputs": [
    {
     "name": "stdout",
     "output_type": "stream",
     "text": [
      "Availability: 79.0%\n"
     ]
    }
   ],
   "source": [
    "bad_yt = yt_df[yt_df[\"screen_name\"].isin(bad_lst)]\n",
    "pd.Series(bad_yt[\"reason\"]).value_counts().sort_values(ascending=False).values\n",
    "print(f\"Availability: {round(2948/3713,2)*100}%\")"
   ]
  },
  {
   "cell_type": "code",
   "execution_count": 39,
   "id": "554418ed",
   "metadata": {
    "pycharm": {
     "name": "#%%\n"
    }
   },
   "outputs": [
    {
     "name": "stdout",
     "output_type": "stream",
     "text": [
      "Availability: 88.0%\n"
     ]
    }
   ],
   "source": [
    "good_yt = yt_df[yt_df[\"screen_name\"].isin(good_lst)]\n",
    "pd.Series(good_yt[\"reason\"]).value_counts().sort_values(ascending=False).values\n",
    "print(f\"Availability: {round(21/24,2)*100}%\")"
   ]
  },
  {
   "cell_type": "code",
   "execution_count": 42,
   "id": "3e175229",
   "metadata": {
    "pycharm": {
     "name": "#%%\n"
    }
   },
   "outputs": [],
   "source": [
    "good_yt.to_csv(path_files + \"good_yt.csv\", encoding=\"utf-8\", line_terminator=\"\\n\", index=False)\n",
    "bad_yt.to_csv(path_files + \"bad_yt.csv\", encoding=\"utf-8\", line_terminator=\"\\n\", index=False)"
   ]
  },
  {
   "cell_type": "markdown",
   "source": [
    "# Title SGAE"
   ],
   "metadata": {
    "collapsed": false,
    "pycharm": {
     "name": "#%% md\n"
    }
   }
  },
  {
   "cell_type": "code",
   "execution_count": 57,
   "outputs": [
    {
     "name": "stdout",
     "output_type": "stream",
     "text": [
      "vaccini\n",
      "vaccino\n",
      "immunità\n",
      "lockdowns\n",
      "gregge\n",
      "distruggeranno\n",
      "piu\n",
      "che\n",
      "salvano\n",
      "vite\n",
      "top\n",
      "immunita\n",
      "incognite\n",
      "harvard\n",
      "sputnik\n",
      "-----\n",
      "congiunta\n",
      "presidente\n",
      "barbara\n",
      "direttore\n",
      "aifa\n",
      "gallavotti\n",
      "bianca\n",
      "tutte\n",
      "zona\n",
      "sardegna\n",
      "altre\n",
      "generale\n",
      "diretta\n",
      "vive\n",
      "conferenza\n"
     ]
    }
   ],
   "source": [
    "sage_title = pd.read_csv(\"C:/Users/gianl/Desktop/Gi/Supsi/BachelorProject/sage/data/outfile_good_bad_titles.csv\")\n",
    "for i in range(len(sage_title[\"word\"])):\n",
    "    print(sage_title[\"word\"][i])\n",
    "    if i == 14:\n",
    "        print(\"-----\")"
   ],
   "metadata": {
    "collapsed": false,
    "pycharm": {
     "name": "#%%\n"
    }
   }
  },
  {
   "cell_type": "markdown",
   "id": "b74f7e28",
   "metadata": {
    "pycharm": {
     "name": "#%% md\n"
    }
   },
   "source": [
    "# Credibility\n",
    "<a id=\"cred\"/>"
   ]
  },
  {
   "cell_type": "code",
   "execution_count": 4,
   "id": "24c540f6",
   "metadata": {
    "pycharm": {
     "name": "#%%\n"
    }
   },
   "outputs": [
    {
     "data": {
      "text/plain": "     user_screen_name  number_of_urls  HIGH    LOW  UNKW  SOCIAL  \\\n0       infoitinterno           17471    12  17267   192       0   \n1     Alberto25090565             212     0    106     0     106   \n2      contro_informa              27     0     27     0       0   \n3     Libero_official             451     0    451     0       0   \n4      FrontieraRieti              44     0     42     2       0   \n...               ...             ...   ...    ...   ...     ...   \n5218        LucaBraia              20     0      0    17       3   \n5219         AodiFoad              20     0      0    13       7   \n5220   ArturoMarghera              20     0      0    20       0   \n5221     AriaPulitaER              20     0      0    20       0   \n5222    CCALABRIANEWS              20     0      0    20       0   \n\n      conspiracy_score  \n0                  1.0  \n1                  1.0  \n2                  1.0  \n3                  1.0  \n4                  1.0  \n...                ...  \n5218               NaN  \n5219               NaN  \n5220               NaN  \n5221               NaN  \n5222               NaN  \n\n[5223 rows x 7 columns]",
      "text/html": "<div>\n<style scoped>\n    .dataframe tbody tr th:only-of-type {\n        vertical-align: middle;\n    }\n\n    .dataframe tbody tr th {\n        vertical-align: top;\n    }\n\n    .dataframe thead th {\n        text-align: right;\n    }\n</style>\n<table border=\"1\" class=\"dataframe\">\n  <thead>\n    <tr style=\"text-align: right;\">\n      <th></th>\n      <th>user_screen_name</th>\n      <th>number_of_urls</th>\n      <th>HIGH</th>\n      <th>LOW</th>\n      <th>UNKW</th>\n      <th>SOCIAL</th>\n      <th>conspiracy_score</th>\n    </tr>\n  </thead>\n  <tbody>\n    <tr>\n      <th>0</th>\n      <td>infoitinterno</td>\n      <td>17471</td>\n      <td>12</td>\n      <td>17267</td>\n      <td>192</td>\n      <td>0</td>\n      <td>1.0</td>\n    </tr>\n    <tr>\n      <th>1</th>\n      <td>Alberto25090565</td>\n      <td>212</td>\n      <td>0</td>\n      <td>106</td>\n      <td>0</td>\n      <td>106</td>\n      <td>1.0</td>\n    </tr>\n    <tr>\n      <th>2</th>\n      <td>contro_informa</td>\n      <td>27</td>\n      <td>0</td>\n      <td>27</td>\n      <td>0</td>\n      <td>0</td>\n      <td>1.0</td>\n    </tr>\n    <tr>\n      <th>3</th>\n      <td>Libero_official</td>\n      <td>451</td>\n      <td>0</td>\n      <td>451</td>\n      <td>0</td>\n      <td>0</td>\n      <td>1.0</td>\n    </tr>\n    <tr>\n      <th>4</th>\n      <td>FrontieraRieti</td>\n      <td>44</td>\n      <td>0</td>\n      <td>42</td>\n      <td>2</td>\n      <td>0</td>\n      <td>1.0</td>\n    </tr>\n    <tr>\n      <th>...</th>\n      <td>...</td>\n      <td>...</td>\n      <td>...</td>\n      <td>...</td>\n      <td>...</td>\n      <td>...</td>\n      <td>...</td>\n    </tr>\n    <tr>\n      <th>5218</th>\n      <td>LucaBraia</td>\n      <td>20</td>\n      <td>0</td>\n      <td>0</td>\n      <td>17</td>\n      <td>3</td>\n      <td>NaN</td>\n    </tr>\n    <tr>\n      <th>5219</th>\n      <td>AodiFoad</td>\n      <td>20</td>\n      <td>0</td>\n      <td>0</td>\n      <td>13</td>\n      <td>7</td>\n      <td>NaN</td>\n    </tr>\n    <tr>\n      <th>5220</th>\n      <td>ArturoMarghera</td>\n      <td>20</td>\n      <td>0</td>\n      <td>0</td>\n      <td>20</td>\n      <td>0</td>\n      <td>NaN</td>\n    </tr>\n    <tr>\n      <th>5221</th>\n      <td>AriaPulitaER</td>\n      <td>20</td>\n      <td>0</td>\n      <td>0</td>\n      <td>20</td>\n      <td>0</td>\n      <td>NaN</td>\n    </tr>\n    <tr>\n      <th>5222</th>\n      <td>CCALABRIANEWS</td>\n      <td>20</td>\n      <td>0</td>\n      <td>0</td>\n      <td>20</td>\n      <td>0</td>\n      <td>NaN</td>\n    </tr>\n  </tbody>\n</table>\n<p>5223 rows × 7 columns</p>\n</div>"
     },
     "execution_count": 4,
     "metadata": {},
     "output_type": "execute_result"
    }
   ],
   "source": [
    "cred_user = pd.read_csv(path_files + \"result_cred_score_thresh_20.csv\", lineterminator=\"\\n\")\n",
    "cred_user"
   ]
  },
  {
   "cell_type": "code",
   "execution_count": 5,
   "id": "ec7ecf28",
   "metadata": {
    "pycharm": {
     "name": "#%%\n"
    }
   },
   "outputs": [],
   "source": [
    "merge_bad = bad.merge(cred_user, left_on=\"screen_name\", right_on=\"user_screen_name\", how=\"left\")\n",
    "merge_good = good.merge(cred_user, left_on=\"screen_name\", right_on=\"user_screen_name\", how=\"left\")\n",
    "merge_bad_rt = bad_rt.merge(cred_user, left_on=\"screen_name\", right_on=\"user_screen_name\", how=\"left\")\n",
    "merge_good_rt = good_rt.merge(cred_user, left_on=\"screen_name\", right_on=\"user_screen_name\", how=\"left\")"
   ]
  },
  {
   "cell_type": "code",
   "execution_count": 6,
   "id": "387d6e6c",
   "metadata": {
    "pycharm": {
     "name": "#%%\n"
    }
   },
   "outputs": [
    {
     "data": {
      "text/plain": "<Figure size 432x288 with 1 Axes>",
      "image/png": "[encoded data removed]"
     },
     "metadata": {
      "needs_background": "light"
     },
     "output_type": "display_data"
    }
   ],
   "source": [
    "plt.hist([merge_bad_rt[\"conspiracy_score\"], \n",
    "          merge_good_rt[\"conspiracy_score\"],\n",
    "          merge_bad[\"conspiracy_score\"], \n",
    "          merge_good[\"conspiracy_score\"]],\n",
    "          label=['Bad rt', 'Good rt', 'Bad', 'Good'])\n",
    "plt.legend(loc='upper right')\n",
    "plt.title(\"Value of Conspiracy score (logarithmic scale)\")\n",
    "plt.yscale('log', nonposy='clip')\n",
    "plt.xlabel(\"Conspiracy score\")\n",
    "plt.rcParams[\"figure.figsize\"] = (14,5)\n",
    "plt.show()"
   ]
  },
  {
   "cell_type": "markdown",
   "id": "0b4d27c2",
   "metadata": {
    "pycharm": {
     "name": "#%% md\n"
    }
   },
   "source": [
    "#### Conspiracy - Network"
   ]
  },
  {
   "cell_type": "code",
   "execution_count": 9,
   "id": "25774917",
   "metadata": {
    "pycharm": {
     "name": "#%%\n"
    }
   },
   "outputs": [],
   "source": [
    "merged_louvain = louvain.merge(cred_user, left_on=\"name\", right_on=\"user_screen_name\", how=\"left\")\n",
    "merged_louvain_bad = merged_louvain[merged_louvain[\"community\"]==4]\n",
    "merged_louvain_good = merged_louvain[merged_louvain[\"community\"]==0]\n",
    "merged_louvain_influencer = merged_louvain[merged_louvain[\"community\"]==2]\n",
    "merged_louvain_paper = merged_louvain[merged_louvain[\"community\"]==3]"
   ]
  },
  {
   "cell_type": "code",
   "execution_count": 10,
   "id": "3ecb7384",
   "metadata": {
    "scrolled": true,
    "pycharm": {
     "name": "#%%\n"
    }
   },
   "outputs": [
    {
     "data": {
      "text/plain": "<Figure size 1008x360 with 1 Axes>",
      "image/png": "[encoded data removed]"
     },
     "metadata": {
      "needs_background": "light"
     },
     "output_type": "display_data"
    }
   ],
   "source": [
    "# Line plot\n",
    "x = pd.Series(merged_louvain_paper[\"conspiracy_score\"]).value_counts().sort_index(ascending=False)\n",
    "x2 = pd.Series(merged_louvain_good[\"conspiracy_score\"]).value_counts().sort_index(ascending=False)\n",
    "x3 = pd.Series(merged_louvain_bad[\"conspiracy_score\"]).value_counts().sort_index(ascending=False)\n",
    "x4 = pd.Series(merged_louvain_influencer[\"conspiracy_score\"]).value_counts().sort_index(ascending=False)\n",
    "plt.plot(list(x.keys()), list(x.values), label=\"Newspaper community\")\n",
    "plt.plot(list(x2.keys()), list(x2.values), label=\"Provax community\")\n",
    "plt.plot(list(x3.keys()), list(x3.values), label=\"Novax community\")\n",
    "plt.plot(list(x4.keys()), list(x4.values), label=\"Influencer community\")\n",
    "\n",
    "plt.legend(loc='upper right')\n",
    "plt.title(\"Value of Conspiracy score (logarithmic scale)\")\n",
    "plt.yscale('log', nonposy='clip')\n",
    "plt.xlabel(\"Conspiracy score\")\n",
    "plt.rcParams[\"figure.figsize\"] = (14,5)\n",
    "plt.show()"
   ]
  },
  {
   "cell_type": "code",
   "execution_count": 11,
   "id": "4a6be48e",
   "metadata": {
    "pycharm": {
     "name": "#%%\n"
    }
   },
   "outputs": [
    {
     "data": {
      "text/plain": "<Figure size 1008x360 with 1 Axes>",
      "image/png": "[encoded data removed]"
     },
     "metadata": {
      "needs_background": "light"
     },
     "output_type": "display_data"
    }
   ],
   "source": [
    "#Histogram\n",
    "plt.hist([merged_louvain_bad[\"conspiracy_score\"], \n",
    "          merged_louvain_good[\"conspiracy_score\"],\n",
    "          merged_louvain_influencer[\"conspiracy_score\"],\n",
    "          merged_louvain_paper[\"conspiracy_score\"]],\n",
    "          label=['Novax community', 'Provax community', \"Influencer community\", \"Newspaper community\"])\n",
    "plt.legend(loc='upper right')\n",
    "plt.title(\"Value of Conspiracy score (logarithmic scale)\")\n",
    "plt.yscale('log', nonposy='clip')\n",
    "plt.xlabel(\"Conspiracy score\")\n",
    "plt.rcParams[\"figure.figsize\"] = (14,5)\n",
    "plt.show()"
   ]
  },
  {
   "cell_type": "markdown",
   "id": "d7645b5e",
   "metadata": {
    "pycharm": {
     "name": "#%% md\n"
    }
   },
   "source": [
    "# Most popular Tweets\n",
    "<a id=\"popular\"/>"
   ]
  },
  {
   "cell_type": "code",
   "execution_count": 10,
   "id": "7176beff",
   "metadata": {
    "pycharm": {
     "name": "#%%\n"
    }
   },
   "outputs": [
    {
     "data": {
      "text/html": [
       "<div>\n",
       "<style scoped>\n",
       "    .dataframe tbody tr th:only-of-type {\n",
       "        vertical-align: middle;\n",
       "    }\n",
       "\n",
       "    .dataframe tbody tr th {\n",
       "        vertical-align: top;\n",
       "    }\n",
       "\n",
       "    .dataframe thead th {\n",
       "        text-align: right;\n",
       "    }\n",
       "</style>\n",
       "<table border=\"1\" class=\"dataframe\">\n",
       "  <thead>\n",
       "    <tr style=\"text-align: right;\">\n",
       "      <th></th>\n",
       "      <th>id</th>\n",
       "      <th>created_at</th>\n",
       "      <th>user_screen_name</th>\n",
       "      <th>text</th>\n",
       "      <th>retweet_count</th>\n",
       "    </tr>\n",
       "  </thead>\n",
       "  <tbody>\n",
       "    <tr>\n",
       "      <th>2393</th>\n",
       "      <td>1371916524269809665</td>\n",
       "      <td>Tue Mar 16 20:09:23 +0000 2021</td>\n",
       "      <td>Cartabellotta</td>\n",
       "      <td>Se avessimo avuto paura del Covid quanta ne ab...</td>\n",
       "      <td>3322</td>\n",
       "    </tr>\n",
       "    <tr>\n",
       "      <th>2345</th>\n",
       "      <td>1371604640240918529</td>\n",
       "      <td>Mon Mar 15 23:30:04 +0000 2021</td>\n",
       "      <td>WRicciardi</td>\n",
       "      <td>Se avessimo avuto paura del Covid quanta ne ab...</td>\n",
       "      <td>3322</td>\n",
       "    </tr>\n",
       "    <tr>\n",
       "      <th>653</th>\n",
       "      <td>1236412021765218306</td>\n",
       "      <td>Sat Mar 07 22:02:52 +0000 2020</td>\n",
       "      <td>RobertoBurioni</td>\n",
       "      <td>Non sono stato mai disfattista ma è difficile ...</td>\n",
       "      <td>2707</td>\n",
       "    </tr>\n",
       "    <tr>\n",
       "      <th>2173</th>\n",
       "      <td>1369246283983126532</td>\n",
       "      <td>Tue Mar 09 11:18:48 +0000 2021</td>\n",
       "      <td>Quirinale</td>\n",
       "      <td>Il Presidente #Mattarella essendo in corso a R...</td>\n",
       "      <td>2135</td>\n",
       "    </tr>\n",
       "    <tr>\n",
       "      <th>384</th>\n",
       "      <td>1344731092243378178</td>\n",
       "      <td>Thu Dec 31 19:44:10 +0000 2020</td>\n",
       "      <td>Quirinale</td>\n",
       "      <td>#Mattarella: Io mi vaccinerò appena possibile,...</td>\n",
       "      <td>1689</td>\n",
       "    </tr>\n",
       "    <tr>\n",
       "      <th>...</th>\n",
       "      <td>...</td>\n",
       "      <td>...</td>\n",
       "      <td>...</td>\n",
       "      <td>...</td>\n",
       "      <td>...</td>\n",
       "    </tr>\n",
       "    <tr>\n",
       "      <th>1928</th>\n",
       "      <td>1366476250542444553</td>\n",
       "      <td>Mon Mar 01 19:51:40 +0000 2021</td>\n",
       "      <td>DarioBressanini</td>\n",
       "      <td>@micarie75 @ValeVetinari @Paolo_Perini83 già. ...</td>\n",
       "      <td>0</td>\n",
       "    </tr>\n",
       "    <tr>\n",
       "      <th>1925</th>\n",
       "      <td>1366442572944670721</td>\n",
       "      <td>Mon Mar 01 17:37:51 +0000 2021</td>\n",
       "      <td>ScaltritiLab</td>\n",
       "      <td>@CiccioIlBrillo Franscesco, informati, AZ non ...</td>\n",
       "      <td>0</td>\n",
       "    </tr>\n",
       "    <tr>\n",
       "      <th>1924</th>\n",
       "      <td>1366440558634430465</td>\n",
       "      <td>Mon Mar 01 17:29:51 +0000 2021</td>\n",
       "      <td>ScaltritiLab</td>\n",
       "      <td>@CiccioIlBrillo lavoro per una casa farmaceuti...</td>\n",
       "      <td>0</td>\n",
       "    </tr>\n",
       "    <tr>\n",
       "      <th>931</th>\n",
       "      <td>1345070523722698752</td>\n",
       "      <td>Fri Jan 01 18:12:57 +0000 2021</td>\n",
       "      <td>MedBunker</td>\n",
       "      <td>@AleMed85 Vaccinare prima gli operatori sanita...</td>\n",
       "      <td>0</td>\n",
       "    </tr>\n",
       "    <tr>\n",
       "      <th>2636</th>\n",
       "      <td>1386624522934231041</td>\n",
       "      <td>Mon Apr 26 10:13:43 +0000 2021</td>\n",
       "      <td>GiacomoGorini</td>\n",
       "      <td>@danielebanfi83 Caro Daniele, ottimo articolo....</td>\n",
       "      <td>0</td>\n",
       "    </tr>\n",
       "  </tbody>\n",
       "</table>\n",
       "<p>3400 rows × 5 columns</p>\n",
       "</div>"
      ],
      "text/plain": [
       "                       id                      created_at user_screen_name  \\\n",
       "2393  1371916524269809665  Tue Mar 16 20:09:23 +0000 2021    Cartabellotta   \n",
       "2345  1371604640240918529  Mon Mar 15 23:30:04 +0000 2021       WRicciardi   \n",
       "653   1236412021765218306  Sat Mar 07 22:02:52 +0000 2020   RobertoBurioni   \n",
       "2173  1369246283983126532  Tue Mar 09 11:18:48 +0000 2021        Quirinale   \n",
       "384   1344731092243378178  Thu Dec 31 19:44:10 +0000 2020        Quirinale   \n",
       "...                   ...                             ...              ...   \n",
       "1928  1366476250542444553  Mon Mar 01 19:51:40 +0000 2021  DarioBressanini   \n",
       "1925  1366442572944670721  Mon Mar 01 17:37:51 +0000 2021     ScaltritiLab   \n",
       "1924  1366440558634430465  Mon Mar 01 17:29:51 +0000 2021     ScaltritiLab   \n",
       "931   1345070523722698752  Fri Jan 01 18:12:57 +0000 2021        MedBunker   \n",
       "2636  1386624522934231041  Mon Apr 26 10:13:43 +0000 2021    GiacomoGorini   \n",
       "\n",
       "                                                   text  retweet_count  \n",
       "2393  Se avessimo avuto paura del Covid quanta ne ab...           3322  \n",
       "2345  Se avessimo avuto paura del Covid quanta ne ab...           3322  \n",
       "653   Non sono stato mai disfattista ma è difficile ...           2707  \n",
       "2173  Il Presidente #Mattarella essendo in corso a R...           2135  \n",
       "384   #Mattarella: Io mi vaccinerò appena possibile,...           1689  \n",
       "...                                                 ...            ...  \n",
       "1928  @micarie75 @ValeVetinari @Paolo_Perini83 già. ...              0  \n",
       "1925  @CiccioIlBrillo Franscesco, informati, AZ non ...              0  \n",
       "1924  @CiccioIlBrillo lavoro per una casa farmaceuti...              0  \n",
       "931   @AleMed85 Vaccinare prima gli operatori sanita...              0  \n",
       "2636  @danielebanfi83 Caro Daniele, ottimo articolo....              0  \n",
       "\n",
       "[3400 rows x 5 columns]"
      ]
     },
     "execution_count": 10,
     "metadata": {},
     "output_type": "execute_result"
    }
   ],
   "source": [
    "good_activities.sort_values(by='retweet_count', ascending=False)[[\"id\",\"created_at\",\"user_screen_name\",\"text\",\"retweet_count\"]]"
   ]
  },
  {
   "cell_type": "code",
   "execution_count": 13,
   "id": "ae14c325",
   "metadata": {
    "pycharm": {
     "name": "#%%\n"
    }
   },
   "outputs": [
    {
     "data": {
      "text/html": [
       "<div>\n",
       "<style scoped>\n",
       "    .dataframe tbody tr th:only-of-type {\n",
       "        vertical-align: middle;\n",
       "    }\n",
       "\n",
       "    .dataframe tbody tr th {\n",
       "        vertical-align: top;\n",
       "    }\n",
       "\n",
       "    .dataframe thead th {\n",
       "        text-align: right;\n",
       "    }\n",
       "</style>\n",
       "<table border=\"1\" class=\"dataframe\">\n",
       "  <thead>\n",
       "    <tr style=\"text-align: right;\">\n",
       "      <th></th>\n",
       "      <th>id</th>\n",
       "      <th>created_at</th>\n",
       "      <th>user_screen_name</th>\n",
       "      <th>text</th>\n",
       "      <th>retweet_count</th>\n",
       "      <th>rt_id</th>\n",
       "    </tr>\n",
       "  </thead>\n",
       "  <tbody>\n",
       "    <tr>\n",
       "      <th>42269</th>\n",
       "      <td>1388103470025150464</td>\n",
       "      <td>Fri Apr 30 12:10:31 +0000 2021</td>\n",
       "      <td>CarpaneseSilva1</td>\n",
       "      <td>Cari Signori Giornalisti, questa mattina il Pr...</td>\n",
       "      <td>1757</td>\n",
       "      <td>1.388039e+18</td>\n",
       "    </tr>\n",
       "    <tr>\n",
       "      <th>42318</th>\n",
       "      <td>1388177652150853632</td>\n",
       "      <td>Fri Apr 30 17:05:18 +0000 2021</td>\n",
       "      <td>xenonian1</td>\n",
       "      <td>Cari Signori Giornalisti, questa mattina il Pr...</td>\n",
       "      <td>1757</td>\n",
       "      <td>1.388039e+18</td>\n",
       "    </tr>\n",
       "    <tr>\n",
       "      <th>42432</th>\n",
       "      <td>1388215688079323137</td>\n",
       "      <td>Fri Apr 30 19:36:26 +0000 2021</td>\n",
       "      <td>MarySpes</td>\n",
       "      <td>Cari Signori Giornalisti, questa mattina il Pr...</td>\n",
       "      <td>1757</td>\n",
       "      <td>1.388039e+18</td>\n",
       "    </tr>\n",
       "    <tr>\n",
       "      <th>42202</th>\n",
       "      <td>1388057630246117376</td>\n",
       "      <td>Fri Apr 30 09:08:22 +0000 2021</td>\n",
       "      <td>lucabattanta</td>\n",
       "      <td>Cari Signori Giornalisti, questa mattina il Pr...</td>\n",
       "      <td>1756</td>\n",
       "      <td>1.388039e+18</td>\n",
       "    </tr>\n",
       "    <tr>\n",
       "      <th>42196</th>\n",
       "      <td>1388048915367448577</td>\n",
       "      <td>Fri Apr 30 08:33:44 +0000 2021</td>\n",
       "      <td>Z3r0Rules</td>\n",
       "      <td>Cari Signori Giornalisti, questa mattina il Pr...</td>\n",
       "      <td>1756</td>\n",
       "      <td>1.388039e+18</td>\n",
       "    </tr>\n",
       "    <tr>\n",
       "      <th>49331</th>\n",
       "      <td>1388990180804239360</td>\n",
       "      <td>Sun May 02 22:53:59 +0000 2021</td>\n",
       "      <td>marchesaangeli</td>\n",
       "      <td>Cari Signori Giornalisti, questa mattina il Pr...</td>\n",
       "      <td>1721</td>\n",
       "      <td>1.388039e+18</td>\n",
       "    </tr>\n",
       "    <tr>\n",
       "      <th>50270</th>\n",
       "      <td>1389442985667055616</td>\n",
       "      <td>Tue May 04 04:53:17 +0000 2021</td>\n",
       "      <td>a_meluzzi</td>\n",
       "      <td>Cari Signori Giornalisti, questa mattina il Pr...</td>\n",
       "      <td>1721</td>\n",
       "      <td>1.388039e+18</td>\n",
       "    </tr>\n",
       "    <tr>\n",
       "      <th>11854</th>\n",
       "      <td>1262771202227081216</td>\n",
       "      <td>Tue May 19 15:44:50 +0000 2020</td>\n",
       "      <td>CarpaneseSilva1</td>\n",
       "      <td>#Tarro suggerisce il plasma: lo diffamano.\\n#D...</td>\n",
       "      <td>1552</td>\n",
       "      <td>1.256944e+18</td>\n",
       "    </tr>\n",
       "    <tr>\n",
       "      <th>10662</th>\n",
       "      <td>1257006383582584832</td>\n",
       "      <td>Sun May 03 17:57:30 +0000 2020</td>\n",
       "      <td>CarpaneseSilva1</td>\n",
       "      <td>#Tarro suggerisce il plasma: lo diffamano.\\n#D...</td>\n",
       "      <td>1552</td>\n",
       "      <td>1.256944e+18</td>\n",
       "    </tr>\n",
       "    <tr>\n",
       "      <th>10704</th>\n",
       "      <td>1256949103050842112</td>\n",
       "      <td>Sun May 03 14:09:53 +0000 2020</td>\n",
       "      <td>fdragoni</td>\n",
       "      <td>#Tarro suggerisce il plasma: lo diffamano.\\n#D...</td>\n",
       "      <td>1552</td>\n",
       "      <td>1.256944e+18</td>\n",
       "    </tr>\n",
       "  </tbody>\n",
       "</table>\n",
       "</div>"
      ],
      "text/plain": [
       "                        id                      created_at user_screen_name  \\\n",
       "42269  1388103470025150464  Fri Apr 30 12:10:31 +0000 2021  CarpaneseSilva1   \n",
       "42318  1388177652150853632  Fri Apr 30 17:05:18 +0000 2021        xenonian1   \n",
       "42432  1388215688079323137  Fri Apr 30 19:36:26 +0000 2021         MarySpes   \n",
       "42202  1388057630246117376  Fri Apr 30 09:08:22 +0000 2021     lucabattanta   \n",
       "42196  1388048915367448577  Fri Apr 30 08:33:44 +0000 2021        Z3r0Rules   \n",
       "49331  1388990180804239360  Sun May 02 22:53:59 +0000 2021   marchesaangeli   \n",
       "50270  1389442985667055616  Tue May 04 04:53:17 +0000 2021        a_meluzzi   \n",
       "11854  1262771202227081216  Tue May 19 15:44:50 +0000 2020  CarpaneseSilva1   \n",
       "10662  1257006383582584832  Sun May 03 17:57:30 +0000 2020  CarpaneseSilva1   \n",
       "10704  1256949103050842112  Sun May 03 14:09:53 +0000 2020         fdragoni   \n",
       "\n",
       "                                                    text  retweet_count  \\\n",
       "42269  Cari Signori Giornalisti, questa mattina il Pr...           1757   \n",
       "42318  Cari Signori Giornalisti, questa mattina il Pr...           1757   \n",
       "42432  Cari Signori Giornalisti, questa mattina il Pr...           1757   \n",
       "42202  Cari Signori Giornalisti, questa mattina il Pr...           1756   \n",
       "42196  Cari Signori Giornalisti, questa mattina il Pr...           1756   \n",
       "49331  Cari Signori Giornalisti, questa mattina il Pr...           1721   \n",
       "50270  Cari Signori Giornalisti, questa mattina il Pr...           1721   \n",
       "11854  #Tarro suggerisce il plasma: lo diffamano.\\n#D...           1552   \n",
       "10662  #Tarro suggerisce il plasma: lo diffamano.\\n#D...           1552   \n",
       "10704  #Tarro suggerisce il plasma: lo diffamano.\\n#D...           1552   \n",
       "\n",
       "              rt_id  \n",
       "42269  1.388039e+18  \n",
       "42318  1.388039e+18  \n",
       "42432  1.388039e+18  \n",
       "42202  1.388039e+18  \n",
       "42196  1.388039e+18  \n",
       "49331  1.388039e+18  \n",
       "50270  1.388039e+18  \n",
       "11854  1.256944e+18  \n",
       "10662  1.256944e+18  \n",
       "10704  1.256944e+18  "
      ]
     },
     "execution_count": 13,
     "metadata": {},
     "output_type": "execute_result"
    }
   ],
   "source": [
    "bad_activities.sort_values(by='retweet_count', ascending=False)[[\"id\",\"created_at\",\"user_screen_name\",\"text\",\"retweet_count\"]][:10]"
   ]
  },
  {
   "cell_type": "markdown",
   "source": [
    "# Media shared\n",
    "<a id=\"media\"/>"
   ],
   "metadata": {
    "collapsed": false,
    "pycharm": {
     "name": "#%% md\n"
    }
   }
  },
  {
   "cell_type": "code",
   "execution_count": 12,
   "outputs": [
    {
     "name": "stdout",
     "output_type": "stream",
     "text": [
      "Media shared on total tweets: 4.0%, 2075 on 55372\n"
     ]
    },
    {
     "data": {
      "text/plain": "photo    1794\nvideo     281\ndtype: int64"
     },
     "execution_count": 12,
     "metadata": {},
     "output_type": "execute_result"
    }
   ],
   "source": [
    "medias = bad_activities[bad_activities[\"media\"]!=\"[]\"][\"media\"]\n",
    "media = []\n",
    "for i in medias:\n",
    "    for j in (i.split(\",\")):\n",
    "        if \"expanded_url\" in j:\n",
    "           media.append(j.split(\"/\")[6])\n",
    "print(f\"Media shared on total tweets: {round(len(media)/len(bad_activities),2)*100}%, {len(media)} on {len(bad_activities)}\")\n",
    "pd.Series(media).value_counts().sort_values(ascending=False)"
   ],
   "metadata": {
    "collapsed": false,
    "pycharm": {
     "name": "#%%\n"
    }
   }
  },
  {
   "cell_type": "code",
   "execution_count": 33,
   "outputs": [
    {
     "name": "stdout",
     "output_type": "stream",
     "text": [
      "Media shared on total tweets: 19.0%, 645 on 3400\n"
     ]
    },
    {
     "data": {
      "text/plain": "photo    630\nvideo     15\ndtype: int64"
     },
     "execution_count": 33,
     "metadata": {},
     "output_type": "execute_result"
    }
   ],
   "source": [
    "medias = good_activities[good_activities[\"media\"]!=\"[]\"][\"media\"]\n",
    "media = []\n",
    "for i in medias:\n",
    "    for j in (i.split(\",\")):\n",
    "        if \"expanded_url\" in j:\n",
    "           media.append(j.split(\"/\")[6])\n",
    "print(f\"Media shared on total tweets: {round(len(media)/len(good_activities),2)*100}%, {len(media)} on {len(good_activities)}\")\n",
    "pd.Series(media).value_counts().sort_values(ascending=False)"
   ],
   "metadata": {
    "collapsed": false,
    "pycharm": {
     "name": "#%%\n"
    }
   }
  },
  {
   "cell_type": "code",
   "execution_count": 15,
   "outputs": [
    {
     "data": {
      "text/plain": "Cartabellotta      878\nRobertoBurioni     734\nGIMBE              290\nScaltritiLab       227\nGiacomoGorini      221\nBiologiScienza     170\nMedBunker          142\nDrMCecconi         135\nWRicciardi         116\nMedicalFactsIT      81\nistsupsan           64\nAifa_ufficiale      56\nMinisteroSalute     54\nantonellaviol17     50\nilariacapua         37\nProfLopalco         32\nrobersperanza       26\nDarioBressanini     20\nPalazzo_Chigi       16\nbgallavotti         15\nINMISpallanzani     13\nISSalute_it         11\nMassimoGalli51       6\nQuirinale            6\nName: user_screen_name, dtype: int64"
     },
     "execution_count": 15,
     "metadata": {},
     "output_type": "execute_result"
    }
   ],
   "source": [
    "pd.Series(good_activities[\"user_screen_name\"]).value_counts().sort_values(ascending=False)"
   ],
   "metadata": {
    "collapsed": false,
    "pycharm": {
     "name": "#%%\n"
    }
   }
  },
  {
   "cell_type": "code",
   "execution_count": 14,
   "outputs": [
    {
     "data": {
      "text/plain": "Piero42395724      4803\nIacobellisT        4333\nPietro_Otto        4123\nTommyBrain         4115\nZ3r0Rules          4081\nxenonian1          4007\nMarySpes           3815\nmarchesaangeli     3788\nMinervaMcGrani1    3283\nSakurauchi_Hime    3267\nCarpaneseSilva1    3158\nlucabattanta       3093\nvaly_s             2813\na_meluzzi          1694\nnoitre32           1644\nBarbaraRaval       1218\nmiia_2018           854\ncris_cersei         752\nfdragoni            191\npbecchi             149\nbyoblu               70\nintuslegens          60\nRadioSavana          35\nTarroGiulio          26\nName: user_screen_name, dtype: int64"
     },
     "execution_count": 14,
     "metadata": {},
     "output_type": "execute_result"
    }
   ],
   "source": [
    "pd.Series(bad_activities[\"user_screen_name\"]).value_counts().sort_values(ascending=False)\n"
   ],
   "metadata": {
    "collapsed": false,
    "pycharm": {
     "name": "#%%\n"
    }
   }
  }
 ],
 "metadata": {
  "kernelspec": {
   "display_name": "Python 3",
   "language": "python",
   "name": "python3"
  },
  "language_info": {
   "codemirror_mode": {
    "name": "ipython",
    "version": 3
   },
   "file_extension": ".py",
   "mimetype": "text/x-python",
   "name": "python",
   "nbconvert_exporter": "python",
   "pygments_lexer": "ipython3",
   "version": "3.8.11"
  }
 },
 "nbformat": 4,
 "nbformat_minor": 5
}