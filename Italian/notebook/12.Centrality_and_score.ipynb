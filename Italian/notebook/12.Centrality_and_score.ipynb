{
 "cells": [
  {
   "cell_type": "code",
   "execution_count": 3,
   "outputs": [],
   "source": [
    "# ev centrality, deg centrality, cred score, toxicity score to be considered for users\n",
    "import pandas as pd"
   ],
   "metadata": {
    "collapsed": false,
    "pycharm": {
     "name": "#%%\n"
    }
   }
  },
  {
   "cell_type": "code",
   "execution_count": 46,
   "outputs": [],
   "source": [
    "tweets = pd.read_csv(\"./Tweets/result_cred_score_thresh_20.csv\")"
   ],
   "metadata": {
    "collapsed": false,
    "pycharm": {
     "name": "#%%\n"
    }
   }
  },
  {
   "cell_type": "code",
   "execution_count": 47,
   "outputs": [],
   "source": [
    "user_ev = pd.read_csv(\"./Files/user_ev_centrality.csv\")"
   ],
   "metadata": {
    "collapsed": false,
    "pycharm": {
     "name": "#%%\n"
    }
   }
  },
  {
   "cell_type": "code",
   "execution_count": 48,
   "outputs": [],
   "source": [
    "tweets = tweets.merge(user_ev, left_on=\"user_screen_name\", right_on=\"name\", how=\"left\")"
   ],
   "metadata": {
    "collapsed": false,
    "pycharm": {
     "name": "#%%\n"
    }
   }
  },
  {
   "cell_type": "code",
   "execution_count": 49,
   "outputs": [],
   "source": [
    "tweets.sort_values(by='ev', ascending=False, inplace=True)"
   ],
   "metadata": {
    "collapsed": false,
    "pycharm": {
     "name": "#%%\n"
    }
   }
  },
  {
   "cell_type": "code",
   "execution_count": 50,
   "outputs": [],
   "source": [
    "tweets = tweets[tweets[\"ev\"].notna()]"
   ],
   "metadata": {
    "collapsed": false,
    "pycharm": {
     "name": "#%%\n"
    }
   }
  },
  {
   "cell_type": "code",
   "execution_count": 51,
   "outputs": [
    {
     "data": {
      "text/plain": "      Unnamed: 0 user_screen_name  number_of_urls  HIGH  LOW  UNKW  SOCIAL  \\\n2553        2553           valy_s              97    63    7    21       6   \n1845        1845  MinervaMcGrani1             393   167  101   101      24   \n677          677         noitre32             566   179  327    50      10   \n532          532        a_meluzzi             433   110  255    58      10   \n1589        1589     BarbaraRaval             254    55   44   126      29   \n167          167        ImolaOggi             754     8  731    14       1   \n1525        1525        miia_2018             208    37   31   129      11   \n946          946          pbecchi              38    11   15     7       5   \n2086        2086      ladyonorato              59    29   12    14       4   \n2657        2657      cris_cersei              56    36    3    16       1   \n2201        2201          FmMosca              56    28    9    15       4   \n997          997     lameduck1960              45    10   13    19       3   \n1281        1281           25O319             108    29   30    35      14   \n1899        1899   MinutemanItaly              33    14    8    10       1   \n3621        3621      RadioSavana              27     1    0     0      26   \n2608        2608   borghi_claudio              47    21    2    23       1   \n2458        2458    Mr_Ozymandias              56    27    4    25       0   \n630          630   Yi_Benevolence              67    17   34     7       9   \n184          184           byoblu              62     2   59     0       1   \n1122        1122      TarroGiulio              20     5    6     4       5   \n\n      conspiracy_score             name        ev  \n2553              0.10           valy_s  0.096610  \n1845              0.38  MinervaMcGrani1  0.093662  \n677               0.65         noitre32  0.091744  \n532               0.70        a_meluzzi  0.088043  \n1589              0.44     BarbaraRaval  0.088029  \n167               0.99        ImolaOggi  0.082917  \n1525              0.46        miia_2018  0.082818  \n946               0.58          pbecchi  0.081568  \n2086              0.29      ladyonorato  0.081234  \n2657              0.08      cris_cersei  0.079670  \n2201              0.24          FmMosca  0.074540  \n997               0.57     lameduck1960  0.071475  \n1281              0.51           25O319  0.071306  \n1899              0.36   MinutemanItaly  0.068660  \n3621              0.00      RadioSavana  0.067925  \n2608              0.09   borghi_claudio  0.067615  \n2458              0.13    Mr_Ozymandias  0.066842  \n630               0.67   Yi_Benevolence  0.066841  \n184               0.97           byoblu  0.066781  \n1122              0.55      TarroGiulio  0.065715  ",
      "text/html": "<div>\n<style scoped>\n    .dataframe tbody tr th:only-of-type {\n        vertical-align: middle;\n    }\n\n    .dataframe tbody tr th {\n        vertical-align: top;\n    }\n\n    .dataframe thead th {\n        text-align: right;\n    }\n</style>\n<table border=\"1\" class=\"dataframe\">\n  <thead>\n    <tr style=\"text-align: right;\">\n      <th></th>\n      <th>Unnamed: 0</th>\n      <th>user_screen_name</th>\n      <th>number_of_urls</th>\n      <th>HIGH</th>\n      <th>LOW</th>\n      <th>UNKW</th>\n      <th>SOCIAL</th>\n      <th>conspiracy_score</th>\n      <th>name</th>\n      <th>ev</th>\n    </tr>\n  </thead>\n  <tbody>\n    <tr>\n      <th>2553</th>\n      <td>2553</td>\n      <td>valy_s</td>\n      <td>97</td>\n      <td>63</td>\n      <td>7</td>\n      <td>21</td>\n      <td>6</td>\n      <td>0.10</td>\n      <td>valy_s</td>\n      <td>0.096610</td>\n    </tr>\n    <tr>\n      <th>1845</th>\n      <td>1845</td>\n      <td>MinervaMcGrani1</td>\n      <td>393</td>\n      <td>167</td>\n      <td>101</td>\n      <td>101</td>\n      <td>24</td>\n      <td>0.38</td>\n      <td>MinervaMcGrani1</td>\n      <td>0.093662</td>\n    </tr>\n    <tr>\n      <th>677</th>\n      <td>677</td>\n      <td>noitre32</td>\n      <td>566</td>\n      <td>179</td>\n      <td>327</td>\n      <td>50</td>\n      <td>10</td>\n      <td>0.65</td>\n      <td>noitre32</td>\n      <td>0.091744</td>\n    </tr>\n    <tr>\n      <th>532</th>\n      <td>532</td>\n      <td>a_meluzzi</td>\n      <td>433</td>\n      <td>110</td>\n      <td>255</td>\n      <td>58</td>\n      <td>10</td>\n      <td>0.70</td>\n      <td>a_meluzzi</td>\n      <td>0.088043</td>\n    </tr>\n    <tr>\n      <th>1589</th>\n      <td>1589</td>\n      <td>BarbaraRaval</td>\n      <td>254</td>\n      <td>55</td>\n      <td>44</td>\n      <td>126</td>\n      <td>29</td>\n      <td>0.44</td>\n      <td>BarbaraRaval</td>\n      <td>0.088029</td>\n    </tr>\n    <tr>\n      <th>167</th>\n      <td>167</td>\n      <td>ImolaOggi</td>\n      <td>754</td>\n      <td>8</td>\n      <td>731</td>\n      <td>14</td>\n      <td>1</td>\n      <td>0.99</td>\n      <td>ImolaOggi</td>\n      <td>0.082917</td>\n    </tr>\n    <tr>\n      <th>1525</th>\n      <td>1525</td>\n      <td>miia_2018</td>\n      <td>208</td>\n      <td>37</td>\n      <td>31</td>\n      <td>129</td>\n      <td>11</td>\n      <td>0.46</td>\n      <td>miia_2018</td>\n      <td>0.082818</td>\n    </tr>\n    <tr>\n      <th>946</th>\n      <td>946</td>\n      <td>pbecchi</td>\n      <td>38</td>\n      <td>11</td>\n      <td>15</td>\n      <td>7</td>\n      <td>5</td>\n      <td>0.58</td>\n      <td>pbecchi</td>\n      <td>0.081568</td>\n    </tr>\n    <tr>\n      <th>2086</th>\n      <td>2086</td>\n      <td>ladyonorato</td>\n      <td>59</td>\n      <td>29</td>\n      <td>12</td>\n      <td>14</td>\n      <td>4</td>\n      <td>0.29</td>\n      <td>ladyonorato</td>\n      <td>0.081234</td>\n    </tr>\n    <tr>\n      <th>2657</th>\n      <td>2657</td>\n      <td>cris_cersei</td>\n      <td>56</td>\n      <td>36</td>\n      <td>3</td>\n      <td>16</td>\n      <td>1</td>\n      <td>0.08</td>\n      <td>cris_cersei</td>\n      <td>0.079670</td>\n    </tr>\n    <tr>\n      <th>2201</th>\n      <td>2201</td>\n      <td>FmMosca</td>\n      <td>56</td>\n      <td>28</td>\n      <td>9</td>\n      <td>15</td>\n      <td>4</td>\n      <td>0.24</td>\n      <td>FmMosca</td>\n      <td>0.074540</td>\n    </tr>\n    <tr>\n      <th>997</th>\n      <td>997</td>\n      <td>lameduck1960</td>\n      <td>45</td>\n      <td>10</td>\n      <td>13</td>\n      <td>19</td>\n      <td>3</td>\n      <td>0.57</td>\n      <td>lameduck1960</td>\n      <td>0.071475</td>\n    </tr>\n    <tr>\n      <th>1281</th>\n      <td>1281</td>\n      <td>25O319</td>\n      <td>108</td>\n      <td>29</td>\n      <td>30</td>\n      <td>35</td>\n      <td>14</td>\n      <td>0.51</td>\n      <td>25O319</td>\n      <td>0.071306</td>\n    </tr>\n    <tr>\n      <th>1899</th>\n      <td>1899</td>\n      <td>MinutemanItaly</td>\n      <td>33</td>\n      <td>14</td>\n      <td>8</td>\n      <td>10</td>\n      <td>1</td>\n      <td>0.36</td>\n      <td>MinutemanItaly</td>\n      <td>0.068660</td>\n    </tr>\n    <tr>\n      <th>3621</th>\n      <td>3621</td>\n      <td>RadioSavana</td>\n      <td>27</td>\n      <td>1</td>\n      <td>0</td>\n      <td>0</td>\n      <td>26</td>\n      <td>0.00</td>\n      <td>RadioSavana</td>\n      <td>0.067925</td>\n    </tr>\n    <tr>\n      <th>2608</th>\n      <td>2608</td>\n      <td>borghi_claudio</td>\n      <td>47</td>\n      <td>21</td>\n      <td>2</td>\n      <td>23</td>\n      <td>1</td>\n      <td>0.09</td>\n      <td>borghi_claudio</td>\n      <td>0.067615</td>\n    </tr>\n    <tr>\n      <th>2458</th>\n      <td>2458</td>\n      <td>Mr_Ozymandias</td>\n      <td>56</td>\n      <td>27</td>\n      <td>4</td>\n      <td>25</td>\n      <td>0</td>\n      <td>0.13</td>\n      <td>Mr_Ozymandias</td>\n      <td>0.066842</td>\n    </tr>\n    <tr>\n      <th>630</th>\n      <td>630</td>\n      <td>Yi_Benevolence</td>\n      <td>67</td>\n      <td>17</td>\n      <td>34</td>\n      <td>7</td>\n      <td>9</td>\n      <td>0.67</td>\n      <td>Yi_Benevolence</td>\n      <td>0.066841</td>\n    </tr>\n    <tr>\n      <th>184</th>\n      <td>184</td>\n      <td>byoblu</td>\n      <td>62</td>\n      <td>2</td>\n      <td>59</td>\n      <td>0</td>\n      <td>1</td>\n      <td>0.97</td>\n      <td>byoblu</td>\n      <td>0.066781</td>\n    </tr>\n    <tr>\n      <th>1122</th>\n      <td>1122</td>\n      <td>TarroGiulio</td>\n      <td>20</td>\n      <td>5</td>\n      <td>6</td>\n      <td>4</td>\n      <td>5</td>\n      <td>0.55</td>\n      <td>TarroGiulio</td>\n      <td>0.065715</td>\n    </tr>\n  </tbody>\n</table>\n</div>"
     },
     "execution_count": 51,
     "metadata": {},
     "output_type": "execute_result"
    }
   ],
   "source": [
    "tweets.head(20)"
   ],
   "metadata": {
    "collapsed": false,
    "pycharm": {
     "name": "#%%\n"
    }
   }
  },
  {
   "cell_type": "code",
   "execution_count": 52,
   "outputs": [
    {
     "data": {
      "text/plain": "     Unnamed: 0 user_screen_name  number_of_urls  HIGH   LOW  UNKW  SOCIAL  \\\n57           57  Augusto00213634             179     0     2   169       8   \n160         160      Novanews242            3307     1  3284     7      15   \n157         157      BlogNews_it             752     0   752     0       0   \n134         134   contro_informa              27     0    27     0       0   \n164         164       zazoomblog            6033     0  6024     9       0   \n120         120     Eleonora7711              30     0    12    14       4   \n96           96     ActiveNewsRo              20     0    20     0       0   \n152         152        ilmeteoit             506     0   506     0       0   \n6             6         Ashdracs              70     0     4    66       0   \n100         100      MeteoWeb_eu              20     0    20     0       0   \n\n     conspiracy_score             name            ev  \n57                1.0  Augusto00213634  1.103783e-02  \n160               1.0      Novanews242  5.571849e-04  \n157               1.0      BlogNews_it  2.537999e-07  \n134               1.0   contro_informa  6.399593e-04  \n164               1.0       zazoomblog  6.366897e-04  \n120               1.0     Eleonora7711  6.342796e-04  \n96                1.0     ActiveNewsRo  1.156756e-07  \n152               1.0        ilmeteoit  6.209002e-04  \n6                 1.0         Ashdracs  8.398319e-08  \n100               1.0      MeteoWeb_eu  1.268209e-04  ",
      "text/html": "<div>\n<style scoped>\n    .dataframe tbody tr th:only-of-type {\n        vertical-align: middle;\n    }\n\n    .dataframe tbody tr th {\n        vertical-align: top;\n    }\n\n    .dataframe thead th {\n        text-align: right;\n    }\n</style>\n<table border=\"1\" class=\"dataframe\">\n  <thead>\n    <tr style=\"text-align: right;\">\n      <th></th>\n      <th>Unnamed: 0</th>\n      <th>user_screen_name</th>\n      <th>number_of_urls</th>\n      <th>HIGH</th>\n      <th>LOW</th>\n      <th>UNKW</th>\n      <th>SOCIAL</th>\n      <th>conspiracy_score</th>\n      <th>name</th>\n      <th>ev</th>\n    </tr>\n  </thead>\n  <tbody>\n    <tr>\n      <th>57</th>\n      <td>57</td>\n      <td>Augusto00213634</td>\n      <td>179</td>\n      <td>0</td>\n      <td>2</td>\n      <td>169</td>\n      <td>8</td>\n      <td>1.0</td>\n      <td>Augusto00213634</td>\n      <td>1.103783e-02</td>\n    </tr>\n    <tr>\n      <th>160</th>\n      <td>160</td>\n      <td>Novanews242</td>\n      <td>3307</td>\n      <td>1</td>\n      <td>3284</td>\n      <td>7</td>\n      <td>15</td>\n      <td>1.0</td>\n      <td>Novanews242</td>\n      <td>5.571849e-04</td>\n    </tr>\n    <tr>\n      <th>157</th>\n      <td>157</td>\n      <td>BlogNews_it</td>\n      <td>752</td>\n      <td>0</td>\n      <td>752</td>\n      <td>0</td>\n      <td>0</td>\n      <td>1.0</td>\n      <td>BlogNews_it</td>\n      <td>2.537999e-07</td>\n    </tr>\n    <tr>\n      <th>134</th>\n      <td>134</td>\n      <td>contro_informa</td>\n      <td>27</td>\n      <td>0</td>\n      <td>27</td>\n      <td>0</td>\n      <td>0</td>\n      <td>1.0</td>\n      <td>contro_informa</td>\n      <td>6.399593e-04</td>\n    </tr>\n    <tr>\n      <th>164</th>\n      <td>164</td>\n      <td>zazoomblog</td>\n      <td>6033</td>\n      <td>0</td>\n      <td>6024</td>\n      <td>9</td>\n      <td>0</td>\n      <td>1.0</td>\n      <td>zazoomblog</td>\n      <td>6.366897e-04</td>\n    </tr>\n    <tr>\n      <th>120</th>\n      <td>120</td>\n      <td>Eleonora7711</td>\n      <td>30</td>\n      <td>0</td>\n      <td>12</td>\n      <td>14</td>\n      <td>4</td>\n      <td>1.0</td>\n      <td>Eleonora7711</td>\n      <td>6.342796e-04</td>\n    </tr>\n    <tr>\n      <th>96</th>\n      <td>96</td>\n      <td>ActiveNewsRo</td>\n      <td>20</td>\n      <td>0</td>\n      <td>20</td>\n      <td>0</td>\n      <td>0</td>\n      <td>1.0</td>\n      <td>ActiveNewsRo</td>\n      <td>1.156756e-07</td>\n    </tr>\n    <tr>\n      <th>152</th>\n      <td>152</td>\n      <td>ilmeteoit</td>\n      <td>506</td>\n      <td>0</td>\n      <td>506</td>\n      <td>0</td>\n      <td>0</td>\n      <td>1.0</td>\n      <td>ilmeteoit</td>\n      <td>6.209002e-04</td>\n    </tr>\n    <tr>\n      <th>6</th>\n      <td>6</td>\n      <td>Ashdracs</td>\n      <td>70</td>\n      <td>0</td>\n      <td>4</td>\n      <td>66</td>\n      <td>0</td>\n      <td>1.0</td>\n      <td>Ashdracs</td>\n      <td>8.398319e-08</td>\n    </tr>\n    <tr>\n      <th>100</th>\n      <td>100</td>\n      <td>MeteoWeb_eu</td>\n      <td>20</td>\n      <td>0</td>\n      <td>20</td>\n      <td>0</td>\n      <td>0</td>\n      <td>1.0</td>\n      <td>MeteoWeb_eu</td>\n      <td>1.268209e-04</td>\n    </tr>\n  </tbody>\n</table>\n</div>"
     },
     "execution_count": 52,
     "metadata": {},
     "output_type": "execute_result"
    }
   ],
   "source": [
    "import numpy as np\n",
    "threshold_high_low = 20\n",
    "tweets = tweets[tweets['number_of_urls']>=threshold_high_low]\n",
    "tweets['conspiracy_score'] = np.around(((tweets['LOW'])/(tweets['HIGH']+tweets['LOW'])),2)\n",
    "tweets=tweets.sort_values(by=['conspiracy_score'], ascending=False)\n",
    "tweets.head(10)"
   ],
   "metadata": {
    "collapsed": false,
    "pycharm": {
     "name": "#%%\n"
    }
   }
  },
  {
   "cell_type": "code",
   "execution_count": 57,
   "outputs": [
    {
     "data": {
      "text/plain": "<Figure size 432x288 with 1 Axes>",
      "image/png": "[encoded data removed]"
     },
     "metadata": {},
     "output_type": "display_data"
    }
   ],
   "source": [
    "import matplotlib.pyplot as plt\n",
    "plt.scatter(list(tweets[\"conspiracy_score\"]), list(tweets[\"ev\"]), c =\"blue\", marker =\"s\",)\n",
    "plt.xlabel(\"Conspiracy score\")\n",
    "plt.ylabel(\"EV centrality\")\n",
    "plt.show()"
   ],
   "metadata": {
    "collapsed": false,
    "pycharm": {
     "name": "#%%\n"
    }
   }
  }
 ],
 "metadata": {
  "kernelspec": {
   "display_name": "Python 3",
   "language": "python",
   "name": "python3"
  },
  "language_info": {
   "codemirror_mode": {
    "name": "ipython",
    "version": 2
   },
   "file_extension": ".py",
   "mimetype": "text/x-python",
   "name": "python",
   "nbconvert_exporter": "python",
   "pygments_lexer": "ipython2",
   "version": "2.7.6"
  }
 },
 "nbformat": 4,
 "nbformat_minor": 0
}