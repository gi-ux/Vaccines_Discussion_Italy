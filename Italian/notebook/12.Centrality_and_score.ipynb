{
 "cells": [
  {
   "cell_type": "code",
   "execution_count": 1,
   "outputs": [],
   "source": [
    "# ev centrality, deg centrality, cred score, toxicity score to be considered for users\n",
    "import pandas as pd"
   ],
   "metadata": {
    "collapsed": false,
    "pycharm": {
     "name": "#%%\n"
    }
   }
  },
  {
   "cell_type": "code",
   "execution_count": 16,
   "outputs": [],
   "source": [
    "tweets = pd.read_csv(\"../Files/Tweets/result_cred_score_thresh_10.csv\")"
   ],
   "metadata": {
    "collapsed": false,
    "pycharm": {
     "name": "#%%\n"
    }
   }
  },
  {
   "cell_type": "code",
   "execution_count": 17,
   "outputs": [],
   "source": [
    "user_ev = pd.read_csv(\"../Files/networks/user_ev_centrality.csv\")\n",
    "user_deg = pd.read_csv(\"../Files/networks/user_deg_centrality.csv\")\n",
    " # user_bt ="
   ],
   "metadata": {
    "collapsed": false,
    "pycharm": {
     "name": "#%%\n"
    }
   }
  },
  {
   "cell_type": "code",
   "execution_count": 18,
   "outputs": [
    {
     "data": {
      "text/plain": "      HIGH    LOW  UNKW  SOCIAL  conspiracy_score            name  \\\n0       33  17267   171       0               1.0   infoitinterno   \n1        0      5     0      13               1.0      Paolo90777   \n2        0      7     3       1               1.0   ZiaGabriella1   \n3        0      3     1      32               1.0        lapillo1   \n4        0     33     3       0               1.0         terry57   \n...    ...    ...   ...     ...               ...             ...   \n8472     0      0    10       0               NaN    CloCecchetto   \n8473     0      0    10       0               NaN       castelPao   \n8474     0      0    10       0               NaN        traian_m   \n8475     0      0    10       0               NaN  ComuneOristano   \n8476     0      0    10       0               NaN      fcin1908it   \n\n                ev   deg_cen  \n0     7.966932e-04  0.000324  \n1     1.817897e-03  0.000139  \n2     5.881818e-03  0.000282  \n3     2.029138e-03  0.000111  \n4     9.011427e-05  0.000019  \n...            ...       ...  \n8472  2.454355e-05  0.000102  \n8473  4.582850e-06  0.000005  \n8474  8.706800e-09  0.000014  \n8475  3.281069e-39  0.000005  \n8476  5.650165e-06  0.000014  \n\n[8477 rows x 8 columns]",
      "text/html": "<div>\n<style scoped>\n    .dataframe tbody tr th:only-of-type {\n        vertical-align: middle;\n    }\n\n    .dataframe tbody tr th {\n        vertical-align: top;\n    }\n\n    .dataframe thead th {\n        text-align: right;\n    }\n</style>\n<table border=\"1\" class=\"dataframe\">\n  <thead>\n    <tr style=\"text-align: right;\">\n      <th></th>\n      <th>HIGH</th>\n      <th>LOW</th>\n      <th>UNKW</th>\n      <th>SOCIAL</th>\n      <th>conspiracy_score</th>\n      <th>name</th>\n      <th>ev</th>\n      <th>deg_cen</th>\n    </tr>\n  </thead>\n  <tbody>\n    <tr>\n      <th>0</th>\n      <td>33</td>\n      <td>17267</td>\n      <td>171</td>\n      <td>0</td>\n      <td>1.0</td>\n      <td>infoitinterno</td>\n      <td>7.966932e-04</td>\n      <td>0.000324</td>\n    </tr>\n    <tr>\n      <th>1</th>\n      <td>0</td>\n      <td>5</td>\n      <td>0</td>\n      <td>13</td>\n      <td>1.0</td>\n      <td>Paolo90777</td>\n      <td>1.817897e-03</td>\n      <td>0.000139</td>\n    </tr>\n    <tr>\n      <th>2</th>\n      <td>0</td>\n      <td>7</td>\n      <td>3</td>\n      <td>1</td>\n      <td>1.0</td>\n      <td>ZiaGabriella1</td>\n      <td>5.881818e-03</td>\n      <td>0.000282</td>\n    </tr>\n    <tr>\n      <th>3</th>\n      <td>0</td>\n      <td>3</td>\n      <td>1</td>\n      <td>32</td>\n      <td>1.0</td>\n      <td>lapillo1</td>\n      <td>2.029138e-03</td>\n      <td>0.000111</td>\n    </tr>\n    <tr>\n      <th>4</th>\n      <td>0</td>\n      <td>33</td>\n      <td>3</td>\n      <td>0</td>\n      <td>1.0</td>\n      <td>terry57</td>\n      <td>9.011427e-05</td>\n      <td>0.000019</td>\n    </tr>\n    <tr>\n      <th>...</th>\n      <td>...</td>\n      <td>...</td>\n      <td>...</td>\n      <td>...</td>\n      <td>...</td>\n      <td>...</td>\n      <td>...</td>\n      <td>...</td>\n    </tr>\n    <tr>\n      <th>8472</th>\n      <td>0</td>\n      <td>0</td>\n      <td>10</td>\n      <td>0</td>\n      <td>NaN</td>\n      <td>CloCecchetto</td>\n      <td>2.454355e-05</td>\n      <td>0.000102</td>\n    </tr>\n    <tr>\n      <th>8473</th>\n      <td>0</td>\n      <td>0</td>\n      <td>10</td>\n      <td>0</td>\n      <td>NaN</td>\n      <td>castelPao</td>\n      <td>4.582850e-06</td>\n      <td>0.000005</td>\n    </tr>\n    <tr>\n      <th>8474</th>\n      <td>0</td>\n      <td>0</td>\n      <td>10</td>\n      <td>0</td>\n      <td>NaN</td>\n      <td>traian_m</td>\n      <td>8.706800e-09</td>\n      <td>0.000014</td>\n    </tr>\n    <tr>\n      <th>8475</th>\n      <td>0</td>\n      <td>0</td>\n      <td>10</td>\n      <td>0</td>\n      <td>NaN</td>\n      <td>ComuneOristano</td>\n      <td>3.281069e-39</td>\n      <td>0.000005</td>\n    </tr>\n    <tr>\n      <th>8476</th>\n      <td>0</td>\n      <td>0</td>\n      <td>10</td>\n      <td>0</td>\n      <td>NaN</td>\n      <td>fcin1908it</td>\n      <td>5.650165e-06</td>\n      <td>0.000014</td>\n    </tr>\n  </tbody>\n</table>\n<p>8477 rows × 8 columns</p>\n</div>"
     },
     "execution_count": 18,
     "metadata": {},
     "output_type": "execute_result"
    }
   ],
   "source": [
    "tweets = tweets.merge(user_ev, left_on=\"user_screen_name\", right_on=\"name\", how=\"left\")\n",
    "tweets = tweets[tweets[\"name\"].notna()]\n",
    "tweets = tweets[[\"HIGH\",\"LOW\",\"UNKW\",\"SOCIAL\",\"conspiracy_score\",\"name\",\"ev\"]]\n",
    "tweets = tweets.merge(user_deg, on=\"name\", how=\"left\")\n",
    "tweets"
   ],
   "metadata": {
    "collapsed": false,
    "pycharm": {
     "name": "#%%\n"
    }
   }
  },
  {
   "cell_type": "code",
   "execution_count": 21,
   "outputs": [],
   "source": [
    "# import numpy as np\n",
    "# threshold_high_low = 20\n",
    "# tweets = tweets[tweets['number_of_urls']>=threshold_high_low]\n",
    "# tweets['conspiracy_score'] = np.around(((tweets['LOW'])/(tweets['HIGH']+tweets['LOW'])),2)\n",
    "# tweets=tweets.sort_values(by=['conspiracy_score'], ascending=False)\n",
    "# tweets.head(10)"
   ],
   "metadata": {
    "collapsed": false,
    "pycharm": {
     "name": "#%%\n"
    }
   }
  },
  {
   "cell_type": "code",
   "execution_count": 20,
   "outputs": [
    {
     "data": {
      "text/plain": "                  conspiracy_score        ev   deg_cen\nconspiracy_score          1.000000  0.338556  0.024767\nev                        0.338556  1.000000  0.590345\ndeg_cen                   0.024767  0.590345  1.000000",
      "text/html": "<div>\n<style scoped>\n    .dataframe tbody tr th:only-of-type {\n        vertical-align: middle;\n    }\n\n    .dataframe tbody tr th {\n        vertical-align: top;\n    }\n\n    .dataframe thead th {\n        text-align: right;\n    }\n</style>\n<table border=\"1\" class=\"dataframe\">\n  <thead>\n    <tr style=\"text-align: right;\">\n      <th></th>\n      <th>conspiracy_score</th>\n      <th>ev</th>\n      <th>deg_cen</th>\n    </tr>\n  </thead>\n  <tbody>\n    <tr>\n      <th>conspiracy_score</th>\n      <td>1.000000</td>\n      <td>0.338556</td>\n      <td>0.024767</td>\n    </tr>\n    <tr>\n      <th>ev</th>\n      <td>0.338556</td>\n      <td>1.000000</td>\n      <td>0.590345</td>\n    </tr>\n    <tr>\n      <th>deg_cen</th>\n      <td>0.024767</td>\n      <td>0.590345</td>\n      <td>1.000000</td>\n    </tr>\n  </tbody>\n</table>\n</div>"
     },
     "execution_count": 20,
     "metadata": {},
     "output_type": "execute_result"
    }
   ],
   "source": [
    "tweets[[\"conspiracy_score\",\"ev\",\"deg_cen\"]].corr()"
   ],
   "metadata": {
    "collapsed": false,
    "pycharm": {
     "name": "#%%\n"
    }
   }
  }
 ],
 "metadata": {
  "kernelspec": {
   "display_name": "Python 3",
   "language": "python",
   "name": "python3"
  },
  "language_info": {
   "codemirror_mode": {
    "name": "ipython",
    "version": 2
   },
   "file_extension": ".py",
   "mimetype": "text/x-python",
   "name": "python",
   "nbconvert_exporter": "python",
   "pygments_lexer": "ipython2",
   "version": "2.7.6"
  }
 },
 "nbformat": 4,
 "nbformat_minor": 0
}