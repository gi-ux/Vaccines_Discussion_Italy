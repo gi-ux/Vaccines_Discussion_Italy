{
 "cells": [
  {
   "cell_type": "code",
   "execution_count": 1,
   "metadata": {
    "id": "98ExKcmaktWg",
    "pycharm": {
     "name": "#%%\n"
    }
   },
   "outputs": [],
   "source": [
    "import pandas as pd\n",
    "import matplotlib.pyplot as plt\n",
    "import numpy as np\n",
    "import igraph as ig\n",
    "import leidenalg as la"
   ]
  },
  {
   "cell_type": "code",
   "execution_count": 4,
   "metadata": {
    "id": "416mOGiiYzSW",
    "pycharm": {
     "name": "#%%\n"
    }
   },
   "outputs": [],
   "source": [
    "destination_path = \"C:/Users/gianl/Desktop/Gi/Supsi/Vaccines_Discussion_Italy/Italian/Files/Tweets/\""
   ]
  },
  {
   "cell_type": "markdown",
   "metadata": {
    "id": "3_kg4Kn0rCyN",
    "pycharm": {
     "name": "#%% md\n"
    }
   },
   "source": [
    "## Retweets"
   ]
  },
  {
   "cell_type": "code",
   "execution_count": 5,
   "metadata": {
    "id": "ElYSHsQ-ZN3f",
    "pycharm": {
     "name": "#%%\n"
    }
   },
   "outputs": [],
   "source": [
    "retweets = pd.read_parquet(destination_path+'retweets.parquet', engine=\"fastparquet\")"
   ]
  },
  {
   "cell_type": "markdown",
   "metadata": {
    "id": "455_-nRTpzvd",
    "pycharm": {
     "name": "#%% md\n"
    }
   },
   "source": [
    "# NETWORK"
   ]
  },
  {
   "cell_type": "code",
   "execution_count": 6,
   "metadata": {
    "id": "UG9ccu--miC3",
    "pycharm": {
     "name": "#%%\n"
    }
   },
   "outputs": [],
   "source": [
    "import seaborn as sns\n",
    "import time\n",
    "import re\n",
    "import networkx as nx\n",
    "from operator import itemgetter\n",
    "import warnings\n",
    "import matplotlib.cm as mcm\n",
    "import community\n",
    "from community import community_louvain as cm\n",
    "# warnings.filterwarnings('ignore')"
   ]
  },
  {
   "cell_type": "code",
   "execution_count": 7,
   "metadata": {
    "colab": {
     "base_uri": "https://localhost:8080/"
    },
    "id": "vtghlztdmiC4",
    "outputId": "9dcf2ad5-2908-476a-9c4d-b3a84f03da94",
    "pycharm": {
     "name": "#%%\n"
    }
   },
   "outputs": [
    {
     "name": "stdout",
     "output_type": "stream",
     "text": [
      "DiGraph with 216216 nodes and 1409724 edges\n"
     ]
    }
   ],
   "source": [
    "retweets_graph = nx.from_pandas_edgelist(retweets,'user_screen_name','rt_user_screen_name', create_using=nx.DiGraph())\n",
    "print(nx.info(retweets_graph))"
   ]
  },
  {
   "cell_type": "code",
   "execution_count": 8,
   "metadata": {
    "id": "sFuhbeBUmiC5",
    "pycharm": {
     "name": "#%%\n"
    }
   },
   "outputs": [],
   "source": [
    "degree_dict = dict(retweets_graph.degree(retweets_graph.nodes()))\n",
    "sorted_degree = sorted(degree_dict.items(), key=itemgetter(1), reverse=True)"
   ]
  },
  {
   "cell_type": "code",
   "execution_count": 9,
   "metadata": {
    "id": "tZx_vwakmiC6",
    "pycharm": {
     "name": "#%%\n"
    }
   },
   "outputs": [],
   "source": [
    "in_degree_dict = dict(retweets_graph.in_degree(retweets_graph.nodes()))\n",
    "sorted_in_degree = sorted(in_degree_dict.items(), key=itemgetter(1), reverse=True)"
   ]
  },
  {
   "cell_type": "code",
   "execution_count": 10,
   "metadata": {
    "id": "oyGSAPhGmiC6",
    "pycharm": {
     "name": "#%%\n"
    }
   },
   "outputs": [],
   "source": [
    "out_degree_dict = dict(retweets_graph.out_degree(retweets_graph.nodes()))\n",
    "sorted_out_degree = sorted(out_degree_dict.items(), key=itemgetter(1), reverse=True)"
   ]
  },
  {
   "cell_type": "markdown",
   "metadata": {
    "id": "KtkC5tOqmiC7",
    "pycharm": {
     "name": "#%% md\n"
    }
   },
   "source": [
    "## Communities with Louvain modularity"
   ]
  },
  {
   "cell_type": "code",
   "execution_count": 11,
   "metadata": {
    "colab": {
     "base_uri": "https://localhost:8080/"
    },
    "id": "_3d_MzQ5miC8",
    "outputId": "68db1bf7-8244-461a-bf46-b4c37e83b515",
    "pycharm": {
     "name": "#%%\n"
    }
   },
   "outputs": [
    {
     "name": "stdout",
     "output_type": "stream",
     "text": [
      "Graph with 216216 nodes and 1394787 edges\n"
     ]
    }
   ],
   "source": [
    "retweets_graph_und = nx.from_pandas_edgelist(retweets,'user_screen_name','rt_user_screen_name')\n",
    "print(nx.info(retweets_graph_und))"
   ]
  },
  {
   "cell_type": "code",
   "execution_count": 12,
   "metadata": {
    "id": "8sp2eWHPmiC8",
    "pycharm": {
     "name": "#%%\n"
    }
   },
   "outputs": [],
   "source": [
    "best_part = cm.best_partition(retweets_graph_und, random_state=11)"
   ]
  },
  {
   "cell_type": "code",
   "execution_count": 16,
   "metadata": {
    "pycharm": {
     "name": "#%%\n"
    }
   },
   "outputs": [
    {
     "data": {
      "application/vnd.jupyter.widget-view+json": {
       "model_id": "b000b8bd89784e3c9bc47e817200969a",
       "version_major": 2,
       "version_minor": 0
      },
      "text/plain": [
       "HBox(children=(HTML(value=''), FloatProgress(value=0.0, max=216216.0), HTML(value='')))"
      ]
     },
     "metadata": {},
     "output_type": "display_data"
    },
    {
     "name": "stdout",
     "output_type": "stream",
     "text": [
      "\n"
     ]
    }
   ],
   "source": [
    "from tqdm.notebook import tqdm\n",
    "lst_name = []\n",
    "lst_index = []\n",
    "for i in tqdm(best_part):\n",
    "    lst_name.append(i)\n",
    "    lst_index.append(best_part.get(i))\n",
    "pd.DataFrame(list(zip(lst_name, lst_index)), columns=[\"name\", \"community\"]).to_csv(\"C:/Users/gianl/Desktop/Gi/Supsi/MartaLauraGiada/Laura/Files/louvain.csv\", encoding=\"utf-8\", line_terminator=\"\\n\", index=False)"
   ]
  },
  {
   "cell_type": "code",
   "execution_count": 18,
   "metadata": {
    "pycharm": {
     "name": "#%%\n"
    }
   },
   "outputs": [
    {
     "data": {
      "text/plain": "0.46293066238257996"
     },
     "execution_count": 18,
     "metadata": {},
     "output_type": "execute_result"
    }
   ],
   "source": [
    "import networkx.algorithms.community as nx_comm\n",
    "nx_comm.modularity(retweets_graph_und, nx_comm.label_propagation_communities(retweets_graph_und))"
   ]
  },
  {
   "cell_type": "markdown",
   "source": [
    "# Eigenvector Centrality"
   ],
   "metadata": {
    "collapsed": false,
    "pycharm": {
     "name": "#%% md\n"
    }
   }
  },
  {
   "cell_type": "code",
   "execution_count": 21,
   "outputs": [],
   "source": [
    "ev_centrality = nx.eigenvector_centrality(retweets_graph_und)"
   ],
   "metadata": {
    "collapsed": false,
    "pycharm": {
     "name": "#%%\n"
    }
   }
  },
  {
   "cell_type": "code",
   "execution_count": 23,
   "outputs": [
    {
     "data": {
      "text/plain": "                   name            ev\n0          planetpaul65  7.765983e-04\n1           isentinelli  1.290955e-04\n2            Grace_1207  3.794276e-04\n3          LidaSezOlbia  5.918241e-03\n4       MarisaMinervini  1.290487e-07\n...                 ...           ...\n216211    legatumori_to  8.288815e-10\n216212         ExmoorOn  2.803193e-06\n216213     Dado46544020  1.207017e-05\n216214   BernardMalcom2  7.213236e-05\n216215    stillwithkooo  3.828520e-07\n\n[216216 rows x 2 columns]",
      "text/html": "<div>\n<style scoped>\n    .dataframe tbody tr th:only-of-type {\n        vertical-align: middle;\n    }\n\n    .dataframe tbody tr th {\n        vertical-align: top;\n    }\n\n    .dataframe thead th {\n        text-align: right;\n    }\n</style>\n<table border=\"1\" class=\"dataframe\">\n  <thead>\n    <tr style=\"text-align: right;\">\n      <th></th>\n      <th>name</th>\n      <th>ev</th>\n    </tr>\n  </thead>\n  <tbody>\n    <tr>\n      <th>0</th>\n      <td>planetpaul65</td>\n      <td>7.765983e-04</td>\n    </tr>\n    <tr>\n      <th>1</th>\n      <td>isentinelli</td>\n      <td>1.290955e-04</td>\n    </tr>\n    <tr>\n      <th>2</th>\n      <td>Grace_1207</td>\n      <td>3.794276e-04</td>\n    </tr>\n    <tr>\n      <th>3</th>\n      <td>LidaSezOlbia</td>\n      <td>5.918241e-03</td>\n    </tr>\n    <tr>\n      <th>4</th>\n      <td>MarisaMinervini</td>\n      <td>1.290487e-07</td>\n    </tr>\n    <tr>\n      <th>...</th>\n      <td>...</td>\n      <td>...</td>\n    </tr>\n    <tr>\n      <th>216211</th>\n      <td>legatumori_to</td>\n      <td>8.288815e-10</td>\n    </tr>\n    <tr>\n      <th>216212</th>\n      <td>ExmoorOn</td>\n      <td>2.803193e-06</td>\n    </tr>\n    <tr>\n      <th>216213</th>\n      <td>Dado46544020</td>\n      <td>1.207017e-05</td>\n    </tr>\n    <tr>\n      <th>216214</th>\n      <td>BernardMalcom2</td>\n      <td>7.213236e-05</td>\n    </tr>\n    <tr>\n      <th>216215</th>\n      <td>stillwithkooo</td>\n      <td>3.828520e-07</td>\n    </tr>\n  </tbody>\n</table>\n<p>216216 rows × 2 columns</p>\n</div>"
     },
     "execution_count": 23,
     "metadata": {},
     "output_type": "execute_result"
    }
   ],
   "source": [
    "lst_ev = [ev_centrality[node] for node in ev_centrality]\n",
    "lst_name = [node for node in ev_centrality]\n",
    "df_ev_centrality = pd.DataFrame(list(zip(lst_name,lst_ev)), columns=[\"name\",\"ev\"])\n",
    "df_ev_centrality\n",
    "# for node in ev_centrality:\n",
    "#     print(ev_centrality[node])\n",
    "#     print(node)\n",
    "#     break"
   ],
   "metadata": {
    "collapsed": false,
    "pycharm": {
     "name": "#%%\n"
    }
   }
  },
  {
   "cell_type": "code",
   "execution_count": 28,
   "outputs": [],
   "source": [
    "path = r\"C:\\Users\\gianl\\Desktop\\Gi\\Supsi\\Vaccines_Discussion_Italy\\Laura\\Files\"\n",
    "df_ev_centrality.sort_values(by='ev', ascending=False, inplace=True)\n",
    "df_ev_centrality.to_csv(path + r\"\\user_ev_centrality.csv\",\n",
    "                        line_terminator=\"\\n\",\n",
    "                        index=False,\n",
    "                        encoding=\"utf-8\")"
   ],
   "metadata": {
    "collapsed": false,
    "pycharm": {
     "name": "#%%\n"
    }
   }
  },
  {
   "cell_type": "markdown",
   "source": [
    "# Degree centrality"
   ],
   "metadata": {
    "collapsed": false,
    "pycharm": {
     "name": "#%% md\n"
    }
   }
  },
  {
   "cell_type": "code",
   "execution_count": 29,
   "outputs": [],
   "source": [
    "degree_centrality = nx.degree_centrality(retweets_graph_und)"
   ],
   "metadata": {
    "collapsed": false,
    "pycharm": {
     "name": "#%%\n"
    }
   }
  },
  {
   "cell_type": "code",
   "execution_count": 31,
   "outputs": [
    {
     "data": {
      "text/plain": "                   name   deg_cen\n0          planetpaul65  0.000532\n1           isentinelli  0.000726\n2            Grace_1207  0.000194\n3          LidaSezOlbia  0.004764\n4       MarisaMinervini  0.000005\n...                 ...       ...\n216211    legatumori_to  0.000005\n216212         ExmoorOn  0.000005\n216213     Dado46544020  0.000005\n216214   BernardMalcom2  0.000005\n216215    stillwithkooo  0.000005\n\n[216216 rows x 2 columns]",
      "text/html": "<div>\n<style scoped>\n    .dataframe tbody tr th:only-of-type {\n        vertical-align: middle;\n    }\n\n    .dataframe tbody tr th {\n        vertical-align: top;\n    }\n\n    .dataframe thead th {\n        text-align: right;\n    }\n</style>\n<table border=\"1\" class=\"dataframe\">\n  <thead>\n    <tr style=\"text-align: right;\">\n      <th></th>\n      <th>name</th>\n      <th>deg_cen</th>\n    </tr>\n  </thead>\n  <tbody>\n    <tr>\n      <th>0</th>\n      <td>planetpaul65</td>\n      <td>0.000532</td>\n    </tr>\n    <tr>\n      <th>1</th>\n      <td>isentinelli</td>\n      <td>0.000726</td>\n    </tr>\n    <tr>\n      <th>2</th>\n      <td>Grace_1207</td>\n      <td>0.000194</td>\n    </tr>\n    <tr>\n      <th>3</th>\n      <td>LidaSezOlbia</td>\n      <td>0.004764</td>\n    </tr>\n    <tr>\n      <th>4</th>\n      <td>MarisaMinervini</td>\n      <td>0.000005</td>\n    </tr>\n    <tr>\n      <th>...</th>\n      <td>...</td>\n      <td>...</td>\n    </tr>\n    <tr>\n      <th>216211</th>\n      <td>legatumori_to</td>\n      <td>0.000005</td>\n    </tr>\n    <tr>\n      <th>216212</th>\n      <td>ExmoorOn</td>\n      <td>0.000005</td>\n    </tr>\n    <tr>\n      <th>216213</th>\n      <td>Dado46544020</td>\n      <td>0.000005</td>\n    </tr>\n    <tr>\n      <th>216214</th>\n      <td>BernardMalcom2</td>\n      <td>0.000005</td>\n    </tr>\n    <tr>\n      <th>216215</th>\n      <td>stillwithkooo</td>\n      <td>0.000005</td>\n    </tr>\n  </tbody>\n</table>\n<p>216216 rows × 2 columns</p>\n</div>"
     },
     "execution_count": 31,
     "metadata": {},
     "output_type": "execute_result"
    }
   ],
   "source": [
    "lst_deg = [degree_centrality[node] for node in degree_centrality]\n",
    "lst_name = [node for node in degree_centrality]\n",
    "df_dg_centrality = pd.DataFrame(list(zip(lst_name,lst_deg)), columns=[\"name\",\"deg_cen\"])\n",
    "df_dg_centrality"
   ],
   "metadata": {
    "collapsed": false,
    "pycharm": {
     "name": "#%%\n"
    }
   }
  },
  {
   "cell_type": "code",
   "execution_count": 32,
   "outputs": [],
   "source": [
    "df_dg_centrality.sort_values(by='deg_cen', ascending=False, inplace=True)\n",
    "df_dg_centrality.to_csv(path + r\"\\user_deg_centrality.csv\",\n",
    "                        line_terminator=\"\\n\",\n",
    "                        index=False,\n",
    "                        encoding=\"utf-8\")"
   ],
   "metadata": {
    "collapsed": false,
    "pycharm": {
     "name": "#%%\n"
    }
   }
  },
  {
   "cell_type": "markdown",
   "source": [
    "# Betwenness centrality"
   ],
   "metadata": {
    "collapsed": false,
    "pycharm": {
     "name": "#%% md\n"
    }
   }
  },
  {
   "cell_type": "code",
   "execution_count": null,
   "outputs": [],
   "source": [
    "betweenness_centrality = nx.betweenness_centrality(retweets_graph_und)\n",
    "print(\"Checkpoint\")\n",
    "lst_bet = [betweenness_centrality[node] for node in betweenness_centrality]\n",
    "lst_name = [node for node in betweenness_centrality]\n",
    "df_bet_centrality = pd.DataFrame(list(zip(lst_name,lst_bet)), columns=[\"name\",\"bet\"])\n",
    "# df_bet_centrality"
   ],
   "metadata": {
    "collapsed": false,
    "pycharm": {
     "name": "#%%\n",
     "is_executing": true
    }
   }
  },
  {
   "cell_type": "code",
   "execution_count": null,
   "outputs": [],
   "source": [
    "df_bet_centrality.head()"
   ],
   "metadata": {
    "collapsed": false,
    "pycharm": {
     "name": "#%%\n",
     "is_executing": true
    }
   }
  },
  {
   "cell_type": "code",
   "execution_count": null,
   "outputs": [],
   "source": [
    "df_bet_centrality.sort_values(by='bet', ascending=False, inplace=True)\n",
    "df_bet_centrality.to_csv(r\"C:\\Users\\gianl\\Desktop\\Gi\\Supsi\\Vaccines_Discussion_Italy\\Italian\\Files\\user_bet_centrality.csv\",\n",
    "                        line_terminator=\"\\n\",\n",
    "                        index=False,\n",
    "                        encoding=\"utf-8\")"
   ],
   "metadata": {
    "collapsed": false,
    "pycharm": {
     "name": "#%%\n",
     "is_executing": true
    }
   }
  }
 ],
 "metadata": {
  "colab": {
   "name": "Retweets_network.ipynb",
   "provenance": []
  },
  "kernelspec": {
   "display_name": "Python 3",
   "language": "python",
   "name": "python3"
  },
  "language_info": {
   "codemirror_mode": {
    "name": "ipython",
    "version": 3
   },
   "file_extension": ".py",
   "mimetype": "text/x-python",
   "name": "python",
   "nbconvert_exporter": "python",
   "pygments_lexer": "ipython3",
   "version": "3.8.11"
  }
 },
 "nbformat": 4,
 "nbformat_minor": 1
}