{
 "cells": [
  {
   "cell_type": "code",
   "execution_count": 8,
   "id": "b0ddc106",
   "metadata": {
    "executionInfo": {
     "elapsed": 5,
     "status": "ok",
     "timestamp": 1646226878772,
     "user": {
      "displayName": "Gianluca Nogara",
      "photoUrl": "https://lh3.googleusercontent.com/a-/AOh14GiwDVHUqldjvpSHhY6ltbbNjYMwBWzniWmrsl3CnA=s64",
      "userId": "16462094689708564135"
     },
     "user_tz": -60
    },
    "id": "b0ddc106"
   },
   "outputs": [],
   "source": [
    "import pandas as pd\n",
    "import glob\n",
    "import numpy as np\n",
    "import sys\n",
    "import tqdm.notebook as tqdm\n",
    "import os\n",
    "import time"
   ]
  },
  {
   "cell_type": "code",
   "execution_count": 3,
   "id": "I_46TxATvybA",
   "metadata": {
    "colab": {
     "base_uri": "https://localhost:8080/"
    },
    "executionInfo": {
     "elapsed": 242,
     "status": "ok",
     "timestamp": 1646226695272,
     "user": {
      "displayName": "Gianluca Nogara",
      "photoUrl": "https://lh3.googleusercontent.com/a-/AOh14GiwDVHUqldjvpSHhY6ltbbNjYMwBWzniWmrsl3CnA=s64",
      "userId": "16462094689708564135"
     },
     "user_tz": -60
    },
    "id": "I_46TxATvybA",
    "outputId": "013170e8-4804-4653-9e91-12640db8f5fc"
   },
   "outputs": [
    {
     "data": {
      "text/plain": [
       "['/content/drive/MyDrive/Supsi/Notebooks/Laura/Tweets/2020-1.parquet',\n",
       " '/content/drive/MyDrive/Supsi/Notebooks/Laura/Tweets/2020-10.parquet',\n",
       " '/content/drive/MyDrive/Supsi/Notebooks/Laura/Tweets/2020-11.parquet',\n",
       " '/content/drive/MyDrive/Supsi/Notebooks/Laura/Tweets/2020-12.parquet',\n",
       " '/content/drive/MyDrive/Supsi/Notebooks/Laura/Tweets/2020-2.parquet',\n",
       " '/content/drive/MyDrive/Supsi/Notebooks/Laura/Tweets/2020-3.parquet',\n",
       " '/content/drive/MyDrive/Supsi/Notebooks/Laura/Tweets/2020-4.parquet',\n",
       " '/content/drive/MyDrive/Supsi/Notebooks/Laura/Tweets/2020-5.parquet',\n",
       " '/content/drive/MyDrive/Supsi/Notebooks/Laura/Tweets/2020-6.parquet',\n",
       " '/content/drive/MyDrive/Supsi/Notebooks/Laura/Tweets/2020-7.parquet',\n",
       " '/content/drive/MyDrive/Supsi/Notebooks/Laura/Tweets/2020-8.parquet',\n",
       " '/content/drive/MyDrive/Supsi/Notebooks/Laura/Tweets/2020-9.parquet',\n",
       " '/content/drive/MyDrive/Supsi/Notebooks/Laura/Tweets/2021-1.parquet',\n",
       " '/content/drive/MyDrive/Supsi/Notebooks/Laura/Tweets/2021-2.parquet',\n",
       " '/content/drive/MyDrive/Supsi/Notebooks/Laura/Tweets/2021-3.parquet',\n",
       " '/content/drive/MyDrive/Supsi/Notebooks/Laura/Tweets/2021-4.parquet',\n",
       " '/content/drive/MyDrive/Supsi/Notebooks/Laura/Tweets/2021-5.parquet']"
      ]
     },
     "execution_count": 3,
     "metadata": {},
     "output_type": "execute_result"
    }
   ],
   "source": [
    "path = \"/content/drive/MyDrive/Supsi/Notebooks/Laura/Tweets/\"\n",
    "entries = glob.glob(path + \"202*.parquet\")\n",
    "entries"
   ]
  },
  {
   "cell_type": "code",
   "execution_count": 9,
   "id": "e9dbcd79",
   "metadata": {
    "colab": {
     "base_uri": "https://localhost:8080/",
     "height": 362,
     "referenced_widgets": [
      "a0f478e5c465414abd19d8f0c57d8336",
      "8b30de7cbc3b4ae49b356676b405e694",
      "64c063d3422a4db0aede7c63623774b1",
      "738458ab3c44402f87c1d58d0efc00bf",
      "6f5e9de817304a798d1093ad21285f48",
      "9e407ec080464deb8e917de487e392e6",
      "3de71380a2aa482a8d2b923d126f79a8",
      "b6d8844d82e4449b8f1d8f8dc1f80429",
      "b5030c94895a47b0a47a34e1d710dc31",
      "49c8b2a68a8f48eb95ad403d56d8621f",
      "c5368faa04844cbb8a181d834a77fcc3"
     ]
    },
    "executionInfo": {
     "elapsed": 79104,
     "status": "ok",
     "timestamp": 1646226963525,
     "user": {
      "displayName": "Gianluca Nogara",
      "photoUrl": "https://lh3.googleusercontent.com/a-/AOh14GiwDVHUqldjvpSHhY6ltbbNjYMwBWzniWmrsl3CnA=s64",
      "userId": "16462094689708564135"
     },
     "user_tz": -60
    },
    "id": "e9dbcd79",
    "outputId": "1bbcf008-8786-4aa1-ac09-2aa0f08b636f"
   },
   "outputs": [
    {
     "data": {
      "application/vnd.jupyter.widget-view+json": {
       "model_id": "a0f478e5c465414abd19d8f0c57d8336",
       "version_major": 2,
       "version_minor": 0
      },
      "text/plain": [
       "  0%|          | 0/17 [00:00<?, ?it/s]"
      ]
     },
     "metadata": {},
     "output_type": "display_data"
    },
    {
     "name": "stdout",
     "output_type": "stream",
     "text": [
      "Number of tweets in /content/drive/MyDrive/Supsi/Notebooks/Laura/Tweets/2020-1.parquet :  19085\n",
      "Number of tweets in /content/drive/MyDrive/Supsi/Notebooks/Laura/Tweets/2020-10.parquet :  76302\n",
      "Number of tweets in /content/drive/MyDrive/Supsi/Notebooks/Laura/Tweets/2020-11.parquet :  196994\n",
      "Number of tweets in /content/drive/MyDrive/Supsi/Notebooks/Laura/Tweets/2020-12.parquet :  426500\n",
      "Number of tweets in /content/drive/MyDrive/Supsi/Notebooks/Laura/Tweets/2020-2.parquet :  30757\n",
      "Number of tweets in /content/drive/MyDrive/Supsi/Notebooks/Laura/Tweets/2020-3.parquet :  61286\n",
      "Number of tweets in /content/drive/MyDrive/Supsi/Notebooks/Laura/Tweets/2020-4.parquet :  93087\n",
      "Number of tweets in /content/drive/MyDrive/Supsi/Notebooks/Laura/Tweets/2020-5.parquet :  93752\n",
      "Number of tweets in /content/drive/MyDrive/Supsi/Notebooks/Laura/Tweets/2020-6.parquet :  53568\n",
      "Number of tweets in /content/drive/MyDrive/Supsi/Notebooks/Laura/Tweets/2020-7.parquet :  36847\n",
      "Number of tweets in /content/drive/MyDrive/Supsi/Notebooks/Laura/Tweets/2020-8.parquet :  82408\n",
      "Number of tweets in /content/drive/MyDrive/Supsi/Notebooks/Laura/Tweets/2020-9.parquet :  60625\n",
      "Number of tweets in /content/drive/MyDrive/Supsi/Notebooks/Laura/Tweets/2021-1.parquet :  491162\n",
      "Number of tweets in /content/drive/MyDrive/Supsi/Notebooks/Laura/Tweets/2021-2.parquet :  378571\n",
      "Number of tweets in /content/drive/MyDrive/Supsi/Notebooks/Laura/Tweets/2021-3.parquet :  930784\n",
      "Number of tweets in /content/drive/MyDrive/Supsi/Notebooks/Laura/Tweets/2021-4.parquet :  571458\n",
      "Number of tweets in /content/drive/MyDrive/Supsi/Notebooks/Laura/Tweets/2021-5.parquet :  450015\n"
     ]
    }
   ],
   "source": [
    "tweets_df = pd.DataFrame()\n",
    "for folder in tqdm.tqdm(entries):\n",
    "    tweets_df_tmp = pd.read_parquet(folder, engine=\"fastparquet\")\n",
    "    tweets_df = tweets_df.append(tweets_df_tmp)\n",
    "    print(\"Number of tweets in\", folder, \": \", len(tweets_df_tmp))\n",
    "tweets_df = tweets_df.reset_index(drop=True)"
   ]
  },
  {
   "cell_type": "code",
   "execution_count": 11,
   "id": "q4ShaYmSyUU8",
   "metadata": {
    "executionInfo": {
     "elapsed": 24912,
     "status": "ok",
     "timestamp": 1646227265374,
     "user": {
      "displayName": "Gianluca Nogara",
      "photoUrl": "https://lh3.googleusercontent.com/a-/AOh14GiwDVHUqldjvpSHhY6ltbbNjYMwBWzniWmrsl3CnA=s64",
      "userId": "16462094689708564135"
     },
     "user_tz": -60
    },
    "id": "q4ShaYmSyUU8"
   },
   "outputs": [],
   "source": [
    "tweets_df.to_parquet(\"/content/drive/MyDrive/Supsi/Notebooks/Laura/Tweets/tweets.parquet\", index=False)"
   ]
  }
 ],
 "metadata": {
  "colab": {
   "collapsed_sections": [],
   "name": "1.Load_Data.ipynb",
   "provenance": []
  },
  "kernelspec": {
   "display_name": "Python 3",
   "language": "python",
   "name": "python3"
  },
  "language_info": {
   "codemirror_mode": {
    "name": "ipython",
    "version": 3
   },
   "file_extension": ".py",
   "mimetype": "text/x-python",
   "name": "python",
   "nbconvert_exporter": "python",
   "pygments_lexer": "ipython3",
   "version": "3.8.11"
  },
  "widgets": {
   "application/vnd.jupyter.widget-state+json": {
    "3de71380a2aa482a8d2b923d126f79a8": {
     "model_module": "@jupyter-widgets/base",
     "model_module_version": "1.2.0",
     "model_name": "LayoutModel",
     "state": {
      "_model_module": "@jupyter-widgets/base",
      "_model_module_version": "1.2.0",
      "_model_name": "LayoutModel",
      "_view_count": null,
      "_view_module": "@jupyter-widgets/base",
      "_view_module_version": "1.2.0",
      "_view_name": "LayoutView",
      "align_content": null,
      "align_items": null,
      "align_self": null,
      "border": null,
      "bottom": null,
      "display": null,
      "flex": null,
      "flex_flow": null,
      "grid_area": null,
      "grid_auto_columns": null,
      "grid_auto_flow": null,
      "grid_auto_rows": null,
      "grid_column": null,
      "grid_gap": null,
      "grid_row": null,
      "grid_template_areas": null,
      "grid_template_columns": null,
      "grid_template_rows": null,
      "height": null,
      "justify_content": null,
      "justify_items": null,
      "left": null,
      "margin": null,
      "max_height": null,
      "max_width": null,
      "min_height": null,
      "min_width": null,
      "object_fit": null,
      "object_position": null,
      "order": null,
      "overflow": null,
      "overflow_x": null,
      "overflow_y": null,
      "padding": null,
      "right": null,
      "top": null,
      "visibility": null,
      "width": null
     }
    },
    "49c8b2a68a8f48eb95ad403d56d8621f": {
     "model_module": "@jupyter-widgets/controls",
     "model_module_version": "1.5.0",
     "model_name": "DescriptionStyleModel",
     "state": {
      "_model_module": "@jupyter-widgets/controls",
      "_model_module_version": "1.5.0",
      "_model_name": "DescriptionStyleModel",
      "_view_count": null,
      "_view_module": "@jupyter-widgets/base",
      "_view_module_version": "1.2.0",
      "_view_name": "StyleView",
      "description_width": ""
     }
    },
    "64c063d3422a4db0aede7c63623774b1": {
     "model_module": "@jupyter-widgets/controls",
     "model_module_version": "1.5.0",
     "model_name": "HTMLModel",
     "state": {
      "_dom_classes": [],
      "_model_module": "@jupyter-widgets/controls",
      "_model_module_version": "1.5.0",
      "_model_name": "HTMLModel",
      "_view_count": null,
      "_view_module": "@jupyter-widgets/controls",
      "_view_module_version": "1.5.0",
      "_view_name": "HTMLView",
      "description": "",
      "description_tooltip": null,
      "layout": "IPY_MODEL_3de71380a2aa482a8d2b923d126f79a8",
      "placeholder": "​",
      "style": "IPY_MODEL_9e407ec080464deb8e917de487e392e6",
      "value": "100%"
     }
    },
    "6f5e9de817304a798d1093ad21285f48": {
     "model_module": "@jupyter-widgets/controls",
     "model_module_version": "1.5.0",
     "model_name": "HTMLModel",
     "state": {
      "_dom_classes": [],
      "_model_module": "@jupyter-widgets/controls",
      "_model_module_version": "1.5.0",
      "_model_name": "HTMLModel",
      "_view_count": null,
      "_view_module": "@jupyter-widgets/controls",
      "_view_module_version": "1.5.0",
      "_view_name": "HTMLView",
      "description": "",
      "description_tooltip": null,
      "layout": "IPY_MODEL_c5368faa04844cbb8a181d834a77fcc3",
      "placeholder": "​",
      "style": "IPY_MODEL_49c8b2a68a8f48eb95ad403d56d8621f",
      "value": " 17/17 [01:12&lt;00:00,  7.06s/it]"
     }
    },
    "738458ab3c44402f87c1d58d0efc00bf": {
     "model_module": "@jupyter-widgets/controls",
     "model_module_version": "1.5.0",
     "model_name": "FloatProgressModel",
     "state": {
      "_dom_classes": [],
      "_model_module": "@jupyter-widgets/controls",
      "_model_module_version": "1.5.0",
      "_model_name": "FloatProgressModel",
      "_view_count": null,
      "_view_module": "@jupyter-widgets/controls",
      "_view_module_version": "1.5.0",
      "_view_name": "ProgressView",
      "bar_style": "success",
      "description": "",
      "description_tooltip": null,
      "layout": "IPY_MODEL_b5030c94895a47b0a47a34e1d710dc31",
      "max": 17,
      "min": 0,
      "orientation": "horizontal",
      "style": "IPY_MODEL_b6d8844d82e4449b8f1d8f8dc1f80429",
      "value": 17
     }
    },
    "8b30de7cbc3b4ae49b356676b405e694": {
     "model_module": "@jupyter-widgets/base",
     "model_module_version": "1.2.0",
     "model_name": "LayoutModel",
     "state": {
      "_model_module": "@jupyter-widgets/base",
      "_model_module_version": "1.2.0",
      "_model_name": "LayoutModel",
      "_view_count": null,
      "_view_module": "@jupyter-widgets/base",
      "_view_module_version": "1.2.0",
      "_view_name": "LayoutView",
      "align_content": null,
      "align_items": null,
      "align_self": null,
      "border": null,
      "bottom": null,
      "display": null,
      "flex": null,
      "flex_flow": null,
      "grid_area": null,
      "grid_auto_columns": null,
      "grid_auto_flow": null,
      "grid_auto_rows": null,
      "grid_column": null,
      "grid_gap": null,
      "grid_row": null,
      "grid_template_areas": null,
      "grid_template_columns": null,
      "grid_template_rows": null,
      "height": null,
      "justify_content": null,
      "justify_items": null,
      "left": null,
      "margin": null,
      "max_height": null,
      "max_width": null,
      "min_height": null,
      "min_width": null,
      "object_fit": null,
      "object_position": null,
      "order": null,
      "overflow": null,
      "overflow_x": null,
      "overflow_y": null,
      "padding": null,
      "right": null,
      "top": null,
      "visibility": null,
      "width": null
     }
    },
    "9e407ec080464deb8e917de487e392e6": {
     "model_module": "@jupyter-widgets/controls",
     "model_module_version": "1.5.0",
     "model_name": "DescriptionStyleModel",
     "state": {
      "_model_module": "@jupyter-widgets/controls",
      "_model_module_version": "1.5.0",
      "_model_name": "DescriptionStyleModel",
      "_view_count": null,
      "_view_module": "@jupyter-widgets/base",
      "_view_module_version": "1.2.0",
      "_view_name": "StyleView",
      "description_width": ""
     }
    },
    "a0f478e5c465414abd19d8f0c57d8336": {
     "model_module": "@jupyter-widgets/controls",
     "model_module_version": "1.5.0",
     "model_name": "HBoxModel",
     "state": {
      "_dom_classes": [],
      "_model_module": "@jupyter-widgets/controls",
      "_model_module_version": "1.5.0",
      "_model_name": "HBoxModel",
      "_view_count": null,
      "_view_module": "@jupyter-widgets/controls",
      "_view_module_version": "1.5.0",
      "_view_name": "HBoxView",
      "box_style": "",
      "children": [
       "IPY_MODEL_64c063d3422a4db0aede7c63623774b1",
       "IPY_MODEL_738458ab3c44402f87c1d58d0efc00bf",
       "IPY_MODEL_6f5e9de817304a798d1093ad21285f48"
      ],
      "layout": "IPY_MODEL_8b30de7cbc3b4ae49b356676b405e694"
     }
    },
    "b5030c94895a47b0a47a34e1d710dc31": {
     "model_module": "@jupyter-widgets/base",
     "model_module_version": "1.2.0",
     "model_name": "LayoutModel",
     "state": {
      "_model_module": "@jupyter-widgets/base",
      "_model_module_version": "1.2.0",
      "_model_name": "LayoutModel",
      "_view_count": null,
      "_view_module": "@jupyter-widgets/base",
      "_view_module_version": "1.2.0",
      "_view_name": "LayoutView",
      "align_content": null,
      "align_items": null,
      "align_self": null,
      "border": null,
      "bottom": null,
      "display": null,
      "flex": null,
      "flex_flow": null,
      "grid_area": null,
      "grid_auto_columns": null,
      "grid_auto_flow": null,
      "grid_auto_rows": null,
      "grid_column": null,
      "grid_gap": null,
      "grid_row": null,
      "grid_template_areas": null,
      "grid_template_columns": null,
      "grid_template_rows": null,
      "height": null,
      "justify_content": null,
      "justify_items": null,
      "left": null,
      "margin": null,
      "max_height": null,
      "max_width": null,
      "min_height": null,
      "min_width": null,
      "object_fit": null,
      "object_position": null,
      "order": null,
      "overflow": null,
      "overflow_x": null,
      "overflow_y": null,
      "padding": null,
      "right": null,
      "top": null,
      "visibility": null,
      "width": null
     }
    },
    "b6d8844d82e4449b8f1d8f8dc1f80429": {
     "model_module": "@jupyter-widgets/controls",
     "model_module_version": "1.5.0",
     "model_name": "ProgressStyleModel",
     "state": {
      "_model_module": "@jupyter-widgets/controls",
      "_model_module_version": "1.5.0",
      "_model_name": "ProgressStyleModel",
      "_view_count": null,
      "_view_module": "@jupyter-widgets/base",
      "_view_module_version": "1.2.0",
      "_view_name": "StyleView",
      "bar_color": null,
      "description_width": ""
     }
    },
    "c5368faa04844cbb8a181d834a77fcc3": {
     "model_module": "@jupyter-widgets/base",
     "model_module_version": "1.2.0",
     "model_name": "LayoutModel",
     "state": {
      "_model_module": "@jupyter-widgets/base",
      "_model_module_version": "1.2.0",
      "_model_name": "LayoutModel",
      "_view_count": null,
      "_view_module": "@jupyter-widgets/base",
      "_view_module_version": "1.2.0",
      "_view_name": "LayoutView",
      "align_content": null,
      "align_items": null,
      "align_self": null,
      "border": null,
      "bottom": null,
      "display": null,
      "flex": null,
      "flex_flow": null,
      "grid_area": null,
      "grid_auto_columns": null,
      "grid_auto_flow": null,
      "grid_auto_rows": null,
      "grid_column": null,
      "grid_gap": null,
      "grid_row": null,
      "grid_template_areas": null,
      "grid_template_columns": null,
      "grid_template_rows": null,
      "height": null,
      "justify_content": null,
      "justify_items": null,
      "left": null,
      "margin": null,
      "max_height": null,
      "max_width": null,
      "min_height": null,
      "min_width": null,
      "object_fit": null,
      "object_position": null,
      "order": null,
      "overflow": null,
      "overflow_x": null,
      "overflow_y": null,
      "padding": null,
      "right": null,
      "top": null,
      "visibility": null,
      "width": null
     }
    }
   }
  }
 },
 "nbformat": 4,
 "nbformat_minor": 5
}
