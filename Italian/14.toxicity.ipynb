{
 "cells": [
  {
   "cell_type": "code",
   "execution_count": 1,
   "id": "b2e2c77c",
   "metadata": {
    "pycharm": {
     "name": "#%%\n"
    }
   },
   "outputs": [],
   "source": [
    "import tweepy\n",
    "import json\n",
    "import pandas as pd\n",
    "from perspective import PerspectiveAPI\n",
    "from googleapiclient import discovery\n",
    "import numpy as np\n",
    "import re\n",
    "import time\n",
    "from tqdm.notebook import tqdm\n",
    "path_files =\"C:/Users/gianl/Desktop/Gi/Supsi/Vaccines_Discussion_Italy/Laura/Files/\"\n",
    "path_data = \"C:/Users/gianl/Desktop/Gi/Supsi/Vaccines_Discussion_Italy/Laura/Tweets/\""
   ]
  },
  {
   "cell_type": "code",
   "execution_count": 5,
   "id": "2ff83793",
   "metadata": {
    "pycharm": {
     "name": "#%%\n"
    }
   },
   "outputs": [],
   "source": [
    "jsonFile = open(path_files + 'auth.json', 'r')\n",
    "config = json.load(jsonFile)\n",
    "jsonFile.close()\n",
    "API_KEY = config[\"api_key_1\"]"
   ]
  },
  {
   "cell_type": "markdown",
   "id": "2b43990a",
   "metadata": {
    "pycharm": {
     "name": "#%% md\n"
    }
   },
   "source": [
    "# Clean text and write"
   ]
  },
  {
   "cell_type": "code",
   "execution_count": 6,
   "id": "a62a95bb",
   "metadata": {
    "pycharm": {
     "name": "#%%\n"
    }
   },
   "outputs": [],
   "source": [
    "strng = \"@Cristiano è il nostro #MVP? si: https://google.com\""
   ]
  },
  {
   "cell_type": "code",
   "execution_count": 7,
   "id": "e7567c97",
   "metadata": {
    "pycharm": {
     "name": "#%%\n"
    }
   },
   "outputs": [],
   "source": [
    "def clean(x: str):\n",
    "    if (\"http\" in x):\n",
    "        x = re.sub(r'http\\S+', '',x)\n",
    "    x = re.sub('[@#$]', '', x)\n",
    "    x = re.sub('\\n', ' ', x)\n",
    "    return x"
   ]
  },
  {
   "cell_type": "code",
   "execution_count": 8,
   "id": "edf35a60",
   "metadata": {
    "pycharm": {
     "name": "#%%\n"
    }
   },
   "outputs": [
    {
     "data": {
      "text/plain": [
       "'Cristiano è il nostro MVP? si: '"
      ]
     },
     "execution_count": 8,
     "metadata": {},
     "output_type": "execute_result"
    }
   ],
   "source": [
    "clean(strng)"
   ]
  },
  {
   "cell_type": "code",
   "execution_count": 3,
   "id": "ee1ccdf6",
   "metadata": {
    "pycharm": {
     "name": "#%%\n"
    }
   },
   "outputs": [],
   "source": [
    "df_bad = pd.read_csv(path_data + \"bad_activities.csv\")\n",
    "df_good = pd.read_csv(path_data + \"good_activities.csv\")\n",
    "df_suspended = pd.read_parquet(path_data + \"tweets_bad_suspended.parquet\", engine=\"fastparquet\")\n",
    "df_suspended_good= pd.read_parquet(path_data + \"tweets_good_suspended.parquet\", engine=\"fastparquet\")\n",
    "tweets = pd.read_parquet(path_data + \"tweets.parquet\", engine=\"fastparquet\")"
   ]
  },
  {
   "cell_type": "code",
   "execution_count": 40,
   "id": "19d7d7af",
   "metadata": {
    "pycharm": {
     "name": "#%%\n"
    }
   },
   "outputs": [],
   "source": [
    "# tweets.head()"
   ]
  },
  {
   "cell_type": "code",
   "execution_count": 92,
   "id": "8540a64b",
   "metadata": {
    "pycharm": {
     "name": "#%%\n"
    }
   },
   "outputs": [
    {
     "data": {
      "application/vnd.jupyter.widget-view+json": {
       "model_id": "7e106bc7323d4ceba8e92229ba2870fd",
       "version_major": 2,
       "version_minor": 0
      },
      "text/plain": [
       "HBox(children=(HTML(value=''), FloatProgress(value=0.0, max=4053201.0), HTML(value='')))"
      ]
     },
     "metadata": {},
     "output_type": "display_data"
    },
    {
     "name": "stdout",
     "output_type": "stream",
     "text": [
      "\n"
     ]
    }
   ],
   "source": [
    "# x = list(tweets[\"text\"])\n",
    "# y = list(tweets[\"id\"])\n",
    "# count = 0\n",
    "lst_id = []\n",
    "lst_text = []\n",
    "for i in tqdm(range(len(x))):\n",
    "    lst_id.append(y[i])\n",
    "    lst_text.append(clean(x[i]))\n",
    "pd.DataFrame(list(zip(lst_id,lst_text)),columns=[\"id\",\"text\"]).to_csv(\"C:/Users/gianl/Desktop/Gi/Supsi/Vaccines_Discussion_Italy/Laura/texts/df_cleaned.csv\",\n",
    "                                                                     line_terminator=\"\\n\", encoding=\"utf-8\", index=False)"
   ]
  },
  {
   "cell_type": "code",
   "execution_count": 2,
   "id": "5ff37a8a",
   "metadata": {
    "pycharm": {
     "name": "#%%\n"
    }
   },
   "outputs": [],
   "source": [
    "esempio = pd.read_csv(\"C:/Users/gianl/Desktop/Gi/Supsi/Vaccines_Discussion_Italy/Laura/texts/df_cleaned.csv\",\n",
    "                              lineterminator=\"\\n\", low_memory=False, encoding=\"utf-8\")"
   ]
  },
  {
   "cell_type": "code",
   "execution_count": 9,
   "id": "6da426d4",
   "metadata": {
    "pycharm": {
     "name": "#%%\n"
    }
   },
   "outputs": [
    {
     "data": {
      "application/vnd.jupyter.widget-view+json": {
       "model_id": "a18a5504e546453fbe7b90b4d3b5da6a",
       "version_major": 2,
       "version_minor": 0
      },
      "text/plain": [
       "HBox(children=(HTML(value=''), FloatProgress(value=0.0, max=1565714.0), HTML(value='')))"
      ]
     },
     "metadata": {},
     "output_type": "display_data"
    },
    {
     "name": "stdout",
     "output_type": "stream",
     "text": [
      "\n"
     ]
    }
   ],
   "source": [
    "lst_final = []\n",
    "x2 = list(set(esempio[\"text\"]))\n",
    "for i in tqdm(x2[1:]):\n",
    "    if len(i.split(\" \")) >= 4:\n",
    "        lst_final.append(i)"
   ]
  },
  {
   "cell_type": "code",
   "execution_count": 23,
   "id": "7202d7d1",
   "metadata": {
    "pycharm": {
     "name": "#%%\n"
    },
    "scrolled": true
   },
   "outputs": [],
   "source": [
    "n = 11\n",
    "splited = [lst_final[i::n] for i in range(n)]\n"
   ]
  },
  {
   "cell_type": "code",
   "execution_count": 25,
   "id": "860de227",
   "metadata": {
    "pycharm": {
     "name": "#%%\n"
    }
   },
   "outputs": [],
   "source": [
    "count = 0\n",
    "for i in splited:\n",
    "    pd.DataFrame(i, columns=[\"text\"]).to_csv(f\"C:/Users/gianl/Desktop/Gi/Supsi/Vaccines_Discussion_Italy/Laura/texts/example_{count}.csv\",\n",
    "                           line_terminator=\"\\n\", index=False, encoding=\"utf-8\")\n",
    "    count = count + 1\n"
   ]
  },
  {
   "cell_type": "code",
   "execution_count": 12,
   "id": "a5651f22",
   "metadata": {
    "pycharm": {
     "name": "#%%\n"
    }
   },
   "outputs": [],
   "source": [
    "\n",
    "# esempio = pd.read_csv(\"C:/Users/gianl/Desktop/Gi/Supsi/Vaccines_Discussion_Italy/Laura/texts/example.csv\",\n",
    "#                               lineterminator=\"\\n\", low_memory=False, encoding=\"utf-8\")\n",
    "# esempio"
   ]
  },
  {
   "cell_type": "code",
   "execution_count": 87,
   "id": "997621f8",
   "metadata": {
    "pycharm": {
     "name": "#%%\n"
    }
   },
   "outputs": [],
   "source": [
    "# print(len(x2))\n",
    "# count = 0\n",
    "# for i in x2:\n",
    "#     if len(i.split(\" \")) < 4:\n",
    "#         count = count + 1\n",
    "#         print(i)\n",
    "# print(count)\n",
    "# 1499124 - 69376\n",
    "# 1500000 / 50000"
   ]
  },
  {
   "cell_type": "markdown",
   "id": "0a216b78",
   "metadata": {
    "pycharm": {
     "name": "#%% md\n"
    }
   },
   "source": [
    "# Classification"
   ]
  },
  {
   "cell_type": "code",
   "execution_count": 3,
   "id": "17ea1c3a",
   "metadata": {
    "pycharm": {
     "name": "#%%\n"
    },
    "scrolled": false
   },
   "outputs": [],
   "source": [
    "# p = PerspectiveAPI(api_key=API_KEY)\n",
    "# results = []\n",
    "# for i in tqdm(texts):\n",
    "#     time.sleep(1)\n",
    "#     try:\n",
    "#         result = p.score(i)\n",
    "#         results.append(result[\"TOXICITY\"])\n",
    "#     except Exception as e:\n",
    "#         print(\"Error: \", e)"
   ]
  },
  {
   "cell_type": "code",
   "execution_count": 70,
   "id": "a9e18ec9",
   "metadata": {
    "pycharm": {
     "name": "#%%\n"
    }
   },
   "outputs": [
    {
     "name": "stdout",
     "output_type": "stream",
     "text": [
      "Primi 1000 tweet Good 0.03 Toxicity score\n",
      "Primi 1000 tweet Good susp 0.1 Toxicity score\n",
      "Primi 1000 tweet Bad susp 0.12 Toxicity score\n",
      "Primi 1000 tweet Bad 0.09 Toxicity score\n"
     ]
    }
   ],
   "source": [
    "print(f\"Primi 1000 tweet Good {0.03} Toxicity score\")\n",
    "print(f\"Primi 1000 tweet Good susp {0.10} Toxicity score\")\n",
    "print(f\"Primi 1000 tweet Bad susp {0.12} Toxicity score\")\n",
    "print(f\"Primi 1000 tweet Bad {0.09} Toxicity score\")"
   ]
  },
  {
   "cell_type": "code",
   "execution_count": 2,
   "id": "e2394a4d",
   "metadata": {
    "pycharm": {
     "name": "#%%\n"
    }
   },
   "outputs": [],
   "source": [
    "# client = discovery.build(\n",
    "#   \"commentanalyzer\",\n",
    "#   \"v1alpha1\",\n",
    "#   developerKey=API_KEY,\n",
    "#   discoveryServiceUrl=\"https://commentanalyzer.googleapis.com/$discovery/rest?version=v1alpha1\",\n",
    "#   static_discovery=False,\n",
    "# )\n",
    "\n",
    "# analyze_request = {\n",
    "#   'comment': { 'text': \"guarda, sei bravo!\"},\n",
    "#   'requestedAttributes': {'TOXICITY': {}}\n",
    "# }\n",
    "\n",
    "# response = client.comments().analyze(body=analyze_request).execute()\n",
    "# print(json.dumps(response, indent=2))"
   ]
  },
  {
   "cell_type": "markdown",
   "id": "1f35dc88",
   "metadata": {
    "pycharm": {
     "name": "#%%\n"
    }
   },
   "source": [
    "# Ricomposizione DF"
   ]
  },
  {
   "cell_type": "code",
   "execution_count": 2,
   "id": "45e719da",
   "metadata": {},
   "outputs": [],
   "source": [
    "esempio = pd.read_csv(\"C:/Users/gianl/Desktop/Gi/Supsi/Vaccines_Discussion_Italy/Laura/texts/df_cleaned.csv\",\n",
    "                              lineterminator=\"\\n\", low_memory=False, encoding=\"utf-8\")"
   ]
  },
  {
   "cell_type": "code",
   "execution_count": 3,
   "id": "2eccb807",
   "metadata": {},
   "outputs": [
    {
     "data": {
      "text/plain": "                    id                                               text\n0  1221739084449832960  La Memoria è l’unico vaccino contro l’indiffer...\n1  1221737155380293640  Oggi sono arrivati loro, 3 femminucce e 1 masc...\n2  1221730009989120001  L'indifferenza è più colpevole della violenza ...\n3  1221737654909382662  Minaccia morbillo nel Salento, Asl: \"Vaccinars...\n4  1221728980203724801  \"Coltivare la Memoria è ancora oggi un vaccino...",
      "text/html": "<div>\n<style scoped>\n    .dataframe tbody tr th:only-of-type {\n        vertical-align: middle;\n    }\n\n    .dataframe tbody tr th {\n        vertical-align: top;\n    }\n\n    .dataframe thead th {\n        text-align: right;\n    }\n</style>\n<table border=\"1\" class=\"dataframe\">\n  <thead>\n    <tr style=\"text-align: right;\">\n      <th></th>\n      <th>id</th>\n      <th>text</th>\n    </tr>\n  </thead>\n  <tbody>\n    <tr>\n      <th>0</th>\n      <td>1221739084449832960</td>\n      <td>La Memoria è l’unico vaccino contro l’indiffer...</td>\n    </tr>\n    <tr>\n      <th>1</th>\n      <td>1221737155380293640</td>\n      <td>Oggi sono arrivati loro, 3 femminucce e 1 masc...</td>\n    </tr>\n    <tr>\n      <th>2</th>\n      <td>1221730009989120001</td>\n      <td>L'indifferenza è più colpevole della violenza ...</td>\n    </tr>\n    <tr>\n      <th>3</th>\n      <td>1221737654909382662</td>\n      <td>Minaccia morbillo nel Salento, Asl: \"Vaccinars...</td>\n    </tr>\n    <tr>\n      <th>4</th>\n      <td>1221728980203724801</td>\n      <td>\"Coltivare la Memoria è ancora oggi un vaccino...</td>\n    </tr>\n  </tbody>\n</table>\n</div>"
     },
     "execution_count": 3,
     "metadata": {},
     "output_type": "execute_result"
    }
   ],
   "source": [
    "esempio.head()"
   ]
  },
  {
   "cell_type": "code",
   "execution_count": null,
   "id": "f18bb7fe",
   "metadata": {
    "pycharm": {
     "name": "#%%\n",
     "is_executing": true
    }
   },
   "outputs": [],
   "source": [
    "tweets = pd.read_parquet(path_data + \"tweets.parquet\", engine=\"fastparquet\")[[\"id\",\"user_screen_name\"]]"
   ]
  },
  {
   "cell_type": "code",
   "execution_count": null,
   "id": "f4410c9b",
   "metadata": {
    "pycharm": {
     "name": "#%%\n",
     "is_executing": true
    }
   },
   "outputs": [],
   "source": [
    "tweets.head()"
   ]
  },
  {
   "cell_type": "code",
   "execution_count": 6,
   "id": "fc9f194c",
   "metadata": {},
   "outputs": [
    {
     "data": {
      "text/plain": "                    id                                               text  \\\n0  1221739084449832960  La Memoria è l’unico vaccino contro l’indiffer...   \n1  1221737155380293640  Oggi sono arrivati loro, 3 femminucce e 1 masc...   \n2  1221730009989120001  L'indifferenza è più colpevole della violenza ...   \n3  1221737654909382662  Minaccia morbillo nel Salento, Asl: \"Vaccinars...   \n4  1221728980203724801  \"Coltivare la Memoria è ancora oggi un vaccino...   \n\n  user_screen_name  \n0     planetpaul65  \n1       Grace_1207  \n2  MarisaMinervini  \n3       LecceSette  \n4         arual812  ",
      "text/html": "<div>\n<style scoped>\n    .dataframe tbody tr th:only-of-type {\n        vertical-align: middle;\n    }\n\n    .dataframe tbody tr th {\n        vertical-align: top;\n    }\n\n    .dataframe thead th {\n        text-align: right;\n    }\n</style>\n<table border=\"1\" class=\"dataframe\">\n  <thead>\n    <tr style=\"text-align: right;\">\n      <th></th>\n      <th>id</th>\n      <th>text</th>\n      <th>user_screen_name</th>\n    </tr>\n  </thead>\n  <tbody>\n    <tr>\n      <th>0</th>\n      <td>1221739084449832960</td>\n      <td>La Memoria è l’unico vaccino contro l’indiffer...</td>\n      <td>planetpaul65</td>\n    </tr>\n    <tr>\n      <th>1</th>\n      <td>1221737155380293640</td>\n      <td>Oggi sono arrivati loro, 3 femminucce e 1 masc...</td>\n      <td>Grace_1207</td>\n    </tr>\n    <tr>\n      <th>2</th>\n      <td>1221730009989120001</td>\n      <td>L'indifferenza è più colpevole della violenza ...</td>\n      <td>MarisaMinervini</td>\n    </tr>\n    <tr>\n      <th>3</th>\n      <td>1221737654909382662</td>\n      <td>Minaccia morbillo nel Salento, Asl: \"Vaccinars...</td>\n      <td>LecceSette</td>\n    </tr>\n    <tr>\n      <th>4</th>\n      <td>1221728980203724801</td>\n      <td>\"Coltivare la Memoria è ancora oggi un vaccino...</td>\n      <td>arual812</td>\n    </tr>\n  </tbody>\n</table>\n</div>"
     },
     "execution_count": 6,
     "metadata": {},
     "output_type": "execute_result"
    }
   ],
   "source": [
    "df = esempio.merge(tweets, on=\"id\", how=\"left\")\n",
    "df.head()"
   ]
  },
  {
   "cell_type": "code",
   "execution_count": 7,
   "id": "c5cca995",
   "metadata": {},
   "outputs": [],
   "source": [
    "del tweets\n",
    "del esempio"
   ]
  },
  {
   "cell_type": "code",
   "execution_count": 2,
   "id": "7db2c284",
   "metadata": {
    "pycharm": {
     "name": "#%%\n"
    }
   },
   "outputs": [
    {
     "name": "stdout",
     "output_type": "stream",
     "text": [
      "1100813\n"
     ]
    },
    {
     "data": {
      "text/plain": "                                                text  toxicity\n0  andrea__059 LucioMM1 Rey_k73 MMmarco0 Ma da qu...  0.122449\n1  La_manina__ PaoloMarani3 Hai cannato.  1743 so...  0.213626\n2  noitre32 Ormai viviamo in mezzo a una follia d...  0.271282\n3  Lotta alla pandemia, Bayer e Curevac insieme p...  0.003002\n4  EugenioGiani In molto 60 enni nn si prenotano ...  0.037538",
      "text/html": "<div>\n<style scoped>\n    .dataframe tbody tr th:only-of-type {\n        vertical-align: middle;\n    }\n\n    .dataframe tbody tr th {\n        vertical-align: top;\n    }\n\n    .dataframe thead th {\n        text-align: right;\n    }\n</style>\n<table border=\"1\" class=\"dataframe\">\n  <thead>\n    <tr style=\"text-align: right;\">\n      <th></th>\n      <th>text</th>\n      <th>toxicity</th>\n    </tr>\n  </thead>\n  <tbody>\n    <tr>\n      <th>0</th>\n      <td>andrea__059 LucioMM1 Rey_k73 MMmarco0 Ma da qu...</td>\n      <td>0.122449</td>\n    </tr>\n    <tr>\n      <th>1</th>\n      <td>La_manina__ PaoloMarani3 Hai cannato.  1743 so...</td>\n      <td>0.213626</td>\n    </tr>\n    <tr>\n      <th>2</th>\n      <td>noitre32 Ormai viviamo in mezzo a una follia d...</td>\n      <td>0.271282</td>\n    </tr>\n    <tr>\n      <th>3</th>\n      <td>Lotta alla pandemia, Bayer e Curevac insieme p...</td>\n      <td>0.003002</td>\n    </tr>\n    <tr>\n      <th>4</th>\n      <td>EugenioGiani In molto 60 enni nn si prenotano ...</td>\n      <td>0.037538</td>\n    </tr>\n  </tbody>\n</table>\n</div>"
     },
     "execution_count": 2,
     "metadata": {},
     "output_type": "execute_result"
    }
   ],
   "source": [
    "import warnings\n",
    "warnings.simplefilter(\"ignore\")\n",
    "from glob import glob\n",
    "files = glob(r\"C:\\Users\\gianl\\Desktop\\Gi\\Supsi\\Vaccines_Discussion_Italy\\Laura\\texts\\res*.csv\")\n",
    "results = pd.DataFrame()\n",
    "for file in files:\n",
    "    df_temp = pd.read_csv(file, lineterminator=\"\\n\", encoding=\"utf-8\", low_memory=False)\n",
    "    results = results.append(df_temp)\n",
    "print(len(results))\n",
    "results.head()"
   ]
  },
  {
   "cell_type": "code",
   "execution_count": 9,
   "id": "d05b0305",
   "metadata": {},
   "outputs": [
    {
     "data": {
      "text/plain": "                                                text  toxicity  \\\n0  andrea__059 LucioMM1 Rey_k73 MMmarco0 Ma da qu...  0.122449   \n1  La_manina__ PaoloMarani3 Hai cannato.  1743 so...  0.213626   \n2  noitre32 Ormai viviamo in mezzo a una follia d...  0.271282   \n3  Lotta alla pandemia, Bayer e Curevac insieme p...  0.003002   \n4  EugenioGiani In molto 60 enni nn si prenotano ...  0.037538   \n\n                    id user_screen_name  \n0  1379199315483189254    L_impenitente  \n1  1371145963939770377    anninavigneto  \n2  1389702220275494915  Roberto53402737  \n3  1347175082515439617     tvbusiness24  \n4  1393208983717023745          mcsm878  ",
      "text/html": "<div>\n<style scoped>\n    .dataframe tbody tr th:only-of-type {\n        vertical-align: middle;\n    }\n\n    .dataframe tbody tr th {\n        vertical-align: top;\n    }\n\n    .dataframe thead th {\n        text-align: right;\n    }\n</style>\n<table border=\"1\" class=\"dataframe\">\n  <thead>\n    <tr style=\"text-align: right;\">\n      <th></th>\n      <th>text</th>\n      <th>toxicity</th>\n      <th>id</th>\n      <th>user_screen_name</th>\n    </tr>\n  </thead>\n  <tbody>\n    <tr>\n      <th>0</th>\n      <td>andrea__059 LucioMM1 Rey_k73 MMmarco0 Ma da qu...</td>\n      <td>0.122449</td>\n      <td>1379199315483189254</td>\n      <td>L_impenitente</td>\n    </tr>\n    <tr>\n      <th>1</th>\n      <td>La_manina__ PaoloMarani3 Hai cannato.  1743 so...</td>\n      <td>0.213626</td>\n      <td>1371145963939770377</td>\n      <td>anninavigneto</td>\n    </tr>\n    <tr>\n      <th>2</th>\n      <td>noitre32 Ormai viviamo in mezzo a una follia d...</td>\n      <td>0.271282</td>\n      <td>1389702220275494915</td>\n      <td>Roberto53402737</td>\n    </tr>\n    <tr>\n      <th>3</th>\n      <td>Lotta alla pandemia, Bayer e Curevac insieme p...</td>\n      <td>0.003002</td>\n      <td>1347175082515439617</td>\n      <td>tvbusiness24</td>\n    </tr>\n    <tr>\n      <th>4</th>\n      <td>EugenioGiani In molto 60 enni nn si prenotano ...</td>\n      <td>0.037538</td>\n      <td>1393208983717023745</td>\n      <td>mcsm878</td>\n    </tr>\n  </tbody>\n</table>\n</div>"
     },
     "execution_count": 9,
     "metadata": {},
     "output_type": "execute_result"
    }
   ],
   "source": [
    "res = results.merge(df, on=\"text\", how=\"left\")\n",
    "res.head()"
   ]
  },
  {
   "cell_type": "code",
   "execution_count": 13,
   "id": "a095f9bf",
   "metadata": {},
   "outputs": [
    {
     "data": {
      "text/plain": [
       "2475108"
      ]
     },
     "execution_count": 13,
     "metadata": {},
     "output_type": "execute_result"
    }
   ],
   "source": [
    "len(res)"
   ]
  },
  {
   "cell_type": "code",
   "execution_count": 3,
   "outputs": [
    {
     "data": {
      "text/plain": "Text(0, 0.5, 'Toxicity score')"
     },
     "execution_count": 3,
     "metadata": {},
     "output_type": "execute_result"
    },
    {
     "data": {
      "text/plain": "<Figure size 432x288 with 1 Axes>",
      "image/png": "[encoded data removed]"
     },
     "metadata": {},
     "output_type": "display_data"
    }
   ],
   "source": [
    "# Import the libraries\n",
    "import matplotlib.pyplot as plt\n",
    "import seaborn as sns\n",
    "\n",
    "# matplotlib histogram\n",
    "plt.hist(results['toxicity'], color = 'blue', edgecolor = 'black', bins=20)\n",
    "\n",
    "# Add labels\n",
    "plt.title('Histogram of Toxicity')\n",
    "plt.xlabel('Value')\n",
    "plt.ylabel('Toxicity score')"
   ],
   "metadata": {
    "collapsed": false,
    "pycharm": {
     "name": "#%%\n"
    }
   }
  },
  {
   "cell_type": "code",
   "execution_count": 11,
   "outputs": [],
   "source": [
    "toxic = res[res[\"toxicity\"]>0.5]"
   ],
   "metadata": {
    "collapsed": false,
    "pycharm": {
     "name": "#%%\n"
    }
   }
  },
  {
   "cell_type": "code",
   "execution_count": 14,
   "outputs": [
    {
     "data": {
      "text/plain": "trincherov         127\nPiero42395724      126\nil_brigante07      101\nxenonian1           81\nGiovannaSandr16     80\nGraziel65255465     77\nAttyla91461568      73\nSakurauchi_Hime     66\ngaiagioiared        62\nmanu_etoile         55\nIAlianna_           55\nItalianoeRomano     54\nManuQ24916888       53\nvallegiorgio41      52\nPietro_Otto         49\ntiber_h             49\nrazorblack66        48\njobwithinternet     48\nPazuDaemon          48\nLPincia             48\nName: user_screen_name, dtype: int64"
     },
     "execution_count": 14,
     "metadata": {},
     "output_type": "execute_result"
    }
   ],
   "source": [
    "pd.Series(toxic[\"user_screen_name\"]).value_counts().sort_values(ascending=False)[:20]"
   ],
   "metadata": {
    "collapsed": false,
    "pycharm": {
     "name": "#%%\n"
    }
   }
  },
  {
   "cell_type": "code",
   "execution_count": 16,
   "outputs": [
    {
     "data": {
      "text/plain": "                                                      text  toxicity  \\\n1273     Una fila di poveri coglioni ipocondriaci del c...  0.713827   \n93893    Fate ridere 😂😂😂 l'unica cosa a -70° sono i vos...  0.655660   \n96295    Mi raccomando coglioni e ipocondriaci del caxx...  0.734456   \n114621   Leggete con attenzione queste chat. A tutti i ...  0.555084   \n122255   Andate a fare in culo, teste di cazzo. Meritat...  0.830203   \n...                                                    ...       ...   \n2367800  IlPrimatoN pensa te che presa per il culo. mil...  0.661131   \n2386756  Ho passato 1 anno di chemioterapia: mai masche...  0.553564   \n2388760  Una pillola per sterminare l'infante, una per ...  0.553564   \n2426945  Se esci alla fottuta aria aperta senza mascher...  0.553564   \n2444686  Godo nell'immaginare l'espressione delusa di t...  0.514951   \n\n                          id user_screen_name  \n1273     1367536157781860360  Sakurauchi_Hime  \n93893    1342866243771052032  Sakurauchi_Hime  \n96295    1363545101230891008  Sakurauchi_Hime  \n114621   1359574737211564041  Sakurauchi_Hime  \n122255   1372576593915297793  Sakurauchi_Hime  \n...                      ...              ...  \n2367800  1341525584644632577  Sakurauchi_Hime  \n2386756  1313077713297604608  Sakurauchi_Hime  \n2388760  1292185929940115458  Sakurauchi_Hime  \n2426945  1369690198553092097  Sakurauchi_Hime  \n2444686  1345452906846236673  Sakurauchi_Hime  \n\n[66 rows x 4 columns]",
      "text/html": "<div>\n<style scoped>\n    .dataframe tbody tr th:only-of-type {\n        vertical-align: middle;\n    }\n\n    .dataframe tbody tr th {\n        vertical-align: top;\n    }\n\n    .dataframe thead th {\n        text-align: right;\n    }\n</style>\n<table border=\"1\" class=\"dataframe\">\n  <thead>\n    <tr style=\"text-align: right;\">\n      <th></th>\n      <th>text</th>\n      <th>toxicity</th>\n      <th>id</th>\n      <th>user_screen_name</th>\n    </tr>\n  </thead>\n  <tbody>\n    <tr>\n      <th>1273</th>\n      <td>Una fila di poveri coglioni ipocondriaci del c...</td>\n      <td>0.713827</td>\n      <td>1367536157781860360</td>\n      <td>Sakurauchi_Hime</td>\n    </tr>\n    <tr>\n      <th>93893</th>\n      <td>Fate ridere 😂😂😂 l'unica cosa a -70° sono i vos...</td>\n      <td>0.655660</td>\n      <td>1342866243771052032</td>\n      <td>Sakurauchi_Hime</td>\n    </tr>\n    <tr>\n      <th>96295</th>\n      <td>Mi raccomando coglioni e ipocondriaci del caxx...</td>\n      <td>0.734456</td>\n      <td>1363545101230891008</td>\n      <td>Sakurauchi_Hime</td>\n    </tr>\n    <tr>\n      <th>114621</th>\n      <td>Leggete con attenzione queste chat. A tutti i ...</td>\n      <td>0.555084</td>\n      <td>1359574737211564041</td>\n      <td>Sakurauchi_Hime</td>\n    </tr>\n    <tr>\n      <th>122255</th>\n      <td>Andate a fare in culo, teste di cazzo. Meritat...</td>\n      <td>0.830203</td>\n      <td>1372576593915297793</td>\n      <td>Sakurauchi_Hime</td>\n    </tr>\n    <tr>\n      <th>...</th>\n      <td>...</td>\n      <td>...</td>\n      <td>...</td>\n      <td>...</td>\n    </tr>\n    <tr>\n      <th>2367800</th>\n      <td>IlPrimatoN pensa te che presa per il culo. mil...</td>\n      <td>0.661131</td>\n      <td>1341525584644632577</td>\n      <td>Sakurauchi_Hime</td>\n    </tr>\n    <tr>\n      <th>2386756</th>\n      <td>Ho passato 1 anno di chemioterapia: mai masche...</td>\n      <td>0.553564</td>\n      <td>1313077713297604608</td>\n      <td>Sakurauchi_Hime</td>\n    </tr>\n    <tr>\n      <th>2388760</th>\n      <td>Una pillola per sterminare l'infante, una per ...</td>\n      <td>0.553564</td>\n      <td>1292185929940115458</td>\n      <td>Sakurauchi_Hime</td>\n    </tr>\n    <tr>\n      <th>2426945</th>\n      <td>Se esci alla fottuta aria aperta senza mascher...</td>\n      <td>0.553564</td>\n      <td>1369690198553092097</td>\n      <td>Sakurauchi_Hime</td>\n    </tr>\n    <tr>\n      <th>2444686</th>\n      <td>Godo nell'immaginare l'espressione delusa di t...</td>\n      <td>0.514951</td>\n      <td>1345452906846236673</td>\n      <td>Sakurauchi_Hime</td>\n    </tr>\n  </tbody>\n</table>\n<p>66 rows × 4 columns</p>\n</div>"
     },
     "execution_count": 16,
     "metadata": {},
     "output_type": "execute_result"
    }
   ],
   "source": [
    "toxic[toxic[\"user_screen_name\"]==\"Sakurauchi_Hime\"]"
   ],
   "metadata": {
    "collapsed": false,
    "pycharm": {
     "name": "#%%\n"
    }
   }
  },
  {
   "cell_type": "code",
   "execution_count": null,
   "outputs": [],
   "source": [],
   "metadata": {
    "collapsed": false,
    "pycharm": {
     "name": "#%%\n"
    }
   }
  }
 ],
 "metadata": {
  "kernelspec": {
   "display_name": "Python 3 (ipykernel)",
   "language": "python",
   "name": "python3"
  },
  "language_info": {
   "codemirror_mode": {
    "name": "ipython",
    "version": 3
   },
   "file_extension": ".py",
   "mimetype": "text/x-python",
   "name": "python",
   "nbconvert_exporter": "python",
   "pygments_lexer": "ipython3",
   "version": "3.8.11"
  }
 },
 "nbformat": 4,
 "nbformat_minor": 5
}