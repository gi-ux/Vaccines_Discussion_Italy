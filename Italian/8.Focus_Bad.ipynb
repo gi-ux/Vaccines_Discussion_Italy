{
 "cells": [
  {
   "cell_type": "code",
   "execution_count": 1,
   "id": "93de4a9b",
   "metadata": {
    "pycharm": {
     "name": "#%%\n"
    }
   },
   "outputs": [],
   "source": [
    "import pandas as pd\n",
    "import matplotlib.pyplot as plt\n",
    "import numpy as np\n",
    "import igraph as ig\n",
    "import networkx as nx\n",
    "import leidenalg as la\n",
    "from operator import itemgetter\n",
    "path_files = \"C:/Users/gianl/Desktop/Gi/Supsi/Vaccines_Discussion_Italy/Laura/Files/\""
   ]
  },
  {
   "cell_type": "code",
   "execution_count": 2,
   "outputs": [
    {
     "data": {
      "text/plain": "                   user  community\n0          planetpaul65          0\n1           isentinelli          0\n2            Grace_1207          7\n3          LidaSezOlbia          7\n4       MarisaMinervini          1\n...                 ...        ...\n216211    legatumori_to        101\n216212         ExmoorOn          3\n216213     Dado46544020          0\n216214   BernardMalcom2          3\n216215    stillwithkooo          1\n\n[216216 rows x 2 columns]",
      "text/html": "<div>\n<style scoped>\n    .dataframe tbody tr th:only-of-type {\n        vertical-align: middle;\n    }\n\n    .dataframe tbody tr th {\n        vertical-align: top;\n    }\n\n    .dataframe thead th {\n        text-align: right;\n    }\n</style>\n<table border=\"1\" class=\"dataframe\">\n  <thead>\n    <tr style=\"text-align: right;\">\n      <th></th>\n      <th>user</th>\n      <th>community</th>\n    </tr>\n  </thead>\n  <tbody>\n    <tr>\n      <th>0</th>\n      <td>planetpaul65</td>\n      <td>0</td>\n    </tr>\n    <tr>\n      <th>1</th>\n      <td>isentinelli</td>\n      <td>0</td>\n    </tr>\n    <tr>\n      <th>2</th>\n      <td>Grace_1207</td>\n      <td>7</td>\n    </tr>\n    <tr>\n      <th>3</th>\n      <td>LidaSezOlbia</td>\n      <td>7</td>\n    </tr>\n    <tr>\n      <th>4</th>\n      <td>MarisaMinervini</td>\n      <td>1</td>\n    </tr>\n    <tr>\n      <th>...</th>\n      <td>...</td>\n      <td>...</td>\n    </tr>\n    <tr>\n      <th>216211</th>\n      <td>legatumori_to</td>\n      <td>101</td>\n    </tr>\n    <tr>\n      <th>216212</th>\n      <td>ExmoorOn</td>\n      <td>3</td>\n    </tr>\n    <tr>\n      <th>216213</th>\n      <td>Dado46544020</td>\n      <td>0</td>\n    </tr>\n    <tr>\n      <th>216214</th>\n      <td>BernardMalcom2</td>\n      <td>3</td>\n    </tr>\n    <tr>\n      <th>216215</th>\n      <td>stillwithkooo</td>\n      <td>1</td>\n    </tr>\n  </tbody>\n</table>\n<p>216216 rows × 2 columns</p>\n</div>"
     },
     "execution_count": 2,
     "metadata": {},
     "output_type": "execute_result"
    }
   ],
   "source": [
    "deg = pd.read_csv(path_files + \"degree.csv\")\n",
    "louvain = pd.read_csv(path_files + \"louvain.csv\")\n",
    "leiden = pd.read_csv(path_files + \"leiden.csv\")\n",
    "leiden"
   ],
   "metadata": {
    "collapsed": false,
    "pycharm": {
     "name": "#%%\n"
    }
   }
  },
  {
   "cell_type": "code",
   "execution_count": 6,
   "id": "cd4fb042",
   "metadata": {
    "pycharm": {
     "name": "#%%\n"
    }
   },
   "outputs": [
    {
     "data": {
      "text/plain": "                  user  degree\n0       RobertoBurioni   20063\n1        CottarelliCPI    7527\n2        Cartabellotta    5224\n3               valy_s    4939\n4         Agenzia_Ansa    4918\n...                ...     ...\n216211   legatumori_to       1\n216212        ExmoorOn       1\n216213    Dado46544020       1\n216214  BernardMalcom2       1\n216215   stillwithkooo       1\n\n[216216 rows x 2 columns]",
      "text/html": "<div>\n<style scoped>\n    .dataframe tbody tr th:only-of-type {\n        vertical-align: middle;\n    }\n\n    .dataframe tbody tr th {\n        vertical-align: top;\n    }\n\n    .dataframe thead th {\n        text-align: right;\n    }\n</style>\n<table border=\"1\" class=\"dataframe\">\n  <thead>\n    <tr style=\"text-align: right;\">\n      <th></th>\n      <th>user</th>\n      <th>degree</th>\n    </tr>\n  </thead>\n  <tbody>\n    <tr>\n      <th>0</th>\n      <td>RobertoBurioni</td>\n      <td>20063</td>\n    </tr>\n    <tr>\n      <th>1</th>\n      <td>CottarelliCPI</td>\n      <td>7527</td>\n    </tr>\n    <tr>\n      <th>2</th>\n      <td>Cartabellotta</td>\n      <td>5224</td>\n    </tr>\n    <tr>\n      <th>3</th>\n      <td>valy_s</td>\n      <td>4939</td>\n    </tr>\n    <tr>\n      <th>4</th>\n      <td>Agenzia_Ansa</td>\n      <td>4918</td>\n    </tr>\n    <tr>\n      <th>...</th>\n      <td>...</td>\n      <td>...</td>\n    </tr>\n    <tr>\n      <th>216211</th>\n      <td>legatumori_to</td>\n      <td>1</td>\n    </tr>\n    <tr>\n      <th>216212</th>\n      <td>ExmoorOn</td>\n      <td>1</td>\n    </tr>\n    <tr>\n      <th>216213</th>\n      <td>Dado46544020</td>\n      <td>1</td>\n    </tr>\n    <tr>\n      <th>216214</th>\n      <td>BernardMalcom2</td>\n      <td>1</td>\n    </tr>\n    <tr>\n      <th>216215</th>\n      <td>stillwithkooo</td>\n      <td>1</td>\n    </tr>\n  </tbody>\n</table>\n<p>216216 rows × 2 columns</p>\n</div>"
     },
     "execution_count": 6,
     "metadata": {},
     "output_type": "execute_result"
    }
   ],
   "source": [
    "deg"
   ]
  },
  {
   "cell_type": "code",
   "execution_count": 3,
   "id": "8067d67f",
   "metadata": {
    "pycharm": {
     "name": "#%%\n"
    }
   },
   "outputs": [],
   "source": [
    "df = louvain.merge(deg, left_on=\"name\", right_on=\"user\", how=\"left\")[[\"name\", \"community\", \"degree\"]]\n",
    "df2 = leiden.merge(deg, left_on=\"user\", right_on=\"user\", how=\"left\")[[\"user\", \"community\", \"degree\"]]"
   ]
  },
  {
   "cell_type": "code",
   "execution_count": 4,
   "id": "228ede25",
   "metadata": {
    "scrolled": false,
    "pycharm": {
     "name": "#%%\n"
    }
   },
   "outputs": [
    {
     "name": "stdout",
     "output_type": "stream",
     "text": [
      "Le prime 10 community contengono il 91.77% degli utenti\n"
     ]
    },
    {
     "data": {
      "text/plain": "<Figure size 432x288 with 1 Axes>",
      "image/png": "[encoded data removed]"
     },
     "metadata": {
      "needs_background": "light"
     },
     "output_type": "display_data"
    }
   ],
   "source": [
    "val = pd.Series(louvain[\"community\"]).value_counts().sort_values(ascending=False)\n",
    "total = 0\n",
    "for i in val[:10]:\n",
    "    total = total + i\n",
    "print(f\"Le prime 10 community contengono il {round(total/len(louvain)*100,2)}% degli utenti\")\n",
    "fig = plt.figure() #figsize=(14, 8)\n",
    "ax = val[:10].plot(kind='barh', color='plum', fig=(14,14)) #orange #lightseagreen\n",
    "ax.set_title('Number of nodes per community (top 10)', fontsize=15)\n",
    "ax.invert_yaxis()\n",
    "ax.set_ylabel(\"Community number\")\n",
    "ax.set_xlabel(\"Number of Nodes\")\n",
    "plt.show()"
   ]
  },
  {
   "cell_type": "code",
   "execution_count": 5,
   "id": "1cc2bdc6",
   "metadata": {
    "pycharm": {
     "name": "#%%\n"
    }
   },
   "outputs": [
    {
     "name": "stdout",
     "output_type": "stream",
     "text": [
      "Community 0:\n",
      "RobertoBurioni\n",
      "CottarelliCPI\n",
      "Cartabellotta\n",
      "lucianocapone\n",
      "Quirinale\n",
      "GiacomoGorini\n",
      "robersperanza\n",
      "jacopo_iacoboni\n",
      "GassmanGassmann\n",
      "HuffPostItalia\n",
      "antonellaviol17\n",
      "chetempochefa\n",
      "Iperbole_\n",
      "matteorenzi\n",
      "carloalberto\n",
      "riotta\n",
      "-----------\n",
      "Community 2:\n",
      "MicheleMazzell5\n",
      "gloquenzi\n",
      "lercionotizie\n",
      "Zziagenio78\n",
      "holyernia\n",
      "bernaftaustin\n",
      "Dio\n",
      "Vivianabillo\n",
      "Barbaramenteme\n",
      "Tremenoventi\n",
      "demonscamealive\n",
      "felice_chi\n",
      "sempreciro\n",
      "yleniaindenial\n",
      "LaBiaBi11\n",
      "amaricord\n",
      "-----------\n",
      "Community 4:\n",
      "valy_s\n",
      "pbecchi\n",
      "intuslegens\n",
      "MinervaMcGrani1\n",
      "a_meluzzi\n",
      "RadioSavana\n",
      "ImolaOggi\n",
      "BarbaraRaval\n",
      "noitre32\n",
      "ladyonorato\n",
      "borghi_claudio\n",
      "miia_2018\n",
      "cris_cersei\n",
      "TarroGiulio\n",
      "byoblu\n",
      "fdragoni\n",
      "BarillariDav\n",
      "matteosalvinimi\n",
      "FmMosca\n",
      "GuidoCrosetto\n",
      "NicolaPorro\n",
      "francescatotolo\n",
      "LaVeritaWeb\n",
      "Mr_Ozymandias\n",
      "25O319\n",
      "lameduck1960\n",
      "MinutemanItaly\n",
      "Libero_official\n",
      "barbarab1974\n",
      "EliseiNicole\n",
      "Yi_Benevolence\n",
      "-----------\n",
      "Community 3:\n",
      "Agenzia_Ansa\n",
      "Corriere\n",
      "repubblica\n",
      "fattoquotidiano\n",
      "SkyTG24\n",
      "Adnkronos\n",
      "ultimenotizie\n",
      "GiuseppeConteIT\n",
      "stanzaselvaggia\n",
      "La7tv\n",
      "sole24ore\n",
      "TgLa7\n",
      "MediasetTgcom24\n",
      "LaStampa\n",
      "RaiNews\n",
      "reportrai3\n"
     ]
    }
   ],
   "source": [
    "df.sort_values(by=[\"degree\"], ascending=False, inplace=True)\n",
    "comm_0 = list(df[df[\"community\"]==0][\"name\"])\n",
    "comm_2 = list(df[df[\"community\"]==2][\"name\"])\n",
    "comm_4 = list(df[df[\"community\"]==4][\"name\"])\n",
    "comm_3 = list(df[df[\"community\"]==3][\"name\"])\n",
    "cont = 0\n",
    "value = 15\n",
    "\n",
    "print(\"Community 0:\")\n",
    "for item in comm_0:\n",
    "    print(item)\n",
    "    if cont == value:\n",
    "        break\n",
    "    cont+=1\n",
    "cont = 0\n",
    "print(\"-----------\")\n",
    "print(\"Community 2:\")\n",
    "for item in comm_2:\n",
    "    print(item)\n",
    "    if cont == value:\n",
    "        break\n",
    "    cont += 1\n",
    "cont = 0\n",
    "print(\"-----------\")\n",
    "print(\"Community 4:\")\n",
    "for item in comm_4:\n",
    "    print(item)\n",
    "    if cont == 30:\n",
    "        break\n",
    "    cont += 1\n",
    "cont = 0\n",
    "print(\"-----------\")\n",
    "print(\"Community 3:\")\n",
    "for item in comm_3:\n",
    "    print(item)\n",
    "    if cont == value:\n",
    "        break\n",
    "    cont += 1\n",
    "cont = 0"
   ]
  },
  {
   "cell_type": "code",
   "execution_count": 6,
   "outputs": [
    {
     "name": "stdout",
     "output_type": "stream",
     "text": [
      "Community 0:\n",
      "RobertoBurioni\n",
      "CottarelliCPI\n",
      "Cartabellotta\n",
      "lucianocapone\n",
      "Quirinale\n",
      "GiacomoGorini\n",
      "robersperanza\n",
      "jacopo_iacoboni\n",
      "GassmanGassmann\n",
      "antonellaviol17\n",
      "chetempochefa\n",
      "gloquenzi\n",
      "Iperbole_\n",
      "matteorenzi\n",
      "carloalberto\n",
      "lercionotizie\n",
      "-----------\n",
      "Community 2:\n",
      "lefrasidiosho\n",
      "MicheleMazzell5\n",
      "Zziagenio78\n",
      "holyernia\n",
      "bernaftaustin\n",
      "Vivianabillo\n",
      "Barbaramenteme\n",
      "Tremenoventi\n",
      "demonscamealive\n",
      "felice_chi\n",
      "sempreciro\n",
      "yleniaindenial\n",
      "LaBiaBi11\n",
      "amaricord\n",
      "cremino01\n",
      "perchetendenza\n",
      "-----------\n",
      "Community 4:\n",
      "valy_s\n",
      "pbecchi\n",
      "intuslegens\n",
      "MinervaMcGrani1\n",
      "a_meluzzi\n",
      "RadioSavana\n",
      "ImolaOggi\n",
      "BarbaraRaval\n",
      "noitre32\n",
      "ladyonorato\n",
      "borghi_claudio\n",
      "miia_2018\n",
      "cris_cersei\n",
      "TarroGiulio\n",
      "byoblu\n",
      "fdragoni\n",
      "BarillariDav\n",
      "matteosalvinimi\n",
      "FmMosca\n",
      "GuidoCrosetto\n",
      "NicolaPorro\n",
      "francescatotolo\n",
      "LaVeritaWeb\n",
      "Mr_Ozymandias\n",
      "25O319\n",
      "lameduck1960\n",
      "MinutemanItaly\n",
      "Libero_official\n",
      "barbarab1974\n",
      "EliseiNicole\n",
      "Yi_Benevolence\n",
      "-----------\n",
      "Community 3:\n",
      "Agenzia_Ansa\n",
      "Corriere\n",
      "repubblica\n",
      "HuffPostItalia\n",
      "SkyTG24\n",
      "Adnkronos\n",
      "ultimenotizie\n",
      "La7tv\n",
      "sole24ore\n",
      "TgLa7\n",
      "MediasetTgcom24\n",
      "LaStampa\n",
      "RaiNews\n",
      "fanpage\n",
      "generacomplotti\n",
      "ilmessaggeroit\n"
     ]
    }
   ],
   "source": [
    "df2.sort_values(by=[\"degree\"], ascending=False, inplace=True)\n",
    "comm_0 = list(df2[df2[\"community\"]==0][\"user\"])\n",
    "comm_2 = list(df2[df2[\"community\"]==1][\"user\"])\n",
    "comm_4 = list(df2[df2[\"community\"]==2][\"user\"])\n",
    "comm_3 = list(df2[df2[\"community\"]==3][\"user\"])\n",
    "cont = 0\n",
    "value = 15\n",
    "\n",
    "print(\"Community 0:\")\n",
    "for item in comm_0:\n",
    "    print(item)\n",
    "    if cont == value:\n",
    "        break\n",
    "    cont+=1\n",
    "cont = 0\n",
    "print(\"-----------\")\n",
    "print(\"Community 2:\")\n",
    "for item in comm_2:\n",
    "    print(item)\n",
    "    if cont == value:\n",
    "        break\n",
    "    cont += 1\n",
    "cont = 0\n",
    "print(\"-----------\")\n",
    "print(\"Community 4:\")\n",
    "for item in comm_4:\n",
    "    print(item)\n",
    "    if cont == 30:\n",
    "        break\n",
    "    cont += 1\n",
    "cont = 0\n",
    "print(\"-----------\")\n",
    "print(\"Community 3:\")\n",
    "for item in comm_3:\n",
    "    print(item)\n",
    "    if cont == value:\n",
    "        break\n",
    "    cont += 1\n",
    "cont = 0"
   ],
   "metadata": {
    "collapsed": false,
    "pycharm": {
     "name": "#%%\n"
    }
   }
  },
  {
   "cell_type": "code",
   "execution_count": 35,
   "outputs": [
    {
     "data": {
      "text/plain": "          name  community  degree\n1854  ZioKlint          4    1230",
      "text/html": "<div>\n<style scoped>\n    .dataframe tbody tr th:only-of-type {\n        vertical-align: middle;\n    }\n\n    .dataframe tbody tr th {\n        vertical-align: top;\n    }\n\n    .dataframe thead th {\n        text-align: right;\n    }\n</style>\n<table border=\"1\" class=\"dataframe\">\n  <thead>\n    <tr style=\"text-align: right;\">\n      <th></th>\n      <th>name</th>\n      <th>community</th>\n      <th>degree</th>\n    </tr>\n  </thead>\n  <tbody>\n    <tr>\n      <th>1854</th>\n      <td>ZioKlint</td>\n      <td>4</td>\n      <td>1230</td>\n    </tr>\n  </tbody>\n</table>\n</div>"
     },
     "execution_count": 35,
     "metadata": {},
     "output_type": "execute_result"
    }
   ],
   "source": [
    "df[df[\"name\"]==\"ZioKlint\"]"
   ],
   "metadata": {
    "collapsed": false,
    "pycharm": {
     "name": "#%%\n"
    }
   }
  },
  {
   "cell_type": "code",
   "execution_count": 62,
   "id": "9cd67832",
   "metadata": {
    "pycharm": {
     "name": "#%%\n"
    }
   },
   "outputs": [
    {
     "name": "stdout",
     "output_type": "stream",
     "text": [
      "38.86718971882988\n"
     ]
    }
   ],
   "source": [
    "x = df2[df2[\"community\"]==2]\n",
    "print(np.mean(list(x[\"degree\"])))\n",
    "for i in x.itertuples():\n",
    "    if i.user == \"gallina_di\":\n",
    "        print(i.user)\n",
    "        print(i.degree)"
   ]
  },
  {
   "cell_type": "code",
   "execution_count": 162,
   "outputs": [
    {
     "data": {
      "text/plain": "                   name\n0          planetpaul65\n1           isentinelli\n2            Grace_1207\n3          LidaSezOlbia\n5              milio967\n...                 ...\n213767  DavideGabriell7\n214363          GPDP_IT\n214731       Alice__why\n214844        NiusMarco\n215459         SudRadio\n\n[17943 rows x 1 columns]",
      "text/html": "<div>\n<style scoped>\n    .dataframe tbody tr th:only-of-type {\n        vertical-align: middle;\n    }\n\n    .dataframe tbody tr th {\n        vertical-align: top;\n    }\n\n    .dataframe thead th {\n        text-align: right;\n    }\n</style>\n<table border=\"1\" class=\"dataframe\">\n  <thead>\n    <tr style=\"text-align: right;\">\n      <th></th>\n      <th>name</th>\n    </tr>\n  </thead>\n  <tbody>\n    <tr>\n      <th>0</th>\n      <td>planetpaul65</td>\n    </tr>\n    <tr>\n      <th>1</th>\n      <td>isentinelli</td>\n    </tr>\n    <tr>\n      <th>2</th>\n      <td>Grace_1207</td>\n    </tr>\n    <tr>\n      <th>3</th>\n      <td>LidaSezOlbia</td>\n    </tr>\n    <tr>\n      <th>5</th>\n      <td>milio967</td>\n    </tr>\n    <tr>\n      <th>...</th>\n      <td>...</td>\n    </tr>\n    <tr>\n      <th>213767</th>\n      <td>DavideGabriell7</td>\n    </tr>\n    <tr>\n      <th>214363</th>\n      <td>GPDP_IT</td>\n    </tr>\n    <tr>\n      <th>214731</th>\n      <td>Alice__why</td>\n    </tr>\n    <tr>\n      <th>214844</th>\n      <td>NiusMarco</td>\n    </tr>\n    <tr>\n      <th>215459</th>\n      <td>SudRadio</td>\n    </tr>\n  </tbody>\n</table>\n<p>17943 rows × 1 columns</p>\n</div>"
     },
     "execution_count": 162,
     "metadata": {},
     "output_type": "execute_result"
    }
   ],
   "source": [
    "x = df[df[\"degree\"]>20][[\"name\"]]\n",
    "# .to_csv(r\"C:\\Users\\gianl\\Desktop\\Gi\\Supsi\\Vaccines_Discussion_Italy\\Laura\\Files\\to_follow.csv\",\n",
    "#                                      line_terminator=\"\\n\", encoding=\"utf-8\", index=False)\n",
    "x"
   ],
   "metadata": {
    "collapsed": false,
    "pycharm": {
     "name": "#%%\n"
    }
   }
  },
  {
   "cell_type": "code",
   "execution_count": null,
   "outputs": [],
   "source": [],
   "metadata": {
    "collapsed": false,
    "pycharm": {
     "name": "#%%\n"
    }
   }
  }
 ],
 "metadata": {
  "kernelspec": {
   "display_name": "Python 3",
   "language": "python",
   "name": "python3"
  },
  "language_info": {
   "codemirror_mode": {
    "name": "ipython",
    "version": 3
   },
   "file_extension": ".py",
   "mimetype": "text/x-python",
   "name": "python",
   "nbconvert_exporter": "python",
   "pygments_lexer": "ipython3",
   "version": "3.8.11"
  }
 },
 "nbformat": 4,
 "nbformat_minor": 5
}