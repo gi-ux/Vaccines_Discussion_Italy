{
 "cells": [
  {
   "cell_type": "code",
   "execution_count": 1,
   "metadata": {
    "id": "98ExKcmaktWg"
   },
   "outputs": [],
   "source": [
    "import pandas as pd\n",
    "import matplotlib.pyplot as plt\n",
    "import numpy as np\n",
    "import igraph as ig\n",
    "import leidenalg as la"
   ]
  },
  {
   "cell_type": "code",
   "execution_count": 2,
   "metadata": {
    "id": "416mOGiiYzSW"
   },
   "outputs": [],
   "source": [
    "destination_path = \"C:/Users/gianl/Desktop/Gi/Supsi/Vaccines_Discussion_Italy/Laura/Tweets/\""
   ]
  },
  {
   "cell_type": "markdown",
   "metadata": {
    "id": "3_kg4Kn0rCyN"
   },
   "source": [
    "## Retweets"
   ]
  },
  {
   "cell_type": "code",
   "execution_count": 3,
   "metadata": {
    "id": "ElYSHsQ-ZN3f"
   },
   "outputs": [],
   "source": [
    "retweets = pd.read_parquet(destination_path+'retweets.parquet', engine=\"fastparquet\")"
   ]
  },
  {
   "cell_type": "markdown",
   "metadata": {
    "id": "455_-nRTpzvd"
   },
   "source": [
    "# NETWORK"
   ]
  },
  {
   "cell_type": "code",
   "execution_count": 4,
   "metadata": {
    "id": "UG9ccu--miC3"
   },
   "outputs": [],
   "source": [
    "import seaborn as sns\n",
    "import time\n",
    "import re\n",
    "import networkx as nx\n",
    "from operator import itemgetter\n",
    "import warnings\n",
    "import matplotlib.cm as mcm\n",
    "import community\n",
    "from community import community_louvain as cm\n",
    "# warnings.filterwarnings('ignore')"
   ]
  },
  {
   "cell_type": "code",
   "execution_count": 5,
   "metadata": {
    "colab": {
     "base_uri": "https://localhost:8080/"
    },
    "id": "vtghlztdmiC4",
    "outputId": "9dcf2ad5-2908-476a-9c4d-b3a84f03da94"
   },
   "outputs": [
    {
     "name": "stdout",
     "output_type": "stream",
     "text": [
      "DiGraph with 216216 nodes and 1409724 edges\n"
     ]
    }
   ],
   "source": [
    "retweets_graph = nx.from_pandas_edgelist(retweets,'user_screen_name','rt_user_screen_name', create_using=nx.DiGraph())\n",
    "print(nx.info(retweets_graph))"
   ]
  },
  {
   "cell_type": "code",
   "execution_count": 6,
   "metadata": {
    "id": "sFuhbeBUmiC5"
   },
   "outputs": [],
   "source": [
    "degree_dict = dict(retweets_graph.degree(retweets_graph.nodes()))\n",
    "sorted_degree = sorted(degree_dict.items(), key=itemgetter(1), reverse=True)"
   ]
  },
  {
   "cell_type": "code",
   "execution_count": 7,
   "metadata": {
    "id": "tZx_vwakmiC6"
   },
   "outputs": [],
   "source": [
    "in_degree_dict = dict(retweets_graph.in_degree(retweets_graph.nodes()))\n",
    "sorted_in_degree = sorted(in_degree_dict.items(), key=itemgetter(1), reverse=True)"
   ]
  },
  {
   "cell_type": "code",
   "execution_count": 8,
   "metadata": {
    "id": "oyGSAPhGmiC6"
   },
   "outputs": [],
   "source": [
    "out_degree_dict = dict(retweets_graph.out_degree(retweets_graph.nodes()))\n",
    "sorted_out_degree = sorted(out_degree_dict.items(), key=itemgetter(1), reverse=True)"
   ]
  },
  {
   "cell_type": "markdown",
   "metadata": {
    "id": "KtkC5tOqmiC7"
   },
   "source": [
    "## Communities with Louvain modularity"
   ]
  },
  {
   "cell_type": "code",
   "execution_count": 9,
   "metadata": {
    "colab": {
     "base_uri": "https://localhost:8080/"
    },
    "id": "_3d_MzQ5miC8",
    "outputId": "68db1bf7-8244-461a-bf46-b4c37e83b515"
   },
   "outputs": [
    {
     "name": "stdout",
     "output_type": "stream",
     "text": [
      "Graph with 216216 nodes and 1394787 edges\n"
     ]
    }
   ],
   "source": [
    "retweets_graph_und = nx.from_pandas_edgelist(retweets,'user_screen_name','rt_user_screen_name')\n",
    "print(nx.info(retweets_graph_und))"
   ]
  },
  {
   "cell_type": "code",
   "execution_count": 10,
   "metadata": {
    "id": "8sp2eWHPmiC8"
   },
   "outputs": [],
   "source": [
    "best_part = cm.best_partition(retweets_graph_und, random_state=11)"
   ]
  },
  {
   "cell_type": "code",
   "execution_count": 16,
   "metadata": {},
   "outputs": [
    {
     "data": {
      "application/vnd.jupyter.widget-view+json": {
       "model_id": "b000b8bd89784e3c9bc47e817200969a",
       "version_major": 2,
       "version_minor": 0
      },
      "text/plain": [
       "HBox(children=(HTML(value=''), FloatProgress(value=0.0, max=216216.0), HTML(value='')))"
      ]
     },
     "metadata": {},
     "output_type": "display_data"
    },
    {
     "name": "stdout",
     "output_type": "stream",
     "text": [
      "\n"
     ]
    }
   ],
   "source": [
    "from tqdm.notebook import tqdm\n",
    "lst_name = []\n",
    "lst_index = []\n",
    "for i in tqdm(best_part):\n",
    "    lst_name.append(i)\n",
    "    lst_index.append(best_part.get(i))\n",
    "pd.DataFrame(list(zip(lst_name, lst_index)), columns=[\"name\", \"community\"]).to_csv(\"C:/Users/gianl/Desktop/Gi/Supsi/MartaLauraGiada/Laura/Files/louvain.csv\", encoding=\"utf-8\", line_terminator=\"\\n\", index=False)"
   ]
  },
  {
   "cell_type": "code",
   "execution_count": 11,
   "metadata": {},
   "outputs": [
    {
     "data": {
      "text/plain": [
       "0.46293066238257996"
      ]
     },
     "execution_count": 11,
     "metadata": {},
     "output_type": "execute_result"
    }
   ],
   "source": [
    "import networkx.algorithms.community as nx_comm\n",
    "nx_comm.modularity(retweets_graph_und, nx_comm.label_propagation_communities(retweets_graph_und))"
   ]
  }
 ],
 "metadata": {
  "colab": {
   "name": "Retweets_network.ipynb",
   "provenance": []
  },
  "kernelspec": {
   "display_name": "Python 3",
   "language": "python",
   "name": "python3"
  },
  "language_info": {
   "codemirror_mode": {
    "name": "ipython",
    "version": 3
   },
   "file_extension": ".py",
   "mimetype": "text/x-python",
   "name": "python",
   "nbconvert_exporter": "python",
   "pygments_lexer": "ipython3",
   "version": "3.8.11"
  }
 },
 "nbformat": 4,
 "nbformat_minor": 1
}
