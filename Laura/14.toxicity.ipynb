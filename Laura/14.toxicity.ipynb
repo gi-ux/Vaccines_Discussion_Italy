{
 "cells": [
  {
   "cell_type": "code",
   "execution_count": 1,
   "id": "b2e2c77c",
   "metadata": {
    "pycharm": {
     "name": "#%%\n"
    }
   },
   "outputs": [],
   "source": [
    "import tweepy\n",
    "import json\n",
    "import pandas as pd\n",
    "from perspective import PerspectiveAPI\n",
    "from googleapiclient import discovery\n",
    "import numpy as np\n",
    "import re\n",
    "import time\n",
    "from tqdm.notebook import tqdm\n",
    "path_files =\"C:/Users/gianl/Desktop/Gi/Supsi/Vaccines_Discussion_Italy/Laura/Files/\"\n",
    "path_data = \"C:/Users/gianl/Desktop/Gi/Supsi/Vaccines_Discussion_Italy/Laura/Tweets/\""
   ]
  },
  {
   "cell_type": "code",
   "execution_count": 2,
   "id": "2ff83793",
   "metadata": {
    "pycharm": {
     "name": "#%%\n"
    }
   },
   "outputs": [],
   "source": [
    "jsonFile = open(path_files + 'auth.json', 'r')\n",
    "config = json.load(jsonFile)\n",
    "jsonFile.close()\n",
    "API_KEY = config[\"api_key_1\"]"
   ]
  },
  {
   "cell_type": "markdown",
   "id": "2b43990a",
   "metadata": {
    "pycharm": {
     "name": "#%% md\n"
    }
   },
   "source": [
    "# Clean text and write"
   ]
  },
  {
   "cell_type": "code",
   "execution_count": 3,
   "id": "a62a95bb",
   "metadata": {
    "pycharm": {
     "name": "#%%\n"
    }
   },
   "outputs": [],
   "source": [
    "strng = \"@Michela sei #scema? si: https://google.com\""
   ]
  },
  {
   "cell_type": "code",
   "execution_count": 4,
   "id": "e7567c97",
   "metadata": {
    "pycharm": {
     "name": "#%%\n"
    }
   },
   "outputs": [],
   "source": [
    "def clean(x: str):\n",
    "    if (\"http\" in x):\n",
    "        x = re.sub(r'http\\S+', '',x)\n",
    "    x = re.sub('[@#$]', '', x)\n",
    "    x = re.sub('\\n', ' ', x)\n",
    "    return x"
   ]
  },
  {
   "cell_type": "code",
   "execution_count": 5,
   "id": "edf35a60",
   "metadata": {
    "pycharm": {
     "name": "#%%\n"
    }
   },
   "outputs": [
    {
     "data": {
      "text/plain": "'Michela sei scema? si: '"
     },
     "execution_count": 5,
     "metadata": {},
     "output_type": "execute_result"
    }
   ],
   "source": [
    "clean(strng)"
   ]
  },
  {
   "cell_type": "code",
   "execution_count": 3,
   "id": "ee1ccdf6",
   "metadata": {
    "pycharm": {
     "name": "#%%\n"
    }
   },
   "outputs": [],
   "source": [
    "df_bad = pd.read_csv(path_data + \"bad_activities.csv\")\n",
    "df_good = pd.read_csv(path_data + \"good_activities.csv\")\n",
    "df_suspended = pd.read_parquet(path_data + \"tweets_bad_suspended.parquet\", engine=\"fastparquet\")\n",
    "df_suspended_good= pd.read_parquet(path_data + \"tweets_good_suspended.parquet\", engine=\"fastparquet\")\n",
    "tweets = pd.read_parquet(path_data + \"tweets.parquet\", engine=\"fastparquet\")"
   ]
  },
  {
   "cell_type": "code",
   "execution_count": 40,
   "id": "19d7d7af",
   "metadata": {
    "pycharm": {
     "name": "#%%\n"
    }
   },
   "outputs": [],
   "source": [
    "# tweets.head()"
   ]
  },
  {
   "cell_type": "code",
   "execution_count": 92,
   "id": "8540a64b",
   "metadata": {
    "pycharm": {
     "name": "#%%\n"
    }
   },
   "outputs": [
    {
     "data": {
      "application/vnd.jupyter.widget-view+json": {
       "model_id": "7e106bc7323d4ceba8e92229ba2870fd",
       "version_major": 2,
       "version_minor": 0
      },
      "text/plain": [
       "HBox(children=(HTML(value=''), FloatProgress(value=0.0, max=4053201.0), HTML(value='')))"
      ]
     },
     "metadata": {},
     "output_type": "display_data"
    },
    {
     "name": "stdout",
     "output_type": "stream",
     "text": [
      "\n"
     ]
    }
   ],
   "source": [
    "# x = list(tweets[\"text\"])\n",
    "# y = list(tweets[\"id\"])\n",
    "# count = 0\n",
    "lst_id = []\n",
    "lst_text = []\n",
    "for i in tqdm(range(len(x))):\n",
    "    lst_id.append(y[i])\n",
    "    lst_text.append(clean(x[i]))\n",
    "pd.DataFrame(list(zip(lst_id,lst_text)),columns=[\"id\",\"text\"]).to_csv(\"C:/Users/gianl/Desktop/Gi/Supsi/Vaccines_Discussion_Italy/Laura/texts/df_cleaned.csv\",\n",
    "                                                                     line_terminator=\"\\n\", encoding=\"utf-8\", index=False)"
   ]
  },
  {
   "cell_type": "code",
   "execution_count": 2,
   "id": "5ff37a8a",
   "metadata": {
    "pycharm": {
     "name": "#%%\n"
    }
   },
   "outputs": [],
   "source": [
    "esempio = pd.read_csv(\"C:/Users/gianl/Desktop/Gi/Supsi/Vaccines_Discussion_Italy/Laura/texts/df_cleaned.csv\",\n",
    "                              lineterminator=\"\\n\", low_memory=False, encoding=\"utf-8\")"
   ]
  },
  {
   "cell_type": "code",
   "execution_count": 9,
   "id": "6da426d4",
   "metadata": {
    "pycharm": {
     "name": "#%%\n"
    }
   },
   "outputs": [
    {
     "data": {
      "application/vnd.jupyter.widget-view+json": {
       "model_id": "a18a5504e546453fbe7b90b4d3b5da6a",
       "version_major": 2,
       "version_minor": 0
      },
      "text/plain": [
       "HBox(children=(HTML(value=''), FloatProgress(value=0.0, max=1565714.0), HTML(value='')))"
      ]
     },
     "metadata": {},
     "output_type": "display_data"
    },
    {
     "name": "stdout",
     "output_type": "stream",
     "text": [
      "\n"
     ]
    }
   ],
   "source": [
    "lst_final = []\n",
    "x2 = list(set(esempio[\"text\"]))\n",
    "for i in tqdm(x2[1:]):\n",
    "    if len(i.split(\" \")) >= 4:\n",
    "        lst_final.append(i)"
   ]
  },
  {
   "cell_type": "code",
   "execution_count": 23,
   "id": "7202d7d1",
   "metadata": {
    "scrolled": true,
    "pycharm": {
     "name": "#%%\n"
    }
   },
   "outputs": [],
   "source": [
    "n = 11\n",
    "splited = [lst_final[i::n] for i in range(n)]\n"
   ]
  },
  {
   "cell_type": "code",
   "execution_count": 25,
   "id": "860de227",
   "metadata": {
    "pycharm": {
     "name": "#%%\n"
    }
   },
   "outputs": [],
   "source": [
    "count = 0\n",
    "for i in splited:\n",
    "    pd.DataFrame(i, columns=[\"text\"]).to_csv(f\"C:/Users/gianl/Desktop/Gi/Supsi/Vaccines_Discussion_Italy/Laura/texts/example_{count}.csv\",\n",
    "                           line_terminator=\"\\n\", index=False, encoding=\"utf-8\")\n",
    "    count = count + 1\n"
   ]
  },
  {
   "cell_type": "code",
   "execution_count": 12,
   "id": "a5651f22",
   "metadata": {
    "pycharm": {
     "name": "#%%\n"
    }
   },
   "outputs": [],
   "source": [
    "\n",
    "# esempio = pd.read_csv(\"C:/Users/gianl/Desktop/Gi/Supsi/Vaccines_Discussion_Italy/Laura/texts/example.csv\",\n",
    "#                               lineterminator=\"\\n\", low_memory=False, encoding=\"utf-8\")\n",
    "# esempio"
   ]
  },
  {
   "cell_type": "code",
   "execution_count": 87,
   "id": "997621f8",
   "metadata": {
    "pycharm": {
     "name": "#%%\n"
    }
   },
   "outputs": [],
   "source": [
    "# print(len(x2))\n",
    "# count = 0\n",
    "# for i in x2:\n",
    "#     if len(i.split(\" \")) < 4:\n",
    "#         count = count + 1\n",
    "#         print(i)\n",
    "# print(count)\n",
    "# 1499124 - 69376\n",
    "# 1500000 / 50000"
   ]
  },
  {
   "cell_type": "markdown",
   "id": "0a216b78",
   "metadata": {
    "pycharm": {
     "name": "#%% md\n"
    }
   },
   "source": [
    "# Classification"
   ]
  },
  {
   "cell_type": "code",
   "execution_count": 3,
   "id": "17ea1c3a",
   "metadata": {
    "scrolled": false,
    "pycharm": {
     "name": "#%%\n"
    }
   },
   "outputs": [],
   "source": [
    "# p = PerspectiveAPI(api_key=API_KEY)\n",
    "# results = []\n",
    "# for i in tqdm(texts):\n",
    "#     time.sleep(1)\n",
    "#     try:\n",
    "#         result = p.score(i)\n",
    "#         results.append(result[\"TOXICITY\"])\n",
    "#     except Exception as e:\n",
    "#         print(\"Error: \", e)"
   ]
  },
  {
   "cell_type": "code",
   "execution_count": 70,
   "id": "a9e18ec9",
   "metadata": {
    "pycharm": {
     "name": "#%%\n"
    }
   },
   "outputs": [
    {
     "name": "stdout",
     "output_type": "stream",
     "text": [
      "Primi 1000 tweet Good 0.03 Toxicity score\n",
      "Primi 1000 tweet Good susp 0.1 Toxicity score\n",
      "Primi 1000 tweet Bad susp 0.12 Toxicity score\n",
      "Primi 1000 tweet Bad 0.09 Toxicity score\n"
     ]
    }
   ],
   "source": [
    "print(f\"Primi 1000 tweet Good {0.03} Toxicity score\")\n",
    "print(f\"Primi 1000 tweet Good susp {0.10} Toxicity score\")\n",
    "print(f\"Primi 1000 tweet Bad susp {0.12} Toxicity score\")\n",
    "print(f\"Primi 1000 tweet Bad {0.09} Toxicity score\")"
   ]
  },
  {
   "cell_type": "code",
   "execution_count": 2,
   "id": "e2394a4d",
   "metadata": {
    "pycharm": {
     "name": "#%%\n"
    }
   },
   "outputs": [],
   "source": [
    "# client = discovery.build(\n",
    "#   \"commentanalyzer\",\n",
    "#   \"v1alpha1\",\n",
    "#   developerKey=API_KEY,\n",
    "#   discoveryServiceUrl=\"https://commentanalyzer.googleapis.com/$discovery/rest?version=v1alpha1\",\n",
    "#   static_discovery=False,\n",
    "# )\n",
    "\n",
    "# analyze_request = {\n",
    "#   'comment': { 'text': \"guarda, sei bravo!\"},\n",
    "#   'requestedAttributes': {'TOXICITY': {}}\n",
    "# }\n",
    "\n",
    "# response = client.comments().analyze(body=analyze_request).execute()\n",
    "# print(json.dumps(response, indent=2))"
   ]
  },
  {
   "cell_type": "code",
   "execution_count": null,
   "outputs": [],
   "source": [],
   "metadata": {
    "collapsed": false,
    "pycharm": {
     "name": "#%%\n"
    }
   }
  }
 ],
 "metadata": {
  "kernelspec": {
   "display_name": "Python 3",
   "language": "python",
   "name": "python3"
  },
  "language_info": {
   "codemirror_mode": {
    "name": "ipython",
    "version": 3
   },
   "file_extension": ".py",
   "mimetype": "text/x-python",
   "name": "python",
   "nbconvert_exporter": "python",
   "pygments_lexer": "ipython3",
   "version": "3.8.11"
  }
 },
 "nbformat": 4,
 "nbformat_minor": 5
}