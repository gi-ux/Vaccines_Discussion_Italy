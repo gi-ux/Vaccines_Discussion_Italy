{
 "cells": [
  {
   "cell_type": "code",
   "execution_count": 44,
   "metadata": {
    "id": "98ExKcmaktWg"
   },
   "outputs": [],
   "source": [
    "import pandas as pd\n",
    "import matplotlib.pyplot as plt\n",
    "import numpy as np\n",
    "import seaborn as sns\n",
    "import time\n",
    "import re\n",
    "import igraph as ig\n",
    "import leidenalg as la\n",
    "import networkx as nx\n",
    "from operator import itemgetter\n",
    "import warnings\n",
    "import matplotlib.cm as mcm\n",
    "import community\n",
    "from community import community_louvain as cm"
   ]
  },
  {
   "cell_type": "code",
   "execution_count": 2,
   "metadata": {
    "id": "416mOGiiYzSW"
   },
   "outputs": [],
   "source": [
    "destination_path = \"C:/Users/gianl/Desktop/Gi/Supsi/MartaLauraGiada/Laura/Tweets/\""
   ]
  },
  {
   "cell_type": "markdown",
   "metadata": {
    "id": "3_kg4Kn0rCyN"
   },
   "source": [
    "## Quotes (where screen name is available)"
   ]
  },
  {
   "cell_type": "code",
   "execution_count": 35,
   "metadata": {},
   "outputs": [
    {
     "data": {
      "text/html": [
       "<div>\n",
       "<style scoped>\n",
       "    .dataframe tbody tr th:only-of-type {\n",
       "        vertical-align: middle;\n",
       "    }\n",
       "\n",
       "    .dataframe tbody tr th {\n",
       "        vertical-align: top;\n",
       "    }\n",
       "\n",
       "    .dataframe thead th {\n",
       "        text-align: right;\n",
       "    }\n",
       "</style>\n",
       "<table border=\"1\" class=\"dataframe\">\n",
       "  <thead>\n",
       "    <tr style=\"text-align: right;\">\n",
       "      <th></th>\n",
       "      <th>id</th>\n",
       "      <th>id_str</th>\n",
       "      <th>created_at</th>\n",
       "      <th>user_id</th>\n",
       "      <th>user_screen_name</th>\n",
       "      <th>user_verified</th>\n",
       "      <th>user_created_at</th>\n",
       "      <th>text</th>\n",
       "      <th>source</th>\n",
       "      <th>coordinates</th>\n",
       "      <th>...</th>\n",
       "      <th>hashtags</th>\n",
       "      <th>symbols</th>\n",
       "      <th>user_mentions</th>\n",
       "      <th>urls</th>\n",
       "      <th>polls</th>\n",
       "      <th>media</th>\n",
       "      <th>user_tweets_count</th>\n",
       "      <th>user_friends_count</th>\n",
       "      <th>user_followers_count</th>\n",
       "      <th>quoted_screen_name</th>\n",
       "    </tr>\n",
       "  </thead>\n",
       "  <tbody>\n",
       "    <tr>\n",
       "      <th>0</th>\n",
       "      <td>1221728158371786752</td>\n",
       "      <td>1221728158371786752</td>\n",
       "      <td>Mon Jan 27 09:34:26 +0000 2020</td>\n",
       "      <td>836069429209227264</td>\n",
       "      <td>italyinkz</td>\n",
       "      <td>True</td>\n",
       "      <td>Mon Feb 27 04:24:20 +0000 2017</td>\n",
       "      <td>#27gennaio \\n\"Coltivare la Memoria è ancora og...</td>\n",
       "      <td>&lt;a href=\"https://mobile.twitter.com\" rel=\"nofo...</td>\n",
       "      <td>None</td>\n",
       "      <td>...</td>\n",
       "      <td>[{'text': '27gennaio', 'indices': [0, 10]}, {'...</td>\n",
       "      <td>[]</td>\n",
       "      <td>[]</td>\n",
       "      <td>[{'url': 'https://t.co/mlmAR0xufR', 'expanded_...</td>\n",
       "      <td>[]</td>\n",
       "      <td>[]</td>\n",
       "      <td>NaN</td>\n",
       "      <td>NaN</td>\n",
       "      <td>NaN</td>\n",
       "      <td>Quirinale</td>\n",
       "    </tr>\n",
       "    <tr>\n",
       "      <th>1</th>\n",
       "      <td>1221734125725540352</td>\n",
       "      <td>1221734125725540352</td>\n",
       "      <td>Mon Jan 27 09:58:08 +0000 2020</td>\n",
       "      <td>59720254</td>\n",
       "      <td>_teo777</td>\n",
       "      <td>False</td>\n",
       "      <td>Fri Jul 24 07:35:06 +0000 2009</td>\n",
       "      <td>Piove, novacse ladro!\\n\\n\"Avete fatto vincere\"...</td>\n",
       "      <td>&lt;a href=\"https://mobile.twitter.com\" rel=\"nofo...</td>\n",
       "      <td>None</td>\n",
       "      <td>...</td>\n",
       "      <td>[]</td>\n",
       "      <td>[]</td>\n",
       "      <td>[]</td>\n",
       "      <td>[{'url': 'https://t.co/RjXrEYu3yv', 'expanded_...</td>\n",
       "      <td>[]</td>\n",
       "      <td>[]</td>\n",
       "      <td>NaN</td>\n",
       "      <td>NaN</td>\n",
       "      <td>NaN</td>\n",
       "      <td>lameduck1960</td>\n",
       "    </tr>\n",
       "    <tr>\n",
       "      <th>2</th>\n",
       "      <td>1221731531640778752</td>\n",
       "      <td>1221731531640778752</td>\n",
       "      <td>Mon Jan 27 09:47:50 +0000 2020</td>\n",
       "      <td>2657061966</td>\n",
       "      <td>saradellamonaca</td>\n",
       "      <td>False</td>\n",
       "      <td>Fri Jul 18 16:20:52 +0000 2014</td>\n",
       "      <td>\"Coltivare la Memoria è ancora oggi un vaccino...</td>\n",
       "      <td>&lt;a href=\"http://twitter.com/download/android\" ...</td>\n",
       "      <td>None</td>\n",
       "      <td>...</td>\n",
       "      <td>[{'text': '27gennaio', 'indices': [227, 237]},...</td>\n",
       "      <td>[]</td>\n",
       "      <td>[]</td>\n",
       "      <td>[{'url': 'https://t.co/COW1n3Fkjk', 'expanded_...</td>\n",
       "      <td>[]</td>\n",
       "      <td>[]</td>\n",
       "      <td>NaN</td>\n",
       "      <td>NaN</td>\n",
       "      <td>NaN</td>\n",
       "      <td>Quirinale</td>\n",
       "    </tr>\n",
       "    <tr>\n",
       "      <th>3</th>\n",
       "      <td>1221725288196907010</td>\n",
       "      <td>1221725288196907010</td>\n",
       "      <td>Mon Jan 27 09:23:01 +0000 2020</td>\n",
       "      <td>245960120</td>\n",
       "      <td>Rog_2</td>\n",
       "      <td>False</td>\n",
       "      <td>Tue Feb 01 20:50:31 +0000 2011</td>\n",
       "      <td>Scherzi? NATURALMENTE è un virus messo a punto...</td>\n",
       "      <td>&lt;a href=\"https://mobile.twitter.com\" rel=\"nofo...</td>\n",
       "      <td>None</td>\n",
       "      <td>...</td>\n",
       "      <td>[]</td>\n",
       "      <td>[]</td>\n",
       "      <td>[]</td>\n",
       "      <td>[{'url': 'https://t.co/gMncn8kVvz', 'expanded_...</td>\n",
       "      <td>[]</td>\n",
       "      <td>[]</td>\n",
       "      <td>NaN</td>\n",
       "      <td>NaN</td>\n",
       "      <td>NaN</td>\n",
       "      <td>alinomilan</td>\n",
       "    </tr>\n",
       "    <tr>\n",
       "      <th>4</th>\n",
       "      <td>1221702926554583045</td>\n",
       "      <td>1221702926554583045</td>\n",
       "      <td>Mon Jan 27 07:54:10 +0000 2020</td>\n",
       "      <td>2569063746</td>\n",
       "      <td>elisabettacost8</td>\n",
       "      <td>False</td>\n",
       "      <td>Sun Jun 15 14:03:57 +0000 2014</td>\n",
       "      <td>Per il Morbillo il vaccino esiste sarebbe suff...</td>\n",
       "      <td>&lt;a href=\"http://twitter.com/download/android\" ...</td>\n",
       "      <td>None</td>\n",
       "      <td>...</td>\n",
       "      <td>[]</td>\n",
       "      <td>[]</td>\n",
       "      <td>[]</td>\n",
       "      <td>[{'url': 'https://t.co/LALAZBPYEo', 'expanded_...</td>\n",
       "      <td>[]</td>\n",
       "      <td>[]</td>\n",
       "      <td>NaN</td>\n",
       "      <td>NaN</td>\n",
       "      <td>NaN</td>\n",
       "      <td>A54ferraresi</td>\n",
       "    </tr>\n",
       "    <tr>\n",
       "      <th>...</th>\n",
       "      <td>...</td>\n",
       "      <td>...</td>\n",
       "      <td>...</td>\n",
       "      <td>...</td>\n",
       "      <td>...</td>\n",
       "      <td>...</td>\n",
       "      <td>...</td>\n",
       "      <td>...</td>\n",
       "      <td>...</td>\n",
       "      <td>...</td>\n",
       "      <td>...</td>\n",
       "      <td>...</td>\n",
       "      <td>...</td>\n",
       "      <td>...</td>\n",
       "      <td>...</td>\n",
       "      <td>...</td>\n",
       "      <td>...</td>\n",
       "      <td>...</td>\n",
       "      <td>...</td>\n",
       "      <td>...</td>\n",
       "      <td>...</td>\n",
       "    </tr>\n",
       "    <tr>\n",
       "      <th>192496</th>\n",
       "      <td>1394609382399397890</td>\n",
       "      <td>1394609382399397890</td>\n",
       "      <td>Tue May 18 11:02:42 +0000 2021</td>\n",
       "      <td>4540112892</td>\n",
       "      <td>LalliVincenzo</td>\n",
       "      <td>False</td>\n",
       "      <td>Sat Dec 12 18:38:55 +0000 2015</td>\n",
       "      <td>I nazi fasci tirano i dadi e sproloquiano...\\n...</td>\n",
       "      <td>&lt;a href=\"http://twitter.com/download/android\" ...</td>\n",
       "      <td>None</td>\n",
       "      <td>...</td>\n",
       "      <td>[]</td>\n",
       "      <td>[]</td>\n",
       "      <td>[]</td>\n",
       "      <td>[{'url': 'https://t.co/Vz56I6q2Yv', 'expanded_...</td>\n",
       "      <td>[]</td>\n",
       "      <td>[]</td>\n",
       "      <td>93448.0</td>\n",
       "      <td>8540.0</td>\n",
       "      <td>7781.0</td>\n",
       "      <td>GiovaValentini</td>\n",
       "    </tr>\n",
       "    <tr>\n",
       "      <th>192497</th>\n",
       "      <td>1394609717150986242</td>\n",
       "      <td>1394609717150986242</td>\n",
       "      <td>Tue May 18 11:04:01 +0000 2021</td>\n",
       "      <td>1031670196342325249</td>\n",
       "      <td>augusto8589</td>\n",
       "      <td>False</td>\n",
       "      <td>Mon Aug 20 22:31:57 +0000 2018</td>\n",
       "      <td>@BimbiMeb Ad esempio, la cogliona con la bandi...</td>\n",
       "      <td>&lt;a href=\"https://mobile.twitter.com\" rel=\"nofo...</td>\n",
       "      <td>None</td>\n",
       "      <td>...</td>\n",
       "      <td>[]</td>\n",
       "      <td>[]</td>\n",
       "      <td>[{'screen_name': 'BimbiMeb', 'name': 'bimbi di...</td>\n",
       "      <td>[{'url': 'https://t.co/5lQCRCs2El', 'expanded_...</td>\n",
       "      <td>[]</td>\n",
       "      <td>[]</td>\n",
       "      <td>2815.0</td>\n",
       "      <td>158.0</td>\n",
       "      <td>72.0</td>\n",
       "      <td>BimbiMeb</td>\n",
       "    </tr>\n",
       "    <tr>\n",
       "      <th>192498</th>\n",
       "      <td>1394609761941921793</td>\n",
       "      <td>1394609761941921793</td>\n",
       "      <td>Tue May 18 11:04:12 +0000 2021</td>\n",
       "      <td>3031108244</td>\n",
       "      <td>InMonsterland</td>\n",
       "      <td>False</td>\n",
       "      <td>Thu Feb 19 18:36:18 +0000 2015</td>\n",
       "      <td>Capito la non logica di questi? https://t.co/Q...</td>\n",
       "      <td>&lt;a href=\"https://mobile.twitter.com\" rel=\"nofo...</td>\n",
       "      <td>None</td>\n",
       "      <td>...</td>\n",
       "      <td>[]</td>\n",
       "      <td>[]</td>\n",
       "      <td>[]</td>\n",
       "      <td>[{'url': 'https://t.co/QDxocGtG98', 'expanded_...</td>\n",
       "      <td>[]</td>\n",
       "      <td>[]</td>\n",
       "      <td>54859.0</td>\n",
       "      <td>979.0</td>\n",
       "      <td>2858.0</td>\n",
       "      <td>valy_s</td>\n",
       "    </tr>\n",
       "    <tr>\n",
       "      <th>192499</th>\n",
       "      <td>1394609630542811138</td>\n",
       "      <td>1394609630542811138</td>\n",
       "      <td>Tue May 18 11:03:41 +0000 2021</td>\n",
       "      <td>1402708182</td>\n",
       "      <td>BansCollector</td>\n",
       "      <td>False</td>\n",
       "      <td>Sat May 04 16:15:39 +0000 2013</td>\n",
       "      <td>@stebaraz Quando hai voglia e tempo, che ne pe...</td>\n",
       "      <td>&lt;a href=\"https://mobile.twitter.com\" rel=\"nofo...</td>\n",
       "      <td>None</td>\n",
       "      <td>...</td>\n",
       "      <td>[]</td>\n",
       "      <td>[]</td>\n",
       "      <td>[{'screen_name': 'stebaraz', 'name': 'Stefano ...</td>\n",
       "      <td>[{'url': 'https://t.co/2bHtlPR7dG', 'expanded_...</td>\n",
       "      <td>[]</td>\n",
       "      <td>[]</td>\n",
       "      <td>51214.0</td>\n",
       "      <td>1532.0</td>\n",
       "      <td>1087.0</td>\n",
       "      <td>Linkiesta</td>\n",
       "    </tr>\n",
       "    <tr>\n",
       "      <th>192500</th>\n",
       "      <td>1394610015823147011</td>\n",
       "      <td>1394610015823147011</td>\n",
       "      <td>Tue May 18 11:05:13 +0000 2021</td>\n",
       "      <td>497188910</td>\n",
       "      <td>Rosskitty77</td>\n",
       "      <td>False</td>\n",
       "      <td>Sun Feb 19 18:26:36 +0000 2012</td>\n",
       "      <td>\"...«Ha lividi e piastrine basse». E ha richie...</td>\n",
       "      <td>&lt;a href=\"https://mobile.twitter.com\" rel=\"nofo...</td>\n",
       "      <td>None</td>\n",
       "      <td>...</td>\n",
       "      <td>[]</td>\n",
       "      <td>[]</td>\n",
       "      <td>[]</td>\n",
       "      <td>[{'url': 'https://t.co/5UT12c2sur', 'expanded_...</td>\n",
       "      <td>[]</td>\n",
       "      <td>[]</td>\n",
       "      <td>79297.0</td>\n",
       "      <td>772.0</td>\n",
       "      <td>893.0</td>\n",
       "      <td>_DAGOSPIA_</td>\n",
       "    </tr>\n",
       "  </tbody>\n",
       "</table>\n",
       "<p>192501 rows × 50 columns</p>\n",
       "</div>"
      ],
      "text/plain": [
       "                         id               id_str  \\\n",
       "0       1221728158371786752  1221728158371786752   \n",
       "1       1221734125725540352  1221734125725540352   \n",
       "2       1221731531640778752  1221731531640778752   \n",
       "3       1221725288196907010  1221725288196907010   \n",
       "4       1221702926554583045  1221702926554583045   \n",
       "...                     ...                  ...   \n",
       "192496  1394609382399397890  1394609382399397890   \n",
       "192497  1394609717150986242  1394609717150986242   \n",
       "192498  1394609761941921793  1394609761941921793   \n",
       "192499  1394609630542811138  1394609630542811138   \n",
       "192500  1394610015823147011  1394610015823147011   \n",
       "\n",
       "                            created_at              user_id user_screen_name  \\\n",
       "0       Mon Jan 27 09:34:26 +0000 2020   836069429209227264        italyinkz   \n",
       "1       Mon Jan 27 09:58:08 +0000 2020             59720254          _teo777   \n",
       "2       Mon Jan 27 09:47:50 +0000 2020           2657061966  saradellamonaca   \n",
       "3       Mon Jan 27 09:23:01 +0000 2020            245960120            Rog_2   \n",
       "4       Mon Jan 27 07:54:10 +0000 2020           2569063746  elisabettacost8   \n",
       "...                                ...                  ...              ...   \n",
       "192496  Tue May 18 11:02:42 +0000 2021           4540112892    LalliVincenzo   \n",
       "192497  Tue May 18 11:04:01 +0000 2021  1031670196342325249      augusto8589   \n",
       "192498  Tue May 18 11:04:12 +0000 2021           3031108244    InMonsterland   \n",
       "192499  Tue May 18 11:03:41 +0000 2021           1402708182    BansCollector   \n",
       "192500  Tue May 18 11:05:13 +0000 2021            497188910      Rosskitty77   \n",
       "\n",
       "        user_verified                 user_created_at  \\\n",
       "0                True  Mon Feb 27 04:24:20 +0000 2017   \n",
       "1               False  Fri Jul 24 07:35:06 +0000 2009   \n",
       "2               False  Fri Jul 18 16:20:52 +0000 2014   \n",
       "3               False  Tue Feb 01 20:50:31 +0000 2011   \n",
       "4               False  Sun Jun 15 14:03:57 +0000 2014   \n",
       "...               ...                             ...   \n",
       "192496          False  Sat Dec 12 18:38:55 +0000 2015   \n",
       "192497          False  Mon Aug 20 22:31:57 +0000 2018   \n",
       "192498          False  Thu Feb 19 18:36:18 +0000 2015   \n",
       "192499          False  Sat May 04 16:15:39 +0000 2013   \n",
       "192500          False  Sun Feb 19 18:26:36 +0000 2012   \n",
       "\n",
       "                                                     text  \\\n",
       "0       #27gennaio \\n\"Coltivare la Memoria è ancora og...   \n",
       "1       Piove, novacse ladro!\\n\\n\"Avete fatto vincere\"...   \n",
       "2       \"Coltivare la Memoria è ancora oggi un vaccino...   \n",
       "3       Scherzi? NATURALMENTE è un virus messo a punto...   \n",
       "4       Per il Morbillo il vaccino esiste sarebbe suff...   \n",
       "...                                                   ...   \n",
       "192496  I nazi fasci tirano i dadi e sproloquiano...\\n...   \n",
       "192497  @BimbiMeb Ad esempio, la cogliona con la bandi...   \n",
       "192498  Capito la non logica di questi? https://t.co/Q...   \n",
       "192499  @stebaraz Quando hai voglia e tempo, che ne pe...   \n",
       "192500  \"...«Ha lividi e piastrine basse». E ha richie...   \n",
       "\n",
       "                                                   source coordinates  ...  \\\n",
       "0       <a href=\"https://mobile.twitter.com\" rel=\"nofo...        None  ...   \n",
       "1       <a href=\"https://mobile.twitter.com\" rel=\"nofo...        None  ...   \n",
       "2       <a href=\"http://twitter.com/download/android\" ...        None  ...   \n",
       "3       <a href=\"https://mobile.twitter.com\" rel=\"nofo...        None  ...   \n",
       "4       <a href=\"http://twitter.com/download/android\" ...        None  ...   \n",
       "...                                                   ...         ...  ...   \n",
       "192496  <a href=\"http://twitter.com/download/android\" ...        None  ...   \n",
       "192497  <a href=\"https://mobile.twitter.com\" rel=\"nofo...        None  ...   \n",
       "192498  <a href=\"https://mobile.twitter.com\" rel=\"nofo...        None  ...   \n",
       "192499  <a href=\"https://mobile.twitter.com\" rel=\"nofo...        None  ...   \n",
       "192500  <a href=\"https://mobile.twitter.com\" rel=\"nofo...        None  ...   \n",
       "\n",
       "                                                 hashtags  symbols  \\\n",
       "0       [{'text': '27gennaio', 'indices': [0, 10]}, {'...       []   \n",
       "1                                                      []       []   \n",
       "2       [{'text': '27gennaio', 'indices': [227, 237]},...       []   \n",
       "3                                                      []       []   \n",
       "4                                                      []       []   \n",
       "...                                                   ...      ...   \n",
       "192496                                                 []       []   \n",
       "192497                                                 []       []   \n",
       "192498                                                 []       []   \n",
       "192499                                                 []       []   \n",
       "192500                                                 []       []   \n",
       "\n",
       "                                            user_mentions  \\\n",
       "0                                                      []   \n",
       "1                                                      []   \n",
       "2                                                      []   \n",
       "3                                                      []   \n",
       "4                                                      []   \n",
       "...                                                   ...   \n",
       "192496                                                 []   \n",
       "192497  [{'screen_name': 'BimbiMeb', 'name': 'bimbi di...   \n",
       "192498                                                 []   \n",
       "192499  [{'screen_name': 'stebaraz', 'name': 'Stefano ...   \n",
       "192500                                                 []   \n",
       "\n",
       "                                                     urls  polls media  \\\n",
       "0       [{'url': 'https://t.co/mlmAR0xufR', 'expanded_...     []    []   \n",
       "1       [{'url': 'https://t.co/RjXrEYu3yv', 'expanded_...     []    []   \n",
       "2       [{'url': 'https://t.co/COW1n3Fkjk', 'expanded_...     []    []   \n",
       "3       [{'url': 'https://t.co/gMncn8kVvz', 'expanded_...     []    []   \n",
       "4       [{'url': 'https://t.co/LALAZBPYEo', 'expanded_...     []    []   \n",
       "...                                                   ...    ...   ...   \n",
       "192496  [{'url': 'https://t.co/Vz56I6q2Yv', 'expanded_...     []    []   \n",
       "192497  [{'url': 'https://t.co/5lQCRCs2El', 'expanded_...     []    []   \n",
       "192498  [{'url': 'https://t.co/QDxocGtG98', 'expanded_...     []    []   \n",
       "192499  [{'url': 'https://t.co/2bHtlPR7dG', 'expanded_...     []    []   \n",
       "192500  [{'url': 'https://t.co/5UT12c2sur', 'expanded_...     []    []   \n",
       "\n",
       "        user_tweets_count  user_friends_count  user_followers_count  \\\n",
       "0                     NaN                 NaN                   NaN   \n",
       "1                     NaN                 NaN                   NaN   \n",
       "2                     NaN                 NaN                   NaN   \n",
       "3                     NaN                 NaN                   NaN   \n",
       "4                     NaN                 NaN                   NaN   \n",
       "...                   ...                 ...                   ...   \n",
       "192496            93448.0              8540.0                7781.0   \n",
       "192497             2815.0               158.0                  72.0   \n",
       "192498            54859.0               979.0                2858.0   \n",
       "192499            51214.0              1532.0                1087.0   \n",
       "192500            79297.0               772.0                 893.0   \n",
       "\n",
       "        quoted_screen_name  \n",
       "0                Quirinale  \n",
       "1             lameduck1960  \n",
       "2                Quirinale  \n",
       "3               alinomilan  \n",
       "4             A54ferraresi  \n",
       "...                    ...  \n",
       "192496      GiovaValentini  \n",
       "192497            BimbiMeb  \n",
       "192498              valy_s  \n",
       "192499           Linkiesta  \n",
       "192500          _DAGOSPIA_  \n",
       "\n",
       "[192501 rows x 50 columns]"
      ]
     },
     "execution_count": 35,
     "metadata": {},
     "output_type": "execute_result"
    }
   ],
   "source": [
    "quotes = pd.read_parquet(destination_path + \"quotes_w_names.parquet\", engine=\"fastparquet\")\n",
    "quotes"
   ]
  },
  {
   "cell_type": "markdown",
   "metadata": {
    "id": "0qvs98O5veP1"
   },
   "source": [
    "##### Check self quotes"
   ]
  },
  {
   "cell_type": "code",
   "execution_count": 9,
   "metadata": {
    "colab": {
     "base_uri": "https://localhost:8080/"
    },
    "id": "HRKVrCZoveP1",
    "outputId": "8453ff44-f05b-4828-c137-be685ae8802b"
   },
   "outputs": [
    {
     "name": "stdout",
     "output_type": "stream",
     "text": [
      "self_quotes:  11081\n"
     ]
    }
   ],
   "source": [
    "self_quotes_df = quotes_with_screen_name_no_nan[quotes_with_screen_name_no_nan['user_screen_name']==quotes_with_screen_name_no_nan['quoted_user_screen_name']]\n",
    "print('self_quotes: ',len(self_quotes_df))"
   ]
  },
  {
   "cell_type": "code",
   "execution_count": 10,
   "metadata": {
    "colab": {
     "base_uri": "https://localhost:8080/"
    },
    "id": "xcU7FD5DtV2M",
    "outputId": "3c1a24c8-5345-4364-8cfb-6d45c5c398b0"
   },
   "outputs": [
    {
     "data": {
      "text/plain": [
       "3277"
      ]
     },
     "execution_count": 10,
     "metadata": {},
     "output_type": "execute_result"
    }
   ],
   "source": [
    "len(self_quotes_df['user_screen_name'].unique())"
   ]
  },
  {
   "cell_type": "code",
   "execution_count": 11,
   "metadata": {
    "colab": {
     "base_uri": "https://localhost:8080/",
     "height": 501
    },
    "id": "pcUR0vN9bcJJ",
    "outputId": "71e8acb2-82da-4e4d-97fe-d6f446f0f4aa"
   },
   "outputs": [
    {
     "data": {
      "image/png": "[encoded data removed]",
      "text/plain": [
       "<Figure size 1008x576 with 1 Axes>"
      ]
     },
     "metadata": {
      "needs_background": "light"
     },
     "output_type": "display_data"
    }
   ],
   "source": [
    "fig = plt.figure(figsize=(14, 8))\n",
    "ax = self_quotes_df['user_screen_name'].value_counts(ascending=False)[:30].plot(kind='barh', color='steelblue', fig=(14,14))\n",
    "ax.set_title('Number of SELF-QUOTES per user screen name', fontsize=15)\n",
    "ax.invert_yaxis()\n",
    "plt.show()"
   ]
  },
  {
   "cell_type": "code",
   "execution_count": 12,
   "metadata": {
    "colab": {
     "base_uri": "https://localhost:8080/"
    },
    "id": "ehb7I3PNbcJK",
    "outputId": "f030c24c-1138-4034-e3af-fc441b6628be"
   },
   "outputs": [
    {
     "data": {
      "text/plain": [
       "user_screen_name\n",
       "Z3r0Rules          371\n",
       "AdolfoTasinato     311\n",
       "antondepierro      221\n",
       "sferriam           214\n",
       "aureumelio         201\n",
       "PaoloAnnibali      192\n",
       "AndreaDallu        128\n",
       "gzibordi           124\n",
       "PrimaiLavorator    123\n",
       "PraesesMundi       113\n",
       "Antonio_Caramia    107\n",
       "ACCEDIALSITO       103\n",
       "BluDiChina          88\n",
       "CosedaMondo         79\n",
       "diabolicus23        73\n",
       "biif                71\n",
       "25O319              63\n",
       "MaryamSenada        63\n",
       "italiadeidolori     61\n",
       "Cartabellotta       60\n",
       "paolosarti69        55\n",
       "pesorati            54\n",
       "CARLODAVIDE1        54\n",
       "stefaniaconti       53\n",
       "carpa2019           49\n",
       "_A_mors             44\n",
       "AdrianaSpappa       44\n",
       "piersar62           42\n",
       "info_zampa          39\n",
       "lucabattanta        38\n",
       "Name: user_screen_name, dtype: int64"
      ]
     },
     "execution_count": 12,
     "metadata": {},
     "output_type": "execute_result"
    }
   ],
   "source": [
    "self_quotes_df_per_user_screen_name = self_quotes_df.groupby(\"user_screen_name\")['user_screen_name']\n",
    "self_quotes_df_per_user_screen_name_variable = self_quotes_df_per_user_screen_name.count().sort_values(ascending=False)\n",
    "self_quotes_df_per_user_screen_name_variable.head(30)"
   ]
  },
  {
   "cell_type": "markdown",
   "metadata": {
    "id": "455_-nRTpzvd"
   },
   "source": [
    "# NETWORK"
   ]
  },
  {
   "cell_type": "code",
   "execution_count": 39,
   "metadata": {
    "colab": {
     "base_uri": "https://localhost:8080/"
    },
    "id": "vtghlztdmiC4",
    "outputId": "8e349311-5fbc-4d88-d50e-f4086e9b5219"
   },
   "outputs": [
    {
     "name": "stdout",
     "output_type": "stream",
     "text": [
      "DiGraph with 47208 nodes and 150805 edges\n"
     ]
    }
   ],
   "source": [
    "quotes_graph = nx.from_pandas_edgelist(quotes,'user_screen_name','quoted_screen_name', create_using=nx.DiGraph())\n",
    "print(nx.info(quotes_graph))"
   ]
  },
  {
   "cell_type": "code",
   "execution_count": 21,
   "metadata": {
    "colab": {
     "base_uri": "https://localhost:8080/"
    },
    "id": "9pmWl7ptmiC5",
    "outputId": "0150ab52-a8c1-438d-d1da-7ff86749255a"
   },
   "outputs": [
    {
     "name": "stdout",
     "output_type": "stream",
     "text": [
      "The maximum degree of the Graph is 2366\n",
      "The minimum degree of the Graph is 1\n",
      "The maximum out_degree of the Graph is 279\n",
      "The minimum out_degree of the Graph is 0\n",
      "The maximum in_degree of the Graph is 2366\n",
      "The minimum in_degree of the Graph is 0\n"
     ]
    }
   ],
   "source": [
    "degrees = [val for (node, val) in quotes_graph.degree()]\n",
    "\n",
    "print(f\"The maximum degree of the Graph is {np.max(degrees)}\")   \n",
    "print(f\"The minimum degree of the Graph is {np.min(degrees)}\")\n",
    "\n",
    "out_degrees = [val for (node, val) in quotes_graph.out_degree()]\n",
    "\n",
    "print(f\"The maximum out_degree of the Graph is {np.max(out_degrees)}\")   \n",
    "print(f\"The minimum out_degree of the Graph is {np.min(out_degrees)}\")\n",
    "\n",
    "in_degrees = [val for (node, val) in quotes_graph.in_degree()]\n",
    "\n",
    "print(f\"The maximum in_degree of the Graph is {np.max(in_degrees)}\")   \n",
    "print(f\"The minimum in_degree of the Graph is {np.min(in_degrees)}\")"
   ]
  },
  {
   "cell_type": "code",
   "execution_count": 49,
   "metadata": {
    "id": "sFuhbeBUmiC5"
   },
   "outputs": [],
   "source": [
    "degree_dict = dict(quotes_graph.degree(quotes_graph.nodes()))\n",
    "sorted_degree = sorted(degree_dict.items(), key=itemgetter(1), reverse=True)"
   ]
  },
  {
   "cell_type": "code",
   "execution_count": 52,
   "metadata": {
    "colab": {
     "base_uri": "https://localhost:8080/"
    },
    "id": "934Zk2vgmiC6",
    "outputId": "ce855fb0-6ad3-4faa-fb14-ba72dc9f5931"
   },
   "outputs": [
    {
     "data": {
      "application/vnd.jupyter.widget-view+json": {
       "model_id": "9364eb6e3644422c8077b73ed1c6996b",
       "version_major": 2,
       "version_minor": 0
      },
      "text/plain": [
       "HBox(children=(HTML(value=''), FloatProgress(value=0.0, max=47208.0), HTML(value='')))"
      ]
     },
     "metadata": {},
     "output_type": "display_data"
    },
    {
     "name": "stdout",
     "output_type": "stream",
     "text": [
      "\n"
     ]
    }
   ],
   "source": [
    "lst_name = []\n",
    "lst_degree = []\n",
    "from tqdm.notebook import tqdm\n",
    "for d in tqdm(sorted_degree):\n",
    "    lst_name.append(d[0])\n",
    "    lst_degree.append(d[1])\n",
    "pd.DataFrame(list(zip(lst_name, lst_degree)), columns=[\"user\", \"degree\"]).to_csv(path_leiden+\"degree_quotes.csv\", line_terminator=\"\\n\", index=False, encoding=\"utf-8\")"
   ]
  },
  {
   "cell_type": "code",
   "execution_count": 25,
   "metadata": {
    "id": "tZx_vwakmiC6"
   },
   "outputs": [],
   "source": [
    "in_degree_dict = dict(quotes_graph.in_degree(quotes_graph.nodes()))\n",
    "sorted_in_degree = sorted(in_degree_dict.items(), key=itemgetter(1), reverse=True)"
   ]
  },
  {
   "cell_type": "markdown",
   "metadata": {
    "id": "lA0OnqKOxjfN"
   },
   "source": [
    "### In Degree"
   ]
  },
  {
   "cell_type": "code",
   "execution_count": 27,
   "metadata": {
    "colab": {
     "base_uri": "https://localhost:8080/"
    },
    "id": "b1nrwIqdmiC6",
    "outputId": "b3cbed2c-6b62-4ddf-95b4-1c074ea3002e"
   },
   "outputs": [
    {
     "name": "stdout",
     "output_type": "stream",
     "text": [
      "Top n nodes by in_degree:\n",
      "the node with name Corriere , has a in-degree of 2366\n",
      "the node with name SkyTG24 , has a in-degree of 2183\n",
      "the node with name repubblica , has a in-degree of 2168\n",
      "the node with name Adnkronos , has a in-degree of 1926\n",
      "the node with name Agenzia_Ansa , has a in-degree of 1885\n"
     ]
    }
   ],
   "source": [
    "n=5\n",
    "print(\"Top n nodes by in_degree:\")\n",
    "for d in sorted_in_degree[:n]:\n",
    "    print(f\"the node with name {d[0]} , has a in-degree of {d[1]}\")"
   ]
  },
  {
   "cell_type": "markdown",
   "metadata": {
    "id": "WvIUjf0_xql4"
   },
   "source": [
    "### Out Degree"
   ]
  },
  {
   "cell_type": "code",
   "execution_count": 28,
   "metadata": {
    "id": "oyGSAPhGmiC6"
   },
   "outputs": [],
   "source": [
    "out_degree_dict = dict(quotes_graph.out_degree(quotes_graph.nodes()))\n",
    "sorted_out_degree = sorted(out_degree_dict.items(), key=itemgetter(1), reverse=True)"
   ]
  },
  {
   "cell_type": "code",
   "execution_count": 29,
   "metadata": {
    "colab": {
     "base_uri": "https://localhost:8080/"
    },
    "id": "vTlg60obmiC6",
    "outputId": "393aa23b-a86a-48d3-db91-4f4d6171f729"
   },
   "outputs": [
    {
     "name": "stdout",
     "output_type": "stream",
     "text": [
      "Top n nodes by out_degree:\n",
      "the node with name CosaInTendenza , has a out-degree of 279\n",
      "the node with name 25gennaio1 , has a out-degree of 223\n",
      "the node with name mariamworldart , has a out-degree of 218\n",
      "the node with name ManuQ24916888 , has a out-degree of 203\n",
      "the node with name Lucia39134555 , has a out-degree of 185\n"
     ]
    }
   ],
   "source": [
    "n=5\n",
    "print(\"Top n nodes by out_degree:\")\n",
    "for d in sorted_out_degree[:n]:\n",
    "    print(f\"the node with name {d[0]} , has a out-degree of {d[1]}\")"
   ]
  },
  {
   "cell_type": "markdown",
   "metadata": {
    "id": "KtkC5tOqmiC7"
   },
   "source": [
    "## Communities with Leiden"
   ]
  },
  {
   "cell_type": "code",
   "execution_count": 45,
   "metadata": {
    "id": "jmnOePaf09xr"
   },
   "outputs": [
    {
     "name": "stdout",
     "output_type": "stream",
     "text": [
      "Number of vertices: 47208\n",
      "Number of edges: 192501\n",
      "Density of the graph: 0.00017275911953679675\n",
      "Average indegree: 4.077719877986782\n",
      "Average outdegree: 4.077719877986782\n"
     ]
    }
   ],
   "source": [
    "quote_df = quotes[[\"user_screen_name\", \"quoted_screen_name\"]]\n",
    "tuples = [tuple(x) for x in quote_df.values]\n",
    "retweets_graph = ig.Graph.TupleList(tuples, directed = True)\n",
    "n_vertices = retweets_graph.vcount()\n",
    "print(\"Number of vertices:\", n_vertices)\n",
    "print(\"Number of edges:\", retweets_graph.ecount())\n",
    "print(\"Density of the graph:\", 2*retweets_graph.ecount()/(retweets_graph.vcount()*(retweets_graph.vcount()-1)))\n",
    "total_degree=0\n",
    "total_indegree = 0\n",
    "total_outdegree = 0\n",
    "for n in range(n_vertices):\n",
    "    total_degree += retweets_graph.degree(n)\n",
    "    total_indegree += retweets_graph.indegree(n)\n",
    "    total_outdegree += retweets_graph.outdegree(n)\n",
    "print(\"Average indegree:\", total_indegree/n_vertices)\n",
    "print(\"Average outdegree:\", total_outdegree/n_vertices)\n",
    "partition = la.find_partition(retweets_graph, la.ModularityVertexPartition)\n",
    "zip_iterator = zip(retweets_graph.vs()[\"name\"], partition.membership)\n",
    "best_part = dict(zip_iterator)\n",
    "path_leiden = \"C:/Users/gianl/Desktop/Gi/Supsi/MartaLauraGiada/Laura/Files/\"\n",
    "lst_user = []\n",
    "lst_comm = []\n",
    "for i in best_part:\n",
    "    lst_user.append(i)\n",
    "    lst_comm.append(best_part[i])\n",
    "pd.DataFrame(list(zip(lst_user, lst_comm)), columns=[\"user\", \"community\"]).to_csv(path_leiden+\"leiden_quotes.csv\", line_terminator=\"\\n\", index=False, encoding=\"utf-8\")"
   ]
  },
  {
   "cell_type": "code",
   "execution_count": 46,
   "metadata": {},
   "outputs": [
    {
     "data": {
      "text/html": [
       "<div>\n",
       "<style scoped>\n",
       "    .dataframe tbody tr th:only-of-type {\n",
       "        vertical-align: middle;\n",
       "    }\n",
       "\n",
       "    .dataframe tbody tr th {\n",
       "        vertical-align: top;\n",
       "    }\n",
       "\n",
       "    .dataframe thead th {\n",
       "        text-align: right;\n",
       "    }\n",
       "</style>\n",
       "<table border=\"1\" class=\"dataframe\">\n",
       "  <thead>\n",
       "    <tr style=\"text-align: right;\">\n",
       "      <th></th>\n",
       "      <th>user</th>\n",
       "      <th>community</th>\n",
       "    </tr>\n",
       "  </thead>\n",
       "  <tbody>\n",
       "    <tr>\n",
       "      <th>0</th>\n",
       "      <td>italyinkz</td>\n",
       "      <td>6</td>\n",
       "    </tr>\n",
       "    <tr>\n",
       "      <th>1</th>\n",
       "      <td>Quirinale</td>\n",
       "      <td>6</td>\n",
       "    </tr>\n",
       "    <tr>\n",
       "      <th>2</th>\n",
       "      <td>_teo777</td>\n",
       "      <td>1</td>\n",
       "    </tr>\n",
       "    <tr>\n",
       "      <th>3</th>\n",
       "      <td>lameduck1960</td>\n",
       "      <td>0</td>\n",
       "    </tr>\n",
       "    <tr>\n",
       "      <th>4</th>\n",
       "      <td>saradellamonaca</td>\n",
       "      <td>6</td>\n",
       "    </tr>\n",
       "    <tr>\n",
       "      <th>...</th>\n",
       "      <td>...</td>\n",
       "      <td>...</td>\n",
       "    </tr>\n",
       "    <tr>\n",
       "      <th>47203</th>\n",
       "      <td>QuantaClub</td>\n",
       "      <td>1230</td>\n",
       "    </tr>\n",
       "    <tr>\n",
       "      <th>47204</th>\n",
       "      <td>redsbi</td>\n",
       "      <td>1230</td>\n",
       "    </tr>\n",
       "    <tr>\n",
       "      <th>47205</th>\n",
       "      <td>oneformababy</td>\n",
       "      <td>2</td>\n",
       "    </tr>\n",
       "    <tr>\n",
       "      <th>47206</th>\n",
       "      <td>CioppyKr</td>\n",
       "      <td>2</td>\n",
       "    </tr>\n",
       "    <tr>\n",
       "      <th>47207</th>\n",
       "      <td>augusto8589</td>\n",
       "      <td>2</td>\n",
       "    </tr>\n",
       "  </tbody>\n",
       "</table>\n",
       "<p>47208 rows × 2 columns</p>\n",
       "</div>"
      ],
      "text/plain": [
       "                  user  community\n",
       "0            italyinkz          6\n",
       "1            Quirinale          6\n",
       "2              _teo777          1\n",
       "3         lameduck1960          0\n",
       "4      saradellamonaca          6\n",
       "...                ...        ...\n",
       "47203       QuantaClub       1230\n",
       "47204           redsbi       1230\n",
       "47205     oneformababy          2\n",
       "47206         CioppyKr          2\n",
       "47207      augusto8589          2\n",
       "\n",
       "[47208 rows x 2 columns]"
      ]
     },
     "execution_count": 46,
     "metadata": {},
     "output_type": "execute_result"
    }
   ],
   "source": [
    "leiden = pd.read_csv(path_leiden+\"leiden_quotes.csv\")\n",
    "leiden"
   ]
  },
  {
   "cell_type": "code",
   "execution_count": 47,
   "metadata": {},
   "outputs": [
    {
     "name": "stdout",
     "output_type": "stream",
     "text": [
      "Le prime 10 community contengono il 77.97% degli utenti\n"
     ]
    },
    {
     "data": {
      "image/png": "[encoded data removed]",
      "text/plain": [
       "<Figure size 432x288 with 1 Axes>"
      ]
     },
     "metadata": {
      "needs_background": "light"
     },
     "output_type": "display_data"
    }
   ],
   "source": [
    "val = pd.Series(leiden[\"community\"]).value_counts().sort_values(ascending=False)\n",
    "total = 0\n",
    "for i in val[:10]:\n",
    "    total = total + i\n",
    "print(f\"Le prime 10 community contengono il {round(total/len(leiden)*100,2)}% degli utenti\")\n",
    "fig = plt.figure() #figsize=(14, 8)\n",
    "ax = val[:10].plot(kind='barh', color='plum', fig=(14,14)) #orange #lightseagreen\n",
    "ax.set_title('Number of nodes per community (top 10)', fontsize=15)\n",
    "ax.invert_yaxis()\n",
    "ax.set_ylabel(\"Community number\")\n",
    "ax.set_xlabel(\"Number of Nodes\")\n",
    "plt.show()"
   ]
  },
  {
   "cell_type": "code",
   "execution_count": 48,
   "metadata": {},
   "outputs": [],
   "source": [
    "comm_0 = list(leiden[leiden[\"community\"]==0][\"user\"])\n",
    "comm_1 = list(leiden[leiden[\"community\"]==1][\"user\"])\n",
    "comm_2 = list(leiden[leiden[\"community\"]==2][\"user\"])\n",
    "comm_3 = list(leiden[leiden[\"community\"]==3][\"user\"])\n",
    "comm_4 = list(leiden[leiden[\"community\"]==4][\"user\"])"
   ]
  },
  {
   "cell_type": "code",
   "execution_count": 56,
   "metadata": {
    "scrolled": false
   },
   "outputs": [
    {
     "name": "stdout",
     "output_type": "stream",
     "text": [
      "Community 0:\n",
      "ImolaOggi\n",
      "myrtamerlino\n",
      "valy_s\n",
      "RadioSavana\n",
      "noitre32\n",
      "BarbaraRaval\n",
      "borghi_claudio\n",
      "ladyonorato\n",
      "pbecchi\n",
      "cris_cersei\n",
      "lameduck1960\n",
      "LegaSalvini\n",
      "NicolaPorro\n",
      "GuidoCrosetto\n",
      "barbarab1974\n",
      "francescatotolo\n",
      "vfeltri\n",
      "byoblu\n",
      "FmMosca\n",
      "tempoweb\n",
      "a_meluzzi\n",
      "MinutemanItaly\n",
      "GiancarloDeRisi\n",
      "doluccia16\n",
      "sabrimaggioni\n",
      "fdragoni\n",
      "PraesesMundi\n",
      "_cieloitalia\n",
      "25O319\n",
      "LiciaRonzulli\n",
      "-----------\n",
      "Community 1:\n",
      "Corriere\n",
      "SkyTG24\n",
      "repubblica\n",
      "Adnkronos\n",
      "Agenzia_Ansa\n",
      "HuffPostItalia\n",
      "TgLa7\n",
      "MediasetTgcom24\n",
      "LaStampa\n",
      "sole24ore\n",
      "RaiNews\n",
      "ilmessaggeroit\n",
      "Agenzia_Italia\n",
      "_DAGOSPIA_\n",
      "CosaInTendenza\n",
      "Deiana_Luca9\n",
      "eziomauro\n",
      "lucabattanta\n",
      "Affaritaliani\n",
      "alde68\n",
      "Deputatipd\n",
      "mattinodinapoli\n",
      "DAVIDPARENZO\n",
      "salomone_l\n",
      "donnadimezzo\n",
      "DottAngeloC\n",
      "AndreaVenanzoni\n",
      "RepubblicaTv\n",
      "V_Mannello\n",
      "twittingelenaa\n",
      "-----------\n",
      "Community 2:\n",
      "matteorenzi\n",
      "CottarelliCPI\n",
      "jacopo_iacoboni\n",
      "nzingaretti\n",
      "piersileri\n",
      "riotta\n",
      "claudiocerasa\n",
      "sbonaccini\n",
      "CarloCalenda\n",
      "Iperbole_\n",
      "giorgio_gori\n",
      "Miti_Vigliero\n",
      "pfmajorino\n",
      "AugustoMinzolin\n",
      "raffaellapaita\n",
      "lageloni\n",
      "TeresaBellanova\n",
      "PoliticaPerJedi\n",
      "Zeta_Luiss\n",
      "GianricoCarof\n",
      "LucaBizzarri\n",
      "meb\n",
      "Tboeri\n",
      "Marco_dreams\n",
      "CalaminiciM\n",
      "lucianonobili\n",
      "AndreaOrlandosp\n",
      "laura_ceruti\n",
      "DomaniGiornale\n",
      "NFratoianni\n",
      "-----------\n",
      "Community 3:\n",
      "Cartabellotta\n",
      "LetiziaMoratti\n",
      "GiovaQuez\n",
      "lucianocapone\n",
      "Ruffino_Lorenzo\n",
      "ardigiorgio\n",
      "davcarretta\n",
      "DM_Deluca\n",
      "GiacomoGorini\n",
      "WRicciardi\n",
      "carloalberto\n",
      "ricpuglisi\n",
      "giorgiogilestro\n",
      "petunianelsole\n",
      "emmevilla\n",
      "monacelt\n",
      "vitalbaa\n",
      "ilfoglio_it\n",
      "udogumpel\n",
      "jeperego\n",
      "gloquenzi\n",
      "Michele_Arnese\n",
      "MMmarco0\n",
      "PierluigiBattis\n",
      "OGiannino\n",
      "lbianchetti\n",
      "fleinaudi\n",
      "lasorelladiKarl\n",
      "MarcoCantamessa\n",
      "Lucia39134555\n",
      "-----------\n",
      "Community 4:\n",
      "ultimenotizie\n",
      "ilpost\n",
      "you_trend\n",
      "babj70\n",
      "rep_bari\n",
      "lorepregliasco\n",
      "rtl1025\n",
      "itti_stef\n",
      "francescocosta\n",
      "Karmtwitt\n",
      "ffffjd\n",
      "RegLombardia\n",
      "Zziagenio78\n",
      "RegioneER\n",
      "emenietti\n",
      "RimbambitchsHDA\n",
      "6dimattina_\n",
      "nonleggerlo\n",
      "iphilfine\n",
      "autoportante_\n",
      "dedaIux\n",
      "DarioBressanini\n",
      "vlavivlava\n",
      "LaGrevia\n",
      "SebVernazza\n",
      "SsakkoSilvia\n",
      "SimoDeMeuron\n",
      "SirDistruggere\n",
      "EffeBoccia\n",
      "BarbascuraX\n"
     ]
    }
   ],
   "source": [
    "degree = pd.read_csv(path_leiden+\"degree_quotes.csv\")\n",
    "cont = 0\n",
    "value = 30\n",
    "print(\"Community 0:\")\n",
    "for item in degree.itertuples():\n",
    "    if cont == value:\n",
    "        break\n",
    "    if item.user in comm_0:\n",
    "        print(item.user)\n",
    "        cont = cont + 1\n",
    "cont = 0\n",
    "print(\"-----------\")\n",
    "print(\"Community 1:\")\n",
    "for item in degree.itertuples():\n",
    "    if cont == value:\n",
    "        break\n",
    "    if item.user in comm_1:\n",
    "        print(item.user)\n",
    "        cont = cont + 1\n",
    "cont = 0\n",
    "print(\"-----------\")\n",
    "print(\"Community 2:\")\n",
    "for item in degree.itertuples():\n",
    "    if cont == value:\n",
    "        break\n",
    "    if item.user in comm_2:\n",
    "        print(item.user)\n",
    "        cont = cont + 1\n",
    "cont = 0\n",
    "print(\"-----------\")\n",
    "print(\"Community 3:\")\n",
    "for item in degree.itertuples():\n",
    "    if cont == value:\n",
    "        break\n",
    "    if item.user in comm_3:\n",
    "        print(item.user)\n",
    "        cont = cont + 1\n",
    "cont = 0\n",
    "print(\"-----------\")\n",
    "print(\"Community 4:\")\n",
    "for item in degree.itertuples():\n",
    "    if cont == value:\n",
    "        break\n",
    "    if item.user in comm_4:\n",
    "        print(item.user)\n",
    "        cont = cont + 1"
   ]
  },
  {
   "cell_type": "code",
   "execution_count": 66,
   "metadata": {},
   "outputs": [],
   "source": [
    "quote = quotes[[\"user_screen_name\", \"quoted_screen_name\"]]\n",
    "merge_prova = quote.merge(leiden, left_on=\"user_screen_name\", right_on=\"user\", how=\"left\")\n",
    "merge_prova2 = merge_prova.merge(leiden, left_on=\"quoted_screen_name\", right_on=\"user\", how=\"left\")\n",
    "lst = [0,1,2,3,4]\n",
    "final2 = merge_prova2[merge_prova2[\"community_x\"].isin(lst) & merge_prova2[\"community_y\"].isin(lst)]\n",
    "x = list(set(final2[\"user_screen_name\"]))\n",
    "y = list(set(final2[\"quoted_screen_name\"]))\n",
    "x.extend(y)\n",
    "x = list(set(x))\n",
    "names2 = pd.DataFrame(x, columns=[\"name\"])\n",
    "m2 = names2.merge(leiden, left_on=\"name\", right_on=\"user\", how=\"left\")\n",
    "m2 = m2[[\"name\", \"community\"]]\n",
    "lst_Id = []\n",
    "lst_Label = []\n",
    "lst_Community = []\n",
    "cont = 0\n",
    "for i in m2.itertuples():\n",
    "    lst_Id.append(cont)\n",
    "    cont = cont + 1\n",
    "    lst_Label.append(i.name)\n",
    "    lst_Community.append(i.community)\n",
    "df_nodes = pd.DataFrame(list(zip(lst_Id, lst_Label, lst_Community)), columns=[\"Id\", \"Label\", \"Community\"])\n",
    "mm = final2.merge(df_nodes, left_on=\"user_screen_name\", right_on=\"Label\", how=\"left\")\n",
    "mm = mm.merge(df_nodes, left_on=\"quoted_screen_name\", right_on=\"Label\", how=\"left\")\n",
    "mm = mm[[\"Id_x\", \"Id_y\", \"Label_x\", \"Label_y\"]]\n",
    "mm.rename(columns={'Id_x': 'Source', 'Id_y': 'Target', 'Label_x': 'From', 'Label_y': 'To' }, inplace=True)\n",
    "df_nodes.to_csv(\"C:/Users/gianl/Desktop/names_quotes.csv\", line_terminator=\"\\n\", index=False, encoding=\"utf-8\")\n",
    "mm.to_csv(\"C:/Users/gianl/Desktop/user_rtuser_quotes.csv\", line_terminator=\"\\n\", index=False, encoding=\"utf-8\")"
   ]
  }
 ],
 "metadata": {
  "colab": {
   "name": "Quote_network.ipynb",
   "provenance": []
  },
  "kernelspec": {
   "display_name": "Python 3",
   "language": "python",
   "name": "python3"
  },
  "language_info": {
   "codemirror_mode": {
    "name": "ipython",
    "version": 3
   },
   "file_extension": ".py",
   "mimetype": "text/x-python",
   "name": "python",
   "nbconvert_exporter": "python",
   "pygments_lexer": "ipython3",
   "version": "3.8.11"
  }
 },
 "nbformat": 4,
 "nbformat_minor": 1
}
