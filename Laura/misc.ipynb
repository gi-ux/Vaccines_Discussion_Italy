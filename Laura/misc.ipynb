{
 "cells": [
  {
   "cell_type": "code",
   "execution_count": 1,
   "id": "b2e2c77c",
   "metadata": {},
   "outputs": [],
   "source": [
    "import tweepy\n",
    "import json\n",
    "import pandas as pd\n",
    "from perspective import PerspectiveAPI\n",
    "from googleapiclient import discovery\n",
    "import numpy as np\n",
    "import re\n",
    "import time\n",
    "from tqdm.notebook import tqdm\n",
    "path_files =\"C:/Users/gianl/Desktop/Gi/Supsi/Vaccines_Discussion_Italy/Laura/Files/\"\n",
    "path_data = \"C:/Users/gianl/Desktop/Gi/Supsi/Vaccines_Discussion_Italy/Laura/Tweets/\""
   ]
  },
  {
   "cell_type": "code",
   "execution_count": 2,
   "id": "2ff83793",
   "metadata": {},
   "outputs": [],
   "source": [
    "jsonFile = open(path_files + 'auth.json', 'r')\n",
    "config = json.load(jsonFile)\n",
    "jsonFile.close()\n",
    "API_KEY = config[\"api_key_1\"]"
   ]
  },
  {
   "cell_type": "code",
   "execution_count": 6,
   "id": "2369a0be",
   "metadata": {},
   "outputs": [],
   "source": [
    "def clean(x):\n",
    "    return ' '.join(re.sub(\"(@[A-Za-z0-9]+)|([^0-9A-Za-z \\t])|(\\w+:\\/\\/\\S+)\",\" \",x).split())"
   ]
  },
  {
   "cell_type": "code",
   "execution_count": 3,
   "id": "ee1ccdf6",
   "metadata": {},
   "outputs": [],
   "source": [
    "df_bad = pd.read_csv(path_data + \"bad_activities.csv\")\n",
    "df_good = pd.read_csv(path_data + \"good_activities.csv\")\n",
    "df_suspended = pd.read_parquet(path_data + \"tweets_bad_suspended.parquet\", engine=\"fastparquet\")\n",
    "df_suspended_good= pd.read_parquet(path_data + \"tweets_good_suspended.parquet\", engine=\"fastparquet\")\n",
    "tweets = pd.read_parquet(path_data + \"tweets.parquet\", engine=\"fastparquet\")"
   ]
  },
  {
   "cell_type": "code",
   "execution_count": 4,
   "id": "19d7d7af",
   "metadata": {},
   "outputs": [
    {
     "data": {
      "text/html": [
       "<div>\n",
       "<style scoped>\n",
       "    .dataframe tbody tr th:only-of-type {\n",
       "        vertical-align: middle;\n",
       "    }\n",
       "\n",
       "    .dataframe tbody tr th {\n",
       "        vertical-align: top;\n",
       "    }\n",
       "\n",
       "    .dataframe thead th {\n",
       "        text-align: right;\n",
       "    }\n",
       "</style>\n",
       "<table border=\"1\" class=\"dataframe\">\n",
       "  <thead>\n",
       "    <tr style=\"text-align: right;\">\n",
       "      <th></th>\n",
       "      <th>id</th>\n",
       "      <th>id_str</th>\n",
       "      <th>created_at</th>\n",
       "      <th>user_id</th>\n",
       "      <th>user_screen_name</th>\n",
       "      <th>user_verified</th>\n",
       "      <th>user_created_at</th>\n",
       "      <th>text</th>\n",
       "      <th>source</th>\n",
       "      <th>coordinates</th>\n",
       "      <th>...</th>\n",
       "      <th>quoted_user_created_at</th>\n",
       "      <th>hashtags</th>\n",
       "      <th>symbols</th>\n",
       "      <th>user_mentions</th>\n",
       "      <th>urls</th>\n",
       "      <th>polls</th>\n",
       "      <th>media</th>\n",
       "      <th>user_tweets_count</th>\n",
       "      <th>user_friends_count</th>\n",
       "      <th>user_followers_count</th>\n",
       "    </tr>\n",
       "  </thead>\n",
       "  <tbody>\n",
       "    <tr>\n",
       "      <th>0</th>\n",
       "      <td>1221739084449832960</td>\n",
       "      <td>1221739084449832960</td>\n",
       "      <td>Mon Jan 27 10:17:51 +0000 2020</td>\n",
       "      <td>241972508</td>\n",
       "      <td>planetpaul65</td>\n",
       "      <td>False</td>\n",
       "      <td>Sun Jan 23 16:31:07 +0000 2011</td>\n",
       "      <td>La Memoria è l’unico vaccino contro l’indiffer...</td>\n",
       "      <td>&lt;a href=\"http://twitter.com/download/android\" ...</td>\n",
       "      <td>None</td>\n",
       "      <td>...</td>\n",
       "      <td>None</td>\n",
       "      <td>[{'text': 'GiornatadellaMemoria2020', 'indices...</td>\n",
       "      <td>[]</td>\n",
       "      <td>[{'screen_name': 'isentinelli', 'name': '@isen...</td>\n",
       "      <td>[]</td>\n",
       "      <td>[]</td>\n",
       "      <td>[{'id': 1221708229090127872, 'id_str': '122170...</td>\n",
       "      <td>NaN</td>\n",
       "      <td>NaN</td>\n",
       "      <td>NaN</td>\n",
       "    </tr>\n",
       "    <tr>\n",
       "      <th>1</th>\n",
       "      <td>1221737155380293640</td>\n",
       "      <td>1221737155380293640</td>\n",
       "      <td>Mon Jan 27 10:10:11 +0000 2020</td>\n",
       "      <td>1179711277</td>\n",
       "      <td>Grace_1207</td>\n",
       "      <td>False</td>\n",
       "      <td>Thu Feb 14 16:37:35 +0000 2013</td>\n",
       "      <td>Oggi sono arrivati loro, 3 femminucce e 1 masc...</td>\n",
       "      <td>&lt;a href=\"https://mobile.twitter.com\" rel=\"nofo...</td>\n",
       "      <td>None</td>\n",
       "      <td>...</td>\n",
       "      <td>None</td>\n",
       "      <td>[]</td>\n",
       "      <td>[]</td>\n",
       "      <td>[{'screen_name': 'LidaSezOlbia', 'name': 'Lida...</td>\n",
       "      <td>[]</td>\n",
       "      <td>[]</td>\n",
       "      <td>[]</td>\n",
       "      <td>NaN</td>\n",
       "      <td>NaN</td>\n",
       "      <td>NaN</td>\n",
       "    </tr>\n",
       "    <tr>\n",
       "      <th>2</th>\n",
       "      <td>1221730009989120001</td>\n",
       "      <td>1221730009989120001</td>\n",
       "      <td>Mon Jan 27 09:41:47 +0000 2020</td>\n",
       "      <td>115121530</td>\n",
       "      <td>MarisaMinervini</td>\n",
       "      <td>False</td>\n",
       "      <td>Wed Feb 17 17:40:09 +0000 2010</td>\n",
       "      <td>L'indifferenza è più colpevole della violenza ...</td>\n",
       "      <td>&lt;a href=\"http://twitter.com/download/android\" ...</td>\n",
       "      <td>None</td>\n",
       "      <td>...</td>\n",
       "      <td>None</td>\n",
       "      <td>[]</td>\n",
       "      <td>[]</td>\n",
       "      <td>[{'screen_name': 'milio967', 'name': 'Εμιλιο ♌...</td>\n",
       "      <td>[]</td>\n",
       "      <td>[]</td>\n",
       "      <td>[]</td>\n",
       "      <td>NaN</td>\n",
       "      <td>NaN</td>\n",
       "      <td>NaN</td>\n",
       "    </tr>\n",
       "    <tr>\n",
       "      <th>3</th>\n",
       "      <td>1221737654909382662</td>\n",
       "      <td>1221737654909382662</td>\n",
       "      <td>Mon Jan 27 10:12:10 +0000 2020</td>\n",
       "      <td>589884969</td>\n",
       "      <td>LecceSette</td>\n",
       "      <td>False</td>\n",
       "      <td>Fri May 25 08:09:46 +0000 2012</td>\n",
       "      <td>Minaccia morbillo nel Salento, Asl: \"Vaccinars...</td>\n",
       "      <td>&lt;a href=\"https://ifttt.com\" rel=\"nofollow\"&gt;IFT...</td>\n",
       "      <td>None</td>\n",
       "      <td>...</td>\n",
       "      <td>None</td>\n",
       "      <td>[]</td>\n",
       "      <td>[]</td>\n",
       "      <td>[]</td>\n",
       "      <td>[{'url': 'https://t.co/CY0qiQFk6s', 'expanded_...</td>\n",
       "      <td>[]</td>\n",
       "      <td>[]</td>\n",
       "      <td>NaN</td>\n",
       "      <td>NaN</td>\n",
       "      <td>NaN</td>\n",
       "    </tr>\n",
       "    <tr>\n",
       "      <th>4</th>\n",
       "      <td>1221728980203724801</td>\n",
       "      <td>1221728980203724801</td>\n",
       "      <td>Mon Jan 27 09:37:42 +0000 2020</td>\n",
       "      <td>908731428124397568</td>\n",
       "      <td>arual812</td>\n",
       "      <td>False</td>\n",
       "      <td>Fri Sep 15 16:37:10 +0000 2017</td>\n",
       "      <td>\"Coltivare la Memoria è ancora oggi un vaccino...</td>\n",
       "      <td>&lt;a href=\"http://twitter.com/download/android\" ...</td>\n",
       "      <td>None</td>\n",
       "      <td>...</td>\n",
       "      <td>None</td>\n",
       "      <td>[]</td>\n",
       "      <td>[]</td>\n",
       "      <td>[{'screen_name': 'Annalisa3073', 'name': 'Anna...</td>\n",
       "      <td>[]</td>\n",
       "      <td>[]</td>\n",
       "      <td>[]</td>\n",
       "      <td>NaN</td>\n",
       "      <td>NaN</td>\n",
       "      <td>NaN</td>\n",
       "    </tr>\n",
       "  </tbody>\n",
       "</table>\n",
       "<p>5 rows × 49 columns</p>\n",
       "</div>"
      ],
      "text/plain": [
       "                    id               id_str                      created_at  \\\n",
       "0  1221739084449832960  1221739084449832960  Mon Jan 27 10:17:51 +0000 2020   \n",
       "1  1221737155380293640  1221737155380293640  Mon Jan 27 10:10:11 +0000 2020   \n",
       "2  1221730009989120001  1221730009989120001  Mon Jan 27 09:41:47 +0000 2020   \n",
       "3  1221737654909382662  1221737654909382662  Mon Jan 27 10:12:10 +0000 2020   \n",
       "4  1221728980203724801  1221728980203724801  Mon Jan 27 09:37:42 +0000 2020   \n",
       "\n",
       "              user_id user_screen_name  user_verified  \\\n",
       "0           241972508     planetpaul65          False   \n",
       "1          1179711277       Grace_1207          False   \n",
       "2           115121530  MarisaMinervini          False   \n",
       "3           589884969       LecceSette          False   \n",
       "4  908731428124397568         arual812          False   \n",
       "\n",
       "                  user_created_at  \\\n",
       "0  Sun Jan 23 16:31:07 +0000 2011   \n",
       "1  Thu Feb 14 16:37:35 +0000 2013   \n",
       "2  Wed Feb 17 17:40:09 +0000 2010   \n",
       "3  Fri May 25 08:09:46 +0000 2012   \n",
       "4  Fri Sep 15 16:37:10 +0000 2017   \n",
       "\n",
       "                                                text  \\\n",
       "0  La Memoria è l’unico vaccino contro l’indiffer...   \n",
       "1  Oggi sono arrivati loro, 3 femminucce e 1 masc...   \n",
       "2  L'indifferenza è più colpevole della violenza ...   \n",
       "3  Minaccia morbillo nel Salento, Asl: \"Vaccinars...   \n",
       "4  \"Coltivare la Memoria è ancora oggi un vaccino...   \n",
       "\n",
       "                                              source coordinates  ...  \\\n",
       "0  <a href=\"http://twitter.com/download/android\" ...        None  ...   \n",
       "1  <a href=\"https://mobile.twitter.com\" rel=\"nofo...        None  ...   \n",
       "2  <a href=\"http://twitter.com/download/android\" ...        None  ...   \n",
       "3  <a href=\"https://ifttt.com\" rel=\"nofollow\">IFT...        None  ...   \n",
       "4  <a href=\"http://twitter.com/download/android\" ...        None  ...   \n",
       "\n",
       "   quoted_user_created_at                                           hashtags  \\\n",
       "0                    None  [{'text': 'GiornatadellaMemoria2020', 'indices...   \n",
       "1                    None                                                 []   \n",
       "2                    None                                                 []   \n",
       "3                    None                                                 []   \n",
       "4                    None                                                 []   \n",
       "\n",
       "   symbols                                      user_mentions  \\\n",
       "0       []  [{'screen_name': 'isentinelli', 'name': '@isen...   \n",
       "1       []  [{'screen_name': 'LidaSezOlbia', 'name': 'Lida...   \n",
       "2       []  [{'screen_name': 'milio967', 'name': 'Εμιλιο ♌...   \n",
       "3       []                                                 []   \n",
       "4       []  [{'screen_name': 'Annalisa3073', 'name': 'Anna...   \n",
       "\n",
       "                                                urls polls  \\\n",
       "0                                                 []    []   \n",
       "1                                                 []    []   \n",
       "2                                                 []    []   \n",
       "3  [{'url': 'https://t.co/CY0qiQFk6s', 'expanded_...    []   \n",
       "4                                                 []    []   \n",
       "\n",
       "                                               media  user_tweets_count  \\\n",
       "0  [{'id': 1221708229090127872, 'id_str': '122170...                NaN   \n",
       "1                                                 []                NaN   \n",
       "2                                                 []                NaN   \n",
       "3                                                 []                NaN   \n",
       "4                                                 []                NaN   \n",
       "\n",
       "   user_friends_count  user_followers_count  \n",
       "0                 NaN                   NaN  \n",
       "1                 NaN                   NaN  \n",
       "2                 NaN                   NaN  \n",
       "3                 NaN                   NaN  \n",
       "4                 NaN                   NaN  \n",
       "\n",
       "[5 rows x 49 columns]"
      ]
     },
     "execution_count": 4,
     "metadata": {},
     "output_type": "execute_result"
    }
   ],
   "source": [
    "tweets.head()"
   ]
  },
  {
   "cell_type": "code",
   "execution_count": 7,
   "id": "8540a64b",
   "metadata": {},
   "outputs": [
    {
     "data": {
      "application/vnd.jupyter.widget-view+json": {
       "model_id": "fabe3064f00042598c895d7d84e2da5b",
       "version_major": 2,
       "version_minor": 0
      },
      "text/plain": [
       "HBox(children=(HTML(value=''), FloatProgress(value=0.0, max=1680667.0), HTML(value='')))"
      ]
     },
     "metadata": {},
     "output_type": "display_data"
    },
    {
     "name": "stdout",
     "output_type": "stream",
     "text": [
      "\n"
     ]
    }
   ],
   "source": [
    "x = list(set(tweets[\"text\"]))\n",
    "count = 0\n",
    "lst = []\n",
    "for i in tqdm(x):\n",
    "    lst.append(clean(i))"
   ]
  },
  {
   "cell_type": "code",
   "execution_count": 8,
   "id": "6da426d4",
   "metadata": {},
   "outputs": [
    {
     "data": {
      "text/plain": [
       "1499124"
      ]
     },
     "execution_count": 8,
     "metadata": {},
     "output_type": "execute_result"
    }
   ],
   "source": [
    "x2 = list(set(lst))\n",
    "len(x2)"
   ]
  },
  {
   "cell_type": "code",
   "execution_count": 15,
   "id": "0bbd9759",
   "metadata": {},
   "outputs": [],
   "source": [
    "# pd.DataFrame(x2[1:50], columns=[\"text\"]).to_csv(\"C:/Users/gianl/Desktop/Gi/Supsi/Vaccines_Discussion_Italy/Laura/example.csv\",\n",
    "#                                                line_terminator=\"\\n\", index=False, encoding=\"utf-8\")\n",
    "# esempio = pd.read_csv(\"C:/Users/gianl/Desktop/Gi/Supsi/Vaccines_Discussion_Italy/Laura/texts/example.csv\",\n",
    "#                               lineterminator=\"\\n\", low_memory=False, encoding=\"utf-8\")\n",
    "# esempio"
   ]
  },
  {
   "cell_type": "code",
   "execution_count": 61,
   "id": "997621f8",
   "metadata": {},
   "outputs": [
    {
     "data": {
      "text/plain": [
       "1429748"
      ]
     },
     "execution_count": 61,
     "metadata": {},
     "output_type": "execute_result"
    }
   ],
   "source": [
    "print(len(x2))\n",
    "count = 0\n",
    "for i in x2:\n",
    "    if len(i) < 30:\n",
    "        count = count + 1\n",
    "        print(i)\n",
    "print(count)\n",
    "1499124 - 69376\n",
    "1500000 / 50000"
   ]
  },
  {
   "cell_type": "markdown",
   "id": "2a12e406",
   "metadata": {},
   "source": [
    "# DIfferences between Clean and Dirty text"
   ]
  },
  {
   "cell_type": "code",
   "execution_count": 27,
   "id": "969dfdd3",
   "metadata": {},
   "outputs": [
    {
     "name": "stdout",
     "output_type": "stream",
     "text": [
      "Si dice che il Messia #Draghi ha fatto sentire la sua voce in #Europa, per fortuna era in videoconferenza altrimenti avrebbe menato le mani. 🙄\n",
      "#governodeipeggiori #vaccini #Piazzapulita\n",
      "----------\n"
     ]
    }
   ],
   "source": [
    "print(texts[4])\n",
    "print(\"----------\")\n",
    "x2 = clean(texts[4])\n",
    "print(x2)"
   ]
  },
  {
   "cell_type": "code",
   "execution_count": 29,
   "id": "52513ad7",
   "metadata": {},
   "outputs": [
    {
     "name": "stdout",
     "output_type": "stream",
     "text": [
      "{'TOXICITY': 0.05373499}\n",
      "{'TOXICITY': 0.27045983}\n"
     ]
    }
   ],
   "source": [
    "x = texts[4]\n",
    "p = PerspectiveAPI(api_key=API_KEY)\n",
    "print(p.score(x))\n",
    "print(p.score(x2))"
   ]
  },
  {
   "cell_type": "markdown",
   "id": "0a216b78",
   "metadata": {},
   "source": [
    "# Classification"
   ]
  },
  {
   "cell_type": "code",
   "execution_count": 68,
   "id": "17ea1c3a",
   "metadata": {
    "scrolled": false
   },
   "outputs": [
    {
     "data": {
      "application/vnd.jupyter.widget-view+json": {
       "model_id": "2ae0ed5a3a404289b6ed734d645f7f40",
       "version_major": 2,
       "version_minor": 0
      },
      "text/plain": [
       "HBox(children=(HTML(value=''), FloatProgress(value=0.0, max=10376.0), HTML(value='')))"
      ]
     },
     "metadata": {},
     "output_type": "display_data"
    },
    {
     "name": "stdout",
     "output_type": "stream",
     "text": [
      "Error:  HTTP Error 400: Bad Request\n",
      "Error:  HTTP Error 400: Bad Request\n",
      "Error:  HTTP Error 400: Bad Request\n",
      "Error:  HTTP Error 400: Bad Request\n",
      "Error:  HTTP Error 400: Bad Request\n",
      "Error:  HTTP Error 400: Bad Request\n",
      "\n"
     ]
    },
    {
     "ename": "KeyboardInterrupt",
     "evalue": "",
     "output_type": "error",
     "traceback": [
      "\u001b[1;31m---------------------------------------------------------------------------\u001b[0m",
      "\u001b[1;31mKeyboardInterrupt\u001b[0m                         Traceback (most recent call last)",
      "\u001b[1;32m<ipython-input-68-9383ef4d24d8>\u001b[0m in \u001b[0;36m<module>\u001b[1;34m\u001b[0m\n\u001b[0;32m      2\u001b[0m \u001b[0mresults\u001b[0m \u001b[1;33m=\u001b[0m \u001b[1;33m[\u001b[0m\u001b[1;33m]\u001b[0m\u001b[1;33m\u001b[0m\u001b[1;33m\u001b[0m\u001b[0m\n\u001b[0;32m      3\u001b[0m \u001b[1;32mfor\u001b[0m \u001b[0mi\u001b[0m \u001b[1;32min\u001b[0m \u001b[0mtqdm\u001b[0m\u001b[1;33m(\u001b[0m\u001b[0mtexts\u001b[0m\u001b[1;33m)\u001b[0m\u001b[1;33m:\u001b[0m\u001b[1;33m\u001b[0m\u001b[1;33m\u001b[0m\u001b[0m\n\u001b[1;32m----> 4\u001b[1;33m     \u001b[0mtime\u001b[0m\u001b[1;33m.\u001b[0m\u001b[0msleep\u001b[0m\u001b[1;33m(\u001b[0m\u001b[1;36m1\u001b[0m\u001b[1;33m)\u001b[0m\u001b[1;33m\u001b[0m\u001b[1;33m\u001b[0m\u001b[0m\n\u001b[0m\u001b[0;32m      5\u001b[0m     \u001b[1;32mtry\u001b[0m\u001b[1;33m:\u001b[0m\u001b[1;33m\u001b[0m\u001b[1;33m\u001b[0m\u001b[0m\n\u001b[0;32m      6\u001b[0m         \u001b[0mresult\u001b[0m \u001b[1;33m=\u001b[0m \u001b[0mp\u001b[0m\u001b[1;33m.\u001b[0m\u001b[0mscore\u001b[0m\u001b[1;33m(\u001b[0m\u001b[0mi\u001b[0m\u001b[1;33m)\u001b[0m\u001b[1;33m\u001b[0m\u001b[1;33m\u001b[0m\u001b[0m\n",
      "\u001b[1;31mKeyboardInterrupt\u001b[0m: "
     ]
    }
   ],
   "source": [
    "p = PerspectiveAPI(api_key=API_KEY)\n",
    "results = []\n",
    "for i in tqdm(texts):\n",
    "    time.sleep(1)\n",
    "    try:\n",
    "        result = p.score(i)\n",
    "        results.append(result[\"TOXICITY\"])\n",
    "    except Exception as e:\n",
    "        print(\"Error: \", e)"
   ]
  },
  {
   "cell_type": "code",
   "execution_count": 69,
   "id": "4a28d505",
   "metadata": {},
   "outputs": [
    {
     "data": {
      "text/plain": [
       "0.10648387772184312"
      ]
     },
     "execution_count": 69,
     "metadata": {},
     "output_type": "execute_result"
    }
   ],
   "source": [
    "np.mean(results)"
   ]
  },
  {
   "cell_type": "code",
   "execution_count": 70,
   "id": "a9e18ec9",
   "metadata": {},
   "outputs": [
    {
     "name": "stdout",
     "output_type": "stream",
     "text": [
      "Primi 1000 tweet Good 0.03 Toxicity score\n",
      "Primi 1000 tweet Good susp 0.1 Toxicity score\n",
      "Primi 1000 tweet Bad susp 0.12 Toxicity score\n",
      "Primi 1000 tweet Bad 0.09 Toxicity score\n"
     ]
    }
   ],
   "source": [
    "print(f\"Primi 1000 tweet Good {0.03} Toxicity score\")\n",
    "print(f\"Primi 1000 tweet Good susp {0.10} Toxicity score\")\n",
    "print(f\"Primi 1000 tweet Bad susp {0.12} Toxicity score\")\n",
    "print(f\"Primi 1000 tweet Bad {0.09} Toxicity score\")"
   ]
  },
  {
   "cell_type": "code",
   "execution_count": 79,
   "id": "e2394a4d",
   "metadata": {},
   "outputs": [
    {
     "name": "stdout",
     "output_type": "stream",
     "text": [
      "{\n",
      "  \"attributeScores\": {\n",
      "    \"TOXICITY\": {\n",
      "      \"spanScores\": [\n",
      "        {\n",
      "          \"begin\": 0,\n",
      "          \"end\": 25,\n",
      "          \"score\": {\n",
      "            \"value\": 0.024833864,\n",
      "            \"type\": \"PROBABILITY\"\n",
      "          }\n",
      "        }\n",
      "      ],\n",
      "      \"summaryScore\": {\n",
      "        \"value\": 0.024833864,\n",
      "        \"type\": \"PROBABILITY\"\n",
      "      }\n",
      "    }\n",
      "  },\n",
      "  \"languages\": [\n",
      "    \"it\"\n",
      "  ],\n",
      "  \"detectedLanguages\": [\n",
      "    \"it\"\n",
      "  ]\n",
      "}\n"
     ]
    }
   ],
   "source": [
    "client = discovery.build(\n",
    "  \"commentanalyzer\",\n",
    "  \"v1alpha1\",\n",
    "  developerKey=API_KEY,\n",
    "  discoveryServiceUrl=\"https://commentanalyzer.googleapis.com/$discovery/rest?version=v1alpha1\",\n",
    "  static_discovery=False,\n",
    ")\n",
    "\n",
    "analyze_request = {\n",
    "  'comment': { 'text': \"mario, guarda, sei bravo!\"},\n",
    "  'requestedAttributes': {'TOXICITY': {}}\n",
    "}\n",
    "\n",
    "response = client.comments().analyze(body=analyze_request).execute()\n",
    "print(json.dumps(response, indent=2))"
   ]
  },
  {
   "cell_type": "code",
   "execution_count": null,
   "id": "aa3b7761",
   "metadata": {},
   "outputs": [],
   "source": []
  }
 ],
 "metadata": {
  "kernelspec": {
   "display_name": "Python 3",
   "language": "python",
   "name": "python3"
  },
  "language_info": {
   "codemirror_mode": {
    "name": "ipython",
    "version": 3
   },
   "file_extension": ".py",
   "mimetype": "text/x-python",
   "name": "python",
   "nbconvert_exporter": "python",
   "pygments_lexer": "ipython3",
   "version": "3.8.11"
  }
 },
 "nbformat": 4,
 "nbformat_minor": 5
}
