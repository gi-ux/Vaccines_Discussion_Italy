{
 "cells": [
  {
   "cell_type": "code",
   "execution_count": 3,
   "id": "b2e2c77c",
   "metadata": {},
   "outputs": [],
   "source": [
    "import tweepy\n",
    "import json\n",
    "from perspective import PerspectiveAPI\n",
    "path =\"C:/Users/gianl/Desktop/Gi/Supsi/Vaccines_Discussion_Italy/Laura/Files/\"\n",
    "jsonFile = open('auth.json', 'r')\n",
    "config = json.load(jsonFile)\n",
    "jsonFile.close()\n",
    "API_KEY = config[\"api_key\"]"
   ]
  },
  {
   "cell_type": "code",
   "execution_count": 6,
   "id": "17ea1c3a",
   "metadata": {},
   "outputs": [
    {
     "name": "stdout",
     "output_type": "stream",
     "text": [
      "Toxicity score:  0.7007861\n",
      "General result:  {'TOXICITY': 0.7007861}\n"
     ]
    }
   ],
   "source": [
    "p = PerspectiveAPI(api_key=API_KEY)\n",
    "result = p.score(\"This is a comment\")\n",
    "print(\"Toxicity score: \", result[\"TOXICITY\"])"
   ]
  }
 ],
 "metadata": {
  "kernelspec": {
   "display_name": "Python 3",
   "language": "python",
   "name": "python3"
  },
  "language_info": {
   "codemirror_mode": {
    "name": "ipython",
    "version": 3
   },
   "file_extension": ".py",
   "mimetype": "text/x-python",
   "name": "python",
   "nbconvert_exporter": "python",
   "pygments_lexer": "ipython3",
   "version": "3.8.11"
  }
 },
 "nbformat": 4,
 "nbformat_minor": 5
}
